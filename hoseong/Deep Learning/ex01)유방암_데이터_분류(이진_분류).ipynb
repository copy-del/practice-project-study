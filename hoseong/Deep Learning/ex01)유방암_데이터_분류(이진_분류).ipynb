{
  "nbformat": 4,
  "nbformat_minor": 0,
  "metadata": {
    "colab": {
      "provenance": []
    },
    "kernelspec": {
      "name": "python3",
      "display_name": "Python 3"
    },
    "language_info": {
      "name": "python"
    }
  },
  "cells": [
    {
      "cell_type": "markdown",
      "source": [
        "#### 목표\n",
        "- 유방암 데이터셋 활용 유방암 예측 모델링(이진 분류)"
      ],
      "metadata": {
        "id": "fDxG7YOeR3Oi"
      }
    },
    {
      "cell_type": "code",
      "source": [
        "from google.colab import drive\n",
        "drive.mount('/content/drive')"
      ],
      "metadata": {
        "colab": {
          "base_uri": "https://localhost:8080/"
        },
        "id": "-TjXm-_7SWIJ",
        "outputId": "383069dd-7cea-48f7-d7e7-cee25abec254"
      },
      "execution_count": 1,
      "outputs": [
        {
          "output_type": "stream",
          "name": "stdout",
          "text": [
            "Mounted at /content/drive\n"
          ]
        }
      ]
    },
    {
      "cell_type": "code",
      "source": [
        "import numpy as np\n",
        "import pandas as pd\n",
        "import matplotlib.pyplot as plt\n",
        "\n",
        "from sklearn.datasets import load_breast_cancer # 학습용 자료"
      ],
      "metadata": {
        "id": "pxQUh8sQSVf0"
      },
      "execution_count": 2,
      "outputs": []
    },
    {
      "cell_type": "code",
      "source": [
        "breast_data = load_breast_cancer()\n",
        "breast_data\n",
        "\n",
        "# sklearn 제공 데이터셋\n",
        "# 번치객체(딕셔너리처럼 활용)"
      ],
      "metadata": {
        "colab": {
          "base_uri": "https://localhost:8080/"
        },
        "id": "NQ87_DxTSVWW",
        "outputId": "d9e1ad0b-a33e-43c8-c1b5-3a6b8d611660"
      },
      "execution_count": 3,
      "outputs": [
        {
          "output_type": "execute_result",
          "data": {
            "text/plain": [
              "{'data': array([[1.799e+01, 1.038e+01, 1.228e+02, ..., 2.654e-01, 4.601e-01,\n",
              "         1.189e-01],\n",
              "        [2.057e+01, 1.777e+01, 1.329e+02, ..., 1.860e-01, 2.750e-01,\n",
              "         8.902e-02],\n",
              "        [1.969e+01, 2.125e+01, 1.300e+02, ..., 2.430e-01, 3.613e-01,\n",
              "         8.758e-02],\n",
              "        ...,\n",
              "        [1.660e+01, 2.808e+01, 1.083e+02, ..., 1.418e-01, 2.218e-01,\n",
              "         7.820e-02],\n",
              "        [2.060e+01, 2.933e+01, 1.401e+02, ..., 2.650e-01, 4.087e-01,\n",
              "         1.240e-01],\n",
              "        [7.760e+00, 2.454e+01, 4.792e+01, ..., 0.000e+00, 2.871e-01,\n",
              "         7.039e-02]]),\n",
              " 'target': array([0, 0, 0, 0, 0, 0, 0, 0, 0, 0, 0, 0, 0, 0, 0, 0, 0, 0, 0, 1, 1, 1,\n",
              "        0, 0, 0, 0, 0, 0, 0, 0, 0, 0, 0, 0, 0, 0, 0, 1, 0, 0, 0, 0, 0, 0,\n",
              "        0, 0, 1, 0, 1, 1, 1, 1, 1, 0, 0, 1, 0, 0, 1, 1, 1, 1, 0, 1, 0, 0,\n",
              "        1, 1, 1, 1, 0, 1, 0, 0, 1, 0, 1, 0, 0, 1, 1, 1, 0, 0, 1, 0, 0, 0,\n",
              "        1, 1, 1, 0, 1, 1, 0, 0, 1, 1, 1, 0, 0, 1, 1, 1, 1, 0, 1, 1, 0, 1,\n",
              "        1, 1, 1, 1, 1, 1, 1, 0, 0, 0, 1, 0, 0, 1, 1, 1, 0, 0, 1, 0, 1, 0,\n",
              "        0, 1, 0, 0, 1, 1, 0, 1, 1, 0, 1, 1, 1, 1, 0, 1, 1, 1, 1, 1, 1, 1,\n",
              "        1, 1, 0, 1, 1, 1, 1, 0, 0, 1, 0, 1, 1, 0, 0, 1, 1, 0, 0, 1, 1, 1,\n",
              "        1, 0, 1, 1, 0, 0, 0, 1, 0, 1, 0, 1, 1, 1, 0, 1, 1, 0, 0, 1, 0, 0,\n",
              "        0, 0, 1, 0, 0, 0, 1, 0, 1, 0, 1, 1, 0, 1, 0, 0, 0, 0, 1, 1, 0, 0,\n",
              "        1, 1, 1, 0, 1, 1, 1, 1, 1, 0, 0, 1, 1, 0, 1, 1, 0, 0, 1, 0, 1, 1,\n",
              "        1, 1, 0, 1, 1, 1, 1, 1, 0, 1, 0, 0, 0, 0, 0, 0, 0, 0, 0, 0, 0, 0,\n",
              "        0, 0, 1, 1, 1, 1, 1, 1, 0, 1, 0, 1, 1, 0, 1, 1, 0, 1, 0, 0, 1, 1,\n",
              "        1, 1, 1, 1, 1, 1, 1, 1, 1, 1, 1, 0, 1, 1, 0, 1, 0, 1, 1, 1, 1, 1,\n",
              "        1, 1, 1, 1, 1, 1, 1, 1, 1, 0, 1, 1, 1, 0, 1, 0, 1, 1, 1, 1, 0, 0,\n",
              "        0, 1, 1, 1, 1, 0, 1, 0, 1, 0, 1, 1, 1, 0, 1, 1, 1, 1, 1, 1, 1, 0,\n",
              "        0, 0, 1, 1, 1, 1, 1, 1, 1, 1, 1, 1, 1, 0, 0, 1, 0, 0, 0, 1, 0, 0,\n",
              "        1, 1, 1, 1, 1, 0, 1, 1, 1, 1, 1, 0, 1, 1, 1, 0, 1, 1, 0, 0, 1, 1,\n",
              "        1, 1, 1, 1, 0, 1, 1, 1, 1, 1, 1, 1, 0, 1, 1, 1, 1, 1, 0, 1, 1, 0,\n",
              "        1, 1, 1, 1, 1, 1, 1, 1, 1, 1, 1, 1, 0, 1, 0, 0, 1, 0, 1, 1, 1, 1,\n",
              "        1, 0, 1, 1, 0, 1, 0, 1, 1, 0, 1, 0, 1, 1, 1, 1, 1, 1, 1, 1, 0, 0,\n",
              "        1, 1, 1, 1, 1, 1, 0, 1, 1, 1, 1, 1, 1, 1, 1, 1, 1, 0, 1, 1, 1, 1,\n",
              "        1, 1, 1, 0, 1, 0, 1, 1, 0, 1, 1, 1, 1, 1, 0, 0, 1, 0, 1, 0, 1, 1,\n",
              "        1, 1, 1, 0, 1, 1, 0, 1, 0, 1, 0, 0, 1, 1, 1, 0, 1, 1, 1, 1, 1, 1,\n",
              "        1, 1, 1, 1, 1, 0, 1, 0, 0, 1, 1, 1, 1, 1, 1, 1, 1, 1, 1, 1, 1, 1,\n",
              "        1, 1, 1, 1, 1, 1, 1, 1, 1, 1, 1, 1, 0, 0, 0, 0, 0, 0, 1]),\n",
              " 'frame': None,\n",
              " 'target_names': array(['malignant', 'benign'], dtype='<U9'),\n",
              " 'DESCR': '.. _breast_cancer_dataset:\\n\\nBreast cancer wisconsin (diagnostic) dataset\\n--------------------------------------------\\n\\n**Data Set Characteristics:**\\n\\n:Number of Instances: 569\\n\\n:Number of Attributes: 30 numeric, predictive attributes and the class\\n\\n:Attribute Information:\\n    - radius (mean of distances from center to points on the perimeter)\\n    - texture (standard deviation of gray-scale values)\\n    - perimeter\\n    - area\\n    - smoothness (local variation in radius lengths)\\n    - compactness (perimeter^2 / area - 1.0)\\n    - concavity (severity of concave portions of the contour)\\n    - concave points (number of concave portions of the contour)\\n    - symmetry\\n    - fractal dimension (\"coastline approximation\" - 1)\\n\\n    The mean, standard error, and \"worst\" or largest (mean of the three\\n    worst/largest values) of these features were computed for each image,\\n    resulting in 30 features.  For instance, field 0 is Mean Radius, field\\n    10 is Radius SE, field 20 is Worst Radius.\\n\\n    - class:\\n            - WDBC-Malignant\\n            - WDBC-Benign\\n\\n:Summary Statistics:\\n\\n===================================== ====== ======\\n                                        Min    Max\\n===================================== ====== ======\\nradius (mean):                        6.981  28.11\\ntexture (mean):                       9.71   39.28\\nperimeter (mean):                     43.79  188.5\\narea (mean):                          143.5  2501.0\\nsmoothness (mean):                    0.053  0.163\\ncompactness (mean):                   0.019  0.345\\nconcavity (mean):                     0.0    0.427\\nconcave points (mean):                0.0    0.201\\nsymmetry (mean):                      0.106  0.304\\nfractal dimension (mean):             0.05   0.097\\nradius (standard error):              0.112  2.873\\ntexture (standard error):             0.36   4.885\\nperimeter (standard error):           0.757  21.98\\narea (standard error):                6.802  542.2\\nsmoothness (standard error):          0.002  0.031\\ncompactness (standard error):         0.002  0.135\\nconcavity (standard error):           0.0    0.396\\nconcave points (standard error):      0.0    0.053\\nsymmetry (standard error):            0.008  0.079\\nfractal dimension (standard error):   0.001  0.03\\nradius (worst):                       7.93   36.04\\ntexture (worst):                      12.02  49.54\\nperimeter (worst):                    50.41  251.2\\narea (worst):                         185.2  4254.0\\nsmoothness (worst):                   0.071  0.223\\ncompactness (worst):                  0.027  1.058\\nconcavity (worst):                    0.0    1.252\\nconcave points (worst):               0.0    0.291\\nsymmetry (worst):                     0.156  0.664\\nfractal dimension (worst):            0.055  0.208\\n===================================== ====== ======\\n\\n:Missing Attribute Values: None\\n\\n:Class Distribution: 212 - Malignant, 357 - Benign\\n\\n:Creator:  Dr. William H. Wolberg, W. Nick Street, Olvi L. Mangasarian\\n\\n:Donor: Nick Street\\n\\n:Date: November, 1995\\n\\nThis is a copy of UCI ML Breast Cancer Wisconsin (Diagnostic) datasets.\\nhttps://goo.gl/U2Uwz2\\n\\nFeatures are computed from a digitized image of a fine needle\\naspirate (FNA) of a breast mass.  They describe\\ncharacteristics of the cell nuclei present in the image.\\n\\nSeparating plane described above was obtained using\\nMultisurface Method-Tree (MSM-T) [K. P. Bennett, \"Decision Tree\\nConstruction Via Linear Programming.\" Proceedings of the 4th\\nMidwest Artificial Intelligence and Cognitive Science Society,\\npp. 97-101, 1992], a classification method which uses linear\\nprogramming to construct a decision tree.  Relevant features\\nwere selected using an exhaustive search in the space of 1-4\\nfeatures and 1-3 separating planes.\\n\\nThe actual linear program used to obtain the separating plane\\nin the 3-dimensional space is that described in:\\n[K. P. Bennett and O. L. Mangasarian: \"Robust Linear\\nProgramming Discrimination of Two Linearly Inseparable Sets\",\\nOptimization Methods and Software 1, 1992, 23-34].\\n\\nThis database is also available through the UW CS ftp server:\\n\\nftp ftp.cs.wisc.edu\\ncd math-prog/cpo-dataset/machine-learn/WDBC/\\n\\n.. dropdown:: References\\n\\n  - W.N. Street, W.H. Wolberg and O.L. Mangasarian. Nuclear feature extraction\\n    for breast tumor diagnosis. IS&T/SPIE 1993 International Symposium on\\n    Electronic Imaging: Science and Technology, volume 1905, pages 861-870,\\n    San Jose, CA, 1993.\\n  - O.L. Mangasarian, W.N. Street and W.H. Wolberg. Breast cancer diagnosis and\\n    prognosis via linear programming. Operations Research, 43(4), pages 570-577,\\n    July-August 1995.\\n  - W.H. Wolberg, W.N. Street, and O.L. Mangasarian. Machine learning techniques\\n    to diagnose breast cancer from fine-needle aspirates. Cancer Letters 77 (1994)\\n    163-171.\\n',\n",
              " 'feature_names': array(['mean radius', 'mean texture', 'mean perimeter', 'mean area',\n",
              "        'mean smoothness', 'mean compactness', 'mean concavity',\n",
              "        'mean concave points', 'mean symmetry', 'mean fractal dimension',\n",
              "        'radius error', 'texture error', 'perimeter error', 'area error',\n",
              "        'smoothness error', 'compactness error', 'concavity error',\n",
              "        'concave points error', 'symmetry error',\n",
              "        'fractal dimension error', 'worst radius', 'worst texture',\n",
              "        'worst perimeter', 'worst area', 'worst smoothness',\n",
              "        'worst compactness', 'worst concavity', 'worst concave points',\n",
              "        'worst symmetry', 'worst fractal dimension'], dtype='<U23'),\n",
              " 'filename': 'breast_cancer.csv',\n",
              " 'data_module': 'sklearn.datasets.data'}"
            ]
          },
          "metadata": {},
          "execution_count": 3
        }
      ]
    },
    {
      "cell_type": "code",
      "source": [
        "# 유방암 데이터에서 키값 확인\n",
        "breast_data.keys()\n",
        "# data : X (입력특성)\n",
        "# target : y (정답데이터)\n",
        "# target_names : 정답 클래스명\n",
        "# feature_name : 특성명(컬럼명)\n",
        "# DESCR : 데이터 설명"
      ],
      "metadata": {
        "colab": {
          "base_uri": "https://localhost:8080/"
        },
        "id": "hvGz4u24R_px",
        "outputId": "3206a161-38f0-449f-8ffb-5492c76a50a4"
      },
      "execution_count": 4,
      "outputs": [
        {
          "output_type": "execute_result",
          "data": {
            "text/plain": [
              "dict_keys(['data', 'target', 'frame', 'target_names', 'DESCR', 'feature_names', 'filename', 'data_module'])"
            ]
          },
          "metadata": {},
          "execution_count": 4
        }
      ]
    },
    {
      "cell_type": "code",
      "source": [
        "breast_data.target # 번치데이터는 []없이 .으로 실행 가능"
      ],
      "metadata": {
        "colab": {
          "base_uri": "https://localhost:8080/"
        },
        "id": "yXekyEedR_sB",
        "outputId": "c0d17055-fd6d-423c-864d-5b781881b738"
      },
      "execution_count": 7,
      "outputs": [
        {
          "output_type": "execute_result",
          "data": {
            "text/plain": [
              "array([0, 0, 0, 0, 0, 0, 0, 0, 0, 0, 0, 0, 0, 0, 0, 0, 0, 0, 0, 1, 1, 1,\n",
              "       0, 0, 0, 0, 0, 0, 0, 0, 0, 0, 0, 0, 0, 0, 0, 1, 0, 0, 0, 0, 0, 0,\n",
              "       0, 0, 1, 0, 1, 1, 1, 1, 1, 0, 0, 1, 0, 0, 1, 1, 1, 1, 0, 1, 0, 0,\n",
              "       1, 1, 1, 1, 0, 1, 0, 0, 1, 0, 1, 0, 0, 1, 1, 1, 0, 0, 1, 0, 0, 0,\n",
              "       1, 1, 1, 0, 1, 1, 0, 0, 1, 1, 1, 0, 0, 1, 1, 1, 1, 0, 1, 1, 0, 1,\n",
              "       1, 1, 1, 1, 1, 1, 1, 0, 0, 0, 1, 0, 0, 1, 1, 1, 0, 0, 1, 0, 1, 0,\n",
              "       0, 1, 0, 0, 1, 1, 0, 1, 1, 0, 1, 1, 1, 1, 0, 1, 1, 1, 1, 1, 1, 1,\n",
              "       1, 1, 0, 1, 1, 1, 1, 0, 0, 1, 0, 1, 1, 0, 0, 1, 1, 0, 0, 1, 1, 1,\n",
              "       1, 0, 1, 1, 0, 0, 0, 1, 0, 1, 0, 1, 1, 1, 0, 1, 1, 0, 0, 1, 0, 0,\n",
              "       0, 0, 1, 0, 0, 0, 1, 0, 1, 0, 1, 1, 0, 1, 0, 0, 0, 0, 1, 1, 0, 0,\n",
              "       1, 1, 1, 0, 1, 1, 1, 1, 1, 0, 0, 1, 1, 0, 1, 1, 0, 0, 1, 0, 1, 1,\n",
              "       1, 1, 0, 1, 1, 1, 1, 1, 0, 1, 0, 0, 0, 0, 0, 0, 0, 0, 0, 0, 0, 0,\n",
              "       0, 0, 1, 1, 1, 1, 1, 1, 0, 1, 0, 1, 1, 0, 1, 1, 0, 1, 0, 0, 1, 1,\n",
              "       1, 1, 1, 1, 1, 1, 1, 1, 1, 1, 1, 0, 1, 1, 0, 1, 0, 1, 1, 1, 1, 1,\n",
              "       1, 1, 1, 1, 1, 1, 1, 1, 1, 0, 1, 1, 1, 0, 1, 0, 1, 1, 1, 1, 0, 0,\n",
              "       0, 1, 1, 1, 1, 0, 1, 0, 1, 0, 1, 1, 1, 0, 1, 1, 1, 1, 1, 1, 1, 0,\n",
              "       0, 0, 1, 1, 1, 1, 1, 1, 1, 1, 1, 1, 1, 0, 0, 1, 0, 0, 0, 1, 0, 0,\n",
              "       1, 1, 1, 1, 1, 0, 1, 1, 1, 1, 1, 0, 1, 1, 1, 0, 1, 1, 0, 0, 1, 1,\n",
              "       1, 1, 1, 1, 0, 1, 1, 1, 1, 1, 1, 1, 0, 1, 1, 1, 1, 1, 0, 1, 1, 0,\n",
              "       1, 1, 1, 1, 1, 1, 1, 1, 1, 1, 1, 1, 0, 1, 0, 0, 1, 0, 1, 1, 1, 1,\n",
              "       1, 0, 1, 1, 0, 1, 0, 1, 1, 0, 1, 0, 1, 1, 1, 1, 1, 1, 1, 1, 0, 0,\n",
              "       1, 1, 1, 1, 1, 1, 0, 1, 1, 1, 1, 1, 1, 1, 1, 1, 1, 0, 1, 1, 1, 1,\n",
              "       1, 1, 1, 0, 1, 0, 1, 1, 0, 1, 1, 1, 1, 1, 0, 0, 1, 0, 1, 0, 1, 1,\n",
              "       1, 1, 1, 0, 1, 1, 0, 1, 0, 1, 0, 0, 1, 1, 1, 0, 1, 1, 1, 1, 1, 1,\n",
              "       1, 1, 1, 1, 1, 0, 1, 0, 0, 1, 1, 1, 1, 1, 1, 1, 1, 1, 1, 1, 1, 1,\n",
              "       1, 1, 1, 1, 1, 1, 1, 1, 1, 1, 1, 1, 0, 0, 0, 0, 0, 0, 1])"
            ]
          },
          "metadata": {},
          "execution_count": 7
        }
      ]
    },
    {
      "cell_type": "code",
      "source": [
        "breast_data.feature_names"
      ],
      "metadata": {
        "id": "RWkzclU2R_u4",
        "colab": {
          "base_uri": "https://localhost:8080/"
        },
        "outputId": "be10cd6d-a7b9-476f-8ff3-e89aa91911f6"
      },
      "execution_count": 6,
      "outputs": [
        {
          "output_type": "execute_result",
          "data": {
            "text/plain": [
              "array(['mean radius', 'mean texture', 'mean perimeter', 'mean area',\n",
              "       'mean smoothness', 'mean compactness', 'mean concavity',\n",
              "       'mean concave points', 'mean symmetry', 'mean fractal dimension',\n",
              "       'radius error', 'texture error', 'perimeter error', 'area error',\n",
              "       'smoothness error', 'compactness error', 'concavity error',\n",
              "       'concave points error', 'symmetry error',\n",
              "       'fractal dimension error', 'worst radius', 'worst texture',\n",
              "       'worst perimeter', 'worst area', 'worst smoothness',\n",
              "       'worst compactness', 'worst concavity', 'worst concave points',\n",
              "       'worst symmetry', 'worst fractal dimension'], dtype='<U23')"
            ]
          },
          "metadata": {},
          "execution_count": 6
        }
      ]
    },
    {
      "cell_type": "code",
      "source": [
        "# X, y 데이터 분리\n",
        "X = breast_data.data\n",
        "y = breast_data.target\n",
        "X.shape, y.shape"
      ],
      "metadata": {
        "colab": {
          "base_uri": "https://localhost:8080/"
        },
        "id": "YV16bSY7R_4R",
        "outputId": "e17e5084-1dd1-4ab2-ba1e-33ae7c3852ef"
      },
      "execution_count": 8,
      "outputs": [
        {
          "output_type": "execute_result",
          "data": {
            "text/plain": [
              "((569, 30), (569,))"
            ]
          },
          "metadata": {},
          "execution_count": 8
        }
      ]
    },
    {
      "cell_type": "code",
      "source": [
        "pd.Series(y).value_counts()\n",
        "# 1 : 양성\n",
        "# 0 : 음성"
      ],
      "metadata": {
        "colab": {
          "base_uri": "https://localhost:8080/",
          "height": 147
        },
        "id": "e5BgIOGNR_60",
        "outputId": "698fcd85-c121-44ef-ae32-95f7b92d67ee"
      },
      "execution_count": 11,
      "outputs": [
        {
          "output_type": "execute_result",
          "data": {
            "text/plain": [
              "1    357\n",
              "0    212\n",
              "Name: count, dtype: int64"
            ],
            "text/html": [
              "<div>\n",
              "<style scoped>\n",
              "    .dataframe tbody tr th:only-of-type {\n",
              "        vertical-align: middle;\n",
              "    }\n",
              "\n",
              "    .dataframe tbody tr th {\n",
              "        vertical-align: top;\n",
              "    }\n",
              "\n",
              "    .dataframe thead th {\n",
              "        text-align: right;\n",
              "    }\n",
              "</style>\n",
              "<table border=\"1\" class=\"dataframe\">\n",
              "  <thead>\n",
              "    <tr style=\"text-align: right;\">\n",
              "      <th></th>\n",
              "      <th>count</th>\n",
              "    </tr>\n",
              "  </thead>\n",
              "  <tbody>\n",
              "    <tr>\n",
              "      <th>1</th>\n",
              "      <td>357</td>\n",
              "    </tr>\n",
              "    <tr>\n",
              "      <th>0</th>\n",
              "      <td>212</td>\n",
              "    </tr>\n",
              "  </tbody>\n",
              "</table>\n",
              "</div><br><label><b>dtype:</b> int64</label>"
            ]
          },
          "metadata": {},
          "execution_count": 11
        }
      ]
    },
    {
      "cell_type": "code",
      "source": [
        "# 비율\n",
        "pd.Series(y).value_counts(normalize=True)"
      ],
      "metadata": {
        "id": "mUinmroDR_9d"
      },
      "execution_count": null,
      "outputs": []
    },
    {
      "cell_type": "code",
      "source": [
        "# train, test 데이터로 분리\n",
        "from sklearn.model_selection import train_test_split\n",
        "X_train, X_test, y_train, y_test = train_test_split(X, y,\n",
        "                                                    test_size=0.3,\n",
        "                                                    stratify = y,\n",
        "                                                    random_state=1)\n",
        "# stratify = y : train과 test데이터 클래스 비율을 동일하게 유지하여 분할"
      ],
      "metadata": {
        "id": "2H6pFocwSAAX"
      },
      "execution_count": 12,
      "outputs": []
    },
    {
      "cell_type": "markdown",
      "source": [
        "1. 문제정의\n",
        "2. 데이터 수집\n",
        "3. 데이터 전처리\n",
        "4. 탐색적 데이터 분석\n",
        "5. 모델선택, 하이퍼파라미터 분석\n",
        "6. 학습\n",
        "7. 평가"
      ],
      "metadata": {
        "id": "Svyv5-xtSADD"
      }
    },
    {
      "cell_type": "markdown",
      "source": [
        "머신러닝은 3~4단게에 시간을 집중적으로 사용함\n",
        "  - 특성 공학은 머신러닝 학습과정 자체에서는 불가능\n",
        "- 딥러닝의 경우 딥러닝 자체에서 특성공학이 가능\n",
        "  - 3,4단계 이상치, 결측치 제거 등의 과정이 짦다"
      ],
      "metadata": {
        "id": "ymoENQnQSAF4"
      }
    },
    {
      "cell_type": "code",
      "source": [
        "# 도구 불러오기\n",
        "from tensorflow.keras.models import Sequential # 러닝 모델 뼈대\n",
        "from tensorflow.keras.layers import InputLayer, Dense # 딥러닝 모데 세부서계 (층)"
      ],
      "metadata": {
        "id": "K8cvYGpTSAIS"
      },
      "execution_count": 13,
      "outputs": []
    },
    {
      "cell_type": "markdown",
      "source": [],
      "metadata": {
        "id": "DlrwXzLtoV_H"
      }
    },
    {
      "cell_type": "code",
      "source": [
        "import tensorflow as tf\n",
        "print(tf.__version__)"
      ],
      "metadata": {
        "colab": {
          "base_uri": "https://localhost:8080/"
        },
        "id": "Jg2Par9USALu",
        "outputId": "480260ae-87b0-41ca-d78d-68cf0c410726"
      },
      "execution_count": 15,
      "outputs": [
        {
          "output_type": "stream",
          "name": "stdout",
          "text": [
            "2.18.0\n"
          ]
        }
      ]
    },
    {
      "cell_type": "markdown",
      "source": [
        "- 각 층에서 뉴런의 개수를 정하는데, 몇가지 일반적인 가인드라인 존재\n",
        "- 하지만 최적의 뉴런 개수는 문제의 특성, 데이터의 특성, 모델의 목적에 따라 달라 질 수 있음\n",
        "\n",
        "- 뉴런의 개수의 참고용 기준\n",
        "  - 입력특성의 개수가 많은 경우, 첫번째 은닉층의 뉴선 수를 더 크게 설정\n",
        "  - 고차원 데이터의 경우, 더 많은 뉴런이 필요할 수 있다.\n",
        "  - 은닉층의 개수를 늘리면, 복잡한 패턴을 학습하는데 도움이 될 수 있지만, 과대적합이 발생할 수 있음."
      ],
      "metadata": {
        "id": "NM2YfK_tSAOC"
      }
    },
    {
      "cell_type": "markdown",
      "source": [
        "### 일반적인 경험적 규칙\n",
        "- 첫번째 은닉층 : 입력 특성과 유사한 개수의 뉴런으로 시작\n",
        "- 은닉층의 뉴런 수 줄이기 : 보통 첫번째 / 은닉충 이후의 층에서 뉴런 수를 점진적으로 줄이는 방법을 사용\n",
        "- 과대적합방지 : 뉴런의 수가 너무 많으면, 과대적합의 위험성이 있으므로, 적절한 정규화기법(L1, L2 정규화) 사용 가능\n",
        "\n",
        "- 교차 검증\n",
        "- 그리드 서치\n",
        "- 조기 종료"
      ],
      "metadata": {
        "id": "28r0L0TuSARP"
      }
    },
    {
      "cell_type": "code",
      "source": [
        "model = Sequential()\n",
        "\n",
        "# 입력층 : Sequntial에 쌓은 첫번째 층, 뉴런수는 특성의 개수\n",
        "model.add(InputLayer(shape=(30,)))\n",
        "\n",
        "# 다층퍼셉트론 구현\n",
        "# 은닉층(중간층) : 입력층과 출력층을 제외한 다른 모든 층\n",
        "model.add(Dense(units=64, activation='sigmoid'))\n",
        "model.add(Dense(units=32, activation='sigmoid'))\n",
        "model.add(Dense(units=32, activation='sigmoid'))\n",
        "model.add(Dense(units=32, activation='sigmoid'))\n",
        "model.add(Dense(units=32, activation='sigmoid'))\n",
        "model.add(Dense(units=32, activation='sigmoid'))\n",
        "# 뉴런 개수를 정하는 특별한 기준은 없음\n",
        "# 층을 구성하는데에는 상당한 경험이 필요함\n",
        "\n",
        "# 일반적인 경험에 의하면, 효율적인 방법이 있음\n",
        "# 항아리 모양 : 입력층 32 > 2층 64 > 3층 32 > 4층 16 > 출력층 1\n",
        "\n",
        "# 출력층 : 가장 마지막에 있는 층, 결과를 종합하는 층 / unit 수 = 예측하고 싶은 수(각각의 확률값)\n",
        "# 출력층에서 사용하는 활성화 함수\n",
        "# 이진분류 = sigmoid\n",
        "# 다중분류 = softmax(각각의 확률)\n",
        "# 회귀 = linear\n",
        "model.add(Dense(units=1, activation='sigmoid'))"
      ],
      "metadata": {
        "id": "mwflDm8kSAUN"
      },
      "execution_count": 20,
      "outputs": []
    },
    {
      "cell_type": "code",
      "source": [
        "# 학습 방법 및 평가 방법 설정\n",
        "model.compile(loss='binary_crossentropy',\n",
        "              optimizer = 'SGD', # 최적화 방법 : 확률적 경사하강법\n",
        "              metrics=['accuracy'])"
      ],
      "metadata": {
        "id": "79HbnCTzSAXV"
      },
      "execution_count": 23,
      "outputs": []
    },
    {
      "cell_type": "code",
      "source": [
        "# 모델 학습\n",
        "h = model.fit(X_train, y_train,\n",
        "              validation_split = 0.3,\n",
        "              epochs = 100) # 반복 학습 횟수"
      ],
      "metadata": {
        "colab": {
          "base_uri": "https://localhost:8080/"
        },
        "collapsed": true,
        "id": "6nwdJsvSSAad",
        "outputId": "75d46c1f-0af7-4c49-89c9-a0c50eaab6e6"
      },
      "execution_count": 24,
      "outputs": [
        {
          "output_type": "stream",
          "name": "stdout",
          "text": [
            "Epoch 1/100\n",
            "\u001b[1m9/9\u001b[0m \u001b[32m━━━━━━━━━━━━━━━━━━━━\u001b[0m\u001b[37m\u001b[0m \u001b[1m2s\u001b[0m 48ms/step - accuracy: 0.6231 - loss: 0.6788 - val_accuracy: 0.6500 - val_loss: 0.6516\n",
            "Epoch 2/100\n",
            "\u001b[1m9/9\u001b[0m \u001b[32m━━━━━━━━━━━━━━━━━━━━\u001b[0m\u001b[37m\u001b[0m \u001b[1m0s\u001b[0m 12ms/step - accuracy: 0.6079 - loss: 0.6849 - val_accuracy: 0.6500 - val_loss: 0.6493\n",
            "Epoch 3/100\n",
            "\u001b[1m9/9\u001b[0m \u001b[32m━━━━━━━━━━━━━━━━━━━━\u001b[0m\u001b[37m\u001b[0m \u001b[1m0s\u001b[0m 16ms/step - accuracy: 0.6586 - loss: 0.6427 - val_accuracy: 0.6500 - val_loss: 0.6481\n",
            "Epoch 4/100\n",
            "\u001b[1m9/9\u001b[0m \u001b[32m━━━━━━━━━━━━━━━━━━━━\u001b[0m\u001b[37m\u001b[0m \u001b[1m0s\u001b[0m 12ms/step - accuracy: 0.6322 - loss: 0.6601 - val_accuracy: 0.6500 - val_loss: 0.6476\n",
            "Epoch 5/100\n",
            "\u001b[1m9/9\u001b[0m \u001b[32m━━━━━━━━━━━━━━━━━━━━\u001b[0m\u001b[37m\u001b[0m \u001b[1m0s\u001b[0m 11ms/step - accuracy: 0.6033 - loss: 0.6778 - val_accuracy: 0.6500 - val_loss: 0.6475\n",
            "Epoch 6/100\n",
            "\u001b[1m9/9\u001b[0m \u001b[32m━━━━━━━━━━━━━━━━━━━━\u001b[0m\u001b[37m\u001b[0m \u001b[1m0s\u001b[0m 12ms/step - accuracy: 0.6603 - loss: 0.6412 - val_accuracy: 0.6500 - val_loss: 0.6477\n",
            "Epoch 7/100\n",
            "\u001b[1m9/9\u001b[0m \u001b[32m━━━━━━━━━━━━━━━━━━━━\u001b[0m\u001b[37m\u001b[0m \u001b[1m0s\u001b[0m 12ms/step - accuracy: 0.6292 - loss: 0.6599 - val_accuracy: 0.6500 - val_loss: 0.6479\n",
            "Epoch 8/100\n",
            "\u001b[1m9/9\u001b[0m \u001b[32m━━━━━━━━━━━━━━━━━━━━\u001b[0m\u001b[37m\u001b[0m \u001b[1m0s\u001b[0m 12ms/step - accuracy: 0.5706 - loss: 0.6922 - val_accuracy: 0.6500 - val_loss: 0.6480\n",
            "Epoch 9/100\n",
            "\u001b[1m9/9\u001b[0m \u001b[32m━━━━━━━━━━━━━━━━━━━━\u001b[0m\u001b[37m\u001b[0m \u001b[1m0s\u001b[0m 12ms/step - accuracy: 0.5935 - loss: 0.6794 - val_accuracy: 0.6500 - val_loss: 0.6483\n",
            "Epoch 10/100\n",
            "\u001b[1m9/9\u001b[0m \u001b[32m━━━━━━━━━━━━━━━━━━━━\u001b[0m\u001b[37m\u001b[0m \u001b[1m0s\u001b[0m 12ms/step - accuracy: 0.6097 - loss: 0.6701 - val_accuracy: 0.6500 - val_loss: 0.6485\n",
            "Epoch 11/100\n",
            "\u001b[1m9/9\u001b[0m \u001b[32m━━━━━━━━━━━━━━━━━━━━\u001b[0m\u001b[37m\u001b[0m \u001b[1m0s\u001b[0m 12ms/step - accuracy: 0.6218 - loss: 0.6633 - val_accuracy: 0.6500 - val_loss: 0.6487\n",
            "Epoch 12/100\n",
            "\u001b[1m9/9\u001b[0m \u001b[32m━━━━━━━━━━━━━━━━━━━━\u001b[0m\u001b[37m\u001b[0m \u001b[1m0s\u001b[0m 16ms/step - accuracy: 0.5717 - loss: 0.6891 - val_accuracy: 0.6500 - val_loss: 0.6486\n",
            "Epoch 13/100\n",
            "\u001b[1m9/9\u001b[0m \u001b[32m━━━━━━━━━━━━━━━━━━━━\u001b[0m\u001b[37m\u001b[0m \u001b[1m0s\u001b[0m 20ms/step - accuracy: 0.6265 - loss: 0.6608 - val_accuracy: 0.6500 - val_loss: 0.6488\n",
            "Epoch 14/100\n",
            "\u001b[1m9/9\u001b[0m \u001b[32m━━━━━━━━━━━━━━━━━━━━\u001b[0m\u001b[37m\u001b[0m \u001b[1m0s\u001b[0m 19ms/step - accuracy: 0.6330 - loss: 0.6576 - val_accuracy: 0.6500 - val_loss: 0.6489\n",
            "Epoch 15/100\n",
            "\u001b[1m9/9\u001b[0m \u001b[32m━━━━━━━━━━━━━━━━━━━━\u001b[0m\u001b[37m\u001b[0m \u001b[1m0s\u001b[0m 17ms/step - accuracy: 0.6043 - loss: 0.6725 - val_accuracy: 0.6500 - val_loss: 0.6490\n",
            "Epoch 16/100\n",
            "\u001b[1m9/9\u001b[0m \u001b[32m━━━━━━━━━━━━━━━━━━━━\u001b[0m\u001b[37m\u001b[0m \u001b[1m0s\u001b[0m 17ms/step - accuracy: 0.5832 - loss: 0.6830 - val_accuracy: 0.6500 - val_loss: 0.6490\n",
            "Epoch 17/100\n",
            "\u001b[1m9/9\u001b[0m \u001b[32m━━━━━━━━━━━━━━━━━━━━\u001b[0m\u001b[37m\u001b[0m \u001b[1m0s\u001b[0m 16ms/step - accuracy: 0.6342 - loss: 0.6571 - val_accuracy: 0.6500 - val_loss: 0.6492\n",
            "Epoch 18/100\n",
            "\u001b[1m9/9\u001b[0m \u001b[32m━━━━━━━━━━━━━━━━━━━━\u001b[0m\u001b[37m\u001b[0m \u001b[1m0s\u001b[0m 20ms/step - accuracy: 0.5565 - loss: 0.6959 - val_accuracy: 0.6500 - val_loss: 0.6491\n",
            "Epoch 19/100\n",
            "\u001b[1m9/9\u001b[0m \u001b[32m━━━━━━━━━━━━━━━━━━━━\u001b[0m\u001b[37m\u001b[0m \u001b[1m0s\u001b[0m 19ms/step - accuracy: 0.6055 - loss: 0.6714 - val_accuracy: 0.6500 - val_loss: 0.6491\n",
            "Epoch 20/100\n",
            "\u001b[1m9/9\u001b[0m \u001b[32m━━━━━━━━━━━━━━━━━━━━\u001b[0m\u001b[37m\u001b[0m \u001b[1m0s\u001b[0m 17ms/step - accuracy: 0.6337 - loss: 0.6573 - val_accuracy: 0.6500 - val_loss: 0.6492\n",
            "Epoch 21/100\n",
            "\u001b[1m9/9\u001b[0m \u001b[32m━━━━━━━━━━━━━━━━━━━━\u001b[0m\u001b[37m\u001b[0m \u001b[1m0s\u001b[0m 19ms/step - accuracy: 0.6319 - loss: 0.6583 - val_accuracy: 0.6500 - val_loss: 0.6493\n",
            "Epoch 22/100\n",
            "\u001b[1m9/9\u001b[0m \u001b[32m━━━━━━━━━━━━━━━━━━━━\u001b[0m\u001b[37m\u001b[0m \u001b[1m0s\u001b[0m 20ms/step - accuracy: 0.6145 - loss: 0.6671 - val_accuracy: 0.6500 - val_loss: 0.6494\n",
            "Epoch 23/100\n",
            "\u001b[1m9/9\u001b[0m \u001b[32m━━━━━━━━━━━━━━━━━━━━\u001b[0m\u001b[37m\u001b[0m \u001b[1m0s\u001b[0m 20ms/step - accuracy: 0.6145 - loss: 0.6669 - val_accuracy: 0.6500 - val_loss: 0.6496\n",
            "Epoch 24/100\n",
            "\u001b[1m9/9\u001b[0m \u001b[32m━━━━━━━━━━━━━━━━━━━━\u001b[0m\u001b[37m\u001b[0m \u001b[1m0s\u001b[0m 20ms/step - accuracy: 0.6279 - loss: 0.6605 - val_accuracy: 0.6500 - val_loss: 0.6495\n",
            "Epoch 25/100\n",
            "\u001b[1m9/9\u001b[0m \u001b[32m━━━━━━━━━━━━━━━━━━━━\u001b[0m\u001b[37m\u001b[0m \u001b[1m0s\u001b[0m 19ms/step - accuracy: 0.5516 - loss: 0.6977 - val_accuracy: 0.6500 - val_loss: 0.6494\n",
            "Epoch 26/100\n",
            "\u001b[1m9/9\u001b[0m \u001b[32m━━━━━━━━━━━━━━━━━━━━\u001b[0m\u001b[37m\u001b[0m \u001b[1m0s\u001b[0m 12ms/step - accuracy: 0.6469 - loss: 0.6511 - val_accuracy: 0.6500 - val_loss: 0.6495\n",
            "Epoch 27/100\n",
            "\u001b[1m9/9\u001b[0m \u001b[32m━━━━━━━━━━━━━━━━━━━━\u001b[0m\u001b[37m\u001b[0m \u001b[1m0s\u001b[0m 16ms/step - accuracy: 0.6015 - loss: 0.6733 - val_accuracy: 0.6500 - val_loss: 0.6493\n",
            "Epoch 28/100\n",
            "\u001b[1m9/9\u001b[0m \u001b[32m━━━━━━━━━━━━━━━━━━━━\u001b[0m\u001b[37m\u001b[0m \u001b[1m0s\u001b[0m 12ms/step - accuracy: 0.6122 - loss: 0.6681 - val_accuracy: 0.6500 - val_loss: 0.6493\n",
            "Epoch 29/100\n",
            "\u001b[1m9/9\u001b[0m \u001b[32m━━━━━━━━━━━━━━━━━━━━\u001b[0m\u001b[37m\u001b[0m \u001b[1m0s\u001b[0m 11ms/step - accuracy: 0.6343 - loss: 0.6571 - val_accuracy: 0.6500 - val_loss: 0.6494\n",
            "Epoch 30/100\n",
            "\u001b[1m9/9\u001b[0m \u001b[32m━━━━━━━━━━━━━━━━━━━━\u001b[0m\u001b[37m\u001b[0m \u001b[1m0s\u001b[0m 12ms/step - accuracy: 0.6363 - loss: 0.6563 - val_accuracy: 0.6500 - val_loss: 0.6494\n",
            "Epoch 31/100\n",
            "\u001b[1m9/9\u001b[0m \u001b[32m━━━━━━━━━━━━━━━━━━━━\u001b[0m\u001b[37m\u001b[0m \u001b[1m0s\u001b[0m 12ms/step - accuracy: 0.6165 - loss: 0.6660 - val_accuracy: 0.6500 - val_loss: 0.6495\n",
            "Epoch 32/100\n",
            "\u001b[1m9/9\u001b[0m \u001b[32m━━━━━━━━━━━━━━━━━━━━\u001b[0m\u001b[37m\u001b[0m \u001b[1m0s\u001b[0m 12ms/step - accuracy: 0.6258 - loss: 0.6614 - val_accuracy: 0.6500 - val_loss: 0.6495\n",
            "Epoch 33/100\n",
            "\u001b[1m9/9\u001b[0m \u001b[32m━━━━━━━━━━━━━━━━━━━━\u001b[0m\u001b[37m\u001b[0m \u001b[1m0s\u001b[0m 11ms/step - accuracy: 0.6386 - loss: 0.6553 - val_accuracy: 0.6500 - val_loss: 0.6497\n",
            "Epoch 34/100\n",
            "\u001b[1m9/9\u001b[0m \u001b[32m━━━━━━━━━━━━━━━━━━━━\u001b[0m\u001b[37m\u001b[0m \u001b[1m0s\u001b[0m 15ms/step - accuracy: 0.6239 - loss: 0.6626 - val_accuracy: 0.6500 - val_loss: 0.6497\n",
            "Epoch 35/100\n",
            "\u001b[1m9/9\u001b[0m \u001b[32m━━━━━━━━━━━━━━━━━━━━\u001b[0m\u001b[37m\u001b[0m \u001b[1m0s\u001b[0m 16ms/step - accuracy: 0.6121 - loss: 0.6686 - val_accuracy: 0.6500 - val_loss: 0.6496\n",
            "Epoch 36/100\n",
            "\u001b[1m9/9\u001b[0m \u001b[32m━━━━━━━━━━━━━━━━━━━━\u001b[0m\u001b[37m\u001b[0m \u001b[1m0s\u001b[0m 12ms/step - accuracy: 0.6219 - loss: 0.6636 - val_accuracy: 0.6500 - val_loss: 0.6497\n",
            "Epoch 37/100\n",
            "\u001b[1m9/9\u001b[0m \u001b[32m━━━━━━━━━━━━━━━━━━━━\u001b[0m\u001b[37m\u001b[0m \u001b[1m0s\u001b[0m 12ms/step - accuracy: 0.5973 - loss: 0.6751 - val_accuracy: 0.6500 - val_loss: 0.6496\n",
            "Epoch 38/100\n",
            "\u001b[1m9/9\u001b[0m \u001b[32m━━━━━━━━━━━━━━━━━━━━\u001b[0m\u001b[37m\u001b[0m \u001b[1m0s\u001b[0m 16ms/step - accuracy: 0.6072 - loss: 0.6704 - val_accuracy: 0.6500 - val_loss: 0.6498\n",
            "Epoch 39/100\n",
            "\u001b[1m9/9\u001b[0m \u001b[32m━━━━━━━━━━━━━━━━━━━━\u001b[0m\u001b[37m\u001b[0m \u001b[1m0s\u001b[0m 12ms/step - accuracy: 0.6729 - loss: 0.6388 - val_accuracy: 0.6500 - val_loss: 0.6498\n",
            "Epoch 40/100\n",
            "\u001b[1m9/9\u001b[0m \u001b[32m━━━━━━━━━━━━━━━━━━━━\u001b[0m\u001b[37m\u001b[0m \u001b[1m0s\u001b[0m 12ms/step - accuracy: 0.6448 - loss: 0.6523 - val_accuracy: 0.6500 - val_loss: 0.6498\n",
            "Epoch 41/100\n",
            "\u001b[1m9/9\u001b[0m \u001b[32m━━━━━━━━━━━━━━━━━━━━\u001b[0m\u001b[37m\u001b[0m \u001b[1m0s\u001b[0m 17ms/step - accuracy: 0.6023 - loss: 0.6726 - val_accuracy: 0.6500 - val_loss: 0.6498\n",
            "Epoch 42/100\n",
            "\u001b[1m9/9\u001b[0m \u001b[32m━━━━━━━━━━━━━━━━━━━━\u001b[0m\u001b[37m\u001b[0m \u001b[1m0s\u001b[0m 13ms/step - accuracy: 0.6410 - loss: 0.6542 - val_accuracy: 0.6500 - val_loss: 0.6499\n",
            "Epoch 43/100\n",
            "\u001b[1m9/9\u001b[0m \u001b[32m━━━━━━━━━━━━━━━━━━━━\u001b[0m\u001b[37m\u001b[0m \u001b[1m0s\u001b[0m 12ms/step - accuracy: 0.6292 - loss: 0.6600 - val_accuracy: 0.6500 - val_loss: 0.6498\n",
            "Epoch 44/100\n",
            "\u001b[1m9/9\u001b[0m \u001b[32m━━━━━━━━━━━━━━━━━━━━\u001b[0m\u001b[37m\u001b[0m \u001b[1m0s\u001b[0m 12ms/step - accuracy: 0.6312 - loss: 0.6589 - val_accuracy: 0.6500 - val_loss: 0.6499\n",
            "Epoch 45/100\n",
            "\u001b[1m9/9\u001b[0m \u001b[32m━━━━━━━━━━━━━━━━━━━━\u001b[0m\u001b[37m\u001b[0m \u001b[1m0s\u001b[0m 12ms/step - accuracy: 0.6131 - loss: 0.6676 - val_accuracy: 0.6500 - val_loss: 0.6499\n",
            "Epoch 46/100\n",
            "\u001b[1m9/9\u001b[0m \u001b[32m━━━━━━━━━━━━━━━━━━━━\u001b[0m\u001b[37m\u001b[0m \u001b[1m0s\u001b[0m 13ms/step - accuracy: 0.6251 - loss: 0.6620 - val_accuracy: 0.6500 - val_loss: 0.6500\n",
            "Epoch 47/100\n",
            "\u001b[1m9/9\u001b[0m \u001b[32m━━━━━━━━━━━━━━━━━━━━\u001b[0m\u001b[37m\u001b[0m \u001b[1m0s\u001b[0m 12ms/step - accuracy: 0.6319 - loss: 0.6587 - val_accuracy: 0.6500 - val_loss: 0.6500\n",
            "Epoch 48/100\n",
            "\u001b[1m9/9\u001b[0m \u001b[32m━━━━━━━━━━━━━━━━━━━━\u001b[0m\u001b[37m\u001b[0m \u001b[1m0s\u001b[0m 12ms/step - accuracy: 0.6080 - loss: 0.6699 - val_accuracy: 0.6500 - val_loss: 0.6498\n",
            "Epoch 49/100\n",
            "\u001b[1m9/9\u001b[0m \u001b[32m━━━━━━━━━━━━━━━━━━━━\u001b[0m\u001b[37m\u001b[0m \u001b[1m0s\u001b[0m 17ms/step - accuracy: 0.6400 - loss: 0.6553 - val_accuracy: 0.6500 - val_loss: 0.6499\n",
            "Epoch 50/100\n",
            "\u001b[1m9/9\u001b[0m \u001b[32m━━━━━━━━━━━━━━━━━━━━\u001b[0m\u001b[37m\u001b[0m \u001b[1m0s\u001b[0m 12ms/step - accuracy: 0.6231 - loss: 0.6631 - val_accuracy: 0.6500 - val_loss: 0.6501\n",
            "Epoch 51/100\n",
            "\u001b[1m9/9\u001b[0m \u001b[32m━━━━━━━━━━━━━━━━━━━━\u001b[0m\u001b[37m\u001b[0m \u001b[1m0s\u001b[0m 13ms/step - accuracy: 0.5900 - loss: 0.6786 - val_accuracy: 0.6500 - val_loss: 0.6500\n",
            "Epoch 52/100\n",
            "\u001b[1m9/9\u001b[0m \u001b[32m━━━━━━━━━━━━━━━━━━━━\u001b[0m\u001b[37m\u001b[0m \u001b[1m0s\u001b[0m 12ms/step - accuracy: 0.6157 - loss: 0.6663 - val_accuracy: 0.6500 - val_loss: 0.6498\n",
            "Epoch 53/100\n",
            "\u001b[1m9/9\u001b[0m \u001b[32m━━━━━━━━━━━━━━━━━━━━\u001b[0m\u001b[37m\u001b[0m \u001b[1m0s\u001b[0m 11ms/step - accuracy: 0.5860 - loss: 0.6804 - val_accuracy: 0.6500 - val_loss: 0.6494\n",
            "Epoch 54/100\n",
            "\u001b[1m9/9\u001b[0m \u001b[32m━━━━━━━━━━━━━━━━━━━━\u001b[0m\u001b[37m\u001b[0m \u001b[1m0s\u001b[0m 11ms/step - accuracy: 0.5930 - loss: 0.6774 - val_accuracy: 0.6500 - val_loss: 0.6494\n",
            "Epoch 55/100\n",
            "\u001b[1m9/9\u001b[0m \u001b[32m━━━━━━━━━━━━━━━━━━━━\u001b[0m\u001b[37m\u001b[0m \u001b[1m0s\u001b[0m 12ms/step - accuracy: 0.6234 - loss: 0.6626 - val_accuracy: 0.6500 - val_loss: 0.6493\n",
            "Epoch 56/100\n",
            "\u001b[1m9/9\u001b[0m \u001b[32m━━━━━━━━━━━━━━━━━━━━\u001b[0m\u001b[37m\u001b[0m \u001b[1m0s\u001b[0m 18ms/step - accuracy: 0.6087 - loss: 0.6700 - val_accuracy: 0.6500 - val_loss: 0.6494\n",
            "Epoch 57/100\n",
            "\u001b[1m9/9\u001b[0m \u001b[32m━━━━━━━━━━━━━━━━━━━━\u001b[0m\u001b[37m\u001b[0m \u001b[1m0s\u001b[0m 12ms/step - accuracy: 0.6114 - loss: 0.6684 - val_accuracy: 0.6500 - val_loss: 0.6494\n",
            "Epoch 58/100\n",
            "\u001b[1m9/9\u001b[0m \u001b[32m━━━━━━━━━━━━━━━━━━━━\u001b[0m\u001b[37m\u001b[0m \u001b[1m0s\u001b[0m 12ms/step - accuracy: 0.6194 - loss: 0.6646 - val_accuracy: 0.6500 - val_loss: 0.6495\n",
            "Epoch 59/100\n",
            "\u001b[1m9/9\u001b[0m \u001b[32m━━━━━━━━━━━━━━━━━━━━\u001b[0m\u001b[37m\u001b[0m \u001b[1m0s\u001b[0m 11ms/step - accuracy: 0.6207 - loss: 0.6641 - val_accuracy: 0.6500 - val_loss: 0.6494\n",
            "Epoch 60/100\n",
            "\u001b[1m9/9\u001b[0m \u001b[32m━━━━━━━━━━━━━━━━━━━━\u001b[0m\u001b[37m\u001b[0m \u001b[1m0s\u001b[0m 11ms/step - accuracy: 0.5910 - loss: 0.6784 - val_accuracy: 0.6500 - val_loss: 0.6493\n",
            "Epoch 61/100\n",
            "\u001b[1m9/9\u001b[0m \u001b[32m━━━━━━━━━━━━━━━━━━━━\u001b[0m\u001b[37m\u001b[0m \u001b[1m0s\u001b[0m 11ms/step - accuracy: 0.6008 - loss: 0.6739 - val_accuracy: 0.6500 - val_loss: 0.6493\n",
            "Epoch 62/100\n",
            "\u001b[1m9/9\u001b[0m \u001b[32m━━━━━━━━━━━━━━━━━━━━\u001b[0m\u001b[37m\u001b[0m \u001b[1m0s\u001b[0m 12ms/step - accuracy: 0.5893 - loss: 0.6795 - val_accuracy: 0.6500 - val_loss: 0.6492\n",
            "Epoch 63/100\n",
            "\u001b[1m9/9\u001b[0m \u001b[32m━━━━━━━━━━━━━━━━━━━━\u001b[0m\u001b[37m\u001b[0m \u001b[1m0s\u001b[0m 12ms/step - accuracy: 0.5865 - loss: 0.6812 - val_accuracy: 0.6500 - val_loss: 0.6492\n",
            "Epoch 64/100\n",
            "\u001b[1m9/9\u001b[0m \u001b[32m━━━━━━━━━━━━━━━━━━━━\u001b[0m\u001b[37m\u001b[0m \u001b[1m0s\u001b[0m 12ms/step - accuracy: 0.6305 - loss: 0.6590 - val_accuracy: 0.6500 - val_loss: 0.6492\n",
            "Epoch 65/100\n",
            "\u001b[1m9/9\u001b[0m \u001b[32m━━━━━━━━━━━━━━━━━━━━\u001b[0m\u001b[37m\u001b[0m \u001b[1m0s\u001b[0m 12ms/step - accuracy: 0.6466 - loss: 0.6510 - val_accuracy: 0.6500 - val_loss: 0.6492\n",
            "Epoch 66/100\n",
            "\u001b[1m9/9\u001b[0m \u001b[32m━━━━━━━━━━━━━━━━━━━━\u001b[0m\u001b[37m\u001b[0m \u001b[1m0s\u001b[0m 12ms/step - accuracy: 0.5839 - loss: 0.6820 - val_accuracy: 0.6500 - val_loss: 0.6493\n",
            "Epoch 67/100\n",
            "\u001b[1m9/9\u001b[0m \u001b[32m━━━━━━━━━━━━━━━━━━━━\u001b[0m\u001b[37m\u001b[0m \u001b[1m0s\u001b[0m 11ms/step - accuracy: 0.6267 - loss: 0.6609 - val_accuracy: 0.6500 - val_loss: 0.6496\n",
            "Epoch 68/100\n",
            "\u001b[1m9/9\u001b[0m \u001b[32m━━━━━━━━━━━━━━━━━━━━\u001b[0m\u001b[37m\u001b[0m \u001b[1m0s\u001b[0m 12ms/step - accuracy: 0.6104 - loss: 0.6688 - val_accuracy: 0.6500 - val_loss: 0.6494\n",
            "Epoch 69/100\n",
            "\u001b[1m9/9\u001b[0m \u001b[32m━━━━━━━━━━━━━━━━━━━━\u001b[0m\u001b[37m\u001b[0m \u001b[1m0s\u001b[0m 12ms/step - accuracy: 0.6512 - loss: 0.6491 - val_accuracy: 0.6500 - val_loss: 0.6494\n",
            "Epoch 70/100\n",
            "\u001b[1m9/9\u001b[0m \u001b[32m━━━━━━━━━━━━━━━━━━━━\u001b[0m\u001b[37m\u001b[0m \u001b[1m0s\u001b[0m 12ms/step - accuracy: 0.6388 - loss: 0.6549 - val_accuracy: 0.6500 - val_loss: 0.6496\n",
            "Epoch 71/100\n",
            "\u001b[1m9/9\u001b[0m \u001b[32m━━━━━━━━━━━━━━━━━━━━\u001b[0m\u001b[37m\u001b[0m \u001b[1m0s\u001b[0m 14ms/step - accuracy: 0.6425 - loss: 0.6535 - val_accuracy: 0.6500 - val_loss: 0.6497\n",
            "Epoch 72/100\n",
            "\u001b[1m9/9\u001b[0m \u001b[32m━━━━━━━━━━━━━━━━━━━━\u001b[0m\u001b[37m\u001b[0m \u001b[1m0s\u001b[0m 12ms/step - accuracy: 0.5952 - loss: 0.6765 - val_accuracy: 0.6500 - val_loss: 0.6496\n",
            "Epoch 73/100\n",
            "\u001b[1m9/9\u001b[0m \u001b[32m━━━━━━━━━━━━━━━━━━━━\u001b[0m\u001b[37m\u001b[0m \u001b[1m0s\u001b[0m 11ms/step - accuracy: 0.6173 - loss: 0.6657 - val_accuracy: 0.6500 - val_loss: 0.6495\n",
            "Epoch 74/100\n",
            "\u001b[1m9/9\u001b[0m \u001b[32m━━━━━━━━━━━━━━━━━━━━\u001b[0m\u001b[37m\u001b[0m \u001b[1m0s\u001b[0m 12ms/step - accuracy: 0.5980 - loss: 0.6752 - val_accuracy: 0.6500 - val_loss: 0.6494\n",
            "Epoch 75/100\n",
            "\u001b[1m9/9\u001b[0m \u001b[32m━━━━━━━━━━━━━━━━━━━━\u001b[0m\u001b[37m\u001b[0m \u001b[1m0s\u001b[0m 16ms/step - accuracy: 0.5969 - loss: 0.6757 - val_accuracy: 0.6500 - val_loss: 0.6495\n",
            "Epoch 76/100\n",
            "\u001b[1m9/9\u001b[0m \u001b[32m━━━━━━━━━━━━━━━━━━━━\u001b[0m\u001b[37m\u001b[0m \u001b[1m0s\u001b[0m 13ms/step - accuracy: 0.6422 - loss: 0.6536 - val_accuracy: 0.6500 - val_loss: 0.6496\n",
            "Epoch 77/100\n",
            "\u001b[1m9/9\u001b[0m \u001b[32m━━━━━━━━━━━━━━━━━━━━\u001b[0m\u001b[37m\u001b[0m \u001b[1m0s\u001b[0m 17ms/step - accuracy: 0.6065 - loss: 0.6707 - val_accuracy: 0.6500 - val_loss: 0.6495\n",
            "Epoch 78/100\n",
            "\u001b[1m9/9\u001b[0m \u001b[32m━━━━━━━━━━━━━━━━━━━━\u001b[0m\u001b[37m\u001b[0m \u001b[1m0s\u001b[0m 16ms/step - accuracy: 0.5596 - loss: 0.6933 - val_accuracy: 0.6500 - val_loss: 0.6492\n",
            "Epoch 79/100\n",
            "\u001b[1m9/9\u001b[0m \u001b[32m━━━━━━━━━━━━━━━━━━━━\u001b[0m\u001b[37m\u001b[0m \u001b[1m0s\u001b[0m 12ms/step - accuracy: 0.6070 - loss: 0.6706 - val_accuracy: 0.6500 - val_loss: 0.6492\n",
            "Epoch 80/100\n",
            "\u001b[1m9/9\u001b[0m \u001b[32m━━━━━━━━━━━━━━━━━━━━\u001b[0m\u001b[37m\u001b[0m \u001b[1m0s\u001b[0m 12ms/step - accuracy: 0.6068 - loss: 0.6707 - val_accuracy: 0.6500 - val_loss: 0.6493\n",
            "Epoch 81/100\n",
            "\u001b[1m9/9\u001b[0m \u001b[32m━━━━━━━━━━━━━━━━━━━━\u001b[0m\u001b[37m\u001b[0m \u001b[1m0s\u001b[0m 16ms/step - accuracy: 0.6352 - loss: 0.6570 - val_accuracy: 0.6500 - val_loss: 0.6494\n",
            "Epoch 82/100\n",
            "\u001b[1m9/9\u001b[0m \u001b[32m━━━━━━━━━━━━━━━━━━━━\u001b[0m\u001b[37m\u001b[0m \u001b[1m0s\u001b[0m 17ms/step - accuracy: 0.6381 - loss: 0.6553 - val_accuracy: 0.6500 - val_loss: 0.6495\n",
            "Epoch 83/100\n",
            "\u001b[1m9/9\u001b[0m \u001b[32m━━━━━━━━━━━━━━━━━━━━\u001b[0m\u001b[37m\u001b[0m \u001b[1m0s\u001b[0m 12ms/step - accuracy: 0.6402 - loss: 0.6544 - val_accuracy: 0.6500 - val_loss: 0.6498\n",
            "Epoch 84/100\n",
            "\u001b[1m9/9\u001b[0m \u001b[32m━━━━━━━━━━━━━━━━━━━━\u001b[0m\u001b[37m\u001b[0m \u001b[1m0s\u001b[0m 14ms/step - accuracy: 0.6087 - loss: 0.6698 - val_accuracy: 0.6500 - val_loss: 0.6497\n",
            "Epoch 85/100\n",
            "\u001b[1m9/9\u001b[0m \u001b[32m━━━━━━━━━━━━━━━━━━━━\u001b[0m\u001b[37m\u001b[0m \u001b[1m0s\u001b[0m 11ms/step - accuracy: 0.6091 - loss: 0.6697 - val_accuracy: 0.6500 - val_loss: 0.6497\n",
            "Epoch 86/100\n",
            "\u001b[1m9/9\u001b[0m \u001b[32m━━━━━━━━━━━━━━━━━━━━\u001b[0m\u001b[37m\u001b[0m \u001b[1m0s\u001b[0m 16ms/step - accuracy: 0.6373 - loss: 0.6562 - val_accuracy: 0.6500 - val_loss: 0.6497\n",
            "Epoch 87/100\n",
            "\u001b[1m9/9\u001b[0m \u001b[32m━━━━━━━━━━━━━━━━━━━━\u001b[0m\u001b[37m\u001b[0m \u001b[1m0s\u001b[0m 12ms/step - accuracy: 0.6330 - loss: 0.6580 - val_accuracy: 0.6500 - val_loss: 0.6499\n",
            "Epoch 88/100\n",
            "\u001b[1m9/9\u001b[0m \u001b[32m━━━━━━━━━━━━━━━━━━━━\u001b[0m\u001b[37m\u001b[0m \u001b[1m0s\u001b[0m 12ms/step - accuracy: 0.6494 - loss: 0.6505 - val_accuracy: 0.6500 - val_loss: 0.6497\n",
            "Epoch 89/100\n",
            "\u001b[1m9/9\u001b[0m \u001b[32m━━━━━━━━━━━━━━━━━━━━\u001b[0m\u001b[37m\u001b[0m \u001b[1m0s\u001b[0m 12ms/step - accuracy: 0.6093 - loss: 0.6696 - val_accuracy: 0.6500 - val_loss: 0.6497\n",
            "Epoch 90/100\n",
            "\u001b[1m9/9\u001b[0m \u001b[32m━━━━━━━━━━━━━━━━━━━━\u001b[0m\u001b[37m\u001b[0m \u001b[1m0s\u001b[0m 14ms/step - accuracy: 0.5928 - loss: 0.6771 - val_accuracy: 0.6500 - val_loss: 0.6495\n",
            "Epoch 91/100\n",
            "\u001b[1m9/9\u001b[0m \u001b[32m━━━━━━━━━━━━━━━━━━━━\u001b[0m\u001b[37m\u001b[0m \u001b[1m0s\u001b[0m 12ms/step - accuracy: 0.6044 - loss: 0.6720 - val_accuracy: 0.6500 - val_loss: 0.6497\n",
            "Epoch 92/100\n",
            "\u001b[1m9/9\u001b[0m \u001b[32m━━━━━━━━━━━━━━━━━━━━\u001b[0m\u001b[37m\u001b[0m \u001b[1m0s\u001b[0m 15ms/step - accuracy: 0.6118 - loss: 0.6682 - val_accuracy: 0.6500 - val_loss: 0.6495\n",
            "Epoch 93/100\n",
            "\u001b[1m9/9\u001b[0m \u001b[32m━━━━━━━━━━━━━━━━━━━━\u001b[0m\u001b[37m\u001b[0m \u001b[1m0s\u001b[0m 19ms/step - accuracy: 0.6131 - loss: 0.6676 - val_accuracy: 0.6500 - val_loss: 0.6494\n",
            "Epoch 94/100\n",
            "\u001b[1m9/9\u001b[0m \u001b[32m━━━━━━━━━━━━━━━━━━━━\u001b[0m\u001b[37m\u001b[0m \u001b[1m0s\u001b[0m 17ms/step - accuracy: 0.6319 - loss: 0.6583 - val_accuracy: 0.6500 - val_loss: 0.6497\n",
            "Epoch 95/100\n",
            "\u001b[1m9/9\u001b[0m \u001b[32m━━━━━━━━━━━━━━━━━━━━\u001b[0m\u001b[37m\u001b[0m \u001b[1m0s\u001b[0m 19ms/step - accuracy: 0.5979 - loss: 0.6749 - val_accuracy: 0.6500 - val_loss: 0.6496\n",
            "Epoch 96/100\n",
            "\u001b[1m9/9\u001b[0m \u001b[32m━━━━━━━━━━━━━━━━━━━━\u001b[0m\u001b[37m\u001b[0m \u001b[1m0s\u001b[0m 20ms/step - accuracy: 0.6364 - loss: 0.6562 - val_accuracy: 0.6500 - val_loss: 0.6495\n",
            "Epoch 97/100\n",
            "\u001b[1m9/9\u001b[0m \u001b[32m━━━━━━━━━━━━━━━━━━━━\u001b[0m\u001b[37m\u001b[0m \u001b[1m0s\u001b[0m 16ms/step - accuracy: 0.6080 - loss: 0.6702 - val_accuracy: 0.6500 - val_loss: 0.6493\n",
            "Epoch 98/100\n",
            "\u001b[1m9/9\u001b[0m \u001b[32m━━━━━━━━━━━━━━━━━━━━\u001b[0m\u001b[37m\u001b[0m \u001b[1m0s\u001b[0m 22ms/step - accuracy: 0.6133 - loss: 0.6674 - val_accuracy: 0.6500 - val_loss: 0.6493\n",
            "Epoch 99/100\n",
            "\u001b[1m9/9\u001b[0m \u001b[32m━━━━━━━━━━━━━━━━━━━━\u001b[0m\u001b[37m\u001b[0m \u001b[1m0s\u001b[0m 19ms/step - accuracy: 0.6027 - loss: 0.6727 - val_accuracy: 0.6500 - val_loss: 0.6493\n",
            "Epoch 100/100\n",
            "\u001b[1m9/9\u001b[0m \u001b[32m━━━━━━━━━━━━━━━━━━━━\u001b[0m\u001b[37m\u001b[0m \u001b[1m0s\u001b[0m 20ms/step - accuracy: 0.6446 - loss: 0.6520 - val_accuracy: 0.6500 - val_loss: 0.6495\n"
          ]
        }
      ]
    },
    {
      "cell_type": "code",
      "source": [
        "# 모델 평가\n",
        "model.evaluate(X_test, y_test)\n",
        "\n",
        "# 손실값, 정확도"
      ],
      "metadata": {
        "colab": {
          "base_uri": "https://localhost:8080/"
        },
        "id": "Q1I8XuwkSAdb",
        "outputId": "a8acb53a-1912-4647-a747-332a85f4c401"
      },
      "execution_count": 26,
      "outputs": [
        {
          "output_type": "stream",
          "name": "stdout",
          "text": [
            "\u001b[1m6/6\u001b[0m \u001b[32m━━━━━━━━━━━━━━━━━━━━\u001b[0m\u001b[37m\u001b[0m \u001b[1m0s\u001b[0m 7ms/step - accuracy: 0.6193 - loss: 0.6644 \n"
          ]
        },
        {
          "output_type": "execute_result",
          "data": {
            "text/plain": [
              "[0.6612991690635681, 0.6257309913635254]"
            ]
          },
          "metadata": {},
          "execution_count": 26
        }
      ]
    },
    {
      "cell_type": "markdown",
      "source": [
        "![image.png](data:image/png;base64,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)"
      ],
      "metadata": {
        "id": "wRDVkYi8SAgQ"
      }
    },
    {
      "cell_type": "markdown",
      "source": [
        "#### 손실함수(Loss Function) 설정\n",
        "1. binary_crossentropy(이항 교차 엔트로피)\n",
        "- y값이 이진분류인 경우 사용되는 손실함수\n",
        "- 활성화함수로는 sigmoid 활용\n",
        "\n",
        "2. categorical_crossentropy (범주형 교차 엔트로피)\n",
        "- y값이 다중분류인 경우 사용되는 손실함수\n",
        "- 활성화함수로는 softmax 활용\n",
        "- 라벨이 (0,1,0,0), (0,0,1,0)과 같이 원핫 인코딩된 형태로 제공된 경우 활용.\n",
        "\n",
        "3. sparse_categorical_crossentropy\n",
        "- y값이 다중분류인 경우 사용되는 손실함수\n",
        "- 활성화함수로는 softmax 활용\n",
        "- 라벨이 (1,2,3,4)인 경우 사용\n",
        "\n",
        "4. mean_squared_error(평균 제곱 오차)\n",
        "- y값이 연속형인 경우 사용되는 손실함수\n",
        "- 가장 흔하게 쓰임\n",
        "- 대채로는 MAE(평균 절대 오차),RMSE"
      ],
      "metadata": {
        "id": "_ciKIw8pSAi8"
      }
    },
    {
      "cell_type": "code",
      "source": [
        "h.history"
      ],
      "metadata": {
        "colab": {
          "base_uri": "https://localhost:8080/"
        },
        "collapsed": true,
        "id": "ubVD9j4LSAlw",
        "outputId": "3406423a-b2cf-47ba-eb64-88f8afeedf2a"
      },
      "execution_count": 28,
      "outputs": [
        {
          "output_type": "execute_result",
          "data": {
            "text/plain": [
              "{'accuracy': [0.6187050342559814,\n",
              "  0.6187050342559814,\n",
              "  0.6187050342559814,\n",
              "  0.6187050342559814,\n",
              "  0.6187050342559814,\n",
              "  0.6187050342559814,\n",
              "  0.6187050342559814,\n",
              "  0.6187050342559814,\n",
              "  0.6187050342559814,\n",
              "  0.6187050342559814,\n",
              "  0.6187050342559814,\n",
              "  0.6187050342559814,\n",
              "  0.6187050342559814,\n",
              "  0.6187050342559814,\n",
              "  0.6187050342559814,\n",
              "  0.6187050342559814,\n",
              "  0.6187050342559814,\n",
              "  0.6187050342559814,\n",
              "  0.6187050342559814,\n",
              "  0.6187050342559814,\n",
              "  0.6187050342559814,\n",
              "  0.6187050342559814,\n",
              "  0.6187050342559814,\n",
              "  0.6187050342559814,\n",
              "  0.6187050342559814,\n",
              "  0.6187050342559814,\n",
              "  0.6187050342559814,\n",
              "  0.6187050342559814,\n",
              "  0.6187050342559814,\n",
              "  0.6187050342559814,\n",
              "  0.6187050342559814,\n",
              "  0.6187050342559814,\n",
              "  0.6187050342559814,\n",
              "  0.6187050342559814,\n",
              "  0.6187050342559814,\n",
              "  0.6187050342559814,\n",
              "  0.6187050342559814,\n",
              "  0.6187050342559814,\n",
              "  0.6187050342559814,\n",
              "  0.6187050342559814,\n",
              "  0.6187050342559814,\n",
              "  0.6187050342559814,\n",
              "  0.6187050342559814,\n",
              "  0.6187050342559814,\n",
              "  0.6187050342559814,\n",
              "  0.6187050342559814,\n",
              "  0.6187050342559814,\n",
              "  0.6187050342559814,\n",
              "  0.6187050342559814,\n",
              "  0.6187050342559814,\n",
              "  0.6187050342559814,\n",
              "  0.6187050342559814,\n",
              "  0.6187050342559814,\n",
              "  0.6187050342559814,\n",
              "  0.6187050342559814,\n",
              "  0.6187050342559814,\n",
              "  0.6187050342559814,\n",
              "  0.6187050342559814,\n",
              "  0.6187050342559814,\n",
              "  0.6187050342559814,\n",
              "  0.6187050342559814,\n",
              "  0.6187050342559814,\n",
              "  0.6187050342559814,\n",
              "  0.6187050342559814,\n",
              "  0.6187050342559814,\n",
              "  0.6187050342559814,\n",
              "  0.6187050342559814,\n",
              "  0.6187050342559814,\n",
              "  0.6187050342559814,\n",
              "  0.6187050342559814,\n",
              "  0.6187050342559814,\n",
              "  0.6187050342559814,\n",
              "  0.6187050342559814,\n",
              "  0.6187050342559814,\n",
              "  0.6187050342559814,\n",
              "  0.6187050342559814,\n",
              "  0.6187050342559814,\n",
              "  0.6187050342559814,\n",
              "  0.6187050342559814,\n",
              "  0.6187050342559814,\n",
              "  0.6187050342559814,\n",
              "  0.6187050342559814,\n",
              "  0.6187050342559814,\n",
              "  0.6187050342559814,\n",
              "  0.6187050342559814,\n",
              "  0.6187050342559814,\n",
              "  0.6187050342559814,\n",
              "  0.6187050342559814,\n",
              "  0.6187050342559814,\n",
              "  0.6187050342559814,\n",
              "  0.6187050342559814,\n",
              "  0.6187050342559814,\n",
              "  0.6187050342559814,\n",
              "  0.6187050342559814,\n",
              "  0.6187050342559814,\n",
              "  0.6187050342559814,\n",
              "  0.6187050342559814,\n",
              "  0.6187050342559814,\n",
              "  0.6187050342559814,\n",
              "  0.6187050342559814],\n",
              " 'loss': [0.6813332438468933,\n",
              "  0.6753318309783936,\n",
              "  0.6717844605445862,\n",
              "  0.6691574454307556,\n",
              "  0.6676798462867737,\n",
              "  0.6666969060897827,\n",
              "  0.6659968495368958,\n",
              "  0.6658266186714172,\n",
              "  0.6658061742782593,\n",
              "  0.6652998924255371,\n",
              "  0.6649810671806335,\n",
              "  0.6651814579963684,\n",
              "  0.6649330258369446,\n",
              "  0.6650329828262329,\n",
              "  0.6652854084968567,\n",
              "  0.6651558876037598,\n",
              "  0.6650123000144958,\n",
              "  0.6652635931968689,\n",
              "  0.6649097204208374,\n",
              "  0.6649979948997498,\n",
              "  0.6650282740592957,\n",
              "  0.6651487946510315,\n",
              "  0.6649069786071777,\n",
              "  0.6651398539543152,\n",
              "  0.6654313206672668,\n",
              "  0.6650603413581848,\n",
              "  0.6650373339653015,\n",
              "  0.6648300290107727,\n",
              "  0.6648319959640503,\n",
              "  0.6651351451873779,\n",
              "  0.6650491952896118,\n",
              "  0.6648610234260559,\n",
              "  0.6650317907333374,\n",
              "  0.6650879383087158,\n",
              "  0.6654945611953735,\n",
              "  0.6652126908302307,\n",
              "  0.6649365425109863,\n",
              "  0.6649938821792603,\n",
              "  0.6652282476425171,\n",
              "  0.6649446487426758,\n",
              "  0.6649998426437378,\n",
              "  0.6648455262184143,\n",
              "  0.6650533080101013,\n",
              "  0.6648898124694824,\n",
              "  0.6650506258010864,\n",
              "  0.6651773452758789,\n",
              "  0.6648663282394409,\n",
              "  0.6649326086044312,\n",
              "  0.6656208038330078,\n",
              "  0.665218710899353,\n",
              "  0.6651822924613953,\n",
              "  0.664959192276001,\n",
              "  0.6651225090026855,\n",
              "  0.6649238467216492,\n",
              "  0.6650207042694092,\n",
              "  0.6651204824447632,\n",
              "  0.664849579334259,\n",
              "  0.6651046276092529,\n",
              "  0.6651625037193298,\n",
              "  0.6650006771087646,\n",
              "  0.6652327179908752,\n",
              "  0.6652700304985046,\n",
              "  0.6652600765228271,\n",
              "  0.664964497089386,\n",
              "  0.6650018095970154,\n",
              "  0.665048360824585,\n",
              "  0.6649782061576843,\n",
              "  0.6649003624916077,\n",
              "  0.6651661992073059,\n",
              "  0.6648999452590942,\n",
              "  0.6651003360748291,\n",
              "  0.6655709743499756,\n",
              "  0.6650194525718689,\n",
              "  0.665117084980011,\n",
              "  0.6650505065917969,\n",
              "  0.6651265621185303,\n",
              "  0.6649558544158936,\n",
              "  0.665181040763855,\n",
              "  0.6648702025413513,\n",
              "  0.664863646030426,\n",
              "  0.6651001572608948,\n",
              "  0.6649891138076782,\n",
              "  0.6650559902191162,\n",
              "  0.6650940775871277,\n",
              "  0.6651549935340881,\n",
              "  0.6651889085769653,\n",
              "  0.664958655834198,\n",
              "  0.6655362248420715,\n",
              "  0.665111243724823,\n",
              "  0.6648065447807312,\n",
              "  0.6651020646095276,\n",
              "  0.664911150932312,\n",
              "  0.6650073528289795,\n",
              "  0.6649317145347595,\n",
              "  0.6649937033653259,\n",
              "  0.6649639010429382,\n",
              "  0.665280818939209,\n",
              "  0.664819061756134,\n",
              "  0.6650283932685852,\n",
              "  0.6650155186653137],\n",
              " 'val_accuracy': [0.6499999761581421,\n",
              "  0.6499999761581421,\n",
              "  0.6499999761581421,\n",
              "  0.6499999761581421,\n",
              "  0.6499999761581421,\n",
              "  0.6499999761581421,\n",
              "  0.6499999761581421,\n",
              "  0.6499999761581421,\n",
              "  0.6499999761581421,\n",
              "  0.6499999761581421,\n",
              "  0.6499999761581421,\n",
              "  0.6499999761581421,\n",
              "  0.6499999761581421,\n",
              "  0.6499999761581421,\n",
              "  0.6499999761581421,\n",
              "  0.6499999761581421,\n",
              "  0.6499999761581421,\n",
              "  0.6499999761581421,\n",
              "  0.6499999761581421,\n",
              "  0.6499999761581421,\n",
              "  0.6499999761581421,\n",
              "  0.6499999761581421,\n",
              "  0.6499999761581421,\n",
              "  0.6499999761581421,\n",
              "  0.6499999761581421,\n",
              "  0.6499999761581421,\n",
              "  0.6499999761581421,\n",
              "  0.6499999761581421,\n",
              "  0.6499999761581421,\n",
              "  0.6499999761581421,\n",
              "  0.6499999761581421,\n",
              "  0.6499999761581421,\n",
              "  0.6499999761581421,\n",
              "  0.6499999761581421,\n",
              "  0.6499999761581421,\n",
              "  0.6499999761581421,\n",
              "  0.6499999761581421,\n",
              "  0.6499999761581421,\n",
              "  0.6499999761581421,\n",
              "  0.6499999761581421,\n",
              "  0.6499999761581421,\n",
              "  0.6499999761581421,\n",
              "  0.6499999761581421,\n",
              "  0.6499999761581421,\n",
              "  0.6499999761581421,\n",
              "  0.6499999761581421,\n",
              "  0.6499999761581421,\n",
              "  0.6499999761581421,\n",
              "  0.6499999761581421,\n",
              "  0.6499999761581421,\n",
              "  0.6499999761581421,\n",
              "  0.6499999761581421,\n",
              "  0.6499999761581421,\n",
              "  0.6499999761581421,\n",
              "  0.6499999761581421,\n",
              "  0.6499999761581421,\n",
              "  0.6499999761581421,\n",
              "  0.6499999761581421,\n",
              "  0.6499999761581421,\n",
              "  0.6499999761581421,\n",
              "  0.6499999761581421,\n",
              "  0.6499999761581421,\n",
              "  0.6499999761581421,\n",
              "  0.6499999761581421,\n",
              "  0.6499999761581421,\n",
              "  0.6499999761581421,\n",
              "  0.6499999761581421,\n",
              "  0.6499999761581421,\n",
              "  0.6499999761581421,\n",
              "  0.6499999761581421,\n",
              "  0.6499999761581421,\n",
              "  0.6499999761581421,\n",
              "  0.6499999761581421,\n",
              "  0.6499999761581421,\n",
              "  0.6499999761581421,\n",
              "  0.6499999761581421,\n",
              "  0.6499999761581421,\n",
              "  0.6499999761581421,\n",
              "  0.6499999761581421,\n",
              "  0.6499999761581421,\n",
              "  0.6499999761581421,\n",
              "  0.6499999761581421,\n",
              "  0.6499999761581421,\n",
              "  0.6499999761581421,\n",
              "  0.6499999761581421,\n",
              "  0.6499999761581421,\n",
              "  0.6499999761581421,\n",
              "  0.6499999761581421,\n",
              "  0.6499999761581421,\n",
              "  0.6499999761581421,\n",
              "  0.6499999761581421,\n",
              "  0.6499999761581421,\n",
              "  0.6499999761581421,\n",
              "  0.6499999761581421,\n",
              "  0.6499999761581421,\n",
              "  0.6499999761581421,\n",
              "  0.6499999761581421,\n",
              "  0.6499999761581421,\n",
              "  0.6499999761581421,\n",
              "  0.6499999761581421],\n",
              " 'val_loss': [0.6516081690788269,\n",
              "  0.6493438482284546,\n",
              "  0.6480551362037659,\n",
              "  0.6476224660873413,\n",
              "  0.647498369216919,\n",
              "  0.6476525068283081,\n",
              "  0.6478918194770813,\n",
              "  0.6479856967926025,\n",
              "  0.6482737064361572,\n",
              "  0.648531973361969,\n",
              "  0.6486616730690002,\n",
              "  0.6486276984214783,\n",
              "  0.6487564444541931,\n",
              "  0.6489112973213196,\n",
              "  0.6489630937576294,\n",
              "  0.6490100026130676,\n",
              "  0.6492128372192383,\n",
              "  0.6490868330001831,\n",
              "  0.6490985751152039,\n",
              "  0.649220883846283,\n",
              "  0.6493246555328369,\n",
              "  0.6494227647781372,\n",
              "  0.6495800614356995,\n",
              "  0.6495374441146851,\n",
              "  0.6493553519248962,\n",
              "  0.6494758725166321,\n",
              "  0.6492668986320496,\n",
              "  0.649255633354187,\n",
              "  0.6493805050849915,\n",
              "  0.6493653059005737,\n",
              "  0.6495386958122253,\n",
              "  0.6495259404182434,\n",
              "  0.6496937870979309,\n",
              "  0.6496714353561401,\n",
              "  0.6496358513832092,\n",
              "  0.6496744751930237,\n",
              "  0.6496432423591614,\n",
              "  0.6497523784637451,\n",
              "  0.649752676486969,\n",
              "  0.6498475670814514,\n",
              "  0.6498304605484009,\n",
              "  0.6498594880104065,\n",
              "  0.6497754454612732,\n",
              "  0.6499030590057373,\n",
              "  0.6499353051185608,\n",
              "  0.6500424742698669,\n",
              "  0.6499959230422974,\n",
              "  0.6498082280158997,\n",
              "  0.6499430537223816,\n",
              "  0.6500501036643982,\n",
              "  0.6499788165092468,\n",
              "  0.6497634053230286,\n",
              "  0.6493815183639526,\n",
              "  0.6493581533432007,\n",
              "  0.6493484973907471,\n",
              "  0.6493896245956421,\n",
              "  0.6493987441062927,\n",
              "  0.6494770050048828,\n",
              "  0.6494119763374329,\n",
              "  0.6492692232131958,\n",
              "  0.6493257284164429,\n",
              "  0.6492124795913696,\n",
              "  0.6491897702217102,\n",
              "  0.6492115259170532,\n",
              "  0.6492242217063904,\n",
              "  0.6493489742279053,\n",
              "  0.6495868563652039,\n",
              "  0.6493880748748779,\n",
              "  0.6494467258453369,\n",
              "  0.6495563387870789,\n",
              "  0.6497370600700378,\n",
              "  0.6495615839958191,\n",
              "  0.6494742035865784,\n",
              "  0.6493960618972778,\n",
              "  0.6494877338409424,\n",
              "  0.649584949016571,\n",
              "  0.6494795680046082,\n",
              "  0.6491725444793701,\n",
              "  0.6491593718528748,\n",
              "  0.6493458151817322,\n",
              "  0.6494494080543518,\n",
              "  0.649511456489563,\n",
              "  0.6497542262077332,\n",
              "  0.6496580243110657,\n",
              "  0.6497234106063843,\n",
              "  0.6497234106063843,\n",
              "  0.6498637795448303,\n",
              "  0.6496991515159607,\n",
              "  0.6496851444244385,\n",
              "  0.6495391726493835,\n",
              "  0.6497018337249756,\n",
              "  0.6495270133018494,\n",
              "  0.6494295597076416,\n",
              "  0.6496860384941101,\n",
              "  0.6495957970619202,\n",
              "  0.6495198607444763,\n",
              "  0.649294912815094,\n",
              "  0.6493064165115356,\n",
              "  0.6493135094642639,\n",
              "  0.6495035290718079]}"
            ]
          },
          "metadata": {},
          "execution_count": 28
        }
      ]
    },
    {
      "cell_type": "code",
      "source": [
        "# 시각화\n",
        "plt.figure(figsize=(15,5))\n",
        "plt.plot(h.history['accuracy'], label='acc') # 훈련 데이터의 정확도\n",
        "plt.plot(h.history['val_accuracy'], label='val_acc') #\n",
        "plt.legend()\n",
        "plt.show()\n",
        "\n",
        "# 시각화 해석\n",
        "# 학습정확도(acc), 검증 정확도(val_acc) 모두 거의 일정한 값을 유지하고 있으며, 이 값들은 낮은 수준에 머무르고 있다.\n",
        "# 이러한 패턴은 모델이 학습되지 않고 있는 상황을 나타냄\n",
        "\n",
        "# 활성화 함수를 다시 선택, 옵티마이저 선택, 모델 구조 변경, 학습률 조정"
      ],
      "metadata": {
        "colab": {
          "base_uri": "https://localhost:8080/",
          "height": 465
        },
        "id": "eJWY0roWSAol",
        "outputId": "e1274515-65c1-432d-9bc9-eed05c601f7a"
      },
      "execution_count": 29,
      "outputs": [
        {
          "output_type": "display_data",
          "data": {
            "text/plain": [
              "<Figure size 1500x500 with 1 Axes>"
            ],
            "image/png": "[encoded data removed]"
          },
          "metadata": {}
        }
      ]
    },
    {
      "cell_type": "markdown",
      "source": [
        "#### 모델의 정확도를 높여보자"
      ],
      "metadata": {
        "id": "DnLQrlMatsVh"
      }
    },
    {
      "cell_type": "code",
      "source": [
        "model2 = Sequential()\n",
        "\n",
        "# 입력층 : Sequntial에 쌓은 첫번째 층, 뉴런수는 특성의 개수\n",
        "model2.add(InputLayer(shape=(30,)))\n",
        "\n",
        "# 다층퍼셉트론 구현\n",
        "# 은닉층(중간층) : 입력층과 출력층을 제외한 다른 모든 층\n",
        "model2.add(Dense(units=64, activation='relu'))\n",
        "model2.add(Dense(units=32, activation='relu'))\n",
        "model2.add(Dense(units=16, activation='relu'))\n",
        "\n",
        "\n",
        "# 출력층\n",
        "model2.add(Dense(units=1, activation='sigmoid'))"
      ],
      "metadata": {
        "id": "4mEv5RykSArC"
      },
      "execution_count": 34,
      "outputs": []
    },
    {
      "cell_type": "code",
      "source": [
        "# 학습 방법 및 평가 방법 설정\n",
        "model2.compile(loss='binary_crossentropy',\n",
        "              optimizer = 'adam', # adam : SGD 업그레이드 버전, 각 파라미터에 맞는 적응형 학습률을 적용\n",
        "              metrics=['accuracy']) # 평가지표 : 분류 (정확도/accuracy)"
      ],
      "metadata": {
        "id": "uritc2XjSAwA"
      },
      "execution_count": 35,
      "outputs": []
    },
    {
      "cell_type": "code",
      "source": [
        "# 모델 학습\n",
        "h = model2.fit(X_train, y_train,\n",
        "              validation_split = 0.3,\n",
        "              epochs = 100) # 반복 학습 횟수"
      ],
      "metadata": {
        "colab": {
          "base_uri": "https://localhost:8080/"
        },
        "collapsed": true,
        "id": "YZ5N9OCuSAyK",
        "outputId": "d6f3e09a-2052-401f-a8b2-6daba3e15aa4"
      },
      "execution_count": 36,
      "outputs": [
        {
          "output_type": "stream",
          "name": "stdout",
          "text": [
            "Epoch 1/100\n",
            "\u001b[1m9/9\u001b[0m \u001b[32m━━━━━━━━━━━━━━━━━━━━\u001b[0m\u001b[37m\u001b[0m \u001b[1m2s\u001b[0m 42ms/step - accuracy: 0.3868 - loss: 38.7974 - val_accuracy: 0.6500 - val_loss: 11.0182\n",
            "Epoch 2/100\n",
            "\u001b[1m9/9\u001b[0m \u001b[32m━━━━━━━━━━━━━━━━━━━━\u001b[0m\u001b[37m\u001b[0m \u001b[1m0s\u001b[0m 16ms/step - accuracy: 0.6074 - loss: 9.9829 - val_accuracy: 0.3500 - val_loss: 6.0446\n",
            "Epoch 3/100\n",
            "\u001b[1m9/9\u001b[0m \u001b[32m━━━━━━━━━━━━━━━━━━━━\u001b[0m\u001b[37m\u001b[0m \u001b[1m0s\u001b[0m 13ms/step - accuracy: 0.4053 - loss: 6.0942 - val_accuracy: 0.7000 - val_loss: 1.3721\n",
            "Epoch 4/100\n",
            "\u001b[1m9/9\u001b[0m \u001b[32m━━━━━━━━━━━━━━━━━━━━\u001b[0m\u001b[37m\u001b[0m \u001b[1m0s\u001b[0m 12ms/step - accuracy: 0.7007 - loss: 1.7288 - val_accuracy: 0.5417 - val_loss: 1.2818\n",
            "Epoch 5/100\n",
            "\u001b[1m9/9\u001b[0m \u001b[32m━━━━━━━━━━━━━━━━━━━━\u001b[0m\u001b[37m\u001b[0m \u001b[1m0s\u001b[0m 16ms/step - accuracy: 0.7046 - loss: 0.8808 - val_accuracy: 0.9250 - val_loss: 0.2592\n",
            "Epoch 6/100\n",
            "\u001b[1m9/9\u001b[0m \u001b[32m━━━━━━━━━━━━━━━━━━━━\u001b[0m\u001b[37m\u001b[0m \u001b[1m0s\u001b[0m 13ms/step - accuracy: 0.8699 - loss: 0.3958 - val_accuracy: 0.9167 - val_loss: 0.3329\n",
            "Epoch 7/100\n",
            "\u001b[1m9/9\u001b[0m \u001b[32m━━━━━━━━━━━━━━━━━━━━\u001b[0m\u001b[37m\u001b[0m \u001b[1m0s\u001b[0m 12ms/step - accuracy: 0.8836 - loss: 0.4785 - val_accuracy: 0.8833 - val_loss: 0.3926\n",
            "Epoch 8/100\n",
            "\u001b[1m9/9\u001b[0m \u001b[32m━━━━━━━━━━━━━━━━━━━━\u001b[0m\u001b[37m\u001b[0m \u001b[1m0s\u001b[0m 12ms/step - accuracy: 0.8611 - loss: 0.3494 - val_accuracy: 0.9167 - val_loss: 0.1953\n",
            "Epoch 9/100\n",
            "\u001b[1m9/9\u001b[0m \u001b[32m━━━━━━━━━━━━━━━━━━━━\u001b[0m\u001b[37m\u001b[0m \u001b[1m0s\u001b[0m 16ms/step - accuracy: 0.9007 - loss: 0.2460 - val_accuracy: 0.9167 - val_loss: 0.1897\n",
            "Epoch 10/100\n",
            "\u001b[1m9/9\u001b[0m \u001b[32m━━━━━━━━━━━━━━━━━━━━\u001b[0m\u001b[37m\u001b[0m \u001b[1m0s\u001b[0m 12ms/step - accuracy: 0.8982 - loss: 0.2863 - val_accuracy: 0.9167 - val_loss: 0.1893\n",
            "Epoch 11/100\n",
            "\u001b[1m9/9\u001b[0m \u001b[32m━━━━━━━━━━━━━━━━━━━━\u001b[0m\u001b[37m\u001b[0m \u001b[1m0s\u001b[0m 11ms/step - accuracy: 0.9202 - loss: 0.2209 - val_accuracy: 0.8917 - val_loss: 0.1933\n",
            "Epoch 12/100\n",
            "\u001b[1m9/9\u001b[0m \u001b[32m━━━━━━━━━━━━━━━━━━━━\u001b[0m\u001b[37m\u001b[0m \u001b[1m0s\u001b[0m 16ms/step - accuracy: 0.9095 - loss: 0.2526 - val_accuracy: 0.9333 - val_loss: 0.1767\n",
            "Epoch 13/100\n",
            "\u001b[1m9/9\u001b[0m \u001b[32m━━━━━━━━━━━━━━━━━━━━\u001b[0m\u001b[37m\u001b[0m \u001b[1m0s\u001b[0m 12ms/step - accuracy: 0.9073 - loss: 0.2645 - val_accuracy: 0.9333 - val_loss: 0.1722\n",
            "Epoch 14/100\n",
            "\u001b[1m9/9\u001b[0m \u001b[32m━━━━━━━━━━━━━━━━━━━━\u001b[0m\u001b[37m\u001b[0m \u001b[1m0s\u001b[0m 12ms/step - accuracy: 0.9091 - loss: 0.2361 - val_accuracy: 0.9250 - val_loss: 0.1657\n",
            "Epoch 15/100\n",
            "\u001b[1m9/9\u001b[0m \u001b[32m━━━━━━━━━━━━━━━━━━━━\u001b[0m\u001b[37m\u001b[0m \u001b[1m0s\u001b[0m 12ms/step - accuracy: 0.9170 - loss: 0.2215 - val_accuracy: 0.9250 - val_loss: 0.1812\n",
            "Epoch 16/100\n",
            "\u001b[1m9/9\u001b[0m \u001b[32m━━━━━━━━━━━━━━━━━━━━\u001b[0m\u001b[37m\u001b[0m \u001b[1m0s\u001b[0m 16ms/step - accuracy: 0.9006 - loss: 0.2298 - val_accuracy: 0.9250 - val_loss: 0.2699\n",
            "Epoch 17/100\n",
            "\u001b[1m9/9\u001b[0m \u001b[32m━━━━━━━━━━━━━━━━━━━━\u001b[0m\u001b[37m\u001b[0m \u001b[1m0s\u001b[0m 12ms/step - accuracy: 0.8971 - loss: 0.2750 - val_accuracy: 0.9167 - val_loss: 0.1920\n",
            "Epoch 18/100\n",
            "\u001b[1m9/9\u001b[0m \u001b[32m━━━━━━━━━━━━━━━━━━━━\u001b[0m\u001b[37m\u001b[0m \u001b[1m0s\u001b[0m 16ms/step - accuracy: 0.9205 - loss: 0.2037 - val_accuracy: 0.9000 - val_loss: 0.2124\n",
            "Epoch 19/100\n",
            "\u001b[1m9/9\u001b[0m \u001b[32m━━━━━━━━━━━━━━━━━━━━\u001b[0m\u001b[37m\u001b[0m \u001b[1m0s\u001b[0m 12ms/step - accuracy: 0.8998 - loss: 0.2631 - val_accuracy: 0.9417 - val_loss: 0.1841\n",
            "Epoch 20/100\n",
            "\u001b[1m9/9\u001b[0m \u001b[32m━━━━━━━━━━━━━━━━━━━━\u001b[0m\u001b[37m\u001b[0m \u001b[1m0s\u001b[0m 13ms/step - accuracy: 0.9168 - loss: 0.1733 - val_accuracy: 0.9000 - val_loss: 0.1977\n",
            "Epoch 21/100\n",
            "\u001b[1m9/9\u001b[0m \u001b[32m━━━━━━━━━━━━━━━━━━━━\u001b[0m\u001b[37m\u001b[0m \u001b[1m0s\u001b[0m 13ms/step - accuracy: 0.9134 - loss: 0.2247 - val_accuracy: 0.9167 - val_loss: 0.1869\n",
            "Epoch 22/100\n",
            "\u001b[1m9/9\u001b[0m \u001b[32m━━━━━━━━━━━━━━━━━━━━\u001b[0m\u001b[37m\u001b[0m \u001b[1m0s\u001b[0m 12ms/step - accuracy: 0.9060 - loss: 0.2190 - val_accuracy: 0.9417 - val_loss: 0.1681\n",
            "Epoch 23/100\n",
            "\u001b[1m9/9\u001b[0m \u001b[32m━━━━━━━━━━━━━━━━━━━━\u001b[0m\u001b[37m\u001b[0m \u001b[1m0s\u001b[0m 12ms/step - accuracy: 0.9013 - loss: 0.2807 - val_accuracy: 0.9417 - val_loss: 0.1798\n",
            "Epoch 24/100\n",
            "\u001b[1m9/9\u001b[0m \u001b[32m━━━━━━━━━━━━━━━━━━━━\u001b[0m\u001b[37m\u001b[0m \u001b[1m0s\u001b[0m 12ms/step - accuracy: 0.9284 - loss: 0.2103 - val_accuracy: 0.9333 - val_loss: 0.1837\n",
            "Epoch 25/100\n",
            "\u001b[1m9/9\u001b[0m \u001b[32m━━━━━━━━━━━━━━━━━━━━\u001b[0m\u001b[37m\u001b[0m \u001b[1m0s\u001b[0m 12ms/step - accuracy: 0.9064 - loss: 0.2252 - val_accuracy: 0.9417 - val_loss: 0.1870\n",
            "Epoch 26/100\n",
            "\u001b[1m9/9\u001b[0m \u001b[32m━━━━━━━━━━━━━━━━━━━━\u001b[0m\u001b[37m\u001b[0m \u001b[1m0s\u001b[0m 12ms/step - accuracy: 0.9282 - loss: 0.2176 - val_accuracy: 0.9167 - val_loss: 0.1753\n",
            "Epoch 27/100\n",
            "\u001b[1m9/9\u001b[0m \u001b[32m━━━━━━━━━━━━━━━━━━━━\u001b[0m\u001b[37m\u001b[0m \u001b[1m0s\u001b[0m 12ms/step - accuracy: 0.8986 - loss: 0.2729 - val_accuracy: 0.9417 - val_loss: 0.1871\n",
            "Epoch 28/100\n",
            "\u001b[1m9/9\u001b[0m \u001b[32m━━━━━━━━━━━━━━━━━━━━\u001b[0m\u001b[37m\u001b[0m \u001b[1m0s\u001b[0m 14ms/step - accuracy: 0.8747 - loss: 0.3445 - val_accuracy: 0.9167 - val_loss: 0.1788\n",
            "Epoch 29/100\n",
            "\u001b[1m9/9\u001b[0m \u001b[32m━━━━━━━━━━━━━━━━━━━━\u001b[0m\u001b[37m\u001b[0m \u001b[1m0s\u001b[0m 12ms/step - accuracy: 0.9334 - loss: 0.2178 - val_accuracy: 0.9167 - val_loss: 0.2331\n",
            "Epoch 30/100\n",
            "\u001b[1m9/9\u001b[0m \u001b[32m━━━━━━━━━━━━━━━━━━━━\u001b[0m\u001b[37m\u001b[0m \u001b[1m0s\u001b[0m 12ms/step - accuracy: 0.9479 - loss: 0.2061 - val_accuracy: 0.9083 - val_loss: 0.1716\n",
            "Epoch 31/100\n",
            "\u001b[1m9/9\u001b[0m \u001b[32m━━━━━━━━━━━━━━━━━━━━\u001b[0m\u001b[37m\u001b[0m \u001b[1m0s\u001b[0m 12ms/step - accuracy: 0.9206 - loss: 0.2206 - val_accuracy: 0.9083 - val_loss: 0.1691\n",
            "Epoch 32/100\n",
            "\u001b[1m9/9\u001b[0m \u001b[32m━━━━━━━━━━━━━━━━━━━━\u001b[0m\u001b[37m\u001b[0m \u001b[1m0s\u001b[0m 12ms/step - accuracy: 0.9284 - loss: 0.1941 - val_accuracy: 0.9083 - val_loss: 0.1859\n",
            "Epoch 33/100\n",
            "\u001b[1m9/9\u001b[0m \u001b[32m━━━━━━━━━━━━━━━━━━━━\u001b[0m\u001b[37m\u001b[0m \u001b[1m0s\u001b[0m 17ms/step - accuracy: 0.9112 - loss: 0.2061 - val_accuracy: 0.9167 - val_loss: 0.2267\n",
            "Epoch 34/100\n",
            "\u001b[1m9/9\u001b[0m \u001b[32m━━━━━━━━━━━━━━━━━━━━\u001b[0m\u001b[37m\u001b[0m \u001b[1m0s\u001b[0m 12ms/step - accuracy: 0.9089 - loss: 0.2461 - val_accuracy: 0.9250 - val_loss: 0.2416\n",
            "Epoch 35/100\n",
            "\u001b[1m9/9\u001b[0m \u001b[32m━━━━━━━━━━━━━━━━━━━━\u001b[0m\u001b[37m\u001b[0m \u001b[1m0s\u001b[0m 21ms/step - accuracy: 0.8741 - loss: 0.3246 - val_accuracy: 0.9333 - val_loss: 0.1660\n",
            "Epoch 36/100\n",
            "\u001b[1m9/9\u001b[0m \u001b[32m━━━━━━━━━━━━━━━━━━━━\u001b[0m\u001b[37m\u001b[0m \u001b[1m0s\u001b[0m 17ms/step - accuracy: 0.9100 - loss: 0.2348 - val_accuracy: 0.9417 - val_loss: 0.1674\n",
            "Epoch 37/100\n",
            "\u001b[1m9/9\u001b[0m \u001b[32m━━━━━━━━━━━━━━━━━━━━\u001b[0m\u001b[37m\u001b[0m \u001b[1m0s\u001b[0m 17ms/step - accuracy: 0.8903 - loss: 0.2552 - val_accuracy: 0.9417 - val_loss: 0.1594\n",
            "Epoch 38/100\n",
            "\u001b[1m9/9\u001b[0m \u001b[32m━━━━━━━━━━━━━━━━━━━━\u001b[0m\u001b[37m\u001b[0m \u001b[1m0s\u001b[0m 21ms/step - accuracy: 0.9190 - loss: 0.2272 - val_accuracy: 0.9167 - val_loss: 0.2394\n",
            "Epoch 39/100\n",
            "\u001b[1m9/9\u001b[0m \u001b[32m━━━━━━━━━━━━━━━━━━━━\u001b[0m\u001b[37m\u001b[0m \u001b[1m0s\u001b[0m 18ms/step - accuracy: 0.9222 - loss: 0.2148 - val_accuracy: 0.9333 - val_loss: 0.2103\n",
            "Epoch 40/100\n",
            "\u001b[1m9/9\u001b[0m \u001b[32m━━━━━━━━━━━━━━━━━━━━\u001b[0m\u001b[37m\u001b[0m \u001b[1m0s\u001b[0m 18ms/step - accuracy: 0.9046 - loss: 0.2304 - val_accuracy: 0.9250 - val_loss: 0.2393\n",
            "Epoch 41/100\n",
            "\u001b[1m9/9\u001b[0m \u001b[32m━━━━━━━━━━━━━━━━━━━━\u001b[0m\u001b[37m\u001b[0m \u001b[1m0s\u001b[0m 16ms/step - accuracy: 0.9277 - loss: 0.2132 - val_accuracy: 0.9167 - val_loss: 0.1932\n",
            "Epoch 42/100\n",
            "\u001b[1m9/9\u001b[0m \u001b[32m━━━━━━━━━━━━━━━━━━━━\u001b[0m\u001b[37m\u001b[0m \u001b[1m0s\u001b[0m 22ms/step - accuracy: 0.9270 - loss: 0.2454 - val_accuracy: 0.9167 - val_loss: 0.2448\n",
            "Epoch 43/100\n",
            "\u001b[1m9/9\u001b[0m \u001b[32m━━━━━━━━━━━━━━━━━━━━\u001b[0m\u001b[37m\u001b[0m \u001b[1m0s\u001b[0m 18ms/step - accuracy: 0.8955 - loss: 0.2688 - val_accuracy: 0.9250 - val_loss: 0.1970\n",
            "Epoch 44/100\n",
            "\u001b[1m9/9\u001b[0m \u001b[32m━━━━━━━━━━━━━━━━━━━━\u001b[0m\u001b[37m\u001b[0m \u001b[1m0s\u001b[0m 18ms/step - accuracy: 0.9239 - loss: 0.1965 - val_accuracy: 0.9250 - val_loss: 0.1807\n",
            "Epoch 45/100\n",
            "\u001b[1m9/9\u001b[0m \u001b[32m━━━━━━━━━━━━━━━━━━━━\u001b[0m\u001b[37m\u001b[0m \u001b[1m0s\u001b[0m 21ms/step - accuracy: 0.9277 - loss: 0.1963 - val_accuracy: 0.9333 - val_loss: 0.1693\n",
            "Epoch 46/100\n",
            "\u001b[1m9/9\u001b[0m \u001b[32m━━━━━━━━━━━━━━━━━━━━\u001b[0m\u001b[37m\u001b[0m \u001b[1m0s\u001b[0m 12ms/step - accuracy: 0.9102 - loss: 0.2427 - val_accuracy: 0.9333 - val_loss: 0.1745\n",
            "Epoch 47/100\n",
            "\u001b[1m9/9\u001b[0m \u001b[32m━━━━━━━━━━━━━━━━━━━━\u001b[0m\u001b[37m\u001b[0m \u001b[1m0s\u001b[0m 12ms/step - accuracy: 0.9113 - loss: 0.2208 - val_accuracy: 0.9333 - val_loss: 0.1546\n",
            "Epoch 48/100\n",
            "\u001b[1m9/9\u001b[0m \u001b[32m━━━━━━━━━━━━━━━━━━━━\u001b[0m\u001b[37m\u001b[0m \u001b[1m0s\u001b[0m 12ms/step - accuracy: 0.9425 - loss: 0.1902 - val_accuracy: 0.9167 - val_loss: 0.1736\n",
            "Epoch 49/100\n",
            "\u001b[1m9/9\u001b[0m \u001b[32m━━━━━━━━━━━━━━━━━━━━\u001b[0m\u001b[37m\u001b[0m \u001b[1m0s\u001b[0m 13ms/step - accuracy: 0.8978 - loss: 0.3474 - val_accuracy: 0.9083 - val_loss: 0.2911\n",
            "Epoch 50/100\n",
            "\u001b[1m9/9\u001b[0m \u001b[32m━━━━━━━━━━━━━━━━━━━━\u001b[0m\u001b[37m\u001b[0m \u001b[1m0s\u001b[0m 13ms/step - accuracy: 0.8951 - loss: 0.3350 - val_accuracy: 0.8917 - val_loss: 0.3639\n",
            "Epoch 51/100\n",
            "\u001b[1m9/9\u001b[0m \u001b[32m━━━━━━━━━━━━━━━━━━━━\u001b[0m\u001b[37m\u001b[0m \u001b[1m0s\u001b[0m 12ms/step - accuracy: 0.8838 - loss: 0.2389 - val_accuracy: 0.9250 - val_loss: 0.1623\n",
            "Epoch 52/100\n",
            "\u001b[1m9/9\u001b[0m \u001b[32m━━━━━━━━━━━━━━━━━━━━\u001b[0m\u001b[37m\u001b[0m \u001b[1m0s\u001b[0m 13ms/step - accuracy: 0.9360 - loss: 0.1819 - val_accuracy: 0.9167 - val_loss: 0.2468\n",
            "Epoch 53/100\n",
            "\u001b[1m9/9\u001b[0m \u001b[32m━━━━━━━━━━━━━━━━━━━━\u001b[0m\u001b[37m\u001b[0m \u001b[1m0s\u001b[0m 12ms/step - accuracy: 0.9185 - loss: 0.2384 - val_accuracy: 0.9250 - val_loss: 0.1845\n",
            "Epoch 54/100\n",
            "\u001b[1m9/9\u001b[0m \u001b[32m━━━━━━━━━━━━━━━━━━━━\u001b[0m\u001b[37m\u001b[0m \u001b[1m0s\u001b[0m 12ms/step - accuracy: 0.9360 - loss: 0.1781 - val_accuracy: 0.9417 - val_loss: 0.1300\n",
            "Epoch 55/100\n",
            "\u001b[1m9/9\u001b[0m \u001b[32m━━━━━━━━━━━━━━━━━━━━\u001b[0m\u001b[37m\u001b[0m \u001b[1m0s\u001b[0m 16ms/step - accuracy: 0.9226 - loss: 0.1942 - val_accuracy: 0.9500 - val_loss: 0.1510\n",
            "Epoch 56/100\n",
            "\u001b[1m9/9\u001b[0m \u001b[32m━━━━━━━━━━━━━━━━━━━━\u001b[0m\u001b[37m\u001b[0m \u001b[1m0s\u001b[0m 12ms/step - accuracy: 0.9165 - loss: 0.2556 - val_accuracy: 0.9083 - val_loss: 0.3171\n",
            "Epoch 57/100\n",
            "\u001b[1m9/9\u001b[0m \u001b[32m━━━━━━━━━━━━━━━━━━━━\u001b[0m\u001b[37m\u001b[0m \u001b[1m0s\u001b[0m 13ms/step - accuracy: 0.9200 - loss: 0.2107 - val_accuracy: 0.9417 - val_loss: 0.1849\n",
            "Epoch 58/100\n",
            "\u001b[1m9/9\u001b[0m \u001b[32m━━━━━━━━━━━━━━━━━━━━\u001b[0m\u001b[37m\u001b[0m \u001b[1m0s\u001b[0m 13ms/step - accuracy: 0.9291 - loss: 0.2336 - val_accuracy: 0.9250 - val_loss: 0.1470\n",
            "Epoch 59/100\n",
            "\u001b[1m9/9\u001b[0m \u001b[32m━━━━━━━━━━━━━━━━━━━━\u001b[0m\u001b[37m\u001b[0m \u001b[1m0s\u001b[0m 14ms/step - accuracy: 0.9128 - loss: 0.2004 - val_accuracy: 0.9417 - val_loss: 0.1483\n",
            "Epoch 60/100\n",
            "\u001b[1m9/9\u001b[0m \u001b[32m━━━━━━━━━━━━━━━━━━━━\u001b[0m\u001b[37m\u001b[0m \u001b[1m0s\u001b[0m 17ms/step - accuracy: 0.9141 - loss: 0.1886 - val_accuracy: 0.9083 - val_loss: 0.2429\n",
            "Epoch 61/100\n",
            "\u001b[1m9/9\u001b[0m \u001b[32m━━━━━━━━━━━━━━━━━━━━\u001b[0m\u001b[37m\u001b[0m \u001b[1m0s\u001b[0m 13ms/step - accuracy: 0.8801 - loss: 0.3579 - val_accuracy: 0.9333 - val_loss: 0.1985\n",
            "Epoch 62/100\n",
            "\u001b[1m9/9\u001b[0m \u001b[32m━━━━━━━━━━━━━━━━━━━━\u001b[0m\u001b[37m\u001b[0m \u001b[1m0s\u001b[0m 12ms/step - accuracy: 0.8907 - loss: 0.2792 - val_accuracy: 0.9417 - val_loss: 0.1771\n",
            "Epoch 63/100\n",
            "\u001b[1m9/9\u001b[0m \u001b[32m━━━━━━━━━━━━━━━━━━━━\u001b[0m\u001b[37m\u001b[0m \u001b[1m0s\u001b[0m 17ms/step - accuracy: 0.9423 - loss: 0.1594 - val_accuracy: 0.9250 - val_loss: 0.1497\n",
            "Epoch 64/100\n",
            "\u001b[1m9/9\u001b[0m \u001b[32m━━━━━━━━━━━━━━━━━━━━\u001b[0m\u001b[37m\u001b[0m \u001b[1m0s\u001b[0m 16ms/step - accuracy: 0.9307 - loss: 0.1760 - val_accuracy: 0.9500 - val_loss: 0.1635\n",
            "Epoch 65/100\n",
            "\u001b[1m9/9\u001b[0m \u001b[32m━━━━━━━━━━━━━━━━━━━━\u001b[0m\u001b[37m\u001b[0m \u001b[1m0s\u001b[0m 12ms/step - accuracy: 0.8617 - loss: 0.3486 - val_accuracy: 0.9333 - val_loss: 0.1721\n",
            "Epoch 66/100\n",
            "\u001b[1m9/9\u001b[0m \u001b[32m━━━━━━━━━━━━━━━━━━━━\u001b[0m\u001b[37m\u001b[0m \u001b[1m0s\u001b[0m 12ms/step - accuracy: 0.9364 - loss: 0.2280 - val_accuracy: 0.9167 - val_loss: 0.2493\n",
            "Epoch 67/100\n",
            "\u001b[1m9/9\u001b[0m \u001b[32m━━━━━━━━━━━━━━━━━━━━\u001b[0m\u001b[37m\u001b[0m \u001b[1m0s\u001b[0m 12ms/step - accuracy: 0.8994 - loss: 0.2620 - val_accuracy: 0.9333 - val_loss: 0.1305\n",
            "Epoch 68/100\n",
            "\u001b[1m9/9\u001b[0m \u001b[32m━━━━━━━━━━━━━━━━━━━━\u001b[0m\u001b[37m\u001b[0m \u001b[1m0s\u001b[0m 12ms/step - accuracy: 0.9247 - loss: 0.2080 - val_accuracy: 0.9417 - val_loss: 0.1340\n",
            "Epoch 69/100\n",
            "\u001b[1m9/9\u001b[0m \u001b[32m━━━━━━━━━━━━━━━━━━━━\u001b[0m\u001b[37m\u001b[0m \u001b[1m0s\u001b[0m 12ms/step - accuracy: 0.9143 - loss: 0.2260 - val_accuracy: 0.9500 - val_loss: 0.1629\n",
            "Epoch 70/100\n",
            "\u001b[1m9/9\u001b[0m \u001b[32m━━━━━━━━━━━━━━━━━━━━\u001b[0m\u001b[37m\u001b[0m \u001b[1m0s\u001b[0m 12ms/step - accuracy: 0.9171 - loss: 0.2410 - val_accuracy: 0.9333 - val_loss: 0.1370\n",
            "Epoch 71/100\n",
            "\u001b[1m9/9\u001b[0m \u001b[32m━━━━━━━━━━━━━━━━━━━━\u001b[0m\u001b[37m\u001b[0m \u001b[1m0s\u001b[0m 18ms/step - accuracy: 0.9304 - loss: 0.2145 - val_accuracy: 0.9250 - val_loss: 0.1331\n",
            "Epoch 72/100\n",
            "\u001b[1m9/9\u001b[0m \u001b[32m━━━━━━━━━━━━━━━━━━━━\u001b[0m\u001b[37m\u001b[0m \u001b[1m0s\u001b[0m 16ms/step - accuracy: 0.8773 - loss: 0.3263 - val_accuracy: 0.9167 - val_loss: 0.2983\n",
            "Epoch 73/100\n",
            "\u001b[1m9/9\u001b[0m \u001b[32m━━━━━━━━━━━━━━━━━━━━\u001b[0m\u001b[37m\u001b[0m \u001b[1m0s\u001b[0m 12ms/step - accuracy: 0.8727 - loss: 0.3106 - val_accuracy: 0.9167 - val_loss: 0.1828\n",
            "Epoch 74/100\n",
            "\u001b[1m9/9\u001b[0m \u001b[32m━━━━━━━━━━━━━━━━━━━━\u001b[0m\u001b[37m\u001b[0m \u001b[1m0s\u001b[0m 12ms/step - accuracy: 0.9316 - loss: 0.1702 - val_accuracy: 0.9500 - val_loss: 0.1327\n",
            "Epoch 75/100\n",
            "\u001b[1m9/9\u001b[0m \u001b[32m━━━━━━━━━━━━━━━━━━━━\u001b[0m\u001b[37m\u001b[0m \u001b[1m0s\u001b[0m 11ms/step - accuracy: 0.9063 - loss: 0.2347 - val_accuracy: 0.9500 - val_loss: 0.1089\n",
            "Epoch 76/100\n",
            "\u001b[1m9/9\u001b[0m \u001b[32m━━━━━━━━━━━━━━━━━━━━\u001b[0m\u001b[37m\u001b[0m \u001b[1m0s\u001b[0m 12ms/step - accuracy: 0.9301 - loss: 0.1729 - val_accuracy: 0.9500 - val_loss: 0.1114\n",
            "Epoch 77/100\n",
            "\u001b[1m9/9\u001b[0m \u001b[32m━━━━━━━━━━━━━━━━━━━━\u001b[0m\u001b[37m\u001b[0m \u001b[1m0s\u001b[0m 16ms/step - accuracy: 0.9354 - loss: 0.1614 - val_accuracy: 0.9500 - val_loss: 0.1277\n",
            "Epoch 78/100\n",
            "\u001b[1m9/9\u001b[0m \u001b[32m━━━━━━━━━━━━━━━━━━━━\u001b[0m\u001b[37m\u001b[0m \u001b[1m0s\u001b[0m 18ms/step - accuracy: 0.8897 - loss: 0.2402 - val_accuracy: 0.9167 - val_loss: 0.2037\n",
            "Epoch 79/100\n",
            "\u001b[1m9/9\u001b[0m \u001b[32m━━━━━━━━━━━━━━━━━━━━\u001b[0m\u001b[37m\u001b[0m \u001b[1m0s\u001b[0m 17ms/step - accuracy: 0.9335 - loss: 0.1849 - val_accuracy: 0.9333 - val_loss: 0.2069\n",
            "Epoch 80/100\n",
            "\u001b[1m9/9\u001b[0m \u001b[32m━━━━━━━━━━━━━━━━━━━━\u001b[0m\u001b[37m\u001b[0m \u001b[1m0s\u001b[0m 12ms/step - accuracy: 0.8659 - loss: 0.3047 - val_accuracy: 0.9500 - val_loss: 0.1716\n",
            "Epoch 81/100\n",
            "\u001b[1m9/9\u001b[0m \u001b[32m━━━━━━━━━━━━━━━━━━━━\u001b[0m\u001b[37m\u001b[0m \u001b[1m0s\u001b[0m 13ms/step - accuracy: 0.8989 - loss: 0.2800 - val_accuracy: 0.9417 - val_loss: 0.1688\n",
            "Epoch 82/100\n",
            "\u001b[1m9/9\u001b[0m \u001b[32m━━━━━━━━━━━━━━━━━━━━\u001b[0m\u001b[37m\u001b[0m \u001b[1m0s\u001b[0m 12ms/step - accuracy: 0.9281 - loss: 0.1721 - val_accuracy: 0.9333 - val_loss: 0.1353\n",
            "Epoch 83/100\n",
            "\u001b[1m9/9\u001b[0m \u001b[32m━━━━━━━━━━━━━━━━━━━━\u001b[0m\u001b[37m\u001b[0m \u001b[1m0s\u001b[0m 14ms/step - accuracy: 0.8878 - loss: 0.2578 - val_accuracy: 0.9500 - val_loss: 0.1517\n",
            "Epoch 84/100\n",
            "\u001b[1m9/9\u001b[0m \u001b[32m━━━━━━━━━━━━━━━━━━━━\u001b[0m\u001b[37m\u001b[0m \u001b[1m0s\u001b[0m 16ms/step - accuracy: 0.9086 - loss: 0.2683 - val_accuracy: 0.9167 - val_loss: 0.2076\n",
            "Epoch 85/100\n",
            "\u001b[1m9/9\u001b[0m \u001b[32m━━━━━━━━━━━━━━━━━━━━\u001b[0m\u001b[37m\u001b[0m \u001b[1m0s\u001b[0m 13ms/step - accuracy: 0.8859 - loss: 0.3530 - val_accuracy: 0.9167 - val_loss: 0.2883\n",
            "Epoch 86/100\n",
            "\u001b[1m9/9\u001b[0m \u001b[32m━━━━━━━━━━━━━━━━━━━━\u001b[0m\u001b[37m\u001b[0m \u001b[1m0s\u001b[0m 12ms/step - accuracy: 0.9007 - loss: 0.2790 - val_accuracy: 0.9333 - val_loss: 0.1382\n",
            "Epoch 87/100\n",
            "\u001b[1m9/9\u001b[0m \u001b[32m━━━━━━━━━━━━━━━━━━━━\u001b[0m\u001b[37m\u001b[0m \u001b[1m0s\u001b[0m 12ms/step - accuracy: 0.8411 - loss: 0.4404 - val_accuracy: 0.9167 - val_loss: 0.3657\n",
            "Epoch 88/100\n",
            "\u001b[1m9/9\u001b[0m \u001b[32m━━━━━━━━━━━━━━━━━━━━\u001b[0m\u001b[37m\u001b[0m \u001b[1m0s\u001b[0m 13ms/step - accuracy: 0.8058 - loss: 0.6685 - val_accuracy: 0.8417 - val_loss: 0.9291\n",
            "Epoch 89/100\n",
            "\u001b[1m9/9\u001b[0m \u001b[32m━━━━━━━━━━━━━━━━━━━━\u001b[0m\u001b[37m\u001b[0m \u001b[1m0s\u001b[0m 14ms/step - accuracy: 0.8540 - loss: 0.6361 - val_accuracy: 0.9083 - val_loss: 0.4408\n",
            "Epoch 90/100\n",
            "\u001b[1m9/9\u001b[0m \u001b[32m━━━━━━━━━━━━━━━━━━━━\u001b[0m\u001b[37m\u001b[0m \u001b[1m0s\u001b[0m 12ms/step - accuracy: 0.8838 - loss: 0.4849 - val_accuracy: 0.9500 - val_loss: 0.2046\n",
            "Epoch 91/100\n",
            "\u001b[1m9/9\u001b[0m \u001b[32m━━━━━━━━━━━━━━━━━━━━\u001b[0m\u001b[37m\u001b[0m \u001b[1m0s\u001b[0m 12ms/step - accuracy: 0.9244 - loss: 0.2357 - val_accuracy: 0.9417 - val_loss: 0.1526\n",
            "Epoch 92/100\n",
            "\u001b[1m9/9\u001b[0m \u001b[32m━━━━━━━━━━━━━━━━━━━━\u001b[0m\u001b[37m\u001b[0m \u001b[1m0s\u001b[0m 13ms/step - accuracy: 0.9087 - loss: 0.2857 - val_accuracy: 0.9333 - val_loss: 0.1183\n",
            "Epoch 93/100\n",
            "\u001b[1m9/9\u001b[0m \u001b[32m━━━━━━━━━━━━━━━━━━━━\u001b[0m\u001b[37m\u001b[0m \u001b[1m0s\u001b[0m 12ms/step - accuracy: 0.9320 - loss: 0.2334 - val_accuracy: 0.9083 - val_loss: 0.2641\n",
            "Epoch 94/100\n",
            "\u001b[1m9/9\u001b[0m \u001b[32m━━━━━━━━━━━━━━━━━━━━\u001b[0m\u001b[37m\u001b[0m \u001b[1m0s\u001b[0m 12ms/step - accuracy: 0.9048 - loss: 0.2309 - val_accuracy: 0.9167 - val_loss: 0.2457\n",
            "Epoch 95/100\n",
            "\u001b[1m9/9\u001b[0m \u001b[32m━━━━━━━━━━━━━━━━━━━━\u001b[0m\u001b[37m\u001b[0m \u001b[1m0s\u001b[0m 13ms/step - accuracy: 0.8812 - loss: 0.2846 - val_accuracy: 0.8750 - val_loss: 0.4519\n",
            "Epoch 96/100\n",
            "\u001b[1m9/9\u001b[0m \u001b[32m━━━━━━━━━━━━━━━━━━━━\u001b[0m\u001b[37m\u001b[0m \u001b[1m0s\u001b[0m 12ms/step - accuracy: 0.9034 - loss: 0.2722 - val_accuracy: 0.9000 - val_loss: 0.2814\n",
            "Epoch 97/100\n",
            "\u001b[1m9/9\u001b[0m \u001b[32m━━━━━━━━━━━━━━━━━━━━\u001b[0m\u001b[37m\u001b[0m \u001b[1m0s\u001b[0m 12ms/step - accuracy: 0.9034 - loss: 0.2754 - val_accuracy: 0.9333 - val_loss: 0.1532\n",
            "Epoch 98/100\n",
            "\u001b[1m9/9\u001b[0m \u001b[32m━━━━━━━━━━━━━━━━━━━━\u001b[0m\u001b[37m\u001b[0m \u001b[1m0s\u001b[0m 12ms/step - accuracy: 0.8998 - loss: 0.2478 - val_accuracy: 0.9167 - val_loss: 0.1703\n",
            "Epoch 99/100\n",
            "\u001b[1m9/9\u001b[0m \u001b[32m━━━━━━━━━━━━━━━━━━━━\u001b[0m\u001b[37m\u001b[0m \u001b[1m0s\u001b[0m 12ms/step - accuracy: 0.9297 - loss: 0.1639 - val_accuracy: 0.9333 - val_loss: 0.1043\n",
            "Epoch 100/100\n",
            "\u001b[1m9/9\u001b[0m \u001b[32m━━━━━━━━━━━━━━━━━━━━\u001b[0m\u001b[37m\u001b[0m \u001b[1m0s\u001b[0m 12ms/step - accuracy: 0.9372 - loss: 0.2078 - val_accuracy: 0.9167 - val_loss: 0.1605\n"
          ]
        }
      ]
    },
    {
      "cell_type": "code",
      "source": [
        "# 모델 평가\n",
        "model2.evaluate(X_test, y_test)\n",
        "\n",
        "# 손실값, 정확도"
      ],
      "metadata": {
        "colab": {
          "base_uri": "https://localhost:8080/"
        },
        "id": "mfj2WSdaSA1j",
        "outputId": "67dd3cb2-b89c-4c6b-e913-f0da066fbeaa"
      },
      "execution_count": 38,
      "outputs": [
        {
          "output_type": "stream",
          "name": "stdout",
          "text": [
            "\u001b[1m6/6\u001b[0m \u001b[32m━━━━━━━━━━━━━━━━━━━━\u001b[0m\u001b[37m\u001b[0m \u001b[1m0s\u001b[0m 6ms/step - accuracy: 0.9477 - loss: 0.1499 \n"
          ]
        },
        {
          "output_type": "execute_result",
          "data": {
            "text/plain": [
              "[0.18951115012168884, 0.9298245906829834]"
            ]
          },
          "metadata": {},
          "execution_count": 38
        }
      ]
    },
    {
      "cell_type": "code",
      "source": [
        "# 시각화\n",
        "plt.figure(figsize=(15,5))\n",
        "plt.plot(h.history['accuracy'], label='acc') # 훈련 데이터의 정확도\n",
        "plt.plot(h.history['val_accuracy'], label='val_acc') #\n",
        "plt.legend()\n",
        "plt.show()\n"
      ],
      "metadata": {
        "colab": {
          "base_uri": "https://localhost:8080/",
          "height": 409
        },
        "id": "c05xmxL-SA4U",
        "outputId": "311f0677-fa8e-4074-9e21-cb7dbcd367a7"
      },
      "execution_count": 39,
      "outputs": [
        {
          "output_type": "display_data",
          "data": {
            "text/plain": [
              "<Figure size 1500x500 with 1 Axes>"
            ],
            "image/png": "[encoded data removed]"
          },
          "metadata": {}
        }
      ]
    },
    {
      "cell_type": "code",
      "source": [
        "# 초기 몇 에포크 동안 정확도가 급격하게 변화\n",
        "# 에포크가 진행될수록 불안정한 구간도 있지만, 점차 안정화가 되어진다."
      ],
      "metadata": {
        "id": "_mmFIZRNSA7J"
      },
      "execution_count": null,
      "outputs": []
    },
    {
      "cell_type": "code",
      "source": [],
      "metadata": {
        "id": "GCz0MHiDSA99"
      },
      "execution_count": null,
      "outputs": []
    },
    {
      "cell_type": "code",
      "source": [],
      "metadata": {
        "id": "Yz5PYW3SSBAy"
      },
      "execution_count": null,
      "outputs": []
    },
    {
      "cell_type": "code",
      "source": [],
      "metadata": {
        "id": "D-5vMZiLSBDr"
      },
      "execution_count": null,
      "outputs": []
    },
    {
      "cell_type": "code",
      "source": [],
      "metadata": {
        "id": "uX2EdhuJSBGx"
      },
      "execution_count": null,
      "outputs": []
    },
    {
      "cell_type": "code",
      "source": [],
      "metadata": {
        "id": "fJTsYGwOSBJ7"
      },
      "execution_count": null,
      "outputs": []
    },
    {
      "cell_type": "code",
      "source": [],
      "metadata": {
        "id": "eBZWR7vgSBNB"
      },
      "execution_count": null,
      "outputs": []
    },
    {
      "cell_type": "code",
      "source": [],
      "metadata": {
        "id": "7kkaLkopSBQH"
      },
      "execution_count": null,
      "outputs": []
    },
    {
      "cell_type": "code",
      "source": [],
      "metadata": {
        "id": "4Ab-FGQLSBSk"
      },
      "execution_count": null,
      "outputs": []
    }
  ]
}