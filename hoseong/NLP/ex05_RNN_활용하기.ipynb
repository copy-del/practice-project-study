{
  "nbformat": 4,
  "nbformat_minor": 0,
  "metadata": {
    "colab": {
      "provenance": []
    },
    "kernelspec": {
      "name": "python3",
      "display_name": "Python 3"
    },
    "language_info": {
      "name": "python"
    },
    "widgets": {
      "application/vnd.jupyter.widget-state+json": {
        "3e7befdd7629437aaf6fae9b250ae136": {
          "model_module": "@jupyter-widgets/controls",
          "model_name": "HBoxModel",
          "model_module_version": "1.5.0",
          "state": {
            "_dom_classes": [],
            "_model_module": "@jupyter-widgets/controls",
            "_model_module_version": "1.5.0",
            "_model_name": "HBoxModel",
            "_view_count": null,
            "_view_module": "@jupyter-widgets/controls",
            "_view_module_version": "1.5.0",
            "_view_name": "HBoxView",
            "box_style": "",
            "children": [
              "IPY_MODEL_a8d6cc116de442079f83deb81e247264",
              "IPY_MODEL_8106ba493c664e288a7793d49e02e066",
              "IPY_MODEL_30260793173c4eb0aad6bba5cf95957f"
            ],
            "layout": "IPY_MODEL_68d7d7f233aa4b81b3365e2f506ec052"
          }
        },
        "a8d6cc116de442079f83deb81e247264": {
          "model_module": "@jupyter-widgets/controls",
          "model_name": "HTMLModel",
          "model_module_version": "1.5.0",
          "state": {
            "_dom_classes": [],
            "_model_module": "@jupyter-widgets/controls",
            "_model_module_version": "1.5.0",
            "_model_name": "HTMLModel",
            "_view_count": null,
            "_view_module": "@jupyter-widgets/controls",
            "_view_module_version": "1.5.0",
            "_view_name": "HTMLView",
            "description": "",
            "description_tooltip": null,
            "layout": "IPY_MODEL_5965ee805fb345299a384adc423c39f5",
            "placeholder": "​",
            "style": "IPY_MODEL_63f6c29441d549bf83f4571bd015f626",
            "value": "100%"
          }
        },
        "8106ba493c664e288a7793d49e02e066": {
          "model_module": "@jupyter-widgets/controls",
          "model_name": "FloatProgressModel",
          "model_module_version": "1.5.0",
          "state": {
            "_dom_classes": [],
            "_model_module": "@jupyter-widgets/controls",
            "_model_module_version": "1.5.0",
            "_model_name": "FloatProgressModel",
            "_view_count": null,
            "_view_module": "@jupyter-widgets/controls",
            "_view_module_version": "1.5.0",
            "_view_name": "ProgressView",
            "bar_style": "success",
            "description": "",
            "description_tooltip": null,
            "layout": "IPY_MODEL_5a1722abff0f4f809c74f6e73d2759c8",
            "max": 171068,
            "min": 0,
            "orientation": "horizontal",
            "style": "IPY_MODEL_332149c559514b208eb6d581d0633762",
            "value": 171068
          }
        },
        "30260793173c4eb0aad6bba5cf95957f": {
          "model_module": "@jupyter-widgets/controls",
          "model_name": "HTMLModel",
          "model_module_version": "1.5.0",
          "state": {
            "_dom_classes": [],
            "_model_module": "@jupyter-widgets/controls",
            "_model_module_version": "1.5.0",
            "_model_name": "HTMLModel",
            "_view_count": null,
            "_view_module": "@jupyter-widgets/controls",
            "_view_module_version": "1.5.0",
            "_view_name": "HTMLView",
            "description": "",
            "description_tooltip": null,
            "layout": "IPY_MODEL_92666871548a4b278cca3f3a73ee4b4b",
            "placeholder": "​",
            "style": "IPY_MODEL_a556279f4e5b43918073bb10d5e31c35",
            "value": " 171068/171068 [15:41&lt;00:00, 219.60it/s]"
          }
        },
        "68d7d7f233aa4b81b3365e2f506ec052": {
          "model_module": "@jupyter-widgets/base",
          "model_name": "LayoutModel",
          "model_module_version": "1.2.0",
          "state": {
            "_model_module": "@jupyter-widgets/base",
            "_model_module_version": "1.2.0",
            "_model_name": "LayoutModel",
            "_view_count": null,
            "_view_module": "@jupyter-widgets/base",
            "_view_module_version": "1.2.0",
            "_view_name": "LayoutView",
            "align_content": null,
            "align_items": null,
            "align_self": null,
            "border": null,
            "bottom": null,
            "display": null,
            "flex": null,
            "flex_flow": null,
            "grid_area": null,
            "grid_auto_columns": null,
            "grid_auto_flow": null,
            "grid_auto_rows": null,
            "grid_column": null,
            "grid_gap": null,
            "grid_row": null,
            "grid_template_areas": null,
            "grid_template_columns": null,
            "grid_template_rows": null,
            "height": null,
            "justify_content": null,
            "justify_items": null,
            "left": null,
            "margin": null,
            "max_height": null,
            "max_width": null,
            "min_height": null,
            "min_width": null,
            "object_fit": null,
            "object_position": null,
            "order": null,
            "overflow": null,
            "overflow_x": null,
            "overflow_y": null,
            "padding": null,
            "right": null,
            "top": null,
            "visibility": null,
            "width": null
          }
        },
        "5965ee805fb345299a384adc423c39f5": {
          "model_module": "@jupyter-widgets/base",
          "model_name": "LayoutModel",
          "model_module_version": "1.2.0",
          "state": {
            "_model_module": "@jupyter-widgets/base",
            "_model_module_version": "1.2.0",
            "_model_name": "LayoutModel",
            "_view_count": null,
            "_view_module": "@jupyter-widgets/base",
            "_view_module_version": "1.2.0",
            "_view_name": "LayoutView",
            "align_content": null,
            "align_items": null,
            "align_self": null,
            "border": null,
            "bottom": null,
            "display": null,
            "flex": null,
            "flex_flow": null,
            "grid_area": null,
            "grid_auto_columns": null,
            "grid_auto_flow": null,
            "grid_auto_rows": null,
            "grid_column": null,
            "grid_gap": null,
            "grid_row": null,
            "grid_template_areas": null,
            "grid_template_columns": null,
            "grid_template_rows": null,
            "height": null,
            "justify_content": null,
            "justify_items": null,
            "left": null,
            "margin": null,
            "max_height": null,
            "max_width": null,
            "min_height": null,
            "min_width": null,
            "object_fit": null,
            "object_position": null,
            "order": null,
            "overflow": null,
            "overflow_x": null,
            "overflow_y": null,
            "padding": null,
            "right": null,
            "top": null,
            "visibility": null,
            "width": null
          }
        },
        "63f6c29441d549bf83f4571bd015f626": {
          "model_module": "@jupyter-widgets/controls",
          "model_name": "DescriptionStyleModel",
          "model_module_version": "1.5.0",
          "state": {
            "_model_module": "@jupyter-widgets/controls",
            "_model_module_version": "1.5.0",
            "_model_name": "DescriptionStyleModel",
            "_view_count": null,
            "_view_module": "@jupyter-widgets/base",
            "_view_module_version": "1.2.0",
            "_view_name": "StyleView",
            "description_width": ""
          }
        },
        "5a1722abff0f4f809c74f6e73d2759c8": {
          "model_module": "@jupyter-widgets/base",
          "model_name": "LayoutModel",
          "model_module_version": "1.2.0",
          "state": {
            "_model_module": "@jupyter-widgets/base",
            "_model_module_version": "1.2.0",
            "_model_name": "LayoutModel",
            "_view_count": null,
            "_view_module": "@jupyter-widgets/base",
            "_view_module_version": "1.2.0",
            "_view_name": "LayoutView",
            "align_content": null,
            "align_items": null,
            "align_self": null,
            "border": null,
            "bottom": null,
            "display": null,
            "flex": null,
            "flex_flow": null,
            "grid_area": null,
            "grid_auto_columns": null,
            "grid_auto_flow": null,
            "grid_auto_rows": null,
            "grid_column": null,
            "grid_gap": null,
            "grid_row": null,
            "grid_template_areas": null,
            "grid_template_columns": null,
            "grid_template_rows": null,
            "height": null,
            "justify_content": null,
            "justify_items": null,
            "left": null,
            "margin": null,
            "max_height": null,
            "max_width": null,
            "min_height": null,
            "min_width": null,
            "object_fit": null,
            "object_position": null,
            "order": null,
            "overflow": null,
            "overflow_x": null,
            "overflow_y": null,
            "padding": null,
            "right": null,
            "top": null,
            "visibility": null,
            "width": null
          }
        },
        "332149c559514b208eb6d581d0633762": {
          "model_module": "@jupyter-widgets/controls",
          "model_name": "ProgressStyleModel",
          "model_module_version": "1.5.0",
          "state": {
            "_model_module": "@jupyter-widgets/controls",
            "_model_module_version": "1.5.0",
            "_model_name": "ProgressStyleModel",
            "_view_count": null,
            "_view_module": "@jupyter-widgets/base",
            "_view_module_version": "1.2.0",
            "_view_name": "StyleView",
            "bar_color": null,
            "description_width": ""
          }
        },
        "92666871548a4b278cca3f3a73ee4b4b": {
          "model_module": "@jupyter-widgets/base",
          "model_name": "LayoutModel",
          "model_module_version": "1.2.0",
          "state": {
            "_model_module": "@jupyter-widgets/base",
            "_model_module_version": "1.2.0",
            "_model_name": "LayoutModel",
            "_view_count": null,
            "_view_module": "@jupyter-widgets/base",
            "_view_module_version": "1.2.0",
            "_view_name": "LayoutView",
            "align_content": null,
            "align_items": null,
            "align_self": null,
            "border": null,
            "bottom": null,
            "display": null,
            "flex": null,
            "flex_flow": null,
            "grid_area": null,
            "grid_auto_columns": null,
            "grid_auto_flow": null,
            "grid_auto_rows": null,
            "grid_column": null,
            "grid_gap": null,
            "grid_row": null,
            "grid_template_areas": null,
            "grid_template_columns": null,
            "grid_template_rows": null,
            "height": null,
            "justify_content": null,
            "justify_items": null,
            "left": null,
            "margin": null,
            "max_height": null,
            "max_width": null,
            "min_height": null,
            "min_width": null,
            "object_fit": null,
            "object_position": null,
            "order": null,
            "overflow": null,
            "overflow_x": null,
            "overflow_y": null,
            "padding": null,
            "right": null,
            "top": null,
            "visibility": null,
            "width": null
          }
        },
        "a556279f4e5b43918073bb10d5e31c35": {
          "model_module": "@jupyter-widgets/controls",
          "model_name": "DescriptionStyleModel",
          "model_module_version": "1.5.0",
          "state": {
            "_model_module": "@jupyter-widgets/controls",
            "_model_module_version": "1.5.0",
            "_model_name": "DescriptionStyleModel",
            "_view_count": null,
            "_view_module": "@jupyter-widgets/base",
            "_view_module_version": "1.2.0",
            "_view_name": "StyleView",
            "description_width": ""
          }
        },
        "fc6453df247e4538b9977b3726123dfc": {
          "model_module": "@jupyter-widgets/controls",
          "model_name": "HBoxModel",
          "model_module_version": "1.5.0",
          "state": {
            "_dom_classes": [],
            "_model_module": "@jupyter-widgets/controls",
            "_model_module_version": "1.5.0",
            "_model_name": "HBoxModel",
            "_view_count": null,
            "_view_module": "@jupyter-widgets/controls",
            "_view_module_version": "1.5.0",
            "_view_name": "HBoxView",
            "box_style": "",
            "children": [
              "IPY_MODEL_1d03c5817d904c92ab063573b5053091",
              "IPY_MODEL_861c5ba3d6ba4a0f82924b0e20d3c085",
              "IPY_MODEL_3a61341a0a6b44a78d645d9dd14294a5"
            ],
            "layout": "IPY_MODEL_f0d66aa06ddc4e7fb98e928427c7960d"
          }
        },
        "1d03c5817d904c92ab063573b5053091": {
          "model_module": "@jupyter-widgets/controls",
          "model_name": "HTMLModel",
          "model_module_version": "1.5.0",
          "state": {
            "_dom_classes": [],
            "_model_module": "@jupyter-widgets/controls",
            "_model_module_version": "1.5.0",
            "_model_name": "HTMLModel",
            "_view_count": null,
            "_view_module": "@jupyter-widgets/controls",
            "_view_module_version": "1.5.0",
            "_view_name": "HTMLView",
            "description": "",
            "description_tooltip": null,
            "layout": "IPY_MODEL_32e893c9a85146f2b08599b38b3ff2ed",
            "placeholder": "​",
            "style": "IPY_MODEL_aa3b164579cb4ee48b20eb1376fce88b",
            "value": "100%"
          }
        },
        "861c5ba3d6ba4a0f82924b0e20d3c085": {
          "model_module": "@jupyter-widgets/controls",
          "model_name": "FloatProgressModel",
          "model_module_version": "1.5.0",
          "state": {
            "_dom_classes": [],
            "_model_module": "@jupyter-widgets/controls",
            "_model_module_version": "1.5.0",
            "_model_name": "FloatProgressModel",
            "_view_count": null,
            "_view_module": "@jupyter-widgets/controls",
            "_view_module_version": "1.5.0",
            "_view_name": "ProgressView",
            "bar_style": "success",
            "description": "",
            "description_tooltip": null,
            "layout": "IPY_MODEL_96ebb7836d164c4b95b017dc516b6247",
            "max": 49997,
            "min": 0,
            "orientation": "horizontal",
            "style": "IPY_MODEL_5526aa35b71745098c90370731d6d1dd",
            "value": 49997
          }
        },
        "3a61341a0a6b44a78d645d9dd14294a5": {
          "model_module": "@jupyter-widgets/controls",
          "model_name": "HTMLModel",
          "model_module_version": "1.5.0",
          "state": {
            "_dom_classes": [],
            "_model_module": "@jupyter-widgets/controls",
            "_model_module_version": "1.5.0",
            "_model_name": "HTMLModel",
            "_view_count": null,
            "_view_module": "@jupyter-widgets/controls",
            "_view_module_version": "1.5.0",
            "_view_name": "HTMLView",
            "description": "",
            "description_tooltip": null,
            "layout": "IPY_MODEL_10e28d88f1d24bd3a14afc0bb56a6fa5",
            "placeholder": "​",
            "style": "IPY_MODEL_a7a0968345bb4859b53079ee7534ea65",
            "value": " 49997/49997 [04:35&lt;00:00, 203.07it/s]"
          }
        },
        "f0d66aa06ddc4e7fb98e928427c7960d": {
          "model_module": "@jupyter-widgets/base",
          "model_name": "LayoutModel",
          "model_module_version": "1.2.0",
          "state": {
            "_model_module": "@jupyter-widgets/base",
            "_model_module_version": "1.2.0",
            "_model_name": "LayoutModel",
            "_view_count": null,
            "_view_module": "@jupyter-widgets/base",
            "_view_module_version": "1.2.0",
            "_view_name": "LayoutView",
            "align_content": null,
            "align_items": null,
            "align_self": null,
            "border": null,
            "bottom": null,
            "display": null,
            "flex": null,
            "flex_flow": null,
            "grid_area": null,
            "grid_auto_columns": null,
            "grid_auto_flow": null,
            "grid_auto_rows": null,
            "grid_column": null,
            "grid_gap": null,
            "grid_row": null,
            "grid_template_areas": null,
            "grid_template_columns": null,
            "grid_template_rows": null,
            "height": null,
            "justify_content": null,
            "justify_items": null,
            "left": null,
            "margin": null,
            "max_height": null,
            "max_width": null,
            "min_height": null,
            "min_width": null,
            "object_fit": null,
            "object_position": null,
            "order": null,
            "overflow": null,
            "overflow_x": null,
            "overflow_y": null,
            "padding": null,
            "right": null,
            "top": null,
            "visibility": null,
            "width": null
          }
        },
        "32e893c9a85146f2b08599b38b3ff2ed": {
          "model_module": "@jupyter-widgets/base",
          "model_name": "LayoutModel",
          "model_module_version": "1.2.0",
          "state": {
            "_model_module": "@jupyter-widgets/base",
            "_model_module_version": "1.2.0",
            "_model_name": "LayoutModel",
            "_view_count": null,
            "_view_module": "@jupyter-widgets/base",
            "_view_module_version": "1.2.0",
            "_view_name": "LayoutView",
            "align_content": null,
            "align_items": null,
            "align_self": null,
            "border": null,
            "bottom": null,
            "display": null,
            "flex": null,
            "flex_flow": null,
            "grid_area": null,
            "grid_auto_columns": null,
            "grid_auto_flow": null,
            "grid_auto_rows": null,
            "grid_column": null,
            "grid_gap": null,
            "grid_row": null,
            "grid_template_areas": null,
            "grid_template_columns": null,
            "grid_template_rows": null,
            "height": null,
            "justify_content": null,
            "justify_items": null,
            "left": null,
            "margin": null,
            "max_height": null,
            "max_width": null,
            "min_height": null,
            "min_width": null,
            "object_fit": null,
            "object_position": null,
            "order": null,
            "overflow": null,
            "overflow_x": null,
            "overflow_y": null,
            "padding": null,
            "right": null,
            "top": null,
            "visibility": null,
            "width": null
          }
        },
        "aa3b164579cb4ee48b20eb1376fce88b": {
          "model_module": "@jupyter-widgets/controls",
          "model_name": "DescriptionStyleModel",
          "model_module_version": "1.5.0",
          "state": {
            "_model_module": "@jupyter-widgets/controls",
            "_model_module_version": "1.5.0",
            "_model_name": "DescriptionStyleModel",
            "_view_count": null,
            "_view_module": "@jupyter-widgets/base",
            "_view_module_version": "1.2.0",
            "_view_name": "StyleView",
            "description_width": ""
          }
        },
        "96ebb7836d164c4b95b017dc516b6247": {
          "model_module": "@jupyter-widgets/base",
          "model_name": "LayoutModel",
          "model_module_version": "1.2.0",
          "state": {
            "_model_module": "@jupyter-widgets/base",
            "_model_module_version": "1.2.0",
            "_model_name": "LayoutModel",
            "_view_count": null,
            "_view_module": "@jupyter-widgets/base",
            "_view_module_version": "1.2.0",
            "_view_name": "LayoutView",
            "align_content": null,
            "align_items": null,
            "align_self": null,
            "border": null,
            "bottom": null,
            "display": null,
            "flex": null,
            "flex_flow": null,
            "grid_area": null,
            "grid_auto_columns": null,
            "grid_auto_flow": null,
            "grid_auto_rows": null,
            "grid_column": null,
            "grid_gap": null,
            "grid_row": null,
            "grid_template_areas": null,
            "grid_template_columns": null,
            "grid_template_rows": null,
            "height": null,
            "justify_content": null,
            "justify_items": null,
            "left": null,
            "margin": null,
            "max_height": null,
            "max_width": null,
            "min_height": null,
            "min_width": null,
            "object_fit": null,
            "object_position": null,
            "order": null,
            "overflow": null,
            "overflow_x": null,
            "overflow_y": null,
            "padding": null,
            "right": null,
            "top": null,
            "visibility": null,
            "width": null
          }
        },
        "5526aa35b71745098c90370731d6d1dd": {
          "model_module": "@jupyter-widgets/controls",
          "model_name": "ProgressStyleModel",
          "model_module_version": "1.5.0",
          "state": {
            "_model_module": "@jupyter-widgets/controls",
            "_model_module_version": "1.5.0",
            "_model_name": "ProgressStyleModel",
            "_view_count": null,
            "_view_module": "@jupyter-widgets/base",
            "_view_module_version": "1.2.0",
            "_view_name": "StyleView",
            "bar_color": null,
            "description_width": ""
          }
        },
        "10e28d88f1d24bd3a14afc0bb56a6fa5": {
          "model_module": "@jupyter-widgets/base",
          "model_name": "LayoutModel",
          "model_module_version": "1.2.0",
          "state": {
            "_model_module": "@jupyter-widgets/base",
            "_model_module_version": "1.2.0",
            "_model_name": "LayoutModel",
            "_view_count": null,
            "_view_module": "@jupyter-widgets/base",
            "_view_module_version": "1.2.0",
            "_view_name": "LayoutView",
            "align_content": null,
            "align_items": null,
            "align_self": null,
            "border": null,
            "bottom": null,
            "display": null,
            "flex": null,
            "flex_flow": null,
            "grid_area": null,
            "grid_auto_columns": null,
            "grid_auto_flow": null,
            "grid_auto_rows": null,
            "grid_column": null,
            "grid_gap": null,
            "grid_row": null,
            "grid_template_areas": null,
            "grid_template_columns": null,
            "grid_template_rows": null,
            "height": null,
            "justify_content": null,
            "justify_items": null,
            "left": null,
            "margin": null,
            "max_height": null,
            "max_width": null,
            "min_height": null,
            "min_width": null,
            "object_fit": null,
            "object_position": null,
            "order": null,
            "overflow": null,
            "overflow_x": null,
            "overflow_y": null,
            "padding": null,
            "right": null,
            "top": null,
            "visibility": null,
            "width": null
          }
        },
        "a7a0968345bb4859b53079ee7534ea65": {
          "model_module": "@jupyter-widgets/controls",
          "model_name": "DescriptionStyleModel",
          "model_module_version": "1.5.0",
          "state": {
            "_model_module": "@jupyter-widgets/controls",
            "_model_module_version": "1.5.0",
            "_model_name": "DescriptionStyleModel",
            "_view_count": null,
            "_view_module": "@jupyter-widgets/base",
            "_view_module_version": "1.2.0",
            "_view_name": "StyleView",
            "description_width": ""
          }
        }
      }
    }
  },
  "cells": [
    {
      "cell_type": "code",
      "execution_count": 2,
      "metadata": {
        "colab": {
          "base_uri": "https://localhost:8080/"
        },
        "id": "RCm68nwDLoKh",
        "outputId": "294a8226-4c4e-4ac8-ae5a-2431e9036388"
      },
      "outputs": [
        {
          "output_type": "stream",
          "name": "stdout",
          "text": [
            "Drive already mounted at /content/drive; to attempt to forcibly remount, call drive.mount(\"/content/drive\", force_remount=True).\n"
          ]
        }
      ],
      "source": [
        "from google.colab import drive\n",
        "drive.mount('/content/drive')"
      ]
    },
    {
      "cell_type": "code",
      "source": [
        "%cd /content/drive/MyDrive/Colab Notebooks/SW엔지니어"
      ],
      "metadata": {
        "colab": {
          "base_uri": "https://localhost:8080/"
        },
        "id": "_SFEHPfLL77R",
        "outputId": "ce992e10-0ea3-43a9-af2d-d0dc06d3765c"
      },
      "execution_count": 3,
      "outputs": [
        {
          "output_type": "stream",
          "name": "stdout",
          "text": [
            "/content/drive/MyDrive/Colab Notebooks/SW엔지니어\n"
          ]
        }
      ]
    },
    {
      "cell_type": "code",
      "source": [],
      "metadata": {
        "id": "v6wOjA6mL9-Z"
      },
      "execution_count": 3,
      "outputs": []
    },
    {
      "cell_type": "code",
      "source": [],
      "metadata": {
        "id": "CmgHat3QNlfJ"
      },
      "execution_count": 3,
      "outputs": []
    },
    {
      "cell_type": "markdown",
      "source": [
        "#### RNN 활용하기 : 네이버 영화 리뷰 데이터 감성분석\n"
      ],
      "metadata": {
        "id": "3etLnTWROGo1"
      }
    },
    {
      "cell_type": "markdown",
      "source": [
        "word 단위로 학습하기\n",
        "- 데이터 로딩\n",
        "- 결측치 제거\n",
        "- 문제, 답 분리"
      ],
      "metadata": {
        "id": "AIzHafXaL-Dh"
      }
    },
    {
      "cell_type": "code",
      "source": [
        "# 데이터 로딩\n",
        "import pandas as pd\n",
        "train_df = pd.read_csv('./data/ratings_train.txt', delimiter ='\\t')\n",
        "test_df = pd.read_csv('./data/ratings_test.txt', delimiter ='\\t')"
      ],
      "metadata": {
        "id": "UoajlOJXL-Fe"
      },
      "execution_count": 4,
      "outputs": []
    },
    {
      "cell_type": "code",
      "source": [
        "train_df.info()"
      ],
      "metadata": {
        "id": "RY8HcKJ4L-Ho",
        "colab": {
          "base_uri": "https://localhost:8080/"
        },
        "outputId": "89b52247-3f35-49ea-8ab8-aaf63b19d59e"
      },
      "execution_count": 5,
      "outputs": [
        {
          "output_type": "stream",
          "name": "stdout",
          "text": [
            "<class 'pandas.core.frame.DataFrame'>\n",
            "RangeIndex: 171075 entries, 0 to 171074\n",
            "Data columns (total 3 columns):\n",
            " #   Column    Non-Null Count   Dtype  \n",
            "---  ------    --------------   -----  \n",
            " 0   id        171075 non-null  object \n",
            " 1   document  171069 non-null  object \n",
            " 2   label     171074 non-null  float64\n",
            "dtypes: float64(1), object(2)\n",
            "memory usage: 3.9+ MB\n"
          ]
        }
      ]
    },
    {
      "cell_type": "code",
      "source": [
        "test_df.info()"
      ],
      "metadata": {
        "id": "in-cD3S1L-KG",
        "colab": {
          "base_uri": "https://localhost:8080/"
        },
        "outputId": "0b47d090-8402-4309-b870-457c886d2ecb"
      },
      "execution_count": 6,
      "outputs": [
        {
          "output_type": "stream",
          "name": "stdout",
          "text": [
            "<class 'pandas.core.frame.DataFrame'>\n",
            "RangeIndex: 50000 entries, 0 to 49999\n",
            "Data columns (total 3 columns):\n",
            " #   Column    Non-Null Count  Dtype \n",
            "---  ------    --------------  ----- \n",
            " 0   id        50000 non-null  int64 \n",
            " 1   document  49997 non-null  object\n",
            " 2   label     50000 non-null  int64 \n",
            "dtypes: int64(2), object(1)\n",
            "memory usage: 1.1+ MB\n"
          ]
        }
      ]
    },
    {
      "cell_type": "code",
      "source": [
        "# 결측치 제거\n",
        "train_df.dropna(inplace=True)\n",
        "test_df.dropna(inplace=True)"
      ],
      "metadata": {
        "id": "q97EhlMcL-L3"
      },
      "execution_count": 7,
      "outputs": []
    },
    {
      "cell_type": "code",
      "source": [
        "train_df.info()"
      ],
      "metadata": {
        "id": "X1MXVsKHL-OC",
        "colab": {
          "base_uri": "https://localhost:8080/"
        },
        "outputId": "4450767c-3679-48ee-8b9f-e6a6fb6dd613"
      },
      "execution_count": 8,
      "outputs": [
        {
          "output_type": "stream",
          "name": "stdout",
          "text": [
            "<class 'pandas.core.frame.DataFrame'>\n",
            "Index: 171068 entries, 0 to 171074\n",
            "Data columns (total 3 columns):\n",
            " #   Column    Non-Null Count   Dtype  \n",
            "---  ------    --------------   -----  \n",
            " 0   id        171068 non-null  object \n",
            " 1   document  171068 non-null  object \n",
            " 2   label     171068 non-null  float64\n",
            "dtypes: float64(1), object(2)\n",
            "memory usage: 5.2+ MB\n"
          ]
        }
      ]
    },
    {
      "cell_type": "code",
      "source": [
        "test_df.info()"
      ],
      "metadata": {
        "id": "mibLGKvbL-P_",
        "colab": {
          "base_uri": "https://localhost:8080/"
        },
        "outputId": "05953e0f-c69b-4dc3-e9b4-fd279448ba6e"
      },
      "execution_count": 9,
      "outputs": [
        {
          "output_type": "stream",
          "name": "stdout",
          "text": [
            "<class 'pandas.core.frame.DataFrame'>\n",
            "Index: 49997 entries, 0 to 49999\n",
            "Data columns (total 3 columns):\n",
            " #   Column    Non-Null Count  Dtype \n",
            "---  ------    --------------  ----- \n",
            " 0   id        49997 non-null  int64 \n",
            " 1   document  49997 non-null  object\n",
            " 2   label     49997 non-null  int64 \n",
            "dtypes: int64(2), object(1)\n",
            "memory usage: 1.5+ MB\n"
          ]
        }
      ]
    },
    {
      "cell_type": "markdown",
      "source": [
        "#### 학습을 위한 추가 전처리\n",
        "- 특수문자 제거\n",
        "- 불용어 제거\n",
        "- 형태소 분리 (어간 추출 + 정규화)\n",
        "- 인코딩 (라벨인코딩 방식 활용) + 길이(순환 횟수) 맞추기"
      ],
      "metadata": {
        "id": "LuDq7LTxL-SK"
      }
    },
    {
      "cell_type": "code",
      "source": [
        "import re"
      ],
      "metadata": {
        "id": "niPvYTL0L-UT"
      },
      "execution_count": 10,
      "outputs": []
    },
    {
      "cell_type": "code",
      "source": [
        "# 특수문자 제거를 위한 정규표현식 패턴 설정\n",
        "pattern = re.compile(r'[^a-zA-Z0-9가-힇\\s\\.\\?\\!]')\n",
        "# ^a-zA-Z0-9가-힇\\s\\.\\?\\! : ^모든. a-Z 알파뱃(대,소문자). 가-힇 한글. \\s 공백 문자(스페이스, 탭, 줄바꿈 등. \\.\\?\\! 자주쓰는 특수문자)"
      ],
      "metadata": {
        "id": "-6fUG7WUL-WZ"
      },
      "execution_count": 11,
      "outputs": []
    },
    {
      "cell_type": "code",
      "source": [
        "example_review = \"오늘 영화 Review 평점은 10점 만점에 9.7!! 너무 재밌습니다 😎😂👍 #꿀잼영화 #감동\""
      ],
      "metadata": {
        "id": "mlS5lBrdL-YS"
      },
      "execution_count": 12,
      "outputs": []
    },
    {
      "cell_type": "code",
      "source": [
        "# re.sub : (정규 표현식, 문자열, 바꿀 대상 문자열) > 문자열 치환 함수\n",
        "re.sub(pattern, \"\", example_review)"
      ],
      "metadata": {
        "id": "fmQESQ4gL-aG",
        "colab": {
          "base_uri": "https://localhost:8080/",
          "height": 36
        },
        "outputId": "7ce30f33-90b3-4c17-c39f-9010d3aec233"
      },
      "execution_count": 13,
      "outputs": [
        {
          "output_type": "execute_result",
          "data": {
            "text/plain": [
              "'오늘 영화 Review 평점은 10점 만점에 9.7!! 너무 재밌습니다  꿀잼영화 감동'"
            ],
            "application/vnd.google.colaboratory.intrinsic+json": {
              "type": "string"
            }
          },
          "metadata": {},
          "execution_count": 13
        }
      ]
    },
    {
      "cell_type": "code",
      "source": [
        "!pip -q install konlpy kiwipiepy"
      ],
      "metadata": {
        "id": "_YoC3cb-L-cf",
        "colab": {
          "base_uri": "https://localhost:8080/"
        },
        "collapsed": true,
        "outputId": "c0873846-68c9-4b94-acfe-c72d3287837c"
      },
      "execution_count": 14,
      "outputs": [
        {
          "output_type": "stream",
          "name": "stdout",
          "text": [
            "\u001b[2K     \u001b[90m━━━━━━━━━━━━━━━━━━━━━━━━━━━━━━━━━━━━━━━━\u001b[0m \u001b[32m35.5/35.5 MB\u001b[0m \u001b[31m19.7 MB/s\u001b[0m eta \u001b[36m0:00:00\u001b[0m\n",
            "\u001b[?25h  Preparing metadata (setup.py) ... \u001b[?25l\u001b[?25hdone\n",
            "\u001b[2K   \u001b[90m━━━━━━━━━━━━━━━━━━━━━━━━━━━━━━━━━━━━━━━━\u001b[0m \u001b[32m19.4/19.4 MB\u001b[0m \u001b[31m8.7 MB/s\u001b[0m eta \u001b[36m0:00:00\u001b[0m\n",
            "\u001b[2K   \u001b[90m━━━━━━━━━━━━━━━━━━━━━━━━━━━━━━━━━━━━━━━━\u001b[0m \u001b[32m7.6/7.6 MB\u001b[0m \u001b[31m48.0 MB/s\u001b[0m eta \u001b[36m0:00:00\u001b[0m\n",
            "\u001b[2K   \u001b[90m━━━━━━━━━━━━━━━━━━━━━━━━━━━━━━━━━━━━━━━━\u001b[0m \u001b[32m494.1/494.1 kB\u001b[0m \u001b[31m28.7 MB/s\u001b[0m eta \u001b[36m0:00:00\u001b[0m\n",
            "\u001b[?25h  Building wheel for kiwipiepy_model (setup.py) ... \u001b[?25l\u001b[?25hdone\n"
          ]
        }
      ]
    },
    {
      "cell_type": "code",
      "source": [
        "from kiwipiepy.utils import Stopwords\n",
        "# 불용어 : 자주 등장하지만 분석에 큰 의미가 없는 단어들"
      ],
      "metadata": {
        "id": "LA0QfUc-VGl4"
      },
      "execution_count": 15,
      "outputs": []
    },
    {
      "cell_type": "code",
      "source": [
        "stopwords = Stopwords()"
      ],
      "metadata": {
        "id": "9iSE6AX1VGpI"
      },
      "execution_count": 16,
      "outputs": []
    },
    {
      "cell_type": "code",
      "source": [
        "# 불용어 사전 확인\n",
        "print(stopwords.stopwords)"
      ],
      "metadata": {
        "colab": {
          "base_uri": "https://localhost:8080/"
        },
        "id": "IduYHp4vVGr2",
        "outputId": "4d47912e-de54-4d27-832b-f392be79733a"
      },
      "execution_count": 17,
      "outputs": [
        {
          "output_type": "stream",
          "name": "stdout",
          "text": [
            "{('성', 'XSN'), ('와', 'JKB'), ('는', 'JX'), ('며', 'EC'), ('을', 'JKO'), ('도', 'JX'), ('ᆯ', 'ETM'), ('과', 'JKB'), ('말', 'NNG'), ('으로', 'JKB'), ('나', 'NP'), ('한', 'MM'), ('ᆫ다', 'EF'), ('ᆫ', 'ETM'), ('그', 'NP'), ('은', 'JX'), ('있', 'VX'), ('사람', 'NNG'), ('겠', 'EP'), ('이', 'JKC'), ('것', 'NNB'), ('이', 'JKS'), ('때문', 'NNB'), ('있', 'VV'), ('그', 'MM'), ('되', 'XSV'), ('때', 'NNG'), ('없', 'VA'), ('화', 'XSN'), ('이', 'NP'), ('하', 'XSV'), ('어', 'EC'), ('면', 'EC'), ('어서', 'EC'), ('던', 'ETM'), ('다', 'EF'), ('같', 'VA'), ('ᆫ', 'JX'), ('다는', 'ETM'), ('보', 'VV'), ('명', 'NNB'), ('지', 'VX'), ('되', 'VV'), ('가', 'JKS'), ('하', 'VX'), ('위하', 'VV'), ('받', 'VV'), ('일', 'NNB'), ('지', 'EC'), ('월', 'NNB'), ('하', 'VV'), ('어', 'EF'), ('아니', 'VCN'), ('와', 'JC'), ('수', 'NNB'), ('의', 'JKG'), ('지역', 'NNG'), ('따르', 'VV'), ('고', 'JKQ'), ('부터', 'JX'), ('과', 'JC'), ('년', 'NNB'), ('하', 'XSA'), ('통하', 'VV'), ('만', 'JX'), ('에서', 'JKB'), ('이', 'MM'), ('까지', 'JX'), ('지만', 'EC'), ('등', 'NNB'), ('제', 'XPN'), ('이', 'VCP'), ('더', 'MAG'), ('를', 'JKO'), ('주', 'VX'), ('다고', 'EC'), ('들', 'XSN'), ('적', 'XSN'), ('일', 'NNG'), ('에', 'JKB'), ('중', 'NNB'), ('라는', 'ETM'), ('대하', 'VV'), ('고', 'EC'), ('우리', 'NP'), ('는', 'ETM'), ('게', 'EC'), ('않', 'VX'), ('기', 'ETN'), ('었', 'EP'), ('다', 'EC'), ('면서', 'EC'), ('원', 'NNB'), ('로', 'JKB'), ('라', 'EC'), ('을', 'ETM'), ('만', 'NR'), ('어야', 'EC'), ('에게', 'JKB'), ('은', 'ETM')}\n"
          ]
        }
      ]
    },
    {
      "cell_type": "code",
      "source": [
        "stopwords_list = [word for word, tag in stopwords.stopwords]\n",
        "\n",
        "# stopwords_list = []\n",
        "# for word, tag in stopwords.stopwords:\n",
        "#  stopwords_list.append(word)"
      ],
      "metadata": {
        "id": "OKB8EYE-VGug"
      },
      "execution_count": 18,
      "outputs": []
    },
    {
      "cell_type": "code",
      "source": [
        "print(stopwords_list)"
      ],
      "metadata": {
        "colab": {
          "base_uri": "https://localhost:8080/"
        },
        "id": "qWF4HLuyVGw7",
        "outputId": "5d033331-ea3f-4976-c43d-56c13478ca1c"
      },
      "execution_count": 19,
      "outputs": [
        {
          "output_type": "stream",
          "name": "stdout",
          "text": [
            "['성', '와', '는', '며', '을', '도', 'ᆯ', '과', '말', '으로', '나', '한', 'ᆫ다', 'ᆫ', '그', '은', '있', '사람', '겠', '이', '것', '이', '때문', '있', '그', '되', '때', '없', '화', '이', '하', '어', '면', '어서', '던', '다', '같', 'ᆫ', '다는', '보', '명', '지', '되', '가', '하', '위하', '받', '일', '지', '월', '하', '어', '아니', '와', '수', '의', '지역', '따르', '고', '부터', '과', '년', '하', '통하', '만', '에서', '이', '까지', '지만', '등', '제', '이', '더', '를', '주', '다고', '들', '적', '일', '에', '중', '라는', '대하', '고', '우리', '는', '게', '않', '기', '었', '다', '면서', '원', '로', '라', '을', '만', '어야', '에게', '은']\n"
          ]
        }
      ]
    },
    {
      "cell_type": "code",
      "source": [
        "from konlpy.tag import Okt"
      ],
      "metadata": {
        "id": "EwEjI-0xVGzM"
      },
      "execution_count": 20,
      "outputs": []
    },
    {
      "cell_type": "code",
      "source": [
        "okt = Okt()"
      ],
      "metadata": {
        "id": "Z0xK1CXkVG1f"
      },
      "execution_count": 21,
      "outputs": []
    },
    {
      "cell_type": "code",
      "source": [
        "# 품사 태깅(pos tagging) 예시\n",
        "temp = okt.pos(\n",
        "    '예시 문장 : 점심식사 맛있게 하셨습니까?',\n",
        "    stem = True,    # 어간 추출 (먹었다, 먹었음, 먹었어요 - > '먹다')\n",
        "    norm = True     # 정규화 (입력 문장을 표준화 된 형태소로 변환하거나 비표준표현 삭제)\n",
        ")\n",
        "temp"
      ],
      "metadata": {
        "colab": {
          "base_uri": "https://localhost:8080/"
        },
        "id": "4PallEasyCLv",
        "outputId": "5a221167-01bf-431b-90a5-0129b5eb4f6f"
      },
      "execution_count": 23,
      "outputs": [
        {
          "output_type": "execute_result",
          "data": {
            "text/plain": [
              "[('예시', 'Noun'),\n",
              " ('문장', 'Noun'),\n",
              " (':', 'Punctuation'),\n",
              " ('점심식사', 'Noun'),\n",
              " ('맛있다', 'Adjective'),\n",
              " ('하다', 'Verb'),\n",
              " ('?', 'Punctuation')]"
            ]
          },
          "metadata": {},
          "execution_count": 23
        }
      ]
    },
    {
      "cell_type": "code",
      "source": [
        "okt.tagset"
      ],
      "metadata": {
        "colab": {
          "base_uri": "https://localhost:8080/"
        },
        "id": "Gh0zsOWayCO8",
        "outputId": "7fcc8307-cc0c-47a7-b176-87ea6110e818"
      },
      "execution_count": 24,
      "outputs": [
        {
          "output_type": "execute_result",
          "data": {
            "text/plain": [
              "{'Adjective': '형용사',\n",
              " 'Adverb': '부사',\n",
              " 'Alpha': '알파벳',\n",
              " 'Conjunction': '접속사',\n",
              " 'Determiner': '관형사',\n",
              " 'Eomi': '어미',\n",
              " 'Exclamation': '감탄사',\n",
              " 'Foreign': '외국어, 한자 및 기타기호',\n",
              " 'Hashtag': '트위터 해쉬태그',\n",
              " 'Josa': '조사',\n",
              " 'KoreanParticle': '(ex: ㅋㅋ)',\n",
              " 'Noun': '명사',\n",
              " 'Number': '숫자',\n",
              " 'PreEomi': '선어말어미',\n",
              " 'Punctuation': '구두점',\n",
              " 'ScreenName': '트위터 아이디',\n",
              " 'Suffix': '접미사',\n",
              " 'Unknown': '미등록어',\n",
              " 'Verb': '동사'}"
            ]
          },
          "metadata": {},
          "execution_count": 24
        }
      ]
    },
    {
      "cell_type": "code",
      "source": [
        "# 전처리 함수 정의\n",
        "def preprocess_text(text):\n",
        "  # 1. 특수문자 제거, 소문자 변환, 양끝 공백 제거\n",
        "  text = re.sub(pattern,\"\",text).lower().strip()\n",
        "\n",
        "  # 2. 형태소 분석 (어간 추출+정규화)\n",
        "  pos_tags = okt.pos(text, stem=True, norm=True)\n",
        "\n",
        "  # 3. 명사, 형용사, 동사만 남기고 kiwi Stopwords에 있는 불용어는 필터링\n",
        "  tokens = [\n",
        "      word for word, tag in pos_tags\n",
        "      if tag in ['Noun', 'Verb', 'Adjective'] and word not in stopwords_list\n",
        "  ]\n",
        "  return \" \".join(tokens) # 공백으로 이어서 문자열로 반환"
      ],
      "metadata": {
        "id": "3NzGcx-tyCR0"
      },
      "execution_count": 33,
      "outputs": []
    },
    {
      "cell_type": "code",
      "source": [
        "from tqdm.auto import tqdm"
      ],
      "metadata": {
        "id": "VIhL1alhyCUt"
      },
      "execution_count": 27,
      "outputs": []
    },
    {
      "cell_type": "code",
      "source": [
        "tqdm.pandas()"
      ],
      "metadata": {
        "id": "cJiMMtcNyCXR"
      },
      "execution_count": 28,
      "outputs": []
    },
    {
      "cell_type": "code",
      "source": [
        "X_train_clean = train_df['document'].progress_apply(preprocess_text)\n",
        "X_test_clean = test_df['document'].progress_apply(preprocess_text)"
      ],
      "metadata": {
        "colab": {
          "base_uri": "https://localhost:8080/",
          "height": 81,
          "referenced_widgets": [
            "3e7befdd7629437aaf6fae9b250ae136",
            "a8d6cc116de442079f83deb81e247264",
            "8106ba493c664e288a7793d49e02e066",
            "30260793173c4eb0aad6bba5cf95957f",
            "68d7d7f233aa4b81b3365e2f506ec052",
            "5965ee805fb345299a384adc423c39f5",
            "63f6c29441d549bf83f4571bd015f626",
            "5a1722abff0f4f809c74f6e73d2759c8",
            "332149c559514b208eb6d581d0633762",
            "92666871548a4b278cca3f3a73ee4b4b",
            "a556279f4e5b43918073bb10d5e31c35",
            "fc6453df247e4538b9977b3726123dfc",
            "1d03c5817d904c92ab063573b5053091",
            "861c5ba3d6ba4a0f82924b0e20d3c085",
            "3a61341a0a6b44a78d645d9dd14294a5",
            "f0d66aa06ddc4e7fb98e928427c7960d",
            "32e893c9a85146f2b08599b38b3ff2ed",
            "aa3b164579cb4ee48b20eb1376fce88b",
            "96ebb7836d164c4b95b017dc516b6247",
            "5526aa35b71745098c90370731d6d1dd",
            "10e28d88f1d24bd3a14afc0bb56a6fa5",
            "a7a0968345bb4859b53079ee7534ea65"
          ]
        },
        "id": "rBnwHRInyCaH",
        "outputId": "59a6545a-bddc-484a-d0ce-a75460e8fbfa"
      },
      "execution_count": 34,
      "outputs": [
        {
          "output_type": "display_data",
          "data": {
            "text/plain": [
              "  0%|          | 0/171068 [00:00<?, ?it/s]"
            ],
            "application/vnd.jupyter.widget-view+json": {
              "version_major": 2,
              "version_minor": 0,
              "model_id": "3e7befdd7629437aaf6fae9b250ae136"
            }
          },
          "metadata": {}
        },
        {
          "output_type": "display_data",
          "data": {
            "text/plain": [
              "  0%|          | 0/49997 [00:00<?, ?it/s]"
            ],
            "application/vnd.jupyter.widget-view+json": {
              "version_major": 2,
              "version_minor": 0,
              "model_id": "fc6453df247e4538b9977b3726123dfc"
            }
          },
          "metadata": {}
        }
      ]
    },
    {
      "cell_type": "code",
      "source": [
        "X_train_clean.shape, X_test_clean.shape"
      ],
      "metadata": {
        "colab": {
          "base_uri": "https://localhost:8080/"
        },
        "id": "Kc73B-iyVG35",
        "outputId": "c9d7e011-a634-4336-9efd-2fcbea64cc04"
      },
      "execution_count": 40,
      "outputs": [
        {
          "output_type": "execute_result",
          "data": {
            "text/plain": [
              "((171068,), (49997,))"
            ]
          },
          "metadata": {},
          "execution_count": 40
        }
      ]
    },
    {
      "cell_type": "code",
      "source": [
        "X_train_clean.head()"
      ],
      "metadata": {
        "colab": {
          "base_uri": "https://localhost:8080/",
          "height": 241
        },
        "id": "qa5YSlRyBouB",
        "outputId": "b0ab6095-0560-49c8-933c-aa29e2b07835"
      },
      "execution_count": 38,
      "outputs": [
        {
          "output_type": "execute_result",
          "data": {
            "text/plain": [
              "0                                       더빙 진짜 짜증나다 목소리\n",
              "1                        흠 포스터 보고 초딩 영화 줄 오버 연기 가볍다 않다\n",
              "2                                    무재 밓었 다그 래서 보다 추천\n",
              "3                            교도소 이야기 구먼 솔직 재미 없다 평점 조정\n",
              "4    몬페 익살스럽다 연기 돋보이다 영화 스파이더맨 늙다 보이다 하다 커스틴 던스트 이쁘...\n",
              "Name: document, dtype: object"
            ],
            "text/html": [
              "<div>\n",
              "<style scoped>\n",
              "    .dataframe tbody tr th:only-of-type {\n",
              "        vertical-align: middle;\n",
              "    }\n",
              "\n",
              "    .dataframe tbody tr th {\n",
              "        vertical-align: top;\n",
              "    }\n",
              "\n",
              "    .dataframe thead th {\n",
              "        text-align: right;\n",
              "    }\n",
              "</style>\n",
              "<table border=\"1\" class=\"dataframe\">\n",
              "  <thead>\n",
              "    <tr style=\"text-align: right;\">\n",
              "      <th></th>\n",
              "      <th>document</th>\n",
              "    </tr>\n",
              "  </thead>\n",
              "  <tbody>\n",
              "    <tr>\n",
              "      <th>0</th>\n",
              "      <td>더빙 진짜 짜증나다 목소리</td>\n",
              "    </tr>\n",
              "    <tr>\n",
              "      <th>1</th>\n",
              "      <td>흠 포스터 보고 초딩 영화 줄 오버 연기 가볍다 않다</td>\n",
              "    </tr>\n",
              "    <tr>\n",
              "      <th>2</th>\n",
              "      <td>무재 밓었 다그 래서 보다 추천</td>\n",
              "    </tr>\n",
              "    <tr>\n",
              "      <th>3</th>\n",
              "      <td>교도소 이야기 구먼 솔직 재미 없다 평점 조정</td>\n",
              "    </tr>\n",
              "    <tr>\n",
              "      <th>4</th>\n",
              "      <td>몬페 익살스럽다 연기 돋보이다 영화 스파이더맨 늙다 보이다 하다 커스틴 던스트 이쁘...</td>\n",
              "    </tr>\n",
              "  </tbody>\n",
              "</table>\n",
              "</div><br><label><b>dtype:</b> object</label>"
            ]
          },
          "metadata": {},
          "execution_count": 38
        }
      ]
    },
    {
      "cell_type": "code",
      "source": [
        "# label 분리\n",
        "y_train = train_df['label']\n",
        "y_test = test_df['label']"
      ],
      "metadata": {
        "id": "if71Wp6UVG6Y"
      },
      "execution_count": 37,
      "outputs": []
    },
    {
      "cell_type": "markdown",
      "source": [
        "### 전처리 완료된 데이터 저장"
      ],
      "metadata": {
        "id": "rR_hnYPOVG8r"
      }
    },
    {
      "cell_type": "code",
      "source": [
        "import pickle"
      ],
      "metadata": {
        "id": "jQnlvdIRVG_R"
      },
      "execution_count": 39,
      "outputs": []
    },
    {
      "cell_type": "code",
      "source": [
        "# 저장\n",
        "with open('./data/X_train_morphs.pkl', 'wb') as f:\n",
        "  pickle.dump(X_train_clean, f)\n",
        "with open('./data/X_test_morphs.pkl', 'wb') as f:\n",
        "  pickle.dump(X_test_clean, f)\n",
        "\n",
        "with open('./data/y_train.pkl', 'wb') as f:\n",
        "  pickle.dump(y_train, f)\n",
        "with open('./data/y_test.pkl', 'wb') as f:\n",
        "  pickle.dump(y_test, f)"
      ],
      "metadata": {
        "id": "sYbrSURfVHBx"
      },
      "execution_count": 41,
      "outputs": []
    },
    {
      "cell_type": "markdown",
      "source": [
        "#### 데이터 불러오기"
      ],
      "metadata": {
        "id": "R3HlFJp7VHEP"
      }
    },
    {
      "cell_type": "code",
      "source": [
        "# 로딩\n",
        "with open('./data/X_train_morphs.pkl', 'rb') as f:\n",
        "  X_train_clean = pickle.load(f)\n",
        "with open('./data/X_test_morphs.pkl', 'rb') as f:\n",
        "  X_test_clean = pickle.load(f)\n",
        "\n",
        "with open('./data/y_train.pkl', 'rb') as f:\n",
        "  y_train = pickle.load(f)\n",
        "with open('./data/y_test.pkl', 'rb') as f:\n",
        "  y_test = pickle.load(f)"
      ],
      "metadata": {
        "id": "skLKd9bFVHG4"
      },
      "execution_count": 42,
      "outputs": []
    },
    {
      "cell_type": "markdown",
      "source": [
        "#### 시퀀스 변환 준비\n",
        "- 토큰화 : 문장을 특정 기준에 맞춰 쪼개는 것\n",
        "  - 글자단위, 단어단위(띄어쓰기), 형태소단위(명사,형용사,동사 등)\n",
        "- 수치화 : 잘라진 토큰을 일정 기준(알고리즘)에 맞춰 숫자로 변경하는 것\n",
        "- 빈도인코딩, 원핫인코딩, 라벨인코딩, BOW, Tf-idf 등"
      ],
      "metadata": {
        "id": "t4uEH8yjVHJi"
      }
    },
    {
      "cell_type": "code",
      "source": [
        "from tensorflow.keras.layers import TextVectorization\n",
        "# 텍스트 데이터를 토큰화, 수치화로 모델학습용 데이터로 변경하는 클래스"
      ],
      "metadata": {
        "id": "sjCVAZMgVHMW"
      },
      "execution_count": 43,
      "outputs": []
    },
    {
      "cell_type": "code",
      "source": [
        "tv = TextVectorization(\n",
        "    # 사전에서 사용할 최대 단어 수 설정\n",
        "    max_tokens = 5000,\n",
        "\n",
        "    # 텍스트를 어떻게 변환할지 지정하는 옵션\n",
        "    output_mode='int', # 텍스트를 정수 인덱스로 변환하여 각 단어에 해당하는 정수 출력\n",
        "\n",
        "    # 텍스트 데이터를 표준화하는 방식 지정 (텍스트가 일관된 형식으로 정리됨)\n",
        "    standardize ='lower_and_strip_punctuation', # 소문자 변환, 구두점 제거 default 값\n",
        "\n",
        "    # 출력되는 정수 시퀀스 최대 길이 고정. (짧으면 패딩(0)으로 채움, 길면 자름)\n",
        "    output_sequence_length=10\n",
        ")"
      ],
      "metadata": {
        "id": "uvCh8X4xD4Jb"
      },
      "execution_count": 46,
      "outputs": []
    },
    {
      "cell_type": "code",
      "source": [
        "# 훈련데이터 기반으로 전처리, 토큰화, 단어사전 구축\n",
        "tv.adapt(X_train_clean)"
      ],
      "metadata": {
        "id": "TUVZK4XfD4HI"
      },
      "execution_count": 47,
      "outputs": []
    },
    {
      "cell_type": "code",
      "source": [
        "# 단어사전의 수 확인 max_tokens = 5000\n",
        "tv.vocabulary_size()"
      ],
      "metadata": {
        "colab": {
          "base_uri": "https://localhost:8080/"
        },
        "id": "s0jpEx3jG3JS",
        "outputId": "a6b3295f-2b1e-4135-b168-9689178b23d0"
      },
      "execution_count": 48,
      "outputs": [
        {
          "output_type": "execute_result",
          "data": {
            "text/plain": [
              "5000"
            ]
          },
          "metadata": {},
          "execution_count": 48
        }
      ]
    },
    {
      "cell_type": "code",
      "source": [
        "# 단어 토큰 확인\n",
        "print(tv.get_vocabulary())\n",
        "# UNK : unknown 토큰. 단어사전에 등록되지 않은 단어를 표현하는 토큰"
      ],
      "metadata": {
        "colab": {
          "base_uri": "https://localhost:8080/"
        },
        "id": "YDxuWzlrG3MJ",
        "outputId": "21d3dd47-3fd5-489f-e39a-0b9a3481963a"
      },
      "execution_count": 49,
      "outputs": [
        {
          "output_type": "stream",
          "name": "stdout",
          "text": [
            "['', '[UNK]', np.str_('영화'), np.str_('하다'), np.str_('보다'), np.str_('없다'), np.str_('있다'), np.str_('좋다'), np.str_('재밌다'), np.str_('정말'), np.str_('되다'), np.str_('같다'), np.str_('진짜'), np.str_('이다'), np.str_('점'), np.str_('아니다'), np.str_('않다'), np.str_('만들다'), np.str_('나오다'), np.str_('연기'), np.str_('평점'), np.str_('최고'), np.str_('왜'), np.str_('스토리'), np.str_('생각'), np.str_('드라마'), np.str_('감동'), np.str_('보고'), np.str_('아깝다'), np.str_('이렇다'), np.str_('내'), np.str_('배우'), np.str_('재미있다'), np.str_('거'), np.str_('감독'), np.str_('들다'), np.str_('뭐'), np.str_('내용'), np.str_('재미'), np.str_('그냥'), np.str_('주다'), np.str_('좀'), np.str_('재미없다'), np.str_('자다'), np.str_('지루하다'), np.str_('쓰레기'), np.str_('시간'), np.str_('가다'), np.str_('모르다'), np.str_('그렇다'), np.str_('싶다'), np.str_('작품'), np.str_('사랑'), np.str_('알다'), np.str_('다시'), np.str_('하나'), np.str_('오다'), np.str_('볼'), np.str_('마지막'), np.str_('완전'), np.str_('처음'), np.str_('정도'), np.str_('많다'), np.str_('장면'), np.str_('주인공'), np.str_('액션'), np.str_('차다'), np.str_('안되다'), np.str_('최악'), np.str_('나다'), np.str_('지금'), np.str_('별로'), np.str_('돈'), np.str_('이야기'), np.str_('걸'), np.str_('임'), np.str_('연출'), np.str_('넘다'), np.str_('느낌'), np.str_('개'), np.str_('끝'), np.str_('듯'), np.str_('좋아하다'), np.str_('명작'), np.str_('역시'), np.str_('받다'), np.str_('남다'), np.str_('이해'), np.str_('괜찮다'), np.str_('안'), np.str_('이영화'), np.str_('버리다'), np.str_('느끼다'), np.str_('또'), np.str_('여자'), np.str_('먹다'), np.str_('아름답다'), np.str_('편'), np.str_('난'), np.str_('해주다'), np.str_('꼭'), np.str_('기억'), np.str_('보기'), np.str_('결말'), np.str_('마음'), np.str_('어떻다'), np.str_('인생'), np.str_('아쉽다'), np.str_('소재'), np.str_('뻔하다'), np.str_('애'), np.str_('끄다'), np.str_('못'), np.str_('보여주다'), np.str_('어리다'), np.str_('수준'), np.str_('무섭다'), np.str_('재다'), np.str_('맞다'), np.str_('한번'), np.str_('반전'), np.str_('현실'), np.str_('가장'), np.str_('매력'), np.str_('웃기다'), np.str_('전개'), np.str_('되어다'), np.str_('한국'), np.str_('가슴'), np.str_('남자'), np.str_('끝나다'), np.str_('말다'), np.str_('낮다'), np.str_('알'), np.str_('높다'), np.str_('슬프다'), np.str_('죽다'), np.str_('유치하다'), np.str_('음악'), np.str_('멋지다'), np.str_('아이'), np.str_('원작'), np.str_('저'), np.str_('줄'), np.str_('늘다'), np.str_('눈물'), np.str_('크다'), np.str_('쓰다'), np.str_('무슨'), np.str_('추천'), np.str_('인간'), np.str_('함'), np.str_('내다'), np.str_('살다'), np.str_('야하다'), np.str_('속'), np.str_('눈'), np.str_('자체'), np.str_('번'), np.str_('찍다'), np.str_('허다'), np.str_('솔직'), np.str_('짜증나다'), np.str_('보이다'), np.str_('캐릭터'), np.str_('대한'), np.str_('움'), np.str_('코미디'), np.str_('뭔가'), np.str_('대박'), np.str_('돼다'), np.str_('이쁘다'), np.str_('전혀'), np.str_('연기력'), np.str_('미치다'), np.str_('이상'), np.str_('지다'), np.str_('여운'), np.str_('기대'), np.str_('건지다'), np.str_('공감'), np.str_('별'), np.str_('영상'), np.str_('굿'), np.str_('기대하다'), np.str_('개봉'), np.str_('시리즈'), np.str_('모습'), np.str_('모두'), np.str_('중간'), np.str_('아주'), np.str_('일본'), np.str_('부분'), np.str_('귀엽다'), np.str_('전'), np.str_('치다'), np.str_('제목'), np.str_('가족'), np.str_('계속'), np.str_('감'), np.str_('요'), np.str_('보지'), np.str_('시키다'), np.str_('뿐'), np.str_('진심'), np.str_('믿다'), np.str_('내내'), np.str_('실망'), np.str_('급'), np.str_('다른'), np.str_('후'), np.str_('기분'), np.str_('표현'), np.str_('몰입'), np.str_('무엇'), np.str_('위'), np.str_('작가'), np.str_('떨어지다'), np.str_('이제'), np.str_('스릴러'), np.str_('웃다'), np.str_('대단하다'), np.str_('빠지다'), np.str_('공포'), np.str_('요즘'), np.str_('개인'), np.str_('잔잔하다'), np.str_('점도'), np.str_('잼'), np.str_('용'), np.str_('긴장감'), np.str_('조금'), np.str_('애니'), np.str_('특'), np.str_('모든'), np.str_('노래'), np.str_('삶'), np.str_('대사'), np.str_('알바'), np.str_('제대로'), np.str_('건'), np.str_('분'), np.str_('시작'), np.str_('극장'), np.str_('울다'), np.str_('이유'), np.str_('욕'), np.str_('점수'), np.str_('짱'), np.str_('이상하다'), np.str_('짜다'), np.str_('막장'), np.str_('나름'), np.str_('예쁘다'), np.str_('깊다'), np.str_('차라리'), np.str_('노잼'), np.str_('제일'), np.str_('절대'), np.str_('해보다'), np.str_('느껴지다'), np.str_('어설프다'), np.str_('영화로'), np.str_('당시'), np.str_('친구'), np.str_('놈'), np.str_('잇다'), np.str_('빼다'), np.str_('류'), np.str_('위해'), np.str_('따뜻하다'), np.str_('세상'), np.str_('의미'), np.str_('대다'), np.str_('미국'), np.str_('공포영화'), np.str_('앞'), np.str_('도대체'), np.str_('찾다'), np.str_('훌륭하다'), np.str_('그리다'), np.str_('웃음'), np.str_('설정'), np.str_('물'), np.str_('다르다'), np.str_('생각나다'), np.str_('수작'), np.str_('써다'), np.str_('죽이다'), np.str_('초반'), np.str_('출연'), np.str_('뭘'), np.str_('가지'), np.str_('우리나라'), np.str_('사실'), np.str_('필요없다'), np.str_('답답하다'), np.str_('지루함'), np.str_('추억'), np.str_('남'), np.str_('놓다'), np.str_('싫다'), np.str_('아프다'), np.str_('멋있다'), np.str_('장난'), np.str_('한국영'), np.str_('소리'), np.str_('기다'), np.str_('관객'), np.str_('해'), np.str_('팬'), np.str_('따다'), np.str_('더럽다'), np.str_('신선하다'), np.str_('시나리오'), np.str_('분위기'), np.str_('시대'), np.str_('준'), np.str_('나쁘다'), np.str_('어이없다'), np.str_('잊다'), np.str_('최고다'), np.str_('영화관'), np.str_('졸작'), np.str_('감정'), np.str_('자신'), np.str_('살'), np.str_('엔딩'), np.str_('오늘'), np.str_('엄마'), np.str_('접'), np.str_('안타깝다'), np.str_('스럽다'), np.str_('제발'), np.str_('봄'), np.str_('부족하다'), np.str_('캐스팅'), np.str_('평가'), np.str_('얼마나'), np.str_('인상'), np.str_('포스터'), np.str_('애니메이션'), np.str_('배우다'), np.str_('문제'), np.str_('어색하다'), np.str_('코믹'), np.str_('정신'), np.str_('라면'), np.str_('더빙'), np.str_('몰입도'), np.str_('음'), np.str_('서다'), np.str_('낫다'), np.str_('킬링타임'), np.str_('망하다'), np.str_('비다'), np.str_('대해'), np.str_('배경'), np.str_('맘'), np.str_('티비'), np.str_('쓸다'), np.str_('두다'), np.str_('유쾌하다'), np.str_('적다'), np.str_('질'), np.str_('얘기'), np.str_('진부하다'), np.str_('스릴'), np.str_('머리'), np.str_('뒤'), np.str_('개연'), np.str_('살리다'), np.str_('데'), np.str_('나가다'), np.str_('즐겁다'), np.str_('놀라다'), np.str_('만화'), np.str_('충격'), np.str_('책'), np.str_('기도'), np.str_('갈수록'), np.str_('읽다'), np.str_('매우'), np.str_('웃기'), np.str_('전쟁'), np.str_('머'), np.str_('옛날'), np.str_('얼굴'), np.str_('구성'), np.str_('어울리다'), np.str_('영화인'), np.str_('후회'), np.str_('이후'), np.str_('예술'), np.str_('장르'), np.str_('어디'), np.str_('이름'), np.str_('꽤'), np.str_('행복하다'), np.str_('들이다'), np.str_('집중'), np.str_('집'), np.str_('존나'), np.str_('완벽하다'), np.str_('강추'), np.str_('멀다'), np.str_('주연'), np.str_('새롭다'), np.str_('언제'), np.str_('글'), np.str_('다큐'), np.str_('누구'), np.str_('시즌'), np.str_('상황'), np.str_('날'), np.str_('건가'), np.str_('짜증'), np.str_('그것'), np.str_('생기다'), np.str_('후반'), np.str_('억지'), np.str_('씬'), np.str_('다운'), np.str_('역사'), np.str_('누가'), np.str_('걸작'), np.str_('비'), np.str_('예전'), np.str_('두'), np.str_('궁금하다'), np.str_('여기'), np.str_('불쌍하다'), np.str_('약간'), np.str_('밉다'), np.str_('자기'), np.str_('소름'), np.str_('그대로'), np.str_('발연기'), np.str_('해도'), np.str_('진'), np.str_('잔인하다'), np.str_('비디오'), np.str_('인물'), np.str_('시절'), np.str_('부'), np.str_('실화'), np.str_('방송'), np.str_('니'), np.str_('작'), np.str_('드리다'), np.str_('만점'), np.str_('사회'), np.str_('한마디'), np.str_('순수하다'), np.str_('대체'), np.str_('따르다'), np.str_('필요하다'), np.str_('어렵다'), np.str_('쉬다'), np.str_('소설'), np.str_('비교'), np.str_('다음'), np.str_('네이버'), np.str_('비슷하다'), np.str_('자'), np.str_('로맨스'), np.str_('간만'), np.str_('초딩'), np.str_('아들'), np.str_('만나다'), np.str_('코'), np.str_('판'), np.str_('여배우'), np.str_('꿈'), np.str_('떠나다'), np.str_('남기다'), np.str_('전체'), np.str_('감성'), np.str_('여주'), np.str_('나이'), np.str_('편이'), np.str_('타다'), np.str_('잡다'), np.str_('사랑스럽다'), np.str_('순간'), np.str_('당하다'), np.str_('삼류'), np.str_('심하다'), np.str_('성룡'), np.str_('바로'), np.str_('교훈'), np.str_('혼자'), np.str_('감사하다'), np.str_('이르다'), np.str_('돌리다'), np.str_('터지다'), np.str_('목소리'), np.str_('주제'), np.str_('존재'), np.str_('풀다'), np.str_('바라다'), np.str_('굳다'), np.str_('막'), np.str_('돋다'), np.str_('당신'), np.str_('안보'), np.str_('낭비'), np.str_('거의'), np.str_('너'), np.str_('진정하다'), np.str_('엄청나다'), np.str_('뻔'), np.str_('독특하다'), np.str_('가볍다'), np.str_('지나다'), np.str_('나라'), np.str_('질질'), np.str_('뜨다'), np.str_('몇번'), np.str_('화려하다'), np.str_('줄거리'), np.str_('의도'), np.str_('망치다'), np.str_('좀비'), np.str_('성하다'), np.str_('담다'), np.str_('죽'), np.str_('넣다'), np.str_('갑자기'), np.str_('판타지'), np.str_('상당'), np.str_('점주'), np.str_('맞추다'), np.str_('딸'), np.str_('흥미롭다'), np.str_('피'), np.str_('전부'), np.str_('평론가'), np.str_('이번'), np.str_('재'), np.str_('만하'), np.str_('실제'), np.str_('아버지'), np.str_('넘치다'), np.str_('한편'), np.str_('맛'), np.str_('시청률'), np.str_('어른'), np.str_('신'), np.str_('상영'), np.str_('땜'), np.str_('필요'), np.str_('평'), np.str_('바'), np.str_('각본'), np.str_('그녀'), np.str_('곳'), np.str_('화면'), np.str_('기다리다'), np.str_('제작'), np.str_('답'), np.str_('극장판'), np.str_('간다'), np.str_('억지스럽다'), np.str_('밑'), np.str_('만들어지다'), np.str_('관람'), np.str_('이하'), np.str_('이기다'), np.str_('중국'), np.str_('일단'), np.str_('보내다'), np.str_('가치'), np.str_('선'), np.str_('볼때'), np.str_('란'), np.str_('똥'), np.str_('세계'), np.str_('항상'), np.str_('스타일'), np.str_('달다'), np.str_('성우'), np.str_('굉장'), np.str_('영'), np.str_('세'), np.str_('충분'), np.str_('요소'), np.str_('부르다'), np.str_('바꾸다'), np.str_('드'), np.str_('그때'), np.str_('흥행'), np.str_('오글거리다'), np.str_('둘'), np.str_('너무하다'), np.str_('들어가다'), np.str_('갖다'), np.str_('발'), np.str_('역'), np.str_('선택'), np.str_('복수'), np.str_('거기'), np.str_('편집'), np.str_('점점'), np.str_('올리다'), np.str_('더욱'), np.str_('불편하다'), np.str_('가보다'), np.str_('흐르다'), np.str_('평범하다'), np.str_('듣다'), np.str_('걸리다'), np.str_('진행'), np.str_('중반'), np.str_('아빠'), np.str_('잠'), np.str_('우연'), np.str_('구'), np.str_('거지'), np.str_('전형'), np.str_('완성'), np.str_('초'), np.str_('수가'), np.str_('멜로'), np.str_('참고'), np.str_('짧다'), np.str_('화이팅'), np.str_('잃다'), np.str_('역대'), np.str_('돋보이다'), np.str_('걸다'), np.str_('끼다'), np.str_('허무하다'), np.str_('상미'), np.str_('동안'), np.str_('어이'), np.str_('때리다'), np.str_('과거'), np.str_('프랑스'), np.str_('예상'), np.str_('설명'), np.str_('불륜'), np.str_('병맛'), np.str_('메다'), np.str_('개그'), np.str_('흥미진진'), np.str_('키'), np.str_('엉망'), np.str_('비추다'), np.str_('가지다'), np.str_('똑같다'), np.str_('꿀잼'), np.str_('그게'), np.str_('사건'), np.str_('거리'), np.str_('갈다'), np.str_('지겹다'), np.str_('마르다'), np.str_('또한'), np.str_('훈훈하다'), np.str_('중요하다'), np.str_('술'), np.str_('무조건'), np.str_('탄탄하다'), np.str_('척'), np.str_('찾아보다'), np.str_('즐기다'), np.str_('미화'), np.str_('몸'), np.str_('티'), np.str_('죽음'), np.str_('울'), np.str_('싸우다'), np.str_('몇'), np.str_('원래'), np.str_('소중하다'), np.str_('무'), np.str_('댓글'), np.str_('그래픽'), np.str_('화보'), np.str_('취향'), np.str_('식상하다'), np.str_('자극'), np.str_('노력'), np.str_('감상'), np.str_('흥미'), np.str_('닿다'), np.str_('역겹다'), np.str_('새끼'), np.str_('배'), np.str_('손'), np.str_('뛰어나다'), np.str_('화가'), np.str_('헐다'), np.str_('길다'), np.str_('학교'), np.str_('자꾸'), np.str_('리'), np.str_('관'), np.str_('액션영화'), np.str_('마무리'), np.str_('한심하다'), np.str_('보이'), np.str_('터'), np.str_('예고편'), np.str_('뭐라다'), np.str_('아저씨'), np.str_('속편'), np.str_('묻다'), np.str_('억지로'), np.str_('결혼'), np.str_('나르다'), np.str_('흠'), np.str_('도저'), np.str_('현재'), np.str_('산'), np.str_('전설'), np.str_('심리'), np.str_('바보'), np.str_('연기자'), np.str_('틀다'), np.str_('잘만'), np.str_('게임'), np.str_('참신하다'), np.str_('아무'), np.str_('봣'), np.str_('땐'), np.str_('기억나다'), np.str_('식'), np.str_('미안하다'), np.str_('법'), np.str_('표정'), np.str_('잊혀지다'), np.str_('다가'), np.str_('관계'), np.str_('타임'), np.str_('최근'), np.str_('상상'), np.str_('귀신'), np.str_('유치'), np.str_('열'), np.str_('다행'), np.str_('천재'), np.str_('괜'), np.str_('철학'), np.str_('아쉬움'), np.str_('링'), np.str_('다루다'), np.str_('다니다'), np.str_('강하다'), np.str_('흘리다'), np.str_('짐'), np.str_('빠져들다'), np.str_('불다'), np.str_('대작'), np.str_('그닥'), np.str_('회'), np.str_('드럽다'), np.str_('나서다'), np.str_('총'), np.str_('마'), np.str_('전편'), np.str_('대한민국'), np.str_('프로그램'), np.str_('촬영'), np.str_('짓'), np.str_('조연'), np.str_('오'), np.str_('여'), np.str_('메세지'), np.str_('겁나다'), np.str_('젠'), np.str_('무비'), np.str_('진지하다'), np.str_('개다'), np.str_('프로'), np.str_('유머'), np.str_('스타'), np.str_('사라지다'), np.str_('묘사'), np.str_('망작'), np.str_('동화'), np.str_('쩔다'), np.str_('졸라'), np.str_('존'), np.str_('먼저'), np.str_('돌아가다'), np.str_('길'), np.str_('특유'), np.str_('전달'), np.str_('역할'), np.str_('실망하다'), np.str_('씨'), np.str_('소녀'), np.str_('끌다'), np.str_('그림'), np.str_('전작'), np.str_('살아가다'), np.str_('환상'), np.str_('런가'), np.str_('경찰'), np.str_('서로'), np.str_('마치'), np.str_('등장'), np.str_('인정'), np.str_('약하다'), np.str_('바뀌다'), np.str_('미래'), np.str_('멍청하다'), np.str_('나중'), np.str_('가능하다'), np.str_('햇'), np.str_('노출'), np.str_('효과'), np.str_('황당하다'), np.str_('지루'), np.str_('다만'), np.str_('작다'), np.str_('살인'), np.str_('통해'), np.str_('청춘'), np.str_('저런'), np.str_('용도'), np.str_('예산'), np.str_('깔다'), np.str_('희망'), np.str_('잘생기다'), np.str_('바람'), np.str_('리메이크'), np.str_('행동'), np.str_('정'), np.str_('깊이'), np.str_('입'), np.str_('빌리다'), np.str_('덥다'), np.str_('확실'), np.str_('겠다'), np.str_('착하다'), np.str_('졸리다'), np.str_('모'), np.str_('군대'), np.str_('주의'), np.str_('노'), np.str_('반개'), np.str_('단순하다'), np.str_('외'), np.str_('관심'), np.str_('상상력'), np.str_('제작비'), np.str_('유명하다'), np.str_('안나'), np.str_('손발'), np.str_('지나치다'), np.str_('생애'), np.str_('부족'), np.str_('반'), np.str_('케이블'), np.str_('범인'), np.str_('위대하다'), np.str_('영웅'), np.str_('밤'), np.str_('던지다'), np.str_('형님'), np.str_('평생'), np.str_('인하다'), np.str_('쏘다'), np.str_('능력'), np.str_('심'), np.str_('얻다'), np.str_('시도'), np.str_('스케일'), np.str_('미소'), np.str_('다소'), np.str_('네'), np.str_('기세'), np.str_('과정'), np.str_('신기하다'), np.str_('메시지'), np.str_('태어나다'), np.str_('얼'), np.str_('가끔'), np.str_('카메라'), np.str_('체'), np.str_('설레다'), np.str_('생'), np.str_('대안'), np.str_('낚'), np.str_('결론'), np.str_('슬픔'), np.str_('빠르다'), np.str_('강'), np.str_('젊다'), np.str_('대충'), np.str_('채널'), np.str_('찌다'), np.str_('스'), np.str_('늙다'), np.str_('한계'), np.str_('여전'), np.str_('여성'), np.str_('산만하다'), np.str_('광고'), np.str_('고민'), np.str_('온'), np.str_('동생'), np.str_('방'), np.str_('독립영화'), np.str_('단'), np.str_('이면'), np.str_('변하다'), np.str_('박수'), np.str_('고맙다'), np.str_('참다'), np.str_('차'), np.str_('보시'), np.str_('거지같다'), np.str_('흔하다'), np.str_('졸다'), np.str_('원하다'), np.str_('시청자'), np.str_('적당하다'), np.str_('치'), np.str_('줌'), np.str_('잘못'), np.str_('자연'), np.str_('용이'), np.str_('시'), np.str_('분명'), np.str_('자막'), np.str_('어린이'), np.str_('발견'), np.str_('멋'), np.str_('괴물'), np.str_('지난'), np.str_('유'), np.str_('다시다'), np.str_('희다'), np.str_('커플'), np.str_('울리다'), np.str_('사다'), np.str_('막다'), np.str_('리얼'), np.str_('굳이'), np.str_('안다'), np.str_('덕분'), np.str_('감탄'), np.str_('흐름'), np.str_('포장'), np.str_('추다'), np.str_('짱짱'), np.str_('지르다'), np.str_('연애'), np.str_('인'), np.str_('심심하다'), np.str_('범죄'), np.str_('대의'), np.str_('고생'), np.str_('하루'), np.str_('폭력'), np.str_('아침'), np.str_('사이'), np.str_('벗다'), np.str_('개판'), np.str_('진정'), np.str_('진실'), np.str_('시선'), np.str_('성인'), np.str_('개도'), np.str_('표'), np.str_('젤'), np.str_('암'), np.str_('쓰래'), np.str_('사극'), np.str_('정서'), np.str_('혹시'), np.str_('지키다'), np.str_('주기'), np.str_('살짝'), np.str_('빨'), np.str_('리뷰'), np.str_('로맨틱'), np.str_('랄'), np.str_('떠오르다'), np.str_('달'), np.str_('간'), np.str_('인기'), np.str_('몸매'), np.str_('로서'), np.str_('남녀'), np.str_('조폭'), np.str_('악역'), np.str_('뛰다'), np.str_('더하다'), np.str_('첨'), np.str_('우정'), np.str_('열심'), np.str_('어제'), np.str_('소름끼치다'), np.str_('깔끔하다'), np.str_('표절'), np.str_('포기'), np.str_('퀄리티'), np.str_('왠만하다'), np.str_('뜻'), np.str_('끼리'), np.str_('끝내다'), np.str_('챙기다'), np.str_('접다'), np.str_('일상'), np.str_('오락'), np.str_('어찌'), np.str_('문화'), np.str_('게이'), np.str_('싸다'), np.str_('단순'), np.str_('과연'), np.str_('짓다'), np.str_('순'), np.str_('수도'), np.str_('상처'), np.str_('크게'), np.str_('우울하다'), np.str_('난해하다'), np.str_('홍콩'), np.str_('코드'), np.str_('쩐다'), np.str_('정치'), np.str_('이연걸'), np.str_('싫어하다'), np.str_('다큐멘터리'), np.str_('해피엔딩'), np.str_('세다'), np.str_('북한'), np.str_('핵'), np.str_('용서'), np.str_('불가'), np.str_('병'), np.str_('무겁다'), np.str_('막판'), np.str_('기대다'), np.str_('충분하다'), np.str_('유일하다'), np.str_('성도'), np.str_('말로'), np.str_('느와르'), np.str_('눈물나다'), np.str_('꾸다'), np.str_('감명'), np.str_('일어나다'), np.str_('웬만하다'), np.str_('소장'), np.str_('뮤지컬'), np.str_('나머지'), np.str_('기술'), np.str_('감다'), np.str_('홍보'), np.str_('지도'), np.str_('영환'), np.str_('뜬금'), np.str_('내리다'), np.str_('끌'), np.str_('국민'), np.str_('빛'), np.str_('보아'), np.str_('공부'), np.str_('펑펑'), np.str_('죄'), np.str_('이기'), np.str_('볼거리'), np.str_('별루'), np.str_('첫'), np.str_('올해'), np.str_('연'), np.str_('섹스'), np.str_('노답'), np.str_('보라'), np.str_('만큼'), np.str_('담기다'), np.str_('형편'), np.str_('안좋다'), np.str_('반성'), np.str_('눈빛'), np.str_('희생'), np.str_('이어지다'), np.str_('기본'), np.str_('그다지'), np.str_('행복'), np.str_('싸움'), np.str_('비주'), np.str_('무협'), np.str_('등장인물'), np.str_('들어오다'), np.str_('의문'), np.str_('본방'), np.str_('뭐임'), np.str_('남편'), np.str_('입장'), np.str_('아픔'), np.str_('색다르다'), np.str_('불'), np.str_('호러'), np.str_('하하'), np.str_('춤'), np.str_('찡하다'), np.str_('자식'), np.str_('싸구려'), np.str_('가면'), np.str_('차이'), np.str_('자유'), np.str_('일이'), np.str_('열정'), np.str_('실감'), np.str_('불쾌하다'), np.str_('무시'), np.str_('디즈니'), np.str_('늘'), np.str_('몰다'), np.str_('게다가'), np.str_('특별하다'), np.str_('촌스럽다'), np.str_('종교'), np.str_('좀더'), np.str_('아이돌'), np.str_('반복'), np.str_('긴장'), np.str_('기적'), np.str_('채우다'), np.str_('제로'), np.str_('오그라들다'), np.str_('악'), np.str_('시사회'), np.str_('빡치다'), np.str_('부끄럽다'), np.str_('러닝'), np.str_('대가'), np.str_('숨다'), np.str_('발전'), np.str_('방금'), np.str_('따위'), np.str_('대화'), np.str_('닮다'), np.str_('놓치다'), np.str_('인지'), np.str_('아줌마'), np.str_('떼다'), np.str_('늦다'), np.str_('결과'), np.str_('진리'), np.str_('악당'), np.str_('실패'), np.str_('빛나다'), np.str_('불구'), np.str_('동물'), np.str_('느리다'), np.str_('글쎄'), np.str_('해내다'), np.str_('아련하다'), np.str_('비극'), np.str_('는걸'), np.str_('쫌'), np.str_('여행'), np.str_('질리'), np.str_('지구'), np.str_('존경'), np.str_('이루다'), np.str_('연예인'), np.str_('벌써'), np.str_('돌다'), np.str_('날다'), np.str_('흘러가다'), np.str_('화나다'), np.str_('해석'), np.str_('분노'), np.str_('단지'), np.str_('토'), np.str_('전문가'), np.str_('으리'), np.str_('외국'), np.str_('왕'), np.str_('씁쓸하다'), np.str_('본인'), np.str_('깨다'), np.str_('강렬하다'), np.str_('한국인'), np.str_('창'), np.str_('이제야'), np.str_('실력'), np.str_('밥'), np.str_('형'), np.str_('팀'), np.str_('쵝오'), np.str_('적당'), np.str_('라인'), np.str_('깨닫다'), np.str_('풋풋하다'), np.str_('로봇'), np.str_('헐리우드'), np.str_('그린'), np.str_('청소년'), np.str_('이끌다'), np.str_('새'), np.str_('베스트'), np.str_('만족'), np.str_('금'), np.str_('그거'), np.str_('과장'), np.str_('처럼'), np.str_('짠하다'), np.str_('외모'), np.str_('오버'), np.str_('스스로'), np.str_('새벽'), np.str_('뽑다'), np.str_('주기도'), np.str_('어머니'), np.str_('방식'), np.str_('대표'), np.str_('달라'), np.str_('꼴'), np.str_('필름'), np.str_('시트콤'), np.str_('선생님'), np.str_('방법'), np.str_('미드'), np.str_('맡다'), np.str_('따라가다'), np.str_('기르다'), np.str_('갈등'), np.str_('평이'), np.str_('짝'), np.str_('줍다'), np.str_('좋아지다'), np.str_('와우'), np.str_('어로'), np.str_('전개도'), np.str_('은근'), np.str_('쇼'), np.str_('섬세하다'), np.str_('무언가'), np.str_('돌아오다'), np.str_('담'), np.str_('낳다'), np.str_('헐리웃'), np.str_('애기'), np.str_('숨'), np.str_('소소하다'), np.str_('맥'), np.str_('푹'), np.str_('짝퉁'), np.str_('이나'), np.str_('에피소드'), np.str_('심장'), np.str_('레전드'), np.str_('극치'), np.str_('국내'), np.str_('통쾌하다'), np.str_('입다'), np.str_('이미지'), np.str_('오래되다'), np.str_('연속'), np.str_('세기'), np.str_('봣는데'), np.str_('누군가'), np.str_('김기덕'), np.str_('굿굿'), np.str_('최'), np.str_('주말'), np.str_('이정'), np.str_('의리'), np.str_('올라가다'), np.str_('오브'), np.str_('없어지다'), np.str_('명품'), np.str_('듬'), np.str_('견자단'), np.str_('가깝다'), np.str_('조절'), np.str_('로만'), np.str_('깎다'), np.str_('형사'), np.str_('조잡하다'), np.str_('심각하다'), np.str_('섹시하다'), np.str_('비판'), np.str_('라이'), np.str_('편의'), np.str_('편견'), np.str_('찝찝하다'), np.str_('시각'), np.str_('레알'), np.str_('확'), np.str_('조합'), np.str_('이자'), np.str_('부모'), np.str_('날리다'), np.str_('검색'), np.str_('쩌'), np.str_('사수'), np.str_('라지'), np.str_('도전'), np.str_('포인트'), np.str_('테러'), np.str_('캐리'), np.str_('밋밋하다'), np.str_('미모'), np.str_('망'), np.str_('때우다'), np.str_('단연'), np.str_('끼'), np.str_('훨'), np.str_('초등학생'), np.str_('신고'), np.str_('신경'), np.str_('무척'), np.str_('경험'), np.str_('향'), np.str_('트'), np.str_('자살'), np.str_('신분'), np.str_('시시하다'), np.str_('생활'), np.str_('묘'), np.str_('마이클'), np.str_('더불다'), np.str_('낭비하다'), np.str_('가요'), np.str_('한참'), np.str_('학생'), np.str_('지우다'), np.str_('양심'), np.str_('기자'), np.str_('해결'), np.str_('영혼'), np.str_('얘'), np.str_('상업'), np.str_('바라보다'), np.str_('달달'), np.str_('꽝'), np.str_('관점'), np.str_('유발'), np.str_('아내'), np.str_('시원하다'), np.str_('사기'), np.str_('마이너스'), np.str_('대부분'), np.str_('개뿔'), np.str_('학년'), np.str_('카'), np.str_('주변'), np.str_('약'), np.str_('솔직하다'), np.str_('성장'), np.str_('로써'), np.str_('돌아보다'), np.str_('도안'), np.str_('개성'), np.str_('코난'), np.str_('카리스마'), np.str_('쪽'), np.str_('젠장'), np.str_('전반'), np.str_('적임'), np.str_('연결'), np.str_('러브'), np.str_('다가오다'), np.str_('허세'), np.str_('위로'), np.str_('영어'), np.str_('신나다'), np.str_('설마'), np.str_('뭉클하다'), np.str_('무지'), np.str_('겨우'), np.str_('풍경'), np.str_('정체'), np.str_('빨다'), np.str_('밝다'), np.str_('고양이'), np.str_('겁니다'), np.str_('형제'), np.str_('특이하다'), np.str_('투'), np.str_('칼'), np.str_('일품'), np.str_('오르다'), np.str_('악마'), np.str_('스트레스'), np.str_('쉬'), np.str_('변화'), np.str_('만족하다'), np.str_('로그인'), np.str_('개막'), np.str_('개념'), np.str_('가득하다'), np.str_('케'), np.str_('이란'), np.str_('옆'), np.str_('등등'), np.str_('기준'), np.str_('할머니'), np.str_('조'), np.str_('점준'), np.str_('자연스럽다'), np.str_('응원'), np.str_('외계인'), np.str_('영원하다'), np.str_('명성'), np.str_('덜'), np.str_('놀랍다'), np.str_('거슬리다'), np.str_('피해자'), np.str_('맨'), np.str_('편도'), np.str_('특수'), np.str_('줄다'), np.str_('정의'), np.str_('정신병'), np.str_('싸이코'), np.str_('상'), np.str_('민망하다'), np.str_('남아'), np.str_('끌리다'), np.str_('공짜'), np.str_('직접'), np.str_('성공하다'), np.str_('나타나다'), np.str_('가수'), np.str_('하나로'), np.str_('크리스마스'), np.str_('최강'), np.str_('초등학교'), np.str_('적절하다'), np.str_('장'), np.str_('잠들다'), np.str_('이도'), np.str_('오빠'), np.str_('아마'), np.str_('썩다'), np.str_('세번'), np.str_('변태'), np.str_('벗어나다'), np.str_('놀래다'), np.str_('기회'), np.str_('교육'), np.str_('고통'), np.str_('투자'), np.str_('최초'), np.str_('처'), np.str_('얼마'), np.str_('야동'), np.str_('신다'), np.str_('바다'), np.str_('만해'), np.str_('뛰어넘다'), np.str_('흑인'), np.str_('포르노'), np.str_('틈'), np.str_('주성치'), np.str_('언니'), np.str_('아무렇다'), np.str_('세월'), np.str_('부모님'), np.str_('말아먹다'), np.str_('만들기'), np.str_('내면'), np.str_('잠깐'), np.str_('이보'), np.str_('의식'), np.str_('우주'), np.str_('어린시절'), np.str_('압권'), np.str_('안습'), np.str_('선물'), np.str_('빵점'), np.str_('반하다'), np.str_('모으다'), np.str_('린'), np.str_('고르다'), np.str_('의하다'), np.str_('영원'), np.str_('아예'), np.str_('사진'), np.str_('붙이다'), np.str_('본적'), np.str_('배역'), np.str_('무술'), np.str_('만남'), np.str_('겨'), np.str_('확실하다'), np.str_('홍콩영화'), np.str_('탓'), np.str_('추하다'), np.str_('참으로'), np.str_('자리'), np.str_('이용'), np.str_('에로영화'), np.str_('베'), np.str_('박'), np.str_('땅'), np.str_('드물다'), np.str_('다양하다'), np.str_('기법'), np.str_('국가'), np.str_('결정'), np.str_('확인'), np.str_('저러다'), np.str_('이상은'), np.str_('의심'), np.str_('셈'), np.str_('상태'), np.str_('살아나다'), np.str_('뿐이다'), np.str_('빈'), np.str_('부럽다'), np.str_('냄새'), np.str_('내생'), np.str_('깜짝'), np.str_('호구'), np.str_('캐'), np.str_('보고오다'), np.str_('대중'), np.str_('달리다'), np.str_('넘어가다'), np.str_('거나'), np.str_('감흥'), np.str_('효'), np.str_('타고'), np.str_('채'), np.str_('진하다'), np.str_('우려'), np.str_('시청'), np.str_('수고'), np.str_('드림'), np.str_('낮추다'), np.str_('케릭'), np.str_('스크린'), np.str_('삭제'), np.str_('비현실적'), np.str_('복잡하다'), np.str_('방영'), np.str_('리즈'), np.str_('들어서다'), np.str_('덕'), np.str_('단어'), np.str_('끝내주다'), np.str_('거짓말'), np.str_('감안'), np.str_('폐지'), np.str_('패러디'), np.str_('파'), np.str_('짜지다'), np.str_('조작'), np.str_('전쟁영화'), np.str_('예능'), np.str_('영화계'), np.str_('영국'), np.str_('번은'), np.str_('모자라다'), np.str_('멈추다'), np.str_('막장드라마'), np.str_('놀다'), np.str_('껏'), np.str_('기만'), np.str_('값'), np.str_('패'), np.str_('자르다'), np.str_('욕망'), np.str_('앉다'), np.str_('숨기다'), np.str_('색감'), np.str_('루'), np.str_('꼬마'), np.str_('갠'), np.str_('가족영화'), np.str_('여러'), np.str_('신의'), np.str_('생생하다'), np.str_('미가'), np.str_('달리'), np.str_('넌'), np.str_('근래'), np.str_('공포물'), np.str_('용기'), np.str_('씹다'), np.str_('심오하다'), np.str_('목'), np.str_('뜨겁다'), np.str_('깨우다'), np.str_('갑'), np.str_('가득'), np.str_('편하다'), np.str_('짜임새'), np.str_('재난영화'), np.str_('애쓰다'), np.str_('몇몇'), np.str_('깨'), np.str_('기독교'), np.str_('갖추다'), np.str_('화끈하다'), np.str_('타'), np.str_('지나가다'), np.str_('시기'), np.str_('부부'), np.str_('려고'), np.str_('데리'), np.str_('녀'), np.str_('관련'), np.str_('감각'), np.str_('제외'), np.str_('잔뜩'), np.str_('작위'), np.str_('인지도'), np.str_('아역'), np.str_('아래'), np.str_('성은'), np.str_('성격'), np.str_('설득'), np.str_('비밀'), np.str_('동시'), np.str_('넘어서다'), np.str_('그립다'), np.str_('풍자'), np.str_('키우다'), np.str_('장가'), np.str_('워'), np.str_('운명'), np.str_('여러분'), np.str_('업다'), np.str_('신파'), np.str_('승리'), np.str_('세련되다'), np.str_('보통'), np.str_('목적'), np.str_('명화'), np.str_('뇌'), np.str_('기발하다'), np.str_('골'), np.str_('결코'), np.str_('하자'), np.str_('포스'), np.str_('잔'), np.str_('여태'), np.str_('아동'), np.str_('빈약하다'), np.str_('고전'), np.str_('겪다'), np.str_('피다'), np.str_('탈'), np.str_('탄생'), np.str_('치밀하다'), np.str_('점줌'), np.str_('자주'), np.str_('여러가지'), np.str_('매다'), np.str_('군'), np.str_('후속작'), np.str_('할아버지'), np.str_('팔이'), np.str_('톰'), np.str_('첫사랑'), np.str_('전율'), np.str_('잖다'), np.str_('완벽'), np.str_('예'), np.str_('애가'), np.str_('브루스'), np.str_('물이'), np.str_('매니아'), np.str_('마이'), np.str_('라이언'), np.str_('틀리다'), np.str_('소년'), np.str_('블록버스터'), np.str_('붙다'), np.str_('명의'), np.str_('한숨'), np.str_('탑'), np.str_('중심'), np.str_('장국영'), np.str_('열연'), np.str_('연인'), np.str_('앞뒤'), np.str_('아이디어'), np.str_('시점'), np.str_('새다'), np.str_('사고'), np.str_('빵빵'), np.str_('배경음악'), np.str_('반갑다'), np.str_('낫'), np.str_('낚였다'), np.str_('감정이입'), np.str_('틴'), np.str_('심지어'), np.str_('수많다'), np.str_('무서움'), np.str_('모험'), np.str_('마냥'), np.str_('김'), np.str_('철'), np.str_('요리'), np.str_('옷'), np.str_('았'), np.str_('시끄럽다'), np.str_('선동'), np.str_('바르다'), np.str_('목숨'), np.str_('금보'), np.str_('합'), np.str_('최대'), np.str_('아'), np.str_('꿈꾸다'), np.str_('여자친구'), np.str_('어쩜'), np.str_('심형래'), np.str_('사상'), np.str_('무료'), np.str_('로코'), np.str_('둘째'), np.str_('대본'), np.str_('담배'), np.str_('넘기다'), np.str_('꽃'), np.str_('가정'), np.str_('틀'), np.str_('통'), np.str_('주제가'), np.str_('저리'), np.str_('잡고'), np.str_('욕심'), np.str_('안감'), np.str_('레이'), np.str_('딱이다'), np.str_('디'), np.str_('대통령'), np.str_('늘어지다'), np.str_('꼬'), np.str_('구리'), np.str_('곡'), np.str_('추리'), np.str_('집착'), np.str_('여기다'), np.str_('어둡다'), np.str_('아기'), np.str_('버전'), np.str_('끊다'), np.str_('하지원'), np.str_('절정'), np.str_('의상'), np.str_('움직이다'), np.str_('삼'), np.str_('모양'), np.str_('따름'), np.str_('두번째'), np.str_('낚시'), np.str_('귀'), np.str_('호'), np.str_('찾기'), np.str_('조카'), np.str_('정작'), np.str_('임팩트'), np.str_('일부러'), np.str_('빵'), np.str_('베다'), np.str_('마리'), np.str_('린다'), np.str_('된거'), np.str_('대신'), np.str_('당황'), np.str_('끔찍하다'), np.str_('괴롭다'), np.str_('화의'), np.str_('플롯'), np.str_('펴다'), np.str_('컨셉'), np.str_('충실하다'), np.str_('천국'), np.str_('제니퍼'), np.str_('여친'), np.str_('여름'), np.str_('성공'), np.str_('물다'), np.str_('디워'), np.str_('끼우다'), np.str_('구나'), np.str_('교과서'), np.str_('헤어지다'), np.str_('쥐다'), np.str_('중독'), np.str_('졸리'), np.str_('의사'), np.str_('앤'), np.str_('보구'), np.str_('누나'), np.str_('공간'), np.str_('공'), np.str_('고등학교'), np.str_('캬'), np.str_('종영'), np.str_('제임스'), np.str_('정보'), np.str_('잠시'), np.str_('자고'), np.str_('야구'), np.str_('보이지'), np.str_('벌다'), np.str_('마약'), np.str_('들리다'), np.str_('나은'), np.str_('곱다'), np.str_('해리포터'), np.str_('하늘'), np.str_('파괴'), np.str_('정이'), np.str_('이전'), np.str_('슈퍼'), np.str_('색'), np.str_('사투리'), np.str_('블랙'), np.str_('드러나다'), np.str_('그만하다'), np.str_('거장'), np.str_('터미네이터'), np.str_('착각'), np.str_('지치다'), np.str_('조니뎁'), np.str_('잡'), np.str_('인내심'), np.str_('여자애'), np.str_('손색'), np.str_('사운드'), np.str_('뱀파이어'), np.str_('배트맨'), np.str_('박진'), np.str_('박다'), np.str_('거부'), np.str_('현대'), np.str_('하정우'), np.str_('클레멘타인'), np.str_('쥐'), np.str_('전투'), np.str_('일본인'), np.str_('이소룡'), np.str_('어디가'), np.str_('속이다'), np.str_('살인마'), np.str_('부작'), np.str_('발상'), np.str_('반드시'), np.str_('반대'), np.str_('메이드'), np.str_('메'), np.str_('만드'), np.str_('로버트'), np.str_('떨다'), np.str_('돼지'), np.str_('논리'), np.str_('하품'), np.str_('키드'), np.str_('주지'), np.str_('유덕화'), np.str_('영화제'), np.str_('영화감독'), np.str_('부리다'), np.str_('무기'), np.str_('류작'), np.str_('동성애'), np.str_('내놓다'), np.str_('나누다'), np.str_('감사'), np.str_('하이'), np.str_('탈출'), np.str_('참나'), np.str_('지경'), np.str_('주윤발'), np.str_('인도'), np.str_('웃'), np.str_('운'), np.str_('어처구니'), np.str_('실수'), np.str_('만화책'), np.str_('나레이션'), np.str_('그동안'), np.str_('홍상수'), np.str_('평균'), np.str_('찬'), np.str_('중학교'), np.str_('제이슨'), np.str_('재능'), np.str_('의지'), np.str_('연극'), np.str_('어쩌'), np.str_('선정'), np.str_('배신'), np.str_('민폐'), np.str_('만약'), np.str_('마음속'), np.str_('동영상'), np.str_('극단'), np.str_('겁'), np.str_('진수'), np.str_('준비'), np.str_('졸'), np.str_('음식'), np.str_('섞다'), np.str_('빵터지다'), np.str_('분명하다'), np.str_('분량'), np.str_('부실하다'), np.str_('배다'), np.str_('바탕'), np.str_('명대사'), np.str_('길이'), np.str_('과학'), np.str_('고딩'), np.str_('포'), np.str_('조화'), np.str_('역량'), np.str_('쓸데없다'), np.str_('신인'), np.str_('센스'), np.str_('매일'), np.str_('매'), np.str_('기존'), np.str_('폭발'), np.str_('추'), np.str_('찌질하다'), np.str_('잭'), np.str_('재미나'), np.str_('인터넷'), np.str_('울면'), np.str_('우뢰매'), np.str_('영향'), np.str_('아놀드'), np.str_('아끼다'), np.str_('명복'), np.str_('폴'), np.str_('팔'), np.str_('틀어주다'), np.str_('코메디'), np.str_('체적'), np.str_('차원'), np.str_('자동차'), np.str_('역사상'), np.str_('성의'), np.str_('사용'), np.str_('무대'), np.str_('루즈'), np.str_('론'), np.str_('겨울'), np.str_('거품'), np.str_('각색'), np.str_('컴퓨터'), np.str_('친'), np.str_('인형'), np.str_('이군'), np.str_('베리'), np.str_('무한'), np.str_('만이'), np.str_('레'), np.str_('도무지'), np.str_('데뷔'), np.str_('던데'), np.str_('다세포'), np.str_('누르다'), np.str_('논'), np.str_('난리'), np.str_('고프다'), np.str_('흥'), np.str_('환경'), np.str_('필'), np.str_('판단'), np.str_('절'), np.str_('응'), np.str_('유지'), np.str_('웬'), np.str_('압도'), np.str_('손가락'), np.str_('션'), np.str_('상관없다'), np.str_('도움'), np.str_('다리'), np.str_('니콜'), np.str_('녹다'), np.str_('내일'), np.str_('글자'), np.str_('화일'), np.str_('한국판'), np.str_('인류'), np.str_('왜곡'), np.str_('옴'), np.str_('영화사'), np.str_('여인'), np.str_('에이'), np.str_('어우러지다'), np.str_('어색'), np.str_('슴'), np.str_('분장'), np.str_('리지'), np.str_('단체'), np.str_('네티즌'), np.str_('남성'), np.str_('극복'), np.str_('할리우드'), np.str_('쿡'), np.str_('출신'), np.str_('최소한'), np.str_('최소'), np.str_('최고봉'), np.str_('어거지'), np.str_('아치'), np.str_('아만다'), np.str_('상실'), np.str_('비중'), np.str_('보신'), np.str_('말투'), np.str_('꺼지다'), np.str_('겉멋'), np.str_('하니'), np.str_('편안하다'), np.str_('케빈'), np.str_('짜이다'), np.str_('조용하다'), np.str_('정우성'), np.str_('전하'), np.str_('윌리스'), np.str_('웰'), np.str_('용다'), np.str_('여신'), np.str_('알아보다'), np.str_('아아'), np.str_('실패하다'), np.str_('베드'), np.str_('만세'), np.str_('때매'), np.str_('듭니'), np.str_('도데'), np.str_('당연하다'), np.str_('걱정'), np.str_('강력'), np.str_('화란'), np.str_('혐오'), np.str_('하라'), np.str_('컷'), np.str_('어쩌면'), np.str_('스티븐'), np.str_('샘'), np.str_('부족함'), np.str_('발음'), np.str_('미스'), np.str_('매끄럽다'), np.str_('리가'), np.str_('따분하다'), np.str_('동심'), np.str_('끝내'), np.str_('김치'), np.str_('게뭐'), np.str_('황당'), np.str_('평소'), np.str_('처절하다'), np.str_('이병헌'), np.str_('유럽'), np.str_('요새'), np.str_('애절하다'), np.str_('수입'), np.str_('송강호'), np.str_('섞이다'), np.str_('블랙코미디'), np.str_('부정'), np.str_('별하나'), np.str_('범죄자'), np.str_('배급사'), np.str_('매미'), np.str_('러시아'), np.str_('단점'), np.str_('늘리다'), np.str_('널'), np.str_('난잡하다'), np.str_('곧'), np.str_('계기'), np.str_('겉'), np.str_('거치다'), np.str_('푸다'), np.str_('파리'), np.str_('파다'), np.str_('키스'), np.str_('치유'), np.str_('축구'), np.str_('차갑다'), np.str_('지리다'), np.str_('정상'), np.str_('자세'), np.str_('잉'), np.str_('임창정'), np.str_('일주일'), np.str_('이해도'), np.str_('이만'), np.str_('신하균'), np.str_('성적'), np.str_('및'), np.str_('무너지다'), np.str_('몽환'), np.str_('명불허전'), np.str_('만화영화'), np.str_('리얼리티'), np.str_('류승범'), np.str_('등록'), np.str_('대결'), np.str_('게스트'), np.str_('개콘'), np.str_('흡입'), np.str_('호기심'), np.str_('피해'), np.str_('판이'), np.str_('토나오다'), np.str_('킬링'), np.str_('콩'), np.str_('지나'), np.str_('오프닝'), np.str_('얼다'), np.str_('속지'), np.str_('상징'), np.str_('부활'), np.str_('부인'), np.str_('모로'), np.str_('담백하다'), np.str_('깡패'), np.str_('중딩'), np.str_('절제'), np.str_('일반'), np.str_('옳다'), np.str_('액션씬'), np.str_('심다'), np.str_('싫어지다'), np.str_('쉽다'), np.str_('소화'), np.str_('서도'), np.str_('사'), np.str_('미녀'), np.str_('무게'), np.str_('망가지다'), np.str_('라스트'), np.str_('듣기'), np.str_('동네'), np.str_('노인'), np.str_('각자'), np.str_('가리다'), np.str_('이루어지다'), np.str_('알파'), np.str_('쓸쓸하다'), np.str_('실험'), np.str_('백인'), np.str_('미도'), np.str_('무리'), np.str_('무난'), np.str_('무간도'), np.str_('명연기'), np.str_('매번'), np.str_('대사도'), np.str_('달콤하다'), np.str_('년전'), np.str_('깨알'), np.str_('군인'), np.str_('경우'), np.str_('가능성'), np.str_('후회되다'), np.str_('향수'), np.str_('파격'), np.str_('튀다'), np.str_('쭉'), np.str_('직업'), np.str_('절망'), np.str_('장애인'), np.str_('알려지다'), np.str_('삶다'), np.str_('비행기'), np.str_('본능'), np.str_('베일'), np.str_('배꼽'), np.str_('드네'), np.str_('높이다'), np.str_('끼치다'), np.str_('그대'), np.str_('굉장하다'), np.str_('계시다'), np.str_('객관'), np.str_('가야'), np.str_('흉내'), np.str_('향연'), np.str_('한순간'), np.str_('하나님'), np.str_('포드'), np.str_('처리'), np.str_('징그럽다'), np.str_('정리'), np.str_('재난'), np.str_('잔혹하다'), np.str_('원숭이'), np.str_('욕먹다'), np.str_('엽기'), np.str_('염'), np.str_('애초'), np.str_('소개'), np.str_('선수'), np.str_('선사'), np.str_('빨갱이'), np.str_('보임'), np.str_('박중훈'), np.str_('드니'), np.str_('덩어리'), np.str_('닥'), np.str_('호불호'), np.str_('타란티노'), np.str_('켜다'), np.str_('캐릭'), np.str_('중년'), np.str_('존스'), np.str_('예측'), np.str_('서부'), np.str_('상어'), np.str_('빠'), np.str_('밀'), np.str_('두운'), np.str_('녀석'), np.str_('화장실'), np.str_('혁명'), np.str_('포함'), np.str_('커서'), np.str_('질리다'), np.str_('정부'), np.str_('아이유'), np.str_('수록'), np.str_('서울'), np.str_('버튼'), np.str_('박보영'), np.str_('모이다'), np.str_('명장'), np.str_('맛있다'), np.str_('많아지다'), np.str_('딸리다'), np.str_('낭만'), np.str_('계'), np.str_('갈리다'), np.str_('흔들다'), np.str_('한효주'), np.str_('한가지'), np.str_('지옥'), np.str_('지식'), np.str_('졸업'), np.str_('저지르다'), np.str_('일으키다'), np.str_('의외'), np.str_('의심스럽다'), np.str_('우선'), np.str_('올레'), np.str_('애매하다'), np.str_('빠순이'), np.str_('버'), np.str_('밀려오다'), np.str_('뭣'), np.str_('리도'), np.str_('디테일'), np.str_('도시'), np.str_('데이'), np.str_('놀란'), np.str_('과대'), np.str_('고독'), np.str_('겹'), np.str_('개그맨'), np.str_('회사'), np.str_('풀리다'), np.str_('풀'), np.str_('탁월하다'), np.str_('케미'), np.str_('초월'), np.str_('짬뽕'), np.str_('제작자'), np.str_('잔인함'), np.str_('외롭다'), np.str_('연습'), np.str_('스포'), np.str_('순위'), np.str_('소통'), np.str_('선생'), np.str_('생명'), np.str_('방해'), np.str_('받아들이다'), np.str_('믿음'), np.str_('망치'), np.str_('독일'), np.str_('다해'), np.str_('능'), np.str_('김수현'), np.str_('공유'), np.str_('견디다'), np.str_('가나'), np.str_('치노'), np.str_('짜릿하다'), np.str_('장점'), np.str_('왕조현'), np.str_('어지럽다'), np.str_('쏟다'), np.str_('싱겁다'), np.str_('심사'), np.str_('살이'), np.str_('비쥬'), np.str_('본질'), np.str_('보나'), np.str_('변신'), np.str_('미스테리'), np.str_('미스캐스팅'), np.str_('무어'), np.str_('못자다'), np.str_('멜로영화'), np.str_('떠올리다'), np.str_('대부'), np.str_('답답'), np.str_('달라지다'), np.str_('단편'), np.str_('다시금'), np.str_('나타내다'), np.str_('그럴듯하다'), np.str_('광구'), np.str_('고뇌'), np.str_('호흡'), np.str_('칭찬'), np.str_('추가'), np.str_('최후'), np.str_('찬양'), np.str_('차승원'), np.str_('차리다'), np.str_('중학생'), np.str_('이지'), np.str_('이안'), np.str_('이별'), np.str_('쌍'), np.str_('스릴러물'), np.str_('섹시'), np.str_('상대'), np.str_('뺏다'), np.str_('비호감'), np.str_('비록'), np.str_('부로'), np.str_('멍'), np.str_('리암'), np.str_('도둑'), np.str_('교회'), np.str_('강동원'), np.str_('흑백'), np.str_('혼란'), np.str_('해봤다'), np.str_('픽사'), np.str_('클래식'), np.str_('크레딧'), np.str_('찍'), np.str_('이따'), np.str_('우드'), np.str_('억울하다'), np.str_('아오이'), np.str_('쓴다'), np.str_('식이'), np.str_('스타워즈'), np.str_('순수'), np.str_('부탁'), np.str_('반영'), np.str_('밖'), np.str_('바치다'), np.str_('바닥'), np.str_('미스터리'), np.str_('로맨틱코미디'), np.str_('땀'), np.str_('도중'), np.str_('뎅'), np.str_('대박나다'), np.str_('님'), np.str_('김혜수'), np.str_('기괴하다'), np.str_('굿굿굿'), np.str_('강간'), np.str_('가짜'), np.str_('허무'), np.str_('피아노'), np.str_('케이'), np.str_('출연자'), np.str_('찾아가다'), np.str_('지지'), np.str_('죄송하다'), np.str_('일반인'), np.str_('유아'), np.str_('위트'), np.str_('워낙'), np.str_('열자'), np.str_('애인'), np.str_('애니매이션'), np.str_('암울하다'), np.str_('스파이더맨'), np.str_('스텝'), np.str_('슈퍼맨'), np.str_('수면제'), np.str_('성형'), np.str_('상큼'), np.str_('뿌리다'), np.str_('부산'), np.str_('범'), np.str_('떨어뜨리다'), np.str_('뒤죽박죽'), np.str_('도르다'), np.str_('년도'), np.str_('낼'), np.str_('끊기다'), np.str_('국산'), np.str_('공룡'), np.str_('가하다'), np.str_('형식'), np.str_('한지'), np.str_('트리'), np.str_('찌르다'), np.str_('찌'), np.str_('짜내다'), np.str_('전성기'), np.str_('장진'), np.str_('잃어버리다'), np.str_('일지'), np.str_('일부'), np.str_('이드'), np.str_('위험하다'), np.str_('우린'), np.str_('아무나'), np.str_('아누'), np.str_('소'), np.str_('세대'), np.str_('세계관'), np.str_('상식'), np.str_('사이코'), np.str_('빌다'), np.str_('별거'), np.str_('밀다'), np.str_('머릿속'), np.str_('만화가'), np.str_('마누라'), np.str_('레옹'), np.str_('떡밥'), np.str_('떄'), np.str_('돌'), np.str_('데리다'), np.str_('능가'), np.str_('눕다'), np.str_('남친'), np.str_('나루토'), np.str_('구분'), np.str_('고증'), np.str_('고인'), np.str_('검사'), np.str_('갓'), np.str_('한석규'), np.str_('하얗다'), np.str_('페이크'), np.str_('택시'), np.str_('커버'), np.str_('추격'), np.str_('조지'), np.str_('조선'), np.str_('장애'), np.str_('옥'), np.str_('연관'), np.str_('언어'), np.str_('승부'), np.str_('세트'), np.str_('벌어지다'), np.str_('버티다'), np.str_('방황'), np.str_('민족'), np.str_('말씀'), np.str_('담담하다'), np.str_('급하다'), np.str_('극적'), np.str_('행'), np.str_('티나'), np.str_('짱짱맨'), np.str_('징'), np.str_('주가'), np.str_('절로'), np.str_('절대로'), np.str_('재앙'), np.str_('인권'), np.str_('위주'), np.str_('원조'), np.str_('아마추어'), np.str_('싸하다'), np.str_('시종일관'), np.str_('슨'), np.str_('손예진'), np.str_('상이'), np.str_('사과'), np.str_('리기'), np.str_('렉'), np.str_('떡'), np.str_('디카프리오'), np.str_('들어주다'), np.str_('드러내다'), np.str_('두렵다'), np.str_('당장'), np.str_('닥치고'), np.str_('다녀오다'), np.str_('누님'), np.str_('납득'), np.str_('꼽'), np.str_('김희선'), np.str_('걷다'), np.str_('흔들리다'), np.str_('환자'), np.str_('폭풍'), np.str_('특집'), np.str_('테이큰'), np.str_('킬러'), np.str_('치료'), np.str_('춤추다'), np.str_('쯤'), np.str_('중국영화'), np.str_('재치'), np.str_('잘나가다'), np.str_('작화'), np.str_('예수'), np.str_('영활'), np.str_('연상'), np.str_('역작'), np.str_('없애다'), np.str_('부자연스럽다'), np.str_('볼라'), np.str_('박하다'), np.str_('도와주다'), np.str_('다치다'), np.str_('너희'), np.str_('낮'), np.str_('꼬이다'), np.str_('권상우'), np.str_('권력'), np.str_('국어'), np.str_('구조'), np.str_('화질'), np.str_('즐거움'), np.str_('예고'), np.str_('여지'), np.str_('엔딩크레딧'), np.str_('엄정화'), np.str_('어차피'), np.str_('애틋하다'), np.str_('시골'), np.str_('스필버그'), np.str_('스포츠'), np.str_('섬'), np.str_('색채'), np.str_('산다'), np.str_('발랄하다'), np.str_('반응'), np.str_('미학'), np.str_('문득'), np.str_('문'), np.str_('무의미하다'), np.str_('메이'), np.str_('만난'), np.str_('로빈'), np.str_('도망가다'), np.str_('난후'), np.str_('나무'), np.str_('꿀'), np.str_('귀찮다'), np.str_('광기'), np.str_('고문'), np.str_('가까이'), np.str_('회상'), np.str_('화하다'), np.str_('화판'), np.str_('폼'), np.str_('클라라'), np.str_('크리스찬'), np.str_('중후'), np.str_('옮기다'), np.str_('올려주다'), np.str_('어쨌든'), np.str_('반도'), np.str_('마찬가지'), np.str_('로움'), np.str_('러셀'), np.str_('떨리다'), np.str_('두고두고'), np.str_('돌려주다'), np.str_('다른사람'), np.str_('니콜라스'), np.str_('남자배우'), np.str_('난무'), np.str_('나로'), np.str_('기획'), np.str_('광'), np.str_('고등학생'), np.str_('개똥'), np.str_('가라'), np.str_('흠잡다'), np.str_('해지'), np.str_('해오다'), np.str_('콜린'), np.str_('질문'), np.str_('지내다'), np.str_('정확하다'), np.str_('정점'), np.str_('전문'), np.str_('인도영화'), np.str_('올라오다'), np.str_('애정'), np.str_('애잔하다'), np.str_('애로'), np.str_('알바생'), np.str_('안기다'), np.str_('아기자기하다'), np.str_('쏘우'), np.str_('신화'), np.str_('시험'), np.str_('소품'), np.str_('성과'), np.str_('설'), np.str_('복선'), np.str_('밝혀지다'), np.str_('뎀'), np.str_('대역'), np.str_('늑대'), np.str_('눈치'), np.str_('깜놀'), np.str_('국'), np.str_('관리'), np.str_('공주'), np.str_('거짓'), np.str_('가르치다'), np.str_('킹'), np.str_('크리스'), np.str_('창피하다'), np.str_('진창'), np.str_('주관'), np.str_('전지현'), np.str_('인식'), np.str_('이의'), np.str_('의견'), np.str_('영구'), np.str_('영광'), np.str_('에바'), np.str_('아우'), np.str_('아담'), np.str_('신부'), np.str_('설경구'), np.str_('살때'), np.str_('부다'), np.str_('목사'), np.str_('맺다'), np.str_('맙시'), np.str_('람보'), np.str_('내보내다'), np.str_('납치'), np.str_('남고'), np.str_('기타'), np.str_('기전'), np.str_('공연'), np.str_('간지'), np.str_('해외'), np.str_('클라스'), np.str_('침'), np.str_('층'), np.str_('찬사'), np.str_('집단'), np.str_('전라도'), np.str_('적나라하다'), np.str_('익숙하다'), np.str_('유령'), np.str_('우롱'), np.str_('오해'), np.str_('에드워드'), np.str_('어째'), np.str_('어딘가'), np.str_('아바타'), np.str_('스펙'), np.str_('스키'), np.str_('섬뜩하다'), np.str_('상당하다'), np.str_('살인자'), np.str_('부담'), np.str_('본격'), np.str_('밟다'), np.str_('띄다'), np.str_('떠들다'), np.str_('뒤늦다'), np.str_('데이빗'), np.str_('덤'), np.str_('노튼'), np.str_('까맣다'), np.str_('기사'), np.str_('극본'), np.str_('권'), np.str_('관대하다'), np.str_('고해'), np.str_('거북하다'), np.str_('홀로'), np.str_('혹'), np.str_('합치다'), np.str_('하고프다'), np.str_('평화'), np.str_('톤'), np.str_('타인'), np.str_('출발'), np.str_('천사'), np.str_('찾아오다'), np.str_('찬란하다'), np.str_('짙다'), np.str_('직'), np.str_('주위'), np.str_('제시카'), np.str_('잘알다'), np.str_('인연'), np.str_('유쾌'), np.str_('유치원'), np.str_('유익하다'), np.str_('원피스'), np.str_('외면'), np.str_('외로움'), np.str_('외국인'), np.str_('여전하다'), np.str_('에드'), np.str_('압'), np.str_('안해'), np.str_('안성기'), np.str_('아이언맨'), np.str_('싸이코패스'), np.str_('신세계'), np.str_('빨갛다'), np.str_('비참하다'), np.str_('붉다'), np.str_('볼일'), np.str_('방향'), np.str_('박찬욱'), np.str_('미장센'), np.str_('먹기'), np.str_('말리다'), np.str_('로버츠'), np.str_('로드'), np.str_('도라에몽'), np.str_('대학'), np.str_('당'), np.str_('나머진'), np.str_('끈'), np.str_('고작'), np.str_('거임'), np.str_('후기'), np.str_('화중'), np.str_('픽션'), np.str_('펼치다'), np.str_('태국'), np.str_('채다'), np.str_('참여'), np.str_('집다'), np.str_('지대'), np.str_('졸잼'), np.str_('재방송'), np.str_('장소'), np.str_('작전'), np.str_('오직'), np.str_('여유'), np.str_('양'), np.str_('쓰이다'), np.str_('시체'), np.str_('스콧'), np.str_('수위'), np.str_('소지섭'), np.str_('비싸다'), np.str_('불과하다'), np.str_('불가능하다'), np.str_('백배'), np.str_('반감'), np.str_('무식하다'), np.str_('모욕'), np.str_('멘탈'), np.str_('막상'), np.str_('대상'), np.str_('넹'), np.str_('내려가다'), np.str_('기쁘다'), np.str_('그치다'), np.str_('곤'), np.str_('고어'), np.str_('고도'), np.str_('경악'), np.str_('격'), np.str_('거듭'), np.str_('개발'), np.str_('감추다'), np.str_('흔적'), np.str_('팝콘'), np.str_('테'), np.str_('최민식'), np.str_('최민수'), np.str_('쯧쯧'), np.str_('쪽팔리다'), np.str_('짱구'), np.str_('줄리아'), np.str_('조차'), np.str_('조명'), np.str_('재수없다'), np.str_('유혹'), np.str_('오지'), np.str_('영웅본색'), np.str_('어수선하다'), np.str_('신민아'), np.str_('습'), np.str_('성장하다'), np.str_('성유리'), np.str_('생기'), np.str_('사람과'), np.str_('벗기다'), np.str_('번역'), np.str_('미달'), np.str_('묵직하다'), np.str_('무리다'), np.str_('뒤지다'), np.str_('동감'), np.str_('대고'), np.str_('누'), np.str_('김명민'), np.str_('극'), np.str_('구석'), np.str_('겨울왕국'), np.str_('피디'), np.str_('투성이'), np.str_('출현'), np.str_('추구'), np.str_('차태현'), np.str_('차별'), np.str_('지켜보다'), np.str_('주온'), np.str_('조승우'), np.str_('정선'), np.str_('젊은이'), np.str_('전도연'), np.str_('재료'), np.str_('잘나다'), np.str_('일찍'), np.str_('이정재'), np.str_('이은주'), np.str_('유행'), np.str_('왕자'), np.str_('온갖'), np.str_('안쓰럽다'), np.str_('쎄다'), np.str_('시장'), np.str_('스킵'), np.str_('서서'), np.str_('색깔'), np.str_('불쌍'), np.str_('베이'), np.str_('멀리'), np.str_('마블'), np.str_('마디'), np.str_('따스하다'), np.str_('덮다'), np.str_('다이하드'), np.str_('끝판'), np.str_('금지'), np.str_('극혐'), np.str_('구역'), np.str_('강요'), np.str_('강아지'), np.str_('감기'), np.str_('가관'), np.str_('가게'), np.str_('호감'), np.str_('향기'), np.str_('한국어'), np.str_('피곤하다'), np.str_('트랜스포머'), np.str_('타이틀'), np.str_('추악하다'), np.str_('첩보'), np.str_('주행'), np.str_('주네'), np.str_('저급하다'), np.str_('재방'), np.str_('자본'), np.str_('이스트'), np.str_('왕가위'), np.str_('열다'), np.str_('엑스맨'), np.str_('애국심'), np.str_('실'), np.str_('신데렐라'), np.str_('시간대'), np.str_('송승헌'), np.str_('부드럽다'), np.str_('만족스럽다'), np.str_('마르'), np.str_('러브스토리'), np.str_('래야'), np.str_('락'), np.str_('디테'), np.str_('댄스'), np.str_('대학생'), np.str_('닫다'), np.str_('뉴스'), np.str_('농담'), np.str_('노골'), np.str_('내세'), np.str_('난국'), np.str_('구혜선'), np.str_('구만'), np.str_('관람객'), np.str_('감옥'), np.str_('간직'), np.str_('환장하다'), np.str_('학창시절'), np.str_('파워'), np.str_('커피'), np.str_('칠하다'), np.str_('차분하다'), np.str_('차마'), np.str_('지인'), np.str_('지배'), np.str_('종합'), np.str_('종'), np.str_('잭슨'), np.str_('재주'), np.str_('잠자다'), np.str_('자랑'), np.str_('월드'), np.str_('완젼'), np.str_('열리다'), np.str_('업'), np.str_('어떠하다'), np.str_('씨발'), np.str_('실상'), np.str_('신세경'), np.str_('스피드'), np.str_('스파이'), np.str_('셋'), np.str_('새록새록'), np.str_('삼가다'), np.str_('배속'), np.str_('묻히다'), np.str_('모독'), np.str_('마다'), np.str_('라스'), np.str_('동양'), np.str_('더욱더'), np.str_('깨달음'), np.str_('김태희'), np.str_('긴박'), np.str_('군더더기'), np.str_('구경'), np.str_('과도'), np.str_('각각'), np.str_('가기'), np.str_('함부로'), np.str_('할배'), np.str_('학살'), np.str_('하드'), np.str_('특징'), np.str_('톰크루즈'), np.str_('커녕'), np.str_('칸'), np.str_('충'), np.str_('청년'), np.str_('진영화'), np.str_('지저분하다'), np.str_('지브리'), np.str_('지극'), np.str_('정화'), np.str_('적극'), np.str_('장동건'), np.str_('장난감'), np.str_('임청하'), np.str_('이외'), np.str_('이민기'), np.str_('음향'), np.str_('원표'), np.str_('완죤'), np.str_('연주'), np.str_('엉터리'), np.str_('엉뚱하다'), np.str_('어정쩡하다'), np.str_('손꼽다'), np.str_('서양'), np.str_('사장'), np.str_('벌리다'), np.str_('벌'), np.str_('버그'), np.str_('모순'), np.str_('모방'), np.str_('마녀'), np.str_('로망'), np.str_('따지다'), np.str_('디젤'), np.str_('드래곤볼'), np.str_('답지'), np.str_('다운로드'), np.str_('다니엘'), np.str_('국제'), np.str_('구멍'), np.str_('구려'), np.str_('공식'), np.str_('고치다'), np.str_('고스'), np.str_('개꿀잼'), np.str_('감수성'), np.str_('간간'), np.str_('획'), np.str_('헛웃음'), np.str_('행위'), np.str_('폰'), np.str_('파라'), np.str_('틀림없다'), np.str_('태양'), np.str_('카메론'), np.str_('주인'), np.str_('제왕'), np.str_('정확'), np.str_('정석'), np.str_('전해지다'), np.str_('임신'), np.str_('유의'), np.str_('유우'), np.str_('운동'), np.str_('열광하다'), np.str_('에로물'), np.str_('양반'), np.str_('신선'), np.str_('신념'), np.str_('스페인'), np.str_('살기'), np.str_('불필요하다'), np.str_('보고서'), np.str_('먼지'), np.str_('맥스'), np.str_('레이첼'), np.str_('랩'), np.str_('단역'), np.str_('노랗다'), np.str_('남자라면'), np.str_('낙'), np.str_('꺼내다'), np.str_('김민종'), np.str_('김구라'), np.str_('그려지다'), np.str_('구원'), np.str_('공허하다'), np.str_('곰'), np.str_('경의'), np.str_('경계'), np.str_('격투'), np.str_('각'), np.str_('가안'), np.str_('흑역사'), np.str_('흉내내'), np.str_('한정'), np.str_('하디'), np.str_('프리'), np.str_('퍼스'), np.str_('칠'), np.str_('촌'), np.str_('집안'), np.str_('주먹'), np.str_('조정'), np.str_('정당화'), np.str_('절반'), np.str_('전기'), np.str_('재현'), np.str_('잔잔'), np.str_('자격'), np.str_('이탈리아'), np.str_('오인혜'), np.str_('역다'), np.str_('에러'), np.str_('알리다'), np.str_('아카데미'), np.str_('송지효'), np.str_('솔'), np.str_('성찰'), np.str_('서정'), np.str_('새삼'), np.str_('삐'), np.str_('뽕짝'), np.str_('본성'), np.str_('보스'), np.str_('미션'), np.str_('무적'), np.str_('말르다'), np.str_('마틴'), np.str_('마을'), np.str_('마법'), np.str_('런닝맨'), np.str_('뚝뚝'), np.str_('독립'), np.str_('덜덜'), np.str_('다크나이트'), np.str_('남지'), np.str_('기용'), np.str_('공중파'), np.str_('걸이'), np.str_('황정민'), np.str_('환타지'), np.str_('호강'), np.str_('헛'), np.str_('한텐'), np.str_('펼쳐지다'), np.str_('치면'), np.str_('츠'), np.str_('최하'), np.str_('쫓다'), np.str_('지독하다'), np.str_('지고'), np.str_('정통'), np.str_('절절'), np.str_('절묘하다'), np.str_('전화'), np.str_('전사'), np.str_('저렇다'), np.str_('자라다'), np.str_('이형'), np.str_('이웃'), np.str_('유지태'), np.str_('유리'), np.str_('위원'), np.str_('요약'), np.str_('오페라'), np.str_('오우삼'), np.str_('여왕'), np.str_('아프리카'), np.str_('아이러니'), np.str_('썩'), np.str_('송혜교'), np.str_('생존'), np.str_('상관'), np.str_('사무라이'), np.str_('불안하다'), np.str_('부자'), np.str_('부디'), np.str_('민'), np.str_('모야'), np.str_('모성애'), np.str_('멤버'), np.str_('대전'), np.str_('눈요기'), np.str_('내기'), np.str_('낯'), np.str_('나와라'), np.str_('기승'), np.str_('구도'), np.str_('공원'), np.str_('강조'), np.str_('희망이'), np.str_('활약'), np.str_('호텔'), np.str_('포켓몬'), np.str_('토니'), np.str_('토끼'), np.str_('초점'), np.str_('초기'), np.str_('째다'), np.str_('지네'), np.str_('죽지'), np.str_('주옥'), np.str_('전투씬'), np.str_('저번'), np.str_('장나라'), np.str_('작렬'), np.str_('인터뷰'), np.str_('이연희'), np.str_('이범수'), np.str_('윤아'), np.str_('원주율'), np.str_('웅장'), np.str_('울음'), np.str_('와중'), np.str_('오유'), np.str_('오로라'), np.str_('엿보다'), np.str_('쏟아지다'), np.str_('선율'), np.str_('서프라이즈'), np.str_('사나이'), np.str_('볼걸'), np.str_('밧다'), np.str_('박평'), np.str_('밀리다'), np.str_('미국인'), np.str_('무색'), np.str_('롱'), np.str_('디지다'), np.str_('드림웍스'), np.str_('두려움'), np.str_('덴젤'), np.str_('대비'), np.str_('단편영화'), np.str_('남매'), np.str_('나니'), np.str_('꼬맹이'), np.str_('궁'), np.str_('고자'), np.str_('휴먼'), np.str_('호화'), np.str_('혀'), np.str_('팔다'), np.str_('크루즈'), np.str_('컬트'), np.str_('카피'), np.str_('쩜'), np.str_('진작'), np.str_('증말'), np.str_('쥬라기'), np.str_('줄리'), np.str_('준영'), np.str_('종일'), np.str_('제작사'), np.str_('젖다'), np.str_('저주'), np.str_('자아'), np.str_('일수'), np.str_('인척'), np.str_('인종차별'), np.str_('읍'), np.str_('위원회'), np.str_('울림'), np.str_('우왕'), np.str_('외화'), np.str_('역활'), np.str_('에릭'), np.str_('어중간하다'), np.str_('앞서'), np.str_('안남'), np.str_('신비'), np.str_('신도'), np.str_('스텝업'), np.str_('스탈'), np.str_('성함'), np.str_('생략'), np.str_('뽕'), np.str_('뻥'), np.str_('블루'), np.str_('벽'), np.str_('법정'), np.str_('배드'), np.str_('반지'), np.str_('미이라'), np.str_('메인'), np.str_('마마'), np.str_('레드'), np.str_('독'), np.str_('도로'), np.str_('더니'), np.str_('대가리'), np.str_('녹화'), np.str_('노예'), np.str_('꼽는'), np.str_('김강우'), np.str_('기록'), np.str_('그로'), np.str_('구성은'), np.str_('곁'), np.str_('강제'), np.str_('흥분'), np.str_('흐지부지'), np.str_('활동'), np.str_('혹평'), np.str_('해안가'), np.str_('한글'), np.str_('하나요'), np.str_('품'), np.str_('평론'), np.str_('퀴어'), np.str_('쿨하다'), np.str_('짓거리'), np.str_('짐승'), np.str_('지적'), np.str_('주상욱'), np.str_('종류'), np.str_('존내'), np.str_('젊음'), np.str_('전환'), np.str_('전락'), np.str_('적절'), np.str_('장혁'), np.str_('장치'), np.str_('장근석'), np.str_('임수정'), np.str_('이완'), np.str_('이예'), np.str_('우익'), np.str_('예술가'), np.str_('엽문'), np.str_('엉엉'), np.str_('아시'), np.str_('서방'), np.str_('사기꾼'), np.str_('비치'), np.str_('부여'), np.str_('별다르다'), np.str_('미안'), np.str_('미국영화'), np.str_('물건'), np.str_('모티브'), np.str_('명확하다'), np.str_('머피'), np.str_('망설이다'), np.str_('만듬'), np.str_('덜하다'), np.str_('다크'), np.str_('님들'), np.str_('냉정하다'), np.str_('남발'), np.str_('나빠지다'), np.str_('꾸미다'), np.str_('깨끗하다'), np.str_('글쎄요'), np.str_('교수'), np.str_('광팬'), np.str_('게리'), np.str_('가식'), np.str_('활용'), np.str_('허무맹랑'), np.str_('행크스'), np.str_('펭귄'), np.str_('패턴'), np.str_('타령'), np.str_('쿠'), np.str_('코스프레'), np.str_('침묵'), np.str_('취급'), np.str_('쫒다'), np.str_('증거'), np.str_('졸음'), np.str_('조악하다'), np.str_('자의'), np.str_('자위'), np.str_('자본주의'), np.str_('임권택'), np.str_('일요일'), np.str_('이동욱'), np.str_('은퇴'), np.str_('유루'), np.str_('위기'), np.str_('원인'), np.str_('외치다'), np.str_('와이프'), np.str_('오타쿠'), np.str_('예수님'), np.str_('여기저기'), np.str_('어의'), np.str_('안함'), np.str_('심정'), np.str_('세우다'), np.str_('성숙하다'), np.str_('상치'), np.str_('빼놓다'), np.str_('바쁘다'), np.str_('뮤직비디오'), np.str_('먹음'), np.str_('루이스'), np.str_('로마'), np.str_('뜯다'), np.str_('똑바로'), np.str_('땡'), np.str_('도하'), np.str_('대감'), np.str_('닷'), np.str_('느슨하다'), np.str_('높이'), np.str_('남아돌다'), np.str_('날로'), np.str_('극찬'), np.str_('고수'), np.str_('고로'), np.str_('강지환'), np.str_('흐뭇하다'), np.str_('홧팅'), np.str_('헷갈리다'), np.str_('허구'), np.str_('해피'), np.str_('피터'), np.str_('풍부하다'), np.str_('퍼즐'), np.str_('파이팅'), np.str_('파악'), np.str_('태우다'), np.str_('천만'), np.str_('지금껏'), np.str_('증명'), np.str_('정사'), np.str_('접근'), np.str_('일리'), np.str_('이혼'), np.str_('이성재'), np.str_('이나영'), np.str_('이구'), np.str_('의학'), np.str_('율'), np.str_('웹툰'), np.str_('워커'), np.str_('왓'), np.str_('어처구니없다'), np.str_('아가'), np.str_('슬래셔'), np.str_('섭외'), np.str_('샤를'), np.str_('뿌리'), np.str_('뼈'), np.str_('비롯'), np.str_('불면증'), np.str_('불만'), np.str_('복'), np.str_('미야자키'), np.str_('물의'), np.str_('모호하다'), np.str_('명도'), np.str_('멍하다'), np.str_('맷'), np.str_('리스'), np.str_('땡기다'), np.str_('따라오다'), np.str_('들보'), np.str_('동료'), np.str_('대로'), np.str_('노무'), np.str_('나나'), np.str_('깝'), np.str_('기독교인'), np.str_('긍정'), np.str_('국적'), np.str_('구역질'), np.str_('과잉'), np.str_('걸치다'), np.str_('거만'), np.str_('가해자'), np.str_('훔치다'), np.str_('홍'), np.str_('호소'), np.str_('하이킥'), np.str_('피트'), np.str_('파고들다'), np.str_('최선'), np.str_('체험'), np.str_('찢다'), np.str_('집어넣다'), np.str_('직원'), np.str_('증'), np.str_('줄이다'), np.str_('주원'), np.str_('존중'), np.str_('조조'), np.str_('전세계'), np.str_('재탕'), np.str_('일도'), np.str_('인디아나'), np.str_('양동근'), np.str_('쓰러지다'), np.str_('시스'), np.str_('시민'), np.str_('시리다'), np.str_('순진하다'), np.str_('사망'), np.str_('빼'), np.str_('불후'), np.str_('봉'), np.str_('벅차다'), np.str_('버스'), np.str_('미키'), np.str_('무리수'), np.str_('묘미'), np.str_('몫'), np.str_('몇개'), np.str_('매트릭스'), np.str_('등급'), np.str_('드립'), np.str_('동호'), np.str_('닉'), np.str_('뉴욕'), np.str_('눈뜨다'), np.str_('낚였'), np.str_('깨지다'), np.str_('기간'), np.str_('구리다'), np.str_('곱씹다'), np.str_('고발'), np.str_('경이'), np.str_('거대하다'), np.str_('강시'), np.str_('가져오다'), np.str_('가사'), np.str_('가미'), np.str_('휴가'), np.str_('환불'), np.str_('홍금보'), np.str_('혹성탈출'), np.str_('헐크'), np.str_('품다'), np.str_('패션'), np.str_('파이다'), np.str_('파워레인저'), np.str_('태도'), np.str_('클리셰'), np.str_('커지다'), np.str_('책임'), np.str_('차지'), np.str_('차이다'), np.str_('중국인'), np.str_('죽여주다'), np.str_('족'), np.str_('자유롭다'), np.str_('자매'), np.str_('자랑스럽다'), np.str_('일베충'), np.str_('일드'), np.str_('워싱턴'), np.str_('용감하다'), np.str_('엠마'), np.str_('어르다'), np.str_('양조위'), np.str_('압박'), np.str_('아시아'), np.str_('쌈'), np.str_('실사'), np.str_('수애'), np.str_('선하다'), np.str_('브래드피트'), np.str_('부가'), np.str_('발레'), np.str_('박신양'), np.str_('미묘하다'), np.str_('미루다'), np.str_('마케팅'), np.str_('마루'), np.str_('록키'), np.str_('땜시'), np.str_('두근거리다'), np.str_('동아리'), np.str_('도입'), np.str_('대만'), np.str_('노동자'), np.str_('과감'), np.str_('고요'), np.str_('거울'), np.str_('강력하다'), np.str_('간첩'), np.str_('간단하다'), np.str_('가르다'), np.str_('가능'), np.str_('해적'), np.str_('트릭'), np.str_('투표'), np.str_('크로우'), np.str_('측면'), np.str_('추락'), np.str_('최저'), np.str_('총알'), np.str_('지원'), np.str_('존잼'), np.str_('전적'), np.str_('전이'), np.str_('저희'), np.str_('저렴하다'), np.str_('저녁'), np.str_('저기'), np.str_('이승기'), np.str_('유아인'), np.str_('용두사미'), np.str_('욤'), np.str_('여정'), np.str_('엘'), np.str_('엑소시스트'), np.str_('엉덩이'), np.str_('어마어마하다'), np.str_('앞서다'), np.str_('쌓이다'), np.str_('실컷'), np.str_('식스센스'), np.str_('수다'), np.str_('성경'), np.str_('서스펜스'), np.str_('사라'), np.str_('빅뱅'), np.str_('비유'), np.str_('비슷'), np.str_('불법'), np.str_('볼껄'), np.str_('밴드'), np.str_('배려'), np.str_('물씬'), np.str_('무지하다'), np.str_('면도'), np.str_('매혹'), np.str_('리브'), np.str_('로우'), np.str_('려'), np.str_('따윈'), np.str_('닼'), np.str_('나약하다'), np.str_('꺼리다'), np.str_('그땐'), np.str_('고찰'), np.str_('계획'), np.str_('검다'), np.str_('가을'), np.str_('후속'), np.str_('활'), np.str_('현대인'), np.str_('한예슬'), np.str_('학원'), np.str_('폭'), np.str_('튀어나오다'), np.str_('테론'), np.str_('태'), np.str_('찬란'), np.str_('찜찜하다'), np.str_('진짜진짜'), np.str_('주체'), np.str_('정재영'), np.str_('접함'), np.str_('저절로'), np.str_('잡지'), np.str_('잘쓰다'), np.str_('작년'), np.str_('일생'), np.str_('이준기'), np.str_('이념'), np.str_('우아하다'), np.str_('우리네'), np.str_('예매'), np.str_('역쉬'), np.str_('에이리언'), np.str_('쓰기'), np.str_('실소'), np.str_('시스템'), np.str_('승'), np.str_('숲'), np.str_('소문'), np.str_('사연'), np.str_('분석'), np.str_('부재'), np.str_('보물'), np.str_('발생'), np.str_('박사'), np.str_('미인'), np.str_('미리'), np.str_('물어보다'), np.str_('무도'), np.str_('몰락'), np.str_('멘붕'), np.str_('멍청이'), np.str_('망상'), np.str_('리즈시절'), np.str_('레오'), np.str_('도통'), np.str_('다기'), np.str_('노말'), np.str_('넓다'), np.str_('내러티브'), np.str_('나발'), np.str_('끊임없다'), np.str_('기쁨'), np.str_('구라'), np.str_('공존'), np.str_('고질라'), np.str_('격전'), np.str_('개잼'), np.str_('감당'), np.str_('가시'), np.str_('가슴속'), np.str_('가버리다'), np.str_('황홀하다'), np.str_('황비홍'), np.str_('확신'), np.str_('홍진호'), np.str_('호러물'), np.str_('허니'), np.str_('필수'), np.str_('피라냐'), np.str_('토마스'), np.str_('탕웨이'), np.str_('큐브'), np.str_('콘서트'), np.str_('켄'), np.str_('컨저링'), np.str_('충무로'), np.str_('충만'), np.str_('초능력'), np.str_('진보'), np.str_('지상'), np.str_('즐'), np.str_('즉'), np.str_('줄리엣'), np.str_('제시'), np.str_('자료'), np.str_('인터스텔라'), np.str_('은은하다'), np.str_('욕구'), np.str_('완'), np.str_('온몸'), np.str_('영감'), np.str_('에너지'), np.str_('어보'), np.str_('어느새다'), np.str_('앵글'), np.str_('알맹이'), np.str_('신현준'), np.str_('설레임'), np.str_('살아오다'), np.str_('사귀다'), np.str_('빚'), np.str_('비난'), np.str_('불리다'), np.str_('병원'), np.str_('미군'), np.str_('뭡'), np.str_('물리다'), np.str_('무니'), np.str_('명곡'), np.str_('만날'), np.str_('리스트'), np.str_('로렌스'), np.str_('되돌아보다'), np.str_('대도'), np.str_('뇌리'), np.str_('노리다'), np.str_('날아가다'), np.str_('나이트'), np.str_('기어'), np.str_('금요일'), np.str_('그러하다'), np.str_('구르다'), np.str_('곳곳'), np.str_('건드리다'), np.str_('가치관'), np.str_('흥겹다'), np.str_('흡사하다'), np.str_('훈남'), np.str_('황제'), np.str_('화해'), np.str_('화만'), np.str_('형성'), np.str_('현빈'), np.str_('하차'), np.str_('파일'), np.str_('크리스토퍼'), np.str_('콤비'), np.str_('케이트'), np.str_('치기'), np.str_('철저하다'), np.str_('채플린'), np.str_('질투'), np.str_('질린다'), np.str_('주의자'), np.str_('재회'), np.str_('잘살다'), np.str_('자제'), np.str_('익다'), np.str_('유명'), np.str_('원빈'), np.str_('용가리'), np.str_('옹박'), np.str_('오류'), np.str_('역사왜곡'), np.str_('여동생'), np.str_('에일리언'), np.str_('에리'), np.str_('어딨다'), np.str_('애도'), np.str_('알차다'), np.str_('악평'), np.str_('악의'), np.str_('아역배우'), np.str_('쓰레기통'), np.str_('실종'), np.str_('신비롭다'), np.str_('신들리다'), np.str_('시청율'), np.str_('습작'), np.str_('스캔들'), np.str_('수치'), np.str_('서우'), np.str_('사막'), np.str_('사다코'), np.str_('비명'), np.str_('불친절하다'), np.str_('뵈다'), np.str_('박해일'), np.str_('문근영'), np.str_('몬스터'), np.str_('르'), np.str_('루크'), np.str_('롯데'), np.str_('로그'), np.str_('디자인'), np.str_('듣보잡'), np.str_('덕후'), np.str_('꾹'), np.str_('긴박하다'), np.str_('기리'), np.str_('긋다'), np.str_('근거'), np.str_('극한'), np.str_('권하다'), np.str_('광주'), np.str_('공효진'), np.str_('고백'), np.str_('거뭐'), np.str_('강호동'), np.str_('강혜정'), np.str_('가난하다'), np.str_('후유증'), np.str_('효민'), np.str_('허탈하다'), np.str_('해리슨'), np.str_('피우다'), np.str_('통쾌'), np.str_('크리스틴'), np.str_('창작'), np.str_('찰리'), np.str_('진화'), np.str_('진구'), np.str_('지진희'), np.str_('지존'), np.str_('지니다'), np.str_('주목'), np.str_('조직'), np.str_('조인성'), np.str_('제법'), np.str_('절실'), np.str_('적응'), np.str_('저예산영화'), np.str_('저급'), np.str_('잠수함'), np.str_('자비'), np.str_('임용'), np.str_('일대기'), np.str_('이종석'), np.str_('유도'), np.str_('우월'), np.str_('우디'), np.str_('예의'), np.str_('연장'), np.str_('연령'), np.str_('엄'), np.str_('언론'), np.str_('언급'), np.str_('어지간하다'), np.str_('안질리다'), np.str_('안녕'), np.str_('아리다'), np.str_('심해'), np.str_('신기'), np.str_('슈스케'), np.str_('수사'), np.str_('소박하다'), np.str_('서기'), np.str_('샤론스톤'), np.str_('생생'), np.str_('상투'), np.str_('상의'), np.str_('북'), np.str_('부탁드리다'), np.str_('법칙'), np.str_('버금'), np.str_('미로'), np.str_('무려'), np.str_('매년'), np.str_('말기'), np.str_('막스'), np.str_('리오'), np.str_('로보캅'), np.str_('레이싱'), np.str_('라마'), np.str_('데스'), np.str_('대형'), np.str_('다문화'), np.str_('김하늘'), np.str_('김선아'), np.str_('김남길'), np.str_('글구'), np.str_('귀요미'), np.str_('귀가'), np.str_('경쾌하다'), np.str_('거창하다'), np.str_('개미'), np.str_('훈련'), np.str_('후지'), np.str_('화평'), np.str_('화답'), np.str_('호러영화'), np.str_('현장'), np.str_('헤'), np.str_('플레이'), np.str_('풍기다'), np.str_('페이지'), np.str_('통수'), np.str_('주지훈'), np.str_('주어지다'), np.str_('종이'), np.str_('전통'), np.str_('전의'), np.str_('적도'), np.str_('장군'), np.str_('잣'), np.str_('작정'), np.str_('일베'), np.str_('인종'), np.str_('윤계상'), np.str_('위안'), np.str_('완전하다'), np.str_('엇어'), np.str_('어울림'), np.str_('어깨'), np.str_('암살'), np.str_('실존'), np.str_('시사'), np.str_('시르다'), np.str_('승화'), np.str_('속도'), np.str_('서극'), np.str_('삼다'), np.str_('사소하다'), np.str_('사서'), np.str_('불러일으키다'), np.str_('보석'), np.str_('발휘'), np.str_('미술'), np.str_('문성우'), np.str_('멜깁슨'), np.str_('멀쩡하다'), np.str_('맑은'), np.str_('마크'), np.str_('마인드'), np.str_('리들리'), np.str_('런닝타임'), np.str_('딱좋다'), np.str_('따라서'), np.str_('디스'), np.str_('독백'), np.str_('데이먼'), np.str_('높아지다'), np.str_('놀이'), np.str_('넋'), np.str_('까먹다'), np.str_('기차'), np.str_('교차'), np.str_('공개'), np.str_('고현정'), np.str_('간의'), np.str_('가문'), np.str_('가막'), np.str_('회장'), np.str_('황'), np.str_('혼'), np.str_('헤어'), np.str_('핸드폰'), np.str_('해대'), np.str_('함정'), np.str_('한장'), np.str_('프레디'), np.str_('프레데터'), np.str_('표본'), np.str_('토이스토리'), np.str_('턱'), np.str_('클루니'), np.str_('침대'), np.str_('출연료'), np.str_('초심'), np.str_('짐작'), np.str_('진자'), np.str_('진솔하다'), np.str_('주장'), np.str_('주민'), np.str_('조선족'), np.str_('전국'), np.str_('재기'), np.str_('장편'), np.str_('장쯔이'), np.str_('작업'), np.str_('이상형'), np.str_('이러하다'), np.str_('유오성'), np.str_('욬'), np.str_('요구'), np.str_('옹'), np.str_('어려움'), np.str_('어둠'), np.str_('악인'), np.str_('싹'), np.str_('슈렉'), np.str_('선전'), np.str_('사로자다'), np.str_('봣음'), np.str_('봣다'), np.str_('병사'), np.str_('바이러스'), np.str_('무작정'), np.str_('모델'), np.str_('리언'), np.str_('독창'), np.str_('대책'), np.str_('다음주'), np.str_('내겐'), np.str_('낯선'), np.str_('나오니'), np.str_('나열'), np.str_('꼴리다'), np.str_('껄'), np.str_('깜찍하다'), np.str_('급전'), np.str_('교감'), np.str_('괴수'), np.str_('고소영'), np.str_('결과물'), np.str_('걸레'), np.str_('건물'), np.str_('가운데'), np.str_('흘러나오다'), np.str_('휴머니즘'), np.str_('혼나다'), np.str_('허준'), np.str_('핵심'), np.str_('한몫'), np.str_('평타'), np.str_('편지'), np.str_('통틀어'), np.str_('털다'), np.str_('큐'), np.str_('콧물'), np.str_('치밀다'), np.str_('채민서'), np.str_('찌푸리다'), np.str_('쬐다'), np.str_('질주'), np.str_('직장'), np.str_('좌파'), np.str_('조재현'), np.str_('정신차리다'), np.str_('정신건강'), np.str_('정돈'), np.str_('자아내다'), np.str_('자빠지다'), np.str_('자마자'), np.str_('인내'), np.str_('이슈'), np.str_('이순신'), np.str_('이브'), np.str_('이민정'), np.str_('육체'), np.str_('웨슬리'), np.str_('옹호'), np.str_('오토바이'), np.str_('어우'), np.str_('어벤져스'), np.str_('어물'), np.str_('앓이'), np.str_('안티'), np.str_('안목'), np.str_('악몽'), np.str_('쏙'), np.str_('쌍욕'), np.str_('스톤'), np.str_('수정'), np.str_('솜씨'), np.str_('소외'), np.str_('설치다'), np.str_('사춘기'), np.str_('뺨'), np.str_('브로디'), np.str_('브래드'), np.str_('부러'), np.str_('보장'), np.str_('벨'), np.str_('버젼'), np.str_('백미'), np.str_('미니'), np.str_('몰래'), np.str_('마초'), np.str_('마구'), np.str_('린치'), np.str_('레인'), np.str_('떄문'), np.str_('뒤통수'), np.str_('데이트'), np.str_('더보'), np.str_('대치'), np.str_('대략'), np.str_('다한'), np.str_('금방'), np.str_('그만두다'), np.str_('궁금증'), np.str_('구해'), np.str_('고향'), np.str_('게왜'), np.str_('갑갑하다'), np.str_('각인'), np.str_('훼손'), np.str_('호평'), np.str_('허전하다'), np.str_('한지민'), np.str_('하필'), np.str_('평범'), np.str_('판치다'), np.str_('투자자'), np.str_('통한'), np.str_('통일'), np.str_('탕'), np.str_('탈락'), np.str_('타입'), np.str_('클린트'), np.str_('쾌감'), np.str_('친절하다'), np.str_('치명'), np.str_('치가'), np.str_('최진실'), np.str_('찔리다'), np.str_('진의'), np.str_('진부'), np.str_('지성'), np.str_('즘'), np.str_('줄알'), np.str_('좆'), np.str_('조각'), np.str_('제공'), np.str_('정적'), np.str_('자녀'), np.str_('인셉션'), np.str_('음모'), np.str_('은지'), np.str_('유작'), np.str_('유역비'), np.str_('유승준'), np.str_('오줌'), np.str_('여진구'), np.str_('여야'), np.str_('여실'), np.str_('어째서'), np.str_('어메이징'), np.str_('안듬'), np.str_('아담샌들러'), np.str_('시원'), np.str_('스티브'), np.str_('스치다'), np.str_('수술'), np.str_('세라'), np.str_('선배'), np.str_('서양인'), np.str_('사의'), np.str_('비급'), np.str_('블'), np.str_('부담스럽다'), np.str_('볼땐'), np.str_('보호'), np.str_('보영'), np.str_('변호사'), np.str_('방이'), np.str_('발톱'), np.str_('받치다'), np.str_('반의'), np.str_('미흡하다'), np.str_('미개하다'), np.str_('몬'), np.str_('멸망'), np.str_('먹이다'), np.str_('말리'), np.str_('로드무비'), np.str_('띄우다'), np.str_('뜸'), np.str_('똑똑하다'), np.str_('동의'), np.str_('동기'), np.str_('독도'), np.str_('도아'), np.str_('도망'), np.str_('도감'), np.str_('댓글알바'), np.str_('대변'), np.str_('다수'), np.str_('다가가다'), np.str_('놀람'), np.str_('남자친구'), np.str_('낚임'), np.str_('나비'), np.str_('까메오'), np.str_('거중'), np.str_('거도'), np.str_('개독'), np.str_('갑작스럽다'), np.str_('희한하다'), np.str_('흐'), np.str_('휘'), np.str_('후의'), np.str_('황금'), np.str_('현상'), np.str_('합리화'), np.str_('한쪽'), np.str_('한일'), np.str_('패기'), np.str_('타짜'), np.str_('케로로'), np.str_('카드'), np.str_('치열하다'), np.str_('취미'), np.str_('초적'), np.str_('초라하다'), np.str_('천녀유혼'), np.str_('창조'), np.str_('쪽바리'), np.str_('직전'), np.str_('중구'), np.str_('준수'), np.str_('주제곡'), np.str_('정유미'), np.str_('작살'), np.str_('인증'), np.str_('이선균'), np.str_('이분'), np.str_('의존'), np.str_('유해진'), np.str_('우마'), np.str_('와이어'), np.str_('여자도'), np.str_('엑스트라'), np.str_('얽다'), np.str_('얼른'), np.str_('양산'), np.str_('아이리스'), np.str_('아리'), np.str_('쓰리다'), np.str_('실체'), np.str_('신파극'), np.str_('신앙'), np.str_('스트립'), np.str_('소유'), np.str_('사전'), np.str_('사랑과전쟁'), np.str_('비정상'), np.str_('봣던'), np.str_('변명'), np.str_('발암'), np.str_('므'), np.str_('문학'), np.str_('문제점'), np.str_('목표'), np.str_('모리'), np.str_('매튜'), np.str_('맑다'), np.str_('마피아'), np.str_('따오다'), np.str_('듯이'), np.str_('드래곤'), np.str_('드라마틱하다'), np.str_('도박'), np.str_('데미무어'), np.str_('덧'), np.str_('대리'), np.str_('다그'), np.str_('닌자'), np.str_('낭'), np.str_('난방'), np.str_('나인'), np.str_('나뉘다'), np.str_('끊어지다'), np.str_('김수로'), np.str_('기부'), np.str_('기묘하다'), np.str_('근본'), np.str_('구매'), np.str_('관객수'), np.str_('과제'), np.str_('공리'), np.str_('고려'), np.str_('경제'), np.str_('경기'), np.str_('건강하다'), np.str_('각성'), np.str_('가위'), np.str_('희극'), np.str_('형태'), np.str_('헛소리'), np.str_('행운'), np.str_('해리'), np.str_('해달라다'), np.str_('한수'), np.str_('한니발'), np.str_('하여튼'), np.str_('하나경'), np.str_('퍼지다'), np.str_('판타스틱'), np.str_('퉤'), np.str_('탐욕'), np.str_('탁'), np.str_('크리'), np.str_('퀄'), np.str_('코스트'), np.str_('캐서린'), np.str_('치중'), np.str_('치우다'), np.str_('치르다'), np.str_('처참하다'), np.str_('참신'), np.str_('진지'), np.str_('진실되다'), np.str_('진국'), np.str_('지상파'), np.str_('중이'), np.str_('주신'), np.str_('좁다'), np.str_('제적'), np.str_('제인'), np.str_('제레미'), np.str_('장만옥'), np.str_('잘맞다'), np.str_('자하'), np.str_('자신감'), np.str_('일일'), np.str_('인피니트'), np.str_('이남'), np.str_('위성'), np.str_('우베'), np.str_('오디션'), np.str_('예정'), np.str_('여우'), np.str_('여명'), np.str_('어필'), np.str_('얄팍하다'), np.str_('알리'), np.str_('안고'), np.str_('안경'), np.str_('아키라'), np.str_('신은경'), np.str_('신뢰'), np.str_('시보'), np.str_('시바'), np.str_('시간여행'), np.str_('스탤론'), np.str_('수습'), np.str_('수년'), np.str_('서인국'), np.str_('삼촌'), np.str_('사례'), np.str_('빈틈'), np.str_('빅'), np.str_('불가능'), np.str_('부수'), np.str_('부대'), np.str_('본받다'), np.str_('별개'), np.str_('배슬기'), np.str_('배두나'), np.str_('박살'), np.str_('민주주의'), np.str_('미만'), np.str_('뮤직'), np.str_('무장'), np.str_('멋대로'), np.str_('맛깔나다'), np.str_('마련'), np.str_('마땅하다'), np.str_('똥폼'), np.str_('때메'), np.str_('두서'), np.str_('도덕'), np.str_('뎁'), np.str_('대구'), np.str_('단계'), np.str_('노무현'), np.str_('내주다'), np.str_('내공'), np.str_('난감하다'), np.str_('나소'), np.str_('끝장'), np.str_('김래원'), np.str_('권선'), np.str_('괴'), np.str_('관계자'), np.str_('공격'), np.str_('고래'), np.str_('결합'), np.str_('검'), np.str_('건달'), np.str_('감독판'), np.str_('흐흐'), np.str_('허각'), np.str_('해학'), np.str_('해설'), np.str_('한시'), np.str_('한국말'), np.str_('하루하루'), np.str_('폭파'), np.str_('페미니즘'), np.str_('팬심'), np.str_('패닝'), np.str_('튀기다'), np.str_('토미'), np.str_('토르'), np.str_('테스트'), np.str_('털리다'), np.str_('타이밍'), np.str_('큰일'), np.str_('카타르'), np.str_('축'), np.str_('최대한'), np.str_('쳐다보다'), np.str_('책임감'), np.str_('지속'), np.str_('지능'), np.str_('중세'), np.str_('주시'), np.str_('좌절'), np.str_('조커'), np.str_('조심하다'), np.str_('제이'), np.str_('정답'), np.str_('정글'), np.str_('잼남'), np.str_('장인'), np.str_('잔혹'), np.str_('자존심'), np.str_('자전거'), np.str_('자가'), np.str_('잉여'), np.str_('일본애니'), np.str_('일방'), np.str_('인공'), np.str_('이치'), np.str_('이준'), np.str_('이수근'), np.str_('의아'), np.str_('은희'), np.str_('유행어'), np.str_('유이'), np.str_('윌스미스'), np.str_('위치'), np.str_('우울증'), np.str_('용하다'), np.str_('외우다'), np.str_('와나'), np.str_('오싹하다'), np.str_('오리'), np.str_('연민'), np.str_('여고괴담'), np.str_('엇음'), np.str_('엄태웅'), np.str_('어줍다'), np.str_('아르'), np.str_('쓰나미'), np.str_('써주다'), np.str_('싸이'), np.str_('심은하'), np.str_('쉣'), np.str_('순정'), np.str_('수업'), np.str_('소수'), np.str_('소방관'), np.str_('성향'), np.str_('서툴다'), np.str_('삼국지'), np.str_('산드라'), np.str_('사르다'), np.str_('뽀로로'), np.str_('빠져나오다'), np.str_('브리'), np.str_('브라이언'), np.str_('붕괴'), np.str_('불꽃'), np.str_('부의'), np.str_('부각'), np.str_('봉태규'), np.str_('보상'), np.str_('벌레'), np.str_('번만'), np.str_('바비'), np.str_('미우다'), np.str_('미남'), np.str_('무능하다'), np.str_('못지않다'), np.str_('메리'), np.str_('맛보다'), np.str_('막히다'), np.str_('로맨스영화'), np.str_('런닝'), np.str_('랍시고'), np.str_('뚫다'), np.str_('된장'), np.str_('돌이'), np.str_('당당하다'), np.str_('뉴'), np.str_('눈부시다'), np.str_('농락'), np.str_('나열하다'), np.str_('나아지다'), np.str_('나아가다'), np.str_('기계'), np.str_('그림자'), np.str_('그룹'), np.str_('균형'), np.str_('구림'), np.str_('괜찬'), np.str_('관성'), np.str_('고통스럽다'), np.str_('고집'), np.str_('고릴라'), np.str_('계단'), np.str_('결제'), np.str_('거여'), np.str_('거대'), np.str_('감싸다'), np.str_('가가'), np.str_('획기'), np.str_('화장'), np.str_('현'), np.str_('피하'), np.str_('피어스'), np.str_('프로젝트'), np.str_('평이하다'), np.str_('팬티'), np.str_('팔마'), np.str_('판타지영화'), np.str_('틀어놓다'), np.str_('특성'), np.str_('테이크'), np.str_('키스신'), np.str_('클래스'), np.str_('침몰'), np.str_('칠이'), np.str_('친일파'), np.str_('치콕'), np.str_('지하철'), np.str_('지리'), np.str_('좌좀'), np.str_('좌빨'), np.str_('조롱'), np.str_('정신병원'), np.str_('정권'), np.str_('전파'), np.str_('장담'), np.str_('잡아먹다'), np.str_('인칭'), np.str_('이내'), np.str_('윽'), np.str_('요원'), np.str_('옴니버스'), np.str_('오점'), np.str_('오우'), np.str_('영화배우'), np.str_('여고생'), np.str_('엠비씨'), np.str_('엑소'), np.str_('에혀'), np.str_('어쨋'), np.str_('어유'), np.str_('앤딩'), np.str_('액'), np.str_('압축'), np.str_('암시'), np.str_('아웃'), np.str_('아메리칸'), np.str_('아날로그'), np.str_('쏠쏠하다'), np.str_('신동엽'), np.str_('스틸'), np.str_('스콜'), np.str_('속상하다'), np.str_('세명'), np.str_('선입견'), np.str_('서사시'), np.str_('서민'), np.str_('생일'), np.str_('사납다'), np.str_('삘'), np.str_('불멸'), np.str_('부조리'), np.str_('부류'), np.str_('보석같다'), np.str_('별반'), np.str_('박스오피스'), np.str_('미스터'), np.str_('미성년'), np.str_('뮤'), np.str_('물고기'), np.str_('묵다'), np.str_('띠'), np.str_('된장녀'), np.str_('동참'), np.str_('돌아다니다'), np.str_('도배'), np.str_('대학교'), np.str_('닭'), np.str_('단막극'), np.str_('늘어놓다'), np.str_('농구'), np.str_('논란'), np.str_('내지'), np.str_('남겨지다'), np.str_('난이'), np.str_('난생'), np.str_('괴작'), np.str_('걸음'), np.str_('가왜'), np.str_('후보'), np.str_('화신'), np.str_('홈'), np.str_('학대'), np.str_('피터팬'), np.str_('피노키오'), np.str_('포근하다'), np.str_('평정'), np.str_('퍼펙트'), np.str_('퇴보하다'), np.str_('통찰'), np.str_('테러리스트'), np.str_('태권도'), np.str_('타이타닉'), np.str_('킬'), np.str_('퀸'), np.str_('쿠바'), np.str_('취하'), np.str_('축하'), np.str_('최지우'), np.str_('초콜릿'), np.str_('철저'), np.str_('창문'), np.str_('찌들다'), np.str_('징악'), np.str_('진도'), np.str_('지워지다'), np.str_('종종'), np.str_('조디'), np.str_('조건'), np.str_('제도'), np.str_('정성'), np.str_('장진영'), np.str_('장사'), np.str_('장미'), np.str_('잘리다'), np.str_('인사'), np.str_('인디언'), np.str_('이중'), np.str_('이제껏'), np.str_('이자벨'), np.str_('이겠다'), np.str_('유명배우'), np.str_('웨이'), np.str_('움직임'), np.str_('용의'), np.str_('욕설'), np.str_('요가'), np.str_('왕따'), np.str_('영화음악'), np.str_('영호'), np.str_('연락'), np.str_('엮'), np.str_('어긋나다'), np.str_('양키'), np.str_('약속'), np.str_('안주'), np.str_('악플'), np.str_('아일랜드'), np.str_('시킴'), np.str_('스타뎀'), np.str_('숭고하다'), np.str_('손오공'), np.str_('세지'), np.str_('세월호'), np.str_('성장기'), np.str_('서태지'), np.str_('서세원'), np.str_('서바이벌'), np.str_('상속'), np.str_('삼천포'), np.str_('사형'), np.str_('사오다'), np.str_('부리'), np.str_('보수'), np.str_('보삼'), np.str_('보드'), np.str_('벌이다'), np.str_('발차기'), np.str_('반면'), np.str_('박히다'), np.str_('바램'), np.str_('미션임파서블'), np.str_('물질'), np.str_('무표정'), np.str_('몸부림'), np.str_('모드'), np.str_('모니터'), np.str_('모건'), np.str_('명예'), np.str_('명량'), np.str_('메릴'), np.str_('맞서다'), np.str_('망신'), np.str_('만인'), np.str_('마주'), np.str_('마스터피스'), np.str_('롭'), np.str_('로라'), np.str_('로나'), np.str_('라이트'), np.str_('뚜렷하다'), np.str_('때론'), np.str_('드릅'), np.str_('되새기다'), np.str_('동원'), np.str_('데려가다'), np.str_('데드'), np.str_('답습'), np.str_('닳다'), np.str_('달려가다'), np.str_('단조롭다'), np.str_('닦다'), np.str_('느'), np.str_('냥'), np.str_('남한'), np.str_('나대다'), np.str_('김창완'), np.str_('김승우'), np.str_('기운'), np.str_('금은'), np.str_('극도'), np.str_('구지성'), np.str_('관찰'), np.str_('공각기동대'), np.str_('가상하다'), np.str_('가도'), np.str_('훌륭'), np.str_('회복'), np.str_('헌터'), np.str_('해운대'), np.str_('하든'), np.str_('퍼'), np.str_('파헤치다'), np.str_('파멸'), np.str_('트와일라잇'), np.str_('투모로우'), np.str_('통속'), np.str_('타락하다'), np.str_('케이스'), np.str_('치우치다'), np.str_('치닫다'), np.str_('충족'), np.str_('추잡하다'), np.str_('최강희'), np.str_('청'), np.str_('천하'), np.str_('참혹하다'), np.str_('차인표'), np.str_('짝사랑'), np.str_('진출'), np.str_('지망'), np.str_('지껄이다'), np.str_('중요성'), np.str_('조치'), np.str_('조잡'), np.str_('점임'), np.str_('전투기'), np.str_('저능'), np.str_('잡탕'), np.str_('자칫'), np.str_('자질'), np.str_('자시다'), np.str_('자세하다'), np.str_('인간미'), np.str_('이틀'), np.str_('이상우'), np.str_('이민호'), np.str_('이문식'), np.str_('윤리'), np.str_('유준상'), np.str_('윌리엄스'), np.str_('원스'), np.str_('요란하다'), np.str_('외로'), np.str_('왤다'), np.str_('올드보이'), np.str_('오래오래'), np.str_('오늘날'), np.str_('오기'), np.str_('오그'), np.str_('영하'), np.str_('얹다'), np.str_('약자'), np.str_('앜'), np.str_('안정'), np.str_('시망'), np.str_('스토리텔링'), np.str_('스칼렛'), np.str_('숨쉬다'), np.str_('소가'), np.str_('성질'), np.str_('살해'), np.str_('사토시'), np.str_('사이코패스'), np.str_('사가'), np.str_('비노'), np.str_('블루레이'), np.str_('붙잡다'), np.str_('붕'), np.str_('봣습니'), np.str_('보더'), np.str_('보너스'), np.str_('범죄영화'), np.str_('반쪽'), np.str_('박신혜'), np.str_('밍밍'), np.str_('미련'), np.str_('모처럼'), np.str_('모자'), np.str_('멕'), np.str_('매치'), np.str_('맡기다'), np.str_('맞먹다'), np.str_('마스터'), np.str_('마모루'), np.str_('류승룡'), np.str_('루시'), np.str_('로사'), np.str_('라이토'), np.str_('라며'), np.str_('드라큐라'), np.str_('두루'), np.str_('동정'), np.str_('동성애자'), np.str_('데스노트'), np.str_('대판'), np.str_('대면'), np.str_('대립'), np.str_('대니'), np.str_('대기업'), np.str_('당대'), np.str_('단말'), np.str_('다듬다'), np.str_('니미'), np.str_('느끼하다'), np.str_('남동생'), np.str_('나른하다'), np.str_('꾸밈'), np.str_('깨우치다'), np.str_('김주혁'), np.str_('기절'), np.str_('기반'), np.str_('굿바이'), np.str_('군데'), np.str_('공기'), np.str_('고정'), np.str_('고루'), np.str_('고기'), np.str_('고고'), np.str_('경지'), np.str_('경쟁'), np.str_('거참'), np.str_('개봉관'), np.str_('같잖다'), np.str_('감우성'), np.str_('흠뻑'), np.str_('흑형'), np.str_('회의'), np.str_('화제'), np.str_('화이'), np.str_('헤헤'), np.str_('허영'), np.str_('해안'), np.str_('해드리다'), np.str_('핫'), np.str_('필립'), np.str_('피로'), np.str_('프리드'), np.str_('푸른'), np.str_('폭탄'), np.str_('평작'), np.str_('파티'), np.str_('파치노'), np.str_('파이'), np.str_('타잔'), np.str_('클럽'), np.str_('컬'), np.str_('출동'), np.str_('첩보물'), np.str_('참내'), np.str_('쩔어요'), np.str_('징징대다'), np.str_('질감'), np.str_('진주'), np.str_('증오'), np.str_('주진모'), np.str_('죄책감'), np.str_('조여정'), np.str_('전후'), np.str_('전범'), np.str_('저건'), np.str_('재생'), np.str_('장백지'), np.str_('장동민'), np.str_('자라'), np.str_('입가'), np.str_('이프'), np.str_('이정현'), np.str_('이정진'), np.str_('이서'), np.str_('이미연'), np.str_('을해'), np.str_('윤시윤'), np.str_('유승호'), np.str_('위안부'), np.str_('원한'), np.str_('원제'), np.str_('우울'), np.str_('외다'), np.str_('완결'), np.str_('여군'), np.str_('에반게리온'), np.str_('얼음'), np.str_('얕다'), np.str_('야쿠자'), np.str_('알고싶다'), np.str_('안젤리나'), np.str_('안달'), np.str_('안녕하다'), np.str_('쌍벽'), np.str_('쌍둥이'), np.str_('슬슬'), np.str_('스포일러'), np.str_('스틱'), np.str_('스크림'), np.str_('스무살'), np.str_('스며들다'), np.str_('스님'), np.str_('수단'), np.str_('숀'), np.str_('쇼킹'), np.str_('송중기'), np.str_('석'), np.str_('서커스'), np.str_('샤말란'), np.str_('상승'), np.str_('사정'), np.str_('비우다'), np.str_('비용'), np.str_('비둘기'), np.str_('블록'), np.str_('브금'), np.str_('불우'), np.str_('복귀'), np.str_('변질'), np.str_('범벅'), np.str_('방울'), np.str_('박현지'), np.str_('박한별'), np.str_('박정희'), np.str_('박자'), np.str_('박영화'), np.str_('민영화'), np.str_('물들다'), np.str_('물결'), np.str_('묶다'), np.str_('무책임하다'), np.str_('무성영화'), np.str_('무방'), np.str_('모자이크'), np.str_('모자라'), np.str_('모니카'), np.str_('며칠'), np.str_('멘트'), np.str_('맥주'), np.str_('매드'), np.str_('말장난'), np.str_('만원'), np.str_('마이크'), np.str_('마동석'), np.str_('리치'), np.str_('리얼리즘'), np.str_('떼'), np.str_('디비디'), np.str_('두뇌'), np.str_('동화책'), np.str_('돌이키다'), np.str_('도망치다'), np.str_('덤덤하다'), np.str_('더러워지다'), np.str_('당췌'), np.str_('다나'), np.str_('눈물샘'), np.str_('놀'), np.str_('넼'), np.str_('날림'), np.str_('낚였어'), np.str_('나무라다'), np.str_('끝없다'), np.str_('꼴다'), np.str_('김정은'), np.str_('긴급'), np.str_('금발'), np.str_('극영화'), np.str_('그이'), np.str_('그릇'), np.str_('귀하다'), np.str_('궁금'), np.str_('국뽕'), np.str_('구지')]\n"
          ]
        }
      ]
    },
    {
      "cell_type": "code",
      "source": [
        "# 학습 데이터를 벡터화하여 정수 시퀀스로 변환\n",
        "X_train_vec = tv(X_train_clean)"
      ],
      "metadata": {
        "id": "29uUSKBhG3O3"
      },
      "execution_count": 50,
      "outputs": []
    },
    {
      "cell_type": "code",
      "source": [
        "X_train_vec.shape\n",
        "\n",
        "# 전체 데이터 개수, 시퀀스 길이.순환 횟수(time step)"
      ],
      "metadata": {
        "colab": {
          "base_uri": "https://localhost:8080/"
        },
        "id": "ASlbA98TG3Re",
        "outputId": "19c21a7c-d332-496f-ab2a-4fdba8d7d8ac"
      },
      "execution_count": 52,
      "outputs": [
        {
          "output_type": "execute_result",
          "data": {
            "text/plain": [
              "TensorShape([171068, 10])"
            ]
          },
          "metadata": {},
          "execution_count": 52
        }
      ]
    },
    {
      "cell_type": "code",
      "source": [
        "X_train_clean[0]\n",
        "# 더빙, 진짜, 짜증나다, 목소리 4개의 토큰"
      ],
      "metadata": {
        "colab": {
          "base_uri": "https://localhost:8080/",
          "height": 36
        },
        "id": "LrYtwaE-OEzv",
        "outputId": "45357381-b7ea-4216-9202-6f8d29907401"
      },
      "execution_count": 54,
      "outputs": [
        {
          "output_type": "execute_result",
          "data": {
            "text/plain": [
              "'더빙 진짜 짜증나다 목소리'"
            ],
            "application/vnd.google.colaboratory.intrinsic+json": {
              "type": "string"
            }
          },
          "metadata": {},
          "execution_count": 54
        }
      ]
    },
    {
      "cell_type": "code",
      "source": [
        "X_train_vec[0]\n",
        "# 토큰마다의 시퀀스 번호. 더빙 : 348, 진짜 : 12, 짜증나다 : 162, 목소리 : 496, 나머지 시퀀스 : 0 으로 지정."
      ],
      "metadata": {
        "colab": {
          "base_uri": "https://localhost:8080/"
        },
        "id": "k1SB9PO1G3Ua",
        "outputId": "f029d56c-8845-4ddc-f182-fd0eb5ea4ecd"
      },
      "execution_count": 53,
      "outputs": [
        {
          "output_type": "execute_result",
          "data": {
            "text/plain": [
              "<tf.Tensor: shape=(10,), dtype=int64, numpy=array([348,  12, 162, 496,   0,   0,   0,   0,   0,   0])>"
            ]
          },
          "metadata": {},
          "execution_count": 53
        }
      ]
    },
    {
      "cell_type": "code",
      "source": [
        "# test 데이터 변경\n",
        "X_test_vec = tv(X_test_clean)\n",
        "X_test_vec.shape"
      ],
      "metadata": {
        "colab": {
          "base_uri": "https://localhost:8080/"
        },
        "id": "7ETeIY0CG3XN",
        "outputId": "433a5ed9-406d-49d3-abbc-0800295c2484"
      },
      "execution_count": 55,
      "outputs": [
        {
          "output_type": "execute_result",
          "data": {
            "text/plain": [
              "TensorShape([49997, 10])"
            ]
          },
          "metadata": {},
          "execution_count": 55
        }
      ]
    },
    {
      "cell_type": "code",
      "source": [
        "import numpy as np"
      ],
      "metadata": {
        "id": "cy0Jym_NP9ox"
      },
      "execution_count": 56,
      "outputs": []
    },
    {
      "cell_type": "code",
      "source": [
        "# 입력 데이터의 shape를 3차원으로 만들어주기. (171068, 10, 1)로 변환 후 학습 필요\n",
        "X_train_vec = np.expand_dims(X_train_vec, axis=-1) # -1 : 마지막 축(axis)에 새로운 차원 추가\n",
        "X_test_vec = np.expand_dims(X_test_vec, axis=-1)"
      ],
      "metadata": {
        "id": "-SM1f_uAG3bk"
      },
      "execution_count": 57,
      "outputs": []
    },
    {
      "cell_type": "code",
      "source": [
        "# 최종 모양 확인\n",
        "X_train_vec.shape,X_test_vec.shape\n",
        "# 약 17만개의 리뷰 데이터, 10개의 시퀀스 길이(순환 횟수), 벡터는 1개의 특성(정수 인덱스)"
      ],
      "metadata": {
        "colab": {
          "base_uri": "https://localhost:8080/"
        },
        "id": "An20gFSRD4En",
        "outputId": "1a5951b2-096c-4b8a-f927-f3729203e19c"
      },
      "execution_count": 60,
      "outputs": [
        {
          "output_type": "execute_result",
          "data": {
            "text/plain": [
              "((171068, 10, 1), (49997, 10, 1))"
            ]
          },
          "metadata": {},
          "execution_count": 60
        }
      ]
    },
    {
      "cell_type": "markdown",
      "source": [
        "### 학습\n",
        "1. 모델 구조 정의\n",
        "2. 학습방법 설정\n",
        "3. 학습\n",
        "4. 예측"
      ],
      "metadata": {
        "id": "Eul19bsJD4CI"
      }
    },
    {
      "cell_type": "code",
      "source": [
        "from tensorflow.keras.models import Sequential\n",
        "from tensorflow.keras.layers import SimpleRNN, Dense, InputLayer"
      ],
      "metadata": {
        "id": "2MyWPLXwD39T"
      },
      "execution_count": 62,
      "outputs": []
    },
    {
      "cell_type": "code",
      "source": [
        "# 1. 모델 구조 정의\n",
        "model = Sequential()\n",
        "\n",
        "model.add(InputLayer(shape=(10,1))) # 입력층\n",
        "model.add(SimpleRNN(units=64)) # 중간층\n",
        "model.add(Dense(units=1, activation='sigmoid')) # 출력층. 이진분류(긍/부정)\n",
        "\n",
        "# 2. 학습 방법 설정\n",
        "model.compile(loss='binary_crossentropy',\n",
        "              optimizer = 'Adam',\n",
        "              metrics = ['accuracy'])\n",
        "\n",
        "# 3. 모델 학습\n",
        "his = model.fit(X_train_vec, y_train,\n",
        "                epochs = 40,\n",
        "                batch_size = 128,\n",
        "                validation_split = 0.2)"
      ],
      "metadata": {
        "colab": {
          "base_uri": "https://localhost:8080/"
        },
        "collapsed": true,
        "id": "UFdhOG2ZD3va",
        "outputId": "d4049b7f-d22b-41ab-951e-33f0749108b9"
      },
      "execution_count": 63,
      "outputs": [
        {
          "output_type": "stream",
          "name": "stdout",
          "text": [
            "Epoch 1/40\n",
            "\u001b[1m1070/1070\u001b[0m \u001b[32m━━━━━━━━━━━━━━━━━━━━\u001b[0m\u001b[37m\u001b[0m \u001b[1m8s\u001b[0m 6ms/step - accuracy: 0.5229 - loss: 0.6936 - val_accuracy: 0.5279 - val_loss: 0.6869\n",
            "Epoch 2/40\n",
            "\u001b[1m1070/1070\u001b[0m \u001b[32m━━━━━━━━━━━━━━━━━━━━\u001b[0m\u001b[37m\u001b[0m \u001b[1m10s\u001b[0m 6ms/step - accuracy: 0.5372 - loss: 0.6851 - val_accuracy: 0.5375 - val_loss: 0.6844\n",
            "Epoch 3/40\n",
            "\u001b[1m1070/1070\u001b[0m \u001b[32m━━━━━━━━━━━━━━━━━━━━\u001b[0m\u001b[37m\u001b[0m \u001b[1m8s\u001b[0m 7ms/step - accuracy: 0.5359 - loss: 0.6825 - val_accuracy: 0.5379 - val_loss: 0.6838\n",
            "Epoch 4/40\n",
            "\u001b[1m1070/1070\u001b[0m \u001b[32m━━━━━━━━━━━━━━━━━━━━\u001b[0m\u001b[37m\u001b[0m \u001b[1m9s\u001b[0m 6ms/step - accuracy: 0.5407 - loss: 0.6798 - val_accuracy: 0.5440 - val_loss: 0.6795\n",
            "Epoch 5/40\n",
            "\u001b[1m1070/1070\u001b[0m \u001b[32m━━━━━━━━━━━━━━━━━━━━\u001b[0m\u001b[37m\u001b[0m \u001b[1m7s\u001b[0m 7ms/step - accuracy: 0.5410 - loss: 0.6772 - val_accuracy: 0.5408 - val_loss: 0.6754\n",
            "Epoch 6/40\n",
            "\u001b[1m1070/1070\u001b[0m \u001b[32m━━━━━━━━━━━━━━━━━━━━\u001b[0m\u001b[37m\u001b[0m \u001b[1m10s\u001b[0m 6ms/step - accuracy: 0.5453 - loss: 0.6735 - val_accuracy: 0.5435 - val_loss: 0.6715\n",
            "Epoch 7/40\n",
            "\u001b[1m1070/1070\u001b[0m \u001b[32m━━━━━━━━━━━━━━━━━━━━\u001b[0m\u001b[37m\u001b[0m \u001b[1m10s\u001b[0m 6ms/step - accuracy: 0.5436 - loss: 0.6724 - val_accuracy: 0.5479 - val_loss: 0.6720\n",
            "Epoch 8/40\n",
            "\u001b[1m1070/1070\u001b[0m \u001b[32m━━━━━━━━━━━━━━━━━━━━\u001b[0m\u001b[37m\u001b[0m \u001b[1m11s\u001b[0m 6ms/step - accuracy: 0.5487 - loss: 0.6714 - val_accuracy: 0.5454 - val_loss: 0.6701\n",
            "Epoch 9/40\n",
            "\u001b[1m1070/1070\u001b[0m \u001b[32m━━━━━━━━━━━━━━━━━━━━\u001b[0m\u001b[37m\u001b[0m \u001b[1m10s\u001b[0m 6ms/step - accuracy: 0.5473 - loss: 0.6694 - val_accuracy: 0.5439 - val_loss: 0.6696\n",
            "Epoch 10/40\n",
            "\u001b[1m1070/1070\u001b[0m \u001b[32m━━━━━━━━━━━━━━━━━━━━\u001b[0m\u001b[37m\u001b[0m \u001b[1m11s\u001b[0m 7ms/step - accuracy: 0.5492 - loss: 0.6685 - val_accuracy: 0.5395 - val_loss: 0.6708\n",
            "Epoch 11/40\n",
            "\u001b[1m1070/1070\u001b[0m \u001b[32m━━━━━━━━━━━━━━━━━━━━\u001b[0m\u001b[37m\u001b[0m \u001b[1m6s\u001b[0m 6ms/step - accuracy: 0.5513 - loss: 0.6680 - val_accuracy: 0.5434 - val_loss: 0.6720\n",
            "Epoch 12/40\n",
            "\u001b[1m1070/1070\u001b[0m \u001b[32m━━━━━━━━━━━━━━━━━━━━\u001b[0m\u001b[37m\u001b[0m \u001b[1m10s\u001b[0m 5ms/step - accuracy: 0.5482 - loss: 0.6678 - val_accuracy: 0.5480 - val_loss: 0.6700\n",
            "Epoch 13/40\n",
            "\u001b[1m1070/1070\u001b[0m \u001b[32m━━━━━━━━━━━━━━━━━━━━\u001b[0m\u001b[37m\u001b[0m \u001b[1m6s\u001b[0m 6ms/step - accuracy: 0.5509 - loss: 0.6666 - val_accuracy: 0.5535 - val_loss: 0.6651\n",
            "Epoch 14/40\n",
            "\u001b[1m1070/1070\u001b[0m \u001b[32m━━━━━━━━━━━━━━━━━━━━\u001b[0m\u001b[37m\u001b[0m \u001b[1m10s\u001b[0m 6ms/step - accuracy: 0.5504 - loss: 0.6659 - val_accuracy: 0.5481 - val_loss: 0.6653\n",
            "Epoch 15/40\n",
            "\u001b[1m1070/1070\u001b[0m \u001b[32m━━━━━━━━━━━━━━━━━━━━\u001b[0m\u001b[37m\u001b[0m \u001b[1m8s\u001b[0m 7ms/step - accuracy: 0.5544 - loss: 0.6660 - val_accuracy: 0.5527 - val_loss: 0.6648\n",
            "Epoch 16/40\n",
            "\u001b[1m1070/1070\u001b[0m \u001b[32m━━━━━━━━━━━━━━━━━━━━\u001b[0m\u001b[37m\u001b[0m \u001b[1m6s\u001b[0m 6ms/step - accuracy: 0.5533 - loss: 0.6648 - val_accuracy: 0.5539 - val_loss: 0.6655\n",
            "Epoch 17/40\n",
            "\u001b[1m1070/1070\u001b[0m \u001b[32m━━━━━━━━━━━━━━━━━━━━\u001b[0m\u001b[37m\u001b[0m \u001b[1m8s\u001b[0m 7ms/step - accuracy: 0.5542 - loss: 0.6642 - val_accuracy: 0.5544 - val_loss: 0.6661\n",
            "Epoch 18/40\n",
            "\u001b[1m1070/1070\u001b[0m \u001b[32m━━━━━━━━━━━━━━━━━━━━\u001b[0m\u001b[37m\u001b[0m \u001b[1m8s\u001b[0m 5ms/step - accuracy: 0.5539 - loss: 0.6642 - val_accuracy: 0.5569 - val_loss: 0.6643\n",
            "Epoch 19/40\n",
            "\u001b[1m1070/1070\u001b[0m \u001b[32m━━━━━━━━━━━━━━━━━━━━\u001b[0m\u001b[37m\u001b[0m \u001b[1m11s\u001b[0m 6ms/step - accuracy: 0.5549 - loss: 0.6641 - val_accuracy: 0.5500 - val_loss: 0.6650\n",
            "Epoch 20/40\n",
            "\u001b[1m1070/1070\u001b[0m \u001b[32m━━━━━━━━━━━━━━━━━━━━\u001b[0m\u001b[37m\u001b[0m \u001b[1m10s\u001b[0m 5ms/step - accuracy: 0.5536 - loss: 0.6649 - val_accuracy: 0.5501 - val_loss: 0.6656\n",
            "Epoch 21/40\n",
            "\u001b[1m1070/1070\u001b[0m \u001b[32m━━━━━━━━━━━━━━━━━━━━\u001b[0m\u001b[37m\u001b[0m \u001b[1m6s\u001b[0m 6ms/step - accuracy: 0.5544 - loss: 0.6633 - val_accuracy: 0.5523 - val_loss: 0.6656\n",
            "Epoch 22/40\n",
            "\u001b[1m1070/1070\u001b[0m \u001b[32m━━━━━━━━━━━━━━━━━━━━\u001b[0m\u001b[37m\u001b[0m \u001b[1m10s\u001b[0m 5ms/step - accuracy: 0.5540 - loss: 0.6639 - val_accuracy: 0.5597 - val_loss: 0.6633\n",
            "Epoch 23/40\n",
            "\u001b[1m1070/1070\u001b[0m \u001b[32m━━━━━━━━━━━━━━━━━━━━\u001b[0m\u001b[37m\u001b[0m \u001b[1m8s\u001b[0m 7ms/step - accuracy: 0.5621 - loss: 0.6614 - val_accuracy: 0.5605 - val_loss: 0.6614\n",
            "Epoch 24/40\n",
            "\u001b[1m1070/1070\u001b[0m \u001b[32m━━━━━━━━━━━━━━━━━━━━\u001b[0m\u001b[37m\u001b[0m \u001b[1m8s\u001b[0m 5ms/step - accuracy: 0.5617 - loss: 0.6602 - val_accuracy: 0.5659 - val_loss: 0.6598\n",
            "Epoch 25/40\n",
            "\u001b[1m1070/1070\u001b[0m \u001b[32m━━━━━━━━━━━━━━━━━━━━\u001b[0m\u001b[37m\u001b[0m \u001b[1m10s\u001b[0m 5ms/step - accuracy: 0.5629 - loss: 0.6596 - val_accuracy: 0.5479 - val_loss: 0.6633\n",
            "Epoch 26/40\n",
            "\u001b[1m1070/1070\u001b[0m \u001b[32m━━━━━━━━━━━━━━━━━━━━\u001b[0m\u001b[37m\u001b[0m \u001b[1m8s\u001b[0m 7ms/step - accuracy: 0.5540 - loss: 0.6624 - val_accuracy: 0.5607 - val_loss: 0.6611\n",
            "Epoch 27/40\n",
            "\u001b[1m1070/1070\u001b[0m \u001b[32m━━━━━━━━━━━━━━━━━━━━\u001b[0m\u001b[37m\u001b[0m \u001b[1m5s\u001b[0m 5ms/step - accuracy: 0.5604 - loss: 0.6598 - val_accuracy: 0.5597 - val_loss: 0.6615\n",
            "Epoch 28/40\n",
            "\u001b[1m1070/1070\u001b[0m \u001b[32m━━━━━━━━━━━━━━━━━━━━\u001b[0m\u001b[37m\u001b[0m \u001b[1m7s\u001b[0m 7ms/step - accuracy: 0.5599 - loss: 0.6596 - val_accuracy: 0.5612 - val_loss: 0.6598\n",
            "Epoch 29/40\n",
            "\u001b[1m1070/1070\u001b[0m \u001b[32m━━━━━━━━━━━━━━━━━━━━\u001b[0m\u001b[37m\u001b[0m \u001b[1m6s\u001b[0m 5ms/step - accuracy: 0.5620 - loss: 0.6591 - val_accuracy: 0.5615 - val_loss: 0.6587\n",
            "Epoch 30/40\n",
            "\u001b[1m1070/1070\u001b[0m \u001b[32m━━━━━━━━━━━━━━━━━━━━\u001b[0m\u001b[37m\u001b[0m \u001b[1m6s\u001b[0m 6ms/step - accuracy: 0.5608 - loss: 0.6569 - val_accuracy: 0.5623 - val_loss: 0.6583\n",
            "Epoch 31/40\n",
            "\u001b[1m1070/1070\u001b[0m \u001b[32m━━━━━━━━━━━━━━━━━━━━\u001b[0m\u001b[37m\u001b[0m \u001b[1m9s\u001b[0m 5ms/step - accuracy: 0.5607 - loss: 0.6581 - val_accuracy: 0.5635 - val_loss: 0.6565\n",
            "Epoch 32/40\n",
            "\u001b[1m1070/1070\u001b[0m \u001b[32m━━━━━━━━━━━━━━━━━━━━\u001b[0m\u001b[37m\u001b[0m \u001b[1m11s\u001b[0m 6ms/step - accuracy: 0.5592 - loss: 0.6575 - val_accuracy: 0.5552 - val_loss: 0.6632\n",
            "Epoch 33/40\n",
            "\u001b[1m1070/1070\u001b[0m \u001b[32m━━━━━━━━━━━━━━━━━━━━\u001b[0m\u001b[37m\u001b[0m \u001b[1m11s\u001b[0m 7ms/step - accuracy: 0.5572 - loss: 0.6616 - val_accuracy: 0.5687 - val_loss: 0.6625\n",
            "Epoch 34/40\n",
            "\u001b[1m1070/1070\u001b[0m \u001b[32m━━━━━━━━━━━━━━━━━━━━\u001b[0m\u001b[37m\u001b[0m \u001b[1m6s\u001b[0m 5ms/step - accuracy: 0.5615 - loss: 0.6606 - val_accuracy: 0.5606 - val_loss: 0.6604\n",
            "Epoch 35/40\n",
            "\u001b[1m1070/1070\u001b[0m \u001b[32m━━━━━━━━━━━━━━━━━━━━\u001b[0m\u001b[37m\u001b[0m \u001b[1m8s\u001b[0m 7ms/step - accuracy: 0.5621 - loss: 0.6582 - val_accuracy: 0.5718 - val_loss: 0.6575\n",
            "Epoch 36/40\n",
            "\u001b[1m1070/1070\u001b[0m \u001b[32m━━━━━━━━━━━━━━━━━━━━\u001b[0m\u001b[37m\u001b[0m \u001b[1m10s\u001b[0m 7ms/step - accuracy: 0.5646 - loss: 0.6577 - val_accuracy: 0.5656 - val_loss: 0.6567\n",
            "Epoch 37/40\n",
            "\u001b[1m1070/1070\u001b[0m \u001b[32m━━━━━━━━━━━━━━━━━━━━\u001b[0m\u001b[37m\u001b[0m \u001b[1m6s\u001b[0m 5ms/step - accuracy: 0.5632 - loss: 0.6565 - val_accuracy: 0.5621 - val_loss: 0.6573\n",
            "Epoch 38/40\n",
            "\u001b[1m1070/1070\u001b[0m \u001b[32m━━━━━━━━━━━━━━━━━━━━\u001b[0m\u001b[37m\u001b[0m \u001b[1m12s\u001b[0m 7ms/step - accuracy: 0.5659 - loss: 0.6560 - val_accuracy: 0.5656 - val_loss: 0.6577\n",
            "Epoch 39/40\n",
            "\u001b[1m1070/1070\u001b[0m \u001b[32m━━━━━━━━━━━━━━━━━━━━\u001b[0m\u001b[37m\u001b[0m \u001b[1m6s\u001b[0m 6ms/step - accuracy: 0.5667 - loss: 0.6538 - val_accuracy: 0.5689 - val_loss: 0.6562\n",
            "Epoch 40/40\n",
            "\u001b[1m1070/1070\u001b[0m \u001b[32m━━━━━━━━━━━━━━━━━━━━\u001b[0m\u001b[37m\u001b[0m \u001b[1m7s\u001b[0m 7ms/step - accuracy: 0.5707 - loss: 0.6554 - val_accuracy: 0.5641 - val_loss: 0.6591\n"
          ]
        }
      ]
    },
    {
      "cell_type": "code",
      "source": [
        "# 학습 결과 시각화\n",
        "import matplotlib.pyplot as plt\n",
        "plt.figure(figsize=(12,4))\n",
        "plt.plot(his.history['accuracy'], label='train_acc')\n",
        "plt.plot(his.history['val_accuracy'], label='val_acc')\n",
        "plt.legend()\n",
        "plt.show()"
      ],
      "metadata": {
        "colab": {
          "base_uri": "https://localhost:8080/",
          "height": 368
        },
        "id": "MnXJ7V4IVHPS",
        "outputId": "44fd6622-166b-4333-a1f4-48ae53d52bb0"
      },
      "execution_count": 66,
      "outputs": [
        {
          "output_type": "display_data",
          "data": {
            "text/plain": [
              "<Figure size 1200x400 with 1 Axes>"
            ],
            "image/png": "[encoded data removed]"
          },
          "metadata": {}
        }
      ]
    },
    {
      "cell_type": "code",
      "source": [
        "pred = model.predict(X_test_vec)"
      ],
      "metadata": {
        "colab": {
          "base_uri": "https://localhost:8080/"
        },
        "id": "wyjXRwakVHSK",
        "outputId": "1e16b2be-2f2b-4b2f-98ff-9f353e1c4b78"
      },
      "execution_count": 67,
      "outputs": [
        {
          "output_type": "stream",
          "name": "stdout",
          "text": [
            "\u001b[1m1563/1563\u001b[0m \u001b[32m━━━━━━━━━━━━━━━━━━━━\u001b[0m\u001b[37m\u001b[0m \u001b[1m3s\u001b[0m 2ms/step\n"
          ]
        }
      ]
    },
    {
      "cell_type": "code",
      "source": [
        "pred"
      ],
      "metadata": {
        "colab": {
          "base_uri": "https://localhost:8080/"
        },
        "id": "RFl-xKqJVHVF",
        "outputId": "219e252e-b4f5-4e5e-e59a-d5cb9ec0e56c"
      },
      "execution_count": 68,
      "outputs": [
        {
          "output_type": "execute_result",
          "data": {
            "text/plain": [
              "array([[0.43445054],\n",
              "       [0.4051934 ],\n",
              "       [0.41858596],\n",
              "       ...,\n",
              "       [0.42880237],\n",
              "       [0.5506896 ],\n",
              "       [0.6759807 ]], dtype=float32)"
            ]
          },
          "metadata": {},
          "execution_count": 68
        }
      ]
    },
    {
      "cell_type": "code",
      "source": [
        "# 이진분류(sigmoid) -> 0.5를 기준으로 클래스 나누기\n",
        "pred_cls = (pred > 0.5).astype('int')\n",
        "pred_cls"
      ],
      "metadata": {
        "colab": {
          "base_uri": "https://localhost:8080/"
        },
        "id": "Ylq8oyIgVHX4",
        "outputId": "8bff6a84-c044-4a59-eba8-27c28df90ebd"
      },
      "execution_count": 70,
      "outputs": [
        {
          "output_type": "execute_result",
          "data": {
            "text/plain": [
              "array([[0],\n",
              "       [0],\n",
              "       [0],\n",
              "       ...,\n",
              "       [0],\n",
              "       [1],\n",
              "       [1]])"
            ]
          },
          "metadata": {},
          "execution_count": 70
        }
      ]
    },
    {
      "cell_type": "code",
      "source": [
        "y_test_sample = y_test.copy() # y_test의 복사본을 변수 sample로 만듦"
      ],
      "metadata": {
        "id": "21f7kGMUaAaY"
      },
      "execution_count": 72,
      "outputs": []
    },
    {
      "cell_type": "code",
      "source": [
        "y_test_sample = pd.DataFrame(y_test_sample) # 2차원 df로 만듦"
      ],
      "metadata": {
        "id": "0j6yqI4OaElp"
      },
      "execution_count": 73,
      "outputs": []
    },
    {
      "cell_type": "code",
      "source": [
        "y_test_sample['rnn_pred_cls'] = pred_cls # 'rnn_pred_cls' 컬럼 추가"
      ],
      "metadata": {
        "id": "3uxMR8E7VHav"
      },
      "execution_count": 74,
      "outputs": []
    },
    {
      "cell_type": "code",
      "source": [
        "y_test_sample # 실제답, rnn이 예측한 클래스 값 비교"
      ],
      "metadata": {
        "colab": {
          "base_uri": "https://localhost:8080/",
          "height": 423
        },
        "id": "3xgfdHRHVHdk",
        "outputId": "1c67d8cc-d770-403a-e191-d09537713cea"
      },
      "execution_count": 75,
      "outputs": [
        {
          "output_type": "execute_result",
          "data": {
            "text/plain": [
              "       label  rnn_pred_cls\n",
              "0          1             0\n",
              "1          0             0\n",
              "2          0             0\n",
              "3          0             0\n",
              "4          0             0\n",
              "...      ...           ...\n",
              "49995      1             0\n",
              "49996      0             1\n",
              "49997      0             0\n",
              "49998      0             1\n",
              "49999      0             1\n",
              "\n",
              "[49997 rows x 2 columns]"
            ],
            "text/html": [
              "\n",
              "  <div id=\"df-54a68e33-3b61-434c-9d6a-fc796a4b79f5\" class=\"colab-df-container\">\n",
              "    <div>\n",
              "<style scoped>\n",
              "    .dataframe tbody tr th:only-of-type {\n",
              "        vertical-align: middle;\n",
              "    }\n",
              "\n",
              "    .dataframe tbody tr th {\n",
              "        vertical-align: top;\n",
              "    }\n",
              "\n",
              "    .dataframe thead th {\n",
              "        text-align: right;\n",
              "    }\n",
              "</style>\n",
              "<table border=\"1\" class=\"dataframe\">\n",
              "  <thead>\n",
              "    <tr style=\"text-align: right;\">\n",
              "      <th></th>\n",
              "      <th>label</th>\n",
              "      <th>rnn_pred_cls</th>\n",
              "    </tr>\n",
              "  </thead>\n",
              "  <tbody>\n",
              "    <tr>\n",
              "      <th>0</th>\n",
              "      <td>1</td>\n",
              "      <td>0</td>\n",
              "    </tr>\n",
              "    <tr>\n",
              "      <th>1</th>\n",
              "      <td>0</td>\n",
              "      <td>0</td>\n",
              "    </tr>\n",
              "    <tr>\n",
              "      <th>2</th>\n",
              "      <td>0</td>\n",
              "      <td>0</td>\n",
              "    </tr>\n",
              "    <tr>\n",
              "      <th>3</th>\n",
              "      <td>0</td>\n",
              "      <td>0</td>\n",
              "    </tr>\n",
              "    <tr>\n",
              "      <th>4</th>\n",
              "      <td>0</td>\n",
              "      <td>0</td>\n",
              "    </tr>\n",
              "    <tr>\n",
              "      <th>...</th>\n",
              "      <td>...</td>\n",
              "      <td>...</td>\n",
              "    </tr>\n",
              "    <tr>\n",
              "      <th>49995</th>\n",
              "      <td>1</td>\n",
              "      <td>0</td>\n",
              "    </tr>\n",
              "    <tr>\n",
              "      <th>49996</th>\n",
              "      <td>0</td>\n",
              "      <td>1</td>\n",
              "    </tr>\n",
              "    <tr>\n",
              "      <th>49997</th>\n",
              "      <td>0</td>\n",
              "      <td>0</td>\n",
              "    </tr>\n",
              "    <tr>\n",
              "      <th>49998</th>\n",
              "      <td>0</td>\n",
              "      <td>1</td>\n",
              "    </tr>\n",
              "    <tr>\n",
              "      <th>49999</th>\n",
              "      <td>0</td>\n",
              "      <td>1</td>\n",
              "    </tr>\n",
              "  </tbody>\n",
              "</table>\n",
              "<p>49997 rows × 2 columns</p>\n",
              "</div>\n",
              "    <div class=\"colab-df-buttons\">\n",
              "\n",
              "  <div class=\"colab-df-container\">\n",
              "    <button class=\"colab-df-convert\" onclick=\"convertToInteractive('df-54a68e33-3b61-434c-9d6a-fc796a4b79f5')\"\n",
              "            title=\"Convert this dataframe to an interactive table.\"\n",
              "            style=\"display:none;\">\n",
              "\n",
              "  <svg xmlns=\"http://www.w3.org/2000/svg\" height=\"24px\" viewBox=\"0 -960 960 960\">\n",
              "    <path d=\"M120-120v-720h720v720H120Zm60-500h600v-160H180v160Zm220 220h160v-160H400v160Zm0 220h160v-160H400v160ZM180-400h160v-160H180v160Zm440 0h160v-160H620v160ZM180-180h160v-160H180v160Zm440 0h160v-160H620v160Z\"/>\n",
              "  </svg>\n",
              "    </button>\n",
              "\n",
              "  <style>\n",
              "    .colab-df-container {\n",
              "      display:flex;\n",
              "      gap: 12px;\n",
              "    }\n",
              "\n",
              "    .colab-df-convert {\n",
              "      background-color: #E8F0FE;\n",
              "      border: none;\n",
              "      border-radius: 50%;\n",
              "      cursor: pointer;\n",
              "      display: none;\n",
              "      fill: #1967D2;\n",
              "      height: 32px;\n",
              "      padding: 0 0 0 0;\n",
              "      width: 32px;\n",
              "    }\n",
              "\n",
              "    .colab-df-convert:hover {\n",
              "      background-color: #E2EBFA;\n",
              "      box-shadow: 0px 1px 2px rgba(60, 64, 67, 0.3), 0px 1px 3px 1px rgba(60, 64, 67, 0.15);\n",
              "      fill: #174EA6;\n",
              "    }\n",
              "\n",
              "    .colab-df-buttons div {\n",
              "      margin-bottom: 4px;\n",
              "    }\n",
              "\n",
              "    [theme=dark] .colab-df-convert {\n",
              "      background-color: #3B4455;\n",
              "      fill: #D2E3FC;\n",
              "    }\n",
              "\n",
              "    [theme=dark] .colab-df-convert:hover {\n",
              "      background-color: #434B5C;\n",
              "      box-shadow: 0px 1px 3px 1px rgba(0, 0, 0, 0.15);\n",
              "      filter: drop-shadow(0px 1px 2px rgba(0, 0, 0, 0.3));\n",
              "      fill: #FFFFFF;\n",
              "    }\n",
              "  </style>\n",
              "\n",
              "    <script>\n",
              "      const buttonEl =\n",
              "        document.querySelector('#df-54a68e33-3b61-434c-9d6a-fc796a4b79f5 button.colab-df-convert');\n",
              "      buttonEl.style.display =\n",
              "        google.colab.kernel.accessAllowed ? 'block' : 'none';\n",
              "\n",
              "      async function convertToInteractive(key) {\n",
              "        const element = document.querySelector('#df-54a68e33-3b61-434c-9d6a-fc796a4b79f5');\n",
              "        const dataTable =\n",
              "          await google.colab.kernel.invokeFunction('convertToInteractive',\n",
              "                                                    [key], {});\n",
              "        if (!dataTable) return;\n",
              "\n",
              "        const docLinkHtml = 'Like what you see? Visit the ' +\n",
              "          '<a target=\"_blank\" href=https://colab.research.google.com/notebooks/data_table.ipynb>data table notebook</a>'\n",
              "          + ' to learn more about interactive tables.';\n",
              "        element.innerHTML = '';\n",
              "        dataTable['output_type'] = 'display_data';\n",
              "        await google.colab.output.renderOutput(dataTable, element);\n",
              "        const docLink = document.createElement('div');\n",
              "        docLink.innerHTML = docLinkHtml;\n",
              "        element.appendChild(docLink);\n",
              "      }\n",
              "    </script>\n",
              "  </div>\n",
              "\n",
              "\n",
              "    <div id=\"df-57be5441-55c2-471d-b307-95c9aa84838c\">\n",
              "      <button class=\"colab-df-quickchart\" onclick=\"quickchart('df-57be5441-55c2-471d-b307-95c9aa84838c')\"\n",
              "                title=\"Suggest charts\"\n",
              "                style=\"display:none;\">\n",
              "\n",
              "<svg xmlns=\"http://www.w3.org/2000/svg\" height=\"24px\"viewBox=\"0 0 24 24\"\n",
              "     width=\"24px\">\n",
              "    <g>\n",
              "        <path d=\"M19 3H5c-1.1 0-2 .9-2 2v14c0 1.1.9 2 2 2h14c1.1 0 2-.9 2-2V5c0-1.1-.9-2-2-2zM9 17H7v-7h2v7zm4 0h-2V7h2v10zm4 0h-2v-4h2v4z\"/>\n",
              "    </g>\n",
              "</svg>\n",
              "      </button>\n",
              "\n",
              "<style>\n",
              "  .colab-df-quickchart {\n",
              "      --bg-color: #E8F0FE;\n",
              "      --fill-color: #1967D2;\n",
              "      --hover-bg-color: #E2EBFA;\n",
              "      --hover-fill-color: #174EA6;\n",
              "      --disabled-fill-color: #AAA;\n",
              "      --disabled-bg-color: #DDD;\n",
              "  }\n",
              "\n",
              "  [theme=dark] .colab-df-quickchart {\n",
              "      --bg-color: #3B4455;\n",
              "      --fill-color: #D2E3FC;\n",
              "      --hover-bg-color: #434B5C;\n",
              "      --hover-fill-color: #FFFFFF;\n",
              "      --disabled-bg-color: #3B4455;\n",
              "      --disabled-fill-color: #666;\n",
              "  }\n",
              "\n",
              "  .colab-df-quickchart {\n",
              "    background-color: var(--bg-color);\n",
              "    border: none;\n",
              "    border-radius: 50%;\n",
              "    cursor: pointer;\n",
              "    display: none;\n",
              "    fill: var(--fill-color);\n",
              "    height: 32px;\n",
              "    padding: 0;\n",
              "    width: 32px;\n",
              "  }\n",
              "\n",
              "  .colab-df-quickchart:hover {\n",
              "    background-color: var(--hover-bg-color);\n",
              "    box-shadow: 0 1px 2px rgba(60, 64, 67, 0.3), 0 1px 3px 1px rgba(60, 64, 67, 0.15);\n",
              "    fill: var(--button-hover-fill-color);\n",
              "  }\n",
              "\n",
              "  .colab-df-quickchart-complete:disabled,\n",
              "  .colab-df-quickchart-complete:disabled:hover {\n",
              "    background-color: var(--disabled-bg-color);\n",
              "    fill: var(--disabled-fill-color);\n",
              "    box-shadow: none;\n",
              "  }\n",
              "\n",
              "  .colab-df-spinner {\n",
              "    border: 2px solid var(--fill-color);\n",
              "    border-color: transparent;\n",
              "    border-bottom-color: var(--fill-color);\n",
              "    animation:\n",
              "      spin 1s steps(1) infinite;\n",
              "  }\n",
              "\n",
              "  @keyframes spin {\n",
              "    0% {\n",
              "      border-color: transparent;\n",
              "      border-bottom-color: var(--fill-color);\n",
              "      border-left-color: var(--fill-color);\n",
              "    }\n",
              "    20% {\n",
              "      border-color: transparent;\n",
              "      border-left-color: var(--fill-color);\n",
              "      border-top-color: var(--fill-color);\n",
              "    }\n",
              "    30% {\n",
              "      border-color: transparent;\n",
              "      border-left-color: var(--fill-color);\n",
              "      border-top-color: var(--fill-color);\n",
              "      border-right-color: var(--fill-color);\n",
              "    }\n",
              "    40% {\n",
              "      border-color: transparent;\n",
              "      border-right-color: var(--fill-color);\n",
              "      border-top-color: var(--fill-color);\n",
              "    }\n",
              "    60% {\n",
              "      border-color: transparent;\n",
              "      border-right-color: var(--fill-color);\n",
              "    }\n",
              "    80% {\n",
              "      border-color: transparent;\n",
              "      border-right-color: var(--fill-color);\n",
              "      border-bottom-color: var(--fill-color);\n",
              "    }\n",
              "    90% {\n",
              "      border-color: transparent;\n",
              "      border-bottom-color: var(--fill-color);\n",
              "    }\n",
              "  }\n",
              "</style>\n",
              "\n",
              "      <script>\n",
              "        async function quickchart(key) {\n",
              "          const quickchartButtonEl =\n",
              "            document.querySelector('#' + key + ' button');\n",
              "          quickchartButtonEl.disabled = true;  // To prevent multiple clicks.\n",
              "          quickchartButtonEl.classList.add('colab-df-spinner');\n",
              "          try {\n",
              "            const charts = await google.colab.kernel.invokeFunction(\n",
              "                'suggestCharts', [key], {});\n",
              "          } catch (error) {\n",
              "            console.error('Error during call to suggestCharts:', error);\n",
              "          }\n",
              "          quickchartButtonEl.classList.remove('colab-df-spinner');\n",
              "          quickchartButtonEl.classList.add('colab-df-quickchart-complete');\n",
              "        }\n",
              "        (() => {\n",
              "          let quickchartButtonEl =\n",
              "            document.querySelector('#df-57be5441-55c2-471d-b307-95c9aa84838c button');\n",
              "          quickchartButtonEl.style.display =\n",
              "            google.colab.kernel.accessAllowed ? 'block' : 'none';\n",
              "        })();\n",
              "      </script>\n",
              "    </div>\n",
              "\n",
              "  <div id=\"id_31331286-1891-47db-98f0-8bac1b714f22\">\n",
              "    <style>\n",
              "      .colab-df-generate {\n",
              "        background-color: #E8F0FE;\n",
              "        border: none;\n",
              "        border-radius: 50%;\n",
              "        cursor: pointer;\n",
              "        display: none;\n",
              "        fill: #1967D2;\n",
              "        height: 32px;\n",
              "        padding: 0 0 0 0;\n",
              "        width: 32px;\n",
              "      }\n",
              "\n",
              "      .colab-df-generate:hover {\n",
              "        background-color: #E2EBFA;\n",
              "        box-shadow: 0px 1px 2px rgba(60, 64, 67, 0.3), 0px 1px 3px 1px rgba(60, 64, 67, 0.15);\n",
              "        fill: #174EA6;\n",
              "      }\n",
              "\n",
              "      [theme=dark] .colab-df-generate {\n",
              "        background-color: #3B4455;\n",
              "        fill: #D2E3FC;\n",
              "      }\n",
              "\n",
              "      [theme=dark] .colab-df-generate:hover {\n",
              "        background-color: #434B5C;\n",
              "        box-shadow: 0px 1px 3px 1px rgba(0, 0, 0, 0.15);\n",
              "        filter: drop-shadow(0px 1px 2px rgba(0, 0, 0, 0.3));\n",
              "        fill: #FFFFFF;\n",
              "      }\n",
              "    </style>\n",
              "    <button class=\"colab-df-generate\" onclick=\"generateWithVariable('y_test_sample')\"\n",
              "            title=\"Generate code using this dataframe.\"\n",
              "            style=\"display:none;\">\n",
              "\n",
              "  <svg xmlns=\"http://www.w3.org/2000/svg\" height=\"24px\"viewBox=\"0 0 24 24\"\n",
              "       width=\"24px\">\n",
              "    <path d=\"M7,19H8.4L18.45,9,17,7.55,7,17.6ZM5,21V16.75L18.45,3.32a2,2,0,0,1,2.83,0l1.4,1.43a1.91,1.91,0,0,1,.58,1.4,1.91,1.91,0,0,1-.58,1.4L9.25,21ZM18.45,9,17,7.55Zm-12,3A5.31,5.31,0,0,0,4.9,8.1,5.31,5.31,0,0,0,1,6.5,5.31,5.31,0,0,0,4.9,4.9,5.31,5.31,0,0,0,6.5,1,5.31,5.31,0,0,0,8.1,4.9,5.31,5.31,0,0,0,12,6.5,5.46,5.46,0,0,0,6.5,12Z\"/>\n",
              "  </svg>\n",
              "    </button>\n",
              "    <script>\n",
              "      (() => {\n",
              "      const buttonEl =\n",
              "        document.querySelector('#id_31331286-1891-47db-98f0-8bac1b714f22 button.colab-df-generate');\n",
              "      buttonEl.style.display =\n",
              "        google.colab.kernel.accessAllowed ? 'block' : 'none';\n",
              "\n",
              "      buttonEl.onclick = () => {\n",
              "        google.colab.notebook.generateWithVariable('y_test_sample');\n",
              "      }\n",
              "      })();\n",
              "    </script>\n",
              "  </div>\n",
              "\n",
              "    </div>\n",
              "  </div>\n"
            ],
            "application/vnd.google.colaboratory.intrinsic+json": {
              "type": "dataframe",
              "variable_name": "y_test_sample",
              "summary": "{\n  \"name\": \"y_test_sample\",\n  \"rows\": 49997,\n  \"fields\": [\n    {\n      \"column\": \"label\",\n      \"properties\": {\n        \"dtype\": \"number\",\n        \"std\": 0,\n        \"min\": 0,\n        \"max\": 1,\n        \"num_unique_values\": 2,\n        \"samples\": [\n          0,\n          1\n        ],\n        \"semantic_type\": \"\",\n        \"description\": \"\"\n      }\n    },\n    {\n      \"column\": \"rnn_pred_cls\",\n      \"properties\": {\n        \"dtype\": \"number\",\n        \"std\": 0,\n        \"min\": 0,\n        \"max\": 1,\n        \"num_unique_values\": 2,\n        \"samples\": [\n          1,\n          0\n        ],\n        \"semantic_type\": \"\",\n        \"description\": \"\"\n      }\n    }\n  ]\n}"
            }
          },
          "metadata": {},
          "execution_count": 75
        }
      ]
    },
    {
      "cell_type": "code",
      "source": [
        "# 모델 전체 평가. X_test, y_test 기준\n",
        "model.evaluate(X_test_vec, y_test)\n",
        "# 학습 데이터 정확도 66%, 테스트 데이터 정확도 55%"
      ],
      "metadata": {
        "colab": {
          "base_uri": "https://localhost:8080/"
        },
        "id": "gUaexDgrVHgW",
        "outputId": "3c1246a3-55aa-4489-b210-5adb5785e6d8"
      },
      "execution_count": 76,
      "outputs": [
        {
          "output_type": "stream",
          "name": "stdout",
          "text": [
            "\u001b[1m1563/1563\u001b[0m \u001b[32m━━━━━━━━━━━━━━━━━━━━\u001b[0m\u001b[37m\u001b[0m \u001b[1m5s\u001b[0m 3ms/step - accuracy: 0.5560 - loss: 0.6617\n"
          ]
        },
        {
          "output_type": "execute_result",
          "data": {
            "text/plain": [
              "[0.6625497341156006, 0.5554733276367188]"
            ]
          },
          "metadata": {},
          "execution_count": 76
        }
      ]
    },
    {
      "cell_type": "markdown",
      "source": [
        "### SimpleRNN(바닐라RNN)의 경우 긴 시퀀스를 가진 데이터를 효과적으로 학습하기 어려움\n",
        "- 순환횟수(시퀀스)가 길어질수록, 초반에 입력된 단어의 기억데이터가 소실되는 기울기 소실 현상이 발생함.\n",
        "- 문장 구성 시 초반 단어가 후반 예측에 영향을 주는 경우, 바닐라RNN이 학습하기 어려움"
      ],
      "metadata": {
        "id": "HnuNBUWIVHjL"
      }
    },
    {
      "cell_type": "code",
      "source": [],
      "metadata": {
        "id": "XNxm-LgScOLh"
      },
      "execution_count": 76,
      "outputs": []
    }
  ]
}