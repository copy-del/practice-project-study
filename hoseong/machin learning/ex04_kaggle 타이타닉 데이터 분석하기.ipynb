{
 "cells": [
  {
   "cell_type": "markdown",
   "id": "291fb2b2-defc-421b-8f0d-e6192f4d6227",
   "metadata": {},
   "source": [
    "### 목표\n",
    "- 타이타닐 데이터를 모델에 학습시켜서 생존/사망 예측\n",
    "- 머신러닝의 전체 과정을 진행해보자"
   ]
  },
  {
   "cell_type": "markdown",
   "id": "7abc9b89-b569-4c1b-9027-6cf2a86eb214",
   "metadata": {},
   "source": [
    "#### 1. 문제정의\n",
    "- Kaggle에서 제공하는 titanic 데이터를 사용해서 승객의 생존 여부를 예측\n",
    "- 지도 학습\n",
    "- Survived 컬럼의 데이터값은 수치형이지만, (0,1) 생존 여부만 구분하고 있기 때문에 우선순위는 없음\n",
    "- 분류"
   ]
  },
  {
   "cell_type": "code",
   "execution_count": 566,
   "id": "17adcc8f-db0f-45fe-92af-d7bb180d139b",
   "metadata": {},
   "outputs": [],
   "source": [
    "import numpy as np\n",
    "import pandas as pd\n",
    "import matplotlib.pyplot as plt\n",
    "\n",
    "import seaborn as sns # 시각화 도구"
   ]
  },
  {
   "cell_type": "markdown",
   "id": "87b5284b-eea2-49b5-884e-6bd759c6a79b",
   "metadata": {},
   "source": [
    "#### 2. 데이터 수집\n",
    "- 타이타익 train 데이터와 test데이터를 변수 train, test에 저장"
   ]
  },
  {
   "cell_type": "code",
   "execution_count": 568,
   "id": "8b7af9e9-d8fb-44e5-8c37-1ca25c231250",
   "metadata": {},
   "outputs": [
    {
     "data": {
      "text/html": [
       "<div>\n",
       "<style scoped>\n",
       "    .dataframe tbody tr th:only-of-type {\n",
       "        vertical-align: middle;\n",
       "    }\n",
       "\n",
       "    .dataframe tbody tr th {\n",
       "        vertical-align: top;\n",
       "    }\n",
       "\n",
       "    .dataframe thead th {\n",
       "        text-align: right;\n",
       "    }\n",
       "</style>\n",
       "<table border=\"1\" class=\"dataframe\">\n",
       "  <thead>\n",
       "    <tr style=\"text-align: right;\">\n",
       "      <th></th>\n",
       "      <th>Survived</th>\n",
       "      <th>Pclass</th>\n",
       "      <th>Name</th>\n",
       "      <th>Sex</th>\n",
       "      <th>Age</th>\n",
       "      <th>SibSp</th>\n",
       "      <th>Parch</th>\n",
       "      <th>Ticket</th>\n",
       "      <th>Fare</th>\n",
       "      <th>Cabin</th>\n",
       "      <th>Embarked</th>\n",
       "    </tr>\n",
       "    <tr>\n",
       "      <th>PassengerId</th>\n",
       "      <th></th>\n",
       "      <th></th>\n",
       "      <th></th>\n",
       "      <th></th>\n",
       "      <th></th>\n",
       "      <th></th>\n",
       "      <th></th>\n",
       "      <th></th>\n",
       "      <th></th>\n",
       "      <th></th>\n",
       "      <th></th>\n",
       "    </tr>\n",
       "  </thead>\n",
       "  <tbody>\n",
       "    <tr>\n",
       "      <th>1</th>\n",
       "      <td>0</td>\n",
       "      <td>3</td>\n",
       "      <td>Braund, Mr. Owen Harris</td>\n",
       "      <td>male</td>\n",
       "      <td>22.0</td>\n",
       "      <td>1</td>\n",
       "      <td>0</td>\n",
       "      <td>A/5 21171</td>\n",
       "      <td>7.2500</td>\n",
       "      <td>NaN</td>\n",
       "      <td>S</td>\n",
       "    </tr>\n",
       "    <tr>\n",
       "      <th>2</th>\n",
       "      <td>1</td>\n",
       "      <td>1</td>\n",
       "      <td>Cumings, Mrs. John Bradley (Florence Briggs Th...</td>\n",
       "      <td>female</td>\n",
       "      <td>38.0</td>\n",
       "      <td>1</td>\n",
       "      <td>0</td>\n",
       "      <td>PC 17599</td>\n",
       "      <td>71.2833</td>\n",
       "      <td>C85</td>\n",
       "      <td>C</td>\n",
       "    </tr>\n",
       "    <tr>\n",
       "      <th>3</th>\n",
       "      <td>1</td>\n",
       "      <td>3</td>\n",
       "      <td>Heikkinen, Miss. Laina</td>\n",
       "      <td>female</td>\n",
       "      <td>26.0</td>\n",
       "      <td>0</td>\n",
       "      <td>0</td>\n",
       "      <td>STON/O2. 3101282</td>\n",
       "      <td>7.9250</td>\n",
       "      <td>NaN</td>\n",
       "      <td>S</td>\n",
       "    </tr>\n",
       "    <tr>\n",
       "      <th>4</th>\n",
       "      <td>1</td>\n",
       "      <td>1</td>\n",
       "      <td>Futrelle, Mrs. Jacques Heath (Lily May Peel)</td>\n",
       "      <td>female</td>\n",
       "      <td>35.0</td>\n",
       "      <td>1</td>\n",
       "      <td>0</td>\n",
       "      <td>113803</td>\n",
       "      <td>53.1000</td>\n",
       "      <td>C123</td>\n",
       "      <td>S</td>\n",
       "    </tr>\n",
       "    <tr>\n",
       "      <th>5</th>\n",
       "      <td>0</td>\n",
       "      <td>3</td>\n",
       "      <td>Allen, Mr. William Henry</td>\n",
       "      <td>male</td>\n",
       "      <td>35.0</td>\n",
       "      <td>0</td>\n",
       "      <td>0</td>\n",
       "      <td>373450</td>\n",
       "      <td>8.0500</td>\n",
       "      <td>NaN</td>\n",
       "      <td>S</td>\n",
       "    </tr>\n",
       "  </tbody>\n",
       "</table>\n",
       "</div>"
      ],
      "text/plain": [
       "             Survived  Pclass  \\\n",
       "PassengerId                     \n",
       "1                   0       3   \n",
       "2                   1       1   \n",
       "3                   1       3   \n",
       "4                   1       1   \n",
       "5                   0       3   \n",
       "\n",
       "                                                          Name     Sex   Age  \\\n",
       "PassengerId                                                                    \n",
       "1                                      Braund, Mr. Owen Harris    male  22.0   \n",
       "2            Cumings, Mrs. John Bradley (Florence Briggs Th...  female  38.0   \n",
       "3                                       Heikkinen, Miss. Laina  female  26.0   \n",
       "4                 Futrelle, Mrs. Jacques Heath (Lily May Peel)  female  35.0   \n",
       "5                                     Allen, Mr. William Henry    male  35.0   \n",
       "\n",
       "             SibSp  Parch            Ticket     Fare Cabin Embarked  \n",
       "PassengerId                                                          \n",
       "1                1      0         A/5 21171   7.2500   NaN        S  \n",
       "2                1      0          PC 17599  71.2833   C85        C  \n",
       "3                0      0  STON/O2. 3101282   7.9250   NaN        S  \n",
       "4                1      0            113803  53.1000  C123        S  \n",
       "5                0      0            373450   8.0500   NaN        S  "
      ]
     },
     "execution_count": 568,
     "metadata": {},
     "output_type": "execute_result"
    }
   ],
   "source": [
    "train = pd.read_csv('data/train (1).csv', index_col = 'PassengerId')\n",
    "test = pd.read_csv('data/test (1).csv', index_col = 'PassengerId')\n",
    "\n",
    "train.head()"
   ]
  },
  {
   "cell_type": "code",
   "execution_count": 569,
   "id": "6dc122e5-d9f7-4f89-9caf-f887bc3e4688",
   "metadata": {},
   "outputs": [
    {
     "name": "stdout",
     "output_type": "stream",
     "text": [
      "(891, 11)\n",
      "(418, 10)\n"
     ]
    }
   ],
   "source": [
    "# 크기 확인\n",
    "print(train.shape)\n",
    "print(test.shape)"
   ]
  },
  {
   "cell_type": "markdown",
   "id": "9a52a01d-0233-4546-b73b-0f51de2bd009",
   "metadata": {},
   "source": [
    "#### 3. 데이터 전처리 및 데이터 탐색"
   ]
  },
  {
   "cell_type": "code",
   "execution_count": 571,
   "id": "2a04d581-3ba8-455e-b8f6-ec61805399a5",
   "metadata": {},
   "outputs": [
    {
     "name": "stdout",
     "output_type": "stream",
     "text": [
      "<class 'pandas.core.frame.DataFrame'>\n",
      "Index: 891 entries, 1 to 891\n",
      "Data columns (total 11 columns):\n",
      " #   Column    Non-Null Count  Dtype  \n",
      "---  ------    --------------  -----  \n",
      " 0   Survived  891 non-null    int64  \n",
      " 1   Pclass    891 non-null    int64  \n",
      " 2   Name      891 non-null    object \n",
      " 3   Sex       891 non-null    object \n",
      " 4   Age       714 non-null    float64\n",
      " 5   SibSp     891 non-null    int64  \n",
      " 6   Parch     891 non-null    int64  \n",
      " 7   Ticket    891 non-null    object \n",
      " 8   Fare      891 non-null    float64\n",
      " 9   Cabin     204 non-null    object \n",
      " 10  Embarked  889 non-null    object \n",
      "dtypes: float64(2), int64(4), object(5)\n",
      "memory usage: 83.5+ KB\n"
     ]
    }
   ],
   "source": [
    "# 훈련 데이터 셋 정보 확인\n",
    "train.info()\n",
    "# 결측치가 있음 ( Age, Cabin, Embarked )\n",
    "# 문자 > 숫자 : 인코딩"
   ]
  },
  {
   "cell_type": "code",
   "execution_count": 572,
   "id": "7e274ae0-ed08-4132-b36c-1666920165ba",
   "metadata": {},
   "outputs": [
    {
     "name": "stdout",
     "output_type": "stream",
     "text": [
      "<class 'pandas.core.frame.DataFrame'>\n",
      "Index: 418 entries, 892 to 1309\n",
      "Data columns (total 10 columns):\n",
      " #   Column    Non-Null Count  Dtype  \n",
      "---  ------    --------------  -----  \n",
      " 0   Pclass    418 non-null    int64  \n",
      " 1   Name      418 non-null    object \n",
      " 2   Sex       418 non-null    object \n",
      " 3   Age       332 non-null    float64\n",
      " 4   SibSp     418 non-null    int64  \n",
      " 5   Parch     418 non-null    int64  \n",
      " 6   Ticket    418 non-null    object \n",
      " 7   Fare      417 non-null    float64\n",
      " 8   Cabin     91 non-null     object \n",
      " 9   Embarked  418 non-null    object \n",
      "dtypes: float64(2), int64(3), object(5)\n",
      "memory usage: 35.9+ KB\n"
     ]
    }
   ],
   "source": [
    "test.info()\n",
    "# 정답 데이터 (Survived) 없음\n",
    "# 결측치 존재 (Age, Fare, Cabin)\n",
    "# 필요시 인코딩"
   ]
  },
  {
   "cell_type": "code",
   "execution_count": 573,
   "id": "4af57a4b-a555-4f47-998d-9cffb43bec87",
   "metadata": {},
   "outputs": [
    {
     "data": {
      "text/plain": [
       "'\\nPclass : 객실 등급 (1:상위층, 2: 중상위, 3:하위층)\\nName : 이름\\nSex : 성별\\nAge : 나이\\nSibSp : 형제자매/배우자(같이 탑승한)\\nParch : 부모/자식(같이 탑승한)\\nTicket : 티켓 번호\\nFare : 요금\\nCabin : 객실 번호\\nEmbarked : 승선항 (S, C, Q)\\n'"
      ]
     },
     "execution_count": 573,
     "metadata": {},
     "output_type": "execute_result"
    }
   ],
   "source": [
    "# 컬럼 정보 정리\n",
    "train.columns\n",
    "'''\n",
    "Pclass : 객실 등급 (1:상위층, 2: 중상위, 3:하위층)\n",
    "Name : 이름\n",
    "Sex : 성별\n",
    "Age : 나이\n",
    "SibSp : 형제자매/배우자(같이 탑승한)\n",
    "Parch : 부모/자식(같이 탑승한)\n",
    "Ticket : 티켓 번호\n",
    "Fare : 요금\n",
    "Cabin : 객실 번호\n",
    "Embarked : 승선항 (S, C, Q)\n",
    "'''"
   ]
  },
  {
   "cell_type": "markdown",
   "id": "9d5d5ef1-4350-4744-89d1-1e0ac9fd0f25",
   "metadata": {},
   "source": [
    "#### 결측치 채우기\n",
    "- train : Age, Cabin, Embarked\n",
    "- test : Age, Fare, Cabin"
   ]
  },
  {
   "cell_type": "code",
   "execution_count": 575,
   "id": "2d0ef4c3-49de-4c14-aa3e-fa69acea7793",
   "metadata": {},
   "outputs": [],
   "source": [
    "# 결측치를 채우는 방법\n",
    "# 1. 결측치가 있는 행 전체를 삭제하는 방법 > 삭제하는 데이터가 너무 많거나, 모델링에 치명적이지 않은 데이터이어야 함..\n",
    "# 데이터가 많을수록 과대적합을 피할 수 있음. > 삭제시 데이터 양이 줄어들기 때문.\n",
    "\n",
    "# 2. 결측치를 다른 값(대표 값)으로 대체하는 방법\n",
    "# > 평균, 최빈값, 중앙값"
   ]
  },
  {
   "cell_type": "markdown",
   "id": "2ebc41d2-c58b-405c-a2f6-0db56900f98d",
   "metadata": {},
   "source": [
    "- train - Embarked 컬럼 결측치 채우기"
   ]
  },
  {
   "cell_type": "code",
   "execution_count": 577,
   "id": "83d3813f-da28-407b-9b02-9deb3b414662",
   "metadata": {},
   "outputs": [
    {
     "data": {
      "text/plain": [
       "Embarked\n",
       "S    644\n",
       "C    168\n",
       "Q     77\n",
       "Name: count, dtype: int64"
      ]
     },
     "execution_count": 577,
     "metadata": {},
     "output_type": "execute_result"
    }
   ],
   "source": [
    "train['Embarked'].value_counts()"
   ]
  },
  {
   "cell_type": "code",
   "execution_count": 578,
   "id": "151b51c1-53d7-409b-849d-c274e0f32725",
   "metadata": {},
   "outputs": [
    {
     "data": {
      "text/plain": [
       "2"
      ]
     },
     "execution_count": 578,
     "metadata": {},
     "output_type": "execute_result"
    }
   ],
   "source": [
    "# Embarked 컬럼의 결측치는?\n",
    "train['Embarked'].isnull().sum()"
   ]
  },
  {
   "cell_type": "code",
   "execution_count": 579,
   "id": "68c8adfe-45e4-427c-87c8-9ba92024bd5f",
   "metadata": {},
   "outputs": [
    {
     "data": {
      "text/html": [
       "<div>\n",
       "<style scoped>\n",
       "    .dataframe tbody tr th:only-of-type {\n",
       "        vertical-align: middle;\n",
       "    }\n",
       "\n",
       "    .dataframe tbody tr th {\n",
       "        vertical-align: top;\n",
       "    }\n",
       "\n",
       "    .dataframe thead th {\n",
       "        text-align: right;\n",
       "    }\n",
       "</style>\n",
       "<table border=\"1\" class=\"dataframe\">\n",
       "  <thead>\n",
       "    <tr style=\"text-align: right;\">\n",
       "      <th></th>\n",
       "      <th>Survived</th>\n",
       "      <th>Pclass</th>\n",
       "      <th>Name</th>\n",
       "      <th>Sex</th>\n",
       "      <th>Age</th>\n",
       "      <th>SibSp</th>\n",
       "      <th>Parch</th>\n",
       "      <th>Ticket</th>\n",
       "      <th>Fare</th>\n",
       "      <th>Cabin</th>\n",
       "      <th>Embarked</th>\n",
       "    </tr>\n",
       "    <tr>\n",
       "      <th>PassengerId</th>\n",
       "      <th></th>\n",
       "      <th></th>\n",
       "      <th></th>\n",
       "      <th></th>\n",
       "      <th></th>\n",
       "      <th></th>\n",
       "      <th></th>\n",
       "      <th></th>\n",
       "      <th></th>\n",
       "      <th></th>\n",
       "      <th></th>\n",
       "    </tr>\n",
       "  </thead>\n",
       "  <tbody>\n",
       "    <tr>\n",
       "      <th>62</th>\n",
       "      <td>1</td>\n",
       "      <td>1</td>\n",
       "      <td>Icard, Miss. Amelie</td>\n",
       "      <td>female</td>\n",
       "      <td>38.0</td>\n",
       "      <td>0</td>\n",
       "      <td>0</td>\n",
       "      <td>113572</td>\n",
       "      <td>80.0</td>\n",
       "      <td>B28</td>\n",
       "      <td>NaN</td>\n",
       "    </tr>\n",
       "    <tr>\n",
       "      <th>830</th>\n",
       "      <td>1</td>\n",
       "      <td>1</td>\n",
       "      <td>Stone, Mrs. George Nelson (Martha Evelyn)</td>\n",
       "      <td>female</td>\n",
       "      <td>62.0</td>\n",
       "      <td>0</td>\n",
       "      <td>0</td>\n",
       "      <td>113572</td>\n",
       "      <td>80.0</td>\n",
       "      <td>B28</td>\n",
       "      <td>NaN</td>\n",
       "    </tr>\n",
       "  </tbody>\n",
       "</table>\n",
       "</div>"
      ],
      "text/plain": [
       "             Survived  Pclass                                       Name  \\\n",
       "PassengerId                                                                \n",
       "62                  1       1                        Icard, Miss. Amelie   \n",
       "830                 1       1  Stone, Mrs. George Nelson (Martha Evelyn)   \n",
       "\n",
       "                Sex   Age  SibSp  Parch  Ticket  Fare Cabin Embarked  \n",
       "PassengerId                                                           \n",
       "62           female  38.0      0      0  113572  80.0   B28      NaN  \n",
       "830          female  62.0      0      0  113572  80.0   B28      NaN  "
      ]
     },
     "execution_count": 579,
     "metadata": {},
     "output_type": "execute_result"
    }
   ],
   "source": [
    "# 결측치가 있는 데이터 출력 ( 불리언 인덱싱 )\n",
    "train[train['Embarked'].isnull()]"
   ]
  },
  {
   "cell_type": "code",
   "execution_count": 580,
   "id": "9c433497-a2ec-4e49-8f48-35c86a97a056",
   "metadata": {},
   "outputs": [],
   "source": [
    "# fillna('값')\n",
    "# 비어있는 데이터가 있다면, '값'으로 채워주는 함수\n",
    "train['Embarked'] = train['Embarked'].fillna('S')"
   ]
  },
  {
   "cell_type": "code",
   "execution_count": 581,
   "id": "4b93dbdb-4868-4140-bbf7-af1cdeac9934",
   "metadata": {},
   "outputs": [
    {
     "data": {
      "text/plain": [
       "0"
      ]
     },
     "execution_count": 581,
     "metadata": {},
     "output_type": "execute_result"
    }
   ],
   "source": [
    "train['Embarked'].isnull().sum()"
   ]
  },
  {
   "cell_type": "markdown",
   "id": "987a0a07-c137-4f3e-b72b-a474673749dd",
   "metadata": {},
   "source": [
    "- test : Fare 컬럼의 결측치 채우기"
   ]
  },
  {
   "cell_type": "code",
   "execution_count": 583,
   "id": "d72ed99a-e4a7-4e9d-a737-02749ce09855",
   "metadata": {},
   "outputs": [
    {
     "data": {
      "text/html": [
       "<div>\n",
       "<style scoped>\n",
       "    .dataframe tbody tr th:only-of-type {\n",
       "        vertical-align: middle;\n",
       "    }\n",
       "\n",
       "    .dataframe tbody tr th {\n",
       "        vertical-align: top;\n",
       "    }\n",
       "\n",
       "    .dataframe thead th {\n",
       "        text-align: right;\n",
       "    }\n",
       "</style>\n",
       "<table border=\"1\" class=\"dataframe\">\n",
       "  <thead>\n",
       "    <tr style=\"text-align: right;\">\n",
       "      <th></th>\n",
       "      <th>Pclass</th>\n",
       "      <th>Name</th>\n",
       "      <th>Sex</th>\n",
       "      <th>Age</th>\n",
       "      <th>SibSp</th>\n",
       "      <th>Parch</th>\n",
       "      <th>Ticket</th>\n",
       "      <th>Fare</th>\n",
       "      <th>Cabin</th>\n",
       "      <th>Embarked</th>\n",
       "    </tr>\n",
       "    <tr>\n",
       "      <th>PassengerId</th>\n",
       "      <th></th>\n",
       "      <th></th>\n",
       "      <th></th>\n",
       "      <th></th>\n",
       "      <th></th>\n",
       "      <th></th>\n",
       "      <th></th>\n",
       "      <th></th>\n",
       "      <th></th>\n",
       "      <th></th>\n",
       "    </tr>\n",
       "  </thead>\n",
       "  <tbody>\n",
       "    <tr>\n",
       "      <th>1044</th>\n",
       "      <td>3</td>\n",
       "      <td>Storey, Mr. Thomas</td>\n",
       "      <td>male</td>\n",
       "      <td>60.5</td>\n",
       "      <td>0</td>\n",
       "      <td>0</td>\n",
       "      <td>3701</td>\n",
       "      <td>NaN</td>\n",
       "      <td>NaN</td>\n",
       "      <td>S</td>\n",
       "    </tr>\n",
       "  </tbody>\n",
       "</table>\n",
       "</div>"
      ],
      "text/plain": [
       "             Pclass                Name   Sex   Age  SibSp  Parch Ticket  \\\n",
       "PassengerId                                                                \n",
       "1044              3  Storey, Mr. Thomas  male  60.5      0      0   3701   \n",
       "\n",
       "             Fare Cabin Embarked  \n",
       "PassengerId                       \n",
       "1044          NaN   NaN        S  "
      ]
     },
     "execution_count": 583,
     "metadata": {},
     "output_type": "execute_result"
    }
   ],
   "source": [
    "test[test['Fare'].isnull()]"
   ]
  },
  {
   "cell_type": "code",
   "execution_count": 584,
   "id": "9f5d117c-0fee-44fa-8a03-10363f57bfb3",
   "metadata": {},
   "outputs": [
    {
     "data": {
      "text/html": [
       "<div>\n",
       "<style scoped>\n",
       "    .dataframe tbody tr th:only-of-type {\n",
       "        vertical-align: middle;\n",
       "    }\n",
       "\n",
       "    .dataframe tbody tr th {\n",
       "        vertical-align: top;\n",
       "    }\n",
       "\n",
       "    .dataframe thead th {\n",
       "        text-align: right;\n",
       "    }\n",
       "</style>\n",
       "<table border=\"1\" class=\"dataframe\">\n",
       "  <thead>\n",
       "    <tr style=\"text-align: right;\">\n",
       "      <th></th>\n",
       "      <th>Pclass</th>\n",
       "      <th>Age</th>\n",
       "      <th>SibSp</th>\n",
       "      <th>Parch</th>\n",
       "      <th>Fare</th>\n",
       "    </tr>\n",
       "  </thead>\n",
       "  <tbody>\n",
       "    <tr>\n",
       "      <th>Pclass</th>\n",
       "      <td>1.000000</td>\n",
       "      <td>-0.492143</td>\n",
       "      <td>0.001087</td>\n",
       "      <td>0.018721</td>\n",
       "      <td>-0.577147</td>\n",
       "    </tr>\n",
       "    <tr>\n",
       "      <th>Age</th>\n",
       "      <td>-0.492143</td>\n",
       "      <td>1.000000</td>\n",
       "      <td>-0.091587</td>\n",
       "      <td>-0.061249</td>\n",
       "      <td>0.337932</td>\n",
       "    </tr>\n",
       "    <tr>\n",
       "      <th>SibSp</th>\n",
       "      <td>0.001087</td>\n",
       "      <td>-0.091587</td>\n",
       "      <td>1.000000</td>\n",
       "      <td>0.306895</td>\n",
       "      <td>0.171539</td>\n",
       "    </tr>\n",
       "    <tr>\n",
       "      <th>Parch</th>\n",
       "      <td>0.018721</td>\n",
       "      <td>-0.061249</td>\n",
       "      <td>0.306895</td>\n",
       "      <td>1.000000</td>\n",
       "      <td>0.230046</td>\n",
       "    </tr>\n",
       "    <tr>\n",
       "      <th>Fare</th>\n",
       "      <td>-0.577147</td>\n",
       "      <td>0.337932</td>\n",
       "      <td>0.171539</td>\n",
       "      <td>0.230046</td>\n",
       "      <td>1.000000</td>\n",
       "    </tr>\n",
       "  </tbody>\n",
       "</table>\n",
       "</div>"
      ],
      "text/plain": [
       "          Pclass       Age     SibSp     Parch      Fare\n",
       "Pclass  1.000000 -0.492143  0.001087  0.018721 -0.577147\n",
       "Age    -0.492143  1.000000 -0.091587 -0.061249  0.337932\n",
       "SibSp   0.001087 -0.091587  1.000000  0.306895  0.171539\n",
       "Parch   0.018721 -0.061249  0.306895  1.000000  0.230046\n",
       "Fare   -0.577147  0.337932  0.171539  0.230046  1.000000"
      ]
     },
     "execution_count": 584,
     "metadata": {},
     "output_type": "execute_result"
    }
   ],
   "source": [
    "# 상관관계 확인\n",
    "test.corr(numeric_only=True) # 숫자 컬럼 포함\n",
    "# 상관 계수 : -1 ~ 1 범위로 표현됨\n",
    "# -1, 1에 가까울수록 해당 컬럼과의 상관관계가 높다.\n",
    "# 0 에 가까울수록 상관관계가 낮다."
   ]
  },
  {
   "cell_type": "code",
   "execution_count": 585,
   "id": "75d388d3-6b51-444b-a3ad-1b8855c81191",
   "metadata": {},
   "outputs": [
    {
     "data": {
      "text/html": [
       "<div>\n",
       "<style scoped>\n",
       "    .dataframe tbody tr th:only-of-type {\n",
       "        vertical-align: middle;\n",
       "    }\n",
       "\n",
       "    .dataframe tbody tr th {\n",
       "        vertical-align: top;\n",
       "    }\n",
       "\n",
       "    .dataframe thead th {\n",
       "        text-align: right;\n",
       "    }\n",
       "</style>\n",
       "<table border=\"1\" class=\"dataframe\">\n",
       "  <thead>\n",
       "    <tr style=\"text-align: right;\">\n",
       "      <th></th>\n",
       "      <th>Survived</th>\n",
       "      <th>Pclass</th>\n",
       "      <th>Age</th>\n",
       "      <th>SibSp</th>\n",
       "      <th>Parch</th>\n",
       "      <th>Fare</th>\n",
       "    </tr>\n",
       "  </thead>\n",
       "  <tbody>\n",
       "    <tr>\n",
       "      <th>Survived</th>\n",
       "      <td>1.000000</td>\n",
       "      <td>-0.338481</td>\n",
       "      <td>-0.077221</td>\n",
       "      <td>-0.035322</td>\n",
       "      <td>0.081629</td>\n",
       "      <td>0.257307</td>\n",
       "    </tr>\n",
       "    <tr>\n",
       "      <th>Pclass</th>\n",
       "      <td>-0.338481</td>\n",
       "      <td>1.000000</td>\n",
       "      <td>-0.369226</td>\n",
       "      <td>0.083081</td>\n",
       "      <td>0.018443</td>\n",
       "      <td>-0.549500</td>\n",
       "    </tr>\n",
       "    <tr>\n",
       "      <th>Age</th>\n",
       "      <td>-0.077221</td>\n",
       "      <td>-0.369226</td>\n",
       "      <td>1.000000</td>\n",
       "      <td>-0.308247</td>\n",
       "      <td>-0.189119</td>\n",
       "      <td>0.096067</td>\n",
       "    </tr>\n",
       "    <tr>\n",
       "      <th>SibSp</th>\n",
       "      <td>-0.035322</td>\n",
       "      <td>0.083081</td>\n",
       "      <td>-0.308247</td>\n",
       "      <td>1.000000</td>\n",
       "      <td>0.414838</td>\n",
       "      <td>0.159651</td>\n",
       "    </tr>\n",
       "    <tr>\n",
       "      <th>Parch</th>\n",
       "      <td>0.081629</td>\n",
       "      <td>0.018443</td>\n",
       "      <td>-0.189119</td>\n",
       "      <td>0.414838</td>\n",
       "      <td>1.000000</td>\n",
       "      <td>0.216225</td>\n",
       "    </tr>\n",
       "    <tr>\n",
       "      <th>Fare</th>\n",
       "      <td>0.257307</td>\n",
       "      <td>-0.549500</td>\n",
       "      <td>0.096067</td>\n",
       "      <td>0.159651</td>\n",
       "      <td>0.216225</td>\n",
       "      <td>1.000000</td>\n",
       "    </tr>\n",
       "  </tbody>\n",
       "</table>\n",
       "</div>"
      ],
      "text/plain": [
       "          Survived    Pclass       Age     SibSp     Parch      Fare\n",
       "Survived  1.000000 -0.338481 -0.077221 -0.035322  0.081629  0.257307\n",
       "Pclass   -0.338481  1.000000 -0.369226  0.083081  0.018443 -0.549500\n",
       "Age      -0.077221 -0.369226  1.000000 -0.308247 -0.189119  0.096067\n",
       "SibSp    -0.035322  0.083081 -0.308247  1.000000  0.414838  0.159651\n",
       "Parch     0.081629  0.018443 -0.189119  0.414838  1.000000  0.216225\n",
       "Fare      0.257307 -0.549500  0.096067  0.159651  0.216225  1.000000"
      ]
     },
     "execution_count": 585,
     "metadata": {},
     "output_type": "execute_result"
    }
   ],
   "source": [
    "train.corr(numeric_only=True)"
   ]
  },
  {
   "cell_type": "code",
   "execution_count": 586,
   "id": "95f27666-3e0e-4024-8106-16d8045bf4f8",
   "metadata": {},
   "outputs": [
    {
     "data": {
      "image/png": "[encoded data removed]",
      "text/plain": [
       "<Figure size 800x800 with 2 Axes>"
      ]
     },
     "metadata": {},
     "output_type": "display_data"
    }
   ],
   "source": [
    "# 히트맵 표현\n",
    "plt.figure(figsize=(8,8))\n",
    "sns.heatmap(train.corr(numeric_only=True).abs(), annot = True, cmap = 'Oranges')\n",
    "plt.show()"
   ]
  },
  {
   "cell_type": "code",
   "execution_count": 587,
   "id": "70e077bb-6757-468f-991c-a98949240de9",
   "metadata": {},
   "outputs": [
    {
     "data": {
      "text/plain": [
       "array([3, 1, 2], dtype=int64)"
      ]
     },
     "execution_count": 587,
     "metadata": {},
     "output_type": "execute_result"
    }
   ],
   "source": [
    "# train Pclass 컬럼\n",
    "train['Pclass'].unique()"
   ]
  },
  {
   "cell_type": "code",
   "execution_count": 588,
   "id": "32446c65-4f30-433b-b2f8-e49ff3cae562",
   "metadata": {},
   "outputs": [
    {
     "data": {
      "text/html": [
       "<div>\n",
       "<style scoped>\n",
       "    .dataframe tbody tr th:only-of-type {\n",
       "        vertical-align: middle;\n",
       "    }\n",
       "\n",
       "    .dataframe tbody tr th {\n",
       "        vertical-align: top;\n",
       "    }\n",
       "\n",
       "    .dataframe thead th {\n",
       "        text-align: right;\n",
       "    }\n",
       "</style>\n",
       "<table border=\"1\" class=\"dataframe\">\n",
       "  <thead>\n",
       "    <tr style=\"text-align: right;\">\n",
       "      <th></th>\n",
       "      <th>Fare</th>\n",
       "    </tr>\n",
       "    <tr>\n",
       "      <th>Pclass</th>\n",
       "      <th></th>\n",
       "    </tr>\n",
       "  </thead>\n",
       "  <tbody>\n",
       "    <tr>\n",
       "      <th>1</th>\n",
       "      <td>60.2875</td>\n",
       "    </tr>\n",
       "    <tr>\n",
       "      <th>2</th>\n",
       "      <td>14.2500</td>\n",
       "    </tr>\n",
       "    <tr>\n",
       "      <th>3</th>\n",
       "      <td>8.0500</td>\n",
       "    </tr>\n",
       "  </tbody>\n",
       "</table>\n",
       "</div>"
      ],
      "text/plain": [
       "           Fare\n",
       "Pclass         \n",
       "1       60.2875\n",
       "2       14.2500\n",
       "3        8.0500"
      ]
     },
     "execution_count": 588,
     "metadata": {},
     "output_type": "execute_result"
    }
   ],
   "source": [
    "# 객실등급을 기준으로 그룹화 groupby(), 요금 컬럼 집계함수 중앙값 median()\n",
    "train[['Pclass','Fare']].groupby('Pclass').median()"
   ]
  },
  {
   "cell_type": "code",
   "execution_count": 589,
   "id": "c301e920-788b-45b5-a833-470c7d77797a",
   "metadata": {},
   "outputs": [
    {
     "data": {
      "text/html": [
       "<div>\n",
       "<style scoped>\n",
       "    .dataframe tbody tr th:only-of-type {\n",
       "        vertical-align: middle;\n",
       "    }\n",
       "\n",
       "    .dataframe tbody tr th {\n",
       "        vertical-align: top;\n",
       "    }\n",
       "\n",
       "    .dataframe thead th {\n",
       "        text-align: right;\n",
       "    }\n",
       "</style>\n",
       "<table border=\"1\" class=\"dataframe\">\n",
       "  <thead>\n",
       "    <tr style=\"text-align: right;\">\n",
       "      <th></th>\n",
       "      <th></th>\n",
       "      <th>Fare</th>\n",
       "    </tr>\n",
       "    <tr>\n",
       "      <th>Pclass</th>\n",
       "      <th>Sex</th>\n",
       "      <th></th>\n",
       "    </tr>\n",
       "  </thead>\n",
       "  <tbody>\n",
       "    <tr>\n",
       "      <th rowspan=\"2\" valign=\"top\">1</th>\n",
       "      <th>female</th>\n",
       "      <td>82.66455</td>\n",
       "    </tr>\n",
       "    <tr>\n",
       "      <th>male</th>\n",
       "      <td>41.26250</td>\n",
       "    </tr>\n",
       "    <tr>\n",
       "      <th rowspan=\"2\" valign=\"top\">2</th>\n",
       "      <th>female</th>\n",
       "      <td>22.00000</td>\n",
       "    </tr>\n",
       "    <tr>\n",
       "      <th>male</th>\n",
       "      <td>13.00000</td>\n",
       "    </tr>\n",
       "    <tr>\n",
       "      <th rowspan=\"2\" valign=\"top\">3</th>\n",
       "      <th>female</th>\n",
       "      <td>12.47500</td>\n",
       "    </tr>\n",
       "    <tr>\n",
       "      <th>male</th>\n",
       "      <td>7.92500</td>\n",
       "    </tr>\n",
       "  </tbody>\n",
       "</table>\n",
       "</div>"
      ],
      "text/plain": [
       "                   Fare\n",
       "Pclass Sex             \n",
       "1      female  82.66455\n",
       "       male    41.26250\n",
       "2      female  22.00000\n",
       "       male    13.00000\n",
       "3      female  12.47500\n",
       "       male     7.92500"
      ]
     },
     "execution_count": 589,
     "metadata": {},
     "output_type": "execute_result"
    }
   ],
   "source": [
    "# Pclass, Sex를 기준으로 그룹핑하여 Fare의 중앙값을 확인\n",
    "train[['Pclass','Sex','Fare']].groupby(['Pclass','Sex']).median()"
   ]
  },
  {
   "cell_type": "code",
   "execution_count": 590,
   "id": "3087695a-a2c8-45d0-987f-8cc9549668a7",
   "metadata": {},
   "outputs": [
    {
     "data": {
      "text/html": [
       "<div>\n",
       "<style scoped>\n",
       "    .dataframe tbody tr th:only-of-type {\n",
       "        vertical-align: middle;\n",
       "    }\n",
       "\n",
       "    .dataframe tbody tr th {\n",
       "        vertical-align: top;\n",
       "    }\n",
       "\n",
       "    .dataframe thead th {\n",
       "        text-align: right;\n",
       "    }\n",
       "</style>\n",
       "<table border=\"1\" class=\"dataframe\">\n",
       "  <thead>\n",
       "    <tr style=\"text-align: right;\">\n",
       "      <th></th>\n",
       "      <th>Pclass</th>\n",
       "      <th>Name</th>\n",
       "      <th>Sex</th>\n",
       "      <th>Age</th>\n",
       "      <th>SibSp</th>\n",
       "      <th>Parch</th>\n",
       "      <th>Ticket</th>\n",
       "      <th>Fare</th>\n",
       "      <th>Cabin</th>\n",
       "      <th>Embarked</th>\n",
       "    </tr>\n",
       "    <tr>\n",
       "      <th>PassengerId</th>\n",
       "      <th></th>\n",
       "      <th></th>\n",
       "      <th></th>\n",
       "      <th></th>\n",
       "      <th></th>\n",
       "      <th></th>\n",
       "      <th></th>\n",
       "      <th></th>\n",
       "      <th></th>\n",
       "      <th></th>\n",
       "    </tr>\n",
       "  </thead>\n",
       "  <tbody>\n",
       "    <tr>\n",
       "      <th>1044</th>\n",
       "      <td>3</td>\n",
       "      <td>Storey, Mr. Thomas</td>\n",
       "      <td>male</td>\n",
       "      <td>60.5</td>\n",
       "      <td>0</td>\n",
       "      <td>0</td>\n",
       "      <td>3701</td>\n",
       "      <td>NaN</td>\n",
       "      <td>NaN</td>\n",
       "      <td>S</td>\n",
       "    </tr>\n",
       "  </tbody>\n",
       "</table>\n",
       "</div>"
      ],
      "text/plain": [
       "             Pclass                Name   Sex   Age  SibSp  Parch Ticket  \\\n",
       "PassengerId                                                                \n",
       "1044              3  Storey, Mr. Thomas  male  60.5      0      0   3701   \n",
       "\n",
       "             Fare Cabin Embarked  \n",
       "PassengerId                       \n",
       "1044          NaN   NaN        S  "
      ]
     },
     "execution_count": 590,
     "metadata": {},
     "output_type": "execute_result"
    }
   ],
   "source": [
    "# 결측치가 있는 행 확인\n",
    "test[test['Fare'].isnull()]"
   ]
  },
  {
   "cell_type": "code",
   "execution_count": 591,
   "id": "4d5686c8-6560-4335-892e-ce1078525774",
   "metadata": {},
   "outputs": [],
   "source": [
    "test['Fare'] = test['Fare'].fillna(7.925)"
   ]
  },
  {
   "cell_type": "code",
   "execution_count": 592,
   "id": "965b53ff-2732-46cd-b59c-09dd6c4968f0",
   "metadata": {},
   "outputs": [
    {
     "name": "stdout",
     "output_type": "stream",
     "text": [
      "<class 'pandas.core.frame.DataFrame'>\n",
      "Index: 418 entries, 892 to 1309\n",
      "Data columns (total 10 columns):\n",
      " #   Column    Non-Null Count  Dtype  \n",
      "---  ------    --------------  -----  \n",
      " 0   Pclass    418 non-null    int64  \n",
      " 1   Name      418 non-null    object \n",
      " 2   Sex       418 non-null    object \n",
      " 3   Age       332 non-null    float64\n",
      " 4   SibSp     418 non-null    int64  \n",
      " 5   Parch     418 non-null    int64  \n",
      " 6   Ticket    418 non-null    object \n",
      " 7   Fare      418 non-null    float64\n",
      " 8   Cabin     91 non-null     object \n",
      " 9   Embarked  418 non-null    object \n",
      "dtypes: float64(2), int64(3), object(5)\n",
      "memory usage: 35.9+ KB\n"
     ]
    }
   ],
   "source": [
    "test.info()"
   ]
  },
  {
   "cell_type": "markdown",
   "id": "91f25576-b7a9-4a3c-abde-1f6dde9383b5",
   "metadata": {},
   "source": [
    "- train, test Age 채우기\n",
    "- 위에서 사용했던 Pclass, Sex컬럼을 그룹핑해서 Age의 집계를 확인하고 채워보자"
   ]
  },
  {
   "cell_type": "code",
   "execution_count": 594,
   "id": "18120e7e-ce01-4f57-8d92-ff35fa317b80",
   "metadata": {},
   "outputs": [
    {
     "data": {
      "text/plain": [
       "count    714.000000\n",
       "mean      29.699118\n",
       "std       14.526497\n",
       "min        0.420000\n",
       "25%       20.125000\n",
       "50%       28.000000\n",
       "75%       38.000000\n",
       "max       80.000000\n",
       "Name: Age, dtype: float64"
      ]
     },
     "execution_count": 594,
     "metadata": {},
     "output_type": "execute_result"
    }
   ],
   "source": [
    "# 평균값을 쓸지, 중앙값을 쓸지 판단을 위해 Age컬럼의 기술통계량을 확인\n",
    "train['Age'].describe()"
   ]
  },
  {
   "cell_type": "code",
   "execution_count": 595,
   "id": "76efcf13-b731-4d6b-bdd7-257dfa8fec26",
   "metadata": {},
   "outputs": [
    {
     "data": {
      "text/html": [
       "<div>\n",
       "<style scoped>\n",
       "    .dataframe tbody tr th:only-of-type {\n",
       "        vertical-align: middle;\n",
       "    }\n",
       "\n",
       "    .dataframe tbody tr th {\n",
       "        vertical-align: top;\n",
       "    }\n",
       "\n",
       "    .dataframe thead th {\n",
       "        text-align: right;\n",
       "    }\n",
       "</style>\n",
       "<table border=\"1\" class=\"dataframe\">\n",
       "  <thead>\n",
       "    <tr style=\"text-align: right;\">\n",
       "      <th></th>\n",
       "      <th></th>\n",
       "      <th>Age</th>\n",
       "    </tr>\n",
       "    <tr>\n",
       "      <th>Pclass</th>\n",
       "      <th>Sex</th>\n",
       "      <th></th>\n",
       "    </tr>\n",
       "  </thead>\n",
       "  <tbody>\n",
       "    <tr>\n",
       "      <th rowspan=\"2\" valign=\"top\">1</th>\n",
       "      <th>female</th>\n",
       "      <td>35.0</td>\n",
       "    </tr>\n",
       "    <tr>\n",
       "      <th>male</th>\n",
       "      <td>40.0</td>\n",
       "    </tr>\n",
       "    <tr>\n",
       "      <th rowspan=\"2\" valign=\"top\">2</th>\n",
       "      <th>female</th>\n",
       "      <td>28.0</td>\n",
       "    </tr>\n",
       "    <tr>\n",
       "      <th>male</th>\n",
       "      <td>30.0</td>\n",
       "    </tr>\n",
       "    <tr>\n",
       "      <th rowspan=\"2\" valign=\"top\">3</th>\n",
       "      <th>female</th>\n",
       "      <td>21.5</td>\n",
       "    </tr>\n",
       "    <tr>\n",
       "      <th>male</th>\n",
       "      <td>25.0</td>\n",
       "    </tr>\n",
       "  </tbody>\n",
       "</table>\n",
       "</div>"
      ],
      "text/plain": [
       "                Age\n",
       "Pclass Sex         \n",
       "1      female  35.0\n",
       "       male    40.0\n",
       "2      female  28.0\n",
       "       male    30.0\n",
       "3      female  21.5\n",
       "       male    25.0"
      ]
     },
     "execution_count": 595,
     "metadata": {},
     "output_type": "execute_result"
    }
   ],
   "source": [
    "# Age는 Pclass와 상관관계가 높았다.\n",
    "# Pclass, Sex를 그룹핑하여 Age의 평균을 출력해보자\n",
    "\n",
    "gb1 = train[['Pclass','Sex','Age']].groupby(['Pclass','Sex']).median()\n",
    "gb1"
   ]
  },
  {
   "cell_type": "code",
   "execution_count": 596,
   "id": "4e275000-2956-4faf-aa42-34e450e19151",
   "metadata": {},
   "outputs": [
    {
     "data": {
      "text/plain": [
       "Age    30.0\n",
       "Name: (2, male), dtype: float64"
      ]
     },
     "execution_count": 596,
     "metadata": {},
     "output_type": "execute_result"
    }
   ],
   "source": [
    "# gb1 - index 2개 Pclass, Sex\n",
    "# 멀티인덱스\n",
    "# 2등석, 남성 : 평균 나이 \n",
    "gb1.loc[(2,'male')]"
   ]
  },
  {
   "cell_type": "code",
   "execution_count": 597,
   "id": "9b7cc238-c362-484d-bd08-b59e6584fbfc",
   "metadata": {},
   "outputs": [
    {
     "data": {
      "text/html": [
       "<div>\n",
       "<style scoped>\n",
       "    .dataframe tbody tr th:only-of-type {\n",
       "        vertical-align: middle;\n",
       "    }\n",
       "\n",
       "    .dataframe tbody tr th {\n",
       "        vertical-align: top;\n",
       "    }\n",
       "\n",
       "    .dataframe thead th {\n",
       "        text-align: right;\n",
       "    }\n",
       "</style>\n",
       "<table border=\"1\" class=\"dataframe\">\n",
       "  <thead>\n",
       "    <tr style=\"text-align: right;\">\n",
       "      <th></th>\n",
       "      <th>Survived</th>\n",
       "      <th>Pclass</th>\n",
       "      <th>Name</th>\n",
       "      <th>Sex</th>\n",
       "      <th>Age</th>\n",
       "      <th>SibSp</th>\n",
       "      <th>Parch</th>\n",
       "      <th>Ticket</th>\n",
       "      <th>Fare</th>\n",
       "      <th>Cabin</th>\n",
       "      <th>Embarked</th>\n",
       "    </tr>\n",
       "    <tr>\n",
       "      <th>PassengerId</th>\n",
       "      <th></th>\n",
       "      <th></th>\n",
       "      <th></th>\n",
       "      <th></th>\n",
       "      <th></th>\n",
       "      <th></th>\n",
       "      <th></th>\n",
       "      <th></th>\n",
       "      <th></th>\n",
       "      <th></th>\n",
       "      <th></th>\n",
       "    </tr>\n",
       "  </thead>\n",
       "  <tbody>\n",
       "    <tr>\n",
       "      <th>6</th>\n",
       "      <td>0</td>\n",
       "      <td>3</td>\n",
       "      <td>Moran, Mr. James</td>\n",
       "      <td>male</td>\n",
       "      <td>NaN</td>\n",
       "      <td>0</td>\n",
       "      <td>0</td>\n",
       "      <td>330877</td>\n",
       "      <td>8.4583</td>\n",
       "      <td>NaN</td>\n",
       "      <td>Q</td>\n",
       "    </tr>\n",
       "    <tr>\n",
       "      <th>18</th>\n",
       "      <td>1</td>\n",
       "      <td>2</td>\n",
       "      <td>Williams, Mr. Charles Eugene</td>\n",
       "      <td>male</td>\n",
       "      <td>NaN</td>\n",
       "      <td>0</td>\n",
       "      <td>0</td>\n",
       "      <td>244373</td>\n",
       "      <td>13.0000</td>\n",
       "      <td>NaN</td>\n",
       "      <td>S</td>\n",
       "    </tr>\n",
       "    <tr>\n",
       "      <th>20</th>\n",
       "      <td>1</td>\n",
       "      <td>3</td>\n",
       "      <td>Masselmani, Mrs. Fatima</td>\n",
       "      <td>female</td>\n",
       "      <td>NaN</td>\n",
       "      <td>0</td>\n",
       "      <td>0</td>\n",
       "      <td>2649</td>\n",
       "      <td>7.2250</td>\n",
       "      <td>NaN</td>\n",
       "      <td>C</td>\n",
       "    </tr>\n",
       "    <tr>\n",
       "      <th>27</th>\n",
       "      <td>0</td>\n",
       "      <td>3</td>\n",
       "      <td>Emir, Mr. Farred Chehab</td>\n",
       "      <td>male</td>\n",
       "      <td>NaN</td>\n",
       "      <td>0</td>\n",
       "      <td>0</td>\n",
       "      <td>2631</td>\n",
       "      <td>7.2250</td>\n",
       "      <td>NaN</td>\n",
       "      <td>C</td>\n",
       "    </tr>\n",
       "    <tr>\n",
       "      <th>29</th>\n",
       "      <td>1</td>\n",
       "      <td>3</td>\n",
       "      <td>O'Dwyer, Miss. Ellen \"Nellie\"</td>\n",
       "      <td>female</td>\n",
       "      <td>NaN</td>\n",
       "      <td>0</td>\n",
       "      <td>0</td>\n",
       "      <td>330959</td>\n",
       "      <td>7.8792</td>\n",
       "      <td>NaN</td>\n",
       "      <td>Q</td>\n",
       "    </tr>\n",
       "    <tr>\n",
       "      <th>...</th>\n",
       "      <td>...</td>\n",
       "      <td>...</td>\n",
       "      <td>...</td>\n",
       "      <td>...</td>\n",
       "      <td>...</td>\n",
       "      <td>...</td>\n",
       "      <td>...</td>\n",
       "      <td>...</td>\n",
       "      <td>...</td>\n",
       "      <td>...</td>\n",
       "      <td>...</td>\n",
       "    </tr>\n",
       "    <tr>\n",
       "      <th>860</th>\n",
       "      <td>0</td>\n",
       "      <td>3</td>\n",
       "      <td>Razi, Mr. Raihed</td>\n",
       "      <td>male</td>\n",
       "      <td>NaN</td>\n",
       "      <td>0</td>\n",
       "      <td>0</td>\n",
       "      <td>2629</td>\n",
       "      <td>7.2292</td>\n",
       "      <td>NaN</td>\n",
       "      <td>C</td>\n",
       "    </tr>\n",
       "    <tr>\n",
       "      <th>864</th>\n",
       "      <td>0</td>\n",
       "      <td>3</td>\n",
       "      <td>Sage, Miss. Dorothy Edith \"Dolly\"</td>\n",
       "      <td>female</td>\n",
       "      <td>NaN</td>\n",
       "      <td>8</td>\n",
       "      <td>2</td>\n",
       "      <td>CA. 2343</td>\n",
       "      <td>69.5500</td>\n",
       "      <td>NaN</td>\n",
       "      <td>S</td>\n",
       "    </tr>\n",
       "    <tr>\n",
       "      <th>869</th>\n",
       "      <td>0</td>\n",
       "      <td>3</td>\n",
       "      <td>van Melkebeke, Mr. Philemon</td>\n",
       "      <td>male</td>\n",
       "      <td>NaN</td>\n",
       "      <td>0</td>\n",
       "      <td>0</td>\n",
       "      <td>345777</td>\n",
       "      <td>9.5000</td>\n",
       "      <td>NaN</td>\n",
       "      <td>S</td>\n",
       "    </tr>\n",
       "    <tr>\n",
       "      <th>879</th>\n",
       "      <td>0</td>\n",
       "      <td>3</td>\n",
       "      <td>Laleff, Mr. Kristo</td>\n",
       "      <td>male</td>\n",
       "      <td>NaN</td>\n",
       "      <td>0</td>\n",
       "      <td>0</td>\n",
       "      <td>349217</td>\n",
       "      <td>7.8958</td>\n",
       "      <td>NaN</td>\n",
       "      <td>S</td>\n",
       "    </tr>\n",
       "    <tr>\n",
       "      <th>889</th>\n",
       "      <td>0</td>\n",
       "      <td>3</td>\n",
       "      <td>Johnston, Miss. Catherine Helen \"Carrie\"</td>\n",
       "      <td>female</td>\n",
       "      <td>NaN</td>\n",
       "      <td>1</td>\n",
       "      <td>2</td>\n",
       "      <td>W./C. 6607</td>\n",
       "      <td>23.4500</td>\n",
       "      <td>NaN</td>\n",
       "      <td>S</td>\n",
       "    </tr>\n",
       "  </tbody>\n",
       "</table>\n",
       "<p>177 rows × 11 columns</p>\n",
       "</div>"
      ],
      "text/plain": [
       "             Survived  Pclass                                      Name  \\\n",
       "PassengerId                                                               \n",
       "6                   0       3                          Moran, Mr. James   \n",
       "18                  1       2              Williams, Mr. Charles Eugene   \n",
       "20                  1       3                   Masselmani, Mrs. Fatima   \n",
       "27                  0       3                   Emir, Mr. Farred Chehab   \n",
       "29                  1       3             O'Dwyer, Miss. Ellen \"Nellie\"   \n",
       "...               ...     ...                                       ...   \n",
       "860                 0       3                          Razi, Mr. Raihed   \n",
       "864                 0       3         Sage, Miss. Dorothy Edith \"Dolly\"   \n",
       "869                 0       3               van Melkebeke, Mr. Philemon   \n",
       "879                 0       3                        Laleff, Mr. Kristo   \n",
       "889                 0       3  Johnston, Miss. Catherine Helen \"Carrie\"   \n",
       "\n",
       "                Sex  Age  SibSp  Parch      Ticket     Fare Cabin Embarked  \n",
       "PassengerId                                                                 \n",
       "6              male  NaN      0      0      330877   8.4583   NaN        Q  \n",
       "18             male  NaN      0      0      244373  13.0000   NaN        S  \n",
       "20           female  NaN      0      0        2649   7.2250   NaN        C  \n",
       "27             male  NaN      0      0        2631   7.2250   NaN        C  \n",
       "29           female  NaN      0      0      330959   7.8792   NaN        Q  \n",
       "...             ...  ...    ...    ...         ...      ...   ...      ...  \n",
       "860            male  NaN      0      0        2629   7.2292   NaN        C  \n",
       "864          female  NaN      8      2    CA. 2343  69.5500   NaN        S  \n",
       "869            male  NaN      0      0      345777   9.5000   NaN        S  \n",
       "879            male  NaN      0      0      349217   7.8958   NaN        S  \n",
       "889          female  NaN      1      2  W./C. 6607  23.4500   NaN        S  \n",
       "\n",
       "[177 rows x 11 columns]"
      ]
     },
     "execution_count": 597,
     "metadata": {},
     "output_type": "execute_result"
    }
   ],
   "source": [
    "# train Age 결측치가 있는 행 출력\n",
    "train[train['Age'].isnull()]"
   ]
  },
  {
   "cell_type": "code",
   "execution_count": 598,
   "id": "7b6f3802-f920-49eb-bede-ba809054d8c7",
   "metadata": {},
   "outputs": [
    {
     "data": {
      "text/plain": [
       "Age    30.0\n",
       "Name: (2, male), dtype: float64"
      ]
     },
     "execution_count": 598,
     "metadata": {},
     "output_type": "execute_result"
    }
   ],
   "source": [
    "gb1.loc[(2,'male')]"
   ]
  },
  {
   "cell_type": "code",
   "execution_count": 599,
   "id": "27ccb1e7-0db0-4674-a4f6-1461fd821b83",
   "metadata": {
    "scrolled": true
   },
   "outputs": [
    {
     "data": {
      "text/html": [
       "<div>\n",
       "<style scoped>\n",
       "    .dataframe tbody tr th:only-of-type {\n",
       "        vertical-align: middle;\n",
       "    }\n",
       "\n",
       "    .dataframe tbody tr th {\n",
       "        vertical-align: top;\n",
       "    }\n",
       "\n",
       "    .dataframe thead th {\n",
       "        text-align: right;\n",
       "    }\n",
       "</style>\n",
       "<table border=\"1\" class=\"dataframe\">\n",
       "  <thead>\n",
       "    <tr style=\"text-align: right;\">\n",
       "      <th></th>\n",
       "      <th></th>\n",
       "      <th>Age</th>\n",
       "    </tr>\n",
       "    <tr>\n",
       "      <th>Pclass</th>\n",
       "      <th>Sex</th>\n",
       "      <th></th>\n",
       "    </tr>\n",
       "  </thead>\n",
       "  <tbody>\n",
       "    <tr>\n",
       "      <th rowspan=\"2\" valign=\"top\">1</th>\n",
       "      <th>female</th>\n",
       "      <td>35.0</td>\n",
       "    </tr>\n",
       "    <tr>\n",
       "      <th>male</th>\n",
       "      <td>40.0</td>\n",
       "    </tr>\n",
       "    <tr>\n",
       "      <th rowspan=\"2\" valign=\"top\">2</th>\n",
       "      <th>female</th>\n",
       "      <td>28.0</td>\n",
       "    </tr>\n",
       "    <tr>\n",
       "      <th>male</th>\n",
       "      <td>30.0</td>\n",
       "    </tr>\n",
       "    <tr>\n",
       "      <th rowspan=\"2\" valign=\"top\">3</th>\n",
       "      <th>female</th>\n",
       "      <td>21.5</td>\n",
       "    </tr>\n",
       "    <tr>\n",
       "      <th>male</th>\n",
       "      <td>25.0</td>\n",
       "    </tr>\n",
       "  </tbody>\n",
       "</table>\n",
       "</div>"
      ],
      "text/plain": [
       "                Age\n",
       "Pclass Sex         \n",
       "1      female  35.0\n",
       "       male    40.0\n",
       "2      female  28.0\n",
       "       male    30.0\n",
       "3      female  21.5\n",
       "       male    25.0"
      ]
     },
     "execution_count": 599,
     "metadata": {},
     "output_type": "execute_result"
    }
   ],
   "source": [
    "gb1"
   ]
  },
  {
   "cell_type": "code",
   "execution_count": 600,
   "id": "8bb8addc-e87d-4171-b83f-c2695d5b42a9",
   "metadata": {},
   "outputs": [],
   "source": [
    "# 규칙에 맞게 Pclass와 Sex에 따른 Age값을 반환하는 함수 선언\n",
    "def fill_age(row):\n",
    "    # row = 받아오는 행의 데이터 (매개변수)\n",
    "\n",
    "    # 만약에 Age 컬럼이 결측치라면, gb1 테이블의 값을 인덱싱\n",
    "    if np.isnan(row['Age']):\n",
    "        return gb1.loc[(row['Pclass'],row['Sex'])]\n",
    "    # 결측치가 아니라면. 원래 값을 사용\n",
    "    else:\n",
    "        return row['Age']"
   ]
  },
  {
   "cell_type": "code",
   "execution_count": 601,
   "id": "5a13d5b2-32da-4195-9ef1-0d5fd4bc99b7",
   "metadata": {
    "scrolled": true
   },
   "outputs": [
    {
     "name": "stdout",
     "output_type": "stream",
     "text": [
      "<class 'pandas.core.frame.DataFrame'>\n",
      "Index: 891 entries, 1 to 891\n",
      "Data columns (total 11 columns):\n",
      " #   Column    Non-Null Count  Dtype  \n",
      "---  ------    --------------  -----  \n",
      " 0   Survived  891 non-null    int64  \n",
      " 1   Pclass    891 non-null    int64  \n",
      " 2   Name      891 non-null    object \n",
      " 3   Sex       891 non-null    object \n",
      " 4   Age       891 non-null    int64  \n",
      " 5   SibSp     891 non-null    int64  \n",
      " 6   Parch     891 non-null    int64  \n",
      " 7   Ticket    891 non-null    object \n",
      " 8   Fare      891 non-null    float64\n",
      " 9   Cabin     204 non-null    object \n",
      " 10  Embarked  891 non-null    object \n",
      "dtypes: float64(1), int64(5), object(5)\n",
      "memory usage: 83.5+ KB\n"
     ]
    },
    {
     "name": "stderr",
     "output_type": "stream",
     "text": [
      "C:\\Users\\a\\AppData\\Local\\Temp\\ipykernel_11332\\1285069644.py:1: FutureWarning: Calling int on a single element Series is deprecated and will raise a TypeError in the future. Use int(ser.iloc[0]) instead\n",
      "  train['Age'] = train.apply(fill_age, axis = 1).astype(np.int64)\n"
     ]
    }
   ],
   "source": [
    "train['Age'] = train.apply(fill_age, axis = 1).astype(np.int64)\n",
    "train.info()"
   ]
  },
  {
   "cell_type": "code",
   "execution_count": 602,
   "id": "4a5142f0-7d88-48a5-ad89-e567adc80acb",
   "metadata": {},
   "outputs": [
    {
     "name": "stdout",
     "output_type": "stream",
     "text": [
      "<class 'pandas.core.frame.DataFrame'>\n",
      "Index: 418 entries, 892 to 1309\n",
      "Data columns (total 10 columns):\n",
      " #   Column    Non-Null Count  Dtype  \n",
      "---  ------    --------------  -----  \n",
      " 0   Pclass    418 non-null    int64  \n",
      " 1   Name      418 non-null    object \n",
      " 2   Sex       418 non-null    object \n",
      " 3   Age       418 non-null    int64  \n",
      " 4   SibSp     418 non-null    int64  \n",
      " 5   Parch     418 non-null    int64  \n",
      " 6   Ticket    418 non-null    object \n",
      " 7   Fare      418 non-null    float64\n",
      " 8   Cabin     91 non-null     object \n",
      " 9   Embarked  418 non-null    object \n",
      "dtypes: float64(1), int64(4), object(5)\n",
      "memory usage: 35.9+ KB\n"
     ]
    },
    {
     "name": "stderr",
     "output_type": "stream",
     "text": [
      "C:\\Users\\a\\AppData\\Local\\Temp\\ipykernel_11332\\196377789.py:1: FutureWarning: Calling int on a single element Series is deprecated and will raise a TypeError in the future. Use int(ser.iloc[0]) instead\n",
      "  test['Age'] = test.apply(fill_age, axis = 1).astype(np.int64)\n"
     ]
    }
   ],
   "source": [
    "test['Age'] = test.apply(fill_age, axis = 1).astype(np.int64)\n",
    "test.info()"
   ]
  },
  {
   "cell_type": "code",
   "execution_count": 603,
   "id": "b661732a-96e6-498e-b802-f42a7f55f754",
   "metadata": {},
   "outputs": [
    {
     "data": {
      "text/plain": [
       "array([34, 47, 62, 27, 22, 14, 30, 26, 18, 21, 25, 46, 23, 63, 24, 35, 45,\n",
       "       55,  9, 48, 50, 41, 33, 39, 40, 60, 36, 20, 28, 10, 17, 32, 13, 31,\n",
       "       29,  6, 67, 49,  2, 76, 43, 16,  1, 12, 42, 53, 61,  7, 15, 54, 64,\n",
       "       37, 11,  8,  0, 38, 57, 19, 58, 59, 44,  5, 51,  3], dtype=int64)"
      ]
     },
     "execution_count": 603,
     "metadata": {},
     "output_type": "execute_result"
    }
   ],
   "source": [
    "test['Age'].unique()"
   ]
  },
  {
   "cell_type": "markdown",
   "id": "6d727ebc-954a-4efe-9492-07cee4a0ea8c",
   "metadata": {},
   "source": [
    "#### 정리\n",
    "- apply, fill_age를 통해\n",
    "- 테스트 데이터를 행단위로 쪼갠것을 매개변수로 안쪽 로직이 동작\n",
    "- 결과값으로 Age를 채울 수 있는 대표값 반환\n",
    "- 정수형으로 변환한 후 train,test 'Age'컬럼에 넣어주는 작업"
   ]
  },
  {
   "cell_type": "markdown",
   "id": "6af52fd8-ae64-4fc2-ad35-2a9f940a40b7",
   "metadata": {},
   "source": [
    "- train, test Cabin 채우기\n",
    "- Cabin 컬럼 데이터 확인\n",
    "- 임의의 값으로 결측치 채울 예정"
   ]
  },
  {
   "cell_type": "code",
   "execution_count": 606,
   "id": "70a482ee-0440-4bf7-adb9-cef5fd3c03b6",
   "metadata": {},
   "outputs": [
    {
     "data": {
      "text/plain": [
       "array([nan, 'C85', 'C123', 'E46', 'G6', 'C103', 'D56', 'A6',\n",
       "       'C23 C25 C27', 'B78', 'D33', 'B30', 'C52', 'B28', 'C83', 'F33',\n",
       "       'F G73', 'E31', 'A5', 'D10 D12', 'D26', 'C110', 'B58 B60', 'E101',\n",
       "       'F E69', 'D47', 'B86', 'F2', 'C2', 'E33', 'B19', 'A7', 'C49', 'F4',\n",
       "       'A32', 'B4', 'B80', 'A31', 'D36', 'D15', 'C93', 'C78', 'D35',\n",
       "       'C87', 'B77', 'E67', 'B94', 'C125', 'C99', 'C118', 'D7', 'A19',\n",
       "       'B49', 'D', 'C22 C26', 'C106', 'C65', 'E36', 'C54',\n",
       "       'B57 B59 B63 B66', 'C7', 'E34', 'C32', 'B18', 'C124', 'C91', 'E40',\n",
       "       'T', 'C128', 'D37', 'B35', 'E50', 'C82', 'B96 B98', 'E10', 'E44',\n",
       "       'A34', 'C104', 'C111', 'C92', 'E38', 'D21', 'E12', 'E63', 'A14',\n",
       "       'B37', 'C30', 'D20', 'B79', 'E25', 'D46', 'B73', 'C95', 'B38',\n",
       "       'B39', 'B22', 'C86', 'C70', 'A16', 'C101', 'C68', 'A10', 'E68',\n",
       "       'B41', 'A20', 'D19', 'D50', 'D9', 'A23', 'B50', 'A26', 'D48',\n",
       "       'E58', 'C126', 'B71', 'B51 B53 B55', 'D49', 'B5', 'B20', 'F G63',\n",
       "       'C62 C64', 'E24', 'C90', 'C45', 'E8', 'B101', 'D45', 'C46', 'D30',\n",
       "       'E121', 'D11', 'E77', 'F38', 'B3', 'D6', 'B82 B84', 'D17', 'A36',\n",
       "       'B102', 'B69', 'E49', 'C47', 'D28', 'E17', 'A24', 'C50', 'B42',\n",
       "       'C148'], dtype=object)"
      ]
     },
     "execution_count": 606,
     "metadata": {},
     "output_type": "execute_result"
    }
   ],
   "source": [
    "# train 기준으로 데이터 확인\n",
    "train['Cabin'].unique()\n",
    "\n",
    "# 타이타닉 호는 A, B, C 층으로 표기한다. > 알파벳만 뽑아서 사용."
   ]
  },
  {
   "cell_type": "code",
   "execution_count": 607,
   "id": "5cab3bed-a26c-46f2-bb7e-e9b2568d963f",
   "metadata": {},
   "outputs": [],
   "source": [
    "# 임의의 값으로 train, test의 Cabin 결측치를 채워보자\n",
    "# 'T'로 채워보자\n",
    "train['Cabin'] = train['Cabin'].fillna('M')\n",
    "test['Cabin'] = test['Cabin'].fillna('M')"
   ]
  },
  {
   "cell_type": "code",
   "execution_count": 608,
   "id": "d186ef52-dbee-4920-acfe-ff0650bb7df6",
   "metadata": {},
   "outputs": [
    {
     "name": "stdout",
     "output_type": "stream",
     "text": [
      "<class 'pandas.core.frame.DataFrame'>\n",
      "Index: 891 entries, 1 to 891\n",
      "Data columns (total 11 columns):\n",
      " #   Column    Non-Null Count  Dtype  \n",
      "---  ------    --------------  -----  \n",
      " 0   Survived  891 non-null    int64  \n",
      " 1   Pclass    891 non-null    int64  \n",
      " 2   Name      891 non-null    object \n",
      " 3   Sex       891 non-null    object \n",
      " 4   Age       891 non-null    int64  \n",
      " 5   SibSp     891 non-null    int64  \n",
      " 6   Parch     891 non-null    int64  \n",
      " 7   Ticket    891 non-null    object \n",
      " 8   Fare      891 non-null    float64\n",
      " 9   Cabin     891 non-null    object \n",
      " 10  Embarked  891 non-null    object \n",
      "dtypes: float64(1), int64(5), object(5)\n",
      "memory usage: 83.5+ KB\n"
     ]
    }
   ],
   "source": [
    "train.info()"
   ]
  },
  {
   "cell_type": "code",
   "execution_count": 609,
   "id": "5ae053da-6aef-42a9-8a48-ee7150e3986d",
   "metadata": {},
   "outputs": [
    {
     "name": "stdout",
     "output_type": "stream",
     "text": [
      "<class 'pandas.core.frame.DataFrame'>\n",
      "Index: 418 entries, 892 to 1309\n",
      "Data columns (total 10 columns):\n",
      " #   Column    Non-Null Count  Dtype  \n",
      "---  ------    --------------  -----  \n",
      " 0   Pclass    418 non-null    int64  \n",
      " 1   Name      418 non-null    object \n",
      " 2   Sex       418 non-null    object \n",
      " 3   Age       418 non-null    int64  \n",
      " 4   SibSp     418 non-null    int64  \n",
      " 5   Parch     418 non-null    int64  \n",
      " 6   Ticket    418 non-null    object \n",
      " 7   Fare      418 non-null    float64\n",
      " 8   Cabin     418 non-null    object \n",
      " 9   Embarked  418 non-null    object \n",
      "dtypes: float64(1), int64(4), object(5)\n",
      "memory usage: 35.9+ KB\n"
     ]
    }
   ],
   "source": [
    "test.info()"
   ]
  },
  {
   "cell_type": "code",
   "execution_count": 610,
   "id": "1a62a4b9-ade3-41e9-968e-b6172ccefc1b",
   "metadata": {},
   "outputs": [
    {
     "data": {
      "text/plain": [
       "(Index(['Survived', 'Pclass', 'Name', 'Sex', 'Age', 'SibSp', 'Parch', 'Ticket',\n",
       "        'Fare', 'Cabin', 'Embarked', 'Deck'],\n",
       "       dtype='object'),\n",
       " Index(['Pclass', 'Name', 'Sex', 'Age', 'SibSp', 'Parch', 'Ticket', 'Fare',\n",
       "        'Cabin', 'Embarked', 'Deck'],\n",
       "       dtype='object'))"
      ]
     },
     "execution_count": 610,
     "metadata": {},
     "output_type": "execute_result"
    }
   ],
   "source": [
    "# 첫글자 알파벳 1개 추출하기\n",
    "train['Deck'] = train['Cabin'].str[0]\n",
    "# str : 데이터 내부 문자열 접근.\n",
    "test['Deck'] = test['Cabin'].str[0]\n",
    "\n",
    "# 확인\n",
    "train.columns, test.columns"
   ]
  },
  {
   "cell_type": "code",
   "execution_count": 611,
   "id": "cf019a8d-83cb-4011-8c55-47fd3348a186",
   "metadata": {
    "scrolled": true
   },
   "outputs": [],
   "source": [
    "# Cabin 컬럼 삭제 .drop(컬럼명, axis = 0(행) or 1(열), inplace = True(바로 적용) or False(default. 미적용))\n",
    "\n",
    "train.drop('Cabin', axis = 1, inplace = True)\n",
    "test.drop('Cabin', axis = 1, inplace = True)\n",
    "\n"
   ]
  },
  {
   "cell_type": "code",
   "execution_count": 612,
   "id": "be4c0c5d-04b4-4496-8b3b-6cb5f508e657",
   "metadata": {},
   "outputs": [
    {
     "name": "stdout",
     "output_type": "stream",
     "text": [
      "<class 'pandas.core.frame.DataFrame'>\n",
      "Index: 891 entries, 1 to 891\n",
      "Data columns (total 11 columns):\n",
      " #   Column    Non-Null Count  Dtype  \n",
      "---  ------    --------------  -----  \n",
      " 0   Survived  891 non-null    int64  \n",
      " 1   Pclass    891 non-null    int64  \n",
      " 2   Name      891 non-null    object \n",
      " 3   Sex       891 non-null    object \n",
      " 4   Age       891 non-null    int64  \n",
      " 5   SibSp     891 non-null    int64  \n",
      " 6   Parch     891 non-null    int64  \n",
      " 7   Ticket    891 non-null    object \n",
      " 8   Fare      891 non-null    float64\n",
      " 9   Embarked  891 non-null    object \n",
      " 10  Deck      891 non-null    object \n",
      "dtypes: float64(1), int64(5), object(5)\n",
      "memory usage: 83.5+ KB\n",
      "<class 'pandas.core.frame.DataFrame'>\n",
      "Index: 418 entries, 892 to 1309\n",
      "Data columns (total 10 columns):\n",
      " #   Column    Non-Null Count  Dtype  \n",
      "---  ------    --------------  -----  \n",
      " 0   Pclass    418 non-null    int64  \n",
      " 1   Name      418 non-null    object \n",
      " 2   Sex       418 non-null    object \n",
      " 3   Age       418 non-null    int64  \n",
      " 4   SibSp     418 non-null    int64  \n",
      " 5   Parch     418 non-null    int64  \n",
      " 6   Ticket    418 non-null    object \n",
      " 7   Fare      418 non-null    float64\n",
      " 8   Embarked  418 non-null    object \n",
      " 9   Deck      418 non-null    object \n",
      "dtypes: float64(1), int64(4), object(5)\n",
      "memory usage: 35.9+ KB\n"
     ]
    }
   ],
   "source": [
    "# 확인\n",
    "train.info()\n",
    "test.info()"
   ]
  },
  {
   "cell_type": "markdown",
   "id": "e6d3e391-3826-48f3-80d5-89c47b8d0470",
   "metadata": {},
   "source": [
    "- Deck 시각화"
   ]
  },
  {
   "cell_type": "code",
   "execution_count": 614,
   "id": "2183f97f-486c-4334-8e19-73c98745e36b",
   "metadata": {},
   "outputs": [
    {
     "data": {
      "image/png": "[encoded data removed]",
      "text/plain": [
       "<Figure size 640x480 with 1 Axes>"
      ]
     },
     "metadata": {},
     "output_type": "display_data"
    }
   ],
   "source": [
    "# sns 시각화 도구를 사용해서 범주형 데이터 Deck을 시각화 해보자\n",
    "sns.countplot(data = train, x = 'Deck', hue = 'Survived')\n",
    "# countplot : 갯수 시각화 (x : x축, hue : 분할 기준.나타내고자 하는 것)\n",
    "plt.show()"
   ]
  },
  {
   "cell_type": "code",
   "execution_count": 615,
   "id": "475bb3c0-ad0b-4454-8411-8051679f93bb",
   "metadata": {},
   "outputs": [],
   "source": [
    "# M층 : 결측치인 객실에서 사망률이 높다."
   ]
  },
  {
   "cell_type": "code",
   "execution_count": 616,
   "id": "ed61d7fe-8066-4ee7-aa63-d300d9e4acee",
   "metadata": {},
   "outputs": [
    {
     "data": {
      "image/png": "[encoded data removed]",
      "text/plain": [
       "<Figure size 640x480 with 1 Axes>"
      ]
     },
     "metadata": {},
     "output_type": "display_data"
    }
   ],
   "source": [
    "# Pclass가 사망에 얼마나 영향을 미쳤는지 시각화\n",
    "sns.countplot(data = train, x = 'Pclass', hue = 'Survived')\n",
    "plt.show()"
   ]
  },
  {
   "cell_type": "markdown",
   "id": "28a4a7b1-a21c-4f49-9973-39572cf8ba15",
   "metadata": {},
   "source": [
    "- Deck과 Pclass 시각화"
   ]
  },
  {
   "cell_type": "code",
   "execution_count": 618,
   "id": "7d38112a-7caf-434f-b77b-6bb3fc466ef5",
   "metadata": {},
   "outputs": [
    {
     "data": {
      "image/png": "[encoded data removed]",
      "text/plain": [
       "<Figure size 640x480 with 1 Axes>"
      ]
     },
     "metadata": {},
     "output_type": "display_data"
    }
   ],
   "source": [
    "sns.countplot(data = train, x = 'Deck', hue = 'Pclass')\n",
    "plt.show()"
   ]
  },
  {
   "cell_type": "code",
   "execution_count": 619,
   "id": "931831c1-d5cf-4685-8b4b-1817d004b593",
   "metadata": {},
   "outputs": [],
   "source": [
    "# M층은 3등급인 경우가 대부분임. 따라서 상대적으로 사망률이 높았다.\n",
    "# M층인 경우 Pclass = 3"
   ]
  },
  {
   "cell_type": "markdown",
   "id": "9f25b877-8204-4713-abbb-316a150875d0",
   "metadata": {},
   "source": [
    "- 성별에 따른 생존/사막 시각화"
   ]
  },
  {
   "cell_type": "code",
   "execution_count": 621,
   "id": "b0d19c73-ff7a-42da-bdcb-ea6e6db8fe00",
   "metadata": {},
   "outputs": [
    {
     "data": {
      "image/png": "[encoded data removed]",
      "text/plain": [
       "<Figure size 640x480 with 1 Axes>"
      ]
     },
     "metadata": {},
     "output_type": "display_data"
    }
   ],
   "source": [
    "sns.countplot(data = train, x = 'Sex', hue = 'Survived')\n",
    "plt.show()"
   ]
  },
  {
   "cell_type": "markdown",
   "id": "7edb1ce8-05ed-4983-adcc-7f6e4d672f51",
   "metadata": {},
   "source": [
    "- 승선항과 생존/사망 여부 시각화"
   ]
  },
  {
   "cell_type": "code",
   "execution_count": 623,
   "id": "888cc6fd-783c-401c-89b8-53232f5511a6",
   "metadata": {},
   "outputs": [
    {
     "data": {
      "image/png": "[encoded data removed]",
      "text/plain": [
       "<Figure size 640x480 with 1 Axes>"
      ]
     },
     "metadata": {},
     "output_type": "display_data"
    }
   ],
   "source": [
    "sns.countplot(data = train, x = 'Embarked', hue = 'Survived')\n",
    "plt.show()"
   ]
  },
  {
   "cell_type": "code",
   "execution_count": 624,
   "id": "7fba8453-8271-4488-8f3a-ef28c92b62bf",
   "metadata": {},
   "outputs": [],
   "source": [
    "# S 승선항에서 Pclass가 3인 사람이 많이 타지 않았을까??"
   ]
  },
  {
   "cell_type": "markdown",
   "id": "67fd6ea3-9274-471c-b004-9254af87ecb3",
   "metadata": {},
   "source": [
    "- 승선항과 Pclass의 관계 시각화"
   ]
  },
  {
   "cell_type": "code",
   "execution_count": 626,
   "id": "ca0007e3-1156-4480-81fd-1f4c1fbf5f43",
   "metadata": {},
   "outputs": [
    {
     "data": {
      "image/png": "[encoded data removed]",
      "text/plain": [
       "<Figure size 640x480 with 1 Axes>"
      ]
     },
     "metadata": {},
     "output_type": "display_data"
    }
   ],
   "source": [
    "sns.countplot(data = train, x = 'Embarked', hue = 'Pclass')\n",
    "plt.show()"
   ]
  },
  {
   "cell_type": "code",
   "execution_count": 627,
   "id": "0d7cf1c0-4983-4243-a1ad-af354bc317bd",
   "metadata": {},
   "outputs": [
    {
     "data": {
      "image/png": "[encoded data removed]",
      "text/plain": [
       "<Figure size 2200x500 with 1 Axes>"
      ]
     },
     "metadata": {},
     "output_type": "display_data"
    }
   ],
   "source": [
    "plt.figure(figsize=(22,5))\n",
    "sns.countplot(data = train, x = 'Age', hue = 'Survived')\n",
    "plt.show()"
   ]
  },
  {
   "cell_type": "code",
   "execution_count": 628,
   "id": "e6a2cd0a-748d-464d-9b55-1541092510be",
   "metadata": {},
   "outputs": [
    {
     "data": {
      "image/png": "[encoded data removed]",
      "text/plain": [
       "<Figure size 640x480 with 1 Axes>"
      ]
     },
     "metadata": {},
     "output_type": "display_data"
    }
   ],
   "source": [
    "# 나이데이터를 시각화 했더니, 해석하기 어려움 >> 바이올린 플롯으로 변경\n",
    "# violinplot : 수치형 데이터의 분포를 확인할 때 사용하는 그래프\n",
    "# 데이터가 많은쪽은 두껍게, 적은쪽은 얇게\n",
    "\n",
    "sns.violinplot(data = train,\n",
    "               x = 'Sex',\n",
    "               y = 'Age',\n",
    "               hue = 'Survived',\n",
    "              split = True, # 데이터를 양쪽에 나눠서 표현\n",
    "              inner = 'stick' # 바이올린 내부에 개별 데이터선\n",
    "              )\n",
    "plt.ylim(0,100)\n",
    "plt.show()"
   ]
  },
  {
   "cell_type": "code",
   "execution_count": 629,
   "id": "449411eb-0449-421f-8bc3-19d1f86eceda",
   "metadata": {},
   "outputs": [],
   "source": [
    "# Sex와 Fare에 따른 Survived 시각화"
   ]
  },
  {
   "cell_type": "code",
   "execution_count": 630,
   "id": "08300d9d-17a8-4b55-9fc2-ee1e95c33617",
   "metadata": {},
   "outputs": [
    {
     "data": {
      "image/png": "[encoded data removed]",
      "text/plain": [
       "<Figure size 640x480 with 1 Axes>"
      ]
     },
     "metadata": {},
     "output_type": "display_data"
    }
   ],
   "source": [
    "sns.violinplot(data = train,\n",
    "               x = 'Sex',\n",
    "               y = 'Fare',\n",
    "               hue = 'Survived',\n",
    "              split = True, # 데이터를 양쪽에 나눠서 표현\n",
    "              inner = 'stick' # 바이올린 내부에 개별 데이터선\n",
    "              )\n",
    "\n",
    "plt.show()"
   ]
  },
  {
   "cell_type": "code",
   "execution_count": 631,
   "id": "185862ee-9f67-4f43-a118-dc0f7e557e48",
   "metadata": {},
   "outputs": [],
   "source": [
    "# 성별 불문, 요금이 저렴한 사람들의 사망률이 높았다."
   ]
  },
  {
   "cell_type": "markdown",
   "id": "754e850f-f55d-4645-920c-78793beb4cc5",
   "metadata": {},
   "source": [
    "- 특성공학 : 새로운 컬럼 생성(transform)\n",
    "- Parch, SibSp를 더해서 가족의 숫자라는 새로운 컬럼 생성\n",
    "- train, test 동일하게."
   ]
  },
  {
   "cell_type": "code",
   "execution_count": 633,
   "id": "4c5ed4af-ae86-4eca-81a0-0e21b7771e80",
   "metadata": {},
   "outputs": [
    {
     "data": {
      "text/plain": [
       "PassengerId\n",
       "1      2\n",
       "2      2\n",
       "3      1\n",
       "4      2\n",
       "5      1\n",
       "      ..\n",
       "887    1\n",
       "888    1\n",
       "889    4\n",
       "890    1\n",
       "891    1\n",
       "Name: Family_size, Length: 891, dtype: int64"
      ]
     },
     "execution_count": 633,
     "metadata": {},
     "output_type": "execute_result"
    }
   ],
   "source": [
    "# train\n",
    "train['Family_size'] = train['Parch'] + train['SibSp'] + 1 # 본인 포함 가족 구성원의 수\n",
    "train['Family_size']"
   ]
  },
  {
   "cell_type": "code",
   "execution_count": 634,
   "id": "0f08f4ad-1d2c-4a85-9320-a18f46d6f10c",
   "metadata": {},
   "outputs": [
    {
     "data": {
      "text/plain": [
       "PassengerId\n",
       "892     1\n",
       "893     2\n",
       "894     1\n",
       "895     1\n",
       "896     3\n",
       "       ..\n",
       "1305    1\n",
       "1306    1\n",
       "1307    1\n",
       "1308    1\n",
       "1309    3\n",
       "Name: Family_size, Length: 418, dtype: int64"
      ]
     },
     "execution_count": 634,
     "metadata": {},
     "output_type": "execute_result"
    }
   ],
   "source": [
    "# test\n",
    "test['Family_size'] = test['Parch'] + test['SibSp'] + 1 # 본인 포함 가족 구성원의 수\n",
    "test['Family_size']"
   ]
  },
  {
   "cell_type": "code",
   "execution_count": 635,
   "id": "570c257a-531c-40d0-a9a7-401c3e1f95d6",
   "metadata": {},
   "outputs": [
    {
     "data": {
      "image/png": "[encoded data removed]",
      "text/plain": [
       "<Figure size 640x480 with 1 Axes>"
      ]
     },
     "metadata": {},
     "output_type": "display_data"
    }
   ],
   "source": [
    "# 시각화\n",
    "sns.countplot(data = train, x = 'Family_size', hue = 'Survived')\n",
    "plt.show()"
   ]
  },
  {
   "cell_type": "code",
   "execution_count": 636,
   "id": "3dc5419d-30b6-4189-be64-e4df5fb89f3d",
   "metadata": {},
   "outputs": [],
   "source": [
    "# 1명일 경우, 사망률이 높다. -alone\n",
    "# 2~4명일 경우, 생존율이 높다. -small\n",
    "# 5명 이상일경우, 사망률이 높다. -large"
   ]
  },
  {
   "cell_type": "markdown",
   "id": "24bb5a98-008f-4dbc-821a-132aba76a090",
   "metadata": {},
   "source": [
    "- Family_size가 1이면 Alone, 2~4이면 Small, 5명이상이면 Large로 바꿔줌\n",
    "- train, test 동일"
   ]
  },
  {
   "cell_type": "code",
   "execution_count": 638,
   "id": "6f9121dc-f030-41cf-bcf3-fbdc5806a403",
   "metadata": {},
   "outputs": [],
   "source": [
    "bins = [0,1,4,11]\n",
    "# (0, 1] > 0초과 1이하\n",
    "# (1, 4] > 1초과 4이하\n",
    "# (4, 11] > 4초과 11이하\n",
    "\n",
    "labels = ['Alone', 'Small', 'Large']\n",
    "\n",
    "# cut : 연속적인 수치형 데이터를 일정 범위로 나누어줌 > 범주형으로.\n",
    "train['Family_group'] = pd.cut(train['Family_size'], bins = [0, 1, 4, 11], labels = labels)"
   ]
  },
  {
   "cell_type": "code",
   "execution_count": 639,
   "id": "06f421ad-03cd-4dab-97f6-103037a9f472",
   "metadata": {},
   "outputs": [],
   "source": [
    "# test 데이터도 binning\n",
    "test['Family_group'] = pd.cut(test['Family_size'], bins = [0, 1, 4, 11], labels = labels)"
   ]
  },
  {
   "cell_type": "code",
   "execution_count": 640,
   "id": "f0556822-0098-4a93-843e-67c72c3cff66",
   "metadata": {},
   "outputs": [
    {
     "data": {
      "image/png": "[encoded data removed]",
      "text/plain": [
       "<Figure size 640x480 with 1 Axes>"
      ]
     },
     "metadata": {},
     "output_type": "display_data"
    }
   ],
   "source": [
    "sns.countplot(\n",
    "    data = train,\n",
    "    x = 'Family_group',\n",
    "    hue = 'Survived')\n",
    "plt.show()"
   ]
  },
  {
   "cell_type": "markdown",
   "id": "6dc5ecdc-0072-4736-9a3d-d6a98c9a3c4f",
   "metadata": {},
   "source": [
    "- 불필요한 컬럼 삭제\n",
    "- .drop() 사용\n",
    "- 전처리 대상에서 제외된 컬럼과 특성공학 후 불필요해진 컬럼 삭제."
   ]
  },
  {
   "cell_type": "code",
   "execution_count": 642,
   "id": "daa6434f-0dca-4369-8d01-28291d98df98",
   "metadata": {},
   "outputs": [
    {
     "name": "stdout",
     "output_type": "stream",
     "text": [
      "<class 'pandas.core.frame.DataFrame'>\n",
      "Index: 891 entries, 1 to 891\n",
      "Data columns (total 13 columns):\n",
      " #   Column        Non-Null Count  Dtype   \n",
      "---  ------        --------------  -----   \n",
      " 0   Survived      891 non-null    int64   \n",
      " 1   Pclass        891 non-null    int64   \n",
      " 2   Name          891 non-null    object  \n",
      " 3   Sex           891 non-null    object  \n",
      " 4   Age           891 non-null    int64   \n",
      " 5   SibSp         891 non-null    int64   \n",
      " 6   Parch         891 non-null    int64   \n",
      " 7   Ticket        891 non-null    object  \n",
      " 8   Fare          891 non-null    float64 \n",
      " 9   Embarked      891 non-null    object  \n",
      " 10  Deck          891 non-null    object  \n",
      " 11  Family_size   891 non-null    int64   \n",
      " 12  Family_group  891 non-null    category\n",
      "dtypes: category(1), float64(1), int64(6), object(5)\n",
      "memory usage: 91.5+ KB\n"
     ]
    }
   ],
   "source": [
    "train.info()\n",
    "# 삭제 대상은 전처리 후 필요없어진 컬럼, 전처리하지 않은 컬럼중 불필요한 컬럼.\n",
    "# Name, SibSp, Parch, Ticket, Family_size"
   ]
  },
  {
   "cell_type": "code",
   "execution_count": 643,
   "id": "955d0be1-ba24-4223-968c-29836984eca2",
   "metadata": {},
   "outputs": [
    {
     "name": "stdout",
     "output_type": "stream",
     "text": [
      "<class 'pandas.core.frame.DataFrame'>\n",
      "Index: 891 entries, 1 to 891\n",
      "Data columns (total 8 columns):\n",
      " #   Column        Non-Null Count  Dtype   \n",
      "---  ------        --------------  -----   \n",
      " 0   Survived      891 non-null    int64   \n",
      " 1   Pclass        891 non-null    int64   \n",
      " 2   Sex           891 non-null    object  \n",
      " 3   Age           891 non-null    int64   \n",
      " 4   Fare          891 non-null    float64 \n",
      " 5   Embarked      891 non-null    object  \n",
      " 6   Deck          891 non-null    object  \n",
      " 7   Family_group  891 non-null    category\n",
      "dtypes: category(1), float64(1), int64(3), object(3)\n",
      "memory usage: 56.7+ KB\n"
     ]
    }
   ],
   "source": [
    "# Name, SibSp, Parch, Ticket, Family_size 삭제\n",
    "train.drop(['Name','SibSp','Parch','Ticket','Family_size'], axis = 1, inplace = True)\n",
    "train.info()"
   ]
  },
  {
   "cell_type": "code",
   "execution_count": 644,
   "id": "2855d3fa-1d89-447e-9a79-caf524ed8628",
   "metadata": {},
   "outputs": [
    {
     "name": "stdout",
     "output_type": "stream",
     "text": [
      "<class 'pandas.core.frame.DataFrame'>\n",
      "Index: 418 entries, 892 to 1309\n",
      "Data columns (total 7 columns):\n",
      " #   Column        Non-Null Count  Dtype   \n",
      "---  ------        --------------  -----   \n",
      " 0   Pclass        418 non-null    int64   \n",
      " 1   Sex           418 non-null    object  \n",
      " 2   Age           418 non-null    int64   \n",
      " 3   Fare          418 non-null    float64 \n",
      " 4   Embarked      418 non-null    object  \n",
      " 5   Deck          418 non-null    object  \n",
      " 6   Family_group  418 non-null    category\n",
      "dtypes: category(1), float64(1), int64(2), object(3)\n",
      "memory usage: 23.4+ KB\n"
     ]
    }
   ],
   "source": [
    "test.drop(['Name','SibSp','Parch','Ticket','Family_size'], axis = 1, inplace = True)\n",
    "test.info()"
   ]
  },
  {
   "cell_type": "markdown",
   "id": "609687c5-e3dc-4bcf-8e5a-dc572d7b4e6f",
   "metadata": {},
   "source": [
    "- train에는 정답데이터와 문제데이터가 하나의 프레임으로 들어가있는 상태(X_train, y_train)\n",
    "- test에는 정답데이터가 없음. (X_test)"
   ]
  },
  {
   "cell_type": "code",
   "execution_count": 646,
   "id": "9d8c09f2-b7b9-4bd8-ac0b-29213ece9ae7",
   "metadata": {},
   "outputs": [
    {
     "name": "stdout",
     "output_type": "stream",
     "text": [
      "(891, 7) (891,) (418, 7)\n"
     ]
    }
   ],
   "source": [
    "X_train = train.drop('Survived', axis = 1)\n",
    "y_train = train['Survived']\n",
    "X_test = test\n",
    "\n",
    "print(X_train.shape, y_train.shape, X_test.shape)"
   ]
  },
  {
   "cell_type": "markdown",
   "id": "b61f04cf-fba8-4b46-b669-664d46a42d76",
   "metadata": {},
   "source": [
    "- 범주형 데이터는 학습용으로 사용할 수 없으니, 수치형 변환\n",
    "- Encoding\n",
    "- One-Hot encoding > 구분 용도를 위해서."
   ]
  },
  {
   "cell_type": "code",
   "execution_count": 648,
   "id": "0ce84ccb-07d2-4f9e-a78f-b4dd4ec0f04d",
   "metadata": {},
   "outputs": [],
   "source": [
    "X_train_one_hot = pd.get_dummies(X_train)\n",
    "X_test_one_hot = pd.get_dummies(X_test)"
   ]
  },
  {
   "cell_type": "code",
   "execution_count": 649,
   "id": "7bf5db20-0501-4108-9151-8cbb32bff163",
   "metadata": {
    "scrolled": true
   },
   "outputs": [
    {
     "data": {
      "text/html": [
       "<div>\n",
       "<style scoped>\n",
       "    .dataframe tbody tr th:only-of-type {\n",
       "        vertical-align: middle;\n",
       "    }\n",
       "\n",
       "    .dataframe tbody tr th {\n",
       "        vertical-align: top;\n",
       "    }\n",
       "\n",
       "    .dataframe thead th {\n",
       "        text-align: right;\n",
       "    }\n",
       "</style>\n",
       "<table border=\"1\" class=\"dataframe\">\n",
       "  <thead>\n",
       "    <tr style=\"text-align: right;\">\n",
       "      <th></th>\n",
       "      <th>Pclass</th>\n",
       "      <th>Age</th>\n",
       "      <th>Fare</th>\n",
       "      <th>Sex_female</th>\n",
       "      <th>Sex_male</th>\n",
       "      <th>Embarked_C</th>\n",
       "      <th>Embarked_Q</th>\n",
       "      <th>Embarked_S</th>\n",
       "      <th>Deck_A</th>\n",
       "      <th>Deck_B</th>\n",
       "      <th>Deck_C</th>\n",
       "      <th>Deck_D</th>\n",
       "      <th>Deck_E</th>\n",
       "      <th>Deck_F</th>\n",
       "      <th>Deck_G</th>\n",
       "      <th>Deck_M</th>\n",
       "      <th>Deck_T</th>\n",
       "      <th>Family_group_Alone</th>\n",
       "      <th>Family_group_Small</th>\n",
       "      <th>Family_group_Large</th>\n",
       "    </tr>\n",
       "    <tr>\n",
       "      <th>PassengerId</th>\n",
       "      <th></th>\n",
       "      <th></th>\n",
       "      <th></th>\n",
       "      <th></th>\n",
       "      <th></th>\n",
       "      <th></th>\n",
       "      <th></th>\n",
       "      <th></th>\n",
       "      <th></th>\n",
       "      <th></th>\n",
       "      <th></th>\n",
       "      <th></th>\n",
       "      <th></th>\n",
       "      <th></th>\n",
       "      <th></th>\n",
       "      <th></th>\n",
       "      <th></th>\n",
       "      <th></th>\n",
       "      <th></th>\n",
       "      <th></th>\n",
       "    </tr>\n",
       "  </thead>\n",
       "  <tbody>\n",
       "    <tr>\n",
       "      <th>1</th>\n",
       "      <td>3</td>\n",
       "      <td>22</td>\n",
       "      <td>7.2500</td>\n",
       "      <td>False</td>\n",
       "      <td>True</td>\n",
       "      <td>False</td>\n",
       "      <td>False</td>\n",
       "      <td>True</td>\n",
       "      <td>False</td>\n",
       "      <td>False</td>\n",
       "      <td>False</td>\n",
       "      <td>False</td>\n",
       "      <td>False</td>\n",
       "      <td>False</td>\n",
       "      <td>False</td>\n",
       "      <td>True</td>\n",
       "      <td>False</td>\n",
       "      <td>False</td>\n",
       "      <td>True</td>\n",
       "      <td>False</td>\n",
       "    </tr>\n",
       "    <tr>\n",
       "      <th>2</th>\n",
       "      <td>1</td>\n",
       "      <td>38</td>\n",
       "      <td>71.2833</td>\n",
       "      <td>True</td>\n",
       "      <td>False</td>\n",
       "      <td>True</td>\n",
       "      <td>False</td>\n",
       "      <td>False</td>\n",
       "      <td>False</td>\n",
       "      <td>False</td>\n",
       "      <td>True</td>\n",
       "      <td>False</td>\n",
       "      <td>False</td>\n",
       "      <td>False</td>\n",
       "      <td>False</td>\n",
       "      <td>False</td>\n",
       "      <td>False</td>\n",
       "      <td>False</td>\n",
       "      <td>True</td>\n",
       "      <td>False</td>\n",
       "    </tr>\n",
       "    <tr>\n",
       "      <th>3</th>\n",
       "      <td>3</td>\n",
       "      <td>26</td>\n",
       "      <td>7.9250</td>\n",
       "      <td>True</td>\n",
       "      <td>False</td>\n",
       "      <td>False</td>\n",
       "      <td>False</td>\n",
       "      <td>True</td>\n",
       "      <td>False</td>\n",
       "      <td>False</td>\n",
       "      <td>False</td>\n",
       "      <td>False</td>\n",
       "      <td>False</td>\n",
       "      <td>False</td>\n",
       "      <td>False</td>\n",
       "      <td>True</td>\n",
       "      <td>False</td>\n",
       "      <td>True</td>\n",
       "      <td>False</td>\n",
       "      <td>False</td>\n",
       "    </tr>\n",
       "    <tr>\n",
       "      <th>4</th>\n",
       "      <td>1</td>\n",
       "      <td>35</td>\n",
       "      <td>53.1000</td>\n",
       "      <td>True</td>\n",
       "      <td>False</td>\n",
       "      <td>False</td>\n",
       "      <td>False</td>\n",
       "      <td>True</td>\n",
       "      <td>False</td>\n",
       "      <td>False</td>\n",
       "      <td>True</td>\n",
       "      <td>False</td>\n",
       "      <td>False</td>\n",
       "      <td>False</td>\n",
       "      <td>False</td>\n",
       "      <td>False</td>\n",
       "      <td>False</td>\n",
       "      <td>False</td>\n",
       "      <td>True</td>\n",
       "      <td>False</td>\n",
       "    </tr>\n",
       "    <tr>\n",
       "      <th>5</th>\n",
       "      <td>3</td>\n",
       "      <td>35</td>\n",
       "      <td>8.0500</td>\n",
       "      <td>False</td>\n",
       "      <td>True</td>\n",
       "      <td>False</td>\n",
       "      <td>False</td>\n",
       "      <td>True</td>\n",
       "      <td>False</td>\n",
       "      <td>False</td>\n",
       "      <td>False</td>\n",
       "      <td>False</td>\n",
       "      <td>False</td>\n",
       "      <td>False</td>\n",
       "      <td>False</td>\n",
       "      <td>True</td>\n",
       "      <td>False</td>\n",
       "      <td>True</td>\n",
       "      <td>False</td>\n",
       "      <td>False</td>\n",
       "    </tr>\n",
       "    <tr>\n",
       "      <th>...</th>\n",
       "      <td>...</td>\n",
       "      <td>...</td>\n",
       "      <td>...</td>\n",
       "      <td>...</td>\n",
       "      <td>...</td>\n",
       "      <td>...</td>\n",
       "      <td>...</td>\n",
       "      <td>...</td>\n",
       "      <td>...</td>\n",
       "      <td>...</td>\n",
       "      <td>...</td>\n",
       "      <td>...</td>\n",
       "      <td>...</td>\n",
       "      <td>...</td>\n",
       "      <td>...</td>\n",
       "      <td>...</td>\n",
       "      <td>...</td>\n",
       "      <td>...</td>\n",
       "      <td>...</td>\n",
       "      <td>...</td>\n",
       "    </tr>\n",
       "    <tr>\n",
       "      <th>887</th>\n",
       "      <td>2</td>\n",
       "      <td>27</td>\n",
       "      <td>13.0000</td>\n",
       "      <td>False</td>\n",
       "      <td>True</td>\n",
       "      <td>False</td>\n",
       "      <td>False</td>\n",
       "      <td>True</td>\n",
       "      <td>False</td>\n",
       "      <td>False</td>\n",
       "      <td>False</td>\n",
       "      <td>False</td>\n",
       "      <td>False</td>\n",
       "      <td>False</td>\n",
       "      <td>False</td>\n",
       "      <td>True</td>\n",
       "      <td>False</td>\n",
       "      <td>True</td>\n",
       "      <td>False</td>\n",
       "      <td>False</td>\n",
       "    </tr>\n",
       "    <tr>\n",
       "      <th>888</th>\n",
       "      <td>1</td>\n",
       "      <td>19</td>\n",
       "      <td>30.0000</td>\n",
       "      <td>True</td>\n",
       "      <td>False</td>\n",
       "      <td>False</td>\n",
       "      <td>False</td>\n",
       "      <td>True</td>\n",
       "      <td>False</td>\n",
       "      <td>True</td>\n",
       "      <td>False</td>\n",
       "      <td>False</td>\n",
       "      <td>False</td>\n",
       "      <td>False</td>\n",
       "      <td>False</td>\n",
       "      <td>False</td>\n",
       "      <td>False</td>\n",
       "      <td>True</td>\n",
       "      <td>False</td>\n",
       "      <td>False</td>\n",
       "    </tr>\n",
       "    <tr>\n",
       "      <th>889</th>\n",
       "      <td>3</td>\n",
       "      <td>21</td>\n",
       "      <td>23.4500</td>\n",
       "      <td>True</td>\n",
       "      <td>False</td>\n",
       "      <td>False</td>\n",
       "      <td>False</td>\n",
       "      <td>True</td>\n",
       "      <td>False</td>\n",
       "      <td>False</td>\n",
       "      <td>False</td>\n",
       "      <td>False</td>\n",
       "      <td>False</td>\n",
       "      <td>False</td>\n",
       "      <td>False</td>\n",
       "      <td>True</td>\n",
       "      <td>False</td>\n",
       "      <td>False</td>\n",
       "      <td>True</td>\n",
       "      <td>False</td>\n",
       "    </tr>\n",
       "    <tr>\n",
       "      <th>890</th>\n",
       "      <td>1</td>\n",
       "      <td>26</td>\n",
       "      <td>30.0000</td>\n",
       "      <td>False</td>\n",
       "      <td>True</td>\n",
       "      <td>True</td>\n",
       "      <td>False</td>\n",
       "      <td>False</td>\n",
       "      <td>False</td>\n",
       "      <td>False</td>\n",
       "      <td>True</td>\n",
       "      <td>False</td>\n",
       "      <td>False</td>\n",
       "      <td>False</td>\n",
       "      <td>False</td>\n",
       "      <td>False</td>\n",
       "      <td>False</td>\n",
       "      <td>True</td>\n",
       "      <td>False</td>\n",
       "      <td>False</td>\n",
       "    </tr>\n",
       "    <tr>\n",
       "      <th>891</th>\n",
       "      <td>3</td>\n",
       "      <td>32</td>\n",
       "      <td>7.7500</td>\n",
       "      <td>False</td>\n",
       "      <td>True</td>\n",
       "      <td>False</td>\n",
       "      <td>True</td>\n",
       "      <td>False</td>\n",
       "      <td>False</td>\n",
       "      <td>False</td>\n",
       "      <td>False</td>\n",
       "      <td>False</td>\n",
       "      <td>False</td>\n",
       "      <td>False</td>\n",
       "      <td>False</td>\n",
       "      <td>True</td>\n",
       "      <td>False</td>\n",
       "      <td>True</td>\n",
       "      <td>False</td>\n",
       "      <td>False</td>\n",
       "    </tr>\n",
       "  </tbody>\n",
       "</table>\n",
       "<p>891 rows × 20 columns</p>\n",
       "</div>"
      ],
      "text/plain": [
       "             Pclass  Age     Fare  Sex_female  Sex_male  Embarked_C  \\\n",
       "PassengerId                                                           \n",
       "1                 3   22   7.2500       False      True       False   \n",
       "2                 1   38  71.2833        True     False        True   \n",
       "3                 3   26   7.9250        True     False       False   \n",
       "4                 1   35  53.1000        True     False       False   \n",
       "5                 3   35   8.0500       False      True       False   \n",
       "...             ...  ...      ...         ...       ...         ...   \n",
       "887               2   27  13.0000       False      True       False   \n",
       "888               1   19  30.0000        True     False       False   \n",
       "889               3   21  23.4500        True     False       False   \n",
       "890               1   26  30.0000       False      True        True   \n",
       "891               3   32   7.7500       False      True       False   \n",
       "\n",
       "             Embarked_Q  Embarked_S  Deck_A  Deck_B  Deck_C  Deck_D  Deck_E  \\\n",
       "PassengerId                                                                   \n",
       "1                 False        True   False   False   False   False   False   \n",
       "2                 False       False   False   False    True   False   False   \n",
       "3                 False        True   False   False   False   False   False   \n",
       "4                 False        True   False   False    True   False   False   \n",
       "5                 False        True   False   False   False   False   False   \n",
       "...                 ...         ...     ...     ...     ...     ...     ...   \n",
       "887               False        True   False   False   False   False   False   \n",
       "888               False        True   False    True   False   False   False   \n",
       "889               False        True   False   False   False   False   False   \n",
       "890               False       False   False   False    True   False   False   \n",
       "891                True       False   False   False   False   False   False   \n",
       "\n",
       "             Deck_F  Deck_G  Deck_M  Deck_T  Family_group_Alone  \\\n",
       "PassengerId                                                       \n",
       "1             False   False    True   False               False   \n",
       "2             False   False   False   False               False   \n",
       "3             False   False    True   False                True   \n",
       "4             False   False   False   False               False   \n",
       "5             False   False    True   False                True   \n",
       "...             ...     ...     ...     ...                 ...   \n",
       "887           False   False    True   False                True   \n",
       "888           False   False   False   False                True   \n",
       "889           False   False    True   False               False   \n",
       "890           False   False   False   False                True   \n",
       "891           False   False    True   False                True   \n",
       "\n",
       "             Family_group_Small  Family_group_Large  \n",
       "PassengerId                                          \n",
       "1                          True               False  \n",
       "2                          True               False  \n",
       "3                         False               False  \n",
       "4                          True               False  \n",
       "5                         False               False  \n",
       "...                         ...                 ...  \n",
       "887                       False               False  \n",
       "888                       False               False  \n",
       "889                        True               False  \n",
       "890                       False               False  \n",
       "891                       False               False  \n",
       "\n",
       "[891 rows x 20 columns]"
      ]
     },
     "execution_count": 649,
     "metadata": {},
     "output_type": "execute_result"
    }
   ],
   "source": [
    "X_train_one_hot"
   ]
  },
  {
   "cell_type": "code",
   "execution_count": 650,
   "id": "9475322e-aa96-4702-af7e-94249f506678",
   "metadata": {
    "scrolled": true
   },
   "outputs": [
    {
     "data": {
      "text/html": [
       "<div>\n",
       "<style scoped>\n",
       "    .dataframe tbody tr th:only-of-type {\n",
       "        vertical-align: middle;\n",
       "    }\n",
       "\n",
       "    .dataframe tbody tr th {\n",
       "        vertical-align: top;\n",
       "    }\n",
       "\n",
       "    .dataframe thead th {\n",
       "        text-align: right;\n",
       "    }\n",
       "</style>\n",
       "<table border=\"1\" class=\"dataframe\">\n",
       "  <thead>\n",
       "    <tr style=\"text-align: right;\">\n",
       "      <th></th>\n",
       "      <th>Pclass</th>\n",
       "      <th>Age</th>\n",
       "      <th>Fare</th>\n",
       "      <th>Sex_female</th>\n",
       "      <th>Sex_male</th>\n",
       "      <th>Embarked_C</th>\n",
       "      <th>Embarked_Q</th>\n",
       "      <th>Embarked_S</th>\n",
       "      <th>Deck_A</th>\n",
       "      <th>Deck_B</th>\n",
       "      <th>Deck_C</th>\n",
       "      <th>Deck_D</th>\n",
       "      <th>Deck_E</th>\n",
       "      <th>Deck_F</th>\n",
       "      <th>Deck_G</th>\n",
       "      <th>Deck_M</th>\n",
       "      <th>Family_group_Alone</th>\n",
       "      <th>Family_group_Small</th>\n",
       "      <th>Family_group_Large</th>\n",
       "    </tr>\n",
       "    <tr>\n",
       "      <th>PassengerId</th>\n",
       "      <th></th>\n",
       "      <th></th>\n",
       "      <th></th>\n",
       "      <th></th>\n",
       "      <th></th>\n",
       "      <th></th>\n",
       "      <th></th>\n",
       "      <th></th>\n",
       "      <th></th>\n",
       "      <th></th>\n",
       "      <th></th>\n",
       "      <th></th>\n",
       "      <th></th>\n",
       "      <th></th>\n",
       "      <th></th>\n",
       "      <th></th>\n",
       "      <th></th>\n",
       "      <th></th>\n",
       "      <th></th>\n",
       "    </tr>\n",
       "  </thead>\n",
       "  <tbody>\n",
       "    <tr>\n",
       "      <th>892</th>\n",
       "      <td>3</td>\n",
       "      <td>34</td>\n",
       "      <td>7.8292</td>\n",
       "      <td>False</td>\n",
       "      <td>True</td>\n",
       "      <td>False</td>\n",
       "      <td>True</td>\n",
       "      <td>False</td>\n",
       "      <td>False</td>\n",
       "      <td>False</td>\n",
       "      <td>False</td>\n",
       "      <td>False</td>\n",
       "      <td>False</td>\n",
       "      <td>False</td>\n",
       "      <td>False</td>\n",
       "      <td>True</td>\n",
       "      <td>True</td>\n",
       "      <td>False</td>\n",
       "      <td>False</td>\n",
       "    </tr>\n",
       "    <tr>\n",
       "      <th>893</th>\n",
       "      <td>3</td>\n",
       "      <td>47</td>\n",
       "      <td>7.0000</td>\n",
       "      <td>True</td>\n",
       "      <td>False</td>\n",
       "      <td>False</td>\n",
       "      <td>False</td>\n",
       "      <td>True</td>\n",
       "      <td>False</td>\n",
       "      <td>False</td>\n",
       "      <td>False</td>\n",
       "      <td>False</td>\n",
       "      <td>False</td>\n",
       "      <td>False</td>\n",
       "      <td>False</td>\n",
       "      <td>True</td>\n",
       "      <td>False</td>\n",
       "      <td>True</td>\n",
       "      <td>False</td>\n",
       "    </tr>\n",
       "    <tr>\n",
       "      <th>894</th>\n",
       "      <td>2</td>\n",
       "      <td>62</td>\n",
       "      <td>9.6875</td>\n",
       "      <td>False</td>\n",
       "      <td>True</td>\n",
       "      <td>False</td>\n",
       "      <td>True</td>\n",
       "      <td>False</td>\n",
       "      <td>False</td>\n",
       "      <td>False</td>\n",
       "      <td>False</td>\n",
       "      <td>False</td>\n",
       "      <td>False</td>\n",
       "      <td>False</td>\n",
       "      <td>False</td>\n",
       "      <td>True</td>\n",
       "      <td>True</td>\n",
       "      <td>False</td>\n",
       "      <td>False</td>\n",
       "    </tr>\n",
       "    <tr>\n",
       "      <th>895</th>\n",
       "      <td>3</td>\n",
       "      <td>27</td>\n",
       "      <td>8.6625</td>\n",
       "      <td>False</td>\n",
       "      <td>True</td>\n",
       "      <td>False</td>\n",
       "      <td>False</td>\n",
       "      <td>True</td>\n",
       "      <td>False</td>\n",
       "      <td>False</td>\n",
       "      <td>False</td>\n",
       "      <td>False</td>\n",
       "      <td>False</td>\n",
       "      <td>False</td>\n",
       "      <td>False</td>\n",
       "      <td>True</td>\n",
       "      <td>True</td>\n",
       "      <td>False</td>\n",
       "      <td>False</td>\n",
       "    </tr>\n",
       "    <tr>\n",
       "      <th>896</th>\n",
       "      <td>3</td>\n",
       "      <td>22</td>\n",
       "      <td>12.2875</td>\n",
       "      <td>True</td>\n",
       "      <td>False</td>\n",
       "      <td>False</td>\n",
       "      <td>False</td>\n",
       "      <td>True</td>\n",
       "      <td>False</td>\n",
       "      <td>False</td>\n",
       "      <td>False</td>\n",
       "      <td>False</td>\n",
       "      <td>False</td>\n",
       "      <td>False</td>\n",
       "      <td>False</td>\n",
       "      <td>True</td>\n",
       "      <td>False</td>\n",
       "      <td>True</td>\n",
       "      <td>False</td>\n",
       "    </tr>\n",
       "    <tr>\n",
       "      <th>...</th>\n",
       "      <td>...</td>\n",
       "      <td>...</td>\n",
       "      <td>...</td>\n",
       "      <td>...</td>\n",
       "      <td>...</td>\n",
       "      <td>...</td>\n",
       "      <td>...</td>\n",
       "      <td>...</td>\n",
       "      <td>...</td>\n",
       "      <td>...</td>\n",
       "      <td>...</td>\n",
       "      <td>...</td>\n",
       "      <td>...</td>\n",
       "      <td>...</td>\n",
       "      <td>...</td>\n",
       "      <td>...</td>\n",
       "      <td>...</td>\n",
       "      <td>...</td>\n",
       "      <td>...</td>\n",
       "    </tr>\n",
       "    <tr>\n",
       "      <th>1305</th>\n",
       "      <td>3</td>\n",
       "      <td>25</td>\n",
       "      <td>8.0500</td>\n",
       "      <td>False</td>\n",
       "      <td>True</td>\n",
       "      <td>False</td>\n",
       "      <td>False</td>\n",
       "      <td>True</td>\n",
       "      <td>False</td>\n",
       "      <td>False</td>\n",
       "      <td>False</td>\n",
       "      <td>False</td>\n",
       "      <td>False</td>\n",
       "      <td>False</td>\n",
       "      <td>False</td>\n",
       "      <td>True</td>\n",
       "      <td>True</td>\n",
       "      <td>False</td>\n",
       "      <td>False</td>\n",
       "    </tr>\n",
       "    <tr>\n",
       "      <th>1306</th>\n",
       "      <td>1</td>\n",
       "      <td>39</td>\n",
       "      <td>108.9000</td>\n",
       "      <td>True</td>\n",
       "      <td>False</td>\n",
       "      <td>True</td>\n",
       "      <td>False</td>\n",
       "      <td>False</td>\n",
       "      <td>False</td>\n",
       "      <td>False</td>\n",
       "      <td>True</td>\n",
       "      <td>False</td>\n",
       "      <td>False</td>\n",
       "      <td>False</td>\n",
       "      <td>False</td>\n",
       "      <td>False</td>\n",
       "      <td>True</td>\n",
       "      <td>False</td>\n",
       "      <td>False</td>\n",
       "    </tr>\n",
       "    <tr>\n",
       "      <th>1307</th>\n",
       "      <td>3</td>\n",
       "      <td>38</td>\n",
       "      <td>7.2500</td>\n",
       "      <td>False</td>\n",
       "      <td>True</td>\n",
       "      <td>False</td>\n",
       "      <td>False</td>\n",
       "      <td>True</td>\n",
       "      <td>False</td>\n",
       "      <td>False</td>\n",
       "      <td>False</td>\n",
       "      <td>False</td>\n",
       "      <td>False</td>\n",
       "      <td>False</td>\n",
       "      <td>False</td>\n",
       "      <td>True</td>\n",
       "      <td>True</td>\n",
       "      <td>False</td>\n",
       "      <td>False</td>\n",
       "    </tr>\n",
       "    <tr>\n",
       "      <th>1308</th>\n",
       "      <td>3</td>\n",
       "      <td>25</td>\n",
       "      <td>8.0500</td>\n",
       "      <td>False</td>\n",
       "      <td>True</td>\n",
       "      <td>False</td>\n",
       "      <td>False</td>\n",
       "      <td>True</td>\n",
       "      <td>False</td>\n",
       "      <td>False</td>\n",
       "      <td>False</td>\n",
       "      <td>False</td>\n",
       "      <td>False</td>\n",
       "      <td>False</td>\n",
       "      <td>False</td>\n",
       "      <td>True</td>\n",
       "      <td>True</td>\n",
       "      <td>False</td>\n",
       "      <td>False</td>\n",
       "    </tr>\n",
       "    <tr>\n",
       "      <th>1309</th>\n",
       "      <td>3</td>\n",
       "      <td>25</td>\n",
       "      <td>22.3583</td>\n",
       "      <td>False</td>\n",
       "      <td>True</td>\n",
       "      <td>True</td>\n",
       "      <td>False</td>\n",
       "      <td>False</td>\n",
       "      <td>False</td>\n",
       "      <td>False</td>\n",
       "      <td>False</td>\n",
       "      <td>False</td>\n",
       "      <td>False</td>\n",
       "      <td>False</td>\n",
       "      <td>False</td>\n",
       "      <td>True</td>\n",
       "      <td>False</td>\n",
       "      <td>True</td>\n",
       "      <td>False</td>\n",
       "    </tr>\n",
       "  </tbody>\n",
       "</table>\n",
       "<p>418 rows × 19 columns</p>\n",
       "</div>"
      ],
      "text/plain": [
       "             Pclass  Age      Fare  Sex_female  Sex_male  Embarked_C  \\\n",
       "PassengerId                                                            \n",
       "892               3   34    7.8292       False      True       False   \n",
       "893               3   47    7.0000        True     False       False   \n",
       "894               2   62    9.6875       False      True       False   \n",
       "895               3   27    8.6625       False      True       False   \n",
       "896               3   22   12.2875        True     False       False   \n",
       "...             ...  ...       ...         ...       ...         ...   \n",
       "1305              3   25    8.0500       False      True       False   \n",
       "1306              1   39  108.9000        True     False        True   \n",
       "1307              3   38    7.2500       False      True       False   \n",
       "1308              3   25    8.0500       False      True       False   \n",
       "1309              3   25   22.3583       False      True        True   \n",
       "\n",
       "             Embarked_Q  Embarked_S  Deck_A  Deck_B  Deck_C  Deck_D  Deck_E  \\\n",
       "PassengerId                                                                   \n",
       "892                True       False   False   False   False   False   False   \n",
       "893               False        True   False   False   False   False   False   \n",
       "894                True       False   False   False   False   False   False   \n",
       "895               False        True   False   False   False   False   False   \n",
       "896               False        True   False   False   False   False   False   \n",
       "...                 ...         ...     ...     ...     ...     ...     ...   \n",
       "1305              False        True   False   False   False   False   False   \n",
       "1306              False       False   False   False    True   False   False   \n",
       "1307              False        True   False   False   False   False   False   \n",
       "1308              False        True   False   False   False   False   False   \n",
       "1309              False       False   False   False   False   False   False   \n",
       "\n",
       "             Deck_F  Deck_G  Deck_M  Family_group_Alone  Family_group_Small  \\\n",
       "PassengerId                                                                   \n",
       "892           False   False    True                True               False   \n",
       "893           False   False    True               False                True   \n",
       "894           False   False    True                True               False   \n",
       "895           False   False    True                True               False   \n",
       "896           False   False    True               False                True   \n",
       "...             ...     ...     ...                 ...                 ...   \n",
       "1305          False   False    True                True               False   \n",
       "1306          False   False   False                True               False   \n",
       "1307          False   False    True                True               False   \n",
       "1308          False   False    True                True               False   \n",
       "1309          False   False    True               False                True   \n",
       "\n",
       "             Family_group_Large  \n",
       "PassengerId                      \n",
       "892                       False  \n",
       "893                       False  \n",
       "894                       False  \n",
       "895                       False  \n",
       "896                       False  \n",
       "...                         ...  \n",
       "1305                      False  \n",
       "1306                      False  \n",
       "1307                      False  \n",
       "1308                      False  \n",
       "1309                      False  \n",
       "\n",
       "[418 rows x 19 columns]"
      ]
     },
     "execution_count": 650,
     "metadata": {},
     "output_type": "execute_result"
    }
   ],
   "source": [
    "X_test_one_hot"
   ]
  },
  {
   "cell_type": "code",
   "execution_count": 651,
   "id": "2867cc9e-70a5-4735-adff-c3a4e3b68e4c",
   "metadata": {},
   "outputs": [
    {
     "data": {
      "text/plain": [
       "Index(['Pclass', 'Age', 'Fare', 'Sex_female', 'Sex_male', 'Embarked_C',\n",
       "       'Embarked_Q', 'Embarked_S', 'Deck_A', 'Deck_B', 'Deck_C', 'Deck_D',\n",
       "       'Deck_E', 'Deck_F', 'Deck_G', 'Deck_M', 'Deck_T', 'Family_group_Alone',\n",
       "       'Family_group_Small', 'Family_group_Large'],\n",
       "      dtype='object')"
      ]
     },
     "execution_count": 651,
     "metadata": {},
     "output_type": "execute_result"
    }
   ],
   "source": [
    "X_train_one_hot.columns"
   ]
  },
  {
   "cell_type": "code",
   "execution_count": 652,
   "id": "d5f1be79-7c33-44c9-80ae-7ab835d3f12c",
   "metadata": {},
   "outputs": [
    {
     "data": {
      "text/plain": [
       "Index(['Pclass', 'Age', 'Fare', 'Sex_female', 'Sex_male', 'Embarked_C',\n",
       "       'Embarked_Q', 'Embarked_S', 'Deck_A', 'Deck_B', 'Deck_C', 'Deck_D',\n",
       "       'Deck_E', 'Deck_F', 'Deck_G', 'Deck_M', 'Family_group_Alone',\n",
       "       'Family_group_Small', 'Family_group_Large'],\n",
       "      dtype='object')"
      ]
     },
     "execution_count": 652,
     "metadata": {},
     "output_type": "execute_result"
    }
   ],
   "source": [
    "X_test_one_hot.columns"
   ]
  },
  {
   "cell_type": "markdown",
   "id": "3e2f16d1-d804-4c8f-a20d-b15f55cd86bb",
   "metadata": {},
   "source": [
    "- 특성 개수 맞추기\n",
    "- 부족한 컬럼명을 확인\n",
    "- set() 집합 자료구조 활용 찾아보기."
   ]
  },
  {
   "cell_type": "code",
   "execution_count": 654,
   "id": "55c70a1b-33b4-4ce9-b7f5-5f07b1d80585",
   "metadata": {},
   "outputs": [
    {
     "data": {
      "text/plain": [
       "{'Deck_T'}"
      ]
     },
     "execution_count": 654,
     "metadata": {},
     "output_type": "execute_result"
    }
   ],
   "source": [
    "# set이라는 데이터 타입(집합 자료형)\n",
    "set(X_train_one_hot.columns) - set(X_test_one_hot.columns)"
   ]
  },
  {
   "cell_type": "code",
   "execution_count": 655,
   "id": "c925b790-1d7c-46ad-9a9b-31a822cacf6c",
   "metadata": {},
   "outputs": [
    {
     "data": {
      "text/plain": [
       "PassengerId\n",
       "892     0\n",
       "893     0\n",
       "894     0\n",
       "895     0\n",
       "896     0\n",
       "       ..\n",
       "1305    0\n",
       "1306    0\n",
       "1307    0\n",
       "1308    0\n",
       "1309    0\n",
       "Name: Deck_T, Length: 418, dtype: int64"
      ]
     },
     "execution_count": 655,
     "metadata": {},
     "output_type": "execute_result"
    }
   ],
   "source": [
    "# X_test에 Deck_T 컬럼 추가\n",
    "X_test_one_hot['Deck_T'] = 0\n",
    "X_test_one_hot['Deck_T']"
   ]
  },
  {
   "cell_type": "code",
   "execution_count": 656,
   "id": "70cc4bc8-7fe7-4c9f-8cd7-a79d783a34e1",
   "metadata": {},
   "outputs": [
    {
     "name": "stdout",
     "output_type": "stream",
     "text": [
      "<class 'pandas.core.frame.DataFrame'>\n",
      "Index: 891 entries, 1 to 891\n",
      "Data columns (total 20 columns):\n",
      " #   Column              Non-Null Count  Dtype  \n",
      "---  ------              --------------  -----  \n",
      " 0   Pclass              891 non-null    int64  \n",
      " 1   Age                 891 non-null    int64  \n",
      " 2   Fare                891 non-null    float64\n",
      " 3   Sex_female          891 non-null    bool   \n",
      " 4   Sex_male            891 non-null    bool   \n",
      " 5   Embarked_C          891 non-null    bool   \n",
      " 6   Embarked_Q          891 non-null    bool   \n",
      " 7   Embarked_S          891 non-null    bool   \n",
      " 8   Deck_A              891 non-null    bool   \n",
      " 9   Deck_B              891 non-null    bool   \n",
      " 10  Deck_C              891 non-null    bool   \n",
      " 11  Deck_D              891 non-null    bool   \n",
      " 12  Deck_E              891 non-null    bool   \n",
      " 13  Deck_F              891 non-null    bool   \n",
      " 14  Deck_G              891 non-null    bool   \n",
      " 15  Deck_M              891 non-null    bool   \n",
      " 16  Deck_T              891 non-null    bool   \n",
      " 17  Family_group_Alone  891 non-null    bool   \n",
      " 18  Family_group_Small  891 non-null    bool   \n",
      " 19  Family_group_Large  891 non-null    bool   \n",
      "dtypes: bool(17), float64(1), int64(2)\n",
      "memory usage: 42.6 KB\n",
      "<class 'pandas.core.frame.DataFrame'>\n",
      "Index: 418 entries, 892 to 1309\n",
      "Data columns (total 20 columns):\n",
      " #   Column              Non-Null Count  Dtype  \n",
      "---  ------              --------------  -----  \n",
      " 0   Pclass              418 non-null    int64  \n",
      " 1   Age                 418 non-null    int64  \n",
      " 2   Fare                418 non-null    float64\n",
      " 3   Sex_female          418 non-null    bool   \n",
      " 4   Sex_male            418 non-null    bool   \n",
      " 5   Embarked_C          418 non-null    bool   \n",
      " 6   Embarked_Q          418 non-null    bool   \n",
      " 7   Embarked_S          418 non-null    bool   \n",
      " 8   Deck_A              418 non-null    bool   \n",
      " 9   Deck_B              418 non-null    bool   \n",
      " 10  Deck_C              418 non-null    bool   \n",
      " 11  Deck_D              418 non-null    bool   \n",
      " 12  Deck_E              418 non-null    bool   \n",
      " 13  Deck_F              418 non-null    bool   \n",
      " 14  Deck_G              418 non-null    bool   \n",
      " 15  Deck_M              418 non-null    bool   \n",
      " 16  Family_group_Alone  418 non-null    bool   \n",
      " 17  Family_group_Small  418 non-null    bool   \n",
      " 18  Family_group_Large  418 non-null    bool   \n",
      " 19  Deck_T              418 non-null    int64  \n",
      "dtypes: bool(16), float64(1), int64(3)\n",
      "memory usage: 22.9 KB\n"
     ]
    }
   ],
   "source": [
    "X_train_one_hot.info()\n",
    "X_test_one_hot.info()"
   ]
  },
  {
   "cell_type": "code",
   "execution_count": 657,
   "id": "5d72e520-6819-4798-b3fd-1883535ec651",
   "metadata": {},
   "outputs": [
    {
     "data": {
      "text/plain": [
       "Index(['Pclass', 'Age', 'Fare', 'Sex_female', 'Sex_male', 'Embarked_C',\n",
       "       'Embarked_Q', 'Embarked_S', 'Deck_A', 'Deck_B', 'Deck_C', 'Deck_D',\n",
       "       'Deck_E', 'Deck_F', 'Deck_G', 'Deck_M', 'Deck_T', 'Family_group_Alone',\n",
       "       'Family_group_Small', 'Family_group_Large'],\n",
       "      dtype='object')"
      ]
     },
     "execution_count": 657,
     "metadata": {},
     "output_type": "execute_result"
    }
   ],
   "source": [
    "X_train_one_hot.columns"
   ]
  },
  {
   "cell_type": "code",
   "execution_count": 658,
   "id": "dcf55080-b0a0-4465-8808-1fa4682ef482",
   "metadata": {},
   "outputs": [],
   "source": [
    "# X_train과 X_test의 컬럼 순서가 다르다.\n",
    "# X_train 컬럼의 순서로 맞춰준다.\n",
    "X_test_one_hot = X_test_one_hot[X_train_one_hot.columns]"
   ]
  },
  {
   "cell_type": "code",
   "execution_count": 659,
   "id": "3ceaad4e-dac1-4de4-9fc3-c57edc4818a2",
   "metadata": {},
   "outputs": [
    {
     "name": "stdout",
     "output_type": "stream",
     "text": [
      "(891, 20) (891,)\n",
      "(418, 20)\n"
     ]
    }
   ],
   "source": [
    "print(X_train_one_hot.shape, y_train.shape)\n",
    "print(X_test_one_hot.shape)"
   ]
  },
  {
   "cell_type": "markdown",
   "id": "c6e9a4a3-3662-4953-b9e6-1fd05cc52f50",
   "metadata": {},
   "source": [
    "------- 06/12"
   ]
  },
  {
   "cell_type": "markdown",
   "id": "ba50ef8f-64b0-4629-8f0e-c45fac69a592",
   "metadata": {},
   "source": [
    "#### 모델 선택 및 학습"
   ]
  },
  {
   "cell_type": "code",
   "execution_count": 662,
   "id": "0ea655de-08ed-4fa5-90e7-b12e7f1009b7",
   "metadata": {},
   "outputs": [],
   "source": [
    "# 필요한 라이브러리 가져오기\n",
    "from sklearn.tree import DecisionTreeClassifier\n",
    "# 교차검증 라이브러리\n",
    "from sklearn.model_selection import cross_val_score"
   ]
  },
  {
   "cell_type": "code",
   "execution_count": 773,
   "id": "b81507bc-d3da-460f-a3ae-02d38ad28763",
   "metadata": {},
   "outputs": [],
   "source": [
    "# 모델 객체 생성\n",
    "tree_model = DecisionTreeClassifier()"
   ]
  },
  {
   "cell_type": "code",
   "execution_count": 789,
   "id": "4f52b9d4-6cc1-4482-ad69-f82ed45b25db",
   "metadata": {},
   "outputs": [
    {
     "data": {
      "text/plain": [
       "array([0.81005587, 0.80898876, 0.80337079, 0.78089888, 0.8258427 ])"
      ]
     },
     "execution_count": 789,
     "metadata": {},
     "output_type": "execute_result"
    }
   ],
   "source": [
    "# 교차 검증\n",
    "cv_result = cross_val_score(tree_model, X_train_one_hot, y_train, cv = 5) # cv : 교차검증 횟수.\n",
    "cv_result"
   ]
  },
  {
   "cell_type": "code",
   "execution_count": null,
   "id": "3192d6a7-f32b-4c66-9b19-4d6431c638da",
   "metadata": {},
   "outputs": [],
   "source": []
  },
  {
   "cell_type": "code",
   "execution_count": 777,
   "id": "7cd5580d-3c78-4144-8533-3229b760c172",
   "metadata": {},
   "outputs": [
    {
     "data": {
      "text/plain": [
       "0.7946519364760529"
      ]
     },
     "execution_count": 777,
     "metadata": {},
     "output_type": "execute_result"
    }
   ],
   "source": [
    "cv_result.mean() # 평균 78%, 평가 데이터에서는 정확도가 떨어질 수 있다."
   ]
  },
  {
   "cell_type": "markdown",
   "id": "5cbc0655-f8f9-4bbd-8a9a-9d412f3648f7",
   "metadata": {},
   "source": [
    "- tree model의 하이퍼 파라미터 조정"
   ]
  },
  {
   "cell_type": "code",
   "execution_count": 783,
   "id": "b8735aa2-aef5-411d-aecc-01689bd9bdae",
   "metadata": {},
   "outputs": [],
   "source": [
    "tree_model = DecisionTreeClassifier(max_depth = 3)"
   ]
  },
  {
   "cell_type": "code",
   "execution_count": 785,
   "id": "8c31de3d-b9f2-4aaa-80cf-f38fbc3d1693",
   "metadata": {},
   "outputs": [
    {
     "data": {
      "text/plain": [
       "array([0.81005587, 0.81460674, 0.80337079, 0.78089888, 0.8258427 ])"
      ]
     },
     "execution_count": 785,
     "metadata": {},
     "output_type": "execute_result"
    }
   ],
   "source": [
    "result = cross_val_score(tree_model, X_train_one_hot, y_train, cv = 5)\n",
    "result"
   ]
  },
  {
   "cell_type": "code",
   "execution_count": 791,
   "id": "49581dbf-64de-4ad0-8da4-4e2bd8f14a69",
   "metadata": {},
   "outputs": [
    {
     "data": {
      "text/plain": [
       "0.8069549934090766"
      ]
     },
     "execution_count": 791,
     "metadata": {},
     "output_type": "execute_result"
    }
   ],
   "source": [
    "result.mean() # 80%로 성능 향상. > 과대적합이 해결되면서 성능이 향상함."
   ]
  },
  {
   "cell_type": "code",
   "execution_count": 809,
   "id": "f5371ba3-15a8-4853-8445-4dc3f87b6b13",
   "metadata": {},
   "outputs": [
    {
     "name": "stdout",
     "output_type": "stream",
     "text": [
      "depth : 1 0.7867365513778168\n",
      "depth : 2 0.773316176009039\n",
      "depth : 3 0.8058313979034587\n",
      "depth : 4 0.8092524009792228\n",
      "depth : 5 0.8148138848785387\n",
      "depth : 6 0.815956311593748\n",
      "depth : 7 0.8058439520431863\n",
      "depth : 8 0.8181846713953927\n",
      "depth : 9 0.8024982738057874\n"
     ]
    }
   ],
   "source": [
    "# 교차검증을 하면서 하이퍼파라미터 조정 확인 (1~9)\n",
    "for md in range(1,10):\n",
    "    tree_model = DecisionTreeClassifier(max_depth = md)\n",
    "    result = cross_val_score(tree_model, X_train_one_hot, y_train, cv = 5)\n",
    "    # print(result.mean())\n",
    "    print(f'depth : {md}', result.mean())"
   ]
  },
  {
   "cell_type": "code",
   "execution_count": 815,
   "id": "442607f1-b713-47b3-b608-fe375ad56881",
   "metadata": {},
   "outputs": [],
   "source": [
    "# 하이퍼파라미터 8일때에 정확도가 가장 높다 81.8% : max_depth : 8\n",
    "tree_model2 = DecisionTreeClassifier(max_depth = 6)\n",
    "\n",
    "# 학습\n",
    "tree_model2.fit(X_train_one_hot, y_train)\n",
    "\n",
    "# 예측값\n",
    "pred_tree = tree_model2.predict(X_test_one_hot)\n",
    "\n",
    "# 모델 답안지 작성 - tree_model_(number).csv\n",
    "result2 = pd.read_csv('./data/gender_submission.csv')\n",
    "result2['Survived'] = pred_tree\n",
    "result2.to_csv('./data/tree_model_02.csv', index = False)"
   ]
  },
  {
   "cell_type": "code",
   "execution_count": 825,
   "id": "bfde1fa9-14a6-4c92-8fac-d7dbd290b3dc",
   "metadata": {},
   "outputs": [
    {
     "data": {
      "text/plain": [
       "array([0.12587444, 0.11648766, 0.08001609, 0.50258411, 0.        ,\n",
       "       0.00301714, 0.        , 0.0083284 , 0.        , 0.        ,\n",
       "       0.00403921, 0.        , 0.01510388, 0.        , 0.        ,\n",
       "       0.05694591, 0.        , 0.        , 0.0470039 , 0.04059924])"
      ]
     },
     "execution_count": 825,
     "metadata": {},
     "output_type": "execute_result"
    }
   ],
   "source": [
    "# tree_model2 가 어떤 특성을 중요하게 생각하는지 특성 중요도 확인\n",
    "fi = tree_model2.feature_importances_\n",
    "fi"
   ]
  },
  {
   "cell_type": "code",
   "execution_count": 837,
   "id": "1176f504-1f11-4910-9b10-367d526b8b50",
   "metadata": {
    "scrolled": true
   },
   "outputs": [
    {
     "data": {
      "text/html": [
       "<div>\n",
       "<style scoped>\n",
       "    .dataframe tbody tr th:only-of-type {\n",
       "        vertical-align: middle;\n",
       "    }\n",
       "\n",
       "    .dataframe tbody tr th {\n",
       "        vertical-align: top;\n",
       "    }\n",
       "\n",
       "    .dataframe thead th {\n",
       "        text-align: right;\n",
       "    }\n",
       "</style>\n",
       "<table border=\"1\" class=\"dataframe\">\n",
       "  <thead>\n",
       "    <tr style=\"text-align: right;\">\n",
       "      <th></th>\n",
       "      <th>imp</th>\n",
       "    </tr>\n",
       "  </thead>\n",
       "  <tbody>\n",
       "    <tr>\n",
       "      <th>Pclass</th>\n",
       "      <td>0.125874</td>\n",
       "    </tr>\n",
       "    <tr>\n",
       "      <th>Age</th>\n",
       "      <td>0.116488</td>\n",
       "    </tr>\n",
       "    <tr>\n",
       "      <th>Fare</th>\n",
       "      <td>0.080016</td>\n",
       "    </tr>\n",
       "    <tr>\n",
       "      <th>Sex_female</th>\n",
       "      <td>0.502584</td>\n",
       "    </tr>\n",
       "    <tr>\n",
       "      <th>Sex_male</th>\n",
       "      <td>0.000000</td>\n",
       "    </tr>\n",
       "    <tr>\n",
       "      <th>Embarked_C</th>\n",
       "      <td>0.003017</td>\n",
       "    </tr>\n",
       "    <tr>\n",
       "      <th>Embarked_Q</th>\n",
       "      <td>0.000000</td>\n",
       "    </tr>\n",
       "    <tr>\n",
       "      <th>Embarked_S</th>\n",
       "      <td>0.008328</td>\n",
       "    </tr>\n",
       "    <tr>\n",
       "      <th>Deck_A</th>\n",
       "      <td>0.000000</td>\n",
       "    </tr>\n",
       "    <tr>\n",
       "      <th>Deck_B</th>\n",
       "      <td>0.000000</td>\n",
       "    </tr>\n",
       "    <tr>\n",
       "      <th>Deck_C</th>\n",
       "      <td>0.004039</td>\n",
       "    </tr>\n",
       "    <tr>\n",
       "      <th>Deck_D</th>\n",
       "      <td>0.000000</td>\n",
       "    </tr>\n",
       "    <tr>\n",
       "      <th>Deck_E</th>\n",
       "      <td>0.015104</td>\n",
       "    </tr>\n",
       "    <tr>\n",
       "      <th>Deck_F</th>\n",
       "      <td>0.000000</td>\n",
       "    </tr>\n",
       "    <tr>\n",
       "      <th>Deck_G</th>\n",
       "      <td>0.000000</td>\n",
       "    </tr>\n",
       "    <tr>\n",
       "      <th>Deck_M</th>\n",
       "      <td>0.056946</td>\n",
       "    </tr>\n",
       "    <tr>\n",
       "      <th>Deck_T</th>\n",
       "      <td>0.000000</td>\n",
       "    </tr>\n",
       "    <tr>\n",
       "      <th>Family_group_Alone</th>\n",
       "      <td>0.000000</td>\n",
       "    </tr>\n",
       "    <tr>\n",
       "      <th>Family_group_Small</th>\n",
       "      <td>0.047004</td>\n",
       "    </tr>\n",
       "    <tr>\n",
       "      <th>Family_group_Large</th>\n",
       "      <td>0.040599</td>\n",
       "    </tr>\n",
       "  </tbody>\n",
       "</table>\n",
       "</div>"
      ],
      "text/plain": [
       "                         imp\n",
       "Pclass              0.125874\n",
       "Age                 0.116488\n",
       "Fare                0.080016\n",
       "Sex_female          0.502584\n",
       "Sex_male            0.000000\n",
       "Embarked_C          0.003017\n",
       "Embarked_Q          0.000000\n",
       "Embarked_S          0.008328\n",
       "Deck_A              0.000000\n",
       "Deck_B              0.000000\n",
       "Deck_C              0.004039\n",
       "Deck_D              0.000000\n",
       "Deck_E              0.015104\n",
       "Deck_F              0.000000\n",
       "Deck_G              0.000000\n",
       "Deck_M              0.056946\n",
       "Deck_T              0.000000\n",
       "Family_group_Alone  0.000000\n",
       "Family_group_Small  0.047004\n",
       "Family_group_Large  0.040599"
      ]
     },
     "execution_count": 837,
     "metadata": {},
     "output_type": "execute_result"
    }
   ],
   "source": [
    "fi_s = pd.DataFrame(fi, index = X_train_one_hot.columns, columns = ['imp'])\n",
    "fi_s"
   ]
  },
  {
   "cell_type": "code",
   "execution_count": 851,
   "id": "a0f7c724-cebf-4d97-99d1-daa176c5c3be",
   "metadata": {},
   "outputs": [
    {
     "data": {
      "text/plain": [
       "<Figure size 500x500 with 0 Axes>"
      ]
     },
     "metadata": {},
     "output_type": "display_data"
    },
    {
     "data": {
      "image/png": "[encoded data removed]",
      "text/plain": [
       "<Figure size 640x480 with 1 Axes>"
      ]
     },
     "metadata": {},
     "output_type": "display_data"
    }
   ],
   "source": [
    "plt.figure(figsize = (5,5))\n",
    "fi_s.sort_values('imp', ascending = True).plot.barh()\n",
    "plt.show()"
   ]
  },
  {
   "cell_type": "markdown",
   "id": "ddd7b05c-cf7c-47f8-b30a-66dd39c7ca2b",
   "metadata": {},
   "source": [
    "### 앙상블\n",
    "- 여러 모델을 결합하는 방식으로 성능을 올리는 기법\n",
    "1. 보팅(Voting)\n",
    "   - 여러 다른 종류의 모델이 예측한 결과를 투표(분류) 혹은 평균(회귀)을 통해 최종 결정\n",
    "     A. 하드보팅(Hard-Voting) : 다수결\n",
    "     B. 소프트보팅(Soft-Voting) : 확률값을 통한 결정\n",
    "2. 배깅(Bagging)\n",
    "   - 여러 같은 종류의 모델이 예측한 결과를 투표(분류) 혹은 평균(회귀)을 통해 최종 결정\n",
    "     A. RandomForest (Decision Tree를 여러개 사용하는 모델)\n",
    "3. 부스팅(Boosting)\n",
    "   - 여러 모델이 순차적으로 학습-예측하며 잘못 예측한 데이터에 가중치를 부여해 오류를 개선해나가면서 학습하는 방식\n",
    "     - AdaBoost, GradientBoost, eXtremeGradientBoost, LightGradientBoost\n",
    "     - 후속 모델이 이전 모델의 잘못된 예측을 수정하면서 성능이 점점 좋아지는 방식"
   ]
  },
  {
   "cell_type": "code",
   "execution_count": 929,
   "id": "02b8dc67-3b9e-4503-906b-81bccbb520d1",
   "metadata": {},
   "outputs": [],
   "source": [
    "# 필요한 라이브러리 불러오기\n",
    "from sklearn.ensemble import VotingClassifier\n",
    "from sklearn.ensemble import RandomForestClassifier\n",
    "from sklearn.ensemble import AdaBoostClassifier\n",
    "from sklearn.ensemble import GradientBoostingClassifier\n",
    "from sklearn.ensemble import BaggingClassifier"
   ]
  },
  {
   "cell_type": "markdown",
   "id": "f0fc36b5-95aa-4a19-9645-759990d1144e",
   "metadata": {},
   "source": [
    "### 랜덤포레스트"
   ]
  },
  {
   "cell_type": "code",
   "execution_count": 858,
   "id": "f32e7091-a993-4197-85e6-80843b2098b1",
   "metadata": {},
   "outputs": [],
   "source": [
    "forest_model = RandomForestClassifier(n_estimators = 100, # 트리의 개수\n",
    "                                     max_features = 5, # 각각의 트리가 선택할 특성개수의 최대\n",
    "                                     max_depth = 4,\n",
    "                                     random_state =1)"
   ]
  },
  {
   "cell_type": "code",
   "execution_count": 860,
   "id": "d8c8e47a-3be8-4037-ab4d-918334f68c32",
   "metadata": {},
   "outputs": [
    {
     "data": {
      "text/plain": [
       "array([0.82681564, 0.82022472, 0.80898876, 0.79775281, 0.84269663])"
      ]
     },
     "execution_count": 860,
     "metadata": {},
     "output_type": "execute_result"
    }
   ],
   "source": [
    "# 랜덤포레스트 모델 교차검증\n",
    "result_RF = cross_val_score(forest_model,\n",
    "                            X_train_one_hot,\n",
    "                            y_train,\n",
    "                            cv = 5)\n",
    "result_RF"
   ]
  },
  {
   "cell_type": "code",
   "execution_count": 862,
   "id": "30dfb92f-81a8-45ec-8b0c-f4a0c2109736",
   "metadata": {},
   "outputs": [
    {
     "data": {
      "text/plain": [
       "0.819295712761283"
      ]
     },
     "execution_count": 862,
     "metadata": {},
     "output_type": "execute_result"
    }
   ],
   "source": [
    "result_RF.mean()"
   ]
  },
  {
   "cell_type": "markdown",
   "id": "88c9c7cf-c8b7-49e6-8efc-699137faa9b7",
   "metadata": {},
   "source": [
    "#### 에이다 부스팅"
   ]
  },
  {
   "cell_type": "code",
   "execution_count": 867,
   "id": "556e1860-fda1-46ce-8b37-080b8ff09093",
   "metadata": {},
   "outputs": [],
   "source": [
    "ada_model = AdaBoostClassifier(n_estimators = 100,\n",
    "                              random_state = 1)"
   ]
  },
  {
   "cell_type": "code",
   "execution_count": 869,
   "id": "02001ea9-d481-411c-9ca0-3085ac6b6747",
   "metadata": {},
   "outputs": [
    {
     "name": "stderr",
     "output_type": "stream",
     "text": [
      "C:\\Users\\a\\anaconda3\\Lib\\site-packages\\sklearn\\ensemble\\_weight_boosting.py:527: FutureWarning: The SAMME.R algorithm (the default) is deprecated and will be removed in 1.6. Use the SAMME algorithm to circumvent this warning.\n",
      "  warnings.warn(\n",
      "C:\\Users\\a\\anaconda3\\Lib\\site-packages\\sklearn\\ensemble\\_weight_boosting.py:527: FutureWarning: The SAMME.R algorithm (the default) is deprecated and will be removed in 1.6. Use the SAMME algorithm to circumvent this warning.\n",
      "  warnings.warn(\n",
      "C:\\Users\\a\\anaconda3\\Lib\\site-packages\\sklearn\\ensemble\\_weight_boosting.py:527: FutureWarning: The SAMME.R algorithm (the default) is deprecated and will be removed in 1.6. Use the SAMME algorithm to circumvent this warning.\n",
      "  warnings.warn(\n",
      "C:\\Users\\a\\anaconda3\\Lib\\site-packages\\sklearn\\ensemble\\_weight_boosting.py:527: FutureWarning: The SAMME.R algorithm (the default) is deprecated and will be removed in 1.6. Use the SAMME algorithm to circumvent this warning.\n",
      "  warnings.warn(\n",
      "C:\\Users\\a\\anaconda3\\Lib\\site-packages\\sklearn\\ensemble\\_weight_boosting.py:527: FutureWarning: The SAMME.R algorithm (the default) is deprecated and will be removed in 1.6. Use the SAMME algorithm to circumvent this warning.\n",
      "  warnings.warn(\n"
     ]
    },
    {
     "data": {
      "text/plain": [
       "array([0.77653631, 0.81460674, 0.80898876, 0.8258427 , 0.83707865])"
      ]
     },
     "execution_count": 869,
     "metadata": {},
     "output_type": "execute_result"
    }
   ],
   "source": [
    "result_ada = cross_val_score(ada_model,\n",
    "                             X_train_one_hot,\n",
    "                             y_train,\n",
    "                             cv = 5)\n",
    "result_ada"
   ]
  },
  {
   "cell_type": "code",
   "execution_count": 871,
   "id": "485d116e-bfbb-47ab-bdab-3771b998bf43",
   "metadata": {},
   "outputs": [
    {
     "data": {
      "text/plain": [
       "0.8126106333563493"
      ]
     },
     "execution_count": 871,
     "metadata": {},
     "output_type": "execute_result"
    }
   ],
   "source": [
    "result_ada.mean()"
   ]
  },
  {
   "cell_type": "markdown",
   "id": "7990c84c-d0d5-4ec1-ac8d-80999c1d4444",
   "metadata": {},
   "source": [
    "### 보팅"
   ]
  },
  {
   "cell_type": "code",
   "execution_count": 925,
   "id": "44b32be7-7fef-4174-8d5b-c5a7f068f3f8",
   "metadata": {},
   "outputs": [],
   "source": [
    "voting_model = VotingClassifier(estimators = [('tree1',tree_model2),\n",
    "                                             ('forest',forest_model),\n",
    "                                             ('ada',ada_model)],\n",
    "                                voting = 'soft'\n",
    "                                )"
   ]
  },
  {
   "cell_type": "code",
   "execution_count": 927,
   "id": "d85e8c8f-a55a-47d8-9599-4b7ac0dccbdc",
   "metadata": {},
   "outputs": [
    {
     "name": "stderr",
     "output_type": "stream",
     "text": [
      "C:\\Users\\a\\anaconda3\\Lib\\site-packages\\sklearn\\ensemble\\_weight_boosting.py:527: FutureWarning: The SAMME.R algorithm (the default) is deprecated and will be removed in 1.6. Use the SAMME algorithm to circumvent this warning.\n",
      "  warnings.warn(\n",
      "C:\\Users\\a\\anaconda3\\Lib\\site-packages\\sklearn\\ensemble\\_weight_boosting.py:527: FutureWarning: The SAMME.R algorithm (the default) is deprecated and will be removed in 1.6. Use the SAMME algorithm to circumvent this warning.\n",
      "  warnings.warn(\n",
      "C:\\Users\\a\\anaconda3\\Lib\\site-packages\\sklearn\\ensemble\\_weight_boosting.py:527: FutureWarning: The SAMME.R algorithm (the default) is deprecated and will be removed in 1.6. Use the SAMME algorithm to circumvent this warning.\n",
      "  warnings.warn(\n",
      "C:\\Users\\a\\anaconda3\\Lib\\site-packages\\sklearn\\ensemble\\_weight_boosting.py:527: FutureWarning: The SAMME.R algorithm (the default) is deprecated and will be removed in 1.6. Use the SAMME algorithm to circumvent this warning.\n",
      "  warnings.warn(\n",
      "C:\\Users\\a\\anaconda3\\Lib\\site-packages\\sklearn\\ensemble\\_weight_boosting.py:527: FutureWarning: The SAMME.R algorithm (the default) is deprecated and will be removed in 1.6. Use the SAMME algorithm to circumvent this warning.\n",
      "  warnings.warn(\n"
     ]
    },
    {
     "data": {
      "text/plain": [
       "array([0.81005587, 0.80337079, 0.83146067, 0.80898876, 0.84269663])"
      ]
     },
     "execution_count": 927,
     "metadata": {},
     "output_type": "execute_result"
    }
   ],
   "source": [
    "result_voting = cross_val_score(voting_model,\n",
    "                                X_train_one_hot,\n",
    "                                y_train,\n",
    "                                cv = 5)\n",
    "result_voting"
   ]
  },
  {
   "cell_type": "code",
   "execution_count": 880,
   "id": "2df88e3b-be7b-47c4-a2b2-524bc281f978",
   "metadata": {},
   "outputs": [
    {
     "data": {
      "text/plain": [
       "0.8204318624066286"
      ]
     },
     "execution_count": 880,
     "metadata": {},
     "output_type": "execute_result"
    }
   ],
   "source": [
    "result_voting.mean()"
   ]
  },
  {
   "cell_type": "markdown",
   "id": "064e50a3-e41e-47e7-9795-7164ab9c21c3",
   "metadata": {},
   "source": [
    "XGBoost, LightGBM"
   ]
  },
  {
   "cell_type": "code",
   "execution_count": 889,
   "id": "4f5f5976-fd60-48c1-aeb4-9b1a7e7e37e4",
   "metadata": {},
   "outputs": [
    {
     "name": "stdout",
     "output_type": "stream",
     "text": [
      "Requirement already satisfied: xgboost in c:\\users\\a\\anaconda3\\lib\\site-packages (3.0.2)\n",
      "Requirement already satisfied: numpy in c:\\users\\a\\anaconda3\\lib\\site-packages (from xgboost) (1.26.4)\n",
      "Requirement already satisfied: scipy in c:\\users\\a\\anaconda3\\lib\\site-packages (from xgboost) (1.13.1)\n"
     ]
    }
   ],
   "source": [
    "# xgboost 설치\n",
    "!pip install xgboost"
   ]
  },
  {
   "cell_type": "code",
   "execution_count": 891,
   "id": "cef67943-44e1-42bc-b20c-4f3605cadf84",
   "metadata": {},
   "outputs": [
    {
     "name": "stdout",
     "output_type": "stream",
     "text": [
      "Requirement already satisfied: lightgbm in c:\\users\\a\\anaconda3\\lib\\site-packages (4.6.0)\n",
      "Requirement already satisfied: numpy>=1.17.0 in c:\\users\\a\\anaconda3\\lib\\site-packages (from lightgbm) (1.26.4)\n",
      "Requirement already satisfied: scipy in c:\\users\\a\\anaconda3\\lib\\site-packages (from lightgbm) (1.13.1)\n"
     ]
    }
   ],
   "source": [
    "# light gbm 설치\n",
    "!pip install lightgbm"
   ]
  },
  {
   "cell_type": "code",
   "execution_count": 893,
   "id": "6efe71c6-1dd5-44b5-82bc-544f425d01e8",
   "metadata": {},
   "outputs": [],
   "source": [
    "from xgboost import XGBClassifier\n",
    "from lightgbm import LGBMClassifier"
   ]
  },
  {
   "cell_type": "code",
   "execution_count": 895,
   "id": "aa8e724e-53d1-496d-bf3f-b39c7792f2c7",
   "metadata": {},
   "outputs": [],
   "source": [
    "xg_model = XGBClassifier(n_estimators = 100,\n",
    "                         random_state = 1)"
   ]
  },
  {
   "cell_type": "code",
   "execution_count": 901,
   "id": "a9facf59-4798-436b-a202-b8f8536c053e",
   "metadata": {},
   "outputs": [
    {
     "name": "stdout",
     "output_type": "stream",
     "text": [
      "<class 'pandas.core.series.Series'>\n",
      "Index: 891 entries, 1 to 891\n",
      "Series name: Survived\n",
      "Non-Null Count  Dtype\n",
      "--------------  -----\n",
      "891 non-null    int64\n",
      "dtypes: int64(1)\n",
      "memory usage: 13.9 KB\n"
     ]
    }
   ],
   "source": [
    "y_train.info()"
   ]
  },
  {
   "cell_type": "code",
   "execution_count": 913,
   "id": "abab2a40-881b-4d13-b660-d5162d706480",
   "metadata": {},
   "outputs": [
    {
     "data": {
      "text/plain": [
       "array([0.79329609, 0.80898876, 0.84831461, 0.79775281, 0.85393258])"
      ]
     },
     "execution_count": 913,
     "metadata": {},
     "output_type": "execute_result"
    }
   ],
   "source": [
    "result_xg = cross_val_score(xg_model,\n",
    "                                X_train_one_hot,\n",
    "                                y_train,\n",
    "                                cv = 5)\n",
    "result_xg"
   ]
  },
  {
   "cell_type": "code",
   "execution_count": 915,
   "id": "3c91baf3-e2e7-4198-b949-1117cf171254",
   "metadata": {},
   "outputs": [
    {
     "data": {
      "text/plain": [
       "0.8204569706860838"
      ]
     },
     "execution_count": 915,
     "metadata": {},
     "output_type": "execute_result"
    }
   ],
   "source": [
    "result_xg.mean()"
   ]
  },
  {
   "cell_type": "markdown",
   "id": "6e0f60b6-fa4d-4229-9903-0d9cd0315604",
   "metadata": {},
   "source": [
    "LightGBM"
   ]
  },
  {
   "cell_type": "code",
   "execution_count": 918,
   "id": "8e2fa820-da0c-4e1b-9962-eaad14439cb3",
   "metadata": {},
   "outputs": [],
   "source": [
    "light_model = LGBMClassifier(n_estimators = 100,\n",
    "                             random_state = 1)"
   ]
  },
  {
   "cell_type": "code",
   "execution_count": 920,
   "id": "dc62f02f-669c-41f2-93aa-8c6c82a9fd56",
   "metadata": {
    "scrolled": true
   },
   "outputs": [
    {
     "name": "stdout",
     "output_type": "stream",
     "text": [
      "[LightGBM] [Info] Number of positive: 273, number of negative: 439\n",
      "[LightGBM] [Info] Auto-choosing row-wise multi-threading, the overhead of testing was 0.000598 seconds.\n",
      "You can set `force_row_wise=true` to remove the overhead.\n",
      "And if memory is not enough, you can set `force_col_wise=true`.\n",
      "[LightGBM] [Info] Total Bins 207\n",
      "[LightGBM] [Info] Number of data points in the train set: 712, number of used features: 16\n",
      "[LightGBM] [Info] [binary:BoostFromScore]: pavg=0.383427 -> initscore=-0.475028\n",
      "[LightGBM] [Info] Start training from score -0.475028\n",
      "[LightGBM] [Warning] No further splits with positive gain, best gain: -inf\n",
      "[LightGBM] [Warning] No further splits with positive gain, best gain: -inf\n",
      "[LightGBM] [Warning] No further splits with positive gain, best gain: -inf\n",
      "[LightGBM] [Warning] No further splits with positive gain, best gain: -inf\n",
      "[LightGBM] [Warning] No further splits with positive gain, best gain: -inf\n",
      "[LightGBM] [Warning] No further splits with positive gain, best gain: -inf\n",
      "[LightGBM] [Warning] No further splits with positive gain, best gain: -inf\n",
      "[LightGBM] [Warning] No further splits with positive gain, best gain: -inf\n",
      "[LightGBM] [Warning] No further splits with positive gain, best gain: -inf\n",
      "[LightGBM] [Warning] No further splits with positive gain, best gain: -inf\n",
      "[LightGBM] [Warning] No further splits with positive gain, best gain: -inf\n",
      "[LightGBM] [Warning] No further splits with positive gain, best gain: -inf\n",
      "[LightGBM] [Warning] No further splits with positive gain, best gain: -inf\n",
      "[LightGBM] [Warning] No further splits with positive gain, best gain: -inf\n",
      "[LightGBM] [Warning] No further splits with positive gain, best gain: -inf\n",
      "[LightGBM] [Warning] No further splits with positive gain, best gain: -inf\n",
      "[LightGBM] [Warning] No further splits with positive gain, best gain: -inf\n",
      "[LightGBM] [Warning] No further splits with positive gain, best gain: -inf\n",
      "[LightGBM] [Warning] No further splits with positive gain, best gain: -inf\n",
      "[LightGBM] [Warning] No further splits with positive gain, best gain: -inf\n",
      "[LightGBM] [Warning] No further splits with positive gain, best gain: -inf\n",
      "[LightGBM] [Warning] No further splits with positive gain, best gain: -inf\n",
      "[LightGBM] [Warning] No further splits with positive gain, best gain: -inf\n",
      "[LightGBM] [Warning] No further splits with positive gain, best gain: -inf\n",
      "[LightGBM] [Warning] No further splits with positive gain, best gain: -inf\n",
      "[LightGBM] [Warning] No further splits with positive gain, best gain: -inf\n",
      "[LightGBM] [Warning] No further splits with positive gain, best gain: -inf\n",
      "[LightGBM] [Warning] No further splits with positive gain, best gain: -inf\n",
      "[LightGBM] [Warning] No further splits with positive gain, best gain: -inf\n",
      "[LightGBM] [Warning] No further splits with positive gain, best gain: -inf\n",
      "[LightGBM] [Warning] No further splits with positive gain, best gain: -inf\n",
      "[LightGBM] [Warning] No further splits with positive gain, best gain: -inf\n",
      "[LightGBM] [Warning] No further splits with positive gain, best gain: -inf\n",
      "[LightGBM] [Warning] No further splits with positive gain, best gain: -inf\n",
      "[LightGBM] [Warning] No further splits with positive gain, best gain: -inf\n",
      "[LightGBM] [Warning] No further splits with positive gain, best gain: -inf\n",
      "[LightGBM] [Warning] No further splits with positive gain, best gain: -inf\n",
      "[LightGBM] [Warning] No further splits with positive gain, best gain: -inf\n",
      "[LightGBM] [Warning] No further splits with positive gain, best gain: -inf\n",
      "[LightGBM] [Warning] No further splits with positive gain, best gain: -inf\n",
      "[LightGBM] [Warning] No further splits with positive gain, best gain: -inf\n",
      "[LightGBM] [Warning] No further splits with positive gain, best gain: -inf\n",
      "[LightGBM] [Warning] No further splits with positive gain, best gain: -inf\n",
      "[LightGBM] [Warning] No further splits with positive gain, best gain: -inf\n",
      "[LightGBM] [Warning] No further splits with positive gain, best gain: -inf\n",
      "[LightGBM] [Warning] No further splits with positive gain, best gain: -inf\n",
      "[LightGBM] [Warning] No further splits with positive gain, best gain: -inf\n",
      "[LightGBM] [Warning] No further splits with positive gain, best gain: -inf\n",
      "[LightGBM] [Warning] No further splits with positive gain, best gain: -inf\n",
      "[LightGBM] [Warning] No further splits with positive gain, best gain: -inf\n",
      "[LightGBM] [Warning] No further splits with positive gain, best gain: -inf\n",
      "[LightGBM] [Warning] No further splits with positive gain, best gain: -inf\n",
      "[LightGBM] [Warning] No further splits with positive gain, best gain: -inf\n",
      "[LightGBM] [Warning] No further splits with positive gain, best gain: -inf\n",
      "[LightGBM] [Warning] No further splits with positive gain, best gain: -inf\n",
      "[LightGBM] [Warning] No further splits with positive gain, best gain: -inf\n",
      "[LightGBM] [Warning] No further splits with positive gain, best gain: -inf\n",
      "[LightGBM] [Warning] No further splits with positive gain, best gain: -inf\n",
      "[LightGBM] [Warning] No further splits with positive gain, best gain: -inf\n",
      "[LightGBM] [Warning] No further splits with positive gain, best gain: -inf\n",
      "[LightGBM] [Warning] No further splits with positive gain, best gain: -inf\n",
      "[LightGBM] [Warning] No further splits with positive gain, best gain: -inf\n",
      "[LightGBM] [Warning] No further splits with positive gain, best gain: -inf\n",
      "[LightGBM] [Warning] No further splits with positive gain, best gain: -inf\n",
      "[LightGBM] [Warning] No further splits with positive gain, best gain: -inf\n",
      "[LightGBM] [Warning] No further splits with positive gain, best gain: -inf\n",
      "[LightGBM] [Warning] No further splits with positive gain, best gain: -inf\n",
      "[LightGBM] [Warning] No further splits with positive gain, best gain: -inf\n",
      "[LightGBM] [Warning] No further splits with positive gain, best gain: -inf\n",
      "[LightGBM] [Warning] No further splits with positive gain, best gain: -inf\n",
      "[LightGBM] [Warning] No further splits with positive gain, best gain: -inf\n",
      "[LightGBM] [Warning] No further splits with positive gain, best gain: -inf\n",
      "[LightGBM] [Warning] No further splits with positive gain, best gain: -inf\n",
      "[LightGBM] [Warning] No further splits with positive gain, best gain: -inf\n",
      "[LightGBM] [Warning] No further splits with positive gain, best gain: -inf\n",
      "[LightGBM] [Warning] No further splits with positive gain, best gain: -inf\n",
      "[LightGBM] [Warning] No further splits with positive gain, best gain: -inf\n",
      "[LightGBM] [Warning] No further splits with positive gain, best gain: -inf\n",
      "[LightGBM] [Warning] No further splits with positive gain, best gain: -inf\n",
      "[LightGBM] [Warning] No further splits with positive gain, best gain: -inf\n",
      "[LightGBM] [Warning] No further splits with positive gain, best gain: -inf\n",
      "[LightGBM] [Warning] No further splits with positive gain, best gain: -inf\n",
      "[LightGBM] [Warning] No further splits with positive gain, best gain: -inf\n",
      "[LightGBM] [Warning] No further splits with positive gain, best gain: -inf\n",
      "[LightGBM] [Warning] No further splits with positive gain, best gain: -inf\n",
      "[LightGBM] [Warning] No further splits with positive gain, best gain: -inf\n",
      "[LightGBM] [Warning] No further splits with positive gain, best gain: -inf\n",
      "[LightGBM] [Warning] No further splits with positive gain, best gain: -inf\n",
      "[LightGBM] [Warning] No further splits with positive gain, best gain: -inf\n",
      "[LightGBM] [Warning] No further splits with positive gain, best gain: -inf\n",
      "[LightGBM] [Warning] No further splits with positive gain, best gain: -inf\n",
      "[LightGBM] [Warning] No further splits with positive gain, best gain: -inf\n",
      "[LightGBM] [Warning] No further splits with positive gain, best gain: -inf\n",
      "[LightGBM] [Warning] No further splits with positive gain, best gain: -inf\n",
      "[LightGBM] [Warning] No further splits with positive gain, best gain: -inf\n",
      "[LightGBM] [Warning] No further splits with positive gain, best gain: -inf\n",
      "[LightGBM] [Warning] No further splits with positive gain, best gain: -inf\n",
      "[LightGBM] [Info] Number of positive: 274, number of negative: 439\n",
      "[LightGBM] [Info] Auto-choosing col-wise multi-threading, the overhead of testing was 0.000327 seconds.\n",
      "You can set `force_col_wise=true` to remove the overhead.\n",
      "[LightGBM] [Info] Total Bins 206\n",
      "[LightGBM] [Info] Number of data points in the train set: 713, number of used features: 16\n",
      "[LightGBM] [Info] [binary:BoostFromScore]: pavg=0.384292 -> initscore=-0.471371\n",
      "[LightGBM] [Info] Start training from score -0.471371\n",
      "[LightGBM] [Warning] No further splits with positive gain, best gain: -inf\n",
      "[LightGBM] [Warning] No further splits with positive gain, best gain: -inf\n",
      "[LightGBM] [Warning] No further splits with positive gain, best gain: -inf\n",
      "[LightGBM] [Warning] No further splits with positive gain, best gain: -inf\n",
      "[LightGBM] [Warning] No further splits with positive gain, best gain: -inf\n",
      "[LightGBM] [Warning] No further splits with positive gain, best gain: -inf\n",
      "[LightGBM] [Warning] No further splits with positive gain, best gain: -inf\n",
      "[LightGBM] [Warning] No further splits with positive gain, best gain: -inf\n",
      "[LightGBM] [Warning] No further splits with positive gain, best gain: -inf\n",
      "[LightGBM] [Warning] No further splits with positive gain, best gain: -inf\n",
      "[LightGBM] [Warning] No further splits with positive gain, best gain: -inf\n",
      "[LightGBM] [Warning] No further splits with positive gain, best gain: -inf\n",
      "[LightGBM] [Warning] No further splits with positive gain, best gain: -inf\n",
      "[LightGBM] [Warning] No further splits with positive gain, best gain: -inf\n",
      "[LightGBM] [Warning] No further splits with positive gain, best gain: -inf\n",
      "[LightGBM] [Warning] No further splits with positive gain, best gain: -inf\n",
      "[LightGBM] [Warning] No further splits with positive gain, best gain: -inf\n",
      "[LightGBM] [Warning] No further splits with positive gain, best gain: -inf\n",
      "[LightGBM] [Warning] No further splits with positive gain, best gain: -inf\n",
      "[LightGBM] [Warning] No further splits with positive gain, best gain: -inf\n",
      "[LightGBM] [Warning] No further splits with positive gain, best gain: -inf\n",
      "[LightGBM] [Warning] No further splits with positive gain, best gain: -inf\n",
      "[LightGBM] [Warning] No further splits with positive gain, best gain: -inf\n",
      "[LightGBM] [Warning] No further splits with positive gain, best gain: -inf\n",
      "[LightGBM] [Warning] No further splits with positive gain, best gain: -inf\n",
      "[LightGBM] [Warning] No further splits with positive gain, best gain: -inf\n",
      "[LightGBM] [Warning] No further splits with positive gain, best gain: -inf\n",
      "[LightGBM] [Warning] No further splits with positive gain, best gain: -inf\n",
      "[LightGBM] [Warning] No further splits with positive gain, best gain: -inf\n",
      "[LightGBM] [Warning] No further splits with positive gain, best gain: -inf\n",
      "[LightGBM] [Warning] No further splits with positive gain, best gain: -inf\n",
      "[LightGBM] [Warning] No further splits with positive gain, best gain: -inf\n",
      "[LightGBM] [Warning] No further splits with positive gain, best gain: -inf\n",
      "[LightGBM] [Warning] No further splits with positive gain, best gain: -inf\n",
      "[LightGBM] [Warning] No further splits with positive gain, best gain: -inf\n",
      "[LightGBM] [Warning] No further splits with positive gain, best gain: -inf\n",
      "[LightGBM] [Warning] No further splits with positive gain, best gain: -inf\n",
      "[LightGBM] [Warning] No further splits with positive gain, best gain: -inf\n",
      "[LightGBM] [Warning] No further splits with positive gain, best gain: -inf\n",
      "[LightGBM] [Warning] No further splits with positive gain, best gain: -inf\n",
      "[LightGBM] [Warning] No further splits with positive gain, best gain: -inf\n",
      "[LightGBM] [Warning] No further splits with positive gain, best gain: -inf\n",
      "[LightGBM] [Warning] No further splits with positive gain, best gain: -inf\n",
      "[LightGBM] [Warning] No further splits with positive gain, best gain: -inf\n",
      "[LightGBM] [Warning] No further splits with positive gain, best gain: -inf\n",
      "[LightGBM] [Warning] No further splits with positive gain, best gain: -inf\n",
      "[LightGBM] [Warning] No further splits with positive gain, best gain: -inf\n",
      "[LightGBM] [Warning] No further splits with positive gain, best gain: -inf\n",
      "[LightGBM] [Warning] No further splits with positive gain, best gain: -inf\n",
      "[LightGBM] [Warning] No further splits with positive gain, best gain: -inf\n",
      "[LightGBM] [Warning] No further splits with positive gain, best gain: -inf\n",
      "[LightGBM] [Warning] No further splits with positive gain, best gain: -inf\n",
      "[LightGBM] [Warning] No further splits with positive gain, best gain: -inf\n",
      "[LightGBM] [Warning] No further splits with positive gain, best gain: -inf\n",
      "[LightGBM] [Warning] No further splits with positive gain, best gain: -inf\n",
      "[LightGBM] [Warning] No further splits with positive gain, best gain: -inf\n",
      "[LightGBM] [Warning] No further splits with positive gain, best gain: -inf\n",
      "[LightGBM] [Warning] No further splits with positive gain, best gain: -inf\n",
      "[LightGBM] [Warning] No further splits with positive gain, best gain: -inf\n",
      "[LightGBM] [Warning] No further splits with positive gain, best gain: -inf\n",
      "[LightGBM] [Warning] No further splits with positive gain, best gain: -inf\n",
      "[LightGBM] [Warning] No further splits with positive gain, best gain: -inf\n",
      "[LightGBM] [Warning] No further splits with positive gain, best gain: -inf\n",
      "[LightGBM] [Warning] No further splits with positive gain, best gain: -inf\n",
      "[LightGBM] [Warning] No further splits with positive gain, best gain: -inf\n",
      "[LightGBM] [Warning] No further splits with positive gain, best gain: -inf\n",
      "[LightGBM] [Warning] No further splits with positive gain, best gain: -inf\n",
      "[LightGBM] [Warning] No further splits with positive gain, best gain: -inf\n",
      "[LightGBM] [Warning] No further splits with positive gain, best gain: -inf\n",
      "[LightGBM] [Warning] No further splits with positive gain, best gain: -inf\n",
      "[LightGBM] [Warning] No further splits with positive gain, best gain: -inf\n",
      "[LightGBM] [Warning] No further splits with positive gain, best gain: -inf\n",
      "[LightGBM] [Warning] No further splits with positive gain, best gain: -inf\n",
      "[LightGBM] [Warning] No further splits with positive gain, best gain: -inf\n",
      "[LightGBM] [Warning] No further splits with positive gain, best gain: -inf\n",
      "[LightGBM] [Warning] No further splits with positive gain, best gain: -inf\n",
      "[LightGBM] [Warning] No further splits with positive gain, best gain: -inf\n",
      "[LightGBM] [Warning] No further splits with positive gain, best gain: -inf\n",
      "[LightGBM] [Warning] No further splits with positive gain, best gain: -inf\n",
      "[LightGBM] [Warning] No further splits with positive gain, best gain: -inf\n",
      "[LightGBM] [Warning] No further splits with positive gain, best gain: -inf\n",
      "[LightGBM] [Warning] No further splits with positive gain, best gain: -inf\n",
      "[LightGBM] [Warning] No further splits with positive gain, best gain: -inf\n",
      "[LightGBM] [Warning] No further splits with positive gain, best gain: -inf\n",
      "[LightGBM] [Warning] No further splits with positive gain, best gain: -inf\n",
      "[LightGBM] [Warning] No further splits with positive gain, best gain: -inf\n",
      "[LightGBM] [Warning] No further splits with positive gain, best gain: -inf\n",
      "[LightGBM] [Warning] No further splits with positive gain, best gain: -inf\n",
      "[LightGBM] [Warning] No further splits with positive gain, best gain: -inf\n",
      "[LightGBM] [Warning] No further splits with positive gain, best gain: -inf\n",
      "[LightGBM] [Info] Number of positive: 274, number of negative: 439\n",
      "[LightGBM] [Info] Auto-choosing col-wise multi-threading, the overhead of testing was 0.000233 seconds.\n",
      "You can set `force_col_wise=true` to remove the overhead.\n",
      "[LightGBM] [Info] Total Bins 207\n",
      "[LightGBM] [Info] Number of data points in the train set: 713, number of used features: 16\n",
      "[LightGBM] [Info] [binary:BoostFromScore]: pavg=0.384292 -> initscore=-0.471371\n",
      "[LightGBM] [Info] Start training from score -0.471371\n",
      "[LightGBM] [Warning] No further splits with positive gain, best gain: -inf\n",
      "[LightGBM] [Warning] No further splits with positive gain, best gain: -inf\n",
      "[LightGBM] [Warning] No further splits with positive gain, best gain: -inf\n",
      "[LightGBM] [Warning] No further splits with positive gain, best gain: -inf\n",
      "[LightGBM] [Warning] No further splits with positive gain, best gain: -inf\n",
      "[LightGBM] [Warning] No further splits with positive gain, best gain: -inf\n",
      "[LightGBM] [Warning] No further splits with positive gain, best gain: -inf\n",
      "[LightGBM] [Warning] No further splits with positive gain, best gain: -inf\n",
      "[LightGBM] [Warning] No further splits with positive gain, best gain: -inf\n",
      "[LightGBM] [Warning] No further splits with positive gain, best gain: -inf\n",
      "[LightGBM] [Warning] No further splits with positive gain, best gain: -inf\n",
      "[LightGBM] [Warning] No further splits with positive gain, best gain: -inf\n",
      "[LightGBM] [Warning] No further splits with positive gain, best gain: -inf\n",
      "[LightGBM] [Warning] No further splits with positive gain, best gain: -inf\n",
      "[LightGBM] [Warning] No further splits with positive gain, best gain: -inf\n",
      "[LightGBM] [Warning] No further splits with positive gain, best gain: -inf\n",
      "[LightGBM] [Warning] No further splits with positive gain, best gain: -inf\n",
      "[LightGBM] [Warning] No further splits with positive gain, best gain: -inf\n",
      "[LightGBM] [Warning] No further splits with positive gain, best gain: -inf\n",
      "[LightGBM] [Warning] No further splits with positive gain, best gain: -inf\n",
      "[LightGBM] [Warning] No further splits with positive gain, best gain: -inf\n",
      "[LightGBM] [Warning] No further splits with positive gain, best gain: -inf\n",
      "[LightGBM] [Warning] No further splits with positive gain, best gain: -inf\n",
      "[LightGBM] [Warning] No further splits with positive gain, best gain: -inf\n",
      "[LightGBM] [Warning] No further splits with positive gain, best gain: -inf\n",
      "[LightGBM] [Warning] No further splits with positive gain, best gain: -inf\n",
      "[LightGBM] [Warning] No further splits with positive gain, best gain: -inf\n",
      "[LightGBM] [Warning] No further splits with positive gain, best gain: -inf\n",
      "[LightGBM] [Warning] No further splits with positive gain, best gain: -inf\n",
      "[LightGBM] [Warning] No further splits with positive gain, best gain: -inf\n",
      "[LightGBM] [Warning] No further splits with positive gain, best gain: -inf\n",
      "[LightGBM] [Warning] No further splits with positive gain, best gain: -inf\n",
      "[LightGBM] [Warning] No further splits with positive gain, best gain: -inf\n",
      "[LightGBM] [Warning] No further splits with positive gain, best gain: -inf\n",
      "[LightGBM] [Warning] No further splits with positive gain, best gain: -inf\n",
      "[LightGBM] [Warning] No further splits with positive gain, best gain: -inf\n",
      "[LightGBM] [Warning] No further splits with positive gain, best gain: -inf\n",
      "[LightGBM] [Warning] No further splits with positive gain, best gain: -inf\n",
      "[LightGBM] [Warning] No further splits with positive gain, best gain: -inf\n",
      "[LightGBM] [Warning] No further splits with positive gain, best gain: -inf\n",
      "[LightGBM] [Warning] No further splits with positive gain, best gain: -inf\n",
      "[LightGBM] [Warning] No further splits with positive gain, best gain: -inf\n",
      "[LightGBM] [Warning] No further splits with positive gain, best gain: -inf\n",
      "[LightGBM] [Warning] No further splits with positive gain, best gain: -inf\n",
      "[LightGBM] [Warning] No further splits with positive gain, best gain: -inf\n",
      "[LightGBM] [Warning] No further splits with positive gain, best gain: -inf\n",
      "[LightGBM] [Warning] No further splits with positive gain, best gain: -inf\n",
      "[LightGBM] [Warning] No further splits with positive gain, best gain: -inf\n",
      "[LightGBM] [Warning] No further splits with positive gain, best gain: -inf\n",
      "[LightGBM] [Warning] No further splits with positive gain, best gain: -inf\n",
      "[LightGBM] [Warning] No further splits with positive gain, best gain: -inf\n",
      "[LightGBM] [Warning] No further splits with positive gain, best gain: -inf\n",
      "[LightGBM] [Warning] No further splits with positive gain, best gain: -inf\n",
      "[LightGBM] [Warning] No further splits with positive gain, best gain: -inf\n",
      "[LightGBM] [Warning] No further splits with positive gain, best gain: -inf\n",
      "[LightGBM] [Warning] No further splits with positive gain, best gain: -inf\n",
      "[LightGBM] [Warning] No further splits with positive gain, best gain: -inf\n",
      "[LightGBM] [Warning] No further splits with positive gain, best gain: -inf\n",
      "[LightGBM] [Warning] No further splits with positive gain, best gain: -inf\n",
      "[LightGBM] [Warning] No further splits with positive gain, best gain: -inf\n",
      "[LightGBM] [Warning] No further splits with positive gain, best gain: -inf\n",
      "[LightGBM] [Warning] No further splits with positive gain, best gain: -inf\n",
      "[LightGBM] [Warning] No further splits with positive gain, best gain: -inf\n",
      "[LightGBM] [Warning] No further splits with positive gain, best gain: -inf\n",
      "[LightGBM] [Warning] No further splits with positive gain, best gain: -inf\n",
      "[LightGBM] [Warning] No further splits with positive gain, best gain: -inf\n",
      "[LightGBM] [Warning] No further splits with positive gain, best gain: -inf\n",
      "[LightGBM] [Warning] No further splits with positive gain, best gain: -inf\n",
      "[LightGBM] [Warning] No further splits with positive gain, best gain: -inf\n",
      "[LightGBM] [Warning] No further splits with positive gain, best gain: -inf\n",
      "[LightGBM] [Warning] No further splits with positive gain, best gain: -inf\n",
      "[LightGBM] [Warning] No further splits with positive gain, best gain: -inf\n",
      "[LightGBM] [Warning] No further splits with positive gain, best gain: -inf\n",
      "[LightGBM] [Warning] No further splits with positive gain, best gain: -inf\n",
      "[LightGBM] [Warning] No further splits with positive gain, best gain: -inf\n",
      "[LightGBM] [Warning] No further splits with positive gain, best gain: -inf\n",
      "[LightGBM] [Warning] No further splits with positive gain, best gain: -inf\n",
      "[LightGBM] [Warning] No further splits with positive gain, best gain: -inf\n",
      "[LightGBM] [Warning] No further splits with positive gain, best gain: -inf\n",
      "[LightGBM] [Warning] No further splits with positive gain, best gain: -inf\n",
      "[LightGBM] [Warning] No further splits with positive gain, best gain: -inf\n",
      "[LightGBM] [Warning] No further splits with positive gain, best gain: -inf\n",
      "[LightGBM] [Warning] No further splits with positive gain, best gain: -inf\n",
      "[LightGBM] [Warning] No further splits with positive gain, best gain: -inf\n",
      "[LightGBM] [Warning] No further splits with positive gain, best gain: -inf\n",
      "[LightGBM] [Warning] No further splits with positive gain, best gain: -inf\n",
      "[LightGBM] [Warning] No further splits with positive gain, best gain: -inf\n",
      "[LightGBM] [Warning] No further splits with positive gain, best gain: -inf\n",
      "[LightGBM] [Warning] No further splits with positive gain, best gain: -inf\n",
      "[LightGBM] [Warning] No further splits with positive gain, best gain: -inf\n",
      "[LightGBM] [Info] Number of positive: 274, number of negative: 439\n",
      "[LightGBM] [Info] Auto-choosing col-wise multi-threading, the overhead of testing was 0.000250 seconds.\n",
      "You can set `force_col_wise=true` to remove the overhead.\n",
      "[LightGBM] [Info] Total Bins 207\n",
      "[LightGBM] [Info] Number of data points in the train set: 713, number of used features: 16\n",
      "[LightGBM] [Info] [binary:BoostFromScore]: pavg=0.384292 -> initscore=-0.471371\n",
      "[LightGBM] [Info] Start training from score -0.471371\n",
      "[LightGBM] [Warning] No further splits with positive gain, best gain: -inf\n",
      "[LightGBM] [Warning] No further splits with positive gain, best gain: -inf\n",
      "[LightGBM] [Warning] No further splits with positive gain, best gain: -inf\n",
      "[LightGBM] [Warning] No further splits with positive gain, best gain: -inf\n",
      "[LightGBM] [Warning] No further splits with positive gain, best gain: -inf\n",
      "[LightGBM] [Warning] No further splits with positive gain, best gain: -inf\n",
      "[LightGBM] [Warning] No further splits with positive gain, best gain: -inf\n",
      "[LightGBM] [Warning] No further splits with positive gain, best gain: -inf\n",
      "[LightGBM] [Warning] No further splits with positive gain, best gain: -inf\n",
      "[LightGBM] [Warning] No further splits with positive gain, best gain: -inf\n",
      "[LightGBM] [Warning] No further splits with positive gain, best gain: -inf\n",
      "[LightGBM] [Warning] No further splits with positive gain, best gain: -inf\n",
      "[LightGBM] [Warning] No further splits with positive gain, best gain: -inf\n",
      "[LightGBM] [Warning] No further splits with positive gain, best gain: -inf\n",
      "[LightGBM] [Warning] No further splits with positive gain, best gain: -inf\n",
      "[LightGBM] [Warning] No further splits with positive gain, best gain: -inf\n",
      "[LightGBM] [Warning] No further splits with positive gain, best gain: -inf\n",
      "[LightGBM] [Warning] No further splits with positive gain, best gain: -inf\n",
      "[LightGBM] [Warning] No further splits with positive gain, best gain: -inf\n",
      "[LightGBM] [Warning] No further splits with positive gain, best gain: -inf\n",
      "[LightGBM] [Warning] No further splits with positive gain, best gain: -inf\n",
      "[LightGBM] [Warning] No further splits with positive gain, best gain: -inf\n",
      "[LightGBM] [Warning] No further splits with positive gain, best gain: -inf\n",
      "[LightGBM] [Warning] No further splits with positive gain, best gain: -inf\n",
      "[LightGBM] [Warning] No further splits with positive gain, best gain: -inf\n",
      "[LightGBM] [Warning] No further splits with positive gain, best gain: -inf\n",
      "[LightGBM] [Warning] No further splits with positive gain, best gain: -inf\n",
      "[LightGBM] [Warning] No further splits with positive gain, best gain: -inf\n",
      "[LightGBM] [Warning] No further splits with positive gain, best gain: -inf\n",
      "[LightGBM] [Warning] No further splits with positive gain, best gain: -inf\n",
      "[LightGBM] [Warning] No further splits with positive gain, best gain: -inf\n",
      "[LightGBM] [Warning] No further splits with positive gain, best gain: -inf\n",
      "[LightGBM] [Warning] No further splits with positive gain, best gain: -inf\n",
      "[LightGBM] [Warning] No further splits with positive gain, best gain: -inf\n",
      "[LightGBM] [Warning] No further splits with positive gain, best gain: -inf\n",
      "[LightGBM] [Warning] No further splits with positive gain, best gain: -inf\n",
      "[LightGBM] [Warning] No further splits with positive gain, best gain: -inf\n",
      "[LightGBM] [Warning] No further splits with positive gain, best gain: -inf\n",
      "[LightGBM] [Warning] No further splits with positive gain, best gain: -inf\n",
      "[LightGBM] [Warning] No further splits with positive gain, best gain: -inf\n",
      "[LightGBM] [Warning] No further splits with positive gain, best gain: -inf\n",
      "[LightGBM] [Warning] No further splits with positive gain, best gain: -inf\n",
      "[LightGBM] [Warning] No further splits with positive gain, best gain: -inf\n",
      "[LightGBM] [Warning] No further splits with positive gain, best gain: -inf\n",
      "[LightGBM] [Warning] No further splits with positive gain, best gain: -inf\n",
      "[LightGBM] [Warning] No further splits with positive gain, best gain: -inf\n",
      "[LightGBM] [Warning] No further splits with positive gain, best gain: -inf\n",
      "[LightGBM] [Warning] No further splits with positive gain, best gain: -inf\n",
      "[LightGBM] [Warning] No further splits with positive gain, best gain: -inf\n",
      "[LightGBM] [Warning] No further splits with positive gain, best gain: -inf\n",
      "[LightGBM] [Warning] No further splits with positive gain, best gain: -inf\n",
      "[LightGBM] [Warning] No further splits with positive gain, best gain: -inf\n",
      "[LightGBM] [Warning] No further splits with positive gain, best gain: -inf\n",
      "[LightGBM] [Warning] No further splits with positive gain, best gain: -inf\n",
      "[LightGBM] [Warning] No further splits with positive gain, best gain: -inf\n",
      "[LightGBM] [Warning] No further splits with positive gain, best gain: -inf\n",
      "[LightGBM] [Warning] No further splits with positive gain, best gain: -inf\n",
      "[LightGBM] [Warning] No further splits with positive gain, best gain: -inf\n",
      "[LightGBM] [Warning] No further splits with positive gain, best gain: -inf\n",
      "[LightGBM] [Warning] No further splits with positive gain, best gain: -inf\n",
      "[LightGBM] [Warning] No further splits with positive gain, best gain: -inf\n",
      "[LightGBM] [Warning] No further splits with positive gain, best gain: -inf\n",
      "[LightGBM] [Warning] No further splits with positive gain, best gain: -inf\n",
      "[LightGBM] [Warning] No further splits with positive gain, best gain: -inf\n",
      "[LightGBM] [Warning] No further splits with positive gain, best gain: -inf\n",
      "[LightGBM] [Warning] No further splits with positive gain, best gain: -inf\n",
      "[LightGBM] [Warning] No further splits with positive gain, best gain: -inf\n",
      "[LightGBM] [Warning] No further splits with positive gain, best gain: -inf\n",
      "[LightGBM] [Warning] No further splits with positive gain, best gain: -inf\n",
      "[LightGBM] [Warning] No further splits with positive gain, best gain: -inf\n",
      "[LightGBM] [Warning] No further splits with positive gain, best gain: -inf\n",
      "[LightGBM] [Warning] No further splits with positive gain, best gain: -inf\n",
      "[LightGBM] [Warning] No further splits with positive gain, best gain: -inf\n",
      "[LightGBM] [Warning] No further splits with positive gain, best gain: -inf\n",
      "[LightGBM] [Warning] No further splits with positive gain, best gain: -inf\n",
      "[LightGBM] [Warning] No further splits with positive gain, best gain: -inf\n",
      "[LightGBM] [Warning] No further splits with positive gain, best gain: -inf\n",
      "[LightGBM] [Warning] No further splits with positive gain, best gain: -inf\n",
      "[LightGBM] [Warning] No further splits with positive gain, best gain: -inf\n",
      "[LightGBM] [Warning] No further splits with positive gain, best gain: -inf\n",
      "[LightGBM] [Warning] No further splits with positive gain, best gain: -inf\n",
      "[LightGBM] [Warning] No further splits with positive gain, best gain: -inf\n",
      "[LightGBM] [Warning] No further splits with positive gain, best gain: -inf\n",
      "[LightGBM] [Warning] No further splits with positive gain, best gain: -inf\n",
      "[LightGBM] [Warning] No further splits with positive gain, best gain: -inf\n",
      "[LightGBM] [Warning] No further splits with positive gain, best gain: -inf\n",
      "[LightGBM] [Warning] No further splits with positive gain, best gain: -inf\n",
      "[LightGBM] [Warning] No further splits with positive gain, best gain: -inf\n",
      "[LightGBM] [Warning] No further splits with positive gain, best gain: -inf\n",
      "[LightGBM] [Warning] No further splits with positive gain, best gain: -inf\n",
      "[LightGBM] [Warning] No further splits with positive gain, best gain: -inf\n",
      "[LightGBM] [Warning] No further splits with positive gain, best gain: -inf\n",
      "[LightGBM] [Warning] No further splits with positive gain, best gain: -inf\n",
      "[LightGBM] [Warning] No further splits with positive gain, best gain: -inf\n",
      "[LightGBM] [Warning] No further splits with positive gain, best gain: -inf\n",
      "[LightGBM] [Warning] No further splits with positive gain, best gain: -inf\n",
      "[LightGBM] [Info] Number of positive: 273, number of negative: 440\n",
      "[LightGBM] [Info] Auto-choosing col-wise multi-threading, the overhead of testing was 0.000277 seconds.\n",
      "You can set `force_col_wise=true` to remove the overhead.\n",
      "[LightGBM] [Info] Total Bins 207\n",
      "[LightGBM] [Info] Number of data points in the train set: 713, number of used features: 16\n",
      "[LightGBM] [Info] [binary:BoostFromScore]: pavg=0.382889 -> initscore=-0.477303\n",
      "[LightGBM] [Info] Start training from score -0.477303\n",
      "[LightGBM] [Warning] No further splits with positive gain, best gain: -inf\n",
      "[LightGBM] [Warning] No further splits with positive gain, best gain: -inf\n",
      "[LightGBM] [Warning] No further splits with positive gain, best gain: -inf\n",
      "[LightGBM] [Warning] No further splits with positive gain, best gain: -inf\n",
      "[LightGBM] [Warning] No further splits with positive gain, best gain: -inf\n",
      "[LightGBM] [Warning] No further splits with positive gain, best gain: -inf\n",
      "[LightGBM] [Warning] No further splits with positive gain, best gain: -inf\n",
      "[LightGBM] [Warning] No further splits with positive gain, best gain: -inf\n",
      "[LightGBM] [Warning] No further splits with positive gain, best gain: -inf\n",
      "[LightGBM] [Warning] No further splits with positive gain, best gain: -inf\n",
      "[LightGBM] [Warning] No further splits with positive gain, best gain: -inf\n",
      "[LightGBM] [Warning] No further splits with positive gain, best gain: -inf\n",
      "[LightGBM] [Warning] No further splits with positive gain, best gain: -inf\n",
      "[LightGBM] [Warning] No further splits with positive gain, best gain: -inf\n",
      "[LightGBM] [Warning] No further splits with positive gain, best gain: -inf\n",
      "[LightGBM] [Warning] No further splits with positive gain, best gain: -inf\n",
      "[LightGBM] [Warning] No further splits with positive gain, best gain: -inf\n",
      "[LightGBM] [Warning] No further splits with positive gain, best gain: -inf\n",
      "[LightGBM] [Warning] No further splits with positive gain, best gain: -inf\n",
      "[LightGBM] [Warning] No further splits with positive gain, best gain: -inf\n",
      "[LightGBM] [Warning] No further splits with positive gain, best gain: -inf\n",
      "[LightGBM] [Warning] No further splits with positive gain, best gain: -inf\n",
      "[LightGBM] [Warning] No further splits with positive gain, best gain: -inf\n",
      "[LightGBM] [Warning] No further splits with positive gain, best gain: -inf\n",
      "[LightGBM] [Warning] No further splits with positive gain, best gain: -inf\n",
      "[LightGBM] [Warning] No further splits with positive gain, best gain: -inf\n",
      "[LightGBM] [Warning] No further splits with positive gain, best gain: -inf\n",
      "[LightGBM] [Warning] No further splits with positive gain, best gain: -inf\n",
      "[LightGBM] [Warning] No further splits with positive gain, best gain: -inf\n",
      "[LightGBM] [Warning] No further splits with positive gain, best gain: -inf\n",
      "[LightGBM] [Warning] No further splits with positive gain, best gain: -inf\n",
      "[LightGBM] [Warning] No further splits with positive gain, best gain: -inf\n",
      "[LightGBM] [Warning] No further splits with positive gain, best gain: -inf\n",
      "[LightGBM] [Warning] No further splits with positive gain, best gain: -inf\n",
      "[LightGBM] [Warning] No further splits with positive gain, best gain: -inf\n",
      "[LightGBM] [Warning] No further splits with positive gain, best gain: -inf\n",
      "[LightGBM] [Warning] No further splits with positive gain, best gain: -inf\n",
      "[LightGBM] [Warning] No further splits with positive gain, best gain: -inf\n",
      "[LightGBM] [Warning] No further splits with positive gain, best gain: -inf\n",
      "[LightGBM] [Warning] No further splits with positive gain, best gain: -inf\n",
      "[LightGBM] [Warning] No further splits with positive gain, best gain: -inf\n",
      "[LightGBM] [Warning] No further splits with positive gain, best gain: -inf\n",
      "[LightGBM] [Warning] No further splits with positive gain, best gain: -inf\n",
      "[LightGBM] [Warning] No further splits with positive gain, best gain: -inf\n",
      "[LightGBM] [Warning] No further splits with positive gain, best gain: -inf\n",
      "[LightGBM] [Warning] No further splits with positive gain, best gain: -inf\n",
      "[LightGBM] [Warning] No further splits with positive gain, best gain: -inf\n",
      "[LightGBM] [Warning] No further splits with positive gain, best gain: -inf\n",
      "[LightGBM] [Warning] No further splits with positive gain, best gain: -inf\n",
      "[LightGBM] [Warning] No further splits with positive gain, best gain: -inf\n",
      "[LightGBM] [Warning] No further splits with positive gain, best gain: -inf\n",
      "[LightGBM] [Warning] No further splits with positive gain, best gain: -inf\n",
      "[LightGBM] [Warning] No further splits with positive gain, best gain: -inf\n",
      "[LightGBM] [Warning] No further splits with positive gain, best gain: -inf\n",
      "[LightGBM] [Warning] No further splits with positive gain, best gain: -inf\n",
      "[LightGBM] [Warning] No further splits with positive gain, best gain: -inf\n",
      "[LightGBM] [Warning] No further splits with positive gain, best gain: -inf\n",
      "[LightGBM] [Warning] No further splits with positive gain, best gain: -inf\n",
      "[LightGBM] [Warning] No further splits with positive gain, best gain: -inf\n",
      "[LightGBM] [Warning] No further splits with positive gain, best gain: -inf\n",
      "[LightGBM] [Warning] No further splits with positive gain, best gain: -inf\n",
      "[LightGBM] [Warning] No further splits with positive gain, best gain: -inf\n",
      "[LightGBM] [Warning] No further splits with positive gain, best gain: -inf\n",
      "[LightGBM] [Warning] No further splits with positive gain, best gain: -inf\n",
      "[LightGBM] [Warning] No further splits with positive gain, best gain: -inf\n",
      "[LightGBM] [Warning] No further splits with positive gain, best gain: -inf\n",
      "[LightGBM] [Warning] No further splits with positive gain, best gain: -inf\n",
      "[LightGBM] [Warning] No further splits with positive gain, best gain: -inf\n",
      "[LightGBM] [Warning] No further splits with positive gain, best gain: -inf\n",
      "[LightGBM] [Warning] No further splits with positive gain, best gain: -inf\n",
      "[LightGBM] [Warning] No further splits with positive gain, best gain: -inf\n",
      "[LightGBM] [Warning] No further splits with positive gain, best gain: -inf\n",
      "[LightGBM] [Warning] No further splits with positive gain, best gain: -inf\n",
      "[LightGBM] [Warning] No further splits with positive gain, best gain: -inf\n",
      "[LightGBM] [Warning] No further splits with positive gain, best gain: -inf\n",
      "[LightGBM] [Warning] No further splits with positive gain, best gain: -inf\n",
      "[LightGBM] [Warning] No further splits with positive gain, best gain: -inf\n",
      "[LightGBM] [Warning] No further splits with positive gain, best gain: -inf\n",
      "[LightGBM] [Warning] No further splits with positive gain, best gain: -inf\n",
      "[LightGBM] [Warning] No further splits with positive gain, best gain: -inf\n",
      "[LightGBM] [Warning] No further splits with positive gain, best gain: -inf\n",
      "[LightGBM] [Warning] No further splits with positive gain, best gain: -inf\n",
      "[LightGBM] [Warning] No further splits with positive gain, best gain: -inf\n",
      "[LightGBM] [Warning] No further splits with positive gain, best gain: -inf\n",
      "[LightGBM] [Warning] No further splits with positive gain, best gain: -inf\n",
      "[LightGBM] [Warning] No further splits with positive gain, best gain: -inf\n",
      "[LightGBM] [Warning] No further splits with positive gain, best gain: -inf\n",
      "[LightGBM] [Warning] No further splits with positive gain, best gain: -inf\n",
      "[LightGBM] [Warning] No further splits with positive gain, best gain: -inf\n",
      "[LightGBM] [Warning] No further splits with positive gain, best gain: -inf\n",
      "[LightGBM] [Warning] No further splits with positive gain, best gain: -inf\n",
      "[LightGBM] [Warning] No further splits with positive gain, best gain: -inf\n",
      "[LightGBM] [Warning] No further splits with positive gain, best gain: -inf\n",
      "[LightGBM] [Warning] No further splits with positive gain, best gain: -inf\n",
      "[LightGBM] [Warning] No further splits with positive gain, best gain: -inf\n",
      "[LightGBM] [Warning] No further splits with positive gain, best gain: -inf\n",
      "[LightGBM] [Warning] No further splits with positive gain, best gain: -inf\n",
      "[LightGBM] [Warning] No further splits with positive gain, best gain: -inf\n"
     ]
    },
    {
     "data": {
      "text/plain": [
       "array([0.79888268, 0.81460674, 0.86516854, 0.80337079, 0.87078652])"
      ]
     },
     "execution_count": 920,
     "metadata": {},
     "output_type": "execute_result"
    }
   ],
   "source": [
    "result_light = cross_val_score(light_model,\n",
    "                                X_train_one_hot,\n",
    "                                y_train,\n",
    "                                cv = 5)\n",
    "result_light"
   ]
  },
  {
   "attachments": {
    "f0c261dd-cdfe-4f09-b873-0fcc4aa55288.png": {
     "image/png": "[encoded data removed]"
    }
   },
   "cell_type": "markdown",
   "id": "c7fe7411-eac9-4519-9e10-dd9894d2ccf6",
   "metadata": {},
   "source": [
    "![image.png](attachment:f0c261dd-cdfe-4f09-b873-0fcc4aa55288.png)"
   ]
  },
  {
   "cell_type": "code",
   "execution_count": 922,
   "id": "b9e51575-f2cf-4736-9bc7-17f41d65fe30",
   "metadata": {},
   "outputs": [
    {
     "data": {
      "text/plain": [
       "0.8305630531667818"
      ]
     },
     "execution_count": 922,
     "metadata": {},
     "output_type": "execute_result"
    }
   ],
   "source": [
    "result_light.mean()"
   ]
  },
  {
   "cell_type": "code",
   "execution_count": 931,
   "id": "1110be69-bf3e-48ce-b106-05e16a836950",
   "metadata": {},
   "outputs": [],
   "source": [
    "tree_model3 = DecisionTreeClassifier(max_depth = 6)\n",
    "\n",
    "tree_model4 =  DecisionTreeClassifier(max_depth = 4)\n",
    "\n",
    "tree_model5 =  DecisionTreeClassifier(max_depth = 7)\n",
    "\n",
    "tree_model6 =  DecisionTreeClassifier(max_depth = 11)"
   ]
  },
  {
   "cell_type": "code",
   "execution_count": 958,
   "id": "193c7192-2748-4331-acc7-858495471f40",
   "metadata": {},
   "outputs": [],
   "source": [
    "# 하이퍼파라미터 8일때에 정확도가 가장 높다 81.8% : max_depth : 8\n",
    "Bagging_model = BaggingClassifier(estimator=tree_model, max_features=20, n_estimators=10, random_state=42\n",
    "                                )\n",
    "\n",
    "# 학습\n",
    "Bagging_model.fit(X_train_one_hot, y_train)\n",
    "\n",
    "# 예측값\n",
    "pred_tree = Bagging_model.predict(X_test_one_hot)\n",
    "\n",
    "# 모델 답안지 작성 - tree_model_(number).csv\n",
    "result2 = pd.read_csv('./data/gender_submission.csv')\n",
    "result2['Survived'] = pred_tree\n",
    "result2.to_csv('./data/Bagging_model_02.csv', index = False)"
   ]
  },
  {
   "cell_type": "code",
   "execution_count": null,
   "id": "917bce7b-1910-4058-bab6-adf904767fe9",
   "metadata": {},
   "outputs": [],
   "source": [
    "voting_model2 = VotingClassifier(estimators = [('tree1',tree_model2),\n",
    "                                             ('forest',forest_model),\n",
    "                                              ('tree2',tree_model3),\n",
    "                                             ('ada',ada_model)],\n",
    "                                voting = 'soft'\n",
    "                                )"
   ]
  },
  {
   "cell_type": "code",
   "execution_count": 946,
   "id": "a26254d7-5167-4a19-93b4-0a3a5726e1b6",
   "metadata": {
    "scrolled": true
   },
   "outputs": [
    {
     "data": {
      "text/plain": [
       "array([0, 0, 0, 1, 0, 0, 0, 0, 1, 0, 0, 0, 1, 0, 1, 1, 0, 1, 1, 0, 0, 0,\n",
       "       1, 0, 1, 0, 1, 1, 1, 0, 0, 0, 1, 0, 0, 0, 0, 0, 0, 1, 0, 1, 0, 1,\n",
       "       1, 0, 1, 0, 1, 1, 0, 0, 1, 1, 0, 0, 0, 0, 0, 1, 0, 0, 0, 1, 0, 1,\n",
       "       1, 0, 0, 1, 1, 0, 0, 1, 1, 0, 0, 1, 0, 1, 1, 0, 0, 0, 0, 0, 1, 1,\n",
       "       1, 1, 0, 0, 1, 0, 1, 0, 1, 0, 1, 0, 1, 0, 0, 0, 1, 0, 0, 0, 0, 0,\n",
       "       0, 1, 1, 1, 1, 0, 0, 1, 0, 1, 1, 0, 1, 0, 0, 1, 0, 1, 0, 0, 0, 0,\n",
       "       0, 0, 0, 0, 0, 0, 0, 0, 0, 1, 0, 0, 1, 0, 0, 0, 1, 0, 1, 0, 1, 0,\n",
       "       0, 0, 1, 0, 1, 0, 1, 1, 1, 0, 0, 0, 0, 0, 1, 0, 0, 0, 0, 0, 0, 1,\n",
       "       1, 0, 1, 1, 0, 1, 1, 0, 1, 0, 1, 1, 0, 0, 0, 0, 0, 0, 1, 0, 1, 0,\n",
       "       0, 0, 1, 1, 0, 1, 0, 0, 0, 0, 1, 0, 1, 0, 0, 1, 0, 0, 1, 0, 1, 0,\n",
       "       1, 0, 1, 0, 1, 0, 0, 1, 0, 0, 0, 1, 0, 0, 0, 0, 0, 1, 1, 1, 1, 1,\n",
       "       0, 0, 0, 1, 1, 0, 1, 0, 1, 0, 0, 0, 0, 0, 0, 0, 1, 0, 0, 0, 1, 1,\n",
       "       1, 0, 0, 0, 0, 0, 0, 0, 1, 1, 0, 1, 0, 0, 0, 0, 0, 1, 1, 0, 1, 0,\n",
       "       0, 0, 0, 0, 0, 0, 0, 0, 0, 0, 1, 0, 0, 0, 0, 0, 0, 0, 1, 1, 0, 1,\n",
       "       0, 0, 0, 1, 0, 0, 1, 1, 0, 0, 1, 0, 0, 0, 0, 1, 1, 0, 1, 0, 0, 0,\n",
       "       1, 1, 0, 1, 0, 0, 1, 0, 0, 0, 0, 0, 0, 1, 0, 1, 0, 0, 0, 1, 1, 0,\n",
       "       0, 0, 1, 0, 1, 0, 0, 0, 0, 1, 1, 1, 1, 0, 0, 0, 1, 1, 0, 1, 0, 0,\n",
       "       1, 1, 0, 0, 0, 0, 0, 0, 0, 1, 0, 1, 0, 0, 0, 0, 0, 1, 0, 0, 0, 1,\n",
       "       0, 1, 0, 0, 1, 0, 1, 0, 0, 0, 0, 0, 1, 1, 1, 1, 0, 0, 1, 0, 0, 1])"
      ]
     },
     "execution_count": 946,
     "metadata": {},
     "output_type": "execute_result"
    }
   ],
   "source": [
    "from xgboost import XGBClassifier\n",
    "xgb = XGBClassifier(n_estimators=100, max_depth=8, random_state=42)\n",
    "xgb.fit(X_train_one_hot, y_train)\n",
    "pred_xgb = xgb.predict(X_test_one_hot)\n",
    "pred_xgb"
   ]
  },
  {
   "cell_type": "code",
   "execution_count": 948,
   "id": "8f477f0e-b6c2-47ce-86ac-096d6b21ca4f",
   "metadata": {},
   "outputs": [],
   "source": [
    "pred_xgb = pd.read_csv('./data/gender_submission.csv')\n",
    "pred_xgb['Survived'] = pred_tree\n",
    "pred_xgb.to_csv('./data/xgb_model_01.csv', index = False)"
   ]
  },
  {
   "cell_type": "code",
   "execution_count": null,
   "id": "02c7f8b1-b331-4c5c-ae8f-a72215dee4c3",
   "metadata": {},
   "outputs": [],
   "source": []
  }
 ],
 "metadata": {
  "kernelspec": {
   "display_name": "Python [conda env:base] *",
   "language": "python",
   "name": "conda-base-py"
  },
  "language_info": {
   "codemirror_mode": {
    "name": "ipython",
    "version": 3
   },
   "file_extension": ".py",
   "mimetype": "text/x-python",
   "name": "python",
   "nbconvert_exporter": "python",
   "pygments_lexer": "ipython3",
   "version": "3.12.7"
  }
 },
 "nbformat": 4,
 "nbformat_minor": 5
}
