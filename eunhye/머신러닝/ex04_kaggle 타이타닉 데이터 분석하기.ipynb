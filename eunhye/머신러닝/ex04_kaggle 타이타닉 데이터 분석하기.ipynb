{
 "cells": [
  {
   "cell_type": "markdown",
   "id": "427fd24d-fb54-48cb-8d06-ba10d32073fb",
   "metadata": {},
   "source": [
    "### 목표\n",
    "- 타이타닉 데이터를 모델에 학습시켜서 생존/사망 예측해보자\n",
    "- 머신러닝의 전체 과정을 진행해보자"
   ]
  },
  {
   "cell_type": "code",
   "execution_count": null,
   "id": "ac42c2ed-b35a-480b-b256-e92d06b5bd18",
   "metadata": {},
   "outputs": [],
   "source": []
  },
  {
   "cell_type": "markdown",
   "id": "32bb5b50-8bfd-4b37-ac07-d2e0d4423510",
   "metadata": {},
   "source": [
    "#### 1. 문제 정의\n",
    "- Kaggle에서 제공하는 타이타닉 데이터를 사용해 승객의 생존 여부 예측\n",
    "- 지도 학습\n",
    "- Survived 컬럼은 데이터값은 수치형이지만 0,1로 생존 여부만 구분하고 있기 때문에 우선순위는 없음\n",
    "  |"
   ]
  },
  {
   "cell_type": "code",
   "execution_count": 1,
   "id": "c4a1456b-1c4a-4abe-a565-9b3c74311526",
   "metadata": {},
   "outputs": [],
   "source": [
    "import numpy as np\n",
    "import pandas as pd\n",
    "import matplotlib.pyplot as plt\n",
    "\n",
    "import seaborn as sns # 시각화 도구"
   ]
  },
  {
   "cell_type": "markdown",
   "id": "6ccec8ae-d7f7-43ea-a2a2-40bfd28346bc",
   "metadata": {},
   "source": [
    "#### 2. 데이터 수집\n",
    "- 타이타닉 train 데이터와 test 데이터를 변수 train, test에 저장하기"
   ]
  },
  {
   "cell_type": "code",
   "execution_count": 2,
   "id": "4b5007cd-0131-42c0-9bd3-56dee648ad03",
   "metadata": {},
   "outputs": [
    {
     "data": {
      "text/html": [
       "<div>\n",
       "<style scoped>\n",
       "    .dataframe tbody tr th:only-of-type {\n",
       "        vertical-align: middle;\n",
       "    }\n",
       "\n",
       "    .dataframe tbody tr th {\n",
       "        vertical-align: top;\n",
       "    }\n",
       "\n",
       "    .dataframe thead th {\n",
       "        text-align: right;\n",
       "    }\n",
       "</style>\n",
       "<table border=\"1\" class=\"dataframe\">\n",
       "  <thead>\n",
       "    <tr style=\"text-align: right;\">\n",
       "      <th></th>\n",
       "      <th>Pclass</th>\n",
       "      <th>Name</th>\n",
       "      <th>Sex</th>\n",
       "      <th>Age</th>\n",
       "      <th>SibSp</th>\n",
       "      <th>Parch</th>\n",
       "      <th>Ticket</th>\n",
       "      <th>Fare</th>\n",
       "      <th>Cabin</th>\n",
       "      <th>Embarked</th>\n",
       "    </tr>\n",
       "    <tr>\n",
       "      <th>PassengerId</th>\n",
       "      <th></th>\n",
       "      <th></th>\n",
       "      <th></th>\n",
       "      <th></th>\n",
       "      <th></th>\n",
       "      <th></th>\n",
       "      <th></th>\n",
       "      <th></th>\n",
       "      <th></th>\n",
       "      <th></th>\n",
       "    </tr>\n",
       "  </thead>\n",
       "  <tbody>\n",
       "    <tr>\n",
       "      <th>892</th>\n",
       "      <td>3</td>\n",
       "      <td>Kelly, Mr. James</td>\n",
       "      <td>male</td>\n",
       "      <td>34.5</td>\n",
       "      <td>0</td>\n",
       "      <td>0</td>\n",
       "      <td>330911</td>\n",
       "      <td>7.8292</td>\n",
       "      <td>NaN</td>\n",
       "      <td>Q</td>\n",
       "    </tr>\n",
       "    <tr>\n",
       "      <th>893</th>\n",
       "      <td>3</td>\n",
       "      <td>Wilkes, Mrs. James (Ellen Needs)</td>\n",
       "      <td>female</td>\n",
       "      <td>47.0</td>\n",
       "      <td>1</td>\n",
       "      <td>0</td>\n",
       "      <td>363272</td>\n",
       "      <td>7.0000</td>\n",
       "      <td>NaN</td>\n",
       "      <td>S</td>\n",
       "    </tr>\n",
       "    <tr>\n",
       "      <th>894</th>\n",
       "      <td>2</td>\n",
       "      <td>Myles, Mr. Thomas Francis</td>\n",
       "      <td>male</td>\n",
       "      <td>62.0</td>\n",
       "      <td>0</td>\n",
       "      <td>0</td>\n",
       "      <td>240276</td>\n",
       "      <td>9.6875</td>\n",
       "      <td>NaN</td>\n",
       "      <td>Q</td>\n",
       "    </tr>\n",
       "    <tr>\n",
       "      <th>895</th>\n",
       "      <td>3</td>\n",
       "      <td>Wirz, Mr. Albert</td>\n",
       "      <td>male</td>\n",
       "      <td>27.0</td>\n",
       "      <td>0</td>\n",
       "      <td>0</td>\n",
       "      <td>315154</td>\n",
       "      <td>8.6625</td>\n",
       "      <td>NaN</td>\n",
       "      <td>S</td>\n",
       "    </tr>\n",
       "    <tr>\n",
       "      <th>896</th>\n",
       "      <td>3</td>\n",
       "      <td>Hirvonen, Mrs. Alexander (Helga E Lindqvist)</td>\n",
       "      <td>female</td>\n",
       "      <td>22.0</td>\n",
       "      <td>1</td>\n",
       "      <td>1</td>\n",
       "      <td>3101298</td>\n",
       "      <td>12.2875</td>\n",
       "      <td>NaN</td>\n",
       "      <td>S</td>\n",
       "    </tr>\n",
       "  </tbody>\n",
       "</table>\n",
       "</div>"
      ],
      "text/plain": [
       "             Pclass                                          Name     Sex  \\\n",
       "PassengerId                                                                 \n",
       "892               3                              Kelly, Mr. James    male   \n",
       "893               3              Wilkes, Mrs. James (Ellen Needs)  female   \n",
       "894               2                     Myles, Mr. Thomas Francis    male   \n",
       "895               3                              Wirz, Mr. Albert    male   \n",
       "896               3  Hirvonen, Mrs. Alexander (Helga E Lindqvist)  female   \n",
       "\n",
       "              Age  SibSp  Parch   Ticket     Fare Cabin Embarked  \n",
       "PassengerId                                                       \n",
       "892          34.5      0      0   330911   7.8292   NaN        Q  \n",
       "893          47.0      1      0   363272   7.0000   NaN        S  \n",
       "894          62.0      0      0   240276   9.6875   NaN        Q  \n",
       "895          27.0      0      0   315154   8.6625   NaN        S  \n",
       "896          22.0      1      1  3101298  12.2875   NaN        S  "
      ]
     },
     "execution_count": 2,
     "metadata": {},
     "output_type": "execute_result"
    }
   ],
   "source": [
    "train = pd.read_csv('data/train.csv', index_col= 'PassengerId')\n",
    "test = pd.read_csv('data/test.csv', index_col= 'PassengerId')\n",
    "\n",
    "train.head()\n",
    "test.head()"
   ]
  },
  {
   "cell_type": "code",
   "execution_count": 3,
   "id": "6ab1bea8-aa89-4994-9526-208edec3d2ea",
   "metadata": {},
   "outputs": [
    {
     "name": "stdout",
     "output_type": "stream",
     "text": [
      "(891, 11)\n",
      "(418, 10)\n"
     ]
    }
   ],
   "source": [
    "# 크기 확인\n",
    "print(train.shape)\n",
    "print(test.shape)"
   ]
  },
  {
   "cell_type": "markdown",
   "id": "b524cbff-4b15-416c-ab99-3a4d8e56e740",
   "metadata": {},
   "source": [
    "#### 3. 데이터 전처리 및 데이터 탐색"
   ]
  },
  {
   "cell_type": "code",
   "execution_count": 4,
   "id": "a9aaa675-bee3-4a3e-8220-852df38aa255",
   "metadata": {},
   "outputs": [
    {
     "name": "stdout",
     "output_type": "stream",
     "text": [
      "<class 'pandas.core.frame.DataFrame'>\n",
      "Index: 891 entries, 1 to 891\n",
      "Data columns (total 11 columns):\n",
      " #   Column    Non-Null Count  Dtype  \n",
      "---  ------    --------------  -----  \n",
      " 0   Survived  891 non-null    int64  \n",
      " 1   Pclass    891 non-null    int64  \n",
      " 2   Name      891 non-null    object \n",
      " 3   Sex       891 non-null    object \n",
      " 4   Age       714 non-null    float64\n",
      " 5   SibSp     891 non-null    int64  \n",
      " 6   Parch     891 non-null    int64  \n",
      " 7   Ticket    891 non-null    object \n",
      " 8   Fare      891 non-null    float64\n",
      " 9   Cabin     204 non-null    object \n",
      " 10  Embarked  889 non-null    object \n",
      "dtypes: float64(2), int64(4), object(5)\n",
      "memory usage: 83.5+ KB\n"
     ]
    }
   ],
   "source": [
    "# 훈련 데이터셋 정보 확인\n",
    "train.info()\n",
    "\n",
    "#결측치가 있는 "
   ]
  },
  {
   "cell_type": "code",
   "execution_count": 5,
   "id": "debfc5ac-651c-4901-8504-1ed3b682405d",
   "metadata": {},
   "outputs": [
    {
     "data": {
      "text/plain": [
       "'\\nPclass : 객실의 등급(1, 상위, 2:중상위, 3하위층)\\nSibSp : 형제자매/ 배우자(동승한)\\nParch : 부모/자식(동승한)\\nTicket : 티켓번호\\nFare : 요금\\nCabin : 객실 번호\\nEmbarked : (S, C, Q)\\n'"
      ]
     },
     "execution_count": 5,
     "metadata": {},
     "output_type": "execute_result"
    }
   ],
   "source": [
    "#컬럼 정보 관리\n",
    "train.columns\n",
    "\n",
    "'''\n",
    "Pclass : 객실의 등급(1, 상위, 2:중상위, 3하위층)\n",
    "SibSp : 형제자매/ 배우자(동승한)\n",
    "Parch : 부모/자식(동승한)\n",
    "Ticket : 티켓번호\n",
    "Fare : 요금\n",
    "Cabin : 객실 번호\n",
    "Embarked : (S, C, Q)\n",
    "'''"
   ]
  },
  {
   "cell_type": "code",
   "execution_count": 6,
   "id": "dcf402fc-6abd-4f83-9ac4-e3dc9aa5f934",
   "metadata": {},
   "outputs": [
    {
     "name": "stdout",
     "output_type": "stream",
     "text": [
      "<class 'pandas.core.frame.DataFrame'>\n",
      "Index: 418 entries, 892 to 1309\n",
      "Data columns (total 10 columns):\n",
      " #   Column    Non-Null Count  Dtype  \n",
      "---  ------    --------------  -----  \n",
      " 0   Pclass    418 non-null    int64  \n",
      " 1   Name      418 non-null    object \n",
      " 2   Sex       418 non-null    object \n",
      " 3   Age       332 non-null    float64\n",
      " 4   SibSp     418 non-null    int64  \n",
      " 5   Parch     418 non-null    int64  \n",
      " 6   Ticket    418 non-null    object \n",
      " 7   Fare      417 non-null    float64\n",
      " 8   Cabin     91 non-null     object \n",
      " 9   Embarked  418 non-null    object \n",
      "dtypes: float64(2), int64(3), object(5)\n",
      "memory usage: 35.9+ KB\n"
     ]
    }
   ],
   "source": [
    "test.info()\n",
    "# Survived 컬럼 없음\n",
    "# 결측치가 있는 컬럼; Age, Fare, Cabin\n",
    "# 필요시 인코딩\n",
    "\n"
   ]
  },
  {
   "cell_type": "markdown",
   "id": "240c409e-c6ed-4f47-8048-645aff76e8fc",
   "metadata": {},
   "source": [
    "##### 결측치 채우기\n",
    "- train : Age, Cabin, Embarked\n",
    "- test : Age, Fare, Cabin"
   ]
  },
  {
   "cell_type": "code",
   "execution_count": 7,
   "id": "45d065ba-0e4c-4137-a975-f3246476d6d3",
   "metadata": {},
   "outputs": [],
   "source": [
    "# 겶측치를 채우는 방법\n",
    "# 1. 결측치가 있는 행 전체를 삭제하는 방법\n",
    "# > 삭제하려는 데이터가 너무 많거나, 모델링에 치명적이지 않은 데이터여야만 한다.\n",
    "# > 데이터가 많을수록 과대적합을 피할 수 있는데, 삭제해버리면 학습할 데이터가 줄어들어버림\n",
    "\n",
    "# 2. 결측치를 다른 값(대표값)으로 대체하는 방법\n",
    "# > 평균, 최빈값, 중앙값\n"
   ]
  },
  {
   "cell_type": "markdown",
   "id": "c182d80e-72c0-401a-9d4a-5341f88e78cd",
   "metadata": {},
   "source": [
    "- train  - Embarked 컬럼 결측치 채우기"
   ]
  },
  {
   "cell_type": "code",
   "execution_count": 8,
   "id": "bd68e3de-bb22-4866-963d-3c66456bb09e",
   "metadata": {},
   "outputs": [
    {
     "data": {
      "text/plain": [
       "Embarked\n",
       "S    644\n",
       "C    168\n",
       "Q     77\n",
       "Name: count, dtype: int64"
      ]
     },
     "execution_count": 8,
     "metadata": {},
     "output_type": "execute_result"
    }
   ],
   "source": [
    "train['Embarked'].value_counts()"
   ]
  },
  {
   "cell_type": "code",
   "execution_count": 9,
   "id": "4a08b683-72b3-4781-bcb9-365412919491",
   "metadata": {},
   "outputs": [
    {
     "data": {
      "text/plain": [
       "2"
      ]
     },
     "execution_count": 9,
     "metadata": {},
     "output_type": "execute_result"
    }
   ],
   "source": [
    "# Embarked 컬럼의 결측치는?\n",
    "train['Embarked'].isnull().sum() #1 or 0"
   ]
  },
  {
   "cell_type": "code",
   "execution_count": 10,
   "id": "59da61d3-013e-43e6-9b37-dfd543ae6b0a",
   "metadata": {},
   "outputs": [
    {
     "data": {
      "text/html": [
       "<div>\n",
       "<style scoped>\n",
       "    .dataframe tbody tr th:only-of-type {\n",
       "        vertical-align: middle;\n",
       "    }\n",
       "\n",
       "    .dataframe tbody tr th {\n",
       "        vertical-align: top;\n",
       "    }\n",
       "\n",
       "    .dataframe thead th {\n",
       "        text-align: right;\n",
       "    }\n",
       "</style>\n",
       "<table border=\"1\" class=\"dataframe\">\n",
       "  <thead>\n",
       "    <tr style=\"text-align: right;\">\n",
       "      <th></th>\n",
       "      <th>Survived</th>\n",
       "      <th>Pclass</th>\n",
       "      <th>Name</th>\n",
       "      <th>Sex</th>\n",
       "      <th>Age</th>\n",
       "      <th>SibSp</th>\n",
       "      <th>Parch</th>\n",
       "      <th>Ticket</th>\n",
       "      <th>Fare</th>\n",
       "      <th>Cabin</th>\n",
       "      <th>Embarked</th>\n",
       "    </tr>\n",
       "    <tr>\n",
       "      <th>PassengerId</th>\n",
       "      <th></th>\n",
       "      <th></th>\n",
       "      <th></th>\n",
       "      <th></th>\n",
       "      <th></th>\n",
       "      <th></th>\n",
       "      <th></th>\n",
       "      <th></th>\n",
       "      <th></th>\n",
       "      <th></th>\n",
       "      <th></th>\n",
       "    </tr>\n",
       "  </thead>\n",
       "  <tbody>\n",
       "    <tr>\n",
       "      <th>62</th>\n",
       "      <td>1</td>\n",
       "      <td>1</td>\n",
       "      <td>Icard, Miss. Amelie</td>\n",
       "      <td>female</td>\n",
       "      <td>38.0</td>\n",
       "      <td>0</td>\n",
       "      <td>0</td>\n",
       "      <td>113572</td>\n",
       "      <td>80.0</td>\n",
       "      <td>B28</td>\n",
       "      <td>NaN</td>\n",
       "    </tr>\n",
       "    <tr>\n",
       "      <th>830</th>\n",
       "      <td>1</td>\n",
       "      <td>1</td>\n",
       "      <td>Stone, Mrs. George Nelson (Martha Evelyn)</td>\n",
       "      <td>female</td>\n",
       "      <td>62.0</td>\n",
       "      <td>0</td>\n",
       "      <td>0</td>\n",
       "      <td>113572</td>\n",
       "      <td>80.0</td>\n",
       "      <td>B28</td>\n",
       "      <td>NaN</td>\n",
       "    </tr>\n",
       "  </tbody>\n",
       "</table>\n",
       "</div>"
      ],
      "text/plain": [
       "             Survived  Pclass                                       Name  \\\n",
       "PassengerId                                                                \n",
       "62                  1       1                        Icard, Miss. Amelie   \n",
       "830                 1       1  Stone, Mrs. George Nelson (Martha Evelyn)   \n",
       "\n",
       "                Sex   Age  SibSp  Parch  Ticket  Fare Cabin Embarked  \n",
       "PassengerId                                                           \n",
       "62           female  38.0      0      0  113572  80.0   B28      NaN  \n",
       "830          female  62.0      0      0  113572  80.0   B28      NaN  "
      ]
     },
     "execution_count": 10,
     "metadata": {},
     "output_type": "execute_result"
    }
   ],
   "source": [
    "# 결측치가 있는 데이터 출력\n",
    "train[train['Embarked'].isnull()]"
   ]
  },
  {
   "cell_type": "code",
   "execution_count": 11,
   "id": "dba2fe98-0bd7-4071-bbcc-8b3b9f3bcc5a",
   "metadata": {},
   "outputs": [
    {
     "data": {
      "text/plain": [
       "PassengerId\n",
       "1      S\n",
       "2      C\n",
       "3      S\n",
       "4      S\n",
       "5      S\n",
       "      ..\n",
       "887    S\n",
       "888    S\n",
       "889    S\n",
       "890    C\n",
       "891    Q\n",
       "Name: Embarked, Length: 891, dtype: object"
      ]
     },
     "execution_count": 11,
     "metadata": {},
     "output_type": "execute_result"
    }
   ],
   "source": [
    "# fillna('값')\n",
    "# 비어있는 데이터가 있다면, '값'으로 채워주는 함수\n",
    "train['Embarked'].fillna('S')"
   ]
  },
  {
   "cell_type": "code",
   "execution_count": 12,
   "id": "1e929cc8-b4af-4046-9c20-4de4f3418699",
   "metadata": {},
   "outputs": [
    {
     "data": {
      "text/plain": [
       "0"
      ]
     },
     "execution_count": 12,
     "metadata": {},
     "output_type": "execute_result"
    }
   ],
   "source": [
    "train['Embarked'] = train['Embarked'].isnull().sum() #최빈값으로 결측치 처리\n",
    "\n",
    "train['Embarked'].isnull().sum()  #남은 결측치 없음\n"
   ]
  },
  {
   "cell_type": "markdown",
   "id": "b80b9e95-de4e-46e8-a04c-02bab7ac5e5c",
   "metadata": {},
   "source": [
    "- test : Fare 컬럼의 결측치를 채우기"
   ]
  },
  {
   "cell_type": "code",
   "execution_count": 13,
   "id": "34e9ab59-af3e-4fbb-bb18-a826522e3f6e",
   "metadata": {},
   "outputs": [
    {
     "data": {
      "text/html": [
       "<div>\n",
       "<style scoped>\n",
       "    .dataframe tbody tr th:only-of-type {\n",
       "        vertical-align: middle;\n",
       "    }\n",
       "\n",
       "    .dataframe tbody tr th {\n",
       "        vertical-align: top;\n",
       "    }\n",
       "\n",
       "    .dataframe thead th {\n",
       "        text-align: right;\n",
       "    }\n",
       "</style>\n",
       "<table border=\"1\" class=\"dataframe\">\n",
       "  <thead>\n",
       "    <tr style=\"text-align: right;\">\n",
       "      <th></th>\n",
       "      <th>Pclass</th>\n",
       "      <th>Name</th>\n",
       "      <th>Sex</th>\n",
       "      <th>Age</th>\n",
       "      <th>SibSp</th>\n",
       "      <th>Parch</th>\n",
       "      <th>Ticket</th>\n",
       "      <th>Fare</th>\n",
       "      <th>Cabin</th>\n",
       "      <th>Embarked</th>\n",
       "    </tr>\n",
       "    <tr>\n",
       "      <th>PassengerId</th>\n",
       "      <th></th>\n",
       "      <th></th>\n",
       "      <th></th>\n",
       "      <th></th>\n",
       "      <th></th>\n",
       "      <th></th>\n",
       "      <th></th>\n",
       "      <th></th>\n",
       "      <th></th>\n",
       "      <th></th>\n",
       "    </tr>\n",
       "  </thead>\n",
       "  <tbody>\n",
       "    <tr>\n",
       "      <th>1044</th>\n",
       "      <td>3</td>\n",
       "      <td>Storey, Mr. Thomas</td>\n",
       "      <td>male</td>\n",
       "      <td>60.5</td>\n",
       "      <td>0</td>\n",
       "      <td>0</td>\n",
       "      <td>3701</td>\n",
       "      <td>NaN</td>\n",
       "      <td>NaN</td>\n",
       "      <td>S</td>\n",
       "    </tr>\n",
       "  </tbody>\n",
       "</table>\n",
       "</div>"
      ],
      "text/plain": [
       "             Pclass                Name   Sex   Age  SibSp  Parch Ticket  \\\n",
       "PassengerId                                                                \n",
       "1044              3  Storey, Mr. Thomas  male  60.5      0      0   3701   \n",
       "\n",
       "             Fare Cabin Embarked  \n",
       "PassengerId                       \n",
       "1044          NaN   NaN        S  "
      ]
     },
     "execution_count": 13,
     "metadata": {},
     "output_type": "execute_result"
    }
   ],
   "source": [
    "test[test['Fare'].isnull()]"
   ]
  },
  {
   "cell_type": "code",
   "execution_count": 14,
   "id": "368d9ce6-6b50-40d7-b65d-7fdcc26fb26d",
   "metadata": {},
   "outputs": [
    {
     "data": {
      "text/html": [
       "<div>\n",
       "<style scoped>\n",
       "    .dataframe tbody tr th:only-of-type {\n",
       "        vertical-align: middle;\n",
       "    }\n",
       "\n",
       "    .dataframe tbody tr th {\n",
       "        vertical-align: top;\n",
       "    }\n",
       "\n",
       "    .dataframe thead th {\n",
       "        text-align: right;\n",
       "    }\n",
       "</style>\n",
       "<table border=\"1\" class=\"dataframe\">\n",
       "  <thead>\n",
       "    <tr style=\"text-align: right;\">\n",
       "      <th></th>\n",
       "      <th>Pclass</th>\n",
       "      <th>Age</th>\n",
       "      <th>SibSp</th>\n",
       "      <th>Parch</th>\n",
       "      <th>Fare</th>\n",
       "    </tr>\n",
       "  </thead>\n",
       "  <tbody>\n",
       "    <tr>\n",
       "      <th>Pclass</th>\n",
       "      <td>1.000000</td>\n",
       "      <td>-0.492143</td>\n",
       "      <td>0.001087</td>\n",
       "      <td>0.018721</td>\n",
       "      <td>-0.577147</td>\n",
       "    </tr>\n",
       "    <tr>\n",
       "      <th>Age</th>\n",
       "      <td>-0.492143</td>\n",
       "      <td>1.000000</td>\n",
       "      <td>-0.091587</td>\n",
       "      <td>-0.061249</td>\n",
       "      <td>0.337932</td>\n",
       "    </tr>\n",
       "    <tr>\n",
       "      <th>SibSp</th>\n",
       "      <td>0.001087</td>\n",
       "      <td>-0.091587</td>\n",
       "      <td>1.000000</td>\n",
       "      <td>0.306895</td>\n",
       "      <td>0.171539</td>\n",
       "    </tr>\n",
       "    <tr>\n",
       "      <th>Parch</th>\n",
       "      <td>0.018721</td>\n",
       "      <td>-0.061249</td>\n",
       "      <td>0.306895</td>\n",
       "      <td>1.000000</td>\n",
       "      <td>0.230046</td>\n",
       "    </tr>\n",
       "    <tr>\n",
       "      <th>Fare</th>\n",
       "      <td>-0.577147</td>\n",
       "      <td>0.337932</td>\n",
       "      <td>0.171539</td>\n",
       "      <td>0.230046</td>\n",
       "      <td>1.000000</td>\n",
       "    </tr>\n",
       "  </tbody>\n",
       "</table>\n",
       "</div>"
      ],
      "text/plain": [
       "          Pclass       Age     SibSp     Parch      Fare\n",
       "Pclass  1.000000 -0.492143  0.001087  0.018721 -0.577147\n",
       "Age    -0.492143  1.000000 -0.091587 -0.061249  0.337932\n",
       "SibSp   0.001087 -0.091587  1.000000  0.306895  0.171539\n",
       "Parch   0.018721 -0.061249  0.306895  1.000000  0.230046\n",
       "Fare   -0.577147  0.337932  0.171539  0.230046  1.000000"
      ]
     },
     "execution_count": 14,
     "metadata": {},
     "output_type": "execute_result"
    }
   ],
   "source": [
    "# 상관관계 확인\n",
    "test.corr(numeric_only = True) # 숫자 컬럼 포함\n",
    "\n",
    "# 상관 계수 : -1 ~ 1 범위로 표현됨\n",
    "# -1 or 1에 가까울수록 해당 컬럼과 상관관계가 높다.\n",
    "# 0에 가까울수록 해당 컬럼과 상관이 없음\n",
    "\n"
   ]
  },
  {
   "cell_type": "code",
   "execution_count": 15,
   "id": "39fbbbe5-94e7-4733-a1a1-a9d1949286f1",
   "metadata": {},
   "outputs": [
    {
     "data": {
      "text/html": [
       "<div>\n",
       "<style scoped>\n",
       "    .dataframe tbody tr th:only-of-type {\n",
       "        vertical-align: middle;\n",
       "    }\n",
       "\n",
       "    .dataframe tbody tr th {\n",
       "        vertical-align: top;\n",
       "    }\n",
       "\n",
       "    .dataframe thead th {\n",
       "        text-align: right;\n",
       "    }\n",
       "</style>\n",
       "<table border=\"1\" class=\"dataframe\">\n",
       "  <thead>\n",
       "    <tr style=\"text-align: right;\">\n",
       "      <th></th>\n",
       "      <th>Survived</th>\n",
       "      <th>Pclass</th>\n",
       "      <th>Age</th>\n",
       "      <th>SibSp</th>\n",
       "      <th>Parch</th>\n",
       "      <th>Fare</th>\n",
       "      <th>Embarked</th>\n",
       "    </tr>\n",
       "  </thead>\n",
       "  <tbody>\n",
       "    <tr>\n",
       "      <th>Survived</th>\n",
       "      <td>1.000000</td>\n",
       "      <td>-0.338481</td>\n",
       "      <td>-0.077221</td>\n",
       "      <td>-0.035322</td>\n",
       "      <td>0.081629</td>\n",
       "      <td>0.257307</td>\n",
       "      <td>NaN</td>\n",
       "    </tr>\n",
       "    <tr>\n",
       "      <th>Pclass</th>\n",
       "      <td>-0.338481</td>\n",
       "      <td>1.000000</td>\n",
       "      <td>-0.369226</td>\n",
       "      <td>0.083081</td>\n",
       "      <td>0.018443</td>\n",
       "      <td>-0.549500</td>\n",
       "      <td>NaN</td>\n",
       "    </tr>\n",
       "    <tr>\n",
       "      <th>Age</th>\n",
       "      <td>-0.077221</td>\n",
       "      <td>-0.369226</td>\n",
       "      <td>1.000000</td>\n",
       "      <td>-0.308247</td>\n",
       "      <td>-0.189119</td>\n",
       "      <td>0.096067</td>\n",
       "      <td>NaN</td>\n",
       "    </tr>\n",
       "    <tr>\n",
       "      <th>SibSp</th>\n",
       "      <td>-0.035322</td>\n",
       "      <td>0.083081</td>\n",
       "      <td>-0.308247</td>\n",
       "      <td>1.000000</td>\n",
       "      <td>0.414838</td>\n",
       "      <td>0.159651</td>\n",
       "      <td>NaN</td>\n",
       "    </tr>\n",
       "    <tr>\n",
       "      <th>Parch</th>\n",
       "      <td>0.081629</td>\n",
       "      <td>0.018443</td>\n",
       "      <td>-0.189119</td>\n",
       "      <td>0.414838</td>\n",
       "      <td>1.000000</td>\n",
       "      <td>0.216225</td>\n",
       "      <td>NaN</td>\n",
       "    </tr>\n",
       "    <tr>\n",
       "      <th>Fare</th>\n",
       "      <td>0.257307</td>\n",
       "      <td>-0.549500</td>\n",
       "      <td>0.096067</td>\n",
       "      <td>0.159651</td>\n",
       "      <td>0.216225</td>\n",
       "      <td>1.000000</td>\n",
       "      <td>NaN</td>\n",
       "    </tr>\n",
       "    <tr>\n",
       "      <th>Embarked</th>\n",
       "      <td>NaN</td>\n",
       "      <td>NaN</td>\n",
       "      <td>NaN</td>\n",
       "      <td>NaN</td>\n",
       "      <td>NaN</td>\n",
       "      <td>NaN</td>\n",
       "      <td>NaN</td>\n",
       "    </tr>\n",
       "  </tbody>\n",
       "</table>\n",
       "</div>"
      ],
      "text/plain": [
       "          Survived    Pclass       Age     SibSp     Parch      Fare  Embarked\n",
       "Survived  1.000000 -0.338481 -0.077221 -0.035322  0.081629  0.257307       NaN\n",
       "Pclass   -0.338481  1.000000 -0.369226  0.083081  0.018443 -0.549500       NaN\n",
       "Age      -0.077221 -0.369226  1.000000 -0.308247 -0.189119  0.096067       NaN\n",
       "SibSp    -0.035322  0.083081 -0.308247  1.000000  0.414838  0.159651       NaN\n",
       "Parch     0.081629  0.018443 -0.189119  0.414838  1.000000  0.216225       NaN\n",
       "Fare      0.257307 -0.549500  0.096067  0.159651  0.216225  1.000000       NaN\n",
       "Embarked       NaN       NaN       NaN       NaN       NaN       NaN       NaN"
      ]
     },
     "execution_count": 15,
     "metadata": {},
     "output_type": "execute_result"
    }
   ],
   "source": [
    "train.corr(numeric_only = True)"
   ]
  },
  {
   "cell_type": "code",
   "execution_count": 16,
   "id": "7072e4e0-7b9d-4a78-acdc-532c9791bc5a",
   "metadata": {},
   "outputs": [
    {
     "data": {
      "image/png": "[encoded data removed]",
      "text/plain": [
       "<Figure size 800x800 with 2 Axes>"
      ]
     },
     "metadata": {},
     "output_type": "display_data"
    }
   ],
   "source": [
    "#히트맵 표현\n",
    "plt.figure(figsize=(8,8))\n",
    "sns.heatmap(train.corr(numeric_only = True).abs(), annot = True, cmap ='Oranges') #절대값 abs\n",
    "plt.show()"
   ]
  },
  {
   "cell_type": "code",
   "execution_count": 17,
   "id": "07ee272c-a3f5-4ecd-b640-acd72c2b3abc",
   "metadata": {},
   "outputs": [
    {
     "data": {
      "text/plain": [
       "array([3, 1, 2], dtype=int64)"
      ]
     },
     "execution_count": 17,
     "metadata": {},
     "output_type": "execute_result"
    }
   ],
   "source": [
    "#train Pclass 컬럼\n",
    "train['Pclass'].unique()"
   ]
  },
  {
   "cell_type": "code",
   "execution_count": 18,
   "id": "b798c845-4a5f-4a24-b4a2-24faf804926d",
   "metadata": {},
   "outputs": [
    {
     "data": {
      "text/html": [
       "<div>\n",
       "<style scoped>\n",
       "    .dataframe tbody tr th:only-of-type {\n",
       "        vertical-align: middle;\n",
       "    }\n",
       "\n",
       "    .dataframe tbody tr th {\n",
       "        vertical-align: top;\n",
       "    }\n",
       "\n",
       "    .dataframe thead th {\n",
       "        text-align: right;\n",
       "    }\n",
       "</style>\n",
       "<table border=\"1\" class=\"dataframe\">\n",
       "  <thead>\n",
       "    <tr style=\"text-align: right;\">\n",
       "      <th></th>\n",
       "      <th>Fare</th>\n",
       "    </tr>\n",
       "    <tr>\n",
       "      <th>Pclass</th>\n",
       "      <th></th>\n",
       "    </tr>\n",
       "  </thead>\n",
       "  <tbody>\n",
       "    <tr>\n",
       "      <th>1</th>\n",
       "      <td>60.2875</td>\n",
       "    </tr>\n",
       "    <tr>\n",
       "      <th>2</th>\n",
       "      <td>14.2500</td>\n",
       "    </tr>\n",
       "    <tr>\n",
       "      <th>3</th>\n",
       "      <td>8.0500</td>\n",
       "    </tr>\n",
       "  </tbody>\n",
       "</table>\n",
       "</div>"
      ],
      "text/plain": [
       "           Fare\n",
       "Pclass         \n",
       "1       60.2875\n",
       "2       14.2500\n",
       "3        8.0500"
      ]
     },
     "execution_count": 18,
     "metadata": {},
     "output_type": "execute_result"
    }
   ],
   "source": [
    "# 객실등급 기준으로 그룹화 groupby(), 요금 컬럼 집계함수 중앙값 medean()\n",
    "\n",
    "train[['Pclass', 'Fare']].groupby('Pclass').median()"
   ]
  },
  {
   "cell_type": "code",
   "execution_count": 19,
   "id": "58ebeef2-7ea0-4229-94a1-c4d73cccdca8",
   "metadata": {},
   "outputs": [
    {
     "data": {
      "text/html": [
       "<div>\n",
       "<style scoped>\n",
       "    .dataframe tbody tr th:only-of-type {\n",
       "        vertical-align: middle;\n",
       "    }\n",
       "\n",
       "    .dataframe tbody tr th {\n",
       "        vertical-align: top;\n",
       "    }\n",
       "\n",
       "    .dataframe thead th {\n",
       "        text-align: right;\n",
       "    }\n",
       "</style>\n",
       "<table border=\"1\" class=\"dataframe\">\n",
       "  <thead>\n",
       "    <tr style=\"text-align: right;\">\n",
       "      <th></th>\n",
       "      <th></th>\n",
       "      <th>Fare</th>\n",
       "    </tr>\n",
       "    <tr>\n",
       "      <th>Pclass</th>\n",
       "      <th>Sex</th>\n",
       "      <th></th>\n",
       "    </tr>\n",
       "  </thead>\n",
       "  <tbody>\n",
       "    <tr>\n",
       "      <th rowspan=\"2\" valign=\"top\">1</th>\n",
       "      <th>female</th>\n",
       "      <td>82.66455</td>\n",
       "    </tr>\n",
       "    <tr>\n",
       "      <th>male</th>\n",
       "      <td>41.26250</td>\n",
       "    </tr>\n",
       "    <tr>\n",
       "      <th rowspan=\"2\" valign=\"top\">2</th>\n",
       "      <th>female</th>\n",
       "      <td>22.00000</td>\n",
       "    </tr>\n",
       "    <tr>\n",
       "      <th>male</th>\n",
       "      <td>13.00000</td>\n",
       "    </tr>\n",
       "    <tr>\n",
       "      <th rowspan=\"2\" valign=\"top\">3</th>\n",
       "      <th>female</th>\n",
       "      <td>12.47500</td>\n",
       "    </tr>\n",
       "    <tr>\n",
       "      <th>male</th>\n",
       "      <td>7.92500</td>\n",
       "    </tr>\n",
       "  </tbody>\n",
       "</table>\n",
       "</div>"
      ],
      "text/plain": [
       "                   Fare\n",
       "Pclass Sex             \n",
       "1      female  82.66455\n",
       "       male    41.26250\n",
       "2      female  22.00000\n",
       "       male    13.00000\n",
       "3      female  12.47500\n",
       "       male     7.92500"
      ]
     },
     "execution_count": 19,
     "metadata": {},
     "output_type": "execute_result"
    }
   ],
   "source": [
    "# Pclass, Sex을 기준으로 그룹핑하여 Fare의 중앙값 확인\n",
    "\n",
    "train[['Pclass','Sex', 'Fare']].groupby(['Pclass', 'Sex']).median()"
   ]
  },
  {
   "cell_type": "code",
   "execution_count": 20,
   "id": "96ec218d-e579-42c8-9e9e-a900a38f2b05",
   "metadata": {},
   "outputs": [
    {
     "data": {
      "text/html": [
       "<div>\n",
       "<style scoped>\n",
       "    .dataframe tbody tr th:only-of-type {\n",
       "        vertical-align: middle;\n",
       "    }\n",
       "\n",
       "    .dataframe tbody tr th {\n",
       "        vertical-align: top;\n",
       "    }\n",
       "\n",
       "    .dataframe thead th {\n",
       "        text-align: right;\n",
       "    }\n",
       "</style>\n",
       "<table border=\"1\" class=\"dataframe\">\n",
       "  <thead>\n",
       "    <tr style=\"text-align: right;\">\n",
       "      <th></th>\n",
       "      <th>Pclass</th>\n",
       "      <th>Name</th>\n",
       "      <th>Sex</th>\n",
       "      <th>Age</th>\n",
       "      <th>SibSp</th>\n",
       "      <th>Parch</th>\n",
       "      <th>Ticket</th>\n",
       "      <th>Fare</th>\n",
       "      <th>Cabin</th>\n",
       "      <th>Embarked</th>\n",
       "    </tr>\n",
       "    <tr>\n",
       "      <th>PassengerId</th>\n",
       "      <th></th>\n",
       "      <th></th>\n",
       "      <th></th>\n",
       "      <th></th>\n",
       "      <th></th>\n",
       "      <th></th>\n",
       "      <th></th>\n",
       "      <th></th>\n",
       "      <th></th>\n",
       "      <th></th>\n",
       "    </tr>\n",
       "  </thead>\n",
       "  <tbody>\n",
       "    <tr>\n",
       "      <th>1044</th>\n",
       "      <td>3</td>\n",
       "      <td>Storey, Mr. Thomas</td>\n",
       "      <td>male</td>\n",
       "      <td>60.5</td>\n",
       "      <td>0</td>\n",
       "      <td>0</td>\n",
       "      <td>3701</td>\n",
       "      <td>NaN</td>\n",
       "      <td>NaN</td>\n",
       "      <td>S</td>\n",
       "    </tr>\n",
       "  </tbody>\n",
       "</table>\n",
       "</div>"
      ],
      "text/plain": [
       "             Pclass                Name   Sex   Age  SibSp  Parch Ticket  \\\n",
       "PassengerId                                                                \n",
       "1044              3  Storey, Mr. Thomas  male  60.5      0      0   3701   \n",
       "\n",
       "             Fare Cabin Embarked  \n",
       "PassengerId                       \n",
       "1044          NaN   NaN        S  "
      ]
     },
     "execution_count": 20,
     "metadata": {},
     "output_type": "execute_result"
    }
   ],
   "source": [
    "# 결측치가 있는 행 확인\n",
    "test[test['Fare'].isnull()]"
   ]
  },
  {
   "cell_type": "code",
   "execution_count": 21,
   "id": "2926a7a6-055a-49e0-a5a5-5a42ff072feb",
   "metadata": {
    "scrolled": true
   },
   "outputs": [
    {
     "name": "stdout",
     "output_type": "stream",
     "text": [
      "<class 'pandas.core.frame.DataFrame'>\n",
      "Index: 418 entries, 892 to 1309\n",
      "Data columns (total 10 columns):\n",
      " #   Column    Non-Null Count  Dtype  \n",
      "---  ------    --------------  -----  \n",
      " 0   Pclass    418 non-null    int64  \n",
      " 1   Name      418 non-null    object \n",
      " 2   Sex       418 non-null    object \n",
      " 3   Age       332 non-null    float64\n",
      " 4   SibSp     418 non-null    int64  \n",
      " 5   Parch     418 non-null    int64  \n",
      " 6   Ticket    418 non-null    object \n",
      " 7   Fare      418 non-null    float64\n",
      " 8   Cabin     91 non-null     object \n",
      " 9   Embarked  418 non-null    object \n",
      "dtypes: float64(2), int64(3), object(5)\n",
      "memory usage: 35.9+ KB\n"
     ]
    }
   ],
   "source": [
    "#fillna를 사용해서 결측치 채우기\n",
    "test['Fare'] = test['Fare'].fillna(7.925)\n",
    "\n",
    "test.info()"
   ]
  },
  {
   "cell_type": "markdown",
   "id": "6b6a475b-8abf-487e-810e-be5c491ee857",
   "metadata": {},
   "source": [
    "- train, test Age 채우기\n",
    "    - 위에서 사용했던 Pclass, Sex 컬럼을 Grouping해서 Age의 집계를 확인하고 채워보자."
   ]
  },
  {
   "cell_type": "code",
   "execution_count": 22,
   "id": "474ab0e1-18b6-4410-8e7e-f2cdce8427b9",
   "metadata": {},
   "outputs": [
    {
     "data": {
      "text/plain": [
       "count    714.000000\n",
       "mean      29.699118\n",
       "std       14.526497\n",
       "min        0.420000\n",
       "25%       20.125000\n",
       "50%       28.000000\n",
       "75%       38.000000\n",
       "max       80.000000\n",
       "Name: Age, dtype: float64"
      ]
     },
     "execution_count": 22,
     "metadata": {},
     "output_type": "execute_result"
    }
   ],
   "source": [
    "# 평균값을 쓸지, 중앙값을 쓸지 판단을 위해 Age 컬럼의 기술통계량 확인\n",
    "train['Age'].describe()"
   ]
  },
  {
   "cell_type": "code",
   "execution_count": 23,
   "id": "698ea0f8-e3e1-4632-83a2-5b237abcae77",
   "metadata": {
    "scrolled": true
   },
   "outputs": [
    {
     "data": {
      "text/html": [
       "<div>\n",
       "<style scoped>\n",
       "    .dataframe tbody tr th:only-of-type {\n",
       "        vertical-align: middle;\n",
       "    }\n",
       "\n",
       "    .dataframe tbody tr th {\n",
       "        vertical-align: top;\n",
       "    }\n",
       "\n",
       "    .dataframe thead th {\n",
       "        text-align: right;\n",
       "    }\n",
       "</style>\n",
       "<table border=\"1\" class=\"dataframe\">\n",
       "  <thead>\n",
       "    <tr style=\"text-align: right;\">\n",
       "      <th></th>\n",
       "      <th></th>\n",
       "      <th>Age</th>\n",
       "    </tr>\n",
       "    <tr>\n",
       "      <th>Pclass</th>\n",
       "      <th>Sex</th>\n",
       "      <th></th>\n",
       "    </tr>\n",
       "  </thead>\n",
       "  <tbody>\n",
       "    <tr>\n",
       "      <th rowspan=\"2\" valign=\"top\">1</th>\n",
       "      <th>female</th>\n",
       "      <td>34.611765</td>\n",
       "    </tr>\n",
       "    <tr>\n",
       "      <th>male</th>\n",
       "      <td>41.281386</td>\n",
       "    </tr>\n",
       "    <tr>\n",
       "      <th rowspan=\"2\" valign=\"top\">2</th>\n",
       "      <th>female</th>\n",
       "      <td>28.722973</td>\n",
       "    </tr>\n",
       "    <tr>\n",
       "      <th>male</th>\n",
       "      <td>30.740707</td>\n",
       "    </tr>\n",
       "    <tr>\n",
       "      <th rowspan=\"2\" valign=\"top\">3</th>\n",
       "      <th>female</th>\n",
       "      <td>21.750000</td>\n",
       "    </tr>\n",
       "    <tr>\n",
       "      <th>male</th>\n",
       "      <td>26.507589</td>\n",
       "    </tr>\n",
       "  </tbody>\n",
       "</table>\n",
       "</div>"
      ],
      "text/plain": [
       "                     Age\n",
       "Pclass Sex              \n",
       "1      female  34.611765\n",
       "       male    41.281386\n",
       "2      female  28.722973\n",
       "       male    30.740707\n",
       "3      female  21.750000\n",
       "       male    26.507589"
      ]
     },
     "execution_count": 23,
     "metadata": {},
     "output_type": "execute_result"
    }
   ],
   "source": [
    "# Age는 Pclass와 상관관계가 높았음\n",
    "# Pclass, Sex을 그룹핑하여 Age의 평균 출력\n",
    "gb1 = train[['Pclass', 'Sex', 'Age']].groupby(['Pclass', 'Sex']).mean()\n",
    "gb1"
   ]
  },
  {
   "cell_type": "code",
   "execution_count": 24,
   "id": "20b556ee-1193-44c1-af43-2726cd10bafd",
   "metadata": {},
   "outputs": [
    {
     "data": {
      "text/plain": [
       "Age    30.740707\n",
       "Name: (2, male), dtype: float64"
      ]
     },
     "execution_count": 24,
     "metadata": {},
     "output_type": "execute_result"
    }
   ],
   "source": [
    "# gb1 - index 2개 - Pclass, Sex\n",
    "\n",
    "# ★멀티인덱스에서의 데이터 접근 \n",
    "\n",
    "# 2등석, 남성: 평균 나이\n",
    "gb1.loc[(2,'male'), : ]\n",
    "gb1.loc[(2,'male')]"
   ]
  },
  {
   "cell_type": "code",
   "execution_count": 25,
   "id": "4be9db33-033a-438e-a08c-41c7ba20d623",
   "metadata": {
    "scrolled": true
   },
   "outputs": [
    {
     "data": {
      "text/html": [
       "<div>\n",
       "<style scoped>\n",
       "    .dataframe tbody tr th:only-of-type {\n",
       "        vertical-align: middle;\n",
       "    }\n",
       "\n",
       "    .dataframe tbody tr th {\n",
       "        vertical-align: top;\n",
       "    }\n",
       "\n",
       "    .dataframe thead th {\n",
       "        text-align: right;\n",
       "    }\n",
       "</style>\n",
       "<table border=\"1\" class=\"dataframe\">\n",
       "  <thead>\n",
       "    <tr style=\"text-align: right;\">\n",
       "      <th></th>\n",
       "      <th>Survived</th>\n",
       "      <th>Pclass</th>\n",
       "      <th>Name</th>\n",
       "      <th>Sex</th>\n",
       "      <th>Age</th>\n",
       "      <th>SibSp</th>\n",
       "      <th>Parch</th>\n",
       "      <th>Ticket</th>\n",
       "      <th>Fare</th>\n",
       "      <th>Cabin</th>\n",
       "      <th>Embarked</th>\n",
       "    </tr>\n",
       "    <tr>\n",
       "      <th>PassengerId</th>\n",
       "      <th></th>\n",
       "      <th></th>\n",
       "      <th></th>\n",
       "      <th></th>\n",
       "      <th></th>\n",
       "      <th></th>\n",
       "      <th></th>\n",
       "      <th></th>\n",
       "      <th></th>\n",
       "      <th></th>\n",
       "      <th></th>\n",
       "    </tr>\n",
       "  </thead>\n",
       "  <tbody>\n",
       "    <tr>\n",
       "      <th>6</th>\n",
       "      <td>0</td>\n",
       "      <td>3</td>\n",
       "      <td>Moran, Mr. James</td>\n",
       "      <td>male</td>\n",
       "      <td>NaN</td>\n",
       "      <td>0</td>\n",
       "      <td>0</td>\n",
       "      <td>330877</td>\n",
       "      <td>8.4583</td>\n",
       "      <td>NaN</td>\n",
       "      <td>2</td>\n",
       "    </tr>\n",
       "    <tr>\n",
       "      <th>18</th>\n",
       "      <td>1</td>\n",
       "      <td>2</td>\n",
       "      <td>Williams, Mr. Charles Eugene</td>\n",
       "      <td>male</td>\n",
       "      <td>NaN</td>\n",
       "      <td>0</td>\n",
       "      <td>0</td>\n",
       "      <td>244373</td>\n",
       "      <td>13.0000</td>\n",
       "      <td>NaN</td>\n",
       "      <td>2</td>\n",
       "    </tr>\n",
       "    <tr>\n",
       "      <th>20</th>\n",
       "      <td>1</td>\n",
       "      <td>3</td>\n",
       "      <td>Masselmani, Mrs. Fatima</td>\n",
       "      <td>female</td>\n",
       "      <td>NaN</td>\n",
       "      <td>0</td>\n",
       "      <td>0</td>\n",
       "      <td>2649</td>\n",
       "      <td>7.2250</td>\n",
       "      <td>NaN</td>\n",
       "      <td>2</td>\n",
       "    </tr>\n",
       "    <tr>\n",
       "      <th>27</th>\n",
       "      <td>0</td>\n",
       "      <td>3</td>\n",
       "      <td>Emir, Mr. Farred Chehab</td>\n",
       "      <td>male</td>\n",
       "      <td>NaN</td>\n",
       "      <td>0</td>\n",
       "      <td>0</td>\n",
       "      <td>2631</td>\n",
       "      <td>7.2250</td>\n",
       "      <td>NaN</td>\n",
       "      <td>2</td>\n",
       "    </tr>\n",
       "    <tr>\n",
       "      <th>29</th>\n",
       "      <td>1</td>\n",
       "      <td>3</td>\n",
       "      <td>O'Dwyer, Miss. Ellen \"Nellie\"</td>\n",
       "      <td>female</td>\n",
       "      <td>NaN</td>\n",
       "      <td>0</td>\n",
       "      <td>0</td>\n",
       "      <td>330959</td>\n",
       "      <td>7.8792</td>\n",
       "      <td>NaN</td>\n",
       "      <td>2</td>\n",
       "    </tr>\n",
       "    <tr>\n",
       "      <th>...</th>\n",
       "      <td>...</td>\n",
       "      <td>...</td>\n",
       "      <td>...</td>\n",
       "      <td>...</td>\n",
       "      <td>...</td>\n",
       "      <td>...</td>\n",
       "      <td>...</td>\n",
       "      <td>...</td>\n",
       "      <td>...</td>\n",
       "      <td>...</td>\n",
       "      <td>...</td>\n",
       "    </tr>\n",
       "    <tr>\n",
       "      <th>860</th>\n",
       "      <td>0</td>\n",
       "      <td>3</td>\n",
       "      <td>Razi, Mr. Raihed</td>\n",
       "      <td>male</td>\n",
       "      <td>NaN</td>\n",
       "      <td>0</td>\n",
       "      <td>0</td>\n",
       "      <td>2629</td>\n",
       "      <td>7.2292</td>\n",
       "      <td>NaN</td>\n",
       "      <td>2</td>\n",
       "    </tr>\n",
       "    <tr>\n",
       "      <th>864</th>\n",
       "      <td>0</td>\n",
       "      <td>3</td>\n",
       "      <td>Sage, Miss. Dorothy Edith \"Dolly\"</td>\n",
       "      <td>female</td>\n",
       "      <td>NaN</td>\n",
       "      <td>8</td>\n",
       "      <td>2</td>\n",
       "      <td>CA. 2343</td>\n",
       "      <td>69.5500</td>\n",
       "      <td>NaN</td>\n",
       "      <td>2</td>\n",
       "    </tr>\n",
       "    <tr>\n",
       "      <th>869</th>\n",
       "      <td>0</td>\n",
       "      <td>3</td>\n",
       "      <td>van Melkebeke, Mr. Philemon</td>\n",
       "      <td>male</td>\n",
       "      <td>NaN</td>\n",
       "      <td>0</td>\n",
       "      <td>0</td>\n",
       "      <td>345777</td>\n",
       "      <td>9.5000</td>\n",
       "      <td>NaN</td>\n",
       "      <td>2</td>\n",
       "    </tr>\n",
       "    <tr>\n",
       "      <th>879</th>\n",
       "      <td>0</td>\n",
       "      <td>3</td>\n",
       "      <td>Laleff, Mr. Kristo</td>\n",
       "      <td>male</td>\n",
       "      <td>NaN</td>\n",
       "      <td>0</td>\n",
       "      <td>0</td>\n",
       "      <td>349217</td>\n",
       "      <td>7.8958</td>\n",
       "      <td>NaN</td>\n",
       "      <td>2</td>\n",
       "    </tr>\n",
       "    <tr>\n",
       "      <th>889</th>\n",
       "      <td>0</td>\n",
       "      <td>3</td>\n",
       "      <td>Johnston, Miss. Catherine Helen \"Carrie\"</td>\n",
       "      <td>female</td>\n",
       "      <td>NaN</td>\n",
       "      <td>1</td>\n",
       "      <td>2</td>\n",
       "      <td>W./C. 6607</td>\n",
       "      <td>23.4500</td>\n",
       "      <td>NaN</td>\n",
       "      <td>2</td>\n",
       "    </tr>\n",
       "  </tbody>\n",
       "</table>\n",
       "<p>177 rows × 11 columns</p>\n",
       "</div>"
      ],
      "text/plain": [
       "             Survived  Pclass                                      Name  \\\n",
       "PassengerId                                                               \n",
       "6                   0       3                          Moran, Mr. James   \n",
       "18                  1       2              Williams, Mr. Charles Eugene   \n",
       "20                  1       3                   Masselmani, Mrs. Fatima   \n",
       "27                  0       3                   Emir, Mr. Farred Chehab   \n",
       "29                  1       3             O'Dwyer, Miss. Ellen \"Nellie\"   \n",
       "...               ...     ...                                       ...   \n",
       "860                 0       3                          Razi, Mr. Raihed   \n",
       "864                 0       3         Sage, Miss. Dorothy Edith \"Dolly\"   \n",
       "869                 0       3               van Melkebeke, Mr. Philemon   \n",
       "879                 0       3                        Laleff, Mr. Kristo   \n",
       "889                 0       3  Johnston, Miss. Catherine Helen \"Carrie\"   \n",
       "\n",
       "                Sex  Age  SibSp  Parch      Ticket     Fare Cabin  Embarked  \n",
       "PassengerId                                                                  \n",
       "6              male  NaN      0      0      330877   8.4583   NaN         2  \n",
       "18             male  NaN      0      0      244373  13.0000   NaN         2  \n",
       "20           female  NaN      0      0        2649   7.2250   NaN         2  \n",
       "27             male  NaN      0      0        2631   7.2250   NaN         2  \n",
       "29           female  NaN      0      0      330959   7.8792   NaN         2  \n",
       "...             ...  ...    ...    ...         ...      ...   ...       ...  \n",
       "860            male  NaN      0      0        2629   7.2292   NaN         2  \n",
       "864          female  NaN      8      2    CA. 2343  69.5500   NaN         2  \n",
       "869            male  NaN      0      0      345777   9.5000   NaN         2  \n",
       "879            male  NaN      0      0      349217   7.8958   NaN         2  \n",
       "889          female  NaN      1      2  W./C. 6607  23.4500   NaN         2  \n",
       "\n",
       "[177 rows x 11 columns]"
      ]
     },
     "execution_count": 25,
     "metadata": {},
     "output_type": "execute_result"
    }
   ],
   "source": [
    "# train Age 결측치가 있는 행 출력\n",
    "train[train['Age'].isnull()]"
   ]
  },
  {
   "cell_type": "code",
   "execution_count": 26,
   "id": "72a9355d-4d9c-46c2-9d8e-6fe6760e797a",
   "metadata": {},
   "outputs": [
    {
     "data": {
      "text/plain": [
       "Age    30.740707\n",
       "Name: (2, male), dtype: float64"
      ]
     },
     "execution_count": 26,
     "metadata": {},
     "output_type": "execute_result"
    }
   ],
   "source": [
    "gb1.loc[(2,'male')]"
   ]
  },
  {
   "cell_type": "code",
   "execution_count": 27,
   "id": "1b03980c-3c82-424f-99e0-76fea0c512e5",
   "metadata": {},
   "outputs": [
    {
     "data": {
      "text/html": [
       "<div>\n",
       "<style scoped>\n",
       "    .dataframe tbody tr th:only-of-type {\n",
       "        vertical-align: middle;\n",
       "    }\n",
       "\n",
       "    .dataframe tbody tr th {\n",
       "        vertical-align: top;\n",
       "    }\n",
       "\n",
       "    .dataframe thead th {\n",
       "        text-align: right;\n",
       "    }\n",
       "</style>\n",
       "<table border=\"1\" class=\"dataframe\">\n",
       "  <thead>\n",
       "    <tr style=\"text-align: right;\">\n",
       "      <th></th>\n",
       "      <th></th>\n",
       "      <th>Age</th>\n",
       "    </tr>\n",
       "    <tr>\n",
       "      <th>Pclass</th>\n",
       "      <th>Sex</th>\n",
       "      <th></th>\n",
       "    </tr>\n",
       "  </thead>\n",
       "  <tbody>\n",
       "    <tr>\n",
       "      <th rowspan=\"2\" valign=\"top\">1</th>\n",
       "      <th>female</th>\n",
       "      <td>34.611765</td>\n",
       "    </tr>\n",
       "    <tr>\n",
       "      <th>male</th>\n",
       "      <td>41.281386</td>\n",
       "    </tr>\n",
       "    <tr>\n",
       "      <th rowspan=\"2\" valign=\"top\">2</th>\n",
       "      <th>female</th>\n",
       "      <td>28.722973</td>\n",
       "    </tr>\n",
       "    <tr>\n",
       "      <th>male</th>\n",
       "      <td>30.740707</td>\n",
       "    </tr>\n",
       "    <tr>\n",
       "      <th rowspan=\"2\" valign=\"top\">3</th>\n",
       "      <th>female</th>\n",
       "      <td>21.750000</td>\n",
       "    </tr>\n",
       "    <tr>\n",
       "      <th>male</th>\n",
       "      <td>26.507589</td>\n",
       "    </tr>\n",
       "  </tbody>\n",
       "</table>\n",
       "</div>"
      ],
      "text/plain": [
       "                     Age\n",
       "Pclass Sex              \n",
       "1      female  34.611765\n",
       "       male    41.281386\n",
       "2      female  28.722973\n",
       "       male    30.740707\n",
       "3      female  21.750000\n",
       "       male    26.507589"
      ]
     },
     "execution_count": 27,
     "metadata": {},
     "output_type": "execute_result"
    }
   ],
   "source": [
    "gb1"
   ]
  },
  {
   "cell_type": "code",
   "execution_count": 28,
   "id": "9718a37f-fecd-49fe-aaee-651a7e3db317",
   "metadata": {},
   "outputs": [],
   "source": [
    "# 규칙에 맞게 Pclass와 Sex에 따른 Age값 반환하는 함수\n",
    "def fill_age(row):\n",
    "    #row : 받아오는 행의 데이터 (매개변수)\n",
    "\n",
    "    # 만약 Age컬럼이 결측치라면 gb1 테이블의 값을 인덱싱\n",
    "    if np.isnan(row['Age']):\n",
    "        return gb1.loc[(row['Pclass'],row['Sex'])] #.iloc[0]\n",
    "\n",
    "    # 결측치가 아니라면 ~ 원래 나이 값을 사용\n",
    "    else:\n",
    "        return row['Age']"
   ]
  },
  {
   "cell_type": "code",
   "execution_count": 29,
   "id": "355c1f92-0f1c-47d1-b69c-6f73c9281984",
   "metadata": {},
   "outputs": [
    {
     "name": "stdout",
     "output_type": "stream",
     "text": [
      "<class 'pandas.core.frame.DataFrame'>\n",
      "Index: 891 entries, 1 to 891\n",
      "Data columns (total 11 columns):\n",
      " #   Column    Non-Null Count  Dtype  \n",
      "---  ------    --------------  -----  \n",
      " 0   Survived  891 non-null    int64  \n",
      " 1   Pclass    891 non-null    int64  \n",
      " 2   Name      891 non-null    object \n",
      " 3   Sex       891 non-null    object \n",
      " 4   Age       891 non-null    int64  \n",
      " 5   SibSp     891 non-null    int64  \n",
      " 6   Parch     891 non-null    int64  \n",
      " 7   Ticket    891 non-null    object \n",
      " 8   Fare      891 non-null    float64\n",
      " 9   Cabin     204 non-null    object \n",
      " 10  Embarked  891 non-null    int64  \n",
      "dtypes: float64(1), int64(6), object(4)\n",
      "memory usage: 83.5+ KB\n"
     ]
    },
    {
     "name": "stderr",
     "output_type": "stream",
     "text": [
      "C:\\Users\\smhrd1\\AppData\\Local\\Temp\\ipykernel_2684\\1129430468.py:1: FutureWarning: Calling int on a single element Series is deprecated and will raise a TypeError in the future. Use int(ser.iloc[0]) instead\n",
      "  train['Age'] = train.apply(fill_age, axis = 1).astype(np.int64)\n"
     ]
    }
   ],
   "source": [
    "train['Age'] = train.apply(fill_age, axis = 1).astype(np.int64)\n",
    "\n",
    "train.info()"
   ]
  },
  {
   "cell_type": "code",
   "execution_count": 30,
   "id": "2c4f6f82-d841-4753-a1fc-269390e277f5",
   "metadata": {},
   "outputs": [
    {
     "name": "stdout",
     "output_type": "stream",
     "text": [
      "<class 'pandas.core.frame.DataFrame'>\n",
      "Index: 418 entries, 892 to 1309\n",
      "Data columns (total 10 columns):\n",
      " #   Column    Non-Null Count  Dtype  \n",
      "---  ------    --------------  -----  \n",
      " 0   Pclass    418 non-null    int64  \n",
      " 1   Name      418 non-null    object \n",
      " 2   Sex       418 non-null    object \n",
      " 3   Age       418 non-null    int64  \n",
      " 4   SibSp     418 non-null    int64  \n",
      " 5   Parch     418 non-null    int64  \n",
      " 6   Ticket    418 non-null    object \n",
      " 7   Fare      418 non-null    float64\n",
      " 8   Cabin     91 non-null     object \n",
      " 9   Embarked  418 non-null    object \n",
      "dtypes: float64(1), int64(4), object(5)\n",
      "memory usage: 35.9+ KB\n"
     ]
    },
    {
     "name": "stderr",
     "output_type": "stream",
     "text": [
      "C:\\Users\\smhrd1\\AppData\\Local\\Temp\\ipykernel_2684\\2238907546.py:1: FutureWarning: Calling int on a single element Series is deprecated and will raise a TypeError in the future. Use int(ser.iloc[0]) instead\n",
      "  test['Age'] = test.apply(fill_age, axis = 1).astype(np.int64)\n"
     ]
    }
   ],
   "source": [
    "test['Age'] = test.apply(fill_age, axis = 1).astype(np.int64)\n",
    "\n",
    "test.info()"
   ]
  },
  {
   "cell_type": "markdown",
   "id": "f8b32a8b-cc7d-409e-a9c4-073f1f20dc10",
   "metadata": {},
   "source": [
    "## 정리\n",
    "- apply, fill_age\n",
    "- 테스트 데이터를 행단위로 쪼갠 것을 매개변수로 내줘서 안쪽 로직이 동작하도록 만듦.\n",
    "- 결과값으로 Age를 채울 수 있는 대표값(gb1?) 반환\n",
    "- 정수형(astype int)으로 반환해서 데이터의 'Age' 컬럼에 넣어줌"
   ]
  },
  {
   "cell_type": "code",
   "execution_count": null,
   "id": "a6c57ea7-868a-474b-a21f-5486231f1163",
   "metadata": {},
   "outputs": [],
   "source": []
  },
  {
   "cell_type": "markdown",
   "id": "40de0083-ab71-47ab-90f8-d5b356dedb22",
   "metadata": {},
   "source": [
    "- train, test Cabin 채우기\n",
    "    - Cabin 컬럼 데이터 확인\n",
    "    - 임의의 값으로 결측치를 채울 예정"
   ]
  },
  {
   "cell_type": "code",
   "execution_count": 235,
   "id": "6719bbd3-54d8-431b-ada6-6f24760c92ef",
   "metadata": {},
   "outputs": [
    {
     "data": {
      "text/html": [
       "<div>\n",
       "<style scoped>\n",
       "    .dataframe tbody tr th:only-of-type {\n",
       "        vertical-align: middle;\n",
       "    }\n",
       "\n",
       "    .dataframe tbody tr th {\n",
       "        vertical-align: top;\n",
       "    }\n",
       "\n",
       "    .dataframe thead th {\n",
       "        text-align: right;\n",
       "    }\n",
       "</style>\n",
       "<table border=\"1\" class=\"dataframe\">\n",
       "  <thead>\n",
       "    <tr style=\"text-align: right;\">\n",
       "      <th></th>\n",
       "      <th>Survived</th>\n",
       "      <th>Pclass</th>\n",
       "      <th>Name</th>\n",
       "      <th>Sex</th>\n",
       "      <th>Age</th>\n",
       "      <th>SibSp</th>\n",
       "      <th>Parch</th>\n",
       "      <th>Ticket</th>\n",
       "      <th>Fare</th>\n",
       "      <th>Embarked</th>\n",
       "      <th>Deck</th>\n",
       "      <th>Family_Size</th>\n",
       "      <th>Family_group</th>\n",
       "    </tr>\n",
       "    <tr>\n",
       "      <th>PassengerId</th>\n",
       "      <th></th>\n",
       "      <th></th>\n",
       "      <th></th>\n",
       "      <th></th>\n",
       "      <th></th>\n",
       "      <th></th>\n",
       "      <th></th>\n",
       "      <th></th>\n",
       "      <th></th>\n",
       "      <th></th>\n",
       "      <th></th>\n",
       "      <th></th>\n",
       "      <th></th>\n",
       "    </tr>\n",
       "  </thead>\n",
       "  <tbody>\n",
       "    <tr>\n",
       "      <th>1</th>\n",
       "      <td>0</td>\n",
       "      <td>3</td>\n",
       "      <td>Braund, Mr. Owen Harris</td>\n",
       "      <td>male</td>\n",
       "      <td>22</td>\n",
       "      <td>1</td>\n",
       "      <td>0</td>\n",
       "      <td>A/5 21171</td>\n",
       "      <td>7.2500</td>\n",
       "      <td>2</td>\n",
       "      <td>M</td>\n",
       "      <td>2</td>\n",
       "      <td>Small</td>\n",
       "    </tr>\n",
       "    <tr>\n",
       "      <th>2</th>\n",
       "      <td>1</td>\n",
       "      <td>1</td>\n",
       "      <td>Cumings, Mrs. John Bradley (Florence Briggs Th...</td>\n",
       "      <td>female</td>\n",
       "      <td>38</td>\n",
       "      <td>1</td>\n",
       "      <td>0</td>\n",
       "      <td>PC 17599</td>\n",
       "      <td>71.2833</td>\n",
       "      <td>2</td>\n",
       "      <td>C</td>\n",
       "      <td>2</td>\n",
       "      <td>Small</td>\n",
       "    </tr>\n",
       "    <tr>\n",
       "      <th>3</th>\n",
       "      <td>1</td>\n",
       "      <td>3</td>\n",
       "      <td>Heikkinen, Miss. Laina</td>\n",
       "      <td>female</td>\n",
       "      <td>26</td>\n",
       "      <td>0</td>\n",
       "      <td>0</td>\n",
       "      <td>STON/O2. 3101282</td>\n",
       "      <td>7.9250</td>\n",
       "      <td>2</td>\n",
       "      <td>M</td>\n",
       "      <td>1</td>\n",
       "      <td>Alone</td>\n",
       "    </tr>\n",
       "    <tr>\n",
       "      <th>4</th>\n",
       "      <td>1</td>\n",
       "      <td>1</td>\n",
       "      <td>Futrelle, Mrs. Jacques Heath (Lily May Peel)</td>\n",
       "      <td>female</td>\n",
       "      <td>35</td>\n",
       "      <td>1</td>\n",
       "      <td>0</td>\n",
       "      <td>113803</td>\n",
       "      <td>53.1000</td>\n",
       "      <td>2</td>\n",
       "      <td>C</td>\n",
       "      <td>2</td>\n",
       "      <td>Small</td>\n",
       "    </tr>\n",
       "    <tr>\n",
       "      <th>5</th>\n",
       "      <td>0</td>\n",
       "      <td>3</td>\n",
       "      <td>Allen, Mr. William Henry</td>\n",
       "      <td>male</td>\n",
       "      <td>35</td>\n",
       "      <td>0</td>\n",
       "      <td>0</td>\n",
       "      <td>373450</td>\n",
       "      <td>8.0500</td>\n",
       "      <td>2</td>\n",
       "      <td>M</td>\n",
       "      <td>1</td>\n",
       "      <td>Alone</td>\n",
       "    </tr>\n",
       "    <tr>\n",
       "      <th>...</th>\n",
       "      <td>...</td>\n",
       "      <td>...</td>\n",
       "      <td>...</td>\n",
       "      <td>...</td>\n",
       "      <td>...</td>\n",
       "      <td>...</td>\n",
       "      <td>...</td>\n",
       "      <td>...</td>\n",
       "      <td>...</td>\n",
       "      <td>...</td>\n",
       "      <td>...</td>\n",
       "      <td>...</td>\n",
       "      <td>...</td>\n",
       "    </tr>\n",
       "    <tr>\n",
       "      <th>887</th>\n",
       "      <td>0</td>\n",
       "      <td>2</td>\n",
       "      <td>Montvila, Rev. Juozas</td>\n",
       "      <td>male</td>\n",
       "      <td>27</td>\n",
       "      <td>0</td>\n",
       "      <td>0</td>\n",
       "      <td>211536</td>\n",
       "      <td>13.0000</td>\n",
       "      <td>2</td>\n",
       "      <td>M</td>\n",
       "      <td>1</td>\n",
       "      <td>Alone</td>\n",
       "    </tr>\n",
       "    <tr>\n",
       "      <th>888</th>\n",
       "      <td>1</td>\n",
       "      <td>1</td>\n",
       "      <td>Graham, Miss. Margaret Edith</td>\n",
       "      <td>female</td>\n",
       "      <td>19</td>\n",
       "      <td>0</td>\n",
       "      <td>0</td>\n",
       "      <td>112053</td>\n",
       "      <td>30.0000</td>\n",
       "      <td>2</td>\n",
       "      <td>B</td>\n",
       "      <td>1</td>\n",
       "      <td>Alone</td>\n",
       "    </tr>\n",
       "    <tr>\n",
       "      <th>889</th>\n",
       "      <td>0</td>\n",
       "      <td>3</td>\n",
       "      <td>Johnston, Miss. Catherine Helen \"Carrie\"</td>\n",
       "      <td>female</td>\n",
       "      <td>21</td>\n",
       "      <td>1</td>\n",
       "      <td>2</td>\n",
       "      <td>W./C. 6607</td>\n",
       "      <td>23.4500</td>\n",
       "      <td>2</td>\n",
       "      <td>M</td>\n",
       "      <td>4</td>\n",
       "      <td>Small</td>\n",
       "    </tr>\n",
       "    <tr>\n",
       "      <th>890</th>\n",
       "      <td>1</td>\n",
       "      <td>1</td>\n",
       "      <td>Behr, Mr. Karl Howell</td>\n",
       "      <td>male</td>\n",
       "      <td>26</td>\n",
       "      <td>0</td>\n",
       "      <td>0</td>\n",
       "      <td>111369</td>\n",
       "      <td>30.0000</td>\n",
       "      <td>2</td>\n",
       "      <td>C</td>\n",
       "      <td>1</td>\n",
       "      <td>Alone</td>\n",
       "    </tr>\n",
       "    <tr>\n",
       "      <th>891</th>\n",
       "      <td>0</td>\n",
       "      <td>3</td>\n",
       "      <td>Dooley, Mr. Patrick</td>\n",
       "      <td>male</td>\n",
       "      <td>32</td>\n",
       "      <td>0</td>\n",
       "      <td>0</td>\n",
       "      <td>370376</td>\n",
       "      <td>7.7500</td>\n",
       "      <td>2</td>\n",
       "      <td>M</td>\n",
       "      <td>1</td>\n",
       "      <td>Alone</td>\n",
       "    </tr>\n",
       "  </tbody>\n",
       "</table>\n",
       "<p>891 rows × 13 columns</p>\n",
       "</div>"
      ],
      "text/plain": [
       "             Survived  Pclass  \\\n",
       "PassengerId                     \n",
       "1                   0       3   \n",
       "2                   1       1   \n",
       "3                   1       3   \n",
       "4                   1       1   \n",
       "5                   0       3   \n",
       "...               ...     ...   \n",
       "887                 0       2   \n",
       "888                 1       1   \n",
       "889                 0       3   \n",
       "890                 1       1   \n",
       "891                 0       3   \n",
       "\n",
       "                                                          Name     Sex  Age  \\\n",
       "PassengerId                                                                   \n",
       "1                                      Braund, Mr. Owen Harris    male   22   \n",
       "2            Cumings, Mrs. John Bradley (Florence Briggs Th...  female   38   \n",
       "3                                       Heikkinen, Miss. Laina  female   26   \n",
       "4                 Futrelle, Mrs. Jacques Heath (Lily May Peel)  female   35   \n",
       "5                                     Allen, Mr. William Henry    male   35   \n",
       "...                                                        ...     ...  ...   \n",
       "887                                      Montvila, Rev. Juozas    male   27   \n",
       "888                               Graham, Miss. Margaret Edith  female   19   \n",
       "889                   Johnston, Miss. Catherine Helen \"Carrie\"  female   21   \n",
       "890                                      Behr, Mr. Karl Howell    male   26   \n",
       "891                                        Dooley, Mr. Patrick    male   32   \n",
       "\n",
       "             SibSp  Parch            Ticket     Fare  Embarked Deck  \\\n",
       "PassengerId                                                           \n",
       "1                1      0         A/5 21171   7.2500         2    M   \n",
       "2                1      0          PC 17599  71.2833         2    C   \n",
       "3                0      0  STON/O2. 3101282   7.9250         2    M   \n",
       "4                1      0            113803  53.1000         2    C   \n",
       "5                0      0            373450   8.0500         2    M   \n",
       "...            ...    ...               ...      ...       ...  ...   \n",
       "887              0      0            211536  13.0000         2    M   \n",
       "888              0      0            112053  30.0000         2    B   \n",
       "889              1      2        W./C. 6607  23.4500         2    M   \n",
       "890              0      0            111369  30.0000         2    C   \n",
       "891              0      0            370376   7.7500         2    M   \n",
       "\n",
       "             Family_Size Family_group  \n",
       "PassengerId                            \n",
       "1                      2        Small  \n",
       "2                      2        Small  \n",
       "3                      1        Alone  \n",
       "4                      2        Small  \n",
       "5                      1        Alone  \n",
       "...                  ...          ...  \n",
       "887                    1        Alone  \n",
       "888                    1        Alone  \n",
       "889                    4        Small  \n",
       "890                    1        Alone  \n",
       "891                    1        Alone  \n",
       "\n",
       "[891 rows x 13 columns]"
      ]
     },
     "execution_count": 235,
     "metadata": {},
     "output_type": "execute_result"
    }
   ],
   "source": [
    "# train 기준으로 데이터 확인\n",
    "train"
   ]
  },
  {
   "cell_type": "code",
   "execution_count": 32,
   "id": "1747b973-8150-4b3f-a046-bcdbe242832a",
   "metadata": {},
   "outputs": [
    {
     "name": "stdout",
     "output_type": "stream",
     "text": [
      "<class 'pandas.core.series.Series'>\n",
      "Index: 891 entries, 1 to 891\n",
      "Series name: Cabin\n",
      "Non-Null Count  Dtype \n",
      "--------------  ----- \n",
      "204 non-null    object\n",
      "dtypes: object(1)\n",
      "memory usage: 13.9+ KB\n"
     ]
    }
   ],
   "source": [
    "train['Cabin'].info()\n",
    "\n",
    "#타이타닉 호는 A, B, C ... 층으로 표기를 한다. #알파벳만 뽑아서 사용"
   ]
  },
  {
   "cell_type": "code",
   "execution_count": 33,
   "id": "2bd23c36-ab1b-43fb-b30c-4a762e6c8e63",
   "metadata": {},
   "outputs": [],
   "source": [
    "# 우선 임의의 값으로 train, test의 Cavin 결측치를 채워보자\n",
    "# 'M'\n",
    "train['Cabin'] = train['Cabin'].fillna('M')\n",
    "test['Cabin'] = test['Cabin'].fillna('M')"
   ]
  },
  {
   "cell_type": "code",
   "execution_count": 34,
   "id": "ba5144f2-39e5-43c3-beb9-cced60295f0b",
   "metadata": {},
   "outputs": [
    {
     "name": "stdout",
     "output_type": "stream",
     "text": [
      "<class 'pandas.core.series.Series'>\n",
      "Index: 891 entries, 1 to 891\n",
      "Series name: Cabin\n",
      "Non-Null Count  Dtype \n",
      "--------------  ----- \n",
      "891 non-null    object\n",
      "dtypes: object(1)\n",
      "memory usage: 13.9+ KB\n"
     ]
    }
   ],
   "source": [
    "train['Cabin'].info()"
   ]
  },
  {
   "cell_type": "code",
   "execution_count": 35,
   "id": "457875b1-e75f-4770-8e64-5a13d9f752a8",
   "metadata": {},
   "outputs": [
    {
     "data": {
      "text/plain": [
       "(Index(['Survived', 'Pclass', 'Name', 'Sex', 'Age', 'SibSp', 'Parch', 'Ticket',\n",
       "        'Fare', 'Cabin', 'Embarked', 'Deck'],\n",
       "       dtype='object'),\n",
       " Index(['Pclass', 'Name', 'Sex', 'Age', 'SibSp', 'Parch', 'Ticket', 'Fare',\n",
       "        'Cabin', 'Embarked', 'Deck'],\n",
       "       dtype='object'))"
      ]
     },
     "execution_count": 35,
     "metadata": {},
     "output_type": "execute_result"
    }
   ],
   "source": [
    "# 첫글자 알파벳 1개만 추출하기\n",
    "train['Deck'] = train['Cabin'].str[0]\n",
    "#str : 데이터 내부 문자열에 접근\n",
    "\n",
    "test['Deck'] = test['Cabin'].str[0]\n",
    "\n",
    "# 컬럼 확인\n",
    "train.columns, test.columns"
   ]
  },
  {
   "cell_type": "code",
   "execution_count": 36,
   "id": "842ddd03-4a28-4250-982c-5caa1a516373",
   "metadata": {},
   "outputs": [],
   "source": [
    "# Cabin 컬럼 삭제\n",
    "# .drop([컬럼명1, 컬럼명2], axis= , inplace = )\n",
    "# axis = 0, 행 삭제\n",
    "# axis = 1, 열 삭제\n",
    "\n",
    "train.drop('Cabin', axis=1, inplace=True)\n",
    "test.drop('Cabin', axis=1, inplace=True)"
   ]
  },
  {
   "cell_type": "code",
   "execution_count": 37,
   "id": "fc56bb7d-5d07-4102-91b9-36ae0045a1f4",
   "metadata": {},
   "outputs": [
    {
     "name": "stdout",
     "output_type": "stream",
     "text": [
      "<class 'pandas.core.frame.DataFrame'>\n",
      "Index: 891 entries, 1 to 891\n",
      "Data columns (total 11 columns):\n",
      " #   Column    Non-Null Count  Dtype  \n",
      "---  ------    --------------  -----  \n",
      " 0   Survived  891 non-null    int64  \n",
      " 1   Pclass    891 non-null    int64  \n",
      " 2   Name      891 non-null    object \n",
      " 3   Sex       891 non-null    object \n",
      " 4   Age       891 non-null    int64  \n",
      " 5   SibSp     891 non-null    int64  \n",
      " 6   Parch     891 non-null    int64  \n",
      " 7   Ticket    891 non-null    object \n",
      " 8   Fare      891 non-null    float64\n",
      " 9   Embarked  891 non-null    int64  \n",
      " 10  Deck      891 non-null    object \n",
      "dtypes: float64(1), int64(6), object(4)\n",
      "memory usage: 83.5+ KB\n",
      "<class 'pandas.core.frame.DataFrame'>\n",
      "Index: 418 entries, 892 to 1309\n",
      "Data columns (total 10 columns):\n",
      " #   Column    Non-Null Count  Dtype  \n",
      "---  ------    --------------  -----  \n",
      " 0   Pclass    418 non-null    int64  \n",
      " 1   Name      418 non-null    object \n",
      " 2   Sex       418 non-null    object \n",
      " 3   Age       418 non-null    int64  \n",
      " 4   SibSp     418 non-null    int64  \n",
      " 5   Parch     418 non-null    int64  \n",
      " 6   Ticket    418 non-null    object \n",
      " 7   Fare      418 non-null    float64\n",
      " 8   Embarked  418 non-null    object \n",
      " 9   Deck      418 non-null    object \n",
      "dtypes: float64(1), int64(4), object(5)\n",
      "memory usage: 35.9+ KB\n"
     ]
    }
   ],
   "source": [
    "train.info()\n",
    "test.info()"
   ]
  },
  {
   "cell_type": "markdown",
   "id": "e9fc4bf2-b9da-4cf7-8d00-de0a7648da1e",
   "metadata": {},
   "source": [
    "- Deck 시각화"
   ]
  },
  {
   "cell_type": "code",
   "execution_count": 38,
   "id": "b812ebd1-0404-4fa2-90be-af7bda99c587",
   "metadata": {},
   "outputs": [
    {
     "name": "stderr",
     "output_type": "stream",
     "text": [
      "C:\\Users\\smhrd1\\anaconda3\\Lib\\site-packages\\seaborn\\_base.py:948: FutureWarning: When grouping with a length-1 list-like, you will need to pass a length-1 tuple to get_group in a future version of pandas. Pass `(name,)` instead of `name` to silence this warning.\n",
      "  data_subset = grouped_data.get_group(pd_key)\n",
      "C:\\Users\\smhrd1\\anaconda3\\Lib\\site-packages\\seaborn\\_base.py:948: FutureWarning: When grouping with a length-1 list-like, you will need to pass a length-1 tuple to get_group in a future version of pandas. Pass `(name,)` instead of `name` to silence this warning.\n",
      "  data_subset = grouped_data.get_group(pd_key)\n"
     ]
    },
    {
     "data": {
      "image/png": "[encoded data removed]",
      "text/plain": [
       "<Figure size 640x480 with 1 Axes>"
      ]
     },
     "metadata": {},
     "output_type": "display_data"
    }
   ],
   "source": [
    "# sns 시각화 도구를 사용해서 범주형 데이터 Deck을 시각화해보자\n",
    "\n",
    "sns.countplot(data = train, x='Deck', hue='Survived')\n",
    "#countplot 개수 시각화\n",
    "# x : x축\n",
    "# hue : 분할 기준(나타내고자 하는 것)\n",
    "plt.show()"
   ]
  },
  {
   "cell_type": "code",
   "execution_count": 39,
   "id": "50facc93-e511-4ea5-ac23-cc7ed3e072b0",
   "metadata": {},
   "outputs": [],
   "source": [
    "# M층에서는 상대적으로 사망률이 높음 (0 = 사망률)\n",
    "# 결측치 = 죽었기 때문에...!\n",
    "# M은 임의로 채워놓은 값이기 때문에 다른 컬럼 참고"
   ]
  },
  {
   "cell_type": "code",
   "execution_count": 40,
   "id": "be6868e2-7b52-43d6-a911-68ffec947005",
   "metadata": {},
   "outputs": [
    {
     "name": "stderr",
     "output_type": "stream",
     "text": [
      "C:\\Users\\smhrd1\\anaconda3\\Lib\\site-packages\\seaborn\\_base.py:948: FutureWarning: When grouping with a length-1 list-like, you will need to pass a length-1 tuple to get_group in a future version of pandas. Pass `(name,)` instead of `name` to silence this warning.\n",
      "  data_subset = grouped_data.get_group(pd_key)\n",
      "C:\\Users\\smhrd1\\anaconda3\\Lib\\site-packages\\seaborn\\_base.py:948: FutureWarning: When grouping with a length-1 list-like, you will need to pass a length-1 tuple to get_group in a future version of pandas. Pass `(name,)` instead of `name` to silence this warning.\n",
      "  data_subset = grouped_data.get_group(pd_key)\n"
     ]
    },
    {
     "data": {
      "image/png": "[encoded data removed]",
      "text/plain": [
       "<Figure size 640x480 with 1 Axes>"
      ]
     },
     "metadata": {},
     "output_type": "display_data"
    }
   ],
   "source": [
    "# Pclass가 사망에 얼마나 영향을 미쳤는지 시각화\n",
    "sns.countplot(train, x = 'Pclass', hue = 'Survived')\n",
    "plt.show()"
   ]
  },
  {
   "cell_type": "markdown",
   "id": "c5297d3d-f47d-4b78-91c6-9c5383f8ca32",
   "metadata": {},
   "source": [
    "- Deck과 Pclass 시각화\n",
    "- x축 : Deck, hue : Pclass"
   ]
  },
  {
   "cell_type": "code",
   "execution_count": 41,
   "id": "ce8ffc59-eb5a-4028-bdf0-175316412eb9",
   "metadata": {},
   "outputs": [
    {
     "name": "stderr",
     "output_type": "stream",
     "text": [
      "C:\\Users\\smhrd1\\anaconda3\\Lib\\site-packages\\seaborn\\_base.py:948: FutureWarning: When grouping with a length-1 list-like, you will need to pass a length-1 tuple to get_group in a future version of pandas. Pass `(name,)` instead of `name` to silence this warning.\n",
      "  data_subset = grouped_data.get_group(pd_key)\n",
      "C:\\Users\\smhrd1\\anaconda3\\Lib\\site-packages\\seaborn\\_base.py:948: FutureWarning: When grouping with a length-1 list-like, you will need to pass a length-1 tuple to get_group in a future version of pandas. Pass `(name,)` instead of `name` to silence this warning.\n",
      "  data_subset = grouped_data.get_group(pd_key)\n",
      "C:\\Users\\smhrd1\\anaconda3\\Lib\\site-packages\\seaborn\\_base.py:948: FutureWarning: When grouping with a length-1 list-like, you will need to pass a length-1 tuple to get_group in a future version of pandas. Pass `(name,)` instead of `name` to silence this warning.\n",
      "  data_subset = grouped_data.get_group(pd_key)\n"
     ]
    },
    {
     "data": {
      "image/png": "[encoded data removed]",
      "text/plain": [
       "<Figure size 640x480 with 1 Axes>"
      ]
     },
     "metadata": {},
     "output_type": "display_data"
    }
   ],
   "source": [
    "sns.countplot(data = train, x = 'Deck', hue='Pclass')\n",
    "plt.legend()\n",
    "plt.show()"
   ]
  },
  {
   "cell_type": "code",
   "execution_count": 42,
   "id": "f0a62639-b186-424d-905e-1424b69a2aad",
   "metadata": {},
   "outputs": [],
   "source": [
    "# M층은 객실 등급 3등석인 경우가 대부분임\n",
    "# 그래서 상대적으로 사망률 높았음\n",
    "# m층 = Pclass가 3\n",
    "# M이라는 데이터는 더이상 신경쓰지 않음. 3등석이기 때문에 사망률 높았음\n"
   ]
  },
  {
   "cell_type": "code",
   "execution_count": null,
   "id": "a42b743f-2a32-4f73-bb20-53d13345fa50",
   "metadata": {},
   "outputs": [],
   "source": []
  },
  {
   "cell_type": "markdown",
   "id": "f562df59-b5a4-4cb0-8b60-ce3260d55e8f",
   "metadata": {},
   "source": [
    "- 성별에 따른 생존/사망 시각화"
   ]
  },
  {
   "cell_type": "code",
   "execution_count": 43,
   "id": "afdfa4c8-2ce3-49c3-9e51-d2345448d50e",
   "metadata": {},
   "outputs": [
    {
     "name": "stderr",
     "output_type": "stream",
     "text": [
      "C:\\Users\\smhrd1\\anaconda3\\Lib\\site-packages\\seaborn\\_base.py:948: FutureWarning: When grouping with a length-1 list-like, you will need to pass a length-1 tuple to get_group in a future version of pandas. Pass `(name,)` instead of `name` to silence this warning.\n",
      "  data_subset = grouped_data.get_group(pd_key)\n",
      "C:\\Users\\smhrd1\\anaconda3\\Lib\\site-packages\\seaborn\\_base.py:948: FutureWarning: When grouping with a length-1 list-like, you will need to pass a length-1 tuple to get_group in a future version of pandas. Pass `(name,)` instead of `name` to silence this warning.\n",
      "  data_subset = grouped_data.get_group(pd_key)\n"
     ]
    },
    {
     "data": {
      "image/png": "[encoded data removed]",
      "text/plain": [
       "<Figure size 640x480 with 1 Axes>"
      ]
     },
     "metadata": {},
     "output_type": "display_data"
    }
   ],
   "source": [
    "sns.countplot(data = train, x = 'Sex', hue = 'Survived')\n",
    "plt.show()"
   ]
  },
  {
   "cell_type": "code",
   "execution_count": 44,
   "id": "1ad4e70a-d8a4-4f6b-a6e9-706fee15e377",
   "metadata": {},
   "outputs": [
    {
     "name": "stderr",
     "output_type": "stream",
     "text": [
      "C:\\Users\\smhrd1\\anaconda3\\Lib\\site-packages\\seaborn\\_base.py:948: FutureWarning: When grouping with a length-1 list-like, you will need to pass a length-1 tuple to get_group in a future version of pandas. Pass `(name,)` instead of `name` to silence this warning.\n",
      "  data_subset = grouped_data.get_group(pd_key)\n",
      "C:\\Users\\smhrd1\\anaconda3\\Lib\\site-packages\\seaborn\\_base.py:948: FutureWarning: When grouping with a length-1 list-like, you will need to pass a length-1 tuple to get_group in a future version of pandas. Pass `(name,)` instead of `name` to silence this warning.\n",
      "  data_subset = grouped_data.get_group(pd_key)\n"
     ]
    },
    {
     "data": {
      "image/png": "[encoded data removed]",
      "text/plain": [
       "<Figure size 640x480 with 1 Axes>"
      ]
     },
     "metadata": {},
     "output_type": "display_data"
    }
   ],
   "source": [
    "sns.countplot(data = train, x = 'Embarked', hue = 'Survived')\n",
    "plt.show()"
   ]
  },
  {
   "cell_type": "code",
   "execution_count": 45,
   "id": "d880a9d3-0926-4959-8551-06b36684bf54",
   "metadata": {},
   "outputs": [
    {
     "name": "stderr",
     "output_type": "stream",
     "text": [
      "C:\\Users\\smhrd1\\anaconda3\\Lib\\site-packages\\seaborn\\_base.py:948: FutureWarning: When grouping with a length-1 list-like, you will need to pass a length-1 tuple to get_group in a future version of pandas. Pass `(name,)` instead of `name` to silence this warning.\n",
      "  data_subset = grouped_data.get_group(pd_key)\n",
      "C:\\Users\\smhrd1\\anaconda3\\Lib\\site-packages\\seaborn\\_base.py:948: FutureWarning: When grouping with a length-1 list-like, you will need to pass a length-1 tuple to get_group in a future version of pandas. Pass `(name,)` instead of `name` to silence this warning.\n",
      "  data_subset = grouped_data.get_group(pd_key)\n",
      "C:\\Users\\smhrd1\\anaconda3\\Lib\\site-packages\\seaborn\\_base.py:948: FutureWarning: When grouping with a length-1 list-like, you will need to pass a length-1 tuple to get_group in a future version of pandas. Pass `(name,)` instead of `name` to silence this warning.\n",
      "  data_subset = grouped_data.get_group(pd_key)\n"
     ]
    },
    {
     "data": {
      "image/png": "[encoded data removed]",
      "text/plain": [
       "<Figure size 640x480 with 1 Axes>"
      ]
     },
     "metadata": {},
     "output_type": "display_data"
    }
   ],
   "source": [
    "# S 승선항에서 Pclass가 3인 사람이 많이 탄 건 아닌가?\n",
    "sns.countplot(data = train, x = 'Embarked', hue = 'Pclass')\n",
    "plt.show()"
   ]
  },
  {
   "cell_type": "code",
   "execution_count": 46,
   "id": "362ac1fe-0584-4596-a44e-ba79cb1fc935",
   "metadata": {},
   "outputs": [
    {
     "name": "stderr",
     "output_type": "stream",
     "text": [
      "C:\\Users\\smhrd1\\anaconda3\\Lib\\site-packages\\seaborn\\_base.py:948: FutureWarning: When grouping with a length-1 list-like, you will need to pass a length-1 tuple to get_group in a future version of pandas. Pass `(name,)` instead of `name` to silence this warning.\n",
      "  data_subset = grouped_data.get_group(pd_key)\n",
      "C:\\Users\\smhrd1\\anaconda3\\Lib\\site-packages\\seaborn\\_base.py:948: FutureWarning: When grouping with a length-1 list-like, you will need to pass a length-1 tuple to get_group in a future version of pandas. Pass `(name,)` instead of `name` to silence this warning.\n",
      "  data_subset = grouped_data.get_group(pd_key)\n"
     ]
    },
    {
     "data": {
      "image/png": "[encoded data removed]",
      "text/plain": [
       "<Figure size 640x480 with 1 Axes>"
      ]
     },
     "metadata": {},
     "output_type": "display_data"
    }
   ],
   "source": [
    "sns.countplot(data = train, x = 'Age', hue='Survived')\n",
    "plt.show()"
   ]
  },
  {
   "cell_type": "code",
   "execution_count": 47,
   "id": "da7022c8-d7e8-4b2a-94e5-2134020150a2",
   "metadata": {},
   "outputs": [
    {
     "data": {
      "image/png": "[encoded data removed]",
      "text/plain": [
       "<Figure size 640x480 with 1 Axes>"
      ]
     },
     "metadata": {},
     "output_type": "display_data"
    }
   ],
   "source": [
    "# 나이 데이터를 countplot으로 시각화했더니 해석하기가 힘듦\n",
    "\n",
    "#violinplot을 활용 : 수치형 데이터의 분포를 확인할 때 사용하는 그래프\n",
    "# 바이올린 형태로 데이터 분포와 밀도를 곡선으로 표현한 그래프\n",
    "# 데이터 많이 존재하는 부분은 두껍게, 데이터가 적게 존재하는 부분은 얇게\n",
    "\n",
    "# 성별과 나이에 따른 생존/사망자 수\n",
    "sns.violinplot(\n",
    "    data = train,\n",
    "    x = 'Sex',\n",
    "    y = 'Age',\n",
    "    hue = 'Survived',\n",
    "    split = True, #데이터를 양쪽에 나눠서 표현\n",
    "    inner = 'stick' #바이올린 내부에 개별 데이터선\n",
    ")\n",
    "\n",
    "plt.ylim(0,100)\n",
    "plt.show()"
   ]
  },
  {
   "cell_type": "code",
   "execution_count": 48,
   "id": "8ee82275-5f2a-45bd-8942-983bc39a1804",
   "metadata": {},
   "outputs": [
    {
     "data": {
      "image/png": "[encoded data removed]",
      "text/plain": [
       "<Figure size 640x480 with 1 Axes>"
      ]
     },
     "metadata": {},
     "output_type": "display_data"
    }
   ],
   "source": [
    "\n",
    "sns.violinplot(\n",
    "    data = train,\n",
    "    x = 'Sex',\n",
    "    y = 'Fare',\n",
    "    hue = 'Survived',\n",
    "    split = True, #데이터를 양쪽에 나눠서 표현\n",
    "    inner = 'stick' #바이올린 내부에 개별 데이터선\n",
    ")\n",
    "\n",
    "plt.ylim(0,100)\n",
    "plt.show()"
   ]
  },
  {
   "cell_type": "code",
   "execution_count": 49,
   "id": "c6e2b009-8859-4fc5-867f-4472f692e4c5",
   "metadata": {},
   "outputs": [],
   "source": [
    "#성별 불문, 요금이 저렴한 사람들의 사망률이 높았음."
   ]
  },
  {
   "cell_type": "markdown",
   "id": "43aa64f7-d82a-4ff1-8747-c997e41d7084",
   "metadata": {},
   "source": [
    "- 특성공학 : 새로운 컬럼 생성(transform)\n",
    "   - Parch, Sibsp를 더해서 가족의 숫자라는 새로운 컬럼 생성\n",
    "   - train, test 동일하게 적용"
   ]
  },
  {
   "cell_type": "code",
   "execution_count": 50,
   "id": "ccdcff99-e127-414e-8ff0-ffb11cc498c0",
   "metadata": {},
   "outputs": [
    {
     "data": {
      "text/plain": [
       "PassengerId\n",
       "1      2\n",
       "2      2\n",
       "3      1\n",
       "4      2\n",
       "5      1\n",
       "      ..\n",
       "887    1\n",
       "888    1\n",
       "889    4\n",
       "890    1\n",
       "891    1\n",
       "Name: Family_Size, Length: 891, dtype: int64"
      ]
     },
     "execution_count": 50,
     "metadata": {},
     "output_type": "execute_result"
    }
   ],
   "source": [
    "# train\n",
    "train['Family_Size'] = train['Parch'] + train['SibSp'] + 1 # 본인 포함\n",
    "train['Family_Size']"
   ]
  },
  {
   "cell_type": "code",
   "execution_count": 51,
   "id": "f3bd9e19-2d09-40cf-81f8-b66545f2ba69",
   "metadata": {},
   "outputs": [
    {
     "name": "stderr",
     "output_type": "stream",
     "text": [
      "C:\\Users\\smhrd1\\anaconda3\\Lib\\site-packages\\seaborn\\_base.py:948: FutureWarning: When grouping with a length-1 list-like, you will need to pass a length-1 tuple to get_group in a future version of pandas. Pass `(name,)` instead of `name` to silence this warning.\n",
      "  data_subset = grouped_data.get_group(pd_key)\n",
      "C:\\Users\\smhrd1\\anaconda3\\Lib\\site-packages\\seaborn\\_base.py:948: FutureWarning: When grouping with a length-1 list-like, you will need to pass a length-1 tuple to get_group in a future version of pandas. Pass `(name,)` instead of `name` to silence this warning.\n",
      "  data_subset = grouped_data.get_group(pd_key)\n"
     ]
    },
    {
     "data": {
      "image/png": "[encoded data removed]",
      "text/plain": [
       "<Figure size 640x480 with 1 Axes>"
      ]
     },
     "metadata": {},
     "output_type": "display_data"
    }
   ],
   "source": [
    "# 시각화\n",
    "sns.countplot(data = train, x = 'Family_Size', hue = 'Survived')\n",
    "plt.show()"
   ]
  },
  {
   "cell_type": "code",
   "execution_count": 52,
   "id": "5e7a2dc1-b5c2-451b-882e-04ff09d6cbb0",
   "metadata": {},
   "outputs": [],
   "source": [
    "# 1명일 경우, 사망률이 높다. - alone\n",
    "# 2명 ~ 4명일 경우 생존율이 높음 - small\n",
    "# 5명 이상일 경우, 사망률이 높음 - large"
   ]
  },
  {
   "cell_type": "markdown",
   "id": "861748b0-533d-4cfe-ad5e-80b504452269",
   "metadata": {},
   "source": [
    "- 가족의 사이즈가 1이면 Alone, 2~4명이면 Small, 5명 이상이면 Large로 바꿔줌\n",
    "- train, test 둘 다 변경"
   ]
  },
  {
   "cell_type": "code",
   "execution_count": 53,
   "id": "c305bc4b-b10c-4a55-8cf3-1d6a57918f7a",
   "metadata": {},
   "outputs": [],
   "source": [
    "bins = [0, 1, 4, 11]\n",
    "# (0, 1] -> 0 초과 1 이하\n",
    "# (1, 4] -> 1 초과 4 이하\n",
    "# (4, 11] -> 4 초과 11 이하\n",
    "\n",
    "labels = ['Alone', 'Small', 'Large']\n",
    "\n",
    "#cut : 연속적인 수치형 데이터를 일정 범위로 나누어줌 > 범주형\n",
    "train['Family_group'] = pd.cut(train['Family_Size'], bins = [0, 1, 4, 11], labels = ['Alone', 'Small', 'Large'])"
   ]
  },
  {
   "cell_type": "code",
   "execution_count": 54,
   "id": "aff401c4-1e22-4ba5-bc9e-b9a8d4e9a1c3",
   "metadata": {},
   "outputs": [],
   "source": [
    "# test 데이터도 binning\n",
    "train['Family_group'] = pd.cut(train['Family_Size'], bins = [0, 1, 4, 11], labels= labels)"
   ]
  },
  {
   "cell_type": "code",
   "execution_count": 55,
   "id": "fff9280c-0042-4776-a9fc-383aaa6cd0ae",
   "metadata": {
    "scrolled": true
   },
   "outputs": [
    {
     "name": "stderr",
     "output_type": "stream",
     "text": [
      "C:\\Users\\smhrd1\\anaconda3\\Lib\\site-packages\\seaborn\\_base.py:948: FutureWarning: When grouping with a length-1 list-like, you will need to pass a length-1 tuple to get_group in a future version of pandas. Pass `(name,)` instead of `name` to silence this warning.\n",
      "  data_subset = grouped_data.get_group(pd_key)\n",
      "C:\\Users\\smhrd1\\anaconda3\\Lib\\site-packages\\seaborn\\_base.py:948: FutureWarning: When grouping with a length-1 list-like, you will need to pass a length-1 tuple to get_group in a future version of pandas. Pass `(name,)` instead of `name` to silence this warning.\n",
      "  data_subset = grouped_data.get_group(pd_key)\n"
     ]
    },
    {
     "data": {
      "image/png": "[encoded data removed]",
      "text/plain": [
       "<Figure size 640x480 with 1 Axes>"
      ]
     },
     "metadata": {},
     "output_type": "display_data"
    }
   ],
   "source": [
    "# Family_group 시각화 \n",
    "\n",
    "sns.countplot(\n",
    "    data = train,\n",
    "    x = 'Family_group',\n",
    "    hue = 'Survived'  \n",
    ")\n",
    "plt.show()"
   ]
  },
  {
   "cell_type": "markdown",
   "id": "10467cc5-0767-4f0f-b541-d1bd4c9e232b",
   "metadata": {},
   "source": [
    "- 불필요한 컬럼 삭제\n",
    "   - drop\n",
    "   - 전처리 대상에서 제외된 컬럼과 특성공학 후 불필요해진 컬럼"
   ]
  },
  {
   "cell_type": "code",
   "execution_count": 56,
   "id": "d3042ac9-73f1-49a8-bbf5-8e2f521520cb",
   "metadata": {},
   "outputs": [
    {
     "name": "stdout",
     "output_type": "stream",
     "text": [
      "<class 'pandas.core.frame.DataFrame'>\n",
      "Index: 891 entries, 1 to 891\n",
      "Data columns (total 13 columns):\n",
      " #   Column        Non-Null Count  Dtype   \n",
      "---  ------        --------------  -----   \n",
      " 0   Survived      891 non-null    int64   \n",
      " 1   Pclass        891 non-null    int64   \n",
      " 2   Name          891 non-null    object  \n",
      " 3   Sex           891 non-null    object  \n",
      " 4   Age           891 non-null    int64   \n",
      " 5   SibSp         891 non-null    int64   \n",
      " 6   Parch         891 non-null    int64   \n",
      " 7   Ticket        891 non-null    object  \n",
      " 8   Fare          891 non-null    float64 \n",
      " 9   Embarked      891 non-null    int64   \n",
      " 10  Deck          891 non-null    object  \n",
      " 11  Family_Size   891 non-null    int64   \n",
      " 12  Family_group  891 non-null    category\n",
      "dtypes: category(1), float64(1), int64(7), object(4)\n",
      "memory usage: 91.5+ KB\n"
     ]
    }
   ],
   "source": [
    "train.info()\n",
    "\n",
    "#삭제 대상\n",
    "#전처리 후 필요없어진 컬럼\n",
    "#전처리하지 않은 컬럼 중 불필요한 컬럼 (이름, 티켓 등)"
   ]
  },
  {
   "cell_type": "code",
   "execution_count": 57,
   "id": "3fe51dce-d89a-402b-946d-7fc530e66d6d",
   "metadata": {},
   "outputs": [],
   "source": [
    "test.drop(['Name', 'Ticket', 'SibSp', 'Parch'], axis = 1, inplace = True)"
   ]
  },
  {
   "cell_type": "code",
   "execution_count": 58,
   "id": "1e5e6c0c-817f-497b-ab98-838208a39d6b",
   "metadata": {},
   "outputs": [
    {
     "data": {
      "text/plain": [
       "((891, 13), (418, 6))"
      ]
     },
     "execution_count": 58,
     "metadata": {},
     "output_type": "execute_result"
    }
   ],
   "source": [
    "train.shape, test.shape"
   ]
  },
  {
   "cell_type": "markdown",
   "id": "40b2ea45-5966-4367-820d-438574b42a11",
   "metadata": {},
   "source": [
    "- train에는 정답데이터와 문제데이터가 하나의 프레임으로 들어가 있는 상태 (X_train, y_train)\n",
    "- test는 정답을 제공하지 않음 (X_test)\n",
    "  "
   ]
  },
  {
   "cell_type": "code",
   "execution_count": 59,
   "id": "fb5e57bb-eb76-4671-87c2-7bd2b0c8ef7e",
   "metadata": {
    "scrolled": true
   },
   "outputs": [
    {
     "name": "stdout",
     "output_type": "stream",
     "text": [
      "(891, 12) (891,)\n",
      "(418, 6)\n"
     ]
    }
   ],
   "source": [
    "X_train = train.drop('Survived', axis = 1)\n",
    "y_train = train['Survived']\n",
    "\n",
    "X_test = test\n",
    "\n",
    "print(X_train.shape, y_train.shape)\n",
    "print(X_test.shape)"
   ]
  },
  {
   "cell_type": "markdown",
   "id": "2d36566d-10a2-4e09-8650-372f728bf6f1",
   "metadata": {},
   "source": [
    "- 범주형 데이터는 학습용으로 사용할 수 없으니, 수치형 변환\n",
    "- Encoding\n",
    "- 구분 용도를 위해 one-hot Encoding"
   ]
  },
  {
   "cell_type": "code",
   "execution_count": 60,
   "id": "aa8cbe70-96cb-4784-953b-b57719bd6d2b",
   "metadata": {},
   "outputs": [],
   "source": [
    "X_train_one_hot = pd.get_dummies(X_train)\n",
    "X_test_one_hot = pd.get_dummies(X_test)"
   ]
  },
  {
   "cell_type": "code",
   "execution_count": 61,
   "id": "4ec146f4-3ff7-40ee-a6c7-e4247b56ff46",
   "metadata": {},
   "outputs": [
    {
     "data": {
      "text/plain": [
       "(891, 1593)"
      ]
     },
     "execution_count": 61,
     "metadata": {},
     "output_type": "execute_result"
    }
   ],
   "source": [
    "X_train_one_hot.shape"
   ]
  },
  {
   "cell_type": "code",
   "execution_count": 62,
   "id": "c8a67195-13eb-41a3-b265-0660a23969ac",
   "metadata": {},
   "outputs": [
    {
     "data": {
      "text/plain": [
       "(418, 16)"
      ]
     },
     "execution_count": 62,
     "metadata": {},
     "output_type": "execute_result"
    }
   ],
   "source": [
    "X_test_one_hot.shape"
   ]
  },
  {
   "cell_type": "code",
   "execution_count": 63,
   "id": "09811ee4-6db5-402a-bf09-fa11d92d857b",
   "metadata": {},
   "outputs": [
    {
     "data": {
      "text/plain": [
       "Index(['Pclass', 'Age', 'SibSp', 'Parch', 'Fare', 'Embarked', 'Family_Size',\n",
       "       'Name_Abbing, Mr. Anthony', 'Name_Abbott, Mr. Rossmore Edward',\n",
       "       'Name_Abbott, Mrs. Stanton (Rosa Hunt)',\n",
       "       ...\n",
       "       'Deck_C', 'Deck_D', 'Deck_E', 'Deck_F', 'Deck_G', 'Deck_M', 'Deck_T',\n",
       "       'Family_group_Alone', 'Family_group_Small', 'Family_group_Large'],\n",
       "      dtype='object', length=1593)"
      ]
     },
     "execution_count": 63,
     "metadata": {},
     "output_type": "execute_result"
    }
   ],
   "source": [
    "X_train_one_hot.columns"
   ]
  },
  {
   "cell_type": "code",
   "execution_count": 64,
   "id": "dfb57d23-3108-42f9-8369-d2bda7b4ae40",
   "metadata": {},
   "outputs": [
    {
     "data": {
      "text/plain": [
       "Index(['Pclass', 'Age', 'Fare', 'Sex_female', 'Sex_male', 'Embarked_C',\n",
       "       'Embarked_Q', 'Embarked_S', 'Deck_A', 'Deck_B', 'Deck_C', 'Deck_D',\n",
       "       'Deck_E', 'Deck_F', 'Deck_G', 'Deck_M'],\n",
       "      dtype='object')"
      ]
     },
     "execution_count": 64,
     "metadata": {},
     "output_type": "execute_result"
    }
   ],
   "source": [
    "X_test_one_hot.columns"
   ]
  },
  {
   "cell_type": "markdown",
   "id": "5b8e9c2c-9d14-4add-86e7-ca9c23141467",
   "metadata": {},
   "source": [
    "- 특성 개수 맞추기\n",
    "  - 부족한 컬럼명을 확인\n",
    "  - Set() 집합 자료구조 활용해서 찾아보기\n"
   ]
  },
  {
   "cell_type": "code",
   "execution_count": 65,
   "id": "aa3250a4-9a9a-4f88-9593-4f73eb9f818b",
   "metadata": {
    "scrolled": true
   },
   "outputs": [
    {
     "data": {
      "text/plain": [
       "{'Name_Ponesell, Mr. Martin',\n",
       " 'Ticket_350050',\n",
       " 'Name_Nicola-Yarred, Master. Elias',\n",
       " 'Ticket_348121',\n",
       " 'Name_Sage, Mr. Frederick',\n",
       " 'Name_Daniel, Mr. Robert Williams',\n",
       " 'Ticket_28551',\n",
       " 'Ticket_PC 17473',\n",
       " 'Ticket_4134',\n",
       " 'Name_Laroche, Mr. Joseph Philippe Lemercier',\n",
       " 'Ticket_W.E.P. 5734',\n",
       " 'Name_Goodwin, Master. Harold Victor',\n",
       " 'Name_Emir, Mr. Farred Chehab',\n",
       " 'Ticket_342826',\n",
       " 'Name_Goodwin, Mrs. Frederick (Augusta Tyler)',\n",
       " 'Ticket_244252',\n",
       " 'Name_Masselmani, Mrs. Fatima',\n",
       " 'Name_McMahon, Mr. Martin',\n",
       " 'Name_Hart, Mr. Benjamin',\n",
       " 'Ticket_SOTON/OQ 3101316',\n",
       " 'Ticket_315153',\n",
       " 'Name_Lam, Mr. Len',\n",
       " 'Ticket_370365',\n",
       " 'Ticket_17764',\n",
       " 'Ticket_PC 17609',\n",
       " 'Name_Richards, Mrs. Sidney (Emily Hocking)',\n",
       " 'Name_McNamee, Mr. Neal',\n",
       " 'Ticket_8471',\n",
       " 'Name_Bailey, Mr. Percy Andrew',\n",
       " 'Ticket_347083',\n",
       " 'Name_Lovell, Mr. John Hall (\"Henry\")',\n",
       " 'Name_Mack, Mrs. (Mary)',\n",
       " 'Ticket_113776',\n",
       " 'Ticket_SC/PARIS 2131',\n",
       " 'Name_Johnston, Mr. Andrew G',\n",
       " 'Ticket_315094',\n",
       " 'Name_Turpin, Mrs. William John Robert (Dorothy Ann Wonnacott)',\n",
       " 'Ticket_11752',\n",
       " 'Ticket_211536',\n",
       " 'Name_Carter, Mr. William Ernest',\n",
       " 'Name_Adahl, Mr. Mauritz Nils Martin',\n",
       " 'Name_Parkes, Mr. Francis \"Frank\"',\n",
       " 'Ticket_113514',\n",
       " 'Name_Bishop, Mrs. Dickinson H (Helen Walton)',\n",
       " 'Name_Carter, Mrs. Ernest Courtenay (Lilian Hughes)',\n",
       " 'Ticket_336439',\n",
       " 'Name_Ball, Mrs. (Ada E Hall)',\n",
       " 'Name_Blackwell, Mr. Stephen Weart',\n",
       " 'Name_Chaffee, Mr. Herbert Fuller',\n",
       " 'Ticket_349245',\n",
       " 'Name_Stephenson, Mrs. Walter Bertram (Martha Eustis)',\n",
       " 'Ticket_347743',\n",
       " 'Name_Stead, Mr. William Thomas',\n",
       " 'Ticket_36928',\n",
       " 'Ticket_A./5. 2152',\n",
       " 'Name_Cleaver, Miss. Alice',\n",
       " 'Ticket_231919',\n",
       " 'Name_Dimic, Mr. Jovan',\n",
       " 'Name_Turpin, Mr. William John Robert',\n",
       " 'Name_Flynn, Mr. James',\n",
       " 'Name_Romaine, Mr. Charles Hallace (\"Mr C Rolmane\")',\n",
       " 'Ticket_349216',\n",
       " 'Ticket_349256',\n",
       " 'Name_Connors, Mr. Patrick',\n",
       " 'Name_Frolicher-Stehli, Mr. Maxmillian',\n",
       " 'Name_Panula, Master. Urho Abraham',\n",
       " 'Name_Chapman, Mr. John Henry',\n",
       " 'Name_Vestrom, Miss. Hulda Amanda Adolfina',\n",
       " 'Name_Markoff, Mr. Marin',\n",
       " 'Ticket_C.A. 2315',\n",
       " 'Ticket_26707',\n",
       " 'Name_Nenkoff, Mr. Christo',\n",
       " 'Ticket_2663',\n",
       " 'Name_Uruchurtu, Don. Manuel E',\n",
       " 'Name_Williams, Mr. Charles Eugene',\n",
       " 'Ticket_WE/P 5735',\n",
       " 'Name_Harris, Mrs. Henry Birkhardt (Irene Wallach)',\n",
       " 'Name_Davies, Mr. Charles Henry',\n",
       " 'Name_Jarvis, Mr. John Denzil',\n",
       " 'Ticket_112059',\n",
       " 'Ticket_C.A. 33111',\n",
       " 'Name_Davidson, Mr. Thornton',\n",
       " 'Name_Maisner, Mr. Simon',\n",
       " 'Ticket_111428',\n",
       " 'Name_Kimball, Mr. Edwin Nelson Jr',\n",
       " 'Ticket_2691',\n",
       " 'Ticket_11755',\n",
       " 'Ticket_343275',\n",
       " 'Name_Taylor, Mrs. Elmer Zebley (Juliet Cummins Wright)',\n",
       " 'Ticket_PC 17600',\n",
       " 'Ticket_244361',\n",
       " 'Ticket_17421',\n",
       " 'Name_Carlsson, Mr. August Sigfrid',\n",
       " 'Name_Johnson, Mr. William Cahoone Jr',\n",
       " 'Name_Olsen, Mr. Karl Siegwart Andreas',\n",
       " 'Name_Andersson, Miss. Ellis Anna Maria',\n",
       " 'Name_Youseff, Mr. Gerious',\n",
       " 'Name_Daly, Mr. Peter Denis ',\n",
       " 'Ticket_C 7077',\n",
       " 'Name_Patchett, Mr. George',\n",
       " 'Name_Roebling, Mr. Washington Augustus II',\n",
       " 'Name_Lang, Mr. Fang',\n",
       " 'Ticket_SW/PP 751',\n",
       " 'Ticket_345773',\n",
       " 'Ticket_113051',\n",
       " 'Name_Matthews, Mr. William John',\n",
       " 'Name_Fox, Mr. Stanley Hubert',\n",
       " 'Ticket_330932',\n",
       " 'Name_Toomey, Miss. Ellen',\n",
       " 'Ticket_36963',\n",
       " 'Ticket_113798',\n",
       " 'Name_Bourke, Miss. Mary',\n",
       " 'Name_Kallio, Mr. Nikolai Erland',\n",
       " 'Ticket_349207',\n",
       " 'Ticket_349228',\n",
       " 'Name_Andersson, Miss. Ingeborg Constanzia',\n",
       " 'Name_Potter, Mrs. Thomas Jr (Lily Alexenia Wilson)',\n",
       " 'Name_Horgan, Mr. John',\n",
       " 'Name_Jussila, Miss. Katriina',\n",
       " 'Ticket_A.5. 18509',\n",
       " 'Ticket_29011',\n",
       " 'Ticket_350034',\n",
       " 'Name_Collander, Mr. Erik Gustaf',\n",
       " 'Ticket_363291',\n",
       " 'Ticket_2648',\n",
       " 'Name_Carter, Rev. Ernest Courtenay',\n",
       " 'Ticket_C.A. 5547',\n",
       " 'Name_Sunderland, Mr. Victor Francis',\n",
       " 'Ticket_31028',\n",
       " 'Name_Meanwell, Miss. (Marion Ogden)',\n",
       " 'Ticket_372622',\n",
       " 'Name_Thayer, Mrs. John Borland (Marian Longstreth Morris)',\n",
       " 'Name_Niskanen, Mr. Juha',\n",
       " 'Ticket_111240',\n",
       " 'Ticket_324669',\n",
       " 'Name_Taussig, Mr. Emil',\n",
       " 'Name_Smiljanic, Mr. Mile',\n",
       " 'Ticket_A/5. 851',\n",
       " 'Name_Johnson, Miss. Eleanor Ileen',\n",
       " 'Ticket_STON/O 2. 3101269',\n",
       " 'Name_Betros, Mr. Tannous',\n",
       " 'Name_Hakkarainen, Mrs. Pekka Pietari (Elin Matilda Dolck)',\n",
       " 'Name_Mitchell, Mr. Henry Michael',\n",
       " 'Name_Andersson, Miss. Erna Alexandra',\n",
       " 'Ticket_29105',\n",
       " 'Ticket_349248',\n",
       " 'Ticket_370377',\n",
       " 'Name_Lehmann, Miss. Bertha',\n",
       " 'Ticket_2926',\n",
       " 'Ticket_35281',\n",
       " 'Ticket_17465',\n",
       " 'Name_Peters, Miss. Katie',\n",
       " 'Name_Celotti, Mr. Francesco',\n",
       " 'Name_Hewlett, Mrs. (Mary D Kingcome) ',\n",
       " 'Name_Danoff, Mr. Yoto',\n",
       " 'Ticket_2666',\n",
       " 'Name_Hunt, Mr. George Henry',\n",
       " 'Ticket_PC 17585',\n",
       " 'Name_Kink-Heilmann, Miss. Luise Gretchen',\n",
       " 'Name_Colley, Mr. Edward Pomeroy',\n",
       " 'Name_Milling, Mr. Jacob Christian',\n",
       " 'Name_Yrois, Miss. Henriette (\"Mrs Harbeck\")',\n",
       " 'Name_Cann, Mr. Ernest Charles',\n",
       " 'Name_Ford, Miss. Doolina Margaret \"Daisy\"',\n",
       " 'Name_Mockler, Miss. Helen Mary \"Ellie\"',\n",
       " 'Name_Theobald, Mr. Thomas Leonard',\n",
       " 'Ticket_A/5. 13032',\n",
       " 'Name_Allen, Mr. William Henry',\n",
       " 'Name_Garside, Miss. Ethel',\n",
       " 'Ticket_C 17369',\n",
       " 'Ticket_STON/O 2. 3101293',\n",
       " 'Name_Doharr, Mr. Tannous',\n",
       " 'Name_Gaskell, Mr. Alfred',\n",
       " 'Ticket_334912',\n",
       " 'Name_Wilhelms, Mr. Charles',\n",
       " 'Name_Emanuel, Miss. Virginia Ethel',\n",
       " 'Name_Carter, Mrs. William Ernest (Lucile Polk)',\n",
       " 'Name_Brown, Mrs. Thomas William Solomon (Elizabeth Catherine Ford)',\n",
       " 'Ticket_347063',\n",
       " 'Name_Sagesser, Mlle. Emma',\n",
       " 'Name_Dick, Mrs. Albert Adrian (Vera Gillespie)',\n",
       " 'Name_Duane, Mr. Frank',\n",
       " 'Name_Nicholls, Mr. Joseph Charles',\n",
       " 'Ticket_113800',\n",
       " 'Ticket_3101278',\n",
       " 'Name_Coleff, Mr. Peju',\n",
       " 'Name_Lurette, Miss. Elise',\n",
       " 'Name_Weisz, Mrs. Leopold (Mathilde Francoise Pede)',\n",
       " 'Name_Cameron, Miss. Clear Annie',\n",
       " 'Ticket_364498',\n",
       " 'Ticket_343095',\n",
       " 'Name_Leitch, Miss. Jessie Wills',\n",
       " 'Ticket_111361',\n",
       " 'Ticket_PC 17596',\n",
       " 'Name_Sheerlinck, Mr. Jan Baptist',\n",
       " 'Name_Cavendish, Mr. Tyrell William',\n",
       " 'Ticket_36864',\n",
       " 'Name_Drew, Mrs. James Vivian (Lulu Thorne Christian)',\n",
       " 'Name_Jardin, Mr. Jose Neto',\n",
       " 'Name_Astor, Mrs. John Jacob (Madeleine Talmadge Force)',\n",
       " 'Name_Lahoud, Mr. Sarkis',\n",
       " 'Ticket_315090',\n",
       " 'Name_Panula, Master. Eino Viljami',\n",
       " 'Name_Rice, Master. Arthur',\n",
       " 'Ticket_SOTON/O2 3101272',\n",
       " 'Name_Nosworthy, Mr. Richard Cater',\n",
       " 'Ticket_349910',\n",
       " 'Ticket_SC/PARIS 2146',\n",
       " 'Name_Futrelle, Mr. Jacques Heath',\n",
       " 'Name_Fischer, Mr. Eberhard Thelander',\n",
       " 'Ticket_330959',\n",
       " 'Name_White, Mr. Richard Frasar',\n",
       " 'Ticket_36967',\n",
       " 'Name_Madigan, Miss. Margaret \"Maggie\"',\n",
       " 'Ticket_2223',\n",
       " 'Ticket_7546',\n",
       " 'Ticket_330935',\n",
       " 'Ticket_SC 1748',\n",
       " 'Name_Zabour, Miss. Thamine',\n",
       " 'Name_Van der hoef, Mr. Wyckoff',\n",
       " 'Name_Johnston, Miss. Catherine Helen \"Carrie\"',\n",
       " 'Name_Eustis, Miss. Elizabeth Mussey',\n",
       " 'Name_Goncalves, Mr. Manuel Estanslas',\n",
       " 'Ticket_367226',\n",
       " 'Ticket_PC 17608',\n",
       " 'Name_Saalfeld, Mr. Adolphe',\n",
       " 'Ticket_349219',\n",
       " 'Name_Newsom, Miss. Helen Monypeny',\n",
       " 'Ticket_PC 17475',\n",
       " 'Name_Ali, Mr. Ahmed',\n",
       " 'Name_Windelov, Mr. Einar',\n",
       " 'Name_Chip, Mr. Chang',\n",
       " 'Name_Hickman, Mr. Stanley George',\n",
       " 'Name_Laroche, Miss. Simonne Marie Anne Andree',\n",
       " 'Name_Louch, Mrs. Charles Alexander (Alice Adelaide Slow)',\n",
       " 'Name_Davison, Mrs. Thomas Henry (Mary E Finck)',\n",
       " 'Name_Kelly, Miss. Anna Katherine \"Annie Kate\"',\n",
       " 'Name_Chibnall, Mrs. (Edith Martha Bowerman)',\n",
       " 'Ticket_65304',\n",
       " 'Name_Yousif, Mr. Wazli',\n",
       " 'Name_O\\'Dwyer, Miss. Ellen \"Nellie\"',\n",
       " 'Name_Chambers, Mrs. Norman Campbell (Bertha Griggs)',\n",
       " 'Name_Maenpaa, Mr. Matti Alexanteri',\n",
       " 'Name_Skoog, Mr. Wilhelm',\n",
       " 'Ticket_14311',\n",
       " 'Ticket_A/5 21174',\n",
       " 'Ticket_65306',\n",
       " 'Ticket_2659',\n",
       " 'Name_Barkworth, Mr. Algernon Henry Wilson',\n",
       " 'Name_Arnold-Franchi, Mr. Josef',\n",
       " 'Ticket_2649',\n",
       " 'Ticket_A./5. 3235',\n",
       " 'Name_Palsson, Master. Gosta Leonard',\n",
       " 'Name_Hampe, Mr. Leon',\n",
       " 'Name_Ali, Mr. William',\n",
       " 'Name_Asplund, Master. Edvin Rojj Felix',\n",
       " 'Ticket_S.C./PARIS 2079',\n",
       " 'Name_Petroff, Mr. Pastcho (\"Pentcho\")',\n",
       " 'Ticket_F.C.C. 13528',\n",
       " 'Name_Wiseman, Mr. Phillippe',\n",
       " 'Ticket_3101281',\n",
       " 'Ticket_330980',\n",
       " 'Name_Arnold-Franchi, Mrs. Josef (Josefine Franchi)',\n",
       " 'Ticket_PC 17558',\n",
       " 'Name_Sage, Miss. Stella Anna',\n",
       " 'Name_Landergren, Miss. Aurora Adelia',\n",
       " 'Ticket_19928',\n",
       " 'Ticket_A/5. 2151',\n",
       " 'Name_Olsson, Miss. Elina',\n",
       " 'Name_Caldwell, Master. Alden Gates',\n",
       " 'Name_Vanden Steen, Mr. Leo Peter',\n",
       " 'Ticket_394140',\n",
       " 'Name_Rice, Master. Eric',\n",
       " 'Name_Carter, Master. William Thornton II',\n",
       " 'Name_Andersson, Miss. Ebba Iris Alfrida',\n",
       " 'Name_Hassan, Mr. Houssein G N',\n",
       " 'Name_Rommetvedt, Mr. Knud Paust',\n",
       " 'Ticket_3460',\n",
       " 'Name_Molson, Mr. Harry Markland',\n",
       " 'Name_Chronopoulos, Mr. Apostolos',\n",
       " 'Ticket_248740',\n",
       " 'Ticket_F.C.C. 13529',\n",
       " 'Name_Fry, Mr. Richard',\n",
       " 'Name_Panula, Master. Juha Niilo',\n",
       " 'Ticket_113572',\n",
       " 'Name_Rosblom, Mr. Viktor Richard',\n",
       " 'Name_Hegarty, Miss. Hanora \"Nora\"',\n",
       " 'Name_Silverthorne, Mr. Spencer Victor',\n",
       " 'Ticket_2677',\n",
       " 'Name_Chambers, Mr. Norman Campbell',\n",
       " 'Ticket_330877',\n",
       " 'Ticket_PC 17477',\n",
       " 'Name_Hansen, Mr. Claus Peter',\n",
       " 'Name_Goldschmidt, Mr. George B',\n",
       " 'Ticket_349234',\n",
       " 'Name_Norman, Mr. Robert Douglas',\n",
       " 'Name_Peduzzi, Mr. Joseph',\n",
       " 'Ticket_243847',\n",
       " 'Name_Farthing, Mr. John',\n",
       " 'Ticket_A.5. 11206',\n",
       " 'Ticket_330923',\n",
       " 'Ticket_248723',\n",
       " 'Ticket_SOTON/OQ 3101317',\n",
       " 'Name_Barbara, Mrs. (Catherine David)',\n",
       " 'Name_Hippach, Mrs. Louis Albert (Ida Sophia Fischer)',\n",
       " 'Ticket_237736',\n",
       " 'Name_Harrison, Mr. William',\n",
       " 'Name_Smith, Miss. Marion Elsie',\n",
       " 'Ticket_29103',\n",
       " 'Name_Nakid, Mr. Sahid',\n",
       " 'Name_Lefebre, Miss. Ida',\n",
       " 'Name_Stanley, Miss. Amy Zillah Elsie',\n",
       " 'Name_Perkin, Mr. John Henry',\n",
       " 'Name_Asplund, Master. Clarence Gustaf Hugo',\n",
       " \"Name_O'Driscoll, Miss. Bridget\",\n",
       " 'Ticket_13214',\n",
       " 'Ticket_4135',\n",
       " 'Name_Reeves, Mr. David',\n",
       " 'Family_group_Alone',\n",
       " 'Name_Touma, Mrs. Darwis (Hanne Youssef Razi)',\n",
       " 'Name_Goldsmith, Mr. Frank John',\n",
       " 'Name_Laroche, Mrs. Joseph (Juliette Marie Louise Lafargue)',\n",
       " 'Ticket_350046',\n",
       " 'Name_Rice, Master. Eugene',\n",
       " 'Ticket_A/4. 39886',\n",
       " 'Name_Lobb, Mr. William Arthur',\n",
       " 'Name_Burns, Miss. Elizabeth Margaret',\n",
       " 'Name_Sivola, Mr. Antti Wilhelm',\n",
       " 'Name_Cunningham, Mr. Alfred Fleming',\n",
       " 'Name_Yasbeck, Mr. Antoni',\n",
       " 'Ticket_350406',\n",
       " 'Name_Ilmakangas, Miss. Pieta Sofia',\n",
       " 'Name_Icard, Miss. Amelie',\n",
       " 'Name_Andrews, Miss. Kornelia Theodosia',\n",
       " 'Name_Fahlstrom, Mr. Arne Jonas',\n",
       " 'Name_Najib, Miss. Adele Kiamie \"Jane\"',\n",
       " 'Ticket_11668',\n",
       " 'Ticket_315084',\n",
       " 'Ticket_350407',\n",
       " 'Ticket_17466',\n",
       " 'Ticket_349222',\n",
       " 'Ticket_2693',\n",
       " 'Ticket_230136',\n",
       " 'Ticket_350417',\n",
       " 'Ticket_SOTON/O.Q. 3101307',\n",
       " 'Name_Ford, Miss. Robina Maggie \"Ruby\"',\n",
       " 'Name_Dean, Master. Bertram Vere',\n",
       " 'Ticket_PC 17483',\n",
       " 'Ticket_315088',\n",
       " 'Ticket_2620',\n",
       " 'Name_Bishop, Mr. Dickinson H',\n",
       " 'Name_Giglio, Mr. Victor',\n",
       " 'Ticket_7553',\n",
       " 'Name_Aks, Mrs. Sam (Leah Rosen)',\n",
       " 'Name_Phillips, Miss. Kate Florence (\"Mrs Kate Louise Phillips Marshall\")',\n",
       " 'Name_Crease, Mr. Ernest James',\n",
       " 'Ticket_5727',\n",
       " 'Name_Webber, Mr. James',\n",
       " 'Ticket_A/4 45380',\n",
       " 'Ticket_13507',\n",
       " 'Name_Zimmerman, Mr. Leo',\n",
       " 'Name_Quick, Mrs. Frederick Charles (Jane Richards)',\n",
       " 'Name_Hamalainen, Master. Viljo',\n",
       " 'Ticket_349243',\n",
       " 'Ticket_349236',\n",
       " 'Name_O\\'Leary, Miss. Hanora \"Norah\"',\n",
       " 'Name_Crosby, Miss. Harriet R',\n",
       " 'Ticket_330909',\n",
       " 'Name_McKane, Mr. Peter David',\n",
       " 'Ticket_349912',\n",
       " 'Ticket_345774',\n",
       " 'Name_Staneff, Mr. Ivan',\n",
       " 'Family_group_Large',\n",
       " 'Ticket_110152',\n",
       " 'Name_McEvoy, Mr. Michael',\n",
       " 'Ticket_347061',\n",
       " 'Ticket_A/4. 20589',\n",
       " 'Name_McCarthy, Mr. Timothy J',\n",
       " 'Ticket_349224',\n",
       " 'Ticket_239854',\n",
       " 'Ticket_6563',\n",
       " 'Name_Thorneycroft, Mrs. Percival (Florence Kate White)',\n",
       " 'Ticket_347064',\n",
       " 'Name_Madill, Miss. Georgette Alexandra',\n",
       " 'Ticket_11753',\n",
       " 'Name_Millet, Mr. Francis Davis',\n",
       " 'Name_Hale, Mr. Reginald',\n",
       " 'Ticket_370376',\n",
       " 'Ticket_370373',\n",
       " 'Name_Brown, Mrs. James Joseph (Margaret Tobin)',\n",
       " 'Ticket_341826',\n",
       " 'Name_Brown, Miss. Amelia \"Mildred\"',\n",
       " 'Name_Caram, Mrs. Joseph (Maria Elias)',\n",
       " 'Name_Strom, Miss. Telma Matilda',\n",
       " 'Ticket_347060',\n",
       " 'Name_Mallet, Master. Andre',\n",
       " 'Name_Williams-Lambert, Mr. Fletcher Fellows',\n",
       " 'Ticket_SC/AH 29037',\n",
       " 'Name_Long, Mr. Milton Clyde',\n",
       " 'Name_Swift, Mrs. Frederick Joel (Margaret Welles Barron)',\n",
       " 'Name_Moubarek, Master. Halim Gonios (\"William George\")',\n",
       " 'Ticket_113781',\n",
       " 'Ticket_PC 17601',\n",
       " 'Name_Rogers, Mr. William John',\n",
       " 'Name_Vander Planke, Mrs. Julius (Emelia Maria Vandemoortele)',\n",
       " 'Name_Cohen, Mr. Gurshon \"Gus\"',\n",
       " 'Name_Thorneycroft, Mr. Percival',\n",
       " 'Parch',\n",
       " 'Ticket_31027',\n",
       " 'Name_Attalah, Miss. Malake',\n",
       " 'Name_Lennon, Mr. Denis',\n",
       " 'Name_Goldsmith, Mrs. Frank John (Emily Alice Brown)',\n",
       " 'Ticket_237798',\n",
       " 'Name_Bing, Mr. Lee',\n",
       " 'Ticket_349242',\n",
       " 'Ticket_A/5 3594',\n",
       " 'Ticket_2908',\n",
       " 'Ticket_113783',\n",
       " 'Ticket_350026',\n",
       " 'Name_Lindqvist, Mr. Eino William',\n",
       " 'Name_Badt, Mr. Mohamed',\n",
       " 'Name_Laitinen, Miss. Kristina Sofia',\n",
       " 'Name_Lefebre, Miss. Jeannie',\n",
       " 'Name_Baumann, Mr. John D',\n",
       " 'Ticket_SOTON/OQ 392090',\n",
       " 'Name_Fortune, Miss. Alice Elizabeth',\n",
       " 'Ticket_347054',\n",
       " 'Name_Hocking, Mr. Richard George',\n",
       " 'Name_Elias, Mr. Joseph Jr',\n",
       " 'Name_Lam, Mr. Ali',\n",
       " 'Ticket_231945',\n",
       " 'Ticket_250644',\n",
       " 'Ticket_349205',\n",
       " 'Name_Allen, Miss. Elisabeth Walton',\n",
       " 'Ticket_12749',\n",
       " 'Name_Ilett, Miss. Bertha',\n",
       " 'Ticket_349251',\n",
       " 'Ticket_113792',\n",
       " 'Name_Williams, Mr. Charles Duane',\n",
       " 'Ticket_19996',\n",
       " 'Name_Ostby, Mr. Engelhart Cornelius',\n",
       " 'Name_Backstrom, Mr. Karl Alfred',\n",
       " 'Name_Harder, Mr. George Achilles',\n",
       " 'Name_Hakkarainen, Mr. Pekka Pietari',\n",
       " 'Name_Frauenthal, Dr. Henry William',\n",
       " 'Name_Heininen, Miss. Wendla Maria',\n",
       " 'Name_Sage, Mr. Douglas Bullen',\n",
       " 'Ticket_19988',\n",
       " 'Ticket_14973',\n",
       " 'Ticket_7267',\n",
       " 'Ticket_350060',\n",
       " 'Ticket_347082',\n",
       " 'Name_Healy, Miss. Hanora \"Nora\"',\n",
       " 'Name_Becker, Master. Richard F',\n",
       " 'Name_Peter, Miss. Anna',\n",
       " 'Name_Wick, Mrs. George Dennick (Mary Hitchcock)',\n",
       " 'Name_Sundman, Mr. Johan Julian',\n",
       " 'Name_Wright, Mr. George',\n",
       " 'Name_van Melkebeke, Mr. Philemon',\n",
       " 'Name_Mellinger, Mrs. (Elizabeth Anne Maidment)',\n",
       " 'Ticket_112053',\n",
       " 'Name_Farrell, Mr. James',\n",
       " 'Name_Ridsdale, Miss. Lucy',\n",
       " 'Name_Johansson, Mr. Gustaf Joel',\n",
       " 'Name_Mayne, Mlle. Berthe Antonine (\"Mrs de Villiers\")',\n",
       " 'Name_Rice, Master. George Hugh',\n",
       " 'Name_Yasbeck, Mrs. Antoni (Selini Alexander)',\n",
       " 'Name_Stahelin-Maeglin, Dr. Max',\n",
       " 'Ticket_226875',\n",
       " 'Name_Fynney, Mr. Joseph J',\n",
       " 'Ticket_223596',\n",
       " 'Ticket_370370',\n",
       " 'Ticket_STON/O2. 3101271',\n",
       " 'Name_Harris, Mr. George',\n",
       " 'Name_Cribb, Mr. John Hatfield',\n",
       " 'Name_Abelson, Mrs. Samuel (Hannah Wizosky)',\n",
       " 'Ticket_349244',\n",
       " 'Name_Johansson, Mr. Erik',\n",
       " 'Ticket_113796',\n",
       " 'Ticket_349253',\n",
       " 'Name_Nilsson, Miss. Helmina Josefina',\n",
       " 'Name_Petranec, Miss. Matilda',\n",
       " 'Ticket_2629',\n",
       " 'Ticket_3411',\n",
       " 'Name_Sedgwick, Mr. Charles Frederick Waddington',\n",
       " 'Ticket_349227',\n",
       " 'Name_McDermott, Miss. Brigdet Delia',\n",
       " 'Ticket_113510',\n",
       " 'Name_Holverson, Mrs. Alexander Oskar (Mary Aline Towner)',\n",
       " 'Name_Pinsky, Mrs. (Rosa)',\n",
       " 'Ticket_349206',\n",
       " 'Ticket_11751',\n",
       " 'Name_Jerwan, Mrs. Amin S (Marie Marthe Thuillard)',\n",
       " 'Name_Lester, Mr. James',\n",
       " 'Name_Christmann, Mr. Emil',\n",
       " 'Name_Fortune, Mr. Mark',\n",
       " 'Name_Navratil, Master. Michel M',\n",
       " 'Ticket_C.A. 31921',\n",
       " 'Name_Hawksford, Mr. Walter James',\n",
       " 'Name_Yousseff, Mr. Gerious',\n",
       " 'Name_Allum, Mr. Owen George',\n",
       " 'Name_Sutton, Mr. Frederick',\n",
       " 'Ticket_110564',\n",
       " 'Ticket_330931',\n",
       " 'Ticket_244310',\n",
       " 'Ticket_111369',\n",
       " 'Name_Oreskovic, Mr. Luka',\n",
       " 'Name_del Carlo, Mr. Sebastiano',\n",
       " 'Name_Otter, Mr. Richard',\n",
       " 'Name_Herman, Miss. Alice',\n",
       " 'Name_Turcin, Mr. Stjepan',\n",
       " 'Name_Sutehall, Mr. Henry Jr',\n",
       " 'Ticket_234818',\n",
       " 'Ticket_244358',\n",
       " 'Ticket_A/5. 3336',\n",
       " 'Name_Parr, Mr. William Henry Marsh',\n",
       " 'Name_Richards, Master. George Sibley',\n",
       " 'Ticket_323592',\n",
       " 'Ticket_348124',\n",
       " 'Ticket_PC 17758',\n",
       " 'Ticket_239865',\n",
       " 'Ticket_345764',\n",
       " 'Ticket_PC 17611',\n",
       " 'Ticket_35851',\n",
       " 'Name_Dahl, Mr. Karl Edwart',\n",
       " 'Ticket_11767',\n",
       " 'Name_Watson, Mr. Ennis Hastings',\n",
       " 'Ticket_3101295',\n",
       " 'Ticket_S.O./P.P. 751',\n",
       " 'Name_McCoy, Miss. Agnes',\n",
       " 'Ticket_W/C 14208',\n",
       " 'Name_Moss, Mr. Albert Johan',\n",
       " 'Ticket_2672',\n",
       " 'Name_Stanley, Mr. Edward Roland',\n",
       " 'Name_Skoog, Miss. Margit Elizabeth',\n",
       " 'Ticket_364506',\n",
       " 'Name_Frolicher, Miss. Hedwig Margaritha',\n",
       " 'Name_Robert, Mrs. Edward Scott (Elisabeth Walton McMillan)',\n",
       " 'Ticket_13509',\n",
       " 'Name_Jensen, Mr. Hans Peder',\n",
       " 'Name_Widegren, Mr. Carl/Charles Peter',\n",
       " 'Name_Hocking, Mrs. Elizabeth (Eliza Needs)',\n",
       " 'Name_Moen, Mr. Sigurd Hansen',\n",
       " 'Name_Newell, Miss. Madeleine',\n",
       " 'Name_Slemen, Mr. Richard James',\n",
       " 'Name_Culumovic, Mr. Jeso',\n",
       " 'Ticket_315151',\n",
       " 'Family_group_Small',\n",
       " 'Name_Meyer, Mr. August',\n",
       " 'Ticket_PC 17760',\n",
       " 'Ticket_364846',\n",
       " 'Name_Butt, Major. Archibald Willingham',\n",
       " 'Name_Gustafsson, Mr. Karl Gideon',\n",
       " 'Name_Eklund, Mr. Hans Linus',\n",
       " 'Name_Watt, Mrs. James (Elizabeth \"Bessie\" Inglis Milne)',\n",
       " 'Name_Pernot, Mr. Rene',\n",
       " 'Name_Smith, Mr. James Clinch',\n",
       " 'Name_Sinkkonen, Miss. Anna',\n",
       " 'Name_Butler, Mr. Reginald Fenton',\n",
       " 'Name_Stankovic, Mr. Ivan',\n",
       " 'Name_Skoog, Miss. Mabel',\n",
       " 'Ticket_2626',\n",
       " 'Name_Hickman, Mr. Leonard Mark',\n",
       " 'Ticket_347068',\n",
       " 'Ticket_250647',\n",
       " 'Ticket_350035',\n",
       " 'Ticket_392091',\n",
       " 'Ticket_2624',\n",
       " 'Name_Young, Miss. Marie Grice',\n",
       " 'Ticket_335677',\n",
       " 'Name_Denkoff, Mr. Mitto',\n",
       " 'Name_Toufik, Mr. Nakli',\n",
       " 'Name_West, Mr. Edwy Arthur',\n",
       " 'Name_Osen, Mr. Olaf Elon',\n",
       " 'Name_Olsen, Mr. Ole Martin',\n",
       " 'Name_Coxon, Mr. Daniel',\n",
       " 'Name_Ryerson, Miss. Emily Borie',\n",
       " 'Ticket_250649',\n",
       " 'Ticket_PC 17597',\n",
       " 'Name_Wells, Miss. Joan',\n",
       " 'Ticket_113505',\n",
       " 'Name_Ringhini, Mr. Sante',\n",
       " 'Ticket_347089',\n",
       " 'Ticket_29104',\n",
       " 'Name_Beane, Mrs. Edward (Ethel Clarke)',\n",
       " 'Name_Greenberg, Mr. Samuel',\n",
       " 'Ticket_C.A. 24579',\n",
       " 'Name_Carter, Miss. Lucile Polk',\n",
       " 'Name_Gavey, Mr. Lawrence',\n",
       " 'Name_Reed, Mr. James George',\n",
       " 'Ticket_347080',\n",
       " 'Name_Spedden, Mrs. Frederic Oakley (Margaretta Corning Stone)',\n",
       " 'Name_McCormack, Mr. Thomas Joseph',\n",
       " 'Name_Ivanoff, Mr. Kanio',\n",
       " 'Ticket_113043',\n",
       " 'Ticket_345778',\n",
       " 'Name_Nasser, Mrs. Nicholas (Adele Achem)',\n",
       " \"Name_O'Connell, Mr. Patrick D\",\n",
       " 'Name_Marvin, Mr. Daniel Warner',\n",
       " 'Ticket_PC 17482',\n",
       " 'Name_Coutts, Master. William Loch \"William\"',\n",
       " 'Ticket_SC/AH 3085',\n",
       " 'Name_Hogeboom, Mrs. John C (Anna Andrews)',\n",
       " 'Name_Kraeff, Mr. Theodor',\n",
       " 'Name_Sandstrom, Mrs. Hjalmar (Agnes Charlotta Bengtsson)',\n",
       " 'Ticket_54636',\n",
       " 'Ticket_STON/O2. 3101290',\n",
       " 'Ticket_113788',\n",
       " 'Ticket_SOTON/OQ 392086',\n",
       " 'Name_Hodges, Mr. Henry Price',\n",
       " 'Name_Henry, Miss. Delia',\n",
       " 'Ticket_C.A. 31026',\n",
       " 'Ticket_2669',\n",
       " 'Ticket_113501',\n",
       " 'Ticket_367231',\n",
       " 'Name_Oreskovic, Miss. Marija',\n",
       " 'Name_Cor, Mr. Liudevit',\n",
       " 'Name_Bazzani, Miss. Albina',\n",
       " 'Ticket_16988',\n",
       " 'Ticket_28213',\n",
       " 'Name_Panula, Mr. Ernesti Arvid',\n",
       " 'Ticket_C.A. 2673',\n",
       " 'Ticket_SC/PARIS 2167',\n",
       " 'Name_Campbell, Mr. William',\n",
       " 'Ticket_236852',\n",
       " 'Ticket_PC 17759',\n",
       " 'Name_Elsbury, Mr. William James',\n",
       " 'Name_Meo, Mr. Alfonzo',\n",
       " 'Name_Charters, Mr. David',\n",
       " 'Ticket_349237',\n",
       " 'Ticket_350048',\n",
       " 'Ticket_2678',\n",
       " 'Ticket_PC 17761',\n",
       " 'Name_Goodwin, Miss. Lillian Amy',\n",
       " 'Ticket_PC 17476',\n",
       " 'Name_Bystrom, Mrs. (Karolina)',\n",
       " 'Ticket_113760',\n",
       " 'Name_Willey, Mr. Edward',\n",
       " 'Name_Kalvik, Mr. Johannes Halvorsen',\n",
       " 'Ticket_345777',\n",
       " 'Name_Tobin, Mr. Roger',\n",
       " 'Name_Caldwell, Mrs. Albert Francis (Sylvia Mae Harbaugh)',\n",
       " 'Ticket_364851',\n",
       " 'Name_Dodge, Master. Washington',\n",
       " 'Ticket_343276',\n",
       " 'Name_Odahl, Mr. Nils Martin',\n",
       " 'Name_Ayoub, Miss. Banoura',\n",
       " 'Name_Karlsson, Mr. Nils August',\n",
       " 'Ticket_113773',\n",
       " 'Name_Vande Velde, Mr. Johannes Joseph',\n",
       " 'Ticket_371362',\n",
       " 'Ticket_370371',\n",
       " 'Name_Silvey, Mr. William Baird',\n",
       " 'Name_Strandberg, Miss. Ida Sofia',\n",
       " 'Name_Alexander, Mr. William',\n",
       " 'Ticket_345572',\n",
       " 'Name_Trout, Mrs. William H (Jessie L)',\n",
       " 'Name_Richards, Master. William Rowe',\n",
       " 'Ticket_350029',\n",
       " 'Name_Karun, Miss. Manca',\n",
       " 'Ticket_STON/O 2. 3101288',\n",
       " 'Ticket_218629',\n",
       " 'Name_Fortune, Mr. Charles Alexander',\n",
       " 'Name_Reuchlin, Jonkheer. John George',\n",
       " 'Ticket_248727',\n",
       " 'Name_Dowdell, Miss. Elizabeth',\n",
       " 'Name_Sawyer, Mr. Frederick Charles',\n",
       " 'Name_Serepeca, Miss. Augusta',\n",
       " 'Ticket_347470',\n",
       " 'Ticket_PC 17612',\n",
       " 'Ticket_SOTON/O.Q. 392087',\n",
       " 'Name_Simmons, Mr. John',\n",
       " 'Ticket_W./C. 14263',\n",
       " 'Name_Dahlberg, Miss. Gerda Ulrika',\n",
       " 'Name_Weir, Col. John',\n",
       " 'Name_Gee, Mr. Arthur H',\n",
       " 'Name_Klasen, Mr. Klas Albin',\n",
       " 'Ticket_SCO/W 1585',\n",
       " 'Name_Taussig, Mrs. Emil (Tillie Mandelbaum)',\n",
       " 'Ticket_367228',\n",
       " 'Name_Kelly, Miss. Mary',\n",
       " 'Name_Johnson, Master. Harold Theodor',\n",
       " 'Ticket_220367',\n",
       " 'Name_Harrington, Mr. Charles H',\n",
       " 'Ticket_110465',\n",
       " 'Name_Pettersson, Miss. Ellen Natalia',\n",
       " 'Ticket_345767',\n",
       " 'Ticket_A/5 2466',\n",
       " 'Name_Dooley, Mr. Patrick',\n",
       " 'Name_Renouf, Mr. Peter Henry',\n",
       " 'Name_McGowan, Miss. Anna \"Annie\"',\n",
       " 'Ticket_239856',\n",
       " 'Ticket_315082',\n",
       " 'Name_LeRoy, Miss. Bertha',\n",
       " 'Name_Slayter, Miss. Hilda Mary',\n",
       " 'Ticket_113028',\n",
       " 'Ticket_233866',\n",
       " 'Name_Silven, Miss. Lyyli Karoliina',\n",
       " 'Ticket_3101296',\n",
       " 'Name_Richard, Mr. Emile',\n",
       " 'Name_Mitkoff, Mr. Mito',\n",
       " 'Name_Walker, Mr. William Anderson',\n",
       " 'Name_Leinonen, Mr. Antti Gustaf',\n",
       " 'Name_Todoroff, Mr. Lalio',\n",
       " 'Ticket_SO/C 14885',\n",
       " 'Name_Johansson, Mr. Karl Johan',\n",
       " 'Ticket_Fa 265302',\n",
       " 'Name_Somerton, Mr. Francis William',\n",
       " 'Ticket_14313',\n",
       " 'Name_Duran y More, Miss. Asuncion',\n",
       " 'Name_Hold, Mr. Stephen',\n",
       " 'Name_Haas, Miss. Aloisia',\n",
       " 'Name_Rothschild, Mrs. Martin (Elizabeth L. Barrett)',\n",
       " 'Name_Jensen, Mr. Niels Peder',\n",
       " 'Ticket_315097',\n",
       " 'Ticket_C.A. 17248',\n",
       " 'Name_Morley, Mr. Henry Samuel (\"Mr Henry Marshall\")',\n",
       " 'Ticket_S.P. 3464',\n",
       " 'Ticket_323951',\n",
       " 'Ticket_111320',\n",
       " 'Name_Dantcheff, Mr. Ristiu',\n",
       " 'Name_Nysten, Miss. Anna Sofia',\n",
       " 'Name_Widener, Mr. Harry Elkins',\n",
       " 'Name_Hamalainen, Mrs. William (Anna)',\n",
       " 'Name_Moore, Mr. Leonard Charles',\n",
       " 'Name_Duff Gordon, Sir. Cosmo Edmund (\"Mr Morgan\")',\n",
       " 'Name_Tomlin, Mr. Ernest Portage',\n",
       " 'Name_Duff Gordon, Lady. (Lucille Christiana Sutherland) (\"Mrs Morgan\")',\n",
       " 'Name_Vander Cruyssen, Mr. Victor',\n",
       " 'Name_Andrews, Mr. Thomas Jr',\n",
       " 'Ticket_349246',\n",
       " 'Ticket_364499',\n",
       " 'Ticket_CA. 2343',\n",
       " 'Ticket_350052',\n",
       " 'Ticket_112058',\n",
       " 'Name_Glynn, Miss. Mary Agatha',\n",
       " 'Ticket_347468',\n",
       " 'Ticket_CA 2144',\n",
       " 'Name_Kilgannon, Mr. Thomas J',\n",
       " 'Name_Rekic, Mr. Tido',\n",
       " 'Name_Reynaldo, Ms. Encarnacion',\n",
       " 'Ticket_312991',\n",
       " 'Name_Barah, Mr. Hanna Assi',\n",
       " 'Name_Jensen, Mr. Svend Lauritz',\n",
       " 'Name_Jacobsohn, Mr. Sidney Samuel',\n",
       " 'Name_Hedman, Mr. Oskar Arvid',\n",
       " 'Ticket_3101277',\n",
       " 'Ticket_113794',\n",
       " 'Name_Bowen, Mr. David John \"Dai\"',\n",
       " 'Ticket_29106',\n",
       " 'Name_Hart, Mrs. Benjamin (Esther Ada Bloomfield)',\n",
       " 'Ticket_3101265',\n",
       " 'Name_Daly, Mr. Eugene Patrick',\n",
       " 'Ticket_24160',\n",
       " 'Ticket_2631',\n",
       " 'Ticket_SOTON/O.Q. 3101312',\n",
       " 'Ticket_349909',\n",
       " 'Ticket_113767',\n",
       " 'Ticket_2668',\n",
       " 'Name_Sage, Miss. Dorothy Edith \"Dolly\"',\n",
       " 'Ticket_250643',\n",
       " 'Ticket_382652',\n",
       " 'Name_Jussila, Miss. Mari Aina',\n",
       " 'Ticket_11774',\n",
       " 'Name_Thorne, Mrs. Gertrude Maybelle',\n",
       " 'Ticket_PC 17590',\n",
       " 'Name_Troupiansky, Mr. Moses Aaron',\n",
       " 'Name_Murphy, Miss. Katherine \"Kate\"',\n",
       " 'Name_Hassab, Mr. Hammad',\n",
       " 'Ticket_13502',\n",
       " 'Name_Ryerson, Miss. Susan Parker \"Suzette\"',\n",
       " 'Name_White, Mr. Percival Wayland',\n",
       " 'Name_Sharp, Mr. Percival James R',\n",
       " 'Ticket_C.A. 18723',\n",
       " 'Name_Isham, Miss. Ann Elizabeth',\n",
       " 'Name_Kelly, Mrs. Florence \"Fannie\"',\n",
       " 'Name_Knight, Mr. Robert J',\n",
       " 'Name_Nysveen, Mr. Johan Hansen',\n",
       " 'Name_Radeff, Mr. Alexander',\n",
       " 'Name_Smart, Mr. John Montgomery',\n",
       " 'Name_Gustafsson, Mr. Alfred Ossian',\n",
       " 'Ticket_345770',\n",
       " 'Name_Hart, Mr. Henry',\n",
       " 'Ticket_374910',\n",
       " 'Ticket_3101267',\n",
       " 'Ticket_382651',\n",
       " 'Ticket_C.A. 34260',\n",
       " 'Name_Risien, Mr. Samuel Beard',\n",
       " 'Name_Gilinski, Mr. Eliezer',\n",
       " 'Ticket_343120',\n",
       " 'Ticket_PP 9549',\n",
       " 'Ticket_111426',\n",
       " 'Name_Paulner, Mr. Uscher',\n",
       " 'Name_Canavan, Miss. Mary',\n",
       " 'Ticket_237789',\n",
       " 'Name_Moran, Mr. Daniel J',\n",
       " 'Name_Karaic, Mr. Milan',\n",
       " 'Name_Pasic, Mr. Jakob',\n",
       " 'Ticket_347081',\n",
       " 'Name_Boulos, Miss. Nourelain',\n",
       " 'Ticket_229236',\n",
       " 'Name_van Billiard, Mr. Austin Blyler',\n",
       " 'Name_Collyer, Mrs. Harvey (Charlotte Annie Tate)',\n",
       " 'Ticket_347466',\n",
       " 'Ticket_36209',\n",
       " 'Ticket_3101298',\n",
       " 'Ticket_9234',\n",
       " 'Name_Carr, Miss. Helen \"Ellen\"',\n",
       " 'Name_Gustafsson, Mr. Anders Vilhelm',\n",
       " 'Name_Saad, Mr. Amin',\n",
       " 'Name_Goodwin, Master. Sidney Leonard',\n",
       " 'Ticket_PC 17755',\n",
       " 'Ticket_PC 17593',\n",
       " 'Ticket_4136',\n",
       " 'Ticket_28228',\n",
       " 'Ticket_112052',\n",
       " 'Ticket_113050',\n",
       " 'Ticket_374746',\n",
       " 'Name_Johanson, Mr. Jakob Alfred',\n",
       " 'Ticket_345763',\n",
       " 'Name_Petterson, Mr. Johan Emil',\n",
       " 'Ticket_PC 17599',\n",
       " 'Ticket_PC 17569',\n",
       " 'Name_Coutts, Master. Eden Leslie \"Neville\"',\n",
       " 'Ticket_PC 17756',\n",
       " 'Name_Palsson, Miss. Stina Viola',\n",
       " 'Name_Hagland, Mr. Ingvald Olai Olsen',\n",
       " 'Name_Slocovski, Mr. Selman Francis',\n",
       " 'Name_Rood, Mr. Hugh Roscoe',\n",
       " 'Ticket_244373',\n",
       " 'Ticket_234360',\n",
       " 'Name_Andersson, Miss. Sigrid Elisabeth',\n",
       " 'Name_Barton, Mr. David John',\n",
       " 'Ticket_A/5 2817',\n",
       " 'Name_Klaber, Mr. Herman',\n",
       " 'Ticket_349201',\n",
       " 'Ticket_3101276',\n",
       " 'Ticket_SOTON/O.Q. 3101310',\n",
       " 'Name_Bengtsson, Mr. John Viktor',\n",
       " 'Name_Bowerman, Miss. Elsie Edith',\n",
       " 'Ticket_392092',\n",
       " 'Name_Moussa, Mrs. (Mantoura Boulos)',\n",
       " 'Name_Compton, Miss. Sara Rebecca',\n",
       " 'Name_Thayer, Mr. John Borland Jr',\n",
       " 'Name_Tikkanen, Mr. Juho',\n",
       " 'Ticket_228414',\n",
       " 'Ticket_STON/O 2. 3101280',\n",
       " 'Ticket_13213',\n",
       " 'Ticket_36865',\n",
       " 'Name_Peuchen, Major. Arthur Godfrey',\n",
       " 'Name_Hood, Mr. Ambrose Jr',\n",
       " 'Name_Ford, Mr. William Neal',\n",
       " 'Name_Lesurer, Mr. Gustave J',\n",
       " 'Name_Hippach, Miss. Jean Gertrude',\n",
       " 'Name_Svensson, Mr. Johan',\n",
       " 'Ticket_3474',\n",
       " 'Ticket_315089',\n",
       " 'Name_Jansson, Mr. Carl Olof',\n",
       " 'Name_Naidenoff, Mr. Penko',\n",
       " 'Name_Olsson, Mr. Nils Johan Goransson',\n",
       " 'Name_Bidois, Miss. Rosalie',\n",
       " 'Ticket_2661',\n",
       " 'Name_Lobb, Mrs. William Arthur (Cordelia K Stanlick)',\n",
       " 'Name_Christy, Miss. Julie Rachel',\n",
       " 'Name_Moor, Master. Meier',\n",
       " 'Name_Moran, Mr. James',\n",
       " 'Name_Stranden, Mr. Juho',\n",
       " 'Name_Mellors, Mr. William John',\n",
       " 'Name_Boulos, Mrs. Joseph (Sultana)',\n",
       " 'Ticket_2690',\n",
       " 'Ticket_4579',\n",
       " 'Name_Lindahl, Miss. Agda Thorilda Viktoria',\n",
       " 'Name_McGough, Mr. James Robert',\n",
       " 'Name_O\\'Brien, Mrs. Thomas (Johanna \"Hannah\" Godfrey)',\n",
       " 'Ticket_A/5 3902',\n",
       " 'Ticket_PC 17582',\n",
       " 'Name_Cook, Mr. Jacob',\n",
       " 'Name_Jacobsohn, Mrs. Sidney Samuel (Amy Frances Christy)',\n",
       " 'Ticket_315086',\n",
       " 'Ticket_A/S 2816',\n",
       " 'Name_Hirvonen, Miss. Hildur E',\n",
       " 'Ticket_SOTON/O.Q. 392078',\n",
       " 'Ticket_28664',\n",
       " 'Name_Carrau, Mr. Francisco M',\n",
       " 'Name_Lindell, Mr. Edvard Bengtsson',\n",
       " 'Name_Van Impe, Miss. Catharina',\n",
       " 'Name_de Mulder, Mr. Theodore',\n",
       " 'Ticket_2665',\n",
       " 'Name_Torber, Mr. Ernst William',\n",
       " 'Ticket_SOTON/O2 3101287',\n",
       " 'Ticket_112050',\n",
       " 'Name_Warren, Mrs. Frank Manley (Anna Sophia Atkinson)',\n",
       " 'Name_Moutal, Mr. Rahamin Haim',\n",
       " 'Ticket_A/5. 10482',\n",
       " 'Ticket_367232',\n",
       " 'Ticket_113056',\n",
       " 'Name_Ohman, Miss. Velin',\n",
       " 'Name_Clifford, Mr. George Quincy',\n",
       " 'Ticket_12460',\n",
       " 'Embarked',\n",
       " 'Name_Davies, Mr. Alfred J',\n",
       " 'Name_Bjornstrom-Steffansson, Mr. Mauritz Hakan',\n",
       " 'Ticket_237565',\n",
       " 'Name_Elias, Mr. Dibo',\n",
       " 'Name_Harper, Miss. Annie Jessie \"Nina\"',\n",
       " 'Ticket_113806',\n",
       " 'Name_Dorking, Mr. Edward Arthur',\n",
       " 'Ticket_27267',\n",
       " 'Ticket_36947',\n",
       " 'Name_Pickard, Mr. Berk (Berk Trembisky)',\n",
       " 'Ticket_349252',\n",
       " 'Name_Ling, Mr. Lee',\n",
       " 'Name_Johnson, Mrs. Oscar W (Elisabeth Vilhelmina Berg)',\n",
       " 'Name_de Pelsmaeker, Mr. Alfons',\n",
       " 'Name_Devaney, Miss. Margaret Delia',\n",
       " 'Ticket_PC 17757',\n",
       " 'Ticket_STON/O 2. 3101274',\n",
       " 'Name_Mernagh, Mr. Robert',\n",
       " 'Name_Panula, Mrs. Juha (Maria Emilia Ojala)',\n",
       " 'Name_Moran, Miss. Bertha',\n",
       " 'Name_Rugg, Miss. Emily',\n",
       " 'Name_Bryhl, Mr. Kurt Arnold Gottfrid',\n",
       " 'Name_Braund, Mr. Owen Harris',\n",
       " 'Ticket_113807',\n",
       " 'Name_Mallet, Mr. Albert',\n",
       " 'Name_Olsen, Mr. Henry Margido',\n",
       " 'Ticket_349241',\n",
       " 'Name_Coleff, Mr. Satio',\n",
       " 'Ticket_345364',\n",
       " 'Ticket_364512',\n",
       " 'Name_Levy, Mr. Rene Jacques',\n",
       " 'Ticket_11967',\n",
       " 'Name_Braund, Mr. Lewis Richard',\n",
       " 'Ticket_29108',\n",
       " 'Name_Harper, Mr. Henry Sleeper',\n",
       " 'Name_Coelho, Mr. Domingos Fernandeo',\n",
       " 'Name_Andersson, Mrs. Anders Johan (Alfrida Konstantia Brogren)',\n",
       " 'Ticket_SC/PARIS 2149',\n",
       " 'Name_Stone, Mrs. George Nelson (Martha Evelyn)',\n",
       " 'Name_Williams, Mr. Leslie',\n",
       " 'Ticket_220845',\n",
       " 'Name_Goodwin, Master. William Frederick',\n",
       " 'Name_Saad, Mr. Khalil',\n",
       " 'Ticket_29750',\n",
       " 'Ticket_11769',\n",
       " 'Ticket_2651',\n",
       " 'Ticket_244278',\n",
       " 'Ticket_28425',\n",
       " 'Name_Downton, Mr. William James',\n",
       " 'Name_Shorney, Mr. Charles Joseph',\n",
       " 'Name_Morrow, Mr. Thomas Rowan',\n",
       " 'Name_Baclini, Miss. Helene Barbara',\n",
       " 'Ticket_4133',\n",
       " 'Name_Rosblom, Mrs. Viktor (Helena Wilhelmina)',\n",
       " 'Ticket_28206',\n",
       " 'Name_Beesley, Mr. Lawrence',\n",
       " 'Name_Rouse, Mr. Richard Henry',\n",
       " 'Ticket_349240',\n",
       " 'Name_Keefe, Mr. Arthur',\n",
       " 'Ticket_110413',\n",
       " 'Ticket_113055',\n",
       " 'Name_Newell, Miss. Marjorie',\n",
       " 'Ticket_368703',\n",
       " 'Ticket_113787',\n",
       " 'Name_Backstrom, Mrs. Karl Alfred (Maria Mathilda Gustafsson)',\n",
       " 'Name_Kent, Mr. Edward Austin',\n",
       " 'Name_Partner, Mr. Austen',\n",
       " 'Ticket_2667',\n",
       " 'Name_Aubart, Mme. Leontine Pauline',\n",
       " 'Ticket_345783',\n",
       " 'Name_Harmer, Mr. Abraham (David Lishin)',\n",
       " 'Ticket_2680',\n",
       " 'Ticket_250655',\n",
       " 'Name_Johnson, Mr. Alfred',\n",
       " 'Ticket_2689',\n",
       " 'Ticket_364849',\n",
       " 'Ticket_349212',\n",
       " 'Ticket_335097',\n",
       " 'Ticket_PC 17572',\n",
       " 'Name_Cumings, Mrs. John Bradley (Florence Briggs Thayer)',\n",
       " 'Ticket_A/5 21173',\n",
       " 'Ticket_F.C.C. 13531',\n",
       " 'Ticket_C.A. 29566',\n",
       " 'Ticket_367655',\n",
       " 'Ticket_349247',\n",
       " 'Ticket_350036',\n",
       " 'Ticket_350025',\n",
       " 'Ticket_2623',\n",
       " 'Ticket_112277',\n",
       " 'Name_Hoyt, Mr. William Fisher',\n",
       " 'Ticket_28665',\n",
       " 'Ticket_349221',\n",
       " 'Name_Adams, Mr. John',\n",
       " 'Ticket_1601',\n",
       " 'Name_Balkic, Mr. Cerin',\n",
       " 'Name_Skoog, Master. Karl Thorsten',\n",
       " 'Name_Green, Mr. George Henry',\n",
       " 'Name_Kelly, Mr. James',\n",
       " 'Ticket_349210',\n",
       " 'Ticket_250646',\n",
       " ...}"
      ]
     },
     "execution_count": 65,
     "metadata": {},
     "output_type": "execute_result"
    }
   ],
   "source": [
    "# set이라는 데이터 타입(집합 자료형)\n",
    "set(X_train_one_hot.columns) - set(X_test_one_hot.columns)"
   ]
  },
  {
   "cell_type": "code",
   "execution_count": 66,
   "id": "6f2d681d-41c9-42c0-b280-149d19c00347",
   "metadata": {},
   "outputs": [
    {
     "data": {
      "text/plain": [
       "PassengerId\n",
       "892     0\n",
       "893     0\n",
       "894     0\n",
       "895     0\n",
       "896     0\n",
       "       ..\n",
       "1305    0\n",
       "1306    0\n",
       "1307    0\n",
       "1308    0\n",
       "1309    0\n",
       "Name: Deck_T, Length: 418, dtype: int64"
      ]
     },
     "execution_count": 66,
     "metadata": {},
     "output_type": "execute_result"
    }
   ],
   "source": [
    "# X_test에 Deck_T라는 컬럼을 새롭게 추가\n",
    "X_test_one_hot['Deck_T'] = 0\n",
    "X_test_one_hot['Deck_T']"
   ]
  },
  {
   "cell_type": "code",
   "execution_count": 67,
   "id": "dad5c5a7-74a8-4a87-a83e-0efe30482e61",
   "metadata": {},
   "outputs": [
    {
     "name": "stdout",
     "output_type": "stream",
     "text": [
      "<class 'pandas.core.frame.DataFrame'>\n",
      "Index: 891 entries, 1 to 891\n",
      "Columns: 1593 entries, Pclass to Family_group_Large\n",
      "dtypes: bool(1586), float64(1), int64(6)\n",
      "memory usage: 1.4 MB\n",
      "<class 'pandas.core.frame.DataFrame'>\n",
      "Index: 418 entries, 892 to 1309\n",
      "Data columns (total 17 columns):\n",
      " #   Column      Non-Null Count  Dtype  \n",
      "---  ------      --------------  -----  \n",
      " 0   Pclass      418 non-null    int64  \n",
      " 1   Age         418 non-null    int64  \n",
      " 2   Fare        418 non-null    float64\n",
      " 3   Sex_female  418 non-null    bool   \n",
      " 4   Sex_male    418 non-null    bool   \n",
      " 5   Embarked_C  418 non-null    bool   \n",
      " 6   Embarked_Q  418 non-null    bool   \n",
      " 7   Embarked_S  418 non-null    bool   \n",
      " 8   Deck_A      418 non-null    bool   \n",
      " 9   Deck_B      418 non-null    bool   \n",
      " 10  Deck_C      418 non-null    bool   \n",
      " 11  Deck_D      418 non-null    bool   \n",
      " 12  Deck_E      418 non-null    bool   \n",
      " 13  Deck_F      418 non-null    bool   \n",
      " 14  Deck_G      418 non-null    bool   \n",
      " 15  Deck_M      418 non-null    bool   \n",
      " 16  Deck_T      418 non-null    int64  \n",
      "dtypes: bool(13), float64(1), int64(3)\n",
      "memory usage: 21.6 KB\n"
     ]
    }
   ],
   "source": [
    "X_train_one_hot.info()\n",
    "X_test_one_hot.info()"
   ]
  },
  {
   "cell_type": "code",
   "execution_count": 68,
   "id": "6788f1f7-412a-413f-9aed-c25d4a4ee29f",
   "metadata": {},
   "outputs": [
    {
     "data": {
      "text/plain": [
       "Index(['Pclass', 'Age', 'SibSp', 'Parch', 'Fare', 'Embarked', 'Family_Size',\n",
       "       'Name_Abbing, Mr. Anthony', 'Name_Abbott, Mr. Rossmore Edward',\n",
       "       'Name_Abbott, Mrs. Stanton (Rosa Hunt)',\n",
       "       ...\n",
       "       'Deck_C', 'Deck_D', 'Deck_E', 'Deck_F', 'Deck_G', 'Deck_M', 'Deck_T',\n",
       "       'Family_group_Alone', 'Family_group_Small', 'Family_group_Large'],\n",
       "      dtype='object', length=1593)"
      ]
     },
     "execution_count": 68,
     "metadata": {},
     "output_type": "execute_result"
    }
   ],
   "source": [
    "X_train_one_hot.columns"
   ]
  },
  {
   "cell_type": "code",
   "execution_count": 89,
   "id": "441b46cc-779d-492a-9ed7-f6f7e4b8e4f9",
   "metadata": {
    "scrolled": true
   },
   "outputs": [],
   "source": [
    "# X_train과 X_test의 컬럼 순서가 다르다\n",
    "# X_train 컬럼의 순서로 맞춰준다\n",
    "\n",
    "# X_test_one_hot[['Pclass' ,'Age', 'Fare']]\n",
    "# 변경 전: X_test_one_hot[X_train_one_hot.columns]\n",
    "# 변경 후:  누락된 컬럼 보완을 위해 test 데이터에 train 컬럼 기준으로 정렬 + 누락 컬럼은 0으로 채움\n",
    "X_test_one_hot_aligned = X_test_one_hot.reindex(columns=X_train_one_hot.columns, fill_value=0)\n"
   ]
  },
  {
   "cell_type": "code",
   "execution_count": 90,
   "id": "bd281daa-4577-48c3-8b40-5b86d6622e3f",
   "metadata": {},
   "outputs": [
    {
     "name": "stdout",
     "output_type": "stream",
     "text": [
      "(891, 1593) (891,)\n",
      "(418, 17)\n"
     ]
    }
   ],
   "source": [
    "print(X_train_one_hot.shape, y_train.shape)\n",
    "print(X_test_one_hot.shape)"
   ]
  },
  {
   "cell_type": "code",
   "execution_count": null,
   "id": "ba0b6e0f-d5c6-416e-8b4a-deec2e6b81da",
   "metadata": {},
   "outputs": [],
   "source": []
  },
  {
   "cell_type": "markdown",
   "id": "eff104ce-8d86-4aa7-b033-6e58830ce503",
   "metadata": {},
   "source": [
    "#### 모델 선택 및 학습"
   ]
  },
  {
   "cell_type": "code",
   "execution_count": 91,
   "id": "4aad220d-3aa0-4dc0-b3e1-6ccbd6deb5b5",
   "metadata": {},
   "outputs": [],
   "source": [
    "# 필요한 라이브러리 가져오기\n",
    "from sklearn.tree import DecisionTreeClassifier\n",
    "# 교차검증\n",
    "from sklearn.model_selection import cross_val_score"
   ]
  },
  {
   "cell_type": "code",
   "execution_count": 92,
   "id": "2d410b27-7101-4b7e-a019-42969f8e4ac9",
   "metadata": {},
   "outputs": [],
   "source": [
    "# 모델 객체 생성\n",
    "tree_model = DecisionTreeClassifier()"
   ]
  },
  {
   "cell_type": "code",
   "execution_count": 93,
   "id": "66f9b8cd-d87b-44f6-afd9-b3f912264c09",
   "metadata": {},
   "outputs": [
    {
     "data": {
      "text/plain": [
       "array([0.81005587, 0.79775281, 0.87078652, 0.82022472, 0.84831461])"
      ]
     },
     "execution_count": 93,
     "metadata": {},
     "output_type": "execute_result"
    }
   ],
   "source": [
    "cv_result = cross_val_score(tree_model, X_train_one_hot, y_train, cv = 5)\n",
    "cv_result"
   ]
  },
  {
   "cell_type": "code",
   "execution_count": 94,
   "id": "b9f05f44-c70b-493b-a28c-904a13a5efba",
   "metadata": {},
   "outputs": [
    {
     "data": {
      "text/plain": [
       "0.8294269035214363"
      ]
     },
     "execution_count": 94,
     "metadata": {},
     "output_type": "execute_result"
    }
   ],
   "source": [
    "cv_result.mean()\n",
    "# 평균적으로 83%의 성능을 내고 있음\n",
    "# test 데이터에서는 조금 더 정확도가 떨어질 수 있다."
   ]
  },
  {
   "cell_type": "markdown",
   "id": "635d7140-b53e-498e-9669-28adb69f31ab",
   "metadata": {},
   "source": [
    "- tree model의 하이퍼 파라미터 조정"
   ]
  },
  {
   "cell_type": "code",
   "execution_count": 119,
   "id": "a0785f8f-04dd-4082-b493-b80f87533263",
   "metadata": {},
   "outputs": [
    {
     "data": {
      "text/plain": [
       "array([0.79329609, 0.80898876, 0.83707865, 0.81460674, 0.83707865])"
      ]
     },
     "execution_count": 119,
     "metadata": {},
     "output_type": "execute_result"
    }
   ],
   "source": [
    "tree_model = DecisionTreeClassifier(max_depth= 9)\n",
    "result = cross_val_score(tree_model, X_train_one_hot, y_train, cv = 5)\n",
    "\n",
    "result"
   ]
  },
  {
   "cell_type": "code",
   "execution_count": 120,
   "id": "7e9bd065-1edb-44c7-be26-896e3edecb38",
   "metadata": {},
   "outputs": [
    {
     "data": {
      "text/plain": [
       "0.8182097796748478"
      ]
     },
     "execution_count": 120,
     "metadata": {},
     "output_type": "execute_result"
    }
   ],
   "source": [
    "result.mean()"
   ]
  },
  {
   "cell_type": "code",
   "execution_count": 121,
   "id": "ba949e9c-3841-4294-a183-b98302925865",
   "metadata": {},
   "outputs": [
    {
     "name": "stdout",
     "output_type": "stream",
     "text": [
      "depth : 1 [0.80446927 0.80337079 0.78651685 0.75280899 0.78651685] 0.7867365513778168\n",
      "depth : 2 [0.74860335 0.79213483 0.78651685 0.75280899 0.78651685] 0.773316176009039\n",
      "depth : 3 [0.81564246 0.81460674 0.80337079 0.79213483 0.79775281] 0.8047015253279769\n",
      "depth : 4 [0.77653631 0.8258427  0.81460674 0.79213483 0.82022472] 0.8058690603226413\n",
      "depth : 5 [0.83240223 0.78089888 0.82022472 0.80337079 0.85393258] 0.8181658401858012\n",
      "depth : 6 [0.82681564 0.80898876 0.8258427  0.79775281 0.84269663] 0.8204193082669009\n",
      "depth : 7 [0.81564246 0.80337079 0.83146067 0.81460674 0.84831461] 0.8226790534178645\n",
      "depth : 8 [0.80446927 0.82022472 0.83707865 0.80898876 0.84269663] 0.8226916075575922\n",
      "depth : 9 [0.81005587 0.82022472 0.84269663 0.81460674 0.83707865] 0.8249325214989642\n"
     ]
    }
   ],
   "source": [
    "# 교차검증을 하면서 하이퍼 파라미터 조정 확인(1~9)\n",
    "for md in range(1, 10):\n",
    "    tree_model = DecisionTreeClassifier(max_depth = md)\n",
    "    result = cross_val_score(tree_model, X_train_one_hot, y_train, cv=5) #cross_val_score는 교차검증\n",
    "    print(f'depth : {md}', result, result.mean()) #mean = 평균"
   ]
  },
  {
   "cell_type": "code",
   "execution_count": 139,
   "id": "416d7c7f-f386-4c9e-88f5-b96f42ba5d38",
   "metadata": {
    "scrolled": true
   },
   "outputs": [],
   "source": [
    "tree_model2 = DecisionTreeClassifier(max_depth=9)\n",
    "\n",
    "#학습\n",
    "tree_model2.fit(X_train_one_hot, y_train)\n",
    "\n",
    "# 예측값\n",
    "pre2 = tree_model2.predict(X_test_one_hot_aligned)\n",
    "\n",
    "# 모델 답안지 작성 - tree_model_(num).csv \n",
    "result2 = pd.read_csv('data/gender_submission.csv')\n",
    "result2['Survived'] = pre2\n",
    "\n",
    "result2.to_csv('data/tree_model_01.csv', index = False)"
   ]
  },
  {
   "cell_type": "code",
   "execution_count": 173,
   "id": "c3493fdc-241d-4e6c-bd44-4d8646a81cd7",
   "metadata": {},
   "outputs": [
    {
     "data": {
      "text/html": [
       "<div>\n",
       "<style scoped>\n",
       "    .dataframe tbody tr th:only-of-type {\n",
       "        vertical-align: middle;\n",
       "    }\n",
       "\n",
       "    .dataframe tbody tr th {\n",
       "        vertical-align: top;\n",
       "    }\n",
       "\n",
       "    .dataframe thead th {\n",
       "        text-align: right;\n",
       "    }\n",
       "</style>\n",
       "<table border=\"1\" class=\"dataframe\">\n",
       "  <thead>\n",
       "    <tr style=\"text-align: right;\">\n",
       "      <th></th>\n",
       "      <th>Pclass</th>\n",
       "      <th>Age</th>\n",
       "      <th>SibSp</th>\n",
       "      <th>Parch</th>\n",
       "      <th>Fare</th>\n",
       "      <th>Embarked</th>\n",
       "      <th>Family_Size</th>\n",
       "      <th>Name_Abbing, Mr. Anthony</th>\n",
       "      <th>Name_Abbott, Mr. Rossmore Edward</th>\n",
       "      <th>Name_Abbott, Mrs. Stanton (Rosa Hunt)</th>\n",
       "      <th>...</th>\n",
       "      <th>Deck_C</th>\n",
       "      <th>Deck_D</th>\n",
       "      <th>Deck_E</th>\n",
       "      <th>Deck_F</th>\n",
       "      <th>Deck_G</th>\n",
       "      <th>Deck_M</th>\n",
       "      <th>Deck_T</th>\n",
       "      <th>Family_group_Alone</th>\n",
       "      <th>Family_group_Small</th>\n",
       "      <th>Family_group_Large</th>\n",
       "    </tr>\n",
       "    <tr>\n",
       "      <th>PassengerId</th>\n",
       "      <th></th>\n",
       "      <th></th>\n",
       "      <th></th>\n",
       "      <th></th>\n",
       "      <th></th>\n",
       "      <th></th>\n",
       "      <th></th>\n",
       "      <th></th>\n",
       "      <th></th>\n",
       "      <th></th>\n",
       "      <th></th>\n",
       "      <th></th>\n",
       "      <th></th>\n",
       "      <th></th>\n",
       "      <th></th>\n",
       "      <th></th>\n",
       "      <th></th>\n",
       "      <th></th>\n",
       "      <th></th>\n",
       "      <th></th>\n",
       "      <th></th>\n",
       "    </tr>\n",
       "  </thead>\n",
       "  <tbody>\n",
       "    <tr>\n",
       "      <th>1</th>\n",
       "      <td>3</td>\n",
       "      <td>22</td>\n",
       "      <td>1</td>\n",
       "      <td>0</td>\n",
       "      <td>7.2500</td>\n",
       "      <td>2</td>\n",
       "      <td>2</td>\n",
       "      <td>False</td>\n",
       "      <td>False</td>\n",
       "      <td>False</td>\n",
       "      <td>...</td>\n",
       "      <td>False</td>\n",
       "      <td>False</td>\n",
       "      <td>False</td>\n",
       "      <td>False</td>\n",
       "      <td>False</td>\n",
       "      <td>True</td>\n",
       "      <td>False</td>\n",
       "      <td>False</td>\n",
       "      <td>True</td>\n",
       "      <td>False</td>\n",
       "    </tr>\n",
       "    <tr>\n",
       "      <th>2</th>\n",
       "      <td>1</td>\n",
       "      <td>38</td>\n",
       "      <td>1</td>\n",
       "      <td>0</td>\n",
       "      <td>71.2833</td>\n",
       "      <td>2</td>\n",
       "      <td>2</td>\n",
       "      <td>False</td>\n",
       "      <td>False</td>\n",
       "      <td>False</td>\n",
       "      <td>...</td>\n",
       "      <td>True</td>\n",
       "      <td>False</td>\n",
       "      <td>False</td>\n",
       "      <td>False</td>\n",
       "      <td>False</td>\n",
       "      <td>False</td>\n",
       "      <td>False</td>\n",
       "      <td>False</td>\n",
       "      <td>True</td>\n",
       "      <td>False</td>\n",
       "    </tr>\n",
       "    <tr>\n",
       "      <th>3</th>\n",
       "      <td>3</td>\n",
       "      <td>26</td>\n",
       "      <td>0</td>\n",
       "      <td>0</td>\n",
       "      <td>7.9250</td>\n",
       "      <td>2</td>\n",
       "      <td>1</td>\n",
       "      <td>False</td>\n",
       "      <td>False</td>\n",
       "      <td>False</td>\n",
       "      <td>...</td>\n",
       "      <td>False</td>\n",
       "      <td>False</td>\n",
       "      <td>False</td>\n",
       "      <td>False</td>\n",
       "      <td>False</td>\n",
       "      <td>True</td>\n",
       "      <td>False</td>\n",
       "      <td>True</td>\n",
       "      <td>False</td>\n",
       "      <td>False</td>\n",
       "    </tr>\n",
       "    <tr>\n",
       "      <th>4</th>\n",
       "      <td>1</td>\n",
       "      <td>35</td>\n",
       "      <td>1</td>\n",
       "      <td>0</td>\n",
       "      <td>53.1000</td>\n",
       "      <td>2</td>\n",
       "      <td>2</td>\n",
       "      <td>False</td>\n",
       "      <td>False</td>\n",
       "      <td>False</td>\n",
       "      <td>...</td>\n",
       "      <td>True</td>\n",
       "      <td>False</td>\n",
       "      <td>False</td>\n",
       "      <td>False</td>\n",
       "      <td>False</td>\n",
       "      <td>False</td>\n",
       "      <td>False</td>\n",
       "      <td>False</td>\n",
       "      <td>True</td>\n",
       "      <td>False</td>\n",
       "    </tr>\n",
       "    <tr>\n",
       "      <th>5</th>\n",
       "      <td>3</td>\n",
       "      <td>35</td>\n",
       "      <td>0</td>\n",
       "      <td>0</td>\n",
       "      <td>8.0500</td>\n",
       "      <td>2</td>\n",
       "      <td>1</td>\n",
       "      <td>False</td>\n",
       "      <td>False</td>\n",
       "      <td>False</td>\n",
       "      <td>...</td>\n",
       "      <td>False</td>\n",
       "      <td>False</td>\n",
       "      <td>False</td>\n",
       "      <td>False</td>\n",
       "      <td>False</td>\n",
       "      <td>True</td>\n",
       "      <td>False</td>\n",
       "      <td>True</td>\n",
       "      <td>False</td>\n",
       "      <td>False</td>\n",
       "    </tr>\n",
       "    <tr>\n",
       "      <th>...</th>\n",
       "      <td>...</td>\n",
       "      <td>...</td>\n",
       "      <td>...</td>\n",
       "      <td>...</td>\n",
       "      <td>...</td>\n",
       "      <td>...</td>\n",
       "      <td>...</td>\n",
       "      <td>...</td>\n",
       "      <td>...</td>\n",
       "      <td>...</td>\n",
       "      <td>...</td>\n",
       "      <td>...</td>\n",
       "      <td>...</td>\n",
       "      <td>...</td>\n",
       "      <td>...</td>\n",
       "      <td>...</td>\n",
       "      <td>...</td>\n",
       "      <td>...</td>\n",
       "      <td>...</td>\n",
       "      <td>...</td>\n",
       "      <td>...</td>\n",
       "    </tr>\n",
       "    <tr>\n",
       "      <th>887</th>\n",
       "      <td>2</td>\n",
       "      <td>27</td>\n",
       "      <td>0</td>\n",
       "      <td>0</td>\n",
       "      <td>13.0000</td>\n",
       "      <td>2</td>\n",
       "      <td>1</td>\n",
       "      <td>False</td>\n",
       "      <td>False</td>\n",
       "      <td>False</td>\n",
       "      <td>...</td>\n",
       "      <td>False</td>\n",
       "      <td>False</td>\n",
       "      <td>False</td>\n",
       "      <td>False</td>\n",
       "      <td>False</td>\n",
       "      <td>True</td>\n",
       "      <td>False</td>\n",
       "      <td>True</td>\n",
       "      <td>False</td>\n",
       "      <td>False</td>\n",
       "    </tr>\n",
       "    <tr>\n",
       "      <th>888</th>\n",
       "      <td>1</td>\n",
       "      <td>19</td>\n",
       "      <td>0</td>\n",
       "      <td>0</td>\n",
       "      <td>30.0000</td>\n",
       "      <td>2</td>\n",
       "      <td>1</td>\n",
       "      <td>False</td>\n",
       "      <td>False</td>\n",
       "      <td>False</td>\n",
       "      <td>...</td>\n",
       "      <td>False</td>\n",
       "      <td>False</td>\n",
       "      <td>False</td>\n",
       "      <td>False</td>\n",
       "      <td>False</td>\n",
       "      <td>False</td>\n",
       "      <td>False</td>\n",
       "      <td>True</td>\n",
       "      <td>False</td>\n",
       "      <td>False</td>\n",
       "    </tr>\n",
       "    <tr>\n",
       "      <th>889</th>\n",
       "      <td>3</td>\n",
       "      <td>21</td>\n",
       "      <td>1</td>\n",
       "      <td>2</td>\n",
       "      <td>23.4500</td>\n",
       "      <td>2</td>\n",
       "      <td>4</td>\n",
       "      <td>False</td>\n",
       "      <td>False</td>\n",
       "      <td>False</td>\n",
       "      <td>...</td>\n",
       "      <td>False</td>\n",
       "      <td>False</td>\n",
       "      <td>False</td>\n",
       "      <td>False</td>\n",
       "      <td>False</td>\n",
       "      <td>True</td>\n",
       "      <td>False</td>\n",
       "      <td>False</td>\n",
       "      <td>True</td>\n",
       "      <td>False</td>\n",
       "    </tr>\n",
       "    <tr>\n",
       "      <th>890</th>\n",
       "      <td>1</td>\n",
       "      <td>26</td>\n",
       "      <td>0</td>\n",
       "      <td>0</td>\n",
       "      <td>30.0000</td>\n",
       "      <td>2</td>\n",
       "      <td>1</td>\n",
       "      <td>False</td>\n",
       "      <td>False</td>\n",
       "      <td>False</td>\n",
       "      <td>...</td>\n",
       "      <td>True</td>\n",
       "      <td>False</td>\n",
       "      <td>False</td>\n",
       "      <td>False</td>\n",
       "      <td>False</td>\n",
       "      <td>False</td>\n",
       "      <td>False</td>\n",
       "      <td>True</td>\n",
       "      <td>False</td>\n",
       "      <td>False</td>\n",
       "    </tr>\n",
       "    <tr>\n",
       "      <th>891</th>\n",
       "      <td>3</td>\n",
       "      <td>32</td>\n",
       "      <td>0</td>\n",
       "      <td>0</td>\n",
       "      <td>7.7500</td>\n",
       "      <td>2</td>\n",
       "      <td>1</td>\n",
       "      <td>False</td>\n",
       "      <td>False</td>\n",
       "      <td>False</td>\n",
       "      <td>...</td>\n",
       "      <td>False</td>\n",
       "      <td>False</td>\n",
       "      <td>False</td>\n",
       "      <td>False</td>\n",
       "      <td>False</td>\n",
       "      <td>True</td>\n",
       "      <td>False</td>\n",
       "      <td>True</td>\n",
       "      <td>False</td>\n",
       "      <td>False</td>\n",
       "    </tr>\n",
       "  </tbody>\n",
       "</table>\n",
       "<p>891 rows × 1593 columns</p>\n",
       "</div>"
      ],
      "text/plain": [
       "             Pclass  Age  SibSp  Parch     Fare  Embarked  Family_Size  \\\n",
       "PassengerId                                                              \n",
       "1                 3   22      1      0   7.2500         2            2   \n",
       "2                 1   38      1      0  71.2833         2            2   \n",
       "3                 3   26      0      0   7.9250         2            1   \n",
       "4                 1   35      1      0  53.1000         2            2   \n",
       "5                 3   35      0      0   8.0500         2            1   \n",
       "...             ...  ...    ...    ...      ...       ...          ...   \n",
       "887               2   27      0      0  13.0000         2            1   \n",
       "888               1   19      0      0  30.0000         2            1   \n",
       "889               3   21      1      2  23.4500         2            4   \n",
       "890               1   26      0      0  30.0000         2            1   \n",
       "891               3   32      0      0   7.7500         2            1   \n",
       "\n",
       "             Name_Abbing, Mr. Anthony  Name_Abbott, Mr. Rossmore Edward  \\\n",
       "PassengerId                                                               \n",
       "1                               False                             False   \n",
       "2                               False                             False   \n",
       "3                               False                             False   \n",
       "4                               False                             False   \n",
       "5                               False                             False   \n",
       "...                               ...                               ...   \n",
       "887                             False                             False   \n",
       "888                             False                             False   \n",
       "889                             False                             False   \n",
       "890                             False                             False   \n",
       "891                             False                             False   \n",
       "\n",
       "             Name_Abbott, Mrs. Stanton (Rosa Hunt)  ...  Deck_C  Deck_D  \\\n",
       "PassengerId                                         ...                   \n",
       "1                                            False  ...   False   False   \n",
       "2                                            False  ...    True   False   \n",
       "3                                            False  ...   False   False   \n",
       "4                                            False  ...    True   False   \n",
       "5                                            False  ...   False   False   \n",
       "...                                            ...  ...     ...     ...   \n",
       "887                                          False  ...   False   False   \n",
       "888                                          False  ...   False   False   \n",
       "889                                          False  ...   False   False   \n",
       "890                                          False  ...    True   False   \n",
       "891                                          False  ...   False   False   \n",
       "\n",
       "             Deck_E  Deck_F  Deck_G  Deck_M  Deck_T  Family_group_Alone  \\\n",
       "PassengerId                                                               \n",
       "1             False   False   False    True   False               False   \n",
       "2             False   False   False   False   False               False   \n",
       "3             False   False   False    True   False                True   \n",
       "4             False   False   False   False   False               False   \n",
       "5             False   False   False    True   False                True   \n",
       "...             ...     ...     ...     ...     ...                 ...   \n",
       "887           False   False   False    True   False                True   \n",
       "888           False   False   False   False   False                True   \n",
       "889           False   False   False    True   False               False   \n",
       "890           False   False   False   False   False                True   \n",
       "891           False   False   False    True   False                True   \n",
       "\n",
       "             Family_group_Small  Family_group_Large  \n",
       "PassengerId                                          \n",
       "1                          True               False  \n",
       "2                          True               False  \n",
       "3                         False               False  \n",
       "4                          True               False  \n",
       "5                         False               False  \n",
       "...                         ...                 ...  \n",
       "887                       False               False  \n",
       "888                       False               False  \n",
       "889                        True               False  \n",
       "890                       False               False  \n",
       "891                       False               False  \n",
       "\n",
       "[891 rows x 1593 columns]"
      ]
     },
     "execution_count": 173,
     "metadata": {},
     "output_type": "execute_result"
    }
   ],
   "source": [
    "X_train_one_hot"
   ]
  },
  {
   "cell_type": "code",
   "execution_count": 174,
   "id": "15faa473-6d29-452a-80b9-d0b8cf756f38",
   "metadata": {},
   "outputs": [
    {
     "data": {
      "text/plain": [
       "array([0.10267343, 0.1020313 , 0.        , ..., 0.0052297 , 0.03525475,\n",
       "       0.        ])"
      ]
     },
     "execution_count": 174,
     "metadata": {},
     "output_type": "execute_result"
    }
   ],
   "source": [
    "#tree_model2가 어떤 특성 중요하게 생각하는지\n",
    "fi = tree_model2.feature_importances_rtances_\n",
    "fi"
   ]
  },
  {
   "cell_type": "code",
   "execution_count": 175,
   "id": "e0a67f43-bcb0-4c0b-8f0d-1f7874c74404",
   "metadata": {
    "scrolled": true
   },
   "outputs": [
    {
     "data": {
      "text/html": [
       "<div>\n",
       "<style scoped>\n",
       "    .dataframe tbody tr th:only-of-type {\n",
       "        vertical-align: middle;\n",
       "    }\n",
       "\n",
       "    .dataframe tbody tr th {\n",
       "        vertical-align: top;\n",
       "    }\n",
       "\n",
       "    .dataframe thead th {\n",
       "        text-align: right;\n",
       "    }\n",
       "</style>\n",
       "<table border=\"1\" class=\"dataframe\">\n",
       "  <thead>\n",
       "    <tr style=\"text-align: right;\">\n",
       "      <th></th>\n",
       "      <th>imp</th>\n",
       "    </tr>\n",
       "  </thead>\n",
       "  <tbody>\n",
       "    <tr>\n",
       "      <th>Pclass</th>\n",
       "      <td>0.102673</td>\n",
       "    </tr>\n",
       "    <tr>\n",
       "      <th>Age</th>\n",
       "      <td>0.102031</td>\n",
       "    </tr>\n",
       "    <tr>\n",
       "      <th>SibSp</th>\n",
       "      <td>0.000000</td>\n",
       "    </tr>\n",
       "    <tr>\n",
       "      <th>Parch</th>\n",
       "      <td>0.000000</td>\n",
       "    </tr>\n",
       "    <tr>\n",
       "      <th>Fare</th>\n",
       "      <td>0.082957</td>\n",
       "    </tr>\n",
       "    <tr>\n",
       "      <th>...</th>\n",
       "      <td>...</td>\n",
       "    </tr>\n",
       "    <tr>\n",
       "      <th>Deck_M</th>\n",
       "      <td>0.046450</td>\n",
       "    </tr>\n",
       "    <tr>\n",
       "      <th>Deck_T</th>\n",
       "      <td>0.000000</td>\n",
       "    </tr>\n",
       "    <tr>\n",
       "      <th>Family_group_Alone</th>\n",
       "      <td>0.005230</td>\n",
       "    </tr>\n",
       "    <tr>\n",
       "      <th>Family_group_Small</th>\n",
       "      <td>0.035255</td>\n",
       "    </tr>\n",
       "    <tr>\n",
       "      <th>Family_group_Large</th>\n",
       "      <td>0.000000</td>\n",
       "    </tr>\n",
       "  </tbody>\n",
       "</table>\n",
       "<p>1593 rows × 1 columns</p>\n",
       "</div>"
      ],
      "text/plain": [
       "                         imp\n",
       "Pclass              0.102673\n",
       "Age                 0.102031\n",
       "SibSp               0.000000\n",
       "Parch               0.000000\n",
       "Fare                0.082957\n",
       "...                      ...\n",
       "Deck_M              0.046450\n",
       "Deck_T              0.000000\n",
       "Family_group_Alone  0.005230\n",
       "Family_group_Small  0.035255\n",
       "Family_group_Large  0.000000\n",
       "\n",
       "[1593 rows x 1 columns]"
      ]
     },
     "execution_count": 175,
     "metadata": {},
     "output_type": "execute_result"
    }
   ],
   "source": [
    "fi_s = pd.DataFrame(fi, index = X_train_one_hot.columns, columns= ['imp'])\n",
    "    \n",
    "fi_s"
   ]
  },
  {
   "cell_type": "code",
   "execution_count": 184,
   "id": "03d4b844-f912-40fa-b8da-eb9c19ed3bef",
   "metadata": {
    "scrolled": true
   },
   "outputs": [
    {
     "data": {
      "text/plain": [
       "<Figure size 500x500 with 0 Axes>"
      ]
     },
     "metadata": {},
     "output_type": "display_data"
    },
    {
     "data": {
      "image/png": "[encoded data removed]",
      "text/plain": [
       "<Figure size 640x480 with 1 Axes>"
      ]
     },
     "metadata": {},
     "output_type": "display_data"
    }
   ],
   "source": [
    "plt.figure(figsize = (5,5))\n",
    "fi_s.sort_values(by='imp', ascending = False).head(7).plot.barh()\n",
    "plt.show()"
   ]
  },
  {
   "cell_type": "markdown",
   "id": "aa6e6768-354b-4dad-9bf1-84affb30f05e",
   "metadata": {},
   "source": [
    "### 앙상블\n",
    "- 여러 모델을 결합하는 방식으로 성능을 올리는 기법\n",
    "1. 보팅(Voting)\n",
    "   - 여러 다른 종류의 모델이 예측한 결과를 투표(분류) 혹은 평균(회귀)을 통해 최종 결정\n",
    "     A. 하드보팅(Hard-Voting) : 다수결\n",
    "     B. 소프트보팅(Soft-Voting) : 확률값을 통한 결정\n",
    "2. 배깅(Bagging)\n",
    "   - 여러 같은 종류의 모델이 예측한 결과를 투표(분류) 혹은 평균(회귀)을 통해 최종 결정\n",
    "     A. RandomForest (Decision Tree를 여러개 사용하는 모델)\n",
    "3. 부스팅(Boosting)\n",
    "   - 여러 모델이 순차적으로 학습-예측하며 잘못 예측한 데이터에 가중치를 부여해 오류를 개선해나가면서 학습하는 방식\n",
    "     - AdaBoost, GradientBoost, eXtremeGradientBoost, LightGradientBoost\n",
    "     - 후속 모델이 이전 모델의 잘못된 예측을 수정하면서 성능이 점점 좋아지는 방식"
   ]
  },
  {
   "cell_type": "code",
   "execution_count": 186,
   "id": "0086d8ae-e6fc-4aa5-b05c-79bbdd0181db",
   "metadata": {},
   "outputs": [],
   "source": [
    "from sklearn.ensemble import VotingClassifier\n",
    "from sklearn.ensemble import RandomForestClassifier\n",
    "from sklearn.ensemble import AdaBoostClassifier\n",
    "from sklearn.ensemble import GradientBoostingClassifier"
   ]
  },
  {
   "cell_type": "markdown",
   "id": "3874ab83-7923-44b5-bfdb-9199ba97227d",
   "metadata": {},
   "source": [
    "### 랜덤포레스트"
   ]
  },
  {
   "cell_type": "code",
   "execution_count": 187,
   "id": "a8ba8c8f-916d-42af-b0fc-9db60690c2b4",
   "metadata": {},
   "outputs": [],
   "source": [
    "forest_model = RandomForestClassifier(n_estimators=100, #트리의 개수\n",
    "                                     max_features= 5,각각의 트리가 선택할 특성개수의 최대\n",
    "                                     max_depth=4,\n",
    "                                     random_state=11)"
   ]
  },
  {
   "cell_type": "code",
   "execution_count": 188,
   "id": "a49a4e8b-c84d-402a-ab16-c40650db5715",
   "metadata": {},
   "outputs": [
    {
     "data": {
      "text/plain": [
       "array([0.79888268, 0.80898876, 0.83707865, 0.81460674, 0.85955056])"
      ]
     },
     "execution_count": 188,
     "metadata": {},
     "output_type": "execute_result"
    }
   ],
   "source": [
    "#랜덤포레스트 모델 교차검증\n",
    "result_RF = cross_val_score(forest_model,\n",
    "                           X_train_one_hot,\n",
    "                           y_train, \n",
    "                           cv=5)\n",
    "\n",
    "result_RF"
   ]
  },
  {
   "cell_type": "code",
   "execution_count": 189,
   "id": "a7a4ce58-3bfd-479d-9fd9-423867a23495",
   "metadata": {},
   "outputs": [
    {
     "data": {
      "text/plain": [
       "0.8238214801330738"
      ]
     },
     "execution_count": 189,
     "metadata": {},
     "output_type": "execute_result"
    }
   ],
   "source": [
    "result_RF.mean()"
   ]
  },
  {
   "cell_type": "code",
   "execution_count": null,
   "id": "6215b025-0b19-4451-90ce-3f8850ffd550",
   "metadata": {},
   "outputs": [],
   "source": []
  },
  {
   "cell_type": "code",
   "execution_count": 190,
   "id": "18f534ec-d11b-44e1-a4fa-a4209178a845",
   "metadata": {},
   "outputs": [],
   "source": [
    "ada_model = AdaBoostClassifier(n_estimators=100, random_state=14)"
   ]
  },
  {
   "cell_type": "code",
   "execution_count": 202,
   "id": "a91b17a7-fd67-4b79-b4ce-a76cd4474908",
   "metadata": {
    "scrolled": true
   },
   "outputs": [
    {
     "name": "stderr",
     "output_type": "stream",
     "text": [
      "C:\\Users\\smhrd1\\anaconda3\\Lib\\site-packages\\sklearn\\ensemble\\_weight_boosting.py:527: FutureWarning: The SAMME.R algorithm (the default) is deprecated and will be removed in 1.6. Use the SAMME algorithm to circumvent this warning.\n",
      "  warnings.warn(\n",
      "C:\\Users\\smhrd1\\anaconda3\\Lib\\site-packages\\sklearn\\ensemble\\_weight_boosting.py:527: FutureWarning: The SAMME.R algorithm (the default) is deprecated and will be removed in 1.6. Use the SAMME algorithm to circumvent this warning.\n",
      "  warnings.warn(\n",
      "C:\\Users\\smhrd1\\anaconda3\\Lib\\site-packages\\sklearn\\ensemble\\_weight_boosting.py:527: FutureWarning: The SAMME.R algorithm (the default) is deprecated and will be removed in 1.6. Use the SAMME algorithm to circumvent this warning.\n",
      "  warnings.warn(\n",
      "C:\\Users\\smhrd1\\anaconda3\\Lib\\site-packages\\sklearn\\ensemble\\_weight_boosting.py:527: FutureWarning: The SAMME.R algorithm (the default) is deprecated and will be removed in 1.6. Use the SAMME algorithm to circumvent this warning.\n",
      "  warnings.warn(\n",
      "C:\\Users\\smhrd1\\anaconda3\\Lib\\site-packages\\sklearn\\ensemble\\_weight_boosting.py:527: FutureWarning: The SAMME.R algorithm (the default) is deprecated and will be removed in 1.6. Use the SAMME algorithm to circumvent this warning.\n",
      "  warnings.warn(\n"
     ]
    },
    {
     "data": {
      "text/plain": [
       "array([0.75977654, 0.80898876, 0.82022472, 0.81460674, 0.83146067])"
      ]
     },
     "execution_count": 202,
     "metadata": {},
     "output_type": "execute_result"
    }
   ],
   "source": [
    "result_ada = cross_val_score(ada_model,\n",
    "                             X_train_one_hot,\n",
    "                             y_train,\n",
    "                             cv = 5)\n",
    "result_ada"
   ]
  },
  {
   "cell_type": "code",
   "execution_count": 204,
   "id": "627a20a0-a4db-4f2d-904e-7f93cc07b103",
   "metadata": {},
   "outputs": [
    {
     "data": {
      "text/html": [
       "<style>#sk-container-id-3 {\n",
       "  /* Definition of color scheme common for light and dark mode */\n",
       "  --sklearn-color-text: black;\n",
       "  --sklearn-color-line: gray;\n",
       "  /* Definition of color scheme for unfitted estimators */\n",
       "  --sklearn-color-unfitted-level-0: #fff5e6;\n",
       "  --sklearn-color-unfitted-level-1: #f6e4d2;\n",
       "  --sklearn-color-unfitted-level-2: #ffe0b3;\n",
       "  --sklearn-color-unfitted-level-3: chocolate;\n",
       "  /* Definition of color scheme for fitted estimators */\n",
       "  --sklearn-color-fitted-level-0: #f0f8ff;\n",
       "  --sklearn-color-fitted-level-1: #d4ebff;\n",
       "  --sklearn-color-fitted-level-2: #b3dbfd;\n",
       "  --sklearn-color-fitted-level-3: cornflowerblue;\n",
       "\n",
       "  /* Specific color for light theme */\n",
       "  --sklearn-color-text-on-default-background: var(--sg-text-color, var(--theme-code-foreground, var(--jp-content-font-color1, black)));\n",
       "  --sklearn-color-background: var(--sg-background-color, var(--theme-background, var(--jp-layout-color0, white)));\n",
       "  --sklearn-color-border-box: var(--sg-text-color, var(--theme-code-foreground, var(--jp-content-font-color1, black)));\n",
       "  --sklearn-color-icon: #696969;\n",
       "\n",
       "  @media (prefers-color-scheme: dark) {\n",
       "    /* Redefinition of color scheme for dark theme */\n",
       "    --sklearn-color-text-on-default-background: var(--sg-text-color, var(--theme-code-foreground, var(--jp-content-font-color1, white)));\n",
       "    --sklearn-color-background: var(--sg-background-color, var(--theme-background, var(--jp-layout-color0, #111)));\n",
       "    --sklearn-color-border-box: var(--sg-text-color, var(--theme-code-foreground, var(--jp-content-font-color1, white)));\n",
       "    --sklearn-color-icon: #878787;\n",
       "  }\n",
       "}\n",
       "\n",
       "#sk-container-id-3 {\n",
       "  color: var(--sklearn-color-text);\n",
       "}\n",
       "\n",
       "#sk-container-id-3 pre {\n",
       "  padding: 0;\n",
       "}\n",
       "\n",
       "#sk-container-id-3 input.sk-hidden--visually {\n",
       "  border: 0;\n",
       "  clip: rect(1px 1px 1px 1px);\n",
       "  clip: rect(1px, 1px, 1px, 1px);\n",
       "  height: 1px;\n",
       "  margin: -1px;\n",
       "  overflow: hidden;\n",
       "  padding: 0;\n",
       "  position: absolute;\n",
       "  width: 1px;\n",
       "}\n",
       "\n",
       "#sk-container-id-3 div.sk-dashed-wrapped {\n",
       "  border: 1px dashed var(--sklearn-color-line);\n",
       "  margin: 0 0.4em 0.5em 0.4em;\n",
       "  box-sizing: border-box;\n",
       "  padding-bottom: 0.4em;\n",
       "  background-color: var(--sklearn-color-background);\n",
       "}\n",
       "\n",
       "#sk-container-id-3 div.sk-container {\n",
       "  /* jupyter's `normalize.less` sets `[hidden] { display: none; }`\n",
       "     but bootstrap.min.css set `[hidden] { display: none !important; }`\n",
       "     so we also need the `!important` here to be able to override the\n",
       "     default hidden behavior on the sphinx rendered scikit-learn.org.\n",
       "     See: https://github.com/scikit-learn/scikit-learn/issues/21755 */\n",
       "  display: inline-block !important;\n",
       "  position: relative;\n",
       "}\n",
       "\n",
       "#sk-container-id-3 div.sk-text-repr-fallback {\n",
       "  display: none;\n",
       "}\n",
       "\n",
       "div.sk-parallel-item,\n",
       "div.sk-serial,\n",
       "div.sk-item {\n",
       "  /* draw centered vertical line to link estimators */\n",
       "  background-image: linear-gradient(var(--sklearn-color-text-on-default-background), var(--sklearn-color-text-on-default-background));\n",
       "  background-size: 2px 100%;\n",
       "  background-repeat: no-repeat;\n",
       "  background-position: center center;\n",
       "}\n",
       "\n",
       "/* Parallel-specific style estimator block */\n",
       "\n",
       "#sk-container-id-3 div.sk-parallel-item::after {\n",
       "  content: \"\";\n",
       "  width: 100%;\n",
       "  border-bottom: 2px solid var(--sklearn-color-text-on-default-background);\n",
       "  flex-grow: 1;\n",
       "}\n",
       "\n",
       "#sk-container-id-3 div.sk-parallel {\n",
       "  display: flex;\n",
       "  align-items: stretch;\n",
       "  justify-content: center;\n",
       "  background-color: var(--sklearn-color-background);\n",
       "  position: relative;\n",
       "}\n",
       "\n",
       "#sk-container-id-3 div.sk-parallel-item {\n",
       "  display: flex;\n",
       "  flex-direction: column;\n",
       "}\n",
       "\n",
       "#sk-container-id-3 div.sk-parallel-item:first-child::after {\n",
       "  align-self: flex-end;\n",
       "  width: 50%;\n",
       "}\n",
       "\n",
       "#sk-container-id-3 div.sk-parallel-item:last-child::after {\n",
       "  align-self: flex-start;\n",
       "  width: 50%;\n",
       "}\n",
       "\n",
       "#sk-container-id-3 div.sk-parallel-item:only-child::after {\n",
       "  width: 0;\n",
       "}\n",
       "\n",
       "/* Serial-specific style estimator block */\n",
       "\n",
       "#sk-container-id-3 div.sk-serial {\n",
       "  display: flex;\n",
       "  flex-direction: column;\n",
       "  align-items: center;\n",
       "  background-color: var(--sklearn-color-background);\n",
       "  padding-right: 1em;\n",
       "  padding-left: 1em;\n",
       "}\n",
       "\n",
       "\n",
       "/* Toggleable style: style used for estimator/Pipeline/ColumnTransformer box that is\n",
       "clickable and can be expanded/collapsed.\n",
       "- Pipeline and ColumnTransformer use this feature and define the default style\n",
       "- Estimators will overwrite some part of the style using the `sk-estimator` class\n",
       "*/\n",
       "\n",
       "/* Pipeline and ColumnTransformer style (default) */\n",
       "\n",
       "#sk-container-id-3 div.sk-toggleable {\n",
       "  /* Default theme specific background. It is overwritten whether we have a\n",
       "  specific estimator or a Pipeline/ColumnTransformer */\n",
       "  background-color: var(--sklearn-color-background);\n",
       "}\n",
       "\n",
       "/* Toggleable label */\n",
       "#sk-container-id-3 label.sk-toggleable__label {\n",
       "  cursor: pointer;\n",
       "  display: block;\n",
       "  width: 100%;\n",
       "  margin-bottom: 0;\n",
       "  padding: 0.5em;\n",
       "  box-sizing: border-box;\n",
       "  text-align: center;\n",
       "}\n",
       "\n",
       "#sk-container-id-3 label.sk-toggleable__label-arrow:before {\n",
       "  /* Arrow on the left of the label */\n",
       "  content: \"▸\";\n",
       "  float: left;\n",
       "  margin-right: 0.25em;\n",
       "  color: var(--sklearn-color-icon);\n",
       "}\n",
       "\n",
       "#sk-container-id-3 label.sk-toggleable__label-arrow:hover:before {\n",
       "  color: var(--sklearn-color-text);\n",
       "}\n",
       "\n",
       "/* Toggleable content - dropdown */\n",
       "\n",
       "#sk-container-id-3 div.sk-toggleable__content {\n",
       "  max-height: 0;\n",
       "  max-width: 0;\n",
       "  overflow: hidden;\n",
       "  text-align: left;\n",
       "  /* unfitted */\n",
       "  background-color: var(--sklearn-color-unfitted-level-0);\n",
       "}\n",
       "\n",
       "#sk-container-id-3 div.sk-toggleable__content.fitted {\n",
       "  /* fitted */\n",
       "  background-color: var(--sklearn-color-fitted-level-0);\n",
       "}\n",
       "\n",
       "#sk-container-id-3 div.sk-toggleable__content pre {\n",
       "  margin: 0.2em;\n",
       "  border-radius: 0.25em;\n",
       "  color: var(--sklearn-color-text);\n",
       "  /* unfitted */\n",
       "  background-color: var(--sklearn-color-unfitted-level-0);\n",
       "}\n",
       "\n",
       "#sk-container-id-3 div.sk-toggleable__content.fitted pre {\n",
       "  /* unfitted */\n",
       "  background-color: var(--sklearn-color-fitted-level-0);\n",
       "}\n",
       "\n",
       "#sk-container-id-3 input.sk-toggleable__control:checked~div.sk-toggleable__content {\n",
       "  /* Expand drop-down */\n",
       "  max-height: 200px;\n",
       "  max-width: 100%;\n",
       "  overflow: auto;\n",
       "}\n",
       "\n",
       "#sk-container-id-3 input.sk-toggleable__control:checked~label.sk-toggleable__label-arrow:before {\n",
       "  content: \"▾\";\n",
       "}\n",
       "\n",
       "/* Pipeline/ColumnTransformer-specific style */\n",
       "\n",
       "#sk-container-id-3 div.sk-label input.sk-toggleable__control:checked~label.sk-toggleable__label {\n",
       "  color: var(--sklearn-color-text);\n",
       "  background-color: var(--sklearn-color-unfitted-level-2);\n",
       "}\n",
       "\n",
       "#sk-container-id-3 div.sk-label.fitted input.sk-toggleable__control:checked~label.sk-toggleable__label {\n",
       "  background-color: var(--sklearn-color-fitted-level-2);\n",
       "}\n",
       "\n",
       "/* Estimator-specific style */\n",
       "\n",
       "/* Colorize estimator box */\n",
       "#sk-container-id-3 div.sk-estimator input.sk-toggleable__control:checked~label.sk-toggleable__label {\n",
       "  /* unfitted */\n",
       "  background-color: var(--sklearn-color-unfitted-level-2);\n",
       "}\n",
       "\n",
       "#sk-container-id-3 div.sk-estimator.fitted input.sk-toggleable__control:checked~label.sk-toggleable__label {\n",
       "  /* fitted */\n",
       "  background-color: var(--sklearn-color-fitted-level-2);\n",
       "}\n",
       "\n",
       "#sk-container-id-3 div.sk-label label.sk-toggleable__label,\n",
       "#sk-container-id-3 div.sk-label label {\n",
       "  /* The background is the default theme color */\n",
       "  color: var(--sklearn-color-text-on-default-background);\n",
       "}\n",
       "\n",
       "/* On hover, darken the color of the background */\n",
       "#sk-container-id-3 div.sk-label:hover label.sk-toggleable__label {\n",
       "  color: var(--sklearn-color-text);\n",
       "  background-color: var(--sklearn-color-unfitted-level-2);\n",
       "}\n",
       "\n",
       "/* Label box, darken color on hover, fitted */\n",
       "#sk-container-id-3 div.sk-label.fitted:hover label.sk-toggleable__label.fitted {\n",
       "  color: var(--sklearn-color-text);\n",
       "  background-color: var(--sklearn-color-fitted-level-2);\n",
       "}\n",
       "\n",
       "/* Estimator label */\n",
       "\n",
       "#sk-container-id-3 div.sk-label label {\n",
       "  font-family: monospace;\n",
       "  font-weight: bold;\n",
       "  display: inline-block;\n",
       "  line-height: 1.2em;\n",
       "}\n",
       "\n",
       "#sk-container-id-3 div.sk-label-container {\n",
       "  text-align: center;\n",
       "}\n",
       "\n",
       "/* Estimator-specific */\n",
       "#sk-container-id-3 div.sk-estimator {\n",
       "  font-family: monospace;\n",
       "  border: 1px dotted var(--sklearn-color-border-box);\n",
       "  border-radius: 0.25em;\n",
       "  box-sizing: border-box;\n",
       "  margin-bottom: 0.5em;\n",
       "  /* unfitted */\n",
       "  background-color: var(--sklearn-color-unfitted-level-0);\n",
       "}\n",
       "\n",
       "#sk-container-id-3 div.sk-estimator.fitted {\n",
       "  /* fitted */\n",
       "  background-color: var(--sklearn-color-fitted-level-0);\n",
       "}\n",
       "\n",
       "/* on hover */\n",
       "#sk-container-id-3 div.sk-estimator:hover {\n",
       "  /* unfitted */\n",
       "  background-color: var(--sklearn-color-unfitted-level-2);\n",
       "}\n",
       "\n",
       "#sk-container-id-3 div.sk-estimator.fitted:hover {\n",
       "  /* fitted */\n",
       "  background-color: var(--sklearn-color-fitted-level-2);\n",
       "}\n",
       "\n",
       "/* Specification for estimator info (e.g. \"i\" and \"?\") */\n",
       "\n",
       "/* Common style for \"i\" and \"?\" */\n",
       "\n",
       ".sk-estimator-doc-link,\n",
       "a:link.sk-estimator-doc-link,\n",
       "a:visited.sk-estimator-doc-link {\n",
       "  float: right;\n",
       "  font-size: smaller;\n",
       "  line-height: 1em;\n",
       "  font-family: monospace;\n",
       "  background-color: var(--sklearn-color-background);\n",
       "  border-radius: 1em;\n",
       "  height: 1em;\n",
       "  width: 1em;\n",
       "  text-decoration: none !important;\n",
       "  margin-left: 1ex;\n",
       "  /* unfitted */\n",
       "  border: var(--sklearn-color-unfitted-level-1) 1pt solid;\n",
       "  color: var(--sklearn-color-unfitted-level-1);\n",
       "}\n",
       "\n",
       ".sk-estimator-doc-link.fitted,\n",
       "a:link.sk-estimator-doc-link.fitted,\n",
       "a:visited.sk-estimator-doc-link.fitted {\n",
       "  /* fitted */\n",
       "  border: var(--sklearn-color-fitted-level-1) 1pt solid;\n",
       "  color: var(--sklearn-color-fitted-level-1);\n",
       "}\n",
       "\n",
       "/* On hover */\n",
       "div.sk-estimator:hover .sk-estimator-doc-link:hover,\n",
       ".sk-estimator-doc-link:hover,\n",
       "div.sk-label-container:hover .sk-estimator-doc-link:hover,\n",
       ".sk-estimator-doc-link:hover {\n",
       "  /* unfitted */\n",
       "  background-color: var(--sklearn-color-unfitted-level-3);\n",
       "  color: var(--sklearn-color-background);\n",
       "  text-decoration: none;\n",
       "}\n",
       "\n",
       "div.sk-estimator.fitted:hover .sk-estimator-doc-link.fitted:hover,\n",
       ".sk-estimator-doc-link.fitted:hover,\n",
       "div.sk-label-container:hover .sk-estimator-doc-link.fitted:hover,\n",
       ".sk-estimator-doc-link.fitted:hover {\n",
       "  /* fitted */\n",
       "  background-color: var(--sklearn-color-fitted-level-3);\n",
       "  color: var(--sklearn-color-background);\n",
       "  text-decoration: none;\n",
       "}\n",
       "\n",
       "/* Span, style for the box shown on hovering the info icon */\n",
       ".sk-estimator-doc-link span {\n",
       "  display: none;\n",
       "  z-index: 9999;\n",
       "  position: relative;\n",
       "  font-weight: normal;\n",
       "  right: .2ex;\n",
       "  padding: .5ex;\n",
       "  margin: .5ex;\n",
       "  width: min-content;\n",
       "  min-width: 20ex;\n",
       "  max-width: 50ex;\n",
       "  color: var(--sklearn-color-text);\n",
       "  box-shadow: 2pt 2pt 4pt #999;\n",
       "  /* unfitted */\n",
       "  background: var(--sklearn-color-unfitted-level-0);\n",
       "  border: .5pt solid var(--sklearn-color-unfitted-level-3);\n",
       "}\n",
       "\n",
       ".sk-estimator-doc-link.fitted span {\n",
       "  /* fitted */\n",
       "  background: var(--sklearn-color-fitted-level-0);\n",
       "  border: var(--sklearn-color-fitted-level-3);\n",
       "}\n",
       "\n",
       ".sk-estimator-doc-link:hover span {\n",
       "  display: block;\n",
       "}\n",
       "\n",
       "/* \"?\"-specific style due to the `<a>` HTML tag */\n",
       "\n",
       "#sk-container-id-3 a.estimator_doc_link {\n",
       "  float: right;\n",
       "  font-size: 1rem;\n",
       "  line-height: 1em;\n",
       "  font-family: monospace;\n",
       "  background-color: var(--sklearn-color-background);\n",
       "  border-radius: 1rem;\n",
       "  height: 1rem;\n",
       "  width: 1rem;\n",
       "  text-decoration: none;\n",
       "  /* unfitted */\n",
       "  color: var(--sklearn-color-unfitted-level-1);\n",
       "  border: var(--sklearn-color-unfitted-level-1) 1pt solid;\n",
       "}\n",
       "\n",
       "#sk-container-id-3 a.estimator_doc_link.fitted {\n",
       "  /* fitted */\n",
       "  border: var(--sklearn-color-fitted-level-1) 1pt solid;\n",
       "  color: var(--sklearn-color-fitted-level-1);\n",
       "}\n",
       "\n",
       "/* On hover */\n",
       "#sk-container-id-3 a.estimator_doc_link:hover {\n",
       "  /* unfitted */\n",
       "  background-color: var(--sklearn-color-unfitted-level-3);\n",
       "  color: var(--sklearn-color-background);\n",
       "  text-decoration: none;\n",
       "}\n",
       "\n",
       "#sk-container-id-3 a.estimator_doc_link.fitted:hover {\n",
       "  /* fitted */\n",
       "  background-color: var(--sklearn-color-fitted-level-3);\n",
       "}\n",
       "</style><div id=\"sk-container-id-3\" class=\"sk-top-container\"><div class=\"sk-text-repr-fallback\"><pre>VotingClassifier(estimators=[(&#x27;tree&#x27;, DecisionTreeClassifier(max_depth=9)),\n",
       "                             (&#x27;forest&#x27;, RandomForestClassifier()),\n",
       "                             (&#x27;ada&#x27;, AdaBoostClassifier())],\n",
       "                 voting=&#x27;soft&#x27;)</pre><b>In a Jupyter environment, please rerun this cell to show the HTML representation or trust the notebook. <br />On GitHub, the HTML representation is unable to render, please try loading this page with nbviewer.org.</b></div><div class=\"sk-container\" hidden><div class=\"sk-item sk-dashed-wrapped\"><div class=\"sk-label-container\"><div class=\"sk-label  sk-toggleable\"><input class=\"sk-toggleable__control sk-hidden--visually\" id=\"sk-estimator-id-3\" type=\"checkbox\" ><label for=\"sk-estimator-id-3\" class=\"sk-toggleable__label  sk-toggleable__label-arrow \">&nbsp;&nbsp;VotingClassifier<a class=\"sk-estimator-doc-link \" rel=\"noreferrer\" target=\"_blank\" href=\"https://scikit-learn.org/1.5/modules/generated/sklearn.ensemble.VotingClassifier.html\">?<span>Documentation for VotingClassifier</span></a><span class=\"sk-estimator-doc-link \">i<span>Not fitted</span></span></label><div class=\"sk-toggleable__content \"><pre>VotingClassifier(estimators=[(&#x27;tree&#x27;, DecisionTreeClassifier(max_depth=9)),\n",
       "                             (&#x27;forest&#x27;, RandomForestClassifier()),\n",
       "                             (&#x27;ada&#x27;, AdaBoostClassifier())],\n",
       "                 voting=&#x27;soft&#x27;)</pre></div> </div></div><div class=\"sk-parallel\"><div class=\"sk-parallel-item\"><div class=\"sk-item\"><div class=\"sk-label-container\"><div class=\"sk-label  sk-toggleable\"><label>tree</label></div></div><div class=\"sk-serial\"><div class=\"sk-item\"><div class=\"sk-estimator  sk-toggleable\"><input class=\"sk-toggleable__control sk-hidden--visually\" id=\"sk-estimator-id-4\" type=\"checkbox\" ><label for=\"sk-estimator-id-4\" class=\"sk-toggleable__label  sk-toggleable__label-arrow \">&nbsp;DecisionTreeClassifier<a class=\"sk-estimator-doc-link \" rel=\"noreferrer\" target=\"_blank\" href=\"https://scikit-learn.org/1.5/modules/generated/sklearn.tree.DecisionTreeClassifier.html\">?<span>Documentation for DecisionTreeClassifier</span></a></label><div class=\"sk-toggleable__content \"><pre>DecisionTreeClassifier(max_depth=9)</pre></div> </div></div></div></div></div><div class=\"sk-parallel-item\"><div class=\"sk-item\"><div class=\"sk-label-container\"><div class=\"sk-label  sk-toggleable\"><label>forest</label></div></div><div class=\"sk-serial\"><div class=\"sk-item\"><div class=\"sk-estimator  sk-toggleable\"><input class=\"sk-toggleable__control sk-hidden--visually\" id=\"sk-estimator-id-5\" type=\"checkbox\" ><label for=\"sk-estimator-id-5\" class=\"sk-toggleable__label  sk-toggleable__label-arrow \">&nbsp;RandomForestClassifier<a class=\"sk-estimator-doc-link \" rel=\"noreferrer\" target=\"_blank\" href=\"https://scikit-learn.org/1.5/modules/generated/sklearn.ensemble.RandomForestClassifier.html\">?<span>Documentation for RandomForestClassifier</span></a></label><div class=\"sk-toggleable__content \"><pre>RandomForestClassifier()</pre></div> </div></div></div></div></div><div class=\"sk-parallel-item\"><div class=\"sk-item\"><div class=\"sk-label-container\"><div class=\"sk-label  sk-toggleable\"><label>ada</label></div></div><div class=\"sk-serial\"><div class=\"sk-item\"><div class=\"sk-estimator  sk-toggleable\"><input class=\"sk-toggleable__control sk-hidden--visually\" id=\"sk-estimator-id-6\" type=\"checkbox\" ><label for=\"sk-estimator-id-6\" class=\"sk-toggleable__label  sk-toggleable__label-arrow \">&nbsp;AdaBoostClassifier<a class=\"sk-estimator-doc-link \" rel=\"noreferrer\" target=\"_blank\" href=\"https://scikit-learn.org/1.5/modules/generated/sklearn.ensemble.AdaBoostClassifier.html\">?<span>Documentation for AdaBoostClassifier</span></a></label><div class=\"sk-toggleable__content \"><pre>AdaBoostClassifier()</pre></div> </div></div></div></div></div></div></div></div></div>"
      ],
      "text/plain": [
       "VotingClassifier(estimators=[('tree', DecisionTreeClassifier(max_depth=9)),\n",
       "                             ('forest', RandomForestClassifier()),\n",
       "                             ('ada', AdaBoostClassifier())],\n",
       "                 voting='soft')"
      ]
     },
     "execution_count": 204,
     "metadata": {},
     "output_type": "execute_result"
    }
   ],
   "source": [
    "voting_model = VotingClassifier(estimators=[('tree', tree_model2), \n",
    "                                            ('forest', forest_model), \n",
    "                                            ('ada', ada_model)],\n",
    "                                            voting='soft')\n",
    "\n",
    "\n",
    "voting_model"
   ]
  },
  {
   "cell_type": "code",
   "execution_count": 205,
   "id": "02486cd9-df75-47d3-a1f2-f4773dd950f6",
   "metadata": {
    "scrolled": true
   },
   "outputs": [
    {
     "name": "stderr",
     "output_type": "stream",
     "text": [
      "C:\\Users\\smhrd1\\anaconda3\\Lib\\site-packages\\sklearn\\ensemble\\_weight_boosting.py:527: FutureWarning: The SAMME.R algorithm (the default) is deprecated and will be removed in 1.6. Use the SAMME algorithm to circumvent this warning.\n",
      "  warnings.warn(\n",
      "C:\\Users\\smhrd1\\anaconda3\\Lib\\site-packages\\sklearn\\ensemble\\_weight_boosting.py:527: FutureWarning: The SAMME.R algorithm (the default) is deprecated and will be removed in 1.6. Use the SAMME algorithm to circumvent this warning.\n",
      "  warnings.warn(\n",
      "C:\\Users\\smhrd1\\anaconda3\\Lib\\site-packages\\sklearn\\ensemble\\_weight_boosting.py:527: FutureWarning: The SAMME.R algorithm (the default) is deprecated and will be removed in 1.6. Use the SAMME algorithm to circumvent this warning.\n",
      "  warnings.warn(\n",
      "C:\\Users\\smhrd1\\anaconda3\\Lib\\site-packages\\sklearn\\ensemble\\_weight_boosting.py:527: FutureWarning: The SAMME.R algorithm (the default) is deprecated and will be removed in 1.6. Use the SAMME algorithm to circumvent this warning.\n",
      "  warnings.warn(\n",
      "C:\\Users\\smhrd1\\anaconda3\\Lib\\site-packages\\sklearn\\ensemble\\_weight_boosting.py:527: FutureWarning: The SAMME.R algorithm (the default) is deprecated and will be removed in 1.6. Use the SAMME algorithm to circumvent this warning.\n",
      "  warnings.warn(\n"
     ]
    }
   ],
   "source": [
    "#교차검증\n",
    "result_voting = cross_val_score(voting_model,\n",
    "                               X_train_one_hot,\n",
    "                               y_train,\n",
    "                               cv = 5)"
   ]
  },
  {
   "cell_type": "code",
   "execution_count": 206,
   "id": "1d1b7031-862c-4613-a478-8948c50592ef",
   "metadata": {},
   "outputs": [
    {
     "data": {
      "text/plain": [
       "0.824938798568828"
      ]
     },
     "execution_count": 206,
     "metadata": {},
     "output_type": "execute_result"
    }
   ],
   "source": [
    "result_voting.mean()"
   ]
  },
  {
   "cell_type": "markdown",
   "id": "7c1ad50e-7fa7-4981-a6ee-918f805edc09",
   "metadata": {},
   "source": [
    "xgboos, lightbm"
   ]
  },
  {
   "cell_type": "code",
   "execution_count": 207,
   "id": "8819adbd-2b91-41e2-8c0f-ac09d99471ed",
   "metadata": {},
   "outputs": [
    {
     "name": "stdout",
     "output_type": "stream",
     "text": [
      "Requirement already satisfied: xgboost in c:\\users\\smhrd1\\anaconda3\\lib\\site-packages (3.0.2)\n",
      "Requirement already satisfied: numpy in c:\\users\\smhrd1\\anaconda3\\lib\\site-packages (from xgboost) (1.26.4)\n",
      "Requirement already satisfied: scipy in c:\\users\\smhrd1\\anaconda3\\lib\\site-packages (from xgboost) (1.13.1)\n"
     ]
    }
   ],
   "source": [
    "#xgboost 설치\n",
    "!pip install xgboost"
   ]
  },
  {
   "cell_type": "code",
   "execution_count": 211,
   "id": "96c20d21-a1fe-4a8f-aa4b-31636cdc1f46",
   "metadata": {},
   "outputs": [
    {
     "name": "stdout",
     "output_type": "stream",
     "text": [
      "Collecting lightgbm\n",
      "  Downloading lightgbm-4.6.0-py3-none-win_amd64.whl.metadata (17 kB)\n",
      "Requirement already satisfied: numpy>=1.17.0 in c:\\users\\smhrd1\\anaconda3\\lib\\site-packages (from lightgbm) (1.26.4)\n",
      "Requirement already satisfied: scipy in c:\\users\\smhrd1\\anaconda3\\lib\\site-packages (from lightgbm) (1.13.1)\n",
      "Downloading lightgbm-4.6.0-py3-none-win_amd64.whl (1.5 MB)\n",
      "   ---------------------------------------- 0.0/1.5 MB ? eta -:--:--\n",
      "   ---------------------------------------- 1.5/1.5 MB 15.2 MB/s eta 0:00:00\n",
      "Installing collected packages: lightgbm\n",
      "Successfully installed lightgbm-4.6.0\n"
     ]
    }
   ],
   "source": [
    "#light gbm 설치\n",
    "! pip install lightgbm"
   ]
  },
  {
   "cell_type": "code",
   "execution_count": 216,
   "id": "d1037bfd-72da-4a80-bbbc-633d48ccafa0",
   "metadata": {},
   "outputs": [],
   "source": [
    "from xgboost import XGBClassifier\n",
    "from lightgbm import LGBMClassifier"
   ]
  },
  {
   "cell_type": "code",
   "execution_count": 217,
   "id": "ad03329f-ed87-4705-8d36-e24bc8f74556",
   "metadata": {},
   "outputs": [],
   "source": [
    "xg_model = XGBClassifier(n_estimators=100, random_state=13)"
   ]
  },
  {
   "cell_type": "code",
   "execution_count": 218,
   "id": "93e2750b-cadd-4998-b0a9-32fbdac52613",
   "metadata": {},
   "outputs": [
    {
     "name": "stdout",
     "output_type": "stream",
     "text": [
      "<class 'pandas.core.series.Series'>\n",
      "Index: 891 entries, 1 to 891\n",
      "Series name: Survived\n",
      "Non-Null Count  Dtype\n",
      "--------------  -----\n",
      "891 non-null    int64\n",
      "dtypes: int64(1)\n",
      "memory usage: 13.9 KB\n"
     ]
    }
   ],
   "source": [
    "y_train.info()"
   ]
  },
  {
   "cell_type": "code",
   "execution_count": 221,
   "id": "b78c271f-5d0f-4111-a732-9f082d7edc96",
   "metadata": {},
   "outputs": [
    {
     "data": {
      "text/plain": [
       "array([0.79888268, 0.79775281, 0.85955056, 0.79213483, 0.84831461])"
      ]
     },
     "execution_count": 221,
     "metadata": {},
     "output_type": "execute_result"
    }
   ],
   "source": [
    "result_xg = cross_val_score(xg_model,\n",
    "                            X_train_one_hot,\n",
    "                            y_train,\n",
    "                            cv=5)\n",
    "result_xg"
   ]
  },
  {
   "cell_type": "code",
   "execution_count": 223,
   "id": "2b6612eb-aa2f-43d3-a6e4-1d76b860f371",
   "metadata": {},
   "outputs": [
    {
     "name": "stdout",
     "output_type": "stream",
     "text": [
      "<class 'pandas.core.series.Series'>\n",
      "Index: 891 entries, 1 to 891\n",
      "Series name: Survived\n",
      "Non-Null Count  Dtype \n",
      "--------------  ----- \n",
      "891 non-null    object\n",
      "dtypes: object(1)\n",
      "memory usage: 13.9+ KB\n"
     ]
    }
   ],
   "source": [
    "y_train = y_train.astype('str')\n",
    "y_train.info()"
   ]
  },
  {
   "cell_type": "code",
   "execution_count": null,
   "id": "cb8944a8-8330-4cc4-a854-d461f13c50b6",
   "metadata": {},
   "outputs": [],
   "source": []
  },
  {
   "cell_type": "markdown",
   "id": "98525edb-cf2e-435e-b1a7-a9144e540073",
   "metadata": {},
   "source": [
    "### LightBGM"
   ]
  },
  {
   "cell_type": "code",
   "execution_count": 232,
   "id": "8f2c5a46-33ee-4cf1-b2b0-8a0395ab79b8",
   "metadata": {},
   "outputs": [],
   "source": [
    "lgb_model = LGBMClassifier(n_estimators=80, random_state=55)"
   ]
  },
  {
   "cell_type": "code",
   "execution_count": 234,
   "id": "35b2b471-658b-468f-8e59-734eb70107dc",
   "metadata": {},
   "outputs": [
    {
     "ename": "ValueError",
     "evalue": "\nAll the 5 fits failed.\nIt is very likely that your model is misconfigured.\nYou can try to debug the error by setting error_score='raise'.\n\nBelow are more details about the failures:\n--------------------------------------------------------------------------------\n5 fits failed with the following error:\nTraceback (most recent call last):\n  File \"C:\\Users\\smhrd1\\anaconda3\\Lib\\site-packages\\sklearn\\model_selection\\_validation.py\", line 888, in _fit_and_score\n    estimator.fit(X_train, y_train, **fit_params)\n  File \"C:\\Users\\smhrd1\\anaconda3\\Lib\\site-packages\\lightgbm\\sklearn.py\", line 1560, in fit\n    super().fit(\n  File \"C:\\Users\\smhrd1\\anaconda3\\Lib\\site-packages\\lightgbm\\sklearn.py\", line 1049, in fit\n    self._Booster = train(\n                    ^^^^^^\n  File \"C:\\Users\\smhrd1\\anaconda3\\Lib\\site-packages\\lightgbm\\engine.py\", line 297, in train\n    booster = Booster(params=params, train_set=train_set)\n              ^^^^^^^^^^^^^^^^^^^^^^^^^^^^^^^^^^^^^^^^^^^\n  File \"C:\\Users\\smhrd1\\anaconda3\\Lib\\site-packages\\lightgbm\\basic.py\", line 3656, in __init__\n    train_set.construct()\n  File \"C:\\Users\\smhrd1\\anaconda3\\Lib\\site-packages\\lightgbm\\basic.py\", line 2590, in construct\n    self._lazy_init(\n  File \"C:\\Users\\smhrd1\\anaconda3\\Lib\\site-packages\\lightgbm\\basic.py\", line 2227, in _lazy_init\n    return self.set_feature_name(feature_name)\n           ^^^^^^^^^^^^^^^^^^^^^^^^^^^^^^^^^^^\n  File \"C:\\Users\\smhrd1\\anaconda3\\Lib\\site-packages\\lightgbm\\basic.py\", line 3046, in set_feature_name\n    _safe_call(\n  File \"C:\\Users\\smhrd1\\anaconda3\\Lib\\site-packages\\lightgbm\\basic.py\", line 313, in _safe_call\n    raise LightGBMError(_LIB.LGBM_GetLastError().decode(\"utf-8\"))\nlightgbm.basic.LightGBMError: Do not support special JSON characters in feature name.\n",
     "output_type": "error",
     "traceback": [
      "\u001b[1;31m---------------------------------------------------------------------------\u001b[0m",
      "\u001b[1;31mValueError\u001b[0m                                Traceback (most recent call last)",
      "Cell \u001b[1;32mIn[234], line 1\u001b[0m\n\u001b[1;32m----> 1\u001b[0m result_lgb \u001b[38;5;241m=\u001b[39m cross_val_score(lgb_model,\n\u001b[0;32m      2\u001b[0m                             X_train_one_hot,\n\u001b[0;32m      3\u001b[0m                             y_train,\n\u001b[0;32m      4\u001b[0m                             cv\u001b[38;5;241m=\u001b[39m\u001b[38;5;241m5\u001b[39m)\n\u001b[0;32m      5\u001b[0m result_lgb\u001b[38;5;241m.\u001b[39mmean()\n",
      "File \u001b[1;32m~\\anaconda3\\Lib\\site-packages\\sklearn\\utils\\_param_validation.py:213\u001b[0m, in \u001b[0;36mvalidate_params.<locals>.decorator.<locals>.wrapper\u001b[1;34m(*args, **kwargs)\u001b[0m\n\u001b[0;32m    207\u001b[0m \u001b[38;5;28;01mtry\u001b[39;00m:\n\u001b[0;32m    208\u001b[0m     \u001b[38;5;28;01mwith\u001b[39;00m config_context(\n\u001b[0;32m    209\u001b[0m         skip_parameter_validation\u001b[38;5;241m=\u001b[39m(\n\u001b[0;32m    210\u001b[0m             prefer_skip_nested_validation \u001b[38;5;129;01mor\u001b[39;00m global_skip_validation\n\u001b[0;32m    211\u001b[0m         )\n\u001b[0;32m    212\u001b[0m     ):\n\u001b[1;32m--> 213\u001b[0m         \u001b[38;5;28;01mreturn\u001b[39;00m func(\u001b[38;5;241m*\u001b[39margs, \u001b[38;5;241m*\u001b[39m\u001b[38;5;241m*\u001b[39mkwargs)\n\u001b[0;32m    214\u001b[0m \u001b[38;5;28;01mexcept\u001b[39;00m InvalidParameterError \u001b[38;5;28;01mas\u001b[39;00m e:\n\u001b[0;32m    215\u001b[0m     \u001b[38;5;66;03m# When the function is just a wrapper around an estimator, we allow\u001b[39;00m\n\u001b[0;32m    216\u001b[0m     \u001b[38;5;66;03m# the function to delegate validation to the estimator, but we replace\u001b[39;00m\n\u001b[0;32m    217\u001b[0m     \u001b[38;5;66;03m# the name of the estimator by the name of the function in the error\u001b[39;00m\n\u001b[0;32m    218\u001b[0m     \u001b[38;5;66;03m# message to avoid confusion.\u001b[39;00m\n\u001b[0;32m    219\u001b[0m     msg \u001b[38;5;241m=\u001b[39m re\u001b[38;5;241m.\u001b[39msub(\n\u001b[0;32m    220\u001b[0m         \u001b[38;5;124mr\u001b[39m\u001b[38;5;124m\"\u001b[39m\u001b[38;5;124mparameter of \u001b[39m\u001b[38;5;124m\\\u001b[39m\u001b[38;5;124mw+ must be\u001b[39m\u001b[38;5;124m\"\u001b[39m,\n\u001b[0;32m    221\u001b[0m         \u001b[38;5;124mf\u001b[39m\u001b[38;5;124m\"\u001b[39m\u001b[38;5;124mparameter of \u001b[39m\u001b[38;5;132;01m{\u001b[39;00mfunc\u001b[38;5;241m.\u001b[39m\u001b[38;5;18m__qualname__\u001b[39m\u001b[38;5;132;01m}\u001b[39;00m\u001b[38;5;124m must be\u001b[39m\u001b[38;5;124m\"\u001b[39m,\n\u001b[0;32m    222\u001b[0m         \u001b[38;5;28mstr\u001b[39m(e),\n\u001b[0;32m    223\u001b[0m     )\n",
      "File \u001b[1;32m~\\anaconda3\\Lib\\site-packages\\sklearn\\model_selection\\_validation.py:712\u001b[0m, in \u001b[0;36mcross_val_score\u001b[1;34m(estimator, X, y, groups, scoring, cv, n_jobs, verbose, fit_params, params, pre_dispatch, error_score)\u001b[0m\n\u001b[0;32m    709\u001b[0m \u001b[38;5;66;03m# To ensure multimetric format is not supported\u001b[39;00m\n\u001b[0;32m    710\u001b[0m scorer \u001b[38;5;241m=\u001b[39m check_scoring(estimator, scoring\u001b[38;5;241m=\u001b[39mscoring)\n\u001b[1;32m--> 712\u001b[0m cv_results \u001b[38;5;241m=\u001b[39m cross_validate(\n\u001b[0;32m    713\u001b[0m     estimator\u001b[38;5;241m=\u001b[39mestimator,\n\u001b[0;32m    714\u001b[0m     X\u001b[38;5;241m=\u001b[39mX,\n\u001b[0;32m    715\u001b[0m     y\u001b[38;5;241m=\u001b[39my,\n\u001b[0;32m    716\u001b[0m     groups\u001b[38;5;241m=\u001b[39mgroups,\n\u001b[0;32m    717\u001b[0m     scoring\u001b[38;5;241m=\u001b[39m{\u001b[38;5;124m\"\u001b[39m\u001b[38;5;124mscore\u001b[39m\u001b[38;5;124m\"\u001b[39m: scorer},\n\u001b[0;32m    718\u001b[0m     cv\u001b[38;5;241m=\u001b[39mcv,\n\u001b[0;32m    719\u001b[0m     n_jobs\u001b[38;5;241m=\u001b[39mn_jobs,\n\u001b[0;32m    720\u001b[0m     verbose\u001b[38;5;241m=\u001b[39mverbose,\n\u001b[0;32m    721\u001b[0m     fit_params\u001b[38;5;241m=\u001b[39mfit_params,\n\u001b[0;32m    722\u001b[0m     params\u001b[38;5;241m=\u001b[39mparams,\n\u001b[0;32m    723\u001b[0m     pre_dispatch\u001b[38;5;241m=\u001b[39mpre_dispatch,\n\u001b[0;32m    724\u001b[0m     error_score\u001b[38;5;241m=\u001b[39merror_score,\n\u001b[0;32m    725\u001b[0m )\n\u001b[0;32m    726\u001b[0m \u001b[38;5;28;01mreturn\u001b[39;00m cv_results[\u001b[38;5;124m\"\u001b[39m\u001b[38;5;124mtest_score\u001b[39m\u001b[38;5;124m\"\u001b[39m]\n",
      "File \u001b[1;32m~\\anaconda3\\Lib\\site-packages\\sklearn\\utils\\_param_validation.py:213\u001b[0m, in \u001b[0;36mvalidate_params.<locals>.decorator.<locals>.wrapper\u001b[1;34m(*args, **kwargs)\u001b[0m\n\u001b[0;32m    207\u001b[0m \u001b[38;5;28;01mtry\u001b[39;00m:\n\u001b[0;32m    208\u001b[0m     \u001b[38;5;28;01mwith\u001b[39;00m config_context(\n\u001b[0;32m    209\u001b[0m         skip_parameter_validation\u001b[38;5;241m=\u001b[39m(\n\u001b[0;32m    210\u001b[0m             prefer_skip_nested_validation \u001b[38;5;129;01mor\u001b[39;00m global_skip_validation\n\u001b[0;32m    211\u001b[0m         )\n\u001b[0;32m    212\u001b[0m     ):\n\u001b[1;32m--> 213\u001b[0m         \u001b[38;5;28;01mreturn\u001b[39;00m func(\u001b[38;5;241m*\u001b[39margs, \u001b[38;5;241m*\u001b[39m\u001b[38;5;241m*\u001b[39mkwargs)\n\u001b[0;32m    214\u001b[0m \u001b[38;5;28;01mexcept\u001b[39;00m InvalidParameterError \u001b[38;5;28;01mas\u001b[39;00m e:\n\u001b[0;32m    215\u001b[0m     \u001b[38;5;66;03m# When the function is just a wrapper around an estimator, we allow\u001b[39;00m\n\u001b[0;32m    216\u001b[0m     \u001b[38;5;66;03m# the function to delegate validation to the estimator, but we replace\u001b[39;00m\n\u001b[0;32m    217\u001b[0m     \u001b[38;5;66;03m# the name of the estimator by the name of the function in the error\u001b[39;00m\n\u001b[0;32m    218\u001b[0m     \u001b[38;5;66;03m# message to avoid confusion.\u001b[39;00m\n\u001b[0;32m    219\u001b[0m     msg \u001b[38;5;241m=\u001b[39m re\u001b[38;5;241m.\u001b[39msub(\n\u001b[0;32m    220\u001b[0m         \u001b[38;5;124mr\u001b[39m\u001b[38;5;124m\"\u001b[39m\u001b[38;5;124mparameter of \u001b[39m\u001b[38;5;124m\\\u001b[39m\u001b[38;5;124mw+ must be\u001b[39m\u001b[38;5;124m\"\u001b[39m,\n\u001b[0;32m    221\u001b[0m         \u001b[38;5;124mf\u001b[39m\u001b[38;5;124m\"\u001b[39m\u001b[38;5;124mparameter of \u001b[39m\u001b[38;5;132;01m{\u001b[39;00mfunc\u001b[38;5;241m.\u001b[39m\u001b[38;5;18m__qualname__\u001b[39m\u001b[38;5;132;01m}\u001b[39;00m\u001b[38;5;124m must be\u001b[39m\u001b[38;5;124m\"\u001b[39m,\n\u001b[0;32m    222\u001b[0m         \u001b[38;5;28mstr\u001b[39m(e),\n\u001b[0;32m    223\u001b[0m     )\n",
      "File \u001b[1;32m~\\anaconda3\\Lib\\site-packages\\sklearn\\model_selection\\_validation.py:443\u001b[0m, in \u001b[0;36mcross_validate\u001b[1;34m(estimator, X, y, groups, scoring, cv, n_jobs, verbose, fit_params, params, pre_dispatch, return_train_score, return_estimator, return_indices, error_score)\u001b[0m\n\u001b[0;32m    422\u001b[0m parallel \u001b[38;5;241m=\u001b[39m Parallel(n_jobs\u001b[38;5;241m=\u001b[39mn_jobs, verbose\u001b[38;5;241m=\u001b[39mverbose, pre_dispatch\u001b[38;5;241m=\u001b[39mpre_dispatch)\n\u001b[0;32m    423\u001b[0m results \u001b[38;5;241m=\u001b[39m parallel(\n\u001b[0;32m    424\u001b[0m     delayed(_fit_and_score)(\n\u001b[0;32m    425\u001b[0m         clone(estimator),\n\u001b[1;32m   (...)\u001b[0m\n\u001b[0;32m    440\u001b[0m     \u001b[38;5;28;01mfor\u001b[39;00m train, test \u001b[38;5;129;01min\u001b[39;00m indices\n\u001b[0;32m    441\u001b[0m )\n\u001b[1;32m--> 443\u001b[0m _warn_or_raise_about_fit_failures(results, error_score)\n\u001b[0;32m    445\u001b[0m \u001b[38;5;66;03m# For callable scoring, the return type is only know after calling. If the\u001b[39;00m\n\u001b[0;32m    446\u001b[0m \u001b[38;5;66;03m# return type is a dictionary, the error scores can now be inserted with\u001b[39;00m\n\u001b[0;32m    447\u001b[0m \u001b[38;5;66;03m# the correct key.\u001b[39;00m\n\u001b[0;32m    448\u001b[0m \u001b[38;5;28;01mif\u001b[39;00m \u001b[38;5;28mcallable\u001b[39m(scoring):\n",
      "File \u001b[1;32m~\\anaconda3\\Lib\\site-packages\\sklearn\\model_selection\\_validation.py:529\u001b[0m, in \u001b[0;36m_warn_or_raise_about_fit_failures\u001b[1;34m(results, error_score)\u001b[0m\n\u001b[0;32m    522\u001b[0m \u001b[38;5;28;01mif\u001b[39;00m num_failed_fits \u001b[38;5;241m==\u001b[39m num_fits:\n\u001b[0;32m    523\u001b[0m     all_fits_failed_message \u001b[38;5;241m=\u001b[39m (\n\u001b[0;32m    524\u001b[0m         \u001b[38;5;124mf\u001b[39m\u001b[38;5;124m\"\u001b[39m\u001b[38;5;130;01m\\n\u001b[39;00m\u001b[38;5;124mAll the \u001b[39m\u001b[38;5;132;01m{\u001b[39;00mnum_fits\u001b[38;5;132;01m}\u001b[39;00m\u001b[38;5;124m fits failed.\u001b[39m\u001b[38;5;130;01m\\n\u001b[39;00m\u001b[38;5;124m\"\u001b[39m\n\u001b[0;32m    525\u001b[0m         \u001b[38;5;124m\"\u001b[39m\u001b[38;5;124mIt is very likely that your model is misconfigured.\u001b[39m\u001b[38;5;130;01m\\n\u001b[39;00m\u001b[38;5;124m\"\u001b[39m\n\u001b[0;32m    526\u001b[0m         \u001b[38;5;124m\"\u001b[39m\u001b[38;5;124mYou can try to debug the error by setting error_score=\u001b[39m\u001b[38;5;124m'\u001b[39m\u001b[38;5;124mraise\u001b[39m\u001b[38;5;124m'\u001b[39m\u001b[38;5;124m.\u001b[39m\u001b[38;5;130;01m\\n\u001b[39;00m\u001b[38;5;130;01m\\n\u001b[39;00m\u001b[38;5;124m\"\u001b[39m\n\u001b[0;32m    527\u001b[0m         \u001b[38;5;124mf\u001b[39m\u001b[38;5;124m\"\u001b[39m\u001b[38;5;124mBelow are more details about the failures:\u001b[39m\u001b[38;5;130;01m\\n\u001b[39;00m\u001b[38;5;132;01m{\u001b[39;00mfit_errors_summary\u001b[38;5;132;01m}\u001b[39;00m\u001b[38;5;124m\"\u001b[39m\n\u001b[0;32m    528\u001b[0m     )\n\u001b[1;32m--> 529\u001b[0m     \u001b[38;5;28;01mraise\u001b[39;00m \u001b[38;5;167;01mValueError\u001b[39;00m(all_fits_failed_message)\n\u001b[0;32m    531\u001b[0m \u001b[38;5;28;01melse\u001b[39;00m:\n\u001b[0;32m    532\u001b[0m     some_fits_failed_message \u001b[38;5;241m=\u001b[39m (\n\u001b[0;32m    533\u001b[0m         \u001b[38;5;124mf\u001b[39m\u001b[38;5;124m\"\u001b[39m\u001b[38;5;130;01m\\n\u001b[39;00m\u001b[38;5;132;01m{\u001b[39;00mnum_failed_fits\u001b[38;5;132;01m}\u001b[39;00m\u001b[38;5;124m fits failed out of a total of \u001b[39m\u001b[38;5;132;01m{\u001b[39;00mnum_fits\u001b[38;5;132;01m}\u001b[39;00m\u001b[38;5;124m.\u001b[39m\u001b[38;5;130;01m\\n\u001b[39;00m\u001b[38;5;124m\"\u001b[39m\n\u001b[0;32m    534\u001b[0m         \u001b[38;5;124m\"\u001b[39m\u001b[38;5;124mThe score on these train-test partitions for these parameters\u001b[39m\u001b[38;5;124m\"\u001b[39m\n\u001b[1;32m   (...)\u001b[0m\n\u001b[0;32m    538\u001b[0m         \u001b[38;5;124mf\u001b[39m\u001b[38;5;124m\"\u001b[39m\u001b[38;5;124mBelow are more details about the failures:\u001b[39m\u001b[38;5;130;01m\\n\u001b[39;00m\u001b[38;5;132;01m{\u001b[39;00mfit_errors_summary\u001b[38;5;132;01m}\u001b[39;00m\u001b[38;5;124m\"\u001b[39m\n\u001b[0;32m    539\u001b[0m     )\n",
      "\u001b[1;31mValueError\u001b[0m: \nAll the 5 fits failed.\nIt is very likely that your model is misconfigured.\nYou can try to debug the error by setting error_score='raise'.\n\nBelow are more details about the failures:\n--------------------------------------------------------------------------------\n5 fits failed with the following error:\nTraceback (most recent call last):\n  File \"C:\\Users\\smhrd1\\anaconda3\\Lib\\site-packages\\sklearn\\model_selection\\_validation.py\", line 888, in _fit_and_score\n    estimator.fit(X_train, y_train, **fit_params)\n  File \"C:\\Users\\smhrd1\\anaconda3\\Lib\\site-packages\\lightgbm\\sklearn.py\", line 1560, in fit\n    super().fit(\n  File \"C:\\Users\\smhrd1\\anaconda3\\Lib\\site-packages\\lightgbm\\sklearn.py\", line 1049, in fit\n    self._Booster = train(\n                    ^^^^^^\n  File \"C:\\Users\\smhrd1\\anaconda3\\Lib\\site-packages\\lightgbm\\engine.py\", line 297, in train\n    booster = Booster(params=params, train_set=train_set)\n              ^^^^^^^^^^^^^^^^^^^^^^^^^^^^^^^^^^^^^^^^^^^\n  File \"C:\\Users\\smhrd1\\anaconda3\\Lib\\site-packages\\lightgbm\\basic.py\", line 3656, in __init__\n    train_set.construct()\n  File \"C:\\Users\\smhrd1\\anaconda3\\Lib\\site-packages\\lightgbm\\basic.py\", line 2590, in construct\n    self._lazy_init(\n  File \"C:\\Users\\smhrd1\\anaconda3\\Lib\\site-packages\\lightgbm\\basic.py\", line 2227, in _lazy_init\n    return self.set_feature_name(feature_name)\n           ^^^^^^^^^^^^^^^^^^^^^^^^^^^^^^^^^^^\n  File \"C:\\Users\\smhrd1\\anaconda3\\Lib\\site-packages\\lightgbm\\basic.py\", line 3046, in set_feature_name\n    _safe_call(\n  File \"C:\\Users\\smhrd1\\anaconda3\\Lib\\site-packages\\lightgbm\\basic.py\", line 313, in _safe_call\n    raise LightGBMError(_LIB.LGBM_GetLastError().decode(\"utf-8\"))\nlightgbm.basic.LightGBMError: Do not support special JSON characters in feature name.\n"
     ]
    }
   ],
   "source": [
    "result_lgb = cross_val_score(lgb_model,\n",
    "                                X_train_one_hot,\n",
    "                            y_train,\n",
    "                            cv=5)\n",
    "result_lgb.mean()"
   ]
  },
  {
   "cell_type": "code",
   "execution_count": null,
   "id": "690c4510-e970-4be8-985a-ecccd260eda7",
   "metadata": {},
   "outputs": [],
   "source": []
  },
  {
   "cell_type": "code",
   "execution_count": null,
   "id": "543803c5-4436-46e9-be7a-06feccf02ceb",
   "metadata": {},
   "outputs": [],
   "source": []
  },
  {
   "cell_type": "code",
   "execution_count": null,
   "id": "5fc65745-2e86-4b7c-afc2-03f618f1aef1",
   "metadata": {},
   "outputs": [],
   "source": []
  }
 ],
 "metadata": {
  "kernelspec": {
   "display_name": "Python 3 (ipykernel)",
   "language": "python",
   "name": "python3"
  },
  "language_info": {
   "codemirror_mode": {
    "name": "ipython",
    "version": 3
   },
   "file_extension": ".py",
   "mimetype": "text/x-python",
   "name": "python",
   "nbconvert_exporter": "python",
   "pygments_lexer": "ipython3",
   "version": "3.12.7"
  }
 },
 "nbformat": 4,
 "nbformat_minor": 5
}
